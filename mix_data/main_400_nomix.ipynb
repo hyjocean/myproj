{
 "cells": [
  {
   "cell_type": "code",
   "execution_count": 1,
   "id": "democratic-sheriff",
   "metadata": {},
   "outputs": [],
   "source": [
    "'''\n",
    "cuda: 1\n",
    "'''\n",
    "import os\n",
    "os.environ[\"MKL_NUM_THREADS\"] = \"2\"\n",
    "os.environ[\"OPENBLAS_NUM_THREADS\"] = \"4\"\n",
    "import math\n",
    "from visdom import Visdom\n",
    "import torch\n",
    "import torch.nn as nn\n",
    "import torch.nn.functional as F\n",
    "from torch.utils.data import DataLoader\n",
    "from tqdm import tqdm\n",
    "import numpy as np\n",
    "import numpy.linalg as la\n",
    "import pandas as pd\n",
    "from utils import *\n",
    "from gen_data_nomix import *\n",
    "from networks import GetFeature, D, TGCN\n",
    "from graph_part.metis_1 import graph_part, get_part_data\n",
    "from sklearn.metrics import mean_squared_error, mean_absolute_error, mean_absolute_percentage_error"
   ]
  },
  {
   "cell_type": "code",
   "execution_count": 2,
   "id": "horizontal-michael",
   "metadata": {},
   "outputs": [],
   "source": [
    "def evaluation(a,b):\n",
    "    rmse = math.sqrt(mean_squared_error(a,b))\n",
    "    mae = mean_absolute_error(a,b)\n",
    "    mape = mean_absolute_percentage_error(a,b)\n",
    "    F_norm = 1-mae/a.mean()\n",
    "    r2 = 1 - ((a-b)**2).sum()/((a-a.mean())**2).sum()\n",
    "    var = 1-(np.var(a-b))/np.var(a)\n",
    "    return rmse, mae, mape, F_norm, r2, var\n",
    "\n",
    "def tgcn_loss(y_pred, y_true):\n",
    "    lambda_loss = 0.0015\n",
    "    Lreg = 0 # 正则化项\n",
    "    for para in net.parameters():\n",
    "        Lreg += torch.sum(para ** 2) / 2\n",
    "    Lreg = lambda_loss * Lreg\n",
    "\n",
    "    regress_loss = torch.sum((y_pred-y_true) ** 2) / 2\n",
    "    return regress_loss + Lreg"
   ]
  },
  {
   "cell_type": "code",
   "execution_count": 3,
   "id": "previous-works",
   "metadata": {},
   "outputs": [
    {
     "name": "stderr",
     "output_type": "stream",
     "text": [
      "Setting up a new session...\n"
     ]
    }
   ],
   "source": [
    "# os.environ['CUDA_VISIBLE_DEVICES']='5'\n",
    "device = torch.device('cuda:1')\n",
    "cwd = os.getcwd()\n",
    "viz = Visdom()\n",
    "# device = torch.device('cuda' if torch.cuda.is_available() else 'cpu')\n",
    "# torch.cuda.set_device(1)\n",
    "#===== para set: =====#\n",
    "epochs = 500\n",
    "load_batch_size = 32\n",
    "seq_len = 12\n",
    "pre_len = 6\n",
    "gru_units = 64\n",
    "src_city = 'bj'\n",
    "tgt_city = 'sh'\n",
    "dt_similar_lambda = 1\n",
    "sub_graph_num = 4\n",
    "min_mape = 100\n",
    "if_norm = 'meanvalue'\n",
    "inv_if_norm = 'inv_'+if_norm\n",
    "tgt_num_days = 10\n",
    "environ='TEST'+str(pre_len*5)+'min_'+str(tgt_num_days)+'DAY_main_400_nomix'"
   ]
  },
  {
   "cell_type": "code",
   "execution_count": 4,
   "id": "individual-ivory",
   "metadata": {},
   "outputs": [],
   "source": [
    "#===== data load: =====# \n",
    "src_speed = CityDataset(city=src_city, typo='speed', seq_len=seq_len, pre_len=pre_len, num_days=tgt_num_days, if_norm=if_norm)\n",
    "src_loader = DataLoader(src_speed, batch_size=load_batch_size, pin_memory=True, num_workers=0, shuffle=True)\n",
    "tgt_speed = CityDataset(city=tgt_city, typo='speed', seq_len=seq_len, pre_len=pre_len, num_days=tgt_num_days, if_norm=if_norm)\n",
    "tgt_loader = DataLoader(tgt_speed, batch_size=load_batch_size, pin_memory=True, num_workers=0, shuffle=True)\n",
    "src_num_nodes, tgt_num_nodes = src_speed.data.shape[2], tgt_speed.data.shape[2]\n",
    "src_adj = pd.read_csv('./src_data/'+src_city+'_adj.csv', header=None).values\n",
    "tgt_adj = pd.read_csv('./src_data/'+tgt_city+'_adj.csv', header=None).values\n",
    "tgt_adj = tgt_adj[:400, :400]\n",
    "tgt_nodes_part, tgt_min_num = graph_part('sh',tgt_adj, sub_graph_num)\n",
    "src_nodes_part, src_min_num = graph_part('bj',src_adj, (src_num_nodes//tgt_min_num)-1)\n",
    "\n",
    "#===== model init: =====#\n",
    "net = TGCN(tgt_min_num, 1, gru_units, seq_len, pre_len).to(device=device)\n",
    "# net = net.double()\n",
    "net.train()\n",
    "set_requires_grad(net, requires_grad=True)"
   ]
  },
  {
   "cell_type": "code",
   "execution_count": 5,
   "id": "fancy-discharge",
   "metadata": {},
   "outputs": [
    {
     "data": {
      "text/plain": [
       "(8910, 2862)"
      ]
     },
     "execution_count": 5,
     "metadata": {},
     "output_type": "execute_result"
    }
   ],
   "source": [
    "src_speed.__len__(), tgt_speed.__len__()"
   ]
  },
  {
   "cell_type": "code",
   "execution_count": 6,
   "id": "polar-office",
   "metadata": {},
   "outputs": [
    {
     "data": {
      "text/plain": [
       "'mapes'"
      ]
     },
     "execution_count": 6,
     "metadata": {},
     "output_type": "execute_result"
    }
   ],
   "source": [
    "# if os.path.exists(cwd+'/pkl/NETS_params.pkl'):\n",
    "#     checkpoint = torch.load(cwd+'/pkl/NETS_params.pkl')\n",
    "#     TranFeatureNet.load_state_dict(checkpoint['TF_model'])\n",
    "#     discriminator.load_state_dict(checkpoint['D'])\n",
    "#     net.load_state_dict(checkpoint['net'])\n",
    "#     min_mape = checkpoint['min_mape']\n",
    "#     print('加载模型成功')\n",
    "\n",
    "#===== optim: =====# \n",
    "optimizer = torch.optim.Adam(net.parameters(),lr=0.001)\n",
    "\n",
    "Train_loss = []\n",
    "Val_loss = []\n",
    "\n",
    "validation_maes = []\n",
    "validation_pred = []\n",
    "validation_mapes = []\n",
    "validation_acc = []\n",
    "validation_r2 = []\n",
    "validation_var = []\n",
    "validation_rmses = []\n",
    "\n",
    "\n",
    "viz.line([0.],[0.],env=environ, win='train_loss',opts=dict(title='train loss'))\n",
    "viz.line([0.],[0.],env=environ, win='val_loss',opts=dict(title='val loss'))\n",
    "viz.line([0.],[0.],env=environ, win='rmses',opts=dict(title='rmses'))\n",
    "viz.line([0.],[0.],env=environ, win='maes',opts=dict(title='maes'))\n",
    "viz.line([0.],[0.],env=environ, win='mapes',opts=dict(title='mapes'))"
   ]
  },
  {
   "cell_type": "code",
   "execution_count": 7,
   "id": "acoustic-phone",
   "metadata": {
    "scrolled": true
   },
   "outputs": [
    {
     "name": "stderr",
     "output_type": "stream",
     "text": [
      "  0%|          | 1/279 [00:00<00:51,  5.44it/s]"
     ]
    },
    {
     "name": "stdout",
     "output_type": "stream",
     "text": [
      "==========EPOCH 000===========\n"
     ]
    },
    {
     "name": "stderr",
     "output_type": "stream",
     "text": [
      "                                                 \r"
     ]
    },
    {
     "name": "stdout",
     "output_type": "stream",
     "text": [
      "Trainning loss=58.2180\n"
     ]
    },
    {
     "name": "stderr",
     "output_type": "stream",
     "text": [
      "  0%|          | 1/279 [00:00<00:34,  7.96it/s]"
     ]
    },
    {
     "name": "stdout",
     "output_type": "stream",
     "text": [
      "VAL: rmse=6.4795, mae=4.5529, mape=0.1421, acc=0.8707, r2_score=0.6592, var_score=0.6611\n",
      "VAL loss=1.5210\n",
      "==========EPOCH 001===========\n"
     ]
    },
    {
     "name": "stderr",
     "output_type": "stream",
     "text": [
      "                                                 \r"
     ]
    },
    {
     "name": "stdout",
     "output_type": "stream",
     "text": [
      "Trainning loss=870.5191\n"
     ]
    },
    {
     "name": "stderr",
     "output_type": "stream",
     "text": [
      "  0%|          | 1/279 [00:00<00:33,  8.29it/s]"
     ]
    },
    {
     "name": "stdout",
     "output_type": "stream",
     "text": [
      "VAL: rmse=6.7298, mae=4.7472, mape=0.1518, acc=0.8652, r2_score=0.6324, var_score=0.6343\n",
      "VAL loss=1.6408\n",
      "==========EPOCH 002===========\n"
     ]
    },
    {
     "name": "stderr",
     "output_type": "stream",
     "text": [
      "                                                 \r"
     ]
    },
    {
     "name": "stdout",
     "output_type": "stream",
     "text": [
      "Trainning loss=4.6305\n"
     ]
    },
    {
     "name": "stderr",
     "output_type": "stream",
     "text": [
      "  0%|          | 1/279 [00:00<00:35,  7.81it/s]"
     ]
    },
    {
     "name": "stdout",
     "output_type": "stream",
     "text": [
      "VAL: rmse=6.5324, mae=4.5815, mape=0.1460, acc=0.8699, r2_score=0.6536, var_score=0.6544\n",
      "VAL loss=1.5459\n",
      "==========EPOCH 003===========\n"
     ]
    },
    {
     "name": "stderr",
     "output_type": "stream",
     "text": [
      "                                                 \r"
     ]
    },
    {
     "name": "stdout",
     "output_type": "stream",
     "text": [
      "Trainning loss=4.4673\n"
     ]
    },
    {
     "name": "stderr",
     "output_type": "stream",
     "text": [
      "  0%|          | 1/279 [00:00<00:33,  8.39it/s]"
     ]
    },
    {
     "name": "stdout",
     "output_type": "stream",
     "text": [
      "VAL: rmse=6.4356, mae=4.4920, mape=0.1420, acc=0.8724, r2_score=0.6638, var_score=0.6638\n",
      "VAL loss=1.5005\n",
      "==========EPOCH 004===========\n"
     ]
    },
    {
     "name": "stderr",
     "output_type": "stream",
     "text": [
      "                                                 \r"
     ]
    },
    {
     "name": "stdout",
     "output_type": "stream",
     "text": [
      "Trainning loss=4.4004\n"
     ]
    },
    {
     "name": "stderr",
     "output_type": "stream",
     "text": [
      "  0%|          | 1/279 [00:00<00:36,  7.67it/s]"
     ]
    },
    {
     "name": "stdout",
     "output_type": "stream",
     "text": [
      "VAL: rmse=6.3914, mae=4.4569, mape=0.1411, acc=0.8734, r2_score=0.6684, var_score=0.6685\n",
      "VAL loss=1.4799\n",
      "==========EPOCH 005===========\n"
     ]
    },
    {
     "name": "stderr",
     "output_type": "stream",
     "text": [
      "                                                 \r"
     ]
    },
    {
     "name": "stdout",
     "output_type": "stream",
     "text": [
      "Trainning loss=4.3832\n"
     ]
    },
    {
     "name": "stderr",
     "output_type": "stream",
     "text": [
      "  0%|          | 1/279 [00:00<00:39,  7.10it/s]"
     ]
    },
    {
     "name": "stdout",
     "output_type": "stream",
     "text": [
      "VAL: rmse=6.3799, mae=4.4422, mape=0.1393, acc=0.8738, r2_score=0.6696, var_score=0.6701\n",
      "VAL loss=1.4746\n",
      "==========EPOCH 006===========\n"
     ]
    },
    {
     "name": "stderr",
     "output_type": "stream",
     "text": [
      "                                                 \r"
     ]
    },
    {
     "name": "stdout",
     "output_type": "stream",
     "text": [
      "Trainning loss=4.8847\n"
     ]
    },
    {
     "name": "stderr",
     "output_type": "stream",
     "text": [
      "  0%|          | 1/279 [00:00<00:32,  8.43it/s]"
     ]
    },
    {
     "name": "stdout",
     "output_type": "stream",
     "text": [
      "VAL: rmse=6.9242, mae=5.0778, mape=0.1618, acc=0.8558, r2_score=0.6109, var_score=0.6120\n",
      "VAL loss=1.7369\n",
      "==========EPOCH 007===========\n"
     ]
    },
    {
     "name": "stderr",
     "output_type": "stream",
     "text": [
      "                                                 \r"
     ]
    },
    {
     "name": "stdout",
     "output_type": "stream",
     "text": [
      "Trainning loss=6.5533\n"
     ]
    },
    {
     "name": "stderr",
     "output_type": "stream",
     "text": [
      "  0%|          | 1/279 [00:00<00:33,  8.26it/s]"
     ]
    },
    {
     "name": "stdout",
     "output_type": "stream",
     "text": [
      "VAL: rmse=6.4997, mae=4.6012, mape=0.1460, acc=0.8693, r2_score=0.6571, var_score=0.6576\n",
      "VAL loss=1.5305\n",
      "==========EPOCH 008===========\n"
     ]
    },
    {
     "name": "stderr",
     "output_type": "stream",
     "text": [
      "                                                 \r"
     ]
    },
    {
     "name": "stdout",
     "output_type": "stream",
     "text": [
      "Trainning loss=8.0814\n"
     ]
    },
    {
     "name": "stderr",
     "output_type": "stream",
     "text": [
      "  0%|          | 1/279 [00:00<00:34,  8.14it/s]"
     ]
    },
    {
     "name": "stdout",
     "output_type": "stream",
     "text": [
      "VAL: rmse=16.3689, mae=13.8596, mape=0.4335, acc=0.6063, r2_score=-1.1748, var_score=-1.1584\n",
      "VAL loss=9.7068\n",
      "==========EPOCH 009===========\n"
     ]
    },
    {
     "name": "stderr",
     "output_type": "stream",
     "text": [
      "                                                 \r"
     ]
    },
    {
     "name": "stdout",
     "output_type": "stream",
     "text": [
      "Trainning loss=10.7518\n"
     ]
    },
    {
     "name": "stderr",
     "output_type": "stream",
     "text": [
      "  0%|          | 1/279 [00:00<00:40,  6.84it/s]"
     ]
    },
    {
     "name": "stdout",
     "output_type": "stream",
     "text": [
      "VAL: rmse=6.6076, mae=4.6647, mape=0.1416, acc=0.8675, r2_score=0.6456, var_score=0.6621\n",
      "VAL loss=1.5818\n",
      "==========EPOCH 010===========\n"
     ]
    },
    {
     "name": "stderr",
     "output_type": "stream",
     "text": [
      "                                                 \r"
     ]
    },
    {
     "name": "stdout",
     "output_type": "stream",
     "text": [
      "Trainning loss=11.5885\n"
     ]
    },
    {
     "name": "stderr",
     "output_type": "stream",
     "text": [
      "  0%|          | 1/279 [00:00<00:39,  7.11it/s]"
     ]
    },
    {
     "name": "stdout",
     "output_type": "stream",
     "text": [
      "VAL: rmse=28.4351, mae=24.9493, mape=0.7827, acc=0.2913, r2_score=-5.5627, var_score=-5.5093\n",
      "VAL loss=29.2919\n",
      "==========EPOCH 011===========\n"
     ]
    },
    {
     "name": "stderr",
     "output_type": "stream",
     "text": [
      "                                                 \r"
     ]
    },
    {
     "name": "stdout",
     "output_type": "stream",
     "text": [
      "Trainning loss=11.5777\n"
     ]
    },
    {
     "name": "stderr",
     "output_type": "stream",
     "text": [
      "  0%|          | 1/279 [00:00<00:33,  8.24it/s]"
     ]
    },
    {
     "name": "stdout",
     "output_type": "stream",
     "text": [
      "VAL: rmse=10.8737, mae=8.7956, mape=0.2778, acc=0.7502, r2_score=0.0403, var_score=0.0527\n",
      "VAL loss=4.2835\n",
      "==========EPOCH 012===========\n"
     ]
    },
    {
     "name": "stderr",
     "output_type": "stream",
     "text": [
      "                                                 \r"
     ]
    },
    {
     "name": "stdout",
     "output_type": "stream",
     "text": [
      "Trainning loss=12.5313\n"
     ]
    },
    {
     "name": "stderr",
     "output_type": "stream",
     "text": [
      "  0%|          | 1/279 [00:00<00:33,  8.34it/s]"
     ]
    },
    {
     "name": "stdout",
     "output_type": "stream",
     "text": [
      "VAL: rmse=13.2789, mae=10.2314, mape=0.3106, acc=0.7094, r2_score=-0.4312, var_score=-0.0878\n",
      "VAL loss=6.3880\n",
      "==========EPOCH 013===========\n"
     ]
    },
    {
     "name": "stderr",
     "output_type": "stream",
     "text": [
      "                                                 \r"
     ]
    },
    {
     "name": "stdout",
     "output_type": "stream",
     "text": [
      "Trainning loss=13.3886\n"
     ]
    },
    {
     "name": "stderr",
     "output_type": "stream",
     "text": [
      "  0%|          | 1/279 [00:00<00:31,  8.82it/s]"
     ]
    },
    {
     "name": "stdout",
     "output_type": "stream",
     "text": [
      "VAL: rmse=15.6064, mae=11.7839, mape=0.3588, acc=0.6653, r2_score=-0.9769, var_score=-0.4134\n",
      "VAL loss=8.8236\n",
      "==========EPOCH 014===========\n"
     ]
    },
    {
     "name": "stderr",
     "output_type": "stream",
     "text": [
      "                                                 \r"
     ]
    },
    {
     "name": "stdout",
     "output_type": "stream",
     "text": [
      "Trainning loss=12.6051\n"
     ]
    },
    {
     "name": "stderr",
     "output_type": "stream",
     "text": [
      "  0%|          | 1/279 [00:00<00:33,  8.39it/s]"
     ]
    },
    {
     "name": "stdout",
     "output_type": "stream",
     "text": [
      "VAL: rmse=10.5837, mae=8.6101, mape=0.2692, acc=0.7554, r2_score=0.0908, var_score=0.0923\n",
      "VAL loss=4.0580\n",
      "==========EPOCH 015===========\n"
     ]
    },
    {
     "name": "stderr",
     "output_type": "stream",
     "text": [
      "                                                 \r"
     ]
    },
    {
     "name": "stdout",
     "output_type": "stream",
     "text": [
      "Trainning loss=13.3808\n"
     ]
    },
    {
     "name": "stderr",
     "output_type": "stream",
     "text": [
      "  0%|          | 1/279 [00:00<00:37,  7.33it/s]"
     ]
    },
    {
     "name": "stdout",
     "output_type": "stream",
     "text": [
      "VAL: rmse=6.7709, mae=4.9301, mape=0.1585, acc=0.8600, r2_score=0.6279, var_score=0.6327\n",
      "VAL loss=1.6609\n",
      "==========EPOCH 016===========\n"
     ]
    },
    {
     "name": "stderr",
     "output_type": "stream",
     "text": [
      "                                                 \r"
     ]
    },
    {
     "name": "stdout",
     "output_type": "stream",
     "text": [
      "Trainning loss=11.1673\n"
     ]
    },
    {
     "name": "stderr",
     "output_type": "stream",
     "text": [
      "  0%|          | 1/279 [00:00<00:43,  6.46it/s]"
     ]
    },
    {
     "name": "stdout",
     "output_type": "stream",
     "text": [
      "VAL: rmse=12.2280, mae=9.2860, mape=0.3025, acc=0.7362, r2_score=-0.2136, var_score=-0.0832\n",
      "VAL loss=5.4169\n",
      "==========EPOCH 017===========\n"
     ]
    },
    {
     "name": "stderr",
     "output_type": "stream",
     "text": [
      "                                                 \r"
     ]
    },
    {
     "name": "stdout",
     "output_type": "stream",
     "text": [
      "Trainning loss=11.5024\n"
     ]
    },
    {
     "name": "stderr",
     "output_type": "stream",
     "text": [
      "  0%|          | 1/279 [00:00<00:43,  6.41it/s]"
     ]
    },
    {
     "name": "stdout",
     "output_type": "stream",
     "text": [
      "VAL: rmse=6.5965, mae=4.7506, mape=0.1532, acc=0.8651, r2_score=0.6468, var_score=0.6512\n",
      "VAL loss=1.5764\n",
      "==========EPOCH 018===========\n"
     ]
    },
    {
     "name": "stderr",
     "output_type": "stream",
     "text": [
      "                                                 \r"
     ]
    },
    {
     "name": "stdout",
     "output_type": "stream",
     "text": [
      "Trainning loss=11.4116\n"
     ]
    },
    {
     "name": "stderr",
     "output_type": "stream",
     "text": [
      "  0%|          | 1/279 [00:00<00:42,  6.52it/s]"
     ]
    },
    {
     "name": "stdout",
     "output_type": "stream",
     "text": [
      "VAL: rmse=15.6806, mae=13.3519, mape=0.4327, acc=0.6207, r2_score=-0.9957, var_score=-0.5862\n",
      "VAL loss=8.9077\n",
      "==========EPOCH 019===========\n"
     ]
    },
    {
     "name": "stderr",
     "output_type": "stream",
     "text": [
      "                                                 \r"
     ]
    },
    {
     "name": "stdout",
     "output_type": "stream",
     "text": [
      "Trainning loss=11.5680\n"
     ]
    },
    {
     "name": "stderr",
     "output_type": "stream",
     "text": [
      "  0%|          | 1/279 [00:00<00:33,  8.19it/s]"
     ]
    },
    {
     "name": "stdout",
     "output_type": "stream",
     "text": [
      "VAL: rmse=6.9360, mae=4.9970, mape=0.1500, acc=0.8581, r2_score=0.6095, var_score=0.6402\n",
      "VAL loss=1.7429\n",
      "==========EPOCH 020===========\n"
     ]
    },
    {
     "name": "stderr",
     "output_type": "stream",
     "text": [
      "                                                 \r"
     ]
    },
    {
     "name": "stdout",
     "output_type": "stream",
     "text": [
      "Trainning loss=10.5268\n"
     ]
    },
    {
     "name": "stderr",
     "output_type": "stream",
     "text": [
      "  0%|          | 1/279 [00:00<00:34,  7.95it/s]"
     ]
    },
    {
     "name": "stdout",
     "output_type": "stream",
     "text": [
      "VAL: rmse=6.8438, mae=5.0480, mape=0.1640, acc=0.8566, r2_score=0.6198, var_score=0.6285\n",
      "VAL loss=1.6968\n",
      "==========EPOCH 021===========\n"
     ]
    },
    {
     "name": "stderr",
     "output_type": "stream",
     "text": [
      "                                                 \r"
     ]
    },
    {
     "name": "stdout",
     "output_type": "stream",
     "text": [
      "Trainning loss=9.5332\n"
     ]
    },
    {
     "name": "stderr",
     "output_type": "stream",
     "text": [
      "  0%|          | 1/279 [00:00<00:33,  8.38it/s]"
     ]
    },
    {
     "name": "stdout",
     "output_type": "stream",
     "text": [
      "VAL: rmse=7.1803, mae=5.4074, mape=0.1742, acc=0.8464, r2_score=0.5815, var_score=0.5856\n",
      "VAL loss=1.8678\n",
      "==========EPOCH 022===========\n"
     ]
    },
    {
     "name": "stderr",
     "output_type": "stream",
     "text": [
      "                                                 \r"
     ]
    },
    {
     "name": "stdout",
     "output_type": "stream",
     "text": [
      "Trainning loss=9.9711\n"
     ]
    },
    {
     "name": "stderr",
     "output_type": "stream",
     "text": [
      "  0%|          | 1/279 [00:00<00:35,  7.75it/s]"
     ]
    },
    {
     "name": "stdout",
     "output_type": "stream",
     "text": [
      "VAL: rmse=7.1460, mae=5.1323, mape=0.1527, acc=0.8542, r2_score=0.5855, var_score=0.6329\n",
      "VAL loss=1.8500\n",
      "==========EPOCH 023===========\n"
     ]
    },
    {
     "name": "stderr",
     "output_type": "stream",
     "text": [
      "                                                 \r"
     ]
    },
    {
     "name": "stdout",
     "output_type": "stream",
     "text": [
      "Trainning loss=9.3725\n"
     ]
    },
    {
     "name": "stderr",
     "output_type": "stream",
     "text": [
      "  0%|          | 1/279 [00:00<00:32,  8.46it/s]"
     ]
    },
    {
     "name": "stdout",
     "output_type": "stream",
     "text": [
      "VAL: rmse=6.6247, mae=4.7656, mape=0.1530, acc=0.8646, r2_score=0.6438, var_score=0.6461\n",
      "VAL loss=1.5899\n",
      "==========EPOCH 024===========\n"
     ]
    },
    {
     "name": "stderr",
     "output_type": "stream",
     "text": [
      "                                                 \r"
     ]
    },
    {
     "name": "stdout",
     "output_type": "stream",
     "text": [
      "Trainning loss=9.4364\n"
     ]
    },
    {
     "name": "stderr",
     "output_type": "stream",
     "text": [
      "  0%|          | 1/279 [00:00<00:36,  7.60it/s]"
     ]
    },
    {
     "name": "stdout",
     "output_type": "stream",
     "text": [
      "VAL: rmse=7.1566, mae=5.2307, mape=0.1605, acc=0.8514, r2_score=0.5843, var_score=0.5979\n",
      "VAL loss=1.8555\n",
      "==========EPOCH 025===========\n"
     ]
    },
    {
     "name": "stderr",
     "output_type": "stream",
     "text": [
      "                                                 \r"
     ]
    },
    {
     "name": "stdout",
     "output_type": "stream",
     "text": [
      "Trainning loss=7.8179\n"
     ]
    },
    {
     "name": "stderr",
     "output_type": "stream",
     "text": [
      "  0%|          | 1/279 [00:00<00:34,  8.07it/s]"
     ]
    },
    {
     "name": "stdout",
     "output_type": "stream",
     "text": [
      "VAL: rmse=7.1155, mae=5.1781, mape=0.1522, acc=0.8529, r2_score=0.5891, var_score=0.6528\n",
      "VAL loss=1.8342\n",
      "==========EPOCH 026===========\n"
     ]
    },
    {
     "name": "stderr",
     "output_type": "stream",
     "text": [
      "                                                 \r"
     ]
    },
    {
     "name": "stdout",
     "output_type": "stream",
     "text": [
      "Trainning loss=8.8815\n"
     ]
    },
    {
     "name": "stderr",
     "output_type": "stream",
     "text": [
      "  0%|          | 1/279 [00:00<00:37,  7.50it/s]"
     ]
    },
    {
     "name": "stdout",
     "output_type": "stream",
     "text": [
      "VAL: rmse=6.9190, mae=4.9958, mape=0.1496, acc=0.8581, r2_score=0.6114, var_score=0.6468\n",
      "VAL loss=1.7343\n",
      "==========EPOCH 027===========\n"
     ]
    },
    {
     "name": "stderr",
     "output_type": "stream",
     "text": [
      "                                                 \r"
     ]
    },
    {
     "name": "stdout",
     "output_type": "stream",
     "text": [
      "Trainning loss=7.1478\n"
     ]
    },
    {
     "name": "stderr",
     "output_type": "stream",
     "text": [
      "  0%|          | 1/279 [00:00<00:33,  8.37it/s]"
     ]
    },
    {
     "name": "stdout",
     "output_type": "stream",
     "text": [
      "VAL: rmse=6.4698, mae=4.5445, mape=0.1414, acc=0.8709, r2_score=0.6603, var_score=0.6633\n",
      "VAL loss=1.5164\n",
      "==========EPOCH 028===========\n"
     ]
    },
    {
     "name": "stderr",
     "output_type": "stream",
     "text": [
      "                                                 \r"
     ]
    },
    {
     "name": "stdout",
     "output_type": "stream",
     "text": [
      "Trainning loss=7.1742\n"
     ]
    },
    {
     "name": "stderr",
     "output_type": "stream",
     "text": [
      "  0%|          | 1/279 [00:00<00:34,  8.02it/s]"
     ]
    },
    {
     "name": "stdout",
     "output_type": "stream",
     "text": [
      "VAL: rmse=9.2102, mae=7.3285, mape=0.2392, acc=0.7918, r2_score=0.3115, var_score=0.3745\n",
      "VAL loss=3.0731\n",
      "==========EPOCH 029===========\n"
     ]
    },
    {
     "name": "stderr",
     "output_type": "stream",
     "text": [
      "                                                 \r"
     ]
    },
    {
     "name": "stdout",
     "output_type": "stream",
     "text": [
      "Trainning loss=6.7263\n"
     ]
    },
    {
     "name": "stderr",
     "output_type": "stream",
     "text": [
      "  0%|          | 1/279 [00:00<00:43,  6.44it/s]"
     ]
    },
    {
     "name": "stdout",
     "output_type": "stream",
     "text": [
      "VAL: rmse=6.8330, mae=4.8923, mape=0.1503, acc=0.8610, r2_score=0.6210, var_score=0.6306\n",
      "VAL loss=1.6915\n",
      "==========EPOCH 030===========\n"
     ]
    },
    {
     "name": "stderr",
     "output_type": "stream",
     "text": [
      "                                                 \r"
     ]
    },
    {
     "name": "stdout",
     "output_type": "stream",
     "text": [
      "Trainning loss=6.5810\n"
     ]
    },
    {
     "name": "stderr",
     "output_type": "stream",
     "text": [
      "  0%|          | 1/279 [00:00<00:40,  6.85it/s]"
     ]
    },
    {
     "name": "stdout",
     "output_type": "stream",
     "text": [
      "VAL: rmse=8.5482, mae=6.8558, mape=0.2150, acc=0.8053, r2_score=0.4069, var_score=0.4105\n",
      "VAL loss=2.6472\n",
      "==========EPOCH 031===========\n"
     ]
    },
    {
     "name": "stderr",
     "output_type": "stream",
     "text": [
      "                                                 \r"
     ]
    },
    {
     "name": "stdout",
     "output_type": "stream",
     "text": [
      "Trainning loss=6.5678\n"
     ]
    },
    {
     "name": "stderr",
     "output_type": "stream",
     "text": [
      "  0%|          | 1/279 [00:00<00:36,  7.58it/s]"
     ]
    },
    {
     "name": "stdout",
     "output_type": "stream",
     "text": [
      "VAL: rmse=7.1286, mae=5.3019, mape=0.1655, acc=0.8494, r2_score=0.5875, var_score=0.5889\n",
      "VAL loss=1.8410\n",
      "==========EPOCH 032===========\n"
     ]
    },
    {
     "name": "stderr",
     "output_type": "stream",
     "text": [
      "                                                 \r"
     ]
    },
    {
     "name": "stdout",
     "output_type": "stream",
     "text": [
      "Trainning loss=5.7152\n"
     ]
    },
    {
     "name": "stderr",
     "output_type": "stream",
     "text": [
      "  0%|          | 1/279 [00:00<00:37,  7.42it/s]"
     ]
    },
    {
     "name": "stdout",
     "output_type": "stream",
     "text": [
      "VAL: rmse=9.4447, mae=7.4070, mape=0.2368, acc=0.7896, r2_score=0.2760, var_score=0.3007\n",
      "VAL loss=3.2316\n",
      "==========EPOCH 033===========\n"
     ]
    },
    {
     "name": "stderr",
     "output_type": "stream",
     "text": [
      "                                                 \r"
     ]
    },
    {
     "name": "stdout",
     "output_type": "stream",
     "text": [
      "Trainning loss=6.0273\n"
     ]
    },
    {
     "name": "stderr",
     "output_type": "stream",
     "text": [
      "  0%|          | 1/279 [00:00<00:33,  8.21it/s]"
     ]
    },
    {
     "name": "stdout",
     "output_type": "stream",
     "text": [
      "VAL: rmse=6.6497, mae=4.7387, mape=0.1453, acc=0.8654, r2_score=0.6411, var_score=0.6500\n",
      "VAL loss=1.6019\n",
      "==========EPOCH 034===========\n"
     ]
    },
    {
     "name": "stderr",
     "output_type": "stream",
     "text": [
      "                                                 \r"
     ]
    },
    {
     "name": "stdout",
     "output_type": "stream",
     "text": [
      "Trainning loss=5.3778\n"
     ]
    },
    {
     "name": "stderr",
     "output_type": "stream",
     "text": [
      "  0%|          | 1/279 [00:00<00:38,  7.16it/s]"
     ]
    },
    {
     "name": "stdout",
     "output_type": "stream",
     "text": [
      "VAL: rmse=7.3425, mae=5.5802, mape=0.1833, acc=0.8415, r2_score=0.5624, var_score=0.5953\n",
      "VAL loss=1.9532\n",
      "==========EPOCH 035===========\n"
     ]
    },
    {
     "name": "stderr",
     "output_type": "stream",
     "text": [
      "                                                 \r"
     ]
    },
    {
     "name": "stdout",
     "output_type": "stream",
     "text": [
      "Trainning loss=5.4739\n"
     ]
    },
    {
     "name": "stderr",
     "output_type": "stream",
     "text": [
      "  0%|          | 1/279 [00:00<00:35,  7.81it/s]"
     ]
    },
    {
     "name": "stdout",
     "output_type": "stream",
     "text": [
      "VAL: rmse=6.6881, mae=4.8316, mape=0.1548, acc=0.8628, r2_score=0.6369, var_score=0.6392\n",
      "VAL loss=1.6205\n",
      "==========EPOCH 036===========\n"
     ]
    },
    {
     "name": "stderr",
     "output_type": "stream",
     "text": [
      "                                                 \r"
     ]
    },
    {
     "name": "stdout",
     "output_type": "stream",
     "text": [
      "Trainning loss=5.2574\n"
     ]
    },
    {
     "name": "stderr",
     "output_type": "stream",
     "text": [
      "  0%|          | 1/279 [00:00<00:35,  7.84it/s]"
     ]
    },
    {
     "name": "stdout",
     "output_type": "stream",
     "text": [
      "VAL: rmse=6.6602, mae=4.7589, mape=0.1452, acc=0.8648, r2_score=0.6400, var_score=0.6528\n",
      "VAL loss=1.6070\n",
      "==========EPOCH 037===========\n"
     ]
    },
    {
     "name": "stderr",
     "output_type": "stream",
     "text": [
      "                                                 \r"
     ]
    },
    {
     "name": "stdout",
     "output_type": "stream",
     "text": [
      "Trainning loss=5.0546\n"
     ]
    },
    {
     "name": "stderr",
     "output_type": "stream",
     "text": [
      "  0%|          | 1/279 [00:00<00:33,  8.31it/s]"
     ]
    },
    {
     "name": "stdout",
     "output_type": "stream",
     "text": [
      "VAL: rmse=7.2811, mae=5.4688, mape=0.1735, acc=0.8447, r2_score=0.5697, var_score=0.5707\n",
      "VAL loss=1.9206\n",
      "==========EPOCH 038===========\n"
     ]
    },
    {
     "name": "stderr",
     "output_type": "stream",
     "text": [
      "                                                 \r"
     ]
    },
    {
     "name": "stdout",
     "output_type": "stream",
     "text": [
      "Trainning loss=4.9303\n"
     ]
    },
    {
     "name": "stderr",
     "output_type": "stream",
     "text": [
      "  0%|          | 1/279 [00:00<00:33,  8.31it/s]"
     ]
    },
    {
     "name": "stdout",
     "output_type": "stream",
     "text": [
      "VAL: rmse=6.6658, mae=4.8033, mape=0.1508, acc=0.8636, r2_score=0.6394, var_score=0.6398\n",
      "VAL loss=1.6097\n",
      "==========EPOCH 039===========\n"
     ]
    },
    {
     "name": "stderr",
     "output_type": "stream",
     "text": [
      "                                                 \r"
     ]
    },
    {
     "name": "stdout",
     "output_type": "stream",
     "text": [
      "Trainning loss=5.0257\n"
     ]
    },
    {
     "name": "stderr",
     "output_type": "stream",
     "text": [
      "  0%|          | 1/279 [00:00<00:35,  7.79it/s]"
     ]
    },
    {
     "name": "stdout",
     "output_type": "stream",
     "text": [
      "VAL: rmse=6.4129, mae=4.5079, mape=0.1417, acc=0.8719, r2_score=0.6662, var_score=0.6666\n",
      "VAL loss=1.4899\n",
      "==========EPOCH 040===========\n"
     ]
    },
    {
     "name": "stderr",
     "output_type": "stream",
     "text": [
      "                                                 \r"
     ]
    },
    {
     "name": "stdout",
     "output_type": "stream",
     "text": [
      "Trainning loss=4.5619\n"
     ]
    },
    {
     "name": "stderr",
     "output_type": "stream",
     "text": [
      "  0%|          | 1/279 [00:00<00:47,  5.86it/s]"
     ]
    },
    {
     "name": "stdout",
     "output_type": "stream",
     "text": [
      "VAL: rmse=6.9488, mae=5.0868, mape=0.1611, acc=0.8555, r2_score=0.6081, var_score=0.6084\n",
      "VAL loss=1.7493\n",
      "==========EPOCH 041===========\n"
     ]
    },
    {
     "name": "stderr",
     "output_type": "stream",
     "text": [
      "                                                 \r"
     ]
    },
    {
     "name": "stdout",
     "output_type": "stream",
     "text": [
      "Trainning loss=4.6497\n"
     ]
    },
    {
     "name": "stderr",
     "output_type": "stream",
     "text": [
      "  0%|          | 1/279 [00:00<00:33,  8.26it/s]"
     ]
    },
    {
     "name": "stdout",
     "output_type": "stream",
     "text": [
      "VAL: rmse=6.5814, mae=4.7146, mape=0.1497, acc=0.8661, r2_score=0.6484, var_score=0.6487\n",
      "VAL loss=1.5692\n",
      "==========EPOCH 042===========\n"
     ]
    },
    {
     "name": "stderr",
     "output_type": "stream",
     "text": [
      "                                                 \r"
     ]
    },
    {
     "name": "stdout",
     "output_type": "stream",
     "text": [
      "Trainning loss=4.5870\n"
     ]
    },
    {
     "name": "stderr",
     "output_type": "stream",
     "text": [
      "  0%|          | 1/279 [00:00<00:34,  8.05it/s]"
     ]
    },
    {
     "name": "stdout",
     "output_type": "stream",
     "text": [
      "VAL: rmse=6.3559, mae=4.4449, mape=0.1394, acc=0.8737, r2_score=0.6721, var_score=0.6730\n",
      "VAL loss=1.4635\n",
      "==========EPOCH 043===========\n"
     ]
    },
    {
     "name": "stderr",
     "output_type": "stream",
     "text": [
      "                                                 \r"
     ]
    },
    {
     "name": "stdout",
     "output_type": "stream",
     "text": [
      "Trainning loss=4.5058\n"
     ]
    },
    {
     "name": "stderr",
     "output_type": "stream",
     "text": [
      "  0%|          | 1/279 [00:00<00:33,  8.30it/s]"
     ]
    },
    {
     "name": "stdout",
     "output_type": "stream",
     "text": [
      "VAL: rmse=6.4243, mae=4.5032, mape=0.1387, acc=0.8721, r2_score=0.6650, var_score=0.6718\n",
      "VAL loss=1.4952\n",
      "==========EPOCH 044===========\n"
     ]
    },
    {
     "name": "stderr",
     "output_type": "stream",
     "text": [
      "                                                 \r"
     ]
    },
    {
     "name": "stdout",
     "output_type": "stream",
     "text": [
      "Trainning loss=4.4670\n"
     ]
    },
    {
     "name": "stderr",
     "output_type": "stream",
     "text": [
      "  0%|          | 1/279 [00:00<00:36,  7.67it/s]"
     ]
    },
    {
     "name": "stdout",
     "output_type": "stream",
     "text": [
      "VAL: rmse=6.4045, mae=4.4890, mape=0.1390, acc=0.8725, r2_score=0.6671, var_score=0.6715\n",
      "VAL loss=1.4860\n",
      "==========EPOCH 045===========\n"
     ]
    },
    {
     "name": "stderr",
     "output_type": "stream",
     "text": [
      "                                                 \r"
     ]
    },
    {
     "name": "stdout",
     "output_type": "stream",
     "text": [
      "Trainning loss=4.4282\n"
     ]
    },
    {
     "name": "stderr",
     "output_type": "stream",
     "text": [
      "  0%|          | 1/279 [00:00<00:33,  8.18it/s]"
     ]
    },
    {
     "name": "stdout",
     "output_type": "stream",
     "text": [
      "VAL: rmse=6.3213, mae=4.4052, mape=0.1374, acc=0.8749, r2_score=0.6757, var_score=0.6776\n",
      "VAL loss=1.4477\n",
      "==========EPOCH 046===========\n"
     ]
    },
    {
     "name": "stderr",
     "output_type": "stream",
     "text": [
      "                                                 \r"
     ]
    },
    {
     "name": "stdout",
     "output_type": "stream",
     "text": [
      "Trainning loss=4.3880\n"
     ]
    },
    {
     "name": "stderr",
     "output_type": "stream",
     "text": [
      "  0%|          | 1/279 [00:00<00:36,  7.63it/s]"
     ]
    },
    {
     "name": "stdout",
     "output_type": "stream",
     "text": [
      "VAL: rmse=6.3396, mae=4.4215, mape=0.1377, acc=0.8744, r2_score=0.6738, var_score=0.6763\n",
      "VAL loss=1.4560\n",
      "==========EPOCH 047===========\n"
     ]
    },
    {
     "name": "stderr",
     "output_type": "stream",
     "text": [
      "                                                 \r"
     ]
    },
    {
     "name": "stdout",
     "output_type": "stream",
     "text": [
      "Trainning loss=4.3627\n"
     ]
    },
    {
     "name": "stderr",
     "output_type": "stream",
     "text": [
      "  0%|          | 1/279 [00:00<00:33,  8.26it/s]"
     ]
    },
    {
     "name": "stdout",
     "output_type": "stream",
     "text": [
      "VAL: rmse=6.3609, mae=4.4352, mape=0.1370, acc=0.8740, r2_score=0.6716, var_score=0.6770\n",
      "VAL loss=1.4658\n",
      "==========EPOCH 048===========\n"
     ]
    },
    {
     "name": "stderr",
     "output_type": "stream",
     "text": [
      "                                                 \r"
     ]
    },
    {
     "name": "stdout",
     "output_type": "stream",
     "text": [
      "Trainning loss=4.3432\n"
     ]
    },
    {
     "name": "stderr",
     "output_type": "stream",
     "text": [
      "  0%|          | 1/279 [00:00<00:35,  7.79it/s]"
     ]
    },
    {
     "name": "stdout",
     "output_type": "stream",
     "text": [
      "VAL: rmse=6.3005, mae=4.3861, mape=0.1373, acc=0.8754, r2_score=0.6778, var_score=0.6789\n",
      "VAL loss=1.4382\n",
      "==========EPOCH 049===========\n"
     ]
    },
    {
     "name": "stderr",
     "output_type": "stream",
     "text": [
      "                                                 \r"
     ]
    },
    {
     "name": "stdout",
     "output_type": "stream",
     "text": [
      "Trainning loss=4.3164\n"
     ]
    },
    {
     "name": "stderr",
     "output_type": "stream",
     "text": [
      "  0%|          | 1/279 [00:00<00:33,  8.41it/s]"
     ]
    },
    {
     "name": "stdout",
     "output_type": "stream",
     "text": [
      "VAL: rmse=6.3043, mae=4.3875, mape=0.1370, acc=0.8754, r2_score=0.6774, var_score=0.6792\n",
      "VAL loss=1.4399\n",
      "==========EPOCH 050===========\n"
     ]
    },
    {
     "name": "stderr",
     "output_type": "stream",
     "text": [
      "                                                 \r"
     ]
    },
    {
     "name": "stdout",
     "output_type": "stream",
     "text": [
      "Trainning loss=4.3023\n"
     ]
    },
    {
     "name": "stderr",
     "output_type": "stream",
     "text": [
      "  0%|          | 1/279 [00:00<00:33,  8.25it/s]"
     ]
    },
    {
     "name": "stdout",
     "output_type": "stream",
     "text": [
      "VAL: rmse=6.3027, mae=4.3882, mape=0.1370, acc=0.8753, r2_score=0.6776, var_score=0.6793\n",
      "VAL loss=1.4392\n",
      "==========EPOCH 051===========\n"
     ]
    },
    {
     "name": "stderr",
     "output_type": "stream",
     "text": [
      "                                                 \r"
     ]
    },
    {
     "name": "stdout",
     "output_type": "stream",
     "text": [
      "Trainning loss=4.2922\n"
     ]
    },
    {
     "name": "stderr",
     "output_type": "stream",
     "text": [
      "  0%|          | 1/279 [00:00<00:33,  8.25it/s]"
     ]
    },
    {
     "name": "stdout",
     "output_type": "stream",
     "text": [
      "VAL: rmse=6.2962, mae=4.3845, mape=0.1371, acc=0.8755, r2_score=0.6782, var_score=0.6796\n",
      "VAL loss=1.4362\n",
      "==========EPOCH 052===========\n"
     ]
    },
    {
     "name": "stderr",
     "output_type": "stream",
     "text": [
      "                                                 \r"
     ]
    },
    {
     "name": "stdout",
     "output_type": "stream",
     "text": [
      "Trainning loss=4.2866\n"
     ]
    },
    {
     "name": "stderr",
     "output_type": "stream",
     "text": [
      "  0%|          | 1/279 [00:00<00:33,  8.18it/s]"
     ]
    },
    {
     "name": "stdout",
     "output_type": "stream",
     "text": [
      "VAL: rmse=6.2576, mae=4.3586, mape=0.1379, acc=0.8762, r2_score=0.6822, var_score=0.6822\n",
      "VAL loss=1.4187\n",
      "==========EPOCH 053===========\n"
     ]
    },
    {
     "name": "stderr",
     "output_type": "stream",
     "text": [
      "                                                 \r"
     ]
    },
    {
     "name": "stdout",
     "output_type": "stream",
     "text": [
      "Trainning loss=4.2769\n"
     ]
    },
    {
     "name": "stderr",
     "output_type": "stream",
     "text": [
      "  0%|          | 1/279 [00:00<00:35,  7.94it/s]"
     ]
    },
    {
     "name": "stdout",
     "output_type": "stream",
     "text": [
      "VAL: rmse=6.2534, mae=4.3618, mape=0.1387, acc=0.8761, r2_score=0.6826, var_score=0.6826\n",
      "VAL loss=1.4167\n",
      "==========EPOCH 054===========\n"
     ]
    },
    {
     "name": "stderr",
     "output_type": "stream",
     "text": [
      "                                                 \r"
     ]
    },
    {
     "name": "stdout",
     "output_type": "stream",
     "text": [
      "Trainning loss=4.2695\n"
     ]
    },
    {
     "name": "stderr",
     "output_type": "stream",
     "text": [
      "  0%|          | 1/279 [00:00<00:38,  7.16it/s]"
     ]
    },
    {
     "name": "stdout",
     "output_type": "stream",
     "text": [
      "VAL: rmse=6.2685, mae=4.3937, mape=0.1409, acc=0.8752, r2_score=0.6811, var_score=0.6821\n",
      "VAL loss=1.4236\n",
      "==========EPOCH 055===========\n"
     ]
    },
    {
     "name": "stderr",
     "output_type": "stream",
     "text": [
      "                                                 \r"
     ]
    },
    {
     "name": "stdout",
     "output_type": "stream",
     "text": [
      "Trainning loss=4.2617\n"
     ]
    },
    {
     "name": "stderr",
     "output_type": "stream",
     "text": [
      "  0%|          | 1/279 [00:00<00:35,  7.81it/s]"
     ]
    },
    {
     "name": "stdout",
     "output_type": "stream",
     "text": [
      "VAL: rmse=6.2542, mae=4.3660, mape=0.1384, acc=0.8760, r2_score=0.6825, var_score=0.6826\n",
      "VAL loss=1.4171\n",
      "==========EPOCH 056===========\n"
     ]
    },
    {
     "name": "stderr",
     "output_type": "stream",
     "text": [
      "                                                 \r"
     ]
    },
    {
     "name": "stdout",
     "output_type": "stream",
     "text": [
      "Trainning loss=4.2515\n"
     ]
    },
    {
     "name": "stderr",
     "output_type": "stream",
     "text": [
      "  0%|          | 1/279 [00:00<00:33,  8.39it/s]"
     ]
    },
    {
     "name": "stdout",
     "output_type": "stream",
     "text": [
      "VAL: rmse=6.2560, mae=4.3741, mape=0.1388, acc=0.8758, r2_score=0.6823, var_score=0.6823\n",
      "VAL loss=1.4179\n",
      "==========EPOCH 057===========\n"
     ]
    },
    {
     "name": "stderr",
     "output_type": "stream",
     "text": [
      "                                                 \r"
     ]
    },
    {
     "name": "stdout",
     "output_type": "stream",
     "text": [
      "Trainning loss=4.2434\n"
     ]
    },
    {
     "name": "stderr",
     "output_type": "stream",
     "text": [
      "  0%|          | 1/279 [00:00<00:32,  8.47it/s]"
     ]
    },
    {
     "name": "stdout",
     "output_type": "stream",
     "text": [
      "VAL: rmse=6.2620, mae=4.3767, mape=0.1383, acc=0.8757, r2_score=0.6817, var_score=0.6822\n",
      "VAL loss=1.4207\n",
      "==========EPOCH 058===========\n"
     ]
    },
    {
     "name": "stderr",
     "output_type": "stream",
     "text": [
      "                                                 \r"
     ]
    },
    {
     "name": "stdout",
     "output_type": "stream",
     "text": [
      "Trainning loss=4.2386\n"
     ]
    },
    {
     "name": "stderr",
     "output_type": "stream",
     "text": [
      "  0%|          | 1/279 [00:00<00:32,  8.59it/s]"
     ]
    },
    {
     "name": "stdout",
     "output_type": "stream",
     "text": [
      "VAL: rmse=6.2484, mae=4.3629, mape=0.1378, acc=0.8761, r2_score=0.6831, var_score=0.6838\n",
      "VAL loss=1.4145\n",
      "==========EPOCH 059===========\n"
     ]
    },
    {
     "name": "stderr",
     "output_type": "stream",
     "text": [
      "                                                 \r"
     ]
    },
    {
     "name": "stdout",
     "output_type": "stream",
     "text": [
      "Trainning loss=4.2284\n"
     ]
    },
    {
     "name": "stderr",
     "output_type": "stream",
     "text": [
      "  0%|          | 1/279 [00:00<00:38,  7.13it/s]"
     ]
    },
    {
     "name": "stdout",
     "output_type": "stream",
     "text": [
      "VAL: rmse=6.2438, mae=4.3631, mape=0.1383, acc=0.8761, r2_score=0.6836, var_score=0.6840\n",
      "VAL loss=1.4124\n",
      "==========EPOCH 060===========\n"
     ]
    },
    {
     "name": "stderr",
     "output_type": "stream",
     "text": [
      "                                                 \r"
     ]
    },
    {
     "name": "stdout",
     "output_type": "stream",
     "text": [
      "Trainning loss=4.2189\n"
     ]
    },
    {
     "name": "stderr",
     "output_type": "stream",
     "text": [
      "  0%|          | 1/279 [00:00<00:34,  7.95it/s]"
     ]
    },
    {
     "name": "stdout",
     "output_type": "stream",
     "text": [
      "VAL: rmse=6.2356, mae=4.3578, mape=0.1385, acc=0.8762, r2_score=0.6844, var_score=0.6846\n",
      "VAL loss=1.4087\n",
      "==========EPOCH 061===========\n"
     ]
    },
    {
     "name": "stderr",
     "output_type": "stream",
     "text": [
      "                                                 \r"
     ]
    },
    {
     "name": "stdout",
     "output_type": "stream",
     "text": [
      "Trainning loss=4.2116\n"
     ]
    },
    {
     "name": "stderr",
     "output_type": "stream",
     "text": [
      "  0%|          | 1/279 [00:00<00:34,  8.17it/s]"
     ]
    },
    {
     "name": "stdout",
     "output_type": "stream",
     "text": [
      "VAL: rmse=6.2334, mae=4.3619, mape=0.1396, acc=0.8761, r2_score=0.6846, var_score=0.6846\n",
      "VAL loss=1.4078\n",
      "==========EPOCH 062===========\n"
     ]
    },
    {
     "name": "stderr",
     "output_type": "stream",
     "text": [
      "                                                 \r"
     ]
    },
    {
     "name": "stdout",
     "output_type": "stream",
     "text": [
      "Trainning loss=4.2052\n"
     ]
    },
    {
     "name": "stderr",
     "output_type": "stream",
     "text": [
      "  0%|          | 1/279 [00:00<00:33,  8.30it/s]"
     ]
    },
    {
     "name": "stdout",
     "output_type": "stream",
     "text": [
      "VAL: rmse=6.2349, mae=4.3596, mape=0.1392, acc=0.8762, r2_score=0.6845, var_score=0.6845\n",
      "VAL loss=1.4084\n",
      "==========EPOCH 063===========\n"
     ]
    },
    {
     "name": "stderr",
     "output_type": "stream",
     "text": [
      "                                                 \r"
     ]
    },
    {
     "name": "stdout",
     "output_type": "stream",
     "text": [
      "Trainning loss=4.2004\n"
     ]
    },
    {
     "name": "stderr",
     "output_type": "stream",
     "text": [
      "  0%|          | 1/279 [00:00<00:32,  8.67it/s]"
     ]
    },
    {
     "name": "stdout",
     "output_type": "stream",
     "text": [
      "VAL: rmse=6.2375, mae=4.3598, mape=0.1391, acc=0.8762, r2_score=0.6842, var_score=0.6842\n",
      "VAL loss=1.4096\n",
      "==========EPOCH 064===========\n"
     ]
    },
    {
     "name": "stderr",
     "output_type": "stream",
     "text": [
      "                                                 \r"
     ]
    },
    {
     "name": "stdout",
     "output_type": "stream",
     "text": [
      "Trainning loss=4.1960\n"
     ]
    },
    {
     "name": "stderr",
     "output_type": "stream",
     "text": [
      "  0%|          | 1/279 [00:00<00:32,  8.43it/s]"
     ]
    },
    {
     "name": "stdout",
     "output_type": "stream",
     "text": [
      "VAL: rmse=6.2411, mae=4.3608, mape=0.1391, acc=0.8761, r2_score=0.6839, var_score=0.6839\n",
      "VAL loss=1.4112\n",
      "==========EPOCH 065===========\n"
     ]
    },
    {
     "name": "stderr",
     "output_type": "stream",
     "text": [
      "                                                 \r"
     ]
    },
    {
     "name": "stdout",
     "output_type": "stream",
     "text": [
      "Trainning loss=4.1919\n"
     ]
    },
    {
     "name": "stderr",
     "output_type": "stream",
     "text": [
      "  0%|          | 1/279 [00:00<00:33,  8.32it/s]"
     ]
    },
    {
     "name": "stdout",
     "output_type": "stream",
     "text": [
      "VAL: rmse=6.2458, mae=4.3620, mape=0.1390, acc=0.8761, r2_score=0.6834, var_score=0.6834\n",
      "VAL loss=1.4133\n",
      "==========EPOCH 066===========\n"
     ]
    },
    {
     "name": "stderr",
     "output_type": "stream",
     "text": [
      "                                                 \r"
     ]
    },
    {
     "name": "stdout",
     "output_type": "stream",
     "text": [
      "Trainning loss=4.1879\n"
     ]
    },
    {
     "name": "stderr",
     "output_type": "stream",
     "text": [
      "  0%|          | 1/279 [00:00<00:35,  7.79it/s]"
     ]
    },
    {
     "name": "stdout",
     "output_type": "stream",
     "text": [
      "VAL: rmse=6.2516, mae=4.3632, mape=0.1389, acc=0.8761, r2_score=0.6828, var_score=0.6828\n",
      "VAL loss=1.4160\n",
      "==========EPOCH 067===========\n"
     ]
    },
    {
     "name": "stderr",
     "output_type": "stream",
     "text": [
      "                                                 \r"
     ]
    },
    {
     "name": "stdout",
     "output_type": "stream",
     "text": [
      "Trainning loss=4.1838\n"
     ]
    },
    {
     "name": "stderr",
     "output_type": "stream",
     "text": [
      "  0%|          | 1/279 [00:00<00:42,  6.58it/s]"
     ]
    },
    {
     "name": "stdout",
     "output_type": "stream",
     "text": [
      "VAL: rmse=6.2584, mae=4.3646, mape=0.1387, acc=0.8760, r2_score=0.6821, var_score=0.6821\n",
      "VAL loss=1.4191\n",
      "==========EPOCH 068===========\n"
     ]
    },
    {
     "name": "stderr",
     "output_type": "stream",
     "text": [
      "                                                 \r"
     ]
    },
    {
     "name": "stdout",
     "output_type": "stream",
     "text": [
      "Trainning loss=4.1794\n"
     ]
    },
    {
     "name": "stderr",
     "output_type": "stream",
     "text": [
      "  0%|          | 1/279 [00:00<00:33,  8.24it/s]"
     ]
    },
    {
     "name": "stdout",
     "output_type": "stream",
     "text": [
      "VAL: rmse=6.2652, mae=4.3662, mape=0.1387, acc=0.8760, r2_score=0.6814, var_score=0.6814\n",
      "VAL loss=1.4222\n",
      "==========EPOCH 069===========\n"
     ]
    },
    {
     "name": "stderr",
     "output_type": "stream",
     "text": [
      "                                                 \r"
     ]
    },
    {
     "name": "stdout",
     "output_type": "stream",
     "text": [
      "Trainning loss=4.1745\n"
     ]
    },
    {
     "name": "stderr",
     "output_type": "stream",
     "text": [
      "  0%|          | 1/279 [00:00<00:36,  7.64it/s]"
     ]
    },
    {
     "name": "stdout",
     "output_type": "stream",
     "text": [
      "VAL: rmse=6.2713, mae=4.3689, mape=0.1388, acc=0.8759, r2_score=0.6808, var_score=0.6808\n",
      "VAL loss=1.4249\n",
      "==========EPOCH 070===========\n"
     ]
    },
    {
     "name": "stderr",
     "output_type": "stream",
     "text": [
      "                                                 \r"
     ]
    },
    {
     "name": "stdout",
     "output_type": "stream",
     "text": [
      "Trainning loss=4.1689\n"
     ]
    },
    {
     "name": "stderr",
     "output_type": "stream",
     "text": [
      "  0%|          | 1/279 [00:00<00:33,  8.29it/s]"
     ]
    },
    {
     "name": "stdout",
     "output_type": "stream",
     "text": [
      "VAL: rmse=6.2771, mae=4.3737, mape=0.1392, acc=0.8758, r2_score=0.6802, var_score=0.6802\n",
      "VAL loss=1.4275\n",
      "==========EPOCH 071===========\n"
     ]
    },
    {
     "name": "stderr",
     "output_type": "stream",
     "text": [
      "                                                 \r"
     ]
    },
    {
     "name": "stdout",
     "output_type": "stream",
     "text": [
      "Trainning loss=4.1624\n"
     ]
    },
    {
     "name": "stderr",
     "output_type": "stream",
     "text": [
      "  0%|          | 1/279 [00:00<00:33,  8.34it/s]"
     ]
    },
    {
     "name": "stdout",
     "output_type": "stream",
     "text": [
      "VAL: rmse=6.2822, mae=4.3787, mape=0.1395, acc=0.8756, r2_score=0.6797, var_score=0.6797\n",
      "VAL loss=1.4299\n",
      "==========EPOCH 072===========\n"
     ]
    },
    {
     "name": "stderr",
     "output_type": "stream",
     "text": [
      "                                                 \r"
     ]
    },
    {
     "name": "stdout",
     "output_type": "stream",
     "text": [
      "Trainning loss=4.1546\n"
     ]
    },
    {
     "name": "stderr",
     "output_type": "stream",
     "text": [
      "  0%|          | 1/279 [00:00<00:33,  8.18it/s]"
     ]
    },
    {
     "name": "stdout",
     "output_type": "stream",
     "text": [
      "VAL: rmse=6.2866, mae=4.3816, mape=0.1396, acc=0.8755, r2_score=0.6792, var_score=0.6793\n",
      "VAL loss=1.4319\n",
      "==========EPOCH 073===========\n"
     ]
    },
    {
     "name": "stderr",
     "output_type": "stream",
     "text": [
      "                                                 \r"
     ]
    },
    {
     "name": "stdout",
     "output_type": "stream",
     "text": [
      "Trainning loss=4.1457\n"
     ]
    },
    {
     "name": "stderr",
     "output_type": "stream",
     "text": [
      "  0%|          | 1/279 [00:00<00:35,  7.85it/s]"
     ]
    },
    {
     "name": "stdout",
     "output_type": "stream",
     "text": [
      "VAL: rmse=6.2919, mae=4.3829, mape=0.1395, acc=0.8755, r2_score=0.6787, var_score=0.6787\n",
      "VAL loss=1.4343\n",
      "==========EPOCH 074===========\n"
     ]
    },
    {
     "name": "stderr",
     "output_type": "stream",
     "text": [
      "                                                 \r"
     ]
    },
    {
     "name": "stdout",
     "output_type": "stream",
     "text": [
      "Trainning loss=4.1362\n"
     ]
    },
    {
     "name": "stderr",
     "output_type": "stream",
     "text": [
      "  0%|          | 1/279 [00:00<00:32,  8.54it/s]"
     ]
    },
    {
     "name": "stdout",
     "output_type": "stream",
     "text": [
      "VAL: rmse=6.2982, mae=4.3843, mape=0.1393, acc=0.8755, r2_score=0.6780, var_score=0.6780\n",
      "VAL loss=1.4372\n",
      "==========EPOCH 075===========\n"
     ]
    },
    {
     "name": "stderr",
     "output_type": "stream",
     "text": [
      "                                                 \r"
     ]
    },
    {
     "name": "stdout",
     "output_type": "stream",
     "text": [
      "Trainning loss=4.1264\n"
     ]
    },
    {
     "name": "stderr",
     "output_type": "stream",
     "text": [
      "  0%|          | 1/279 [00:00<00:41,  6.74it/s]"
     ]
    },
    {
     "name": "stdout",
     "output_type": "stream",
     "text": [
      "VAL: rmse=6.3030, mae=4.3871, mape=0.1393, acc=0.8754, r2_score=0.6775, var_score=0.6776\n",
      "VAL loss=1.4394\n",
      "==========EPOCH 076===========\n"
     ]
    },
    {
     "name": "stderr",
     "output_type": "stream",
     "text": [
      "                                                 \r"
     ]
    },
    {
     "name": "stdout",
     "output_type": "stream",
     "text": [
      "Trainning loss=4.1158\n"
     ]
    },
    {
     "name": "stderr",
     "output_type": "stream",
     "text": [
      "  0%|          | 1/279 [00:00<00:35,  7.77it/s]"
     ]
    },
    {
     "name": "stdout",
     "output_type": "stream",
     "text": [
      "VAL: rmse=6.3048, mae=4.3890, mape=0.1393, acc=0.8753, r2_score=0.6774, var_score=0.6774\n",
      "VAL loss=1.4402\n",
      "==========EPOCH 077===========\n"
     ]
    },
    {
     "name": "stderr",
     "output_type": "stream",
     "text": [
      "                                                 \r"
     ]
    },
    {
     "name": "stdout",
     "output_type": "stream",
     "text": [
      "Trainning loss=4.1042\n"
     ]
    },
    {
     "name": "stderr",
     "output_type": "stream",
     "text": [
      "  0%|          | 1/279 [00:00<00:35,  7.75it/s]"
     ]
    },
    {
     "name": "stdout",
     "output_type": "stream",
     "text": [
      "VAL: rmse=6.3043, mae=4.3902, mape=0.1393, acc=0.8753, r2_score=0.6774, var_score=0.6774\n",
      "VAL loss=1.4400\n",
      "==========EPOCH 078===========\n"
     ]
    },
    {
     "name": "stderr",
     "output_type": "stream",
     "text": [
      "                                                 \r"
     ]
    },
    {
     "name": "stdout",
     "output_type": "stream",
     "text": [
      "Trainning loss=4.0922\n"
     ]
    },
    {
     "name": "stderr",
     "output_type": "stream",
     "text": [
      "  0%|          | 1/279 [00:00<00:37,  7.47it/s]"
     ]
    },
    {
     "name": "stdout",
     "output_type": "stream",
     "text": [
      "VAL: rmse=6.3019, mae=4.3929, mape=0.1396, acc=0.8752, r2_score=0.6777, var_score=0.6777\n",
      "VAL loss=1.4389\n",
      "==========EPOCH 079===========\n"
     ]
    },
    {
     "name": "stderr",
     "output_type": "stream",
     "text": [
      "                                                 \r"
     ]
    },
    {
     "name": "stdout",
     "output_type": "stream",
     "text": [
      "Trainning loss=4.0797\n"
     ]
    },
    {
     "name": "stderr",
     "output_type": "stream",
     "text": [
      "  0%|          | 1/279 [00:00<00:34,  7.96it/s]"
     ]
    },
    {
     "name": "stdout",
     "output_type": "stream",
     "text": [
      "VAL: rmse=6.2995, mae=4.3958, mape=0.1400, acc=0.8751, r2_score=0.6779, var_score=0.6780\n",
      "VAL loss=1.4378\n",
      "==========EPOCH 080===========\n"
     ]
    },
    {
     "name": "stderr",
     "output_type": "stream",
     "text": [
      "                                                 \r"
     ]
    },
    {
     "name": "stdout",
     "output_type": "stream",
     "text": [
      "Trainning loss=4.0666\n"
     ]
    },
    {
     "name": "stderr",
     "output_type": "stream",
     "text": [
      "  0%|          | 1/279 [00:00<00:36,  7.53it/s]"
     ]
    },
    {
     "name": "stdout",
     "output_type": "stream",
     "text": [
      "VAL: rmse=6.2986, mae=4.3986, mape=0.1401, acc=0.8751, r2_score=0.6780, var_score=0.6781\n",
      "VAL loss=1.4374\n",
      "==========EPOCH 081===========\n"
     ]
    },
    {
     "name": "stderr",
     "output_type": "stream",
     "text": [
      "                                                 \r"
     ]
    },
    {
     "name": "stdout",
     "output_type": "stream",
     "text": [
      "Trainning loss=4.0516\n"
     ]
    },
    {
     "name": "stderr",
     "output_type": "stream",
     "text": [
      "  0%|          | 1/279 [00:00<00:38,  7.17it/s]"
     ]
    },
    {
     "name": "stdout",
     "output_type": "stream",
     "text": [
      "VAL: rmse=6.3003, mae=4.3981, mape=0.1395, acc=0.8751, r2_score=0.6778, var_score=0.6779\n",
      "VAL loss=1.4382\n",
      "==========EPOCH 082===========\n"
     ]
    },
    {
     "name": "stderr",
     "output_type": "stream",
     "text": [
      "                                                 \r"
     ]
    },
    {
     "name": "stdout",
     "output_type": "stream",
     "text": [
      "Trainning loss=4.0364\n"
     ]
    },
    {
     "name": "stderr",
     "output_type": "stream",
     "text": [
      "  0%|          | 1/279 [00:00<00:33,  8.42it/s]"
     ]
    },
    {
     "name": "stdout",
     "output_type": "stream",
     "text": [
      "VAL: rmse=6.3028, mae=4.3972, mape=0.1388, acc=0.8751, r2_score=0.6776, var_score=0.6779\n",
      "VAL loss=1.4393\n",
      "==========EPOCH 083===========\n"
     ]
    },
    {
     "name": "stderr",
     "output_type": "stream",
     "text": [
      "                                                 \r"
     ]
    },
    {
     "name": "stdout",
     "output_type": "stream",
     "text": [
      "Trainning loss=4.0230\n"
     ]
    },
    {
     "name": "stderr",
     "output_type": "stream",
     "text": [
      "  0%|          | 1/279 [00:00<00:35,  7.74it/s]"
     ]
    },
    {
     "name": "stdout",
     "output_type": "stream",
     "text": [
      "VAL: rmse=6.3031, mae=4.4017, mape=0.1389, acc=0.8750, r2_score=0.6775, var_score=0.6779\n",
      "VAL loss=1.4394\n",
      "==========EPOCH 084===========\n"
     ]
    },
    {
     "name": "stderr",
     "output_type": "stream",
     "text": [
      "                                                 \r"
     ]
    },
    {
     "name": "stdout",
     "output_type": "stream",
     "text": [
      "Trainning loss=4.0111\n"
     ]
    },
    {
     "name": "stderr",
     "output_type": "stream",
     "text": [
      "  0%|          | 1/279 [00:00<00:33,  8.18it/s]"
     ]
    },
    {
     "name": "stdout",
     "output_type": "stream",
     "text": [
      "VAL: rmse=6.3016, mae=4.4068, mape=0.1396, acc=0.8748, r2_score=0.6777, var_score=0.6778\n",
      "VAL loss=1.4388\n",
      "==========EPOCH 085===========\n"
     ]
    },
    {
     "name": "stderr",
     "output_type": "stream",
     "text": [
      "                                                 \r"
     ]
    },
    {
     "name": "stdout",
     "output_type": "stream",
     "text": [
      "Trainning loss=4.0003\n"
     ]
    },
    {
     "name": "stderr",
     "output_type": "stream",
     "text": [
      "  0%|          | 1/279 [00:00<00:35,  7.74it/s]"
     ]
    },
    {
     "name": "stdout",
     "output_type": "stream",
     "text": [
      "VAL: rmse=6.3039, mae=4.4112, mape=0.1399, acc=0.8747, r2_score=0.6775, var_score=0.6775\n",
      "VAL loss=1.4398\n",
      "==========EPOCH 086===========\n"
     ]
    },
    {
     "name": "stderr",
     "output_type": "stream",
     "text": [
      "                                                 \r"
     ]
    },
    {
     "name": "stdout",
     "output_type": "stream",
     "text": [
      "Trainning loss=3.9906\n"
     ]
    },
    {
     "name": "stderr",
     "output_type": "stream",
     "text": [
      "  0%|          | 1/279 [00:00<00:38,  7.27it/s]"
     ]
    },
    {
     "name": "stdout",
     "output_type": "stream",
     "text": [
      "VAL: rmse=6.3073, mae=4.4150, mape=0.1400, acc=0.8746, r2_score=0.6771, var_score=0.6771\n",
      "VAL loss=1.4414\n",
      "==========EPOCH 087===========\n"
     ]
    },
    {
     "name": "stderr",
     "output_type": "stream",
     "text": [
      "                                                 \r"
     ]
    },
    {
     "name": "stdout",
     "output_type": "stream",
     "text": [
      "Trainning loss=3.9817\n"
     ]
    },
    {
     "name": "stderr",
     "output_type": "stream",
     "text": [
      "  0%|          | 1/279 [00:00<00:37,  7.44it/s]"
     ]
    },
    {
     "name": "stdout",
     "output_type": "stream",
     "text": [
      "VAL: rmse=6.3112, mae=4.4184, mape=0.1402, acc=0.8745, r2_score=0.6767, var_score=0.6767\n",
      "VAL loss=1.4432\n",
      "==========EPOCH 088===========\n"
     ]
    },
    {
     "name": "stderr",
     "output_type": "stream",
     "text": [
      "                                                 \r"
     ]
    },
    {
     "name": "stdout",
     "output_type": "stream",
     "text": [
      "Trainning loss=3.9735\n"
     ]
    },
    {
     "name": "stderr",
     "output_type": "stream",
     "text": [
      "  0%|          | 1/279 [00:00<00:37,  7.46it/s]"
     ]
    },
    {
     "name": "stdout",
     "output_type": "stream",
     "text": [
      "VAL: rmse=6.3152, mae=4.4215, mape=0.1402, acc=0.8744, r2_score=0.6763, var_score=0.6763\n",
      "VAL loss=1.4450\n",
      "==========EPOCH 089===========\n"
     ]
    },
    {
     "name": "stderr",
     "output_type": "stream",
     "text": [
      "                                                 \r"
     ]
    },
    {
     "name": "stdout",
     "output_type": "stream",
     "text": [
      "Trainning loss=3.9658\n"
     ]
    },
    {
     "name": "stderr",
     "output_type": "stream",
     "text": [
      "  0%|          | 1/279 [00:00<00:38,  7.13it/s]"
     ]
    },
    {
     "name": "stdout",
     "output_type": "stream",
     "text": [
      "VAL: rmse=6.3188, mae=4.4242, mape=0.1403, acc=0.8743, r2_score=0.6759, var_score=0.6760\n",
      "VAL loss=1.4466\n",
      "==========EPOCH 090===========\n"
     ]
    },
    {
     "name": "stderr",
     "output_type": "stream",
     "text": [
      "                                                 \r"
     ]
    },
    {
     "name": "stdout",
     "output_type": "stream",
     "text": [
      "Trainning loss=3.9585\n"
     ]
    },
    {
     "name": "stderr",
     "output_type": "stream",
     "text": [
      "  0%|          | 1/279 [00:00<00:35,  7.87it/s]"
     ]
    },
    {
     "name": "stdout",
     "output_type": "stream",
     "text": [
      "VAL: rmse=6.3219, mae=4.4263, mape=0.1404, acc=0.8743, r2_score=0.6756, var_score=0.6757\n",
      "VAL loss=1.4480\n",
      "==========EPOCH 091===========\n"
     ]
    },
    {
     "name": "stderr",
     "output_type": "stream",
     "text": [
      "                                                 \r"
     ]
    },
    {
     "name": "stdout",
     "output_type": "stream",
     "text": [
      "Trainning loss=3.9517\n"
     ]
    },
    {
     "name": "stderr",
     "output_type": "stream",
     "text": [
      "  0%|          | 1/279 [00:00<00:35,  7.76it/s]"
     ]
    },
    {
     "name": "stdout",
     "output_type": "stream",
     "text": [
      "VAL: rmse=6.3245, mae=4.4279, mape=0.1404, acc=0.8742, r2_score=0.6753, var_score=0.6754\n",
      "VAL loss=1.4493\n",
      "==========EPOCH 092===========\n"
     ]
    },
    {
     "name": "stderr",
     "output_type": "stream",
     "text": [
      "                                                 \r"
     ]
    },
    {
     "name": "stdout",
     "output_type": "stream",
     "text": [
      "Trainning loss=3.9452\n"
     ]
    },
    {
     "name": "stderr",
     "output_type": "stream",
     "text": [
      "  0%|          | 1/279 [00:00<00:32,  8.58it/s]"
     ]
    },
    {
     "name": "stdout",
     "output_type": "stream",
     "text": [
      "VAL: rmse=6.3266, mae=4.4289, mape=0.1405, acc=0.8742, r2_score=0.6751, var_score=0.6752\n",
      "VAL loss=1.4502\n",
      "==========EPOCH 093===========\n"
     ]
    },
    {
     "name": "stderr",
     "output_type": "stream",
     "text": [
      "                                                 \r"
     ]
    },
    {
     "name": "stdout",
     "output_type": "stream",
     "text": [
      "Trainning loss=3.9392\n"
     ]
    },
    {
     "name": "stderr",
     "output_type": "stream",
     "text": [
      "  0%|          | 1/279 [00:00<00:33,  8.32it/s]"
     ]
    },
    {
     "name": "stdout",
     "output_type": "stream",
     "text": [
      "VAL: rmse=6.3280, mae=4.4292, mape=0.1405, acc=0.8742, r2_score=0.6750, var_score=0.6751\n",
      "VAL loss=1.4508\n",
      "==========EPOCH 094===========\n"
     ]
    },
    {
     "name": "stderr",
     "output_type": "stream",
     "text": [
      "                                                 \r"
     ]
    },
    {
     "name": "stdout",
     "output_type": "stream",
     "text": [
      "Trainning loss=3.9335\n"
     ]
    },
    {
     "name": "stderr",
     "output_type": "stream",
     "text": [
      "  0%|          | 1/279 [00:00<00:30,  9.00it/s]"
     ]
    },
    {
     "name": "stdout",
     "output_type": "stream",
     "text": [
      "VAL: rmse=6.3285, mae=4.4287, mape=0.1405, acc=0.8742, r2_score=0.6749, var_score=0.6751\n",
      "VAL loss=1.4511\n",
      "==========EPOCH 095===========\n"
     ]
    },
    {
     "name": "stderr",
     "output_type": "stream",
     "text": [
      "                                                 \r"
     ]
    },
    {
     "name": "stdout",
     "output_type": "stream",
     "text": [
      "Trainning loss=3.9281\n"
     ]
    },
    {
     "name": "stderr",
     "output_type": "stream",
     "text": [
      "  0%|          | 1/279 [00:00<00:35,  7.84it/s]"
     ]
    },
    {
     "name": "stdout",
     "output_type": "stream",
     "text": [
      "VAL: rmse=6.3283, mae=4.4274, mape=0.1404, acc=0.8742, r2_score=0.6750, var_score=0.6752\n",
      "VAL loss=1.4510\n",
      "==========EPOCH 096===========\n"
     ]
    },
    {
     "name": "stderr",
     "output_type": "stream",
     "text": [
      "                                                 \r"
     ]
    },
    {
     "name": "stdout",
     "output_type": "stream",
     "text": [
      "Trainning loss=3.9228\n"
     ]
    },
    {
     "name": "stderr",
     "output_type": "stream",
     "text": [
      "  0%|          | 1/279 [00:00<00:37,  7.44it/s]"
     ]
    },
    {
     "name": "stdout",
     "output_type": "stream",
     "text": [
      "VAL: rmse=6.3277, mae=4.4257, mape=0.1404, acc=0.8743, r2_score=0.6750, var_score=0.6753\n",
      "VAL loss=1.4507\n",
      "==========EPOCH 097===========\n"
     ]
    },
    {
     "name": "stderr",
     "output_type": "stream",
     "text": [
      "                                                 \r"
     ]
    },
    {
     "name": "stdout",
     "output_type": "stream",
     "text": [
      "Trainning loss=3.9178\n"
     ]
    },
    {
     "name": "stderr",
     "output_type": "stream",
     "text": [
      "  0%|          | 1/279 [00:00<00:34,  8.14it/s]"
     ]
    },
    {
     "name": "stdout",
     "output_type": "stream",
     "text": [
      "VAL: rmse=6.3269, mae=4.4237, mape=0.1403, acc=0.8743, r2_score=0.6751, var_score=0.6754\n",
      "VAL loss=1.4504\n",
      "==========EPOCH 098===========\n"
     ]
    },
    {
     "name": "stderr",
     "output_type": "stream",
     "text": [
      "                                                 \r"
     ]
    },
    {
     "name": "stdout",
     "output_type": "stream",
     "text": [
      "Trainning loss=3.9130\n"
     ]
    },
    {
     "name": "stderr",
     "output_type": "stream",
     "text": [
      "  0%|          | 1/279 [00:00<00:36,  7.67it/s]"
     ]
    },
    {
     "name": "stdout",
     "output_type": "stream",
     "text": [
      "VAL: rmse=6.3263, mae=4.4218, mape=0.1402, acc=0.8744, r2_score=0.6752, var_score=0.6755\n",
      "VAL loss=1.4501\n",
      "==========EPOCH 099===========\n"
     ]
    },
    {
     "name": "stderr",
     "output_type": "stream",
     "text": [
      "                                                 \r"
     ]
    },
    {
     "name": "stdout",
     "output_type": "stream",
     "text": [
      "Trainning loss=3.9084\n"
     ]
    },
    {
     "name": "stderr",
     "output_type": "stream",
     "text": [
      "  0%|          | 1/279 [00:00<00:41,  6.75it/s]"
     ]
    },
    {
     "name": "stdout",
     "output_type": "stream",
     "text": [
      "VAL: rmse=6.3262, mae=4.4201, mape=0.1401, acc=0.8744, r2_score=0.6752, var_score=0.6756\n",
      "VAL loss=1.4500\n",
      "==========EPOCH 100===========\n"
     ]
    },
    {
     "name": "stderr",
     "output_type": "stream",
     "text": [
      "                                                 \r"
     ]
    },
    {
     "name": "stdout",
     "output_type": "stream",
     "text": [
      "Trainning loss=3.9040\n"
     ]
    },
    {
     "name": "stderr",
     "output_type": "stream",
     "text": [
      "  0%|          | 1/279 [00:00<00:41,  6.65it/s]"
     ]
    },
    {
     "name": "stdout",
     "output_type": "stream",
     "text": [
      "VAL: rmse=6.3267, mae=4.4190, mape=0.1400, acc=0.8745, r2_score=0.6751, var_score=0.6755\n",
      "VAL loss=1.4503\n",
      "==========EPOCH 101===========\n"
     ]
    },
    {
     "name": "stderr",
     "output_type": "stream",
     "text": [
      "                                                 \r"
     ]
    },
    {
     "name": "stdout",
     "output_type": "stream",
     "text": [
      "Trainning loss=3.8999\n"
     ]
    },
    {
     "name": "stderr",
     "output_type": "stream",
     "text": [
      "  0%|          | 1/279 [00:00<00:33,  8.28it/s]"
     ]
    },
    {
     "name": "stdout",
     "output_type": "stream",
     "text": [
      "VAL: rmse=6.3281, mae=4.4190, mape=0.1399, acc=0.8745, r2_score=0.6750, var_score=0.6754\n",
      "VAL loss=1.4509\n",
      "==========EPOCH 102===========\n"
     ]
    },
    {
     "name": "stderr",
     "output_type": "stream",
     "text": [
      "                                                 \r"
     ]
    },
    {
     "name": "stdout",
     "output_type": "stream",
     "text": [
      "Trainning loss=3.8960\n"
     ]
    },
    {
     "name": "stderr",
     "output_type": "stream",
     "text": [
      "  0%|          | 1/279 [00:00<00:34,  8.09it/s]"
     ]
    },
    {
     "name": "stdout",
     "output_type": "stream",
     "text": [
      "VAL: rmse=6.3303, mae=4.4203, mape=0.1400, acc=0.8744, r2_score=0.6748, var_score=0.6751\n",
      "VAL loss=1.4519\n",
      "==========EPOCH 103===========\n"
     ]
    },
    {
     "name": "stderr",
     "output_type": "stream",
     "text": [
      "                                                 \r"
     ]
    },
    {
     "name": "stdout",
     "output_type": "stream",
     "text": [
      "Trainning loss=3.8923\n"
     ]
    },
    {
     "name": "stderr",
     "output_type": "stream",
     "text": [
      "  0%|          | 1/279 [00:00<00:42,  6.50it/s]"
     ]
    },
    {
     "name": "stdout",
     "output_type": "stream",
     "text": [
      "VAL: rmse=6.3332, mae=4.4225, mape=0.1401, acc=0.8744, r2_score=0.6745, var_score=0.6748\n",
      "VAL loss=1.4532\n",
      "==========EPOCH 104===========\n"
     ]
    },
    {
     "name": "stderr",
     "output_type": "stream",
     "text": [
      "                                                 \r"
     ]
    },
    {
     "name": "stdout",
     "output_type": "stream",
     "text": [
      "Trainning loss=3.8888\n"
     ]
    },
    {
     "name": "stderr",
     "output_type": "stream",
     "text": [
      "  0%|          | 1/279 [00:00<00:39,  7.08it/s]"
     ]
    },
    {
     "name": "stdout",
     "output_type": "stream",
     "text": [
      "VAL: rmse=6.3365, mae=4.4253, mape=0.1403, acc=0.8743, r2_score=0.6741, var_score=0.6744\n",
      "VAL loss=1.4548\n",
      "==========EPOCH 105===========\n"
     ]
    },
    {
     "name": "stderr",
     "output_type": "stream",
     "text": [
      "                                                 \r"
     ]
    },
    {
     "name": "stdout",
     "output_type": "stream",
     "text": [
      "Trainning loss=3.8853\n"
     ]
    },
    {
     "name": "stderr",
     "output_type": "stream",
     "text": [
      "  0%|          | 1/279 [00:00<00:37,  7.34it/s]"
     ]
    },
    {
     "name": "stdout",
     "output_type": "stream",
     "text": [
      "VAL: rmse=6.3403, mae=4.4285, mape=0.1405, acc=0.8742, r2_score=0.6737, var_score=0.6739\n",
      "VAL loss=1.4565\n",
      "==========EPOCH 106===========\n"
     ]
    },
    {
     "name": "stderr",
     "output_type": "stream",
     "text": [
      "                                                 \r"
     ]
    },
    {
     "name": "stdout",
     "output_type": "stream",
     "text": [
      "Trainning loss=3.8819\n"
     ]
    },
    {
     "name": "stderr",
     "output_type": "stream",
     "text": [
      "  0%|          | 1/279 [00:00<00:34,  8.13it/s]"
     ]
    },
    {
     "name": "stdout",
     "output_type": "stream",
     "text": [
      "VAL: rmse=6.3448, mae=4.4323, mape=0.1406, acc=0.8741, r2_score=0.6733, var_score=0.6734\n",
      "VAL loss=1.4586\n",
      "==========EPOCH 107===========\n"
     ]
    },
    {
     "name": "stderr",
     "output_type": "stream",
     "text": [
      "                                                 \r"
     ]
    },
    {
     "name": "stdout",
     "output_type": "stream",
     "text": [
      "Trainning loss=3.8785\n"
     ]
    },
    {
     "name": "stderr",
     "output_type": "stream",
     "text": [
      "  0%|          | 1/279 [00:00<00:36,  7.66it/s]"
     ]
    },
    {
     "name": "stdout",
     "output_type": "stream",
     "text": [
      "VAL: rmse=6.3495, mae=4.4364, mape=0.1408, acc=0.8740, r2_score=0.6728, var_score=0.6729\n",
      "VAL loss=1.4608\n",
      "==========EPOCH 108===========\n"
     ]
    },
    {
     "name": "stderr",
     "output_type": "stream",
     "text": [
      "                                                 \r"
     ]
    },
    {
     "name": "stdout",
     "output_type": "stream",
     "text": [
      "Trainning loss=3.8752\n"
     ]
    },
    {
     "name": "stderr",
     "output_type": "stream",
     "text": [
      "  0%|          | 1/279 [00:00<00:32,  8.47it/s]"
     ]
    },
    {
     "name": "stdout",
     "output_type": "stream",
     "text": [
      "VAL: rmse=6.3542, mae=4.4406, mape=0.1410, acc=0.8739, r2_score=0.6723, var_score=0.6724\n",
      "VAL loss=1.4629\n",
      "==========EPOCH 109===========\n"
     ]
    },
    {
     "name": "stderr",
     "output_type": "stream",
     "text": [
      "                                                 \r"
     ]
    },
    {
     "name": "stdout",
     "output_type": "stream",
     "text": [
      "Trainning loss=3.8720\n"
     ]
    },
    {
     "name": "stderr",
     "output_type": "stream",
     "text": [
      "  0%|          | 1/279 [00:00<00:33,  8.24it/s]"
     ]
    },
    {
     "name": "stdout",
     "output_type": "stream",
     "text": [
      "VAL: rmse=6.3588, mae=4.4449, mape=0.1412, acc=0.8737, r2_score=0.6718, var_score=0.6719\n",
      "VAL loss=1.4650\n",
      "==========EPOCH 110===========\n"
     ]
    },
    {
     "name": "stderr",
     "output_type": "stream",
     "text": [
      "                                                 \r"
     ]
    },
    {
     "name": "stdout",
     "output_type": "stream",
     "text": [
      "Trainning loss=3.8688\n"
     ]
    },
    {
     "name": "stderr",
     "output_type": "stream",
     "text": [
      "  0%|          | 1/279 [00:00<00:33,  8.38it/s]"
     ]
    },
    {
     "name": "stdout",
     "output_type": "stream",
     "text": [
      "VAL: rmse=6.3631, mae=4.4494, mape=0.1414, acc=0.8736, r2_score=0.6714, var_score=0.6715\n",
      "VAL loss=1.4670\n",
      "==========EPOCH 111===========\n"
     ]
    },
    {
     "name": "stderr",
     "output_type": "stream",
     "text": [
      "                                                 \r"
     ]
    },
    {
     "name": "stdout",
     "output_type": "stream",
     "text": [
      "Trainning loss=3.8656\n"
     ]
    },
    {
     "name": "stderr",
     "output_type": "stream",
     "text": [
      "  0%|          | 1/279 [00:00<00:38,  7.27it/s]"
     ]
    },
    {
     "name": "stdout",
     "output_type": "stream",
     "text": [
      "VAL: rmse=6.3672, mae=4.4540, mape=0.1417, acc=0.8735, r2_score=0.6709, var_score=0.6710\n",
      "VAL loss=1.4689\n",
      "==========EPOCH 112===========\n"
     ]
    },
    {
     "name": "stderr",
     "output_type": "stream",
     "text": [
      "                                                 \r"
     ]
    },
    {
     "name": "stdout",
     "output_type": "stream",
     "text": [
      "Trainning loss=3.8624\n"
     ]
    },
    {
     "name": "stderr",
     "output_type": "stream",
     "text": [
      "  0%|          | 1/279 [00:00<00:33,  8.24it/s]"
     ]
    },
    {
     "name": "stdout",
     "output_type": "stream",
     "text": [
      "VAL: rmse=6.3709, mae=4.4584, mape=0.1419, acc=0.8734, r2_score=0.6706, var_score=0.6706\n",
      "VAL loss=1.4706\n",
      "==========EPOCH 113===========\n"
     ]
    },
    {
     "name": "stderr",
     "output_type": "stream",
     "text": [
      "                                                 \r"
     ]
    },
    {
     "name": "stdout",
     "output_type": "stream",
     "text": [
      "Trainning loss=3.8592\n"
     ]
    },
    {
     "name": "stderr",
     "output_type": "stream",
     "text": [
      "  0%|          | 1/279 [00:00<00:45,  6.17it/s]"
     ]
    },
    {
     "name": "stdout",
     "output_type": "stream",
     "text": [
      "VAL: rmse=6.3746, mae=4.4626, mape=0.1422, acc=0.8732, r2_score=0.6702, var_score=0.6702\n",
      "VAL loss=1.4723\n",
      "==========EPOCH 114===========\n"
     ]
    },
    {
     "name": "stderr",
     "output_type": "stream",
     "text": [
      "                                                 \r"
     ]
    },
    {
     "name": "stdout",
     "output_type": "stream",
     "text": [
      "Trainning loss=3.8561\n"
     ]
    },
    {
     "name": "stderr",
     "output_type": "stream",
     "text": [
      "  0%|          | 1/279 [00:00<00:35,  7.87it/s]"
     ]
    },
    {
     "name": "stdout",
     "output_type": "stream",
     "text": [
      "VAL: rmse=6.3787, mae=4.4668, mape=0.1424, acc=0.8731, r2_score=0.6698, var_score=0.6698\n",
      "VAL loss=1.4742\n",
      "==========EPOCH 115===========\n"
     ]
    },
    {
     "name": "stderr",
     "output_type": "stream",
     "text": [
      "                                                 \r"
     ]
    },
    {
     "name": "stdout",
     "output_type": "stream",
     "text": [
      "Trainning loss=3.8531\n"
     ]
    },
    {
     "name": "stderr",
     "output_type": "stream",
     "text": [
      "  0%|          | 1/279 [00:00<00:34,  7.98it/s]"
     ]
    },
    {
     "name": "stdout",
     "output_type": "stream",
     "text": [
      "VAL: rmse=6.3839, mae=4.4707, mape=0.1426, acc=0.8730, r2_score=0.6692, var_score=0.6692\n",
      "VAL loss=1.4766\n",
      "==========EPOCH 116===========\n"
     ]
    },
    {
     "name": "stderr",
     "output_type": "stream",
     "text": [
      "                                                 \r"
     ]
    },
    {
     "name": "stdout",
     "output_type": "stream",
     "text": [
      "Trainning loss=3.8504\n"
     ]
    },
    {
     "name": "stderr",
     "output_type": "stream",
     "text": [
      "  0%|          | 1/279 [00:00<00:34,  8.17it/s]"
     ]
    },
    {
     "name": "stdout",
     "output_type": "stream",
     "text": [
      "VAL: rmse=6.3904, mae=4.4755, mape=0.1428, acc=0.8729, r2_score=0.6685, var_score=0.6686\n",
      "VAL loss=1.4796\n",
      "==========EPOCH 117===========\n"
     ]
    },
    {
     "name": "stderr",
     "output_type": "stream",
     "text": [
      "                                                 \r"
     ]
    },
    {
     "name": "stdout",
     "output_type": "stream",
     "text": [
      "Trainning loss=3.8482\n"
     ]
    },
    {
     "name": "stderr",
     "output_type": "stream",
     "text": [
      "  0%|          | 1/279 [00:00<00:46,  6.01it/s]"
     ]
    },
    {
     "name": "stdout",
     "output_type": "stream",
     "text": [
      "VAL: rmse=6.3962, mae=4.4816, mape=0.1428, acc=0.8727, r2_score=0.6679, var_score=0.6680\n",
      "VAL loss=1.4823\n",
      "==========EPOCH 118===========\n"
     ]
    },
    {
     "name": "stderr",
     "output_type": "stream",
     "text": [
      "                                                 \r"
     ]
    },
    {
     "name": "stdout",
     "output_type": "stream",
     "text": [
      "Trainning loss=3.8456\n"
     ]
    },
    {
     "name": "stderr",
     "output_type": "stream",
     "text": [
      "  0%|          | 1/279 [00:00<00:33,  8.19it/s]"
     ]
    },
    {
     "name": "stdout",
     "output_type": "stream",
     "text": [
      "VAL: rmse=6.4014, mae=4.4856, mape=0.1429, acc=0.8726, r2_score=0.6674, var_score=0.6675\n",
      "VAL loss=1.4847\n",
      "==========EPOCH 119===========\n"
     ]
    },
    {
     "name": "stderr",
     "output_type": "stream",
     "text": [
      "                                                 \r"
     ]
    },
    {
     "name": "stdout",
     "output_type": "stream",
     "text": [
      "Trainning loss=3.8424\n"
     ]
    },
    {
     "name": "stderr",
     "output_type": "stream",
     "text": [
      "  0%|          | 1/279 [00:00<00:36,  7.68it/s]"
     ]
    },
    {
     "name": "stdout",
     "output_type": "stream",
     "text": [
      "VAL: rmse=6.4034, mae=4.4872, mape=0.1432, acc=0.8725, r2_score=0.6672, var_score=0.6672\n",
      "VAL loss=1.4856\n",
      "==========EPOCH 120===========\n"
     ]
    },
    {
     "name": "stderr",
     "output_type": "stream",
     "text": [
      "                                                 \r"
     ]
    },
    {
     "name": "stdout",
     "output_type": "stream",
     "text": [
      "Trainning loss=3.8393\n"
     ]
    },
    {
     "name": "stderr",
     "output_type": "stream",
     "text": [
      "  0%|          | 1/279 [00:00<00:33,  8.27it/s]"
     ]
    },
    {
     "name": "stdout",
     "output_type": "stream",
     "text": [
      "VAL: rmse=6.4049, mae=4.4892, mape=0.1434, acc=0.8725, r2_score=0.6670, var_score=0.6671\n",
      "VAL loss=1.4864\n",
      "==========EPOCH 121===========\n"
     ]
    },
    {
     "name": "stderr",
     "output_type": "stream",
     "text": [
      "                                                 \r"
     ]
    },
    {
     "name": "stdout",
     "output_type": "stream",
     "text": [
      "Trainning loss=3.8361\n"
     ]
    },
    {
     "name": "stderr",
     "output_type": "stream",
     "text": [
      "  0%|          | 1/279 [00:00<00:37,  7.39it/s]"
     ]
    },
    {
     "name": "stdout",
     "output_type": "stream",
     "text": [
      "VAL: rmse=6.4072, mae=4.4915, mape=0.1436, acc=0.8724, r2_score=0.6668, var_score=0.6668\n",
      "VAL loss=1.4875\n",
      "==========EPOCH 122===========\n"
     ]
    },
    {
     "name": "stderr",
     "output_type": "stream",
     "text": [
      "                                                 \r"
     ]
    },
    {
     "name": "stdout",
     "output_type": "stream",
     "text": [
      "Trainning loss=3.8332\n"
     ]
    },
    {
     "name": "stderr",
     "output_type": "stream",
     "text": [
      "  0%|          | 1/279 [00:00<00:33,  8.21it/s]"
     ]
    },
    {
     "name": "stdout",
     "output_type": "stream",
     "text": [
      "VAL: rmse=6.4120, mae=4.4943, mape=0.1437, acc=0.8723, r2_score=0.6663, var_score=0.6664\n",
      "VAL loss=1.4897\n",
      "==========EPOCH 123===========\n"
     ]
    },
    {
     "name": "stderr",
     "output_type": "stream",
     "text": [
      "                                                 \r"
     ]
    },
    {
     "name": "stdout",
     "output_type": "stream",
     "text": [
      "Trainning loss=3.8305\n"
     ]
    },
    {
     "name": "stderr",
     "output_type": "stream",
     "text": [
      "  0%|          | 1/279 [00:00<00:37,  7.43it/s]"
     ]
    },
    {
     "name": "stdout",
     "output_type": "stream",
     "text": [
      "VAL: rmse=6.4192, mae=4.4975, mape=0.1436, acc=0.8722, r2_score=0.6655, var_score=0.6657\n",
      "VAL loss=1.4930\n",
      "==========EPOCH 124===========\n"
     ]
    },
    {
     "name": "stderr",
     "output_type": "stream",
     "text": [
      "                                                 \r"
     ]
    },
    {
     "name": "stdout",
     "output_type": "stream",
     "text": [
      "Trainning loss=3.8280\n"
     ]
    },
    {
     "name": "stderr",
     "output_type": "stream",
     "text": [
      "  0%|          | 1/279 [00:00<00:37,  7.44it/s]"
     ]
    },
    {
     "name": "stdout",
     "output_type": "stream",
     "text": [
      "VAL: rmse=6.4274, mae=4.5015, mape=0.1435, acc=0.8721, r2_score=0.6647, var_score=0.6649\n",
      "VAL loss=1.4968\n",
      "==========EPOCH 125===========\n"
     ]
    },
    {
     "name": "stderr",
     "output_type": "stream",
     "text": [
      "                                                 \r"
     ]
    },
    {
     "name": "stdout",
     "output_type": "stream",
     "text": [
      "Trainning loss=3.8254\n"
     ]
    },
    {
     "name": "stderr",
     "output_type": "stream",
     "text": [
      "  0%|          | 1/279 [00:00<00:40,  6.81it/s]"
     ]
    },
    {
     "name": "stdout",
     "output_type": "stream",
     "text": [
      "VAL: rmse=6.4337, mae=4.5045, mape=0.1435, acc=0.8720, r2_score=0.6640, var_score=0.6642\n",
      "VAL loss=1.4998\n",
      "==========EPOCH 126===========\n"
     ]
    },
    {
     "name": "stderr",
     "output_type": "stream",
     "text": [
      "                                                 \r"
     ]
    },
    {
     "name": "stdout",
     "output_type": "stream",
     "text": [
      "Trainning loss=3.8225\n"
     ]
    },
    {
     "name": "stderr",
     "output_type": "stream",
     "text": [
      "  0%|          | 1/279 [00:00<00:35,  7.74it/s]"
     ]
    },
    {
     "name": "stdout",
     "output_type": "stream",
     "text": [
      "VAL: rmse=6.4398, mae=4.5080, mape=0.1436, acc=0.8719, r2_score=0.6634, var_score=0.6636\n",
      "VAL loss=1.5026\n",
      "==========EPOCH 127===========\n"
     ]
    },
    {
     "name": "stderr",
     "output_type": "stream",
     "text": [
      "                                                 \r"
     ]
    },
    {
     "name": "stdout",
     "output_type": "stream",
     "text": [
      "Trainning loss=3.8197\n"
     ]
    },
    {
     "name": "stderr",
     "output_type": "stream",
     "text": [
      "  0%|          | 1/279 [00:00<00:33,  8.39it/s]"
     ]
    },
    {
     "name": "stdout",
     "output_type": "stream",
     "text": [
      "VAL: rmse=6.4470, mae=4.5125, mape=0.1437, acc=0.8718, r2_score=0.6626, var_score=0.6629\n",
      "VAL loss=1.5060\n",
      "==========EPOCH 128===========\n"
     ]
    },
    {
     "name": "stderr",
     "output_type": "stream",
     "text": [
      "                                                 \r"
     ]
    },
    {
     "name": "stdout",
     "output_type": "stream",
     "text": [
      "Trainning loss=3.8170\n"
     ]
    },
    {
     "name": "stderr",
     "output_type": "stream",
     "text": [
      "  0%|          | 1/279 [00:00<00:35,  7.91it/s]"
     ]
    },
    {
     "name": "stdout",
     "output_type": "stream",
     "text": [
      "VAL: rmse=6.4548, mae=4.5175, mape=0.1438, acc=0.8717, r2_score=0.6618, var_score=0.6621\n",
      "VAL loss=1.5096\n",
      "==========EPOCH 129===========\n"
     ]
    },
    {
     "name": "stderr",
     "output_type": "stream",
     "text": [
      "                                                 \r"
     ]
    },
    {
     "name": "stdout",
     "output_type": "stream",
     "text": [
      "Trainning loss=3.8142\n"
     ]
    },
    {
     "name": "stderr",
     "output_type": "stream",
     "text": [
      "  0%|          | 1/279 [00:00<00:37,  7.41it/s]"
     ]
    },
    {
     "name": "stdout",
     "output_type": "stream",
     "text": [
      "VAL: rmse=6.4628, mae=4.5228, mape=0.1439, acc=0.8715, r2_score=0.6610, var_score=0.6613\n",
      "VAL loss=1.5134\n",
      "==========EPOCH 130===========\n"
     ]
    },
    {
     "name": "stderr",
     "output_type": "stream",
     "text": [
      "                                                 \r"
     ]
    },
    {
     "name": "stdout",
     "output_type": "stream",
     "text": [
      "Trainning loss=3.8114\n"
     ]
    },
    {
     "name": "stderr",
     "output_type": "stream",
     "text": [
      "  0%|          | 1/279 [00:00<00:33,  8.19it/s]"
     ]
    },
    {
     "name": "stdout",
     "output_type": "stream",
     "text": [
      "VAL: rmse=6.4714, mae=4.5283, mape=0.1440, acc=0.8714, r2_score=0.6601, var_score=0.6605\n",
      "VAL loss=1.5174\n",
      "==========EPOCH 131===========\n"
     ]
    },
    {
     "name": "stderr",
     "output_type": "stream",
     "text": [
      "                                                 \r"
     ]
    },
    {
     "name": "stdout",
     "output_type": "stream",
     "text": [
      "Trainning loss=3.8084\n"
     ]
    },
    {
     "name": "stderr",
     "output_type": "stream",
     "text": [
      "  0%|          | 1/279 [00:00<00:32,  8.49it/s]"
     ]
    },
    {
     "name": "stdout",
     "output_type": "stream",
     "text": [
      "VAL: rmse=6.4794, mae=4.5335, mape=0.1442, acc=0.8712, r2_score=0.6592, var_score=0.6597\n",
      "VAL loss=1.5211\n",
      "==========EPOCH 132===========\n"
     ]
    },
    {
     "name": "stderr",
     "output_type": "stream",
     "text": [
      "                                                 \r"
     ]
    },
    {
     "name": "stdout",
     "output_type": "stream",
     "text": [
      "Trainning loss=3.8055\n"
     ]
    },
    {
     "name": "stderr",
     "output_type": "stream",
     "text": [
      "  0%|          | 1/279 [00:00<00:34,  8.02it/s]"
     ]
    },
    {
     "name": "stdout",
     "output_type": "stream",
     "text": [
      "VAL: rmse=6.4878, mae=4.5387, mape=0.1443, acc=0.8711, r2_score=0.6584, var_score=0.6588\n",
      "VAL loss=1.5251\n",
      "==========EPOCH 133===========\n"
     ]
    },
    {
     "name": "stderr",
     "output_type": "stream",
     "text": [
      "                                                 \r"
     ]
    },
    {
     "name": "stdout",
     "output_type": "stream",
     "text": [
      "Trainning loss=3.8024\n"
     ]
    },
    {
     "name": "stderr",
     "output_type": "stream",
     "text": [
      "  0%|          | 1/279 [00:00<00:35,  7.77it/s]"
     ]
    },
    {
     "name": "stdout",
     "output_type": "stream",
     "text": [
      "VAL: rmse=6.4947, mae=4.5429, mape=0.1443, acc=0.8710, r2_score=0.6576, var_score=0.6581\n",
      "VAL loss=1.5283\n",
      "==========EPOCH 134===========\n"
     ]
    },
    {
     "name": "stderr",
     "output_type": "stream",
     "text": [
      "                                                 \r"
     ]
    },
    {
     "name": "stdout",
     "output_type": "stream",
     "text": [
      "Trainning loss=3.7992\n"
     ]
    },
    {
     "name": "stderr",
     "output_type": "stream",
     "text": [
      "  0%|          | 1/279 [00:00<00:34,  7.95it/s]"
     ]
    },
    {
     "name": "stdout",
     "output_type": "stream",
     "text": [
      "VAL: rmse=6.5017, mae=4.5468, mape=0.1444, acc=0.8708, r2_score=0.6569, var_score=0.6574\n",
      "VAL loss=1.5316\n",
      "==========EPOCH 135===========\n"
     ]
    },
    {
     "name": "stderr",
     "output_type": "stream",
     "text": [
      "                                                 \r"
     ]
    },
    {
     "name": "stdout",
     "output_type": "stream",
     "text": [
      "Trainning loss=3.7959\n"
     ]
    },
    {
     "name": "stderr",
     "output_type": "stream",
     "text": [
      "  0%|          | 1/279 [00:00<00:35,  7.78it/s]"
     ]
    },
    {
     "name": "stdout",
     "output_type": "stream",
     "text": [
      "VAL: rmse=6.5061, mae=4.5489, mape=0.1444, acc=0.8708, r2_score=0.6564, var_score=0.6569\n",
      "VAL loss=1.5337\n",
      "==========EPOCH 136===========\n"
     ]
    },
    {
     "name": "stderr",
     "output_type": "stream",
     "text": [
      "                                                 \r"
     ]
    },
    {
     "name": "stdout",
     "output_type": "stream",
     "text": [
      "Trainning loss=3.7925\n"
     ]
    },
    {
     "name": "stderr",
     "output_type": "stream",
     "text": [
      "  0%|          | 1/279 [00:00<00:38,  7.30it/s]"
     ]
    },
    {
     "name": "stdout",
     "output_type": "stream",
     "text": [
      "VAL: rmse=6.5093, mae=4.5501, mape=0.1444, acc=0.8708, r2_score=0.6561, var_score=0.6566\n",
      "VAL loss=1.5352\n",
      "==========EPOCH 137===========\n"
     ]
    },
    {
     "name": "stderr",
     "output_type": "stream",
     "text": [
      "                                                 \r"
     ]
    },
    {
     "name": "stdout",
     "output_type": "stream",
     "text": [
      "Trainning loss=3.7890\n"
     ]
    },
    {
     "name": "stderr",
     "output_type": "stream",
     "text": [
      "  0%|          | 1/279 [00:00<00:41,  6.75it/s]"
     ]
    },
    {
     "name": "stdout",
     "output_type": "stream",
     "text": [
      "VAL: rmse=6.5104, mae=4.5499, mape=0.1443, acc=0.8708, r2_score=0.6560, var_score=0.6564\n",
      "VAL loss=1.5358\n",
      "==========EPOCH 138===========\n"
     ]
    },
    {
     "name": "stderr",
     "output_type": "stream",
     "text": [
      "                                                 \r"
     ]
    },
    {
     "name": "stdout",
     "output_type": "stream",
     "text": [
      "Trainning loss=3.7855\n"
     ]
    },
    {
     "name": "stderr",
     "output_type": "stream",
     "text": [
      "  0%|          | 1/279 [00:00<00:40,  6.86it/s]"
     ]
    },
    {
     "name": "stdout",
     "output_type": "stream",
     "text": [
      "VAL: rmse=6.5122, mae=4.5498, mape=0.1442, acc=0.8708, r2_score=0.6558, var_score=0.6562\n",
      "VAL loss=1.5366\n",
      "==========EPOCH 139===========\n"
     ]
    },
    {
     "name": "stderr",
     "output_type": "stream",
     "text": [
      "                                                 \r"
     ]
    },
    {
     "name": "stdout",
     "output_type": "stream",
     "text": [
      "Trainning loss=3.7820\n"
     ]
    },
    {
     "name": "stderr",
     "output_type": "stream",
     "text": [
      "  0%|          | 1/279 [00:00<00:38,  7.29it/s]"
     ]
    },
    {
     "name": "stdout",
     "output_type": "stream",
     "text": [
      "VAL: rmse=6.5169, mae=4.5510, mape=0.1442, acc=0.8707, r2_score=0.6553, var_score=0.6557\n",
      "VAL loss=1.5388\n",
      "==========EPOCH 140===========\n"
     ]
    },
    {
     "name": "stderr",
     "output_type": "stream",
     "text": [
      "                                                 \r"
     ]
    },
    {
     "name": "stdout",
     "output_type": "stream",
     "text": [
      "Trainning loss=3.7786\n"
     ]
    },
    {
     "name": "stderr",
     "output_type": "stream",
     "text": [
      "  0%|          | 1/279 [00:00<00:36,  7.56it/s]"
     ]
    },
    {
     "name": "stdout",
     "output_type": "stream",
     "text": [
      "VAL: rmse=6.5250, mae=4.5539, mape=0.1441, acc=0.8706, r2_score=0.6544, var_score=0.6549\n",
      "VAL loss=1.5427\n",
      "==========EPOCH 141===========\n"
     ]
    },
    {
     "name": "stderr",
     "output_type": "stream",
     "text": [
      "                                                 \r"
     ]
    },
    {
     "name": "stdout",
     "output_type": "stream",
     "text": [
      "Trainning loss=3.7752\n"
     ]
    },
    {
     "name": "stderr",
     "output_type": "stream",
     "text": [
      "  0%|          | 1/279 [00:00<00:36,  7.59it/s]"
     ]
    },
    {
     "name": "stdout",
     "output_type": "stream",
     "text": [
      "VAL: rmse=6.5364, mae=4.5585, mape=0.1441, acc=0.8705, r2_score=0.6532, var_score=0.6537\n",
      "VAL loss=1.5480\n",
      "==========EPOCH 142===========\n"
     ]
    },
    {
     "name": "stderr",
     "output_type": "stream",
     "text": [
      "                                                 \r"
     ]
    },
    {
     "name": "stdout",
     "output_type": "stream",
     "text": [
      "Trainning loss=3.7719\n"
     ]
    },
    {
     "name": "stderr",
     "output_type": "stream",
     "text": [
      "  0%|          | 1/279 [00:00<00:32,  8.44it/s]"
     ]
    },
    {
     "name": "stdout",
     "output_type": "stream",
     "text": [
      "VAL: rmse=6.5501, mae=4.5646, mape=0.1442, acc=0.8703, r2_score=0.6518, var_score=0.6523\n",
      "VAL loss=1.5545\n",
      "==========EPOCH 143===========\n"
     ]
    },
    {
     "name": "stderr",
     "output_type": "stream",
     "text": [
      "                                                 \r"
     ]
    },
    {
     "name": "stdout",
     "output_type": "stream",
     "text": [
      "Trainning loss=3.7686\n"
     ]
    },
    {
     "name": "stderr",
     "output_type": "stream",
     "text": [
      "  0%|          | 1/279 [00:00<00:43,  6.42it/s]"
     ]
    },
    {
     "name": "stdout",
     "output_type": "stream",
     "text": [
      "VAL: rmse=6.5654, mae=4.5717, mape=0.1443, acc=0.8701, r2_score=0.6501, var_score=0.6506\n",
      "VAL loss=1.5618\n",
      "==========EPOCH 144===========\n"
     ]
    },
    {
     "name": "stderr",
     "output_type": "stream",
     "text": [
      "                                                 \r"
     ]
    },
    {
     "name": "stdout",
     "output_type": "stream",
     "text": [
      "Trainning loss=3.7652\n"
     ]
    },
    {
     "name": "stderr",
     "output_type": "stream",
     "text": [
      "  0%|          | 1/279 [00:00<00:35,  7.80it/s]"
     ]
    },
    {
     "name": "stdout",
     "output_type": "stream",
     "text": [
      "VAL: rmse=6.5812, mae=4.5791, mape=0.1445, acc=0.8699, r2_score=0.6485, var_score=0.6489\n",
      "VAL loss=1.5693\n",
      "==========EPOCH 145===========\n"
     ]
    },
    {
     "name": "stderr",
     "output_type": "stream",
     "text": [
      "                                                 \r"
     ]
    },
    {
     "name": "stdout",
     "output_type": "stream",
     "text": [
      "Trainning loss=3.7618\n"
     ]
    },
    {
     "name": "stderr",
     "output_type": "stream",
     "text": [
      "  0%|          | 1/279 [00:00<00:38,  7.30it/s]"
     ]
    },
    {
     "name": "stdout",
     "output_type": "stream",
     "text": [
      "VAL: rmse=6.5967, mae=4.5864, mape=0.1446, acc=0.8697, r2_score=0.6468, var_score=0.6473\n",
      "VAL loss=1.5767\n",
      "==========EPOCH 146===========\n"
     ]
    },
    {
     "name": "stderr",
     "output_type": "stream",
     "text": [
      "                                                 \r"
     ]
    },
    {
     "name": "stdout",
     "output_type": "stream",
     "text": [
      "Trainning loss=3.7584\n"
     ]
    },
    {
     "name": "stderr",
     "output_type": "stream",
     "text": [
      "  0%|          | 1/279 [00:00<00:33,  8.29it/s]"
     ]
    },
    {
     "name": "stdout",
     "output_type": "stream",
     "text": [
      "VAL: rmse=6.6114, mae=4.5933, mape=0.1448, acc=0.8695, r2_score=0.6452, var_score=0.6456\n",
      "VAL loss=1.5838\n",
      "==========EPOCH 147===========\n"
     ]
    },
    {
     "name": "stderr",
     "output_type": "stream",
     "text": [
      "                                                 \r"
     ]
    },
    {
     "name": "stdout",
     "output_type": "stream",
     "text": [
      "Trainning loss=3.7551\n"
     ]
    },
    {
     "name": "stderr",
     "output_type": "stream",
     "text": [
      "  0%|          | 1/279 [00:00<00:35,  7.81it/s]"
     ]
    },
    {
     "name": "stdout",
     "output_type": "stream",
     "text": [
      "VAL: rmse=6.6258, mae=4.6000, mape=0.1450, acc=0.8693, r2_score=0.6437, var_score=0.6440\n",
      "VAL loss=1.5907\n",
      "==========EPOCH 148===========\n"
     ]
    },
    {
     "name": "stderr",
     "output_type": "stream",
     "text": [
      "                                                 \r"
     ]
    },
    {
     "name": "stdout",
     "output_type": "stream",
     "text": [
      "Trainning loss=3.7516\n"
     ]
    },
    {
     "name": "stderr",
     "output_type": "stream",
     "text": [
      "  0%|          | 1/279 [00:00<00:33,  8.26it/s]"
     ]
    },
    {
     "name": "stdout",
     "output_type": "stream",
     "text": [
      "VAL: rmse=6.6420, mae=4.6075, mape=0.1452, acc=0.8691, r2_score=0.6419, var_score=0.6422\n",
      "VAL loss=1.5985\n",
      "==========EPOCH 149===========\n"
     ]
    },
    {
     "name": "stderr",
     "output_type": "stream",
     "text": [
      "                                                 \r"
     ]
    },
    {
     "name": "stdout",
     "output_type": "stream",
     "text": [
      "Trainning loss=3.7481\n"
     ]
    },
    {
     "name": "stderr",
     "output_type": "stream",
     "text": [
      "  0%|          | 1/279 [00:00<00:35,  7.90it/s]"
     ]
    },
    {
     "name": "stdout",
     "output_type": "stream",
     "text": [
      "VAL: rmse=6.6621, mae=4.6169, mape=0.1455, acc=0.8689, r2_score=0.6398, var_score=0.6400\n",
      "VAL loss=1.6081\n",
      "==========EPOCH 150===========\n"
     ]
    },
    {
     "name": "stderr",
     "output_type": "stream",
     "text": [
      "                                                 \r"
     ]
    },
    {
     "name": "stdout",
     "output_type": "stream",
     "text": [
      "Trainning loss=3.7444\n"
     ]
    },
    {
     "name": "stderr",
     "output_type": "stream",
     "text": [
      "  0%|          | 1/279 [00:00<00:33,  8.34it/s]"
     ]
    },
    {
     "name": "stdout",
     "output_type": "stream",
     "text": [
      "VAL: rmse=6.6867, mae=4.6287, mape=0.1458, acc=0.8685, r2_score=0.6371, var_score=0.6374\n",
      "VAL loss=1.6201\n",
      "==========EPOCH 151===========\n"
     ]
    },
    {
     "name": "stderr",
     "output_type": "stream",
     "text": [
      "                                                 \r"
     ]
    },
    {
     "name": "stdout",
     "output_type": "stream",
     "text": [
      "Trainning loss=3.7407\n"
     ]
    },
    {
     "name": "stderr",
     "output_type": "stream",
     "text": [
      "  0%|          | 1/279 [00:00<00:33,  8.31it/s]"
     ]
    },
    {
     "name": "stdout",
     "output_type": "stream",
     "text": [
      "VAL: rmse=6.7168, mae=4.6435, mape=0.1461, acc=0.8681, r2_score=0.6338, var_score=0.6341\n",
      "VAL loss=1.6346\n",
      "==========EPOCH 152===========\n"
     ]
    },
    {
     "name": "stderr",
     "output_type": "stream",
     "text": [
      "                                                 \r"
     ]
    },
    {
     "name": "stdout",
     "output_type": "stream",
     "text": [
      "Trainning loss=3.7370\n"
     ]
    },
    {
     "name": "stderr",
     "output_type": "stream",
     "text": [
      "  0%|          | 1/279 [00:00<00:34,  7.98it/s]"
     ]
    },
    {
     "name": "stdout",
     "output_type": "stream",
     "text": [
      "VAL: rmse=6.7504, mae=4.6602, mape=0.1466, acc=0.8676, r2_score=0.6301, var_score=0.6304\n",
      "VAL loss=1.6510\n",
      "==========EPOCH 153===========\n"
     ]
    },
    {
     "name": "stderr",
     "output_type": "stream",
     "text": [
      "                                                 \r"
     ]
    },
    {
     "name": "stdout",
     "output_type": "stream",
     "text": [
      "Trainning loss=3.7333\n"
     ]
    },
    {
     "name": "stderr",
     "output_type": "stream",
     "text": [
      "  0%|          | 1/279 [00:00<00:35,  7.86it/s]"
     ]
    },
    {
     "name": "stdout",
     "output_type": "stream",
     "text": [
      "VAL: rmse=6.7781, mae=4.6735, mape=0.1469, acc=0.8672, r2_score=0.6271, var_score=0.6274\n",
      "VAL loss=1.6646\n",
      "==========EPOCH 154===========\n"
     ]
    },
    {
     "name": "stderr",
     "output_type": "stream",
     "text": [
      "                                                 \r"
     ]
    },
    {
     "name": "stdout",
     "output_type": "stream",
     "text": [
      "Trainning loss=3.7293\n"
     ]
    },
    {
     "name": "stderr",
     "output_type": "stream",
     "text": [
      "  0%|          | 1/279 [00:00<00:38,  7.30it/s]"
     ]
    },
    {
     "name": "stdout",
     "output_type": "stream",
     "text": [
      "VAL: rmse=6.7880, mae=4.6770, mape=0.1470, acc=0.8671, r2_score=0.6260, var_score=0.6263\n",
      "VAL loss=1.6695\n",
      "==========EPOCH 155===========\n"
     ]
    },
    {
     "name": "stderr",
     "output_type": "stream",
     "text": [
      "                                                 \r"
     ]
    },
    {
     "name": "stdout",
     "output_type": "stream",
     "text": [
      "Trainning loss=3.7255\n"
     ]
    },
    {
     "name": "stderr",
     "output_type": "stream",
     "text": [
      "  0%|          | 1/279 [00:00<00:39,  6.96it/s]"
     ]
    },
    {
     "name": "stdout",
     "output_type": "stream",
     "text": [
      "VAL: rmse=6.7885, mae=4.6742, mape=0.1470, acc=0.8672, r2_score=0.6260, var_score=0.6261\n",
      "VAL loss=1.6697\n",
      "==========EPOCH 156===========\n"
     ]
    },
    {
     "name": "stderr",
     "output_type": "stream",
     "text": [
      "                                                 \r"
     ]
    },
    {
     "name": "stdout",
     "output_type": "stream",
     "text": [
      "Trainning loss=3.7223\n"
     ]
    },
    {
     "name": "stderr",
     "output_type": "stream",
     "text": [
      "  0%|          | 1/279 [00:00<00:35,  7.74it/s]"
     ]
    },
    {
     "name": "stdout",
     "output_type": "stream",
     "text": [
      "VAL: rmse=6.8132, mae=4.6855, mape=0.1473, acc=0.8669, r2_score=0.6232, var_score=0.6234\n",
      "VAL loss=1.6819\n",
      "==========EPOCH 157===========\n"
     ]
    },
    {
     "name": "stderr",
     "output_type": "stream",
     "text": [
      "                                                 \r"
     ]
    },
    {
     "name": "stdout",
     "output_type": "stream",
     "text": [
      "Trainning loss=3.7183\n"
     ]
    },
    {
     "name": "stderr",
     "output_type": "stream",
     "text": [
      "  0%|          | 1/279 [00:00<00:34,  8.13it/s]"
     ]
    },
    {
     "name": "stdout",
     "output_type": "stream",
     "text": [
      "VAL: rmse=6.8401, mae=4.7016, mape=0.1478, acc=0.8664, r2_score=0.6202, var_score=0.6204\n",
      "VAL loss=1.6952\n",
      "==========EPOCH 158===========\n"
     ]
    },
    {
     "name": "stderr",
     "output_type": "stream",
     "text": [
      "                                                 \r"
     ]
    },
    {
     "name": "stdout",
     "output_type": "stream",
     "text": [
      "Trainning loss=3.7146\n"
     ]
    },
    {
     "name": "stderr",
     "output_type": "stream",
     "text": [
      "  0%|          | 1/279 [00:00<00:33,  8.19it/s]"
     ]
    },
    {
     "name": "stdout",
     "output_type": "stream",
     "text": [
      "VAL: rmse=6.8553, mae=4.7104, mape=0.1481, acc=0.8662, r2_score=0.6186, var_score=0.6187\n",
      "VAL loss=1.7028\n",
      "==========EPOCH 159===========\n"
     ]
    },
    {
     "name": "stderr",
     "output_type": "stream",
     "text": [
      "                                                 \r"
     ]
    },
    {
     "name": "stdout",
     "output_type": "stream",
     "text": [
      "Trainning loss=3.7104\n"
     ]
    },
    {
     "name": "stderr",
     "output_type": "stream",
     "text": [
      "  0%|          | 1/279 [00:00<00:42,  6.53it/s]"
     ]
    },
    {
     "name": "stdout",
     "output_type": "stream",
     "text": [
      "VAL: rmse=6.8682, mae=4.7167, mape=0.1484, acc=0.8660, r2_score=0.6171, var_score=0.6172\n",
      "VAL loss=1.7092\n",
      "==========EPOCH 160===========\n"
     ]
    },
    {
     "name": "stderr",
     "output_type": "stream",
     "text": [
      "                                                 \r"
     ]
    },
    {
     "name": "stdout",
     "output_type": "stream",
     "text": [
      "Trainning loss=3.7055\n"
     ]
    },
    {
     "name": "stderr",
     "output_type": "stream",
     "text": [
      "  0%|          | 1/279 [00:00<00:41,  6.74it/s]"
     ]
    },
    {
     "name": "stdout",
     "output_type": "stream",
     "text": [
      "VAL: rmse=6.9034, mae=4.7310, mape=0.1487, acc=0.8656, r2_score=0.6132, var_score=0.6133\n",
      "VAL loss=1.7267\n",
      "==========EPOCH 161===========\n"
     ]
    },
    {
     "name": "stderr",
     "output_type": "stream",
     "text": [
      "                                                 \r"
     ]
    },
    {
     "name": "stdout",
     "output_type": "stream",
     "text": [
      "Trainning loss=3.7015\n"
     ]
    },
    {
     "name": "stderr",
     "output_type": "stream",
     "text": [
      "  0%|          | 1/279 [00:00<00:39,  7.03it/s]"
     ]
    },
    {
     "name": "stdout",
     "output_type": "stream",
     "text": [
      "VAL: rmse=6.9382, mae=4.7414, mape=0.1488, acc=0.8653, r2_score=0.6093, var_score=0.6094\n",
      "VAL loss=1.7442\n",
      "==========EPOCH 162===========\n"
     ]
    },
    {
     "name": "stderr",
     "output_type": "stream",
     "text": [
      "                                                 \r"
     ]
    },
    {
     "name": "stdout",
     "output_type": "stream",
     "text": [
      "Trainning loss=3.6976\n"
     ]
    },
    {
     "name": "stderr",
     "output_type": "stream",
     "text": [
      "  0%|          | 1/279 [00:00<00:38,  7.26it/s]"
     ]
    },
    {
     "name": "stdout",
     "output_type": "stream",
     "text": [
      "VAL: rmse=7.0367, mae=4.7873, mape=0.1500, acc=0.8640, r2_score=0.5981, var_score=0.5982\n",
      "VAL loss=1.7941\n",
      "==========EPOCH 163===========\n"
     ]
    },
    {
     "name": "stderr",
     "output_type": "stream",
     "text": [
      "                                                 \r"
     ]
    },
    {
     "name": "stdout",
     "output_type": "stream",
     "text": [
      "Trainning loss=3.6924\n"
     ]
    },
    {
     "name": "stderr",
     "output_type": "stream",
     "text": [
      "  0%|          | 1/279 [00:00<00:36,  7.64it/s]"
     ]
    },
    {
     "name": "stdout",
     "output_type": "stream",
     "text": [
      "VAL: rmse=7.0307, mae=4.7880, mape=0.1502, acc=0.8640, r2_score=0.5988, var_score=0.5989\n",
      "VAL loss=1.7910\n",
      "==========EPOCH 164===========\n"
     ]
    },
    {
     "name": "stderr",
     "output_type": "stream",
     "text": [
      "                                                 \r"
     ]
    },
    {
     "name": "stdout",
     "output_type": "stream",
     "text": [
      "Trainning loss=3.6873\n"
     ]
    },
    {
     "name": "stderr",
     "output_type": "stream",
     "text": [
      "  0%|          | 1/279 [00:00<00:40,  6.93it/s]"
     ]
    },
    {
     "name": "stdout",
     "output_type": "stream",
     "text": [
      "VAL: rmse=7.0347, mae=4.7937, mape=0.1504, acc=0.8638, r2_score=0.5983, var_score=0.5985\n",
      "VAL loss=1.7931\n",
      "==========EPOCH 165===========\n"
     ]
    },
    {
     "name": "stderr",
     "output_type": "stream",
     "text": [
      "                                                 \r"
     ]
    },
    {
     "name": "stdout",
     "output_type": "stream",
     "text": [
      "Trainning loss=3.6830\n"
     ]
    },
    {
     "name": "stderr",
     "output_type": "stream",
     "text": [
      "  0%|          | 1/279 [00:00<00:42,  6.47it/s]"
     ]
    },
    {
     "name": "stdout",
     "output_type": "stream",
     "text": [
      "VAL: rmse=7.0059, mae=4.7795, mape=0.1502, acc=0.8642, r2_score=0.6016, var_score=0.6017\n",
      "VAL loss=1.7784\n",
      "==========EPOCH 166===========\n"
     ]
    },
    {
     "name": "stderr",
     "output_type": "stream",
     "text": [
      "                                                 \r"
     ]
    },
    {
     "name": "stdout",
     "output_type": "stream",
     "text": [
      "Trainning loss=3.6780\n"
     ]
    },
    {
     "name": "stderr",
     "output_type": "stream",
     "text": [
      "  0%|          | 1/279 [00:00<00:33,  8.20it/s]"
     ]
    },
    {
     "name": "stdout",
     "output_type": "stream",
     "text": [
      "VAL: rmse=7.0014, mae=4.7789, mape=0.1501, acc=0.8643, r2_score=0.6021, var_score=0.6023\n",
      "VAL loss=1.7761\n",
      "==========EPOCH 167===========\n"
     ]
    },
    {
     "name": "stderr",
     "output_type": "stream",
     "text": [
      "                                                 \r"
     ]
    },
    {
     "name": "stdout",
     "output_type": "stream",
     "text": [
      "Trainning loss=3.6774\n"
     ]
    },
    {
     "name": "stderr",
     "output_type": "stream",
     "text": [
      "  0%|          | 1/279 [00:00<00:38,  7.29it/s]"
     ]
    },
    {
     "name": "stdout",
     "output_type": "stream",
     "text": [
      "VAL: rmse=6.9963, mae=4.7804, mape=0.1498, acc=0.8642, r2_score=0.6027, var_score=0.6032\n",
      "VAL loss=1.7736\n",
      "==========EPOCH 168===========\n"
     ]
    },
    {
     "name": "stderr",
     "output_type": "stream",
     "text": [
      "                                                 \r"
     ]
    },
    {
     "name": "stdout",
     "output_type": "stream",
     "text": [
      "Trainning loss=3.6699\n"
     ]
    },
    {
     "name": "stderr",
     "output_type": "stream",
     "text": [
      "  0%|          | 1/279 [00:00<00:33,  8.26it/s]"
     ]
    },
    {
     "name": "stdout",
     "output_type": "stream",
     "text": [
      "VAL: rmse=7.0363, mae=4.8007, mape=0.1504, acc=0.8636, r2_score=0.5982, var_score=0.5986\n",
      "VAL loss=1.7939\n",
      "==========EPOCH 169===========\n"
     ]
    },
    {
     "name": "stderr",
     "output_type": "stream",
     "text": [
      "                                                 \r"
     ]
    },
    {
     "name": "stdout",
     "output_type": "stream",
     "text": [
      "Trainning loss=3.6643\n"
     ]
    },
    {
     "name": "stderr",
     "output_type": "stream",
     "text": [
      "  0%|          | 1/279 [00:00<00:33,  8.20it/s]"
     ]
    },
    {
     "name": "stdout",
     "output_type": "stream",
     "text": [
      "VAL: rmse=7.0175, mae=4.7930, mape=0.1501, acc=0.8638, r2_score=0.6003, var_score=0.6008\n",
      "VAL loss=1.7843\n",
      "==========EPOCH 170===========\n"
     ]
    },
    {
     "name": "stderr",
     "output_type": "stream",
     "text": [
      "                                                 \r"
     ]
    },
    {
     "name": "stdout",
     "output_type": "stream",
     "text": [
      "Trainning loss=3.6600\n"
     ]
    },
    {
     "name": "stderr",
     "output_type": "stream",
     "text": [
      "  0%|          | 1/279 [00:00<00:38,  7.23it/s]"
     ]
    },
    {
     "name": "stdout",
     "output_type": "stream",
     "text": [
      "VAL: rmse=7.0624, mae=4.8158, mape=0.1507, acc=0.8632, r2_score=0.5952, var_score=0.5955\n",
      "VAL loss=1.8072\n",
      "==========EPOCH 171===========\n"
     ]
    },
    {
     "name": "stderr",
     "output_type": "stream",
     "text": [
      "                                                 \r"
     ]
    },
    {
     "name": "stdout",
     "output_type": "stream",
     "text": [
      "Trainning loss=3.6566\n"
     ]
    },
    {
     "name": "stderr",
     "output_type": "stream",
     "text": [
      "  0%|          | 1/279 [00:00<00:33,  8.31it/s]"
     ]
    },
    {
     "name": "stdout",
     "output_type": "stream",
     "text": [
      "VAL: rmse=7.0641, mae=4.8195, mape=0.1506, acc=0.8631, r2_score=0.5950, var_score=0.5956\n",
      "VAL loss=1.8081\n",
      "==========EPOCH 172===========\n"
     ]
    },
    {
     "name": "stderr",
     "output_type": "stream",
     "text": [
      "                                                 \r"
     ]
    },
    {
     "name": "stdout",
     "output_type": "stream",
     "text": [
      "Trainning loss=3.6503\n"
     ]
    },
    {
     "name": "stderr",
     "output_type": "stream",
     "text": [
      "  0%|          | 1/279 [00:00<00:35,  7.82it/s]"
     ]
    },
    {
     "name": "stdout",
     "output_type": "stream",
     "text": [
      "VAL: rmse=7.0459, mae=4.8119, mape=0.1504, acc=0.8633, r2_score=0.5971, var_score=0.5975\n",
      "VAL loss=1.7988\n",
      "==========EPOCH 173===========\n"
     ]
    },
    {
     "name": "stderr",
     "output_type": "stream",
     "text": [
      "                                                 \r"
     ]
    },
    {
     "name": "stdout",
     "output_type": "stream",
     "text": [
      "Trainning loss=3.6460\n"
     ]
    },
    {
     "name": "stderr",
     "output_type": "stream",
     "text": [
      "  0%|          | 1/279 [00:00<00:33,  8.29it/s]"
     ]
    },
    {
     "name": "stdout",
     "output_type": "stream",
     "text": [
      "VAL: rmse=7.0676, mae=4.8220, mape=0.1506, acc=0.8630, r2_score=0.5946, var_score=0.5949\n",
      "VAL loss=1.8099\n",
      "==========EPOCH 174===========\n"
     ]
    },
    {
     "name": "stderr",
     "output_type": "stream",
     "text": [
      "                                                 \r"
     ]
    },
    {
     "name": "stdout",
     "output_type": "stream",
     "text": [
      "Trainning loss=3.6437\n"
     ]
    },
    {
     "name": "stderr",
     "output_type": "stream",
     "text": [
      "  0%|          | 1/279 [00:00<00:33,  8.22it/s]"
     ]
    },
    {
     "name": "stdout",
     "output_type": "stream",
     "text": [
      "VAL: rmse=7.0344, mae=4.8081, mape=0.1507, acc=0.8634, r2_score=0.5984, var_score=0.5985\n",
      "VAL loss=1.7929\n",
      "==========EPOCH 175===========\n"
     ]
    },
    {
     "name": "stderr",
     "output_type": "stream",
     "text": [
      "                                                 \r"
     ]
    },
    {
     "name": "stdout",
     "output_type": "stream",
     "text": [
      "Trainning loss=3.6335\n"
     ]
    },
    {
     "name": "stderr",
     "output_type": "stream",
     "text": [
      "  0%|          | 1/279 [00:00<00:44,  6.27it/s]"
     ]
    },
    {
     "name": "stdout",
     "output_type": "stream",
     "text": [
      "VAL: rmse=7.1153, mae=4.8454, mape=0.1512, acc=0.8624, r2_score=0.5891, var_score=0.5894\n",
      "VAL loss=1.8344\n",
      "==========EPOCH 176===========\n"
     ]
    },
    {
     "name": "stderr",
     "output_type": "stream",
     "text": [
      "                                                 \r"
     ]
    },
    {
     "name": "stdout",
     "output_type": "stream",
     "text": [
      "Trainning loss=3.6309\n"
     ]
    },
    {
     "name": "stderr",
     "output_type": "stream",
     "text": [
      "  0%|          | 1/279 [00:00<00:33,  8.35it/s]"
     ]
    },
    {
     "name": "stdout",
     "output_type": "stream",
     "text": [
      "VAL: rmse=7.1160, mae=4.8464, mape=0.1517, acc=0.8623, r2_score=0.5890, var_score=0.5890\n",
      "VAL loss=1.8347\n",
      "==========EPOCH 177===========\n"
     ]
    },
    {
     "name": "stderr",
     "output_type": "stream",
     "text": [
      "                                                 \r"
     ]
    },
    {
     "name": "stdout",
     "output_type": "stream",
     "text": [
      "Trainning loss=3.6528\n"
     ]
    },
    {
     "name": "stderr",
     "output_type": "stream",
     "text": [
      "  0%|          | 1/279 [00:00<00:32,  8.59it/s]"
     ]
    },
    {
     "name": "stdout",
     "output_type": "stream",
     "text": [
      "VAL: rmse=6.9481, mae=4.7662, mape=0.1491, acc=0.8646, r2_score=0.6082, var_score=0.6086\n",
      "VAL loss=1.7492\n",
      "==========EPOCH 178===========\n"
     ]
    },
    {
     "name": "stderr",
     "output_type": "stream",
     "text": [
      "                                                 \r"
     ]
    },
    {
     "name": "stdout",
     "output_type": "stream",
     "text": [
      "Trainning loss=3.6172\n"
     ]
    },
    {
     "name": "stderr",
     "output_type": "stream",
     "text": [
      "  0%|          | 1/279 [00:00<00:36,  7.71it/s]"
     ]
    },
    {
     "name": "stdout",
     "output_type": "stream",
     "text": [
      "VAL: rmse=7.0362, mae=4.8132, mape=0.1512, acc=0.8633, r2_score=0.5982, var_score=0.5982\n",
      "VAL loss=1.7938\n",
      "==========EPOCH 179===========\n"
     ]
    },
    {
     "name": "stderr",
     "output_type": "stream",
     "text": [
      "                                                 \r"
     ]
    },
    {
     "name": "stdout",
     "output_type": "stream",
     "text": [
      "Trainning loss=3.6264\n"
     ]
    },
    {
     "name": "stderr",
     "output_type": "stream",
     "text": [
      "  0%|          | 1/279 [00:00<00:35,  7.81it/s]"
     ]
    },
    {
     "name": "stdout",
     "output_type": "stream",
     "text": [
      "VAL: rmse=7.0301, mae=4.8104, mape=0.1508, acc=0.8634, r2_score=0.5989, var_score=0.5989\n",
      "VAL loss=1.7907\n",
      "==========EPOCH 180===========\n"
     ]
    },
    {
     "name": "stderr",
     "output_type": "stream",
     "text": [
      "                                                 \r"
     ]
    },
    {
     "name": "stdout",
     "output_type": "stream",
     "text": [
      "Trainning loss=3.6237\n"
     ]
    },
    {
     "name": "stderr",
     "output_type": "stream",
     "text": [
      "  0%|          | 1/279 [00:00<00:33,  8.39it/s]"
     ]
    },
    {
     "name": "stdout",
     "output_type": "stream",
     "text": [
      "VAL: rmse=7.0071, mae=4.7970, mape=0.1504, acc=0.8637, r2_score=0.6015, var_score=0.6016\n",
      "VAL loss=1.7791\n",
      "==========EPOCH 181===========\n"
     ]
    },
    {
     "name": "stderr",
     "output_type": "stream",
     "text": [
      "                                                 \r"
     ]
    },
    {
     "name": "stdout",
     "output_type": "stream",
     "text": [
      "Trainning loss=3.6137\n"
     ]
    },
    {
     "name": "stderr",
     "output_type": "stream",
     "text": [
      "  0%|          | 1/279 [00:00<00:33,  8.41it/s]"
     ]
    },
    {
     "name": "stdout",
     "output_type": "stream",
     "text": [
      "VAL: rmse=7.0337, mae=4.8224, mape=0.1515, acc=0.8630, r2_score=0.5985, var_score=0.5985\n",
      "VAL loss=1.7926\n",
      "==========EPOCH 182===========\n"
     ]
    },
    {
     "name": "stderr",
     "output_type": "stream",
     "text": [
      "                                                 \r"
     ]
    },
    {
     "name": "stdout",
     "output_type": "stream",
     "text": [
      "Trainning loss=3.6061\n"
     ]
    },
    {
     "name": "stderr",
     "output_type": "stream",
     "text": [
      "  0%|          | 1/279 [00:00<00:36,  7.67it/s]"
     ]
    },
    {
     "name": "stdout",
     "output_type": "stream",
     "text": [
      "VAL: rmse=6.9993, mae=4.8058, mape=0.1510, acc=0.8635, r2_score=0.6024, var_score=0.6024\n",
      "VAL loss=1.7751\n",
      "==========EPOCH 183===========\n"
     ]
    },
    {
     "name": "stderr",
     "output_type": "stream",
     "text": [
      "                                                 \r"
     ]
    },
    {
     "name": "stdout",
     "output_type": "stream",
     "text": [
      "Trainning loss=3.6312\n"
     ]
    },
    {
     "name": "stderr",
     "output_type": "stream",
     "text": [
      "  0%|          | 1/279 [00:00<00:38,  7.24it/s]"
     ]
    },
    {
     "name": "stdout",
     "output_type": "stream",
     "text": [
      "VAL: rmse=6.8978, mae=4.7455, mape=0.1494, acc=0.8652, r2_score=0.6138, var_score=0.6138\n",
      "VAL loss=1.7240\n",
      "==========EPOCH 184===========\n"
     ]
    },
    {
     "name": "stderr",
     "output_type": "stream",
     "text": [
      "                                                 \r"
     ]
    },
    {
     "name": "stdout",
     "output_type": "stream",
     "text": [
      "Trainning loss=3.5881\n"
     ]
    },
    {
     "name": "stderr",
     "output_type": "stream",
     "text": [
      "  0%|          | 1/279 [00:00<00:36,  7.60it/s]"
     ]
    },
    {
     "name": "stdout",
     "output_type": "stream",
     "text": [
      "VAL: rmse=6.9642, mae=4.7878, mape=0.1507, acc=0.8640, r2_score=0.6063, var_score=0.6063\n",
      "VAL loss=1.7574\n",
      "==========EPOCH 185===========\n"
     ]
    },
    {
     "name": "stderr",
     "output_type": "stream",
     "text": [
      "                                                 \r"
     ]
    },
    {
     "name": "stdout",
     "output_type": "stream",
     "text": [
      "Trainning loss=3.5926\n"
     ]
    },
    {
     "name": "stderr",
     "output_type": "stream",
     "text": [
      "  0%|          | 1/279 [00:00<00:33,  8.22it/s]"
     ]
    },
    {
     "name": "stdout",
     "output_type": "stream",
     "text": [
      "VAL: rmse=6.9345, mae=4.7727, mape=0.1502, acc=0.8644, r2_score=0.6097, var_score=0.6097\n",
      "VAL loss=1.7424\n",
      "==========EPOCH 186===========\n"
     ]
    },
    {
     "name": "stderr",
     "output_type": "stream",
     "text": [
      "                                                 \r"
     ]
    },
    {
     "name": "stdout",
     "output_type": "stream",
     "text": [
      "Trainning loss=3.5865\n"
     ]
    },
    {
     "name": "stderr",
     "output_type": "stream",
     "text": [
      "  0%|          | 1/279 [00:00<00:33,  8.22it/s]"
     ]
    },
    {
     "name": "stdout",
     "output_type": "stream",
     "text": [
      "VAL: rmse=6.9697, mae=4.7788, mape=0.1497, acc=0.8643, r2_score=0.6057, var_score=0.6057\n",
      "VAL loss=1.7601\n",
      "==========EPOCH 187===========\n"
     ]
    },
    {
     "name": "stderr",
     "output_type": "stream",
     "text": [
      "                                                 \r"
     ]
    },
    {
     "name": "stdout",
     "output_type": "stream",
     "text": [
      "Trainning loss=3.6549\n"
     ]
    },
    {
     "name": "stderr",
     "output_type": "stream",
     "text": [
      "  0%|          | 1/279 [00:00<00:35,  7.74it/s]"
     ]
    },
    {
     "name": "stdout",
     "output_type": "stream",
     "text": [
      "VAL: rmse=6.9465, mae=4.7907, mape=0.1514, acc=0.8639, r2_score=0.6083, var_score=0.6085\n",
      "VAL loss=1.7484\n",
      "==========EPOCH 188===========\n"
     ]
    },
    {
     "name": "stderr",
     "output_type": "stream",
     "text": [
      "                                                 \r"
     ]
    },
    {
     "name": "stdout",
     "output_type": "stream",
     "text": [
      "Trainning loss=3.5754\n"
     ]
    },
    {
     "name": "stderr",
     "output_type": "stream",
     "text": [
      "  0%|          | 1/279 [00:00<00:43,  6.46it/s]"
     ]
    },
    {
     "name": "stdout",
     "output_type": "stream",
     "text": [
      "VAL: rmse=7.3022, mae=4.9988, mape=0.1522, acc=0.8580, r2_score=0.5672, var_score=0.5752\n",
      "VAL loss=1.9320\n",
      "==========EPOCH 189===========\n"
     ]
    },
    {
     "name": "stderr",
     "output_type": "stream",
     "text": [
      "                                                 \r"
     ]
    },
    {
     "name": "stdout",
     "output_type": "stream",
     "text": [
      "Trainning loss=4.2670\n"
     ]
    },
    {
     "name": "stderr",
     "output_type": "stream",
     "text": [
      "  0%|          | 1/279 [00:00<00:37,  7.40it/s]"
     ]
    },
    {
     "name": "stdout",
     "output_type": "stream",
     "text": [
      "VAL: rmse=6.2670, mae=4.3626, mape=0.1394, acc=0.8761, r2_score=0.6812, var_score=0.6813\n",
      "VAL loss=1.4232\n",
      "==========EPOCH 190===========\n"
     ]
    },
    {
     "name": "stderr",
     "output_type": "stream",
     "text": [
      "                                                 \r"
     ]
    },
    {
     "name": "stdout",
     "output_type": "stream",
     "text": [
      "Trainning loss=3.8760\n"
     ]
    },
    {
     "name": "stderr",
     "output_type": "stream",
     "text": [
      "  0%|          | 1/279 [00:00<00:34,  8.14it/s]"
     ]
    },
    {
     "name": "stdout",
     "output_type": "stream",
     "text": [
      "VAL: rmse=6.3022, mae=4.3899, mape=0.1410, acc=0.8753, r2_score=0.6776, var_score=0.6786\n",
      "VAL loss=1.4392\n",
      "==========EPOCH 191===========\n"
     ]
    },
    {
     "name": "stderr",
     "output_type": "stream",
     "text": [
      "                                                 \r"
     ]
    },
    {
     "name": "stdout",
     "output_type": "stream",
     "text": [
      "Trainning loss=3.7425\n"
     ]
    },
    {
     "name": "stderr",
     "output_type": "stream",
     "text": [
      "  0%|          | 1/279 [00:00<00:32,  8.66it/s]"
     ]
    },
    {
     "name": "stdout",
     "output_type": "stream",
     "text": [
      "VAL: rmse=6.4575, mae=4.4781, mape=0.1420, acc=0.8728, r2_score=0.6615, var_score=0.6615\n",
      "VAL loss=1.5110\n",
      "==========EPOCH 192===========\n"
     ]
    },
    {
     "name": "stderr",
     "output_type": "stream",
     "text": [
      "                                                 \r"
     ]
    },
    {
     "name": "stdout",
     "output_type": "stream",
     "text": [
      "Trainning loss=3.6611\n"
     ]
    },
    {
     "name": "stderr",
     "output_type": "stream",
     "text": [
      "  0%|          | 1/279 [00:00<00:32,  8.55it/s]"
     ]
    },
    {
     "name": "stdout",
     "output_type": "stream",
     "text": [
      "VAL: rmse=6.7210, mae=4.6445, mape=0.1459, acc=0.8681, r2_score=0.6334, var_score=0.6336\n",
      "VAL loss=1.6368\n",
      "==========EPOCH 193===========\n"
     ]
    },
    {
     "name": "stderr",
     "output_type": "stream",
     "text": [
      "                                                 \r"
     ]
    },
    {
     "name": "stdout",
     "output_type": "stream",
     "text": [
      "Trainning loss=3.6028\n"
     ]
    },
    {
     "name": "stderr",
     "output_type": "stream",
     "text": [
      "  0%|          | 1/279 [00:00<00:34,  8.17it/s]"
     ]
    },
    {
     "name": "stdout",
     "output_type": "stream",
     "text": [
      "VAL: rmse=6.8687, mae=4.7466, mape=0.1498, acc=0.8652, r2_score=0.6171, var_score=0.6172\n",
      "VAL loss=1.7095\n",
      "==========EPOCH 194===========\n"
     ]
    },
    {
     "name": "stderr",
     "output_type": "stream",
     "text": [
      "                                                 \r"
     ]
    },
    {
     "name": "stdout",
     "output_type": "stream",
     "text": [
      "Trainning loss=3.5729\n"
     ]
    },
    {
     "name": "stderr",
     "output_type": "stream",
     "text": [
      "  0%|          | 1/279 [00:00<00:36,  7.65it/s]"
     ]
    },
    {
     "name": "stdout",
     "output_type": "stream",
     "text": [
      "VAL: rmse=6.9230, mae=4.7849, mape=0.1511, acc=0.8641, r2_score=0.6110, var_score=0.6111\n",
      "VAL loss=1.7366\n",
      "==========EPOCH 195===========\n"
     ]
    },
    {
     "name": "stderr",
     "output_type": "stream",
     "text": [
      "                                                 \r"
     ]
    },
    {
     "name": "stdout",
     "output_type": "stream",
     "text": [
      "Trainning loss=3.5656\n"
     ]
    },
    {
     "name": "stderr",
     "output_type": "stream",
     "text": [
      "  0%|          | 1/279 [00:00<00:34,  8.06it/s]"
     ]
    },
    {
     "name": "stdout",
     "output_type": "stream",
     "text": [
      "VAL: rmse=6.9108, mae=4.7714, mape=0.1506, acc=0.8645, r2_score=0.6124, var_score=0.6124\n",
      "VAL loss=1.7305\n",
      "==========EPOCH 196===========\n"
     ]
    },
    {
     "name": "stderr",
     "output_type": "stream",
     "text": [
      "                                                 \r"
     ]
    },
    {
     "name": "stdout",
     "output_type": "stream",
     "text": [
      "Trainning loss=3.5618\n"
     ]
    },
    {
     "name": "stderr",
     "output_type": "stream",
     "text": [
      "  0%|          | 1/279 [00:00<00:41,  6.76it/s]"
     ]
    },
    {
     "name": "stdout",
     "output_type": "stream",
     "text": [
      "VAL: rmse=6.8912, mae=4.7511, mape=0.1502, acc=0.8650, r2_score=0.6146, var_score=0.6146\n",
      "VAL loss=1.7207\n",
      "==========EPOCH 197===========\n"
     ]
    },
    {
     "name": "stderr",
     "output_type": "stream",
     "text": [
      "                                                 \r"
     ]
    },
    {
     "name": "stdout",
     "output_type": "stream",
     "text": [
      "Trainning loss=3.6798\n"
     ]
    },
    {
     "name": "stderr",
     "output_type": "stream",
     "text": [
      "  0%|          | 1/279 [00:00<00:38,  7.24it/s]"
     ]
    },
    {
     "name": "stdout",
     "output_type": "stream",
     "text": [
      "VAL: rmse=6.8399, mae=4.7338, mape=0.1499, acc=0.8655, r2_score=0.6203, var_score=0.6203\n",
      "VAL loss=1.6952\n",
      "==========EPOCH 198===========\n"
     ]
    },
    {
     "name": "stderr",
     "output_type": "stream",
     "text": [
      "                                                 \r"
     ]
    },
    {
     "name": "stdout",
     "output_type": "stream",
     "text": [
      "Trainning loss=3.5355\n"
     ]
    },
    {
     "name": "stderr",
     "output_type": "stream",
     "text": [
      "  0%|          | 1/279 [00:00<00:33,  8.30it/s]"
     ]
    },
    {
     "name": "stdout",
     "output_type": "stream",
     "text": [
      "VAL: rmse=6.8542, mae=4.7350, mape=0.1499, acc=0.8655, r2_score=0.6187, var_score=0.6187\n",
      "VAL loss=1.7023\n",
      "==========EPOCH 199===========\n"
     ]
    },
    {
     "name": "stderr",
     "output_type": "stream",
     "text": [
      "                                                 \r"
     ]
    },
    {
     "name": "stdout",
     "output_type": "stream",
     "text": [
      "Trainning loss=3.5428\n"
     ]
    },
    {
     "name": "stderr",
     "output_type": "stream",
     "text": [
      "  0%|          | 1/279 [00:00<00:33,  8.24it/s]"
     ]
    },
    {
     "name": "stdout",
     "output_type": "stream",
     "text": [
      "VAL: rmse=6.7835, mae=4.6896, mape=0.1482, acc=0.8668, r2_score=0.6265, var_score=0.6265\n",
      "VAL loss=1.6674\n",
      "==========EPOCH 200===========\n"
     ]
    },
    {
     "name": "stderr",
     "output_type": "stream",
     "text": [
      "                                                 \r"
     ]
    },
    {
     "name": "stdout",
     "output_type": "stream",
     "text": [
      "Trainning loss=3.5444\n"
     ]
    },
    {
     "name": "stderr",
     "output_type": "stream",
     "text": [
      "  0%|          | 1/279 [00:00<00:41,  6.72it/s]"
     ]
    },
    {
     "name": "stdout",
     "output_type": "stream",
     "text": [
      "VAL: rmse=6.8199, mae=4.7028, mape=0.1483, acc=0.8664, r2_score=0.6225, var_score=0.6225\n",
      "VAL loss=1.6853\n",
      "==========EPOCH 201===========\n"
     ]
    },
    {
     "name": "stderr",
     "output_type": "stream",
     "text": [
      "                                                 \r"
     ]
    },
    {
     "name": "stdout",
     "output_type": "stream",
     "text": [
      "Trainning loss=3.5449\n"
     ]
    },
    {
     "name": "stderr",
     "output_type": "stream",
     "text": [
      "  0%|          | 1/279 [00:00<00:46,  6.01it/s]"
     ]
    },
    {
     "name": "stdout",
     "output_type": "stream",
     "text": [
      "VAL: rmse=6.7831, mae=4.6769, mape=0.1476, acc=0.8671, r2_score=0.6266, var_score=0.6266\n",
      "VAL loss=1.6671\n",
      "==========EPOCH 202===========\n"
     ]
    },
    {
     "name": "stderr",
     "output_type": "stream",
     "text": [
      "                                                 \r"
     ]
    },
    {
     "name": "stdout",
     "output_type": "stream",
     "text": [
      "Trainning loss=3.7765\n"
     ]
    },
    {
     "name": "stderr",
     "output_type": "stream",
     "text": [
      "  0%|          | 1/279 [00:00<00:34,  8.04it/s]"
     ]
    },
    {
     "name": "stdout",
     "output_type": "stream",
     "text": [
      "VAL: rmse=6.6351, mae=4.6581, mape=0.1491, acc=0.8677, r2_score=0.6427, var_score=0.6435\n",
      "VAL loss=1.5952\n",
      "==========EPOCH 203===========\n"
     ]
    },
    {
     "name": "stderr",
     "output_type": "stream",
     "text": [
      "                                                 \r"
     ]
    },
    {
     "name": "stdout",
     "output_type": "stream",
     "text": [
      "Trainning loss=3.5187\n"
     ]
    },
    {
     "name": "stderr",
     "output_type": "stream",
     "text": [
      "  0%|          | 1/279 [00:00<00:41,  6.73it/s]"
     ]
    },
    {
     "name": "stdout",
     "output_type": "stream",
     "text": [
      "VAL: rmse=6.7177, mae=4.6619, mape=0.1487, acc=0.8676, r2_score=0.6337, var_score=0.6345\n",
      "VAL loss=1.6352\n",
      "==========EPOCH 204===========\n"
     ]
    },
    {
     "name": "stderr",
     "output_type": "stream",
     "text": [
      "                                                 \r"
     ]
    },
    {
     "name": "stdout",
     "output_type": "stream",
     "text": [
      "Trainning loss=3.5735\n"
     ]
    },
    {
     "name": "stderr",
     "output_type": "stream",
     "text": [
      "  0%|          | 1/279 [00:00<00:33,  8.33it/s]"
     ]
    },
    {
     "name": "stdout",
     "output_type": "stream",
     "text": [
      "VAL: rmse=6.6942, mae=4.6637, mape=0.1493, acc=0.8675, r2_score=0.6363, var_score=0.6381\n",
      "VAL loss=1.6238\n",
      "==========EPOCH 205===========\n"
     ]
    },
    {
     "name": "stderr",
     "output_type": "stream",
     "text": [
      "                                                 \r"
     ]
    },
    {
     "name": "stdout",
     "output_type": "stream",
     "text": [
      "Trainning loss=3.5069\n"
     ]
    },
    {
     "name": "stderr",
     "output_type": "stream",
     "text": [
      "  0%|          | 1/279 [00:00<00:38,  7.31it/s]"
     ]
    },
    {
     "name": "stdout",
     "output_type": "stream",
     "text": [
      "VAL: rmse=6.7426, mae=4.6432, mape=0.1460, acc=0.8681, r2_score=0.6310, var_score=0.6313\n",
      "VAL loss=1.6473\n",
      "==========EPOCH 206===========\n"
     ]
    },
    {
     "name": "stderr",
     "output_type": "stream",
     "text": [
      "                                                 \r"
     ]
    },
    {
     "name": "stdout",
     "output_type": "stream",
     "text": [
      "Trainning loss=3.5705\n"
     ]
    },
    {
     "name": "stderr",
     "output_type": "stream",
     "text": [
      "  0%|          | 1/279 [00:00<00:35,  7.94it/s]"
     ]
    },
    {
     "name": "stdout",
     "output_type": "stream",
     "text": [
      "VAL: rmse=6.3244, mae=4.4682, mape=0.1432, acc=0.8731, r2_score=0.6754, var_score=0.6762\n",
      "VAL loss=1.4494\n",
      "==========EPOCH 207===========\n"
     ]
    },
    {
     "name": "stderr",
     "output_type": "stream",
     "text": [
      "                                                 \r"
     ]
    },
    {
     "name": "stdout",
     "output_type": "stream",
     "text": [
      "Trainning loss=3.5053\n"
     ]
    },
    {
     "name": "stderr",
     "output_type": "stream",
     "text": [
      "  0%|          | 1/279 [00:00<00:33,  8.20it/s]"
     ]
    },
    {
     "name": "stdout",
     "output_type": "stream",
     "text": [
      "VAL: rmse=6.7654, mae=4.6547, mape=0.1474, acc=0.8678, r2_score=0.6285, var_score=0.6286\n",
      "VAL loss=1.6585\n",
      "==========EPOCH 208===========\n"
     ]
    },
    {
     "name": "stderr",
     "output_type": "stream",
     "text": [
      "                                                 \r"
     ]
    },
    {
     "name": "stdout",
     "output_type": "stream",
     "text": [
      "Trainning loss=3.5067\n"
     ]
    },
    {
     "name": "stderr",
     "output_type": "stream",
     "text": [
      "  0%|          | 1/279 [00:00<00:39,  7.11it/s]"
     ]
    },
    {
     "name": "stdout",
     "output_type": "stream",
     "text": [
      "VAL: rmse=6.7358, mae=4.6395, mape=0.1465, acc=0.8682, r2_score=0.6317, var_score=0.6318\n",
      "VAL loss=1.6440\n",
      "==========EPOCH 209===========\n"
     ]
    },
    {
     "name": "stderr",
     "output_type": "stream",
     "text": [
      "                                                 \r"
     ]
    },
    {
     "name": "stdout",
     "output_type": "stream",
     "text": [
      "Trainning loss=3.5404\n"
     ]
    },
    {
     "name": "stderr",
     "output_type": "stream",
     "text": [
      "  0%|          | 1/279 [00:00<00:41,  6.66it/s]"
     ]
    },
    {
     "name": "stdout",
     "output_type": "stream",
     "text": [
      "VAL: rmse=6.7242, mae=4.6424, mape=0.1479, acc=0.8681, r2_score=0.6330, var_score=0.6337\n",
      "VAL loss=1.6383\n",
      "==========EPOCH 210===========\n"
     ]
    },
    {
     "name": "stderr",
     "output_type": "stream",
     "text": [
      "                                                 \r"
     ]
    },
    {
     "name": "stdout",
     "output_type": "stream",
     "text": [
      "Trainning loss=3.5292\n"
     ]
    },
    {
     "name": "stderr",
     "output_type": "stream",
     "text": [
      "  0%|          | 1/279 [00:00<00:35,  7.78it/s]"
     ]
    },
    {
     "name": "stdout",
     "output_type": "stream",
     "text": [
      "VAL: rmse=6.3223, mae=4.4855, mape=0.1440, acc=0.8726, r2_score=0.6756, var_score=0.6772\n",
      "VAL loss=1.4484\n",
      "==========EPOCH 211===========\n"
     ]
    },
    {
     "name": "stderr",
     "output_type": "stream",
     "text": [
      "                                                 \r"
     ]
    },
    {
     "name": "stdout",
     "output_type": "stream",
     "text": [
      "Trainning loss=3.4872\n"
     ]
    },
    {
     "name": "stderr",
     "output_type": "stream",
     "text": [
      "  0%|          | 1/279 [00:00<00:36,  7.64it/s]"
     ]
    },
    {
     "name": "stdout",
     "output_type": "stream",
     "text": [
      "VAL: rmse=6.7578, mae=4.6407, mape=0.1452, acc=0.8682, r2_score=0.6293, var_score=0.6305\n",
      "VAL loss=1.6547\n",
      "==========EPOCH 212===========\n"
     ]
    },
    {
     "name": "stderr",
     "output_type": "stream",
     "text": [
      "                                                 \r"
     ]
    },
    {
     "name": "stdout",
     "output_type": "stream",
     "text": [
      "Trainning loss=3.5317\n"
     ]
    },
    {
     "name": "stderr",
     "output_type": "stream",
     "text": [
      "  0%|          | 1/279 [00:00<00:37,  7.47it/s]"
     ]
    },
    {
     "name": "stdout",
     "output_type": "stream",
     "text": [
      "VAL: rmse=6.7108, mae=4.6325, mape=0.1474, acc=0.8684, r2_score=0.6345, var_score=0.6349\n",
      "VAL loss=1.6319\n",
      "==========EPOCH 213===========\n"
     ]
    },
    {
     "name": "stderr",
     "output_type": "stream",
     "text": [
      "                                                 \r"
     ]
    },
    {
     "name": "stdout",
     "output_type": "stream",
     "text": [
      "Trainning loss=3.4730\n"
     ]
    },
    {
     "name": "stderr",
     "output_type": "stream",
     "text": [
      "  0%|          | 1/279 [00:00<00:38,  7.31it/s]"
     ]
    },
    {
     "name": "stdout",
     "output_type": "stream",
     "text": [
      "VAL: rmse=6.7759, mae=4.6540, mape=0.1469, acc=0.8678, r2_score=0.6273, var_score=0.6274\n",
      "VAL loss=1.6636\n",
      "==========EPOCH 214===========\n"
     ]
    },
    {
     "name": "stderr",
     "output_type": "stream",
     "text": [
      "                                                 \r"
     ]
    },
    {
     "name": "stdout",
     "output_type": "stream",
     "text": [
      "Trainning loss=3.4895\n"
     ]
    },
    {
     "name": "stderr",
     "output_type": "stream",
     "text": [
      "  0%|          | 1/279 [00:00<00:33,  8.28it/s]"
     ]
    },
    {
     "name": "stdout",
     "output_type": "stream",
     "text": [
      "VAL: rmse=6.7708, mae=4.6471, mape=0.1465, acc=0.8680, r2_score=0.6279, var_score=0.6279\n",
      "VAL loss=1.6611\n",
      "==========EPOCH 215===========\n"
     ]
    },
    {
     "name": "stderr",
     "output_type": "stream",
     "text": [
      "                                                 \r"
     ]
    },
    {
     "name": "stdout",
     "output_type": "stream",
     "text": [
      "Trainning loss=3.4878\n"
     ]
    },
    {
     "name": "stderr",
     "output_type": "stream",
     "text": [
      "  0%|          | 1/279 [00:00<00:39,  6.96it/s]"
     ]
    },
    {
     "name": "stdout",
     "output_type": "stream",
     "text": [
      "VAL: rmse=6.7324, mae=4.6331, mape=0.1463, acc=0.8684, r2_score=0.6321, var_score=0.6321\n",
      "VAL loss=1.6423\n",
      "==========EPOCH 216===========\n"
     ]
    },
    {
     "name": "stderr",
     "output_type": "stream",
     "text": [
      "                                                 \r"
     ]
    },
    {
     "name": "stdout",
     "output_type": "stream",
     "text": [
      "Trainning loss=3.4688\n"
     ]
    },
    {
     "name": "stderr",
     "output_type": "stream",
     "text": [
      "  0%|          | 1/279 [00:00<00:35,  7.78it/s]"
     ]
    },
    {
     "name": "stdout",
     "output_type": "stream",
     "text": [
      "VAL: rmse=6.7486, mae=4.6353, mape=0.1458, acc=0.8683, r2_score=0.6303, var_score=0.6306\n",
      "VAL loss=1.6503\n",
      "==========EPOCH 217===========\n"
     ]
    },
    {
     "name": "stderr",
     "output_type": "stream",
     "text": [
      "                                                 \r"
     ]
    },
    {
     "name": "stdout",
     "output_type": "stream",
     "text": [
      "Trainning loss=3.4820\n"
     ]
    },
    {
     "name": "stderr",
     "output_type": "stream",
     "text": [
      "  0%|          | 1/279 [00:00<00:40,  6.89it/s]"
     ]
    },
    {
     "name": "stdout",
     "output_type": "stream",
     "text": [
      "VAL: rmse=6.7992, mae=4.6693, mape=0.1482, acc=0.8674, r2_score=0.6248, var_score=0.6257\n",
      "VAL loss=1.6751\n",
      "==========EPOCH 218===========\n"
     ]
    },
    {
     "name": "stderr",
     "output_type": "stream",
     "text": [
      "                                                 \r"
     ]
    },
    {
     "name": "stdout",
     "output_type": "stream",
     "text": [
      "Trainning loss=3.4518\n"
     ]
    },
    {
     "name": "stderr",
     "output_type": "stream",
     "text": [
      "  0%|          | 1/279 [00:00<00:32,  8.47it/s]"
     ]
    },
    {
     "name": "stdout",
     "output_type": "stream",
     "text": [
      "VAL: rmse=6.7804, mae=4.6445, mape=0.1465, acc=0.8681, r2_score=0.6268, var_score=0.6269\n",
      "VAL loss=1.6659\n",
      "==========EPOCH 219===========\n"
     ]
    },
    {
     "name": "stderr",
     "output_type": "stream",
     "text": [
      "                                                 \r"
     ]
    },
    {
     "name": "stdout",
     "output_type": "stream",
     "text": [
      "Trainning loss=3.4623\n"
     ]
    },
    {
     "name": "stderr",
     "output_type": "stream",
     "text": [
      "  0%|          | 1/279 [00:00<00:34,  8.15it/s]"
     ]
    },
    {
     "name": "stdout",
     "output_type": "stream",
     "text": [
      "VAL: rmse=6.7604, mae=4.6293, mape=0.1460, acc=0.8685, r2_score=0.6291, var_score=0.6291\n",
      "VAL loss=1.6560\n",
      "==========EPOCH 220===========\n"
     ]
    },
    {
     "name": "stderr",
     "output_type": "stream",
     "text": [
      "                                                 \r"
     ]
    },
    {
     "name": "stdout",
     "output_type": "stream",
     "text": [
      "Trainning loss=3.4557\n"
     ]
    },
    {
     "name": "stderr",
     "output_type": "stream",
     "text": [
      "  0%|          | 1/279 [00:00<00:37,  7.51it/s]"
     ]
    },
    {
     "name": "stdout",
     "output_type": "stream",
     "text": [
      "VAL: rmse=6.7578, mae=4.6245, mape=0.1457, acc=0.8686, r2_score=0.6293, var_score=0.6294\n",
      "VAL loss=1.6548\n",
      "==========EPOCH 221===========\n"
     ]
    },
    {
     "name": "stderr",
     "output_type": "stream",
     "text": [
      "                                                 \r"
     ]
    },
    {
     "name": "stdout",
     "output_type": "stream",
     "text": [
      "Trainning loss=3.4505\n"
     ]
    },
    {
     "name": "stderr",
     "output_type": "stream",
     "text": [
      "  0%|          | 1/279 [00:00<00:40,  6.84it/s]"
     ]
    },
    {
     "name": "stdout",
     "output_type": "stream",
     "text": [
      "VAL: rmse=6.7618, mae=4.6312, mape=0.1463, acc=0.8684, r2_score=0.6289, var_score=0.6291\n",
      "VAL loss=1.6567\n",
      "==========EPOCH 222===========\n"
     ]
    },
    {
     "name": "stderr",
     "output_type": "stream",
     "text": [
      "                                                 \r"
     ]
    },
    {
     "name": "stdout",
     "output_type": "stream",
     "text": [
      "Trainning loss=3.4609\n"
     ]
    },
    {
     "name": "stderr",
     "output_type": "stream",
     "text": [
      "  0%|          | 1/279 [00:00<00:32,  8.43it/s]"
     ]
    },
    {
     "name": "stdout",
     "output_type": "stream",
     "text": [
      "VAL: rmse=6.7459, mae=4.6369, mape=0.1469, acc=0.8683, r2_score=0.6306, var_score=0.6314\n",
      "VAL loss=1.6489\n",
      "==========EPOCH 223===========\n"
     ]
    },
    {
     "name": "stderr",
     "output_type": "stream",
     "text": [
      "                                                 \r"
     ]
    },
    {
     "name": "stdout",
     "output_type": "stream",
     "text": [
      "Trainning loss=3.4625\n"
     ]
    },
    {
     "name": "stderr",
     "output_type": "stream",
     "text": [
      "  0%|          | 1/279 [00:00<00:33,  8.38it/s]"
     ]
    },
    {
     "name": "stdout",
     "output_type": "stream",
     "text": [
      "VAL: rmse=6.7734, mae=4.6370, mape=0.1466, acc=0.8683, r2_score=0.6276, var_score=0.6280\n",
      "VAL loss=1.6624\n",
      "==========EPOCH 224===========\n"
     ]
    },
    {
     "name": "stderr",
     "output_type": "stream",
     "text": [
      "                                                 \r"
     ]
    },
    {
     "name": "stdout",
     "output_type": "stream",
     "text": [
      "Trainning loss=3.4248\n"
     ]
    },
    {
     "name": "stderr",
     "output_type": "stream",
     "text": [
      "  0%|          | 1/279 [00:00<00:37,  7.48it/s]"
     ]
    },
    {
     "name": "stdout",
     "output_type": "stream",
     "text": [
      "VAL: rmse=6.7672, mae=4.6207, mape=0.1455, acc=0.8687, r2_score=0.6283, var_score=0.6284\n",
      "VAL loss=1.6594\n",
      "==========EPOCH 225===========\n"
     ]
    },
    {
     "name": "stderr",
     "output_type": "stream",
     "text": [
      "                                                 \r"
     ]
    },
    {
     "name": "stdout",
     "output_type": "stream",
     "text": [
      "Trainning loss=3.4224\n"
     ]
    },
    {
     "name": "stderr",
     "output_type": "stream",
     "text": [
      "  0%|          | 1/279 [00:00<00:36,  7.67it/s]"
     ]
    },
    {
     "name": "stdout",
     "output_type": "stream",
     "text": [
      "VAL: rmse=6.7654, mae=4.6120, mape=0.1449, acc=0.8690, r2_score=0.6285, var_score=0.6285\n",
      "VAL loss=1.6585\n",
      "==========EPOCH 226===========\n"
     ]
    },
    {
     "name": "stderr",
     "output_type": "stream",
     "text": [
      "                                                 \r"
     ]
    },
    {
     "name": "stdout",
     "output_type": "stream",
     "text": [
      "Trainning loss=3.4164\n"
     ]
    },
    {
     "name": "stderr",
     "output_type": "stream",
     "text": [
      "  0%|          | 1/279 [00:00<00:36,  7.64it/s]"
     ]
    },
    {
     "name": "stdout",
     "output_type": "stream",
     "text": [
      "VAL: rmse=6.7766, mae=4.6186, mape=0.1447, acc=0.8688, r2_score=0.6273, var_score=0.6273\n",
      "VAL loss=1.6640\n",
      "==========EPOCH 227===========\n"
     ]
    },
    {
     "name": "stderr",
     "output_type": "stream",
     "text": [
      "                                                 \r"
     ]
    },
    {
     "name": "stdout",
     "output_type": "stream",
     "text": [
      "Trainning loss=3.4175\n"
     ]
    },
    {
     "name": "stderr",
     "output_type": "stream",
     "text": [
      "  0%|          | 1/279 [00:00<00:41,  6.75it/s]"
     ]
    },
    {
     "name": "stdout",
     "output_type": "stream",
     "text": [
      "VAL: rmse=6.7662, mae=4.6100, mape=0.1451, acc=0.8690, r2_score=0.6284, var_score=0.6284\n",
      "VAL loss=1.6589\n",
      "==========EPOCH 228===========\n"
     ]
    },
    {
     "name": "stderr",
     "output_type": "stream",
     "text": [
      "                                                 \r"
     ]
    },
    {
     "name": "stdout",
     "output_type": "stream",
     "text": [
      "Trainning loss=3.4482\n"
     ]
    },
    {
     "name": "stderr",
     "output_type": "stream",
     "text": [
      "  0%|          | 1/279 [00:00<00:43,  6.41it/s]"
     ]
    },
    {
     "name": "stdout",
     "output_type": "stream",
     "text": [
      "VAL: rmse=6.7488, mae=4.6019, mape=0.1445, acc=0.8693, r2_score=0.6303, var_score=0.6303\n",
      "VAL loss=1.6504\n",
      "==========EPOCH 229===========\n"
     ]
    },
    {
     "name": "stderr",
     "output_type": "stream",
     "text": [
      "                                                 \r"
     ]
    },
    {
     "name": "stdout",
     "output_type": "stream",
     "text": [
      "Trainning loss=3.4188\n"
     ]
    },
    {
     "name": "stderr",
     "output_type": "stream",
     "text": [
      "  0%|          | 1/279 [00:00<00:33,  8.21it/s]"
     ]
    },
    {
     "name": "stdout",
     "output_type": "stream",
     "text": [
      "VAL: rmse=6.6766, mae=4.5693, mape=0.1438, acc=0.8702, r2_score=0.6382, var_score=0.6382\n",
      "VAL loss=1.6153\n",
      "==========EPOCH 230===========\n"
     ]
    },
    {
     "name": "stderr",
     "output_type": "stream",
     "text": [
      "                                                 \r"
     ]
    },
    {
     "name": "stdout",
     "output_type": "stream",
     "text": [
      "Trainning loss=3.3877\n"
     ]
    },
    {
     "name": "stderr",
     "output_type": "stream",
     "text": [
      "  0%|          | 1/279 [00:00<00:38,  7.18it/s]"
     ]
    },
    {
     "name": "stdout",
     "output_type": "stream",
     "text": [
      "VAL: rmse=6.7755, mae=4.6024, mape=0.1444, acc=0.8693, r2_score=0.6274, var_score=0.6275\n",
      "VAL loss=1.6635\n",
      "==========EPOCH 231===========\n"
     ]
    },
    {
     "name": "stderr",
     "output_type": "stream",
     "text": [
      "                                                 \r"
     ]
    },
    {
     "name": "stdout",
     "output_type": "stream",
     "text": [
      "Trainning loss=3.3924\n"
     ]
    },
    {
     "name": "stderr",
     "output_type": "stream",
     "text": [
      "  0%|          | 1/279 [00:00<00:40,  6.95it/s]"
     ]
    },
    {
     "name": "stdout",
     "output_type": "stream",
     "text": [
      "VAL: rmse=6.7513, mae=4.6026, mape=0.1441, acc=0.8693, r2_score=0.6300, var_score=0.6304\n",
      "VAL loss=1.6516\n",
      "==========EPOCH 232===========\n"
     ]
    },
    {
     "name": "stderr",
     "output_type": "stream",
     "text": [
      "                                                 \r"
     ]
    },
    {
     "name": "stdout",
     "output_type": "stream",
     "text": [
      "Trainning loss=3.3758\n"
     ]
    },
    {
     "name": "stderr",
     "output_type": "stream",
     "text": [
      "  0%|          | 1/279 [00:00<00:40,  6.84it/s]"
     ]
    },
    {
     "name": "stdout",
     "output_type": "stream",
     "text": [
      "VAL: rmse=6.7454, mae=4.5958, mape=0.1443, acc=0.8695, r2_score=0.6307, var_score=0.6308\n",
      "VAL loss=1.6487\n",
      "==========EPOCH 233===========\n"
     ]
    },
    {
     "name": "stderr",
     "output_type": "stream",
     "text": [
      "                                                 \r"
     ]
    },
    {
     "name": "stdout",
     "output_type": "stream",
     "text": [
      "Trainning loss=3.3706\n"
     ]
    },
    {
     "name": "stderr",
     "output_type": "stream",
     "text": [
      "  0%|          | 1/279 [00:00<00:34,  8.14it/s]"
     ]
    },
    {
     "name": "stdout",
     "output_type": "stream",
     "text": [
      "VAL: rmse=6.7458, mae=4.5915, mape=0.1441, acc=0.8696, r2_score=0.6307, var_score=0.6309\n",
      "VAL loss=1.6489\n",
      "==========EPOCH 234===========\n"
     ]
    },
    {
     "name": "stderr",
     "output_type": "stream",
     "text": [
      "                                                 \r"
     ]
    },
    {
     "name": "stdout",
     "output_type": "stream",
     "text": [
      "Trainning loss=3.3941\n"
     ]
    },
    {
     "name": "stderr",
     "output_type": "stream",
     "text": [
      "  0%|          | 1/279 [00:00<00:33,  8.19it/s]"
     ]
    },
    {
     "name": "stdout",
     "output_type": "stream",
     "text": [
      "VAL: rmse=6.5842, mae=4.5258, mape=0.1426, acc=0.8714, r2_score=0.6481, var_score=0.6481\n",
      "VAL loss=1.5709\n",
      "==========EPOCH 235===========\n"
     ]
    },
    {
     "name": "stderr",
     "output_type": "stream",
     "text": [
      "                                                 \r"
     ]
    },
    {
     "name": "stdout",
     "output_type": "stream",
     "text": [
      "Trainning loss=3.3533\n"
     ]
    },
    {
     "name": "stderr",
     "output_type": "stream",
     "text": [
      "  0%|          | 1/279 [00:00<00:33,  8.31it/s]"
     ]
    },
    {
     "name": "stdout",
     "output_type": "stream",
     "text": [
      "VAL: rmse=6.7101, mae=4.5740, mape=0.1437, acc=0.8701, r2_score=0.6345, var_score=0.6348\n",
      "VAL loss=1.6315\n",
      "==========EPOCH 236===========\n"
     ]
    },
    {
     "name": "stderr",
     "output_type": "stream",
     "text": [
      "                                                 \r"
     ]
    },
    {
     "name": "stdout",
     "output_type": "stream",
     "text": [
      "Trainning loss=3.3495\n"
     ]
    },
    {
     "name": "stderr",
     "output_type": "stream",
     "text": [
      "  0%|          | 1/279 [00:00<00:41,  6.67it/s]"
     ]
    },
    {
     "name": "stdout",
     "output_type": "stream",
     "text": [
      "VAL: rmse=6.6587, mae=4.5562, mape=0.1427, acc=0.8706, r2_score=0.6401, var_score=0.6410\n",
      "VAL loss=1.6066\n",
      "==========EPOCH 237===========\n"
     ]
    },
    {
     "name": "stderr",
     "output_type": "stream",
     "text": [
      "                                                 \r"
     ]
    },
    {
     "name": "stdout",
     "output_type": "stream",
     "text": [
      "Trainning loss=3.3477\n"
     ]
    },
    {
     "name": "stderr",
     "output_type": "stream",
     "text": [
      "  0%|          | 1/279 [00:00<00:33,  8.30it/s]"
     ]
    },
    {
     "name": "stdout",
     "output_type": "stream",
     "text": [
      "VAL: rmse=6.6360, mae=4.5502, mape=0.1421, acc=0.8707, r2_score=0.6426, var_score=0.6445\n",
      "VAL loss=1.5957\n",
      "==========EPOCH 238===========\n"
     ]
    },
    {
     "name": "stderr",
     "output_type": "stream",
     "text": [
      "                                                 \r"
     ]
    },
    {
     "name": "stdout",
     "output_type": "stream",
     "text": [
      "Trainning loss=3.3346\n"
     ]
    },
    {
     "name": "stderr",
     "output_type": "stream",
     "text": [
      "  0%|          | 1/279 [00:00<00:39,  7.00it/s]"
     ]
    },
    {
     "name": "stdout",
     "output_type": "stream",
     "text": [
      "VAL: rmse=6.6341, mae=4.5565, mape=0.1421, acc=0.8706, r2_score=0.6428, var_score=0.6452\n",
      "VAL loss=1.5948\n",
      "==========EPOCH 239===========\n"
     ]
    },
    {
     "name": "stderr",
     "output_type": "stream",
     "text": [
      "                                                 \r"
     ]
    },
    {
     "name": "stdout",
     "output_type": "stream",
     "text": [
      "Trainning loss=3.3264\n"
     ]
    },
    {
     "name": "stderr",
     "output_type": "stream",
     "text": [
      "  0%|          | 1/279 [00:00<00:42,  6.49it/s]"
     ]
    },
    {
     "name": "stdout",
     "output_type": "stream",
     "text": [
      "VAL: rmse=6.5863, mae=4.5292, mape=0.1415, acc=0.8713, r2_score=0.6479, var_score=0.6500\n",
      "VAL loss=1.5719\n",
      "==========EPOCH 240===========\n"
     ]
    },
    {
     "name": "stderr",
     "output_type": "stream",
     "text": [
      "                                                 \r"
     ]
    },
    {
     "name": "stdout",
     "output_type": "stream",
     "text": [
      "Trainning loss=3.3274\n"
     ]
    },
    {
     "name": "stderr",
     "output_type": "stream",
     "text": [
      "  0%|          | 1/279 [00:00<00:43,  6.41it/s]"
     ]
    },
    {
     "name": "stdout",
     "output_type": "stream",
     "text": [
      "VAL: rmse=6.5506, mae=4.5058, mape=0.1417, acc=0.8720, r2_score=0.6517, var_score=0.6524\n",
      "VAL loss=1.5549\n",
      "==========EPOCH 241===========\n"
     ]
    },
    {
     "name": "stderr",
     "output_type": "stream",
     "text": [
      "                                                 \r"
     ]
    },
    {
     "name": "stdout",
     "output_type": "stream",
     "text": [
      "Trainning loss=3.3058\n"
     ]
    },
    {
     "name": "stderr",
     "output_type": "stream",
     "text": [
      "  0%|          | 1/279 [00:00<00:36,  7.66it/s]"
     ]
    },
    {
     "name": "stdout",
     "output_type": "stream",
     "text": [
      "VAL: rmse=6.5097, mae=4.4921, mape=0.1403, acc=0.8724, r2_score=0.6561, var_score=0.6586\n",
      "VAL loss=1.5355\n",
      "==========EPOCH 242===========\n"
     ]
    },
    {
     "name": "stderr",
     "output_type": "stream",
     "text": [
      "                                                 \r"
     ]
    },
    {
     "name": "stdout",
     "output_type": "stream",
     "text": [
      "Trainning loss=3.3066\n"
     ]
    },
    {
     "name": "stderr",
     "output_type": "stream",
     "text": [
      "  0%|          | 1/279 [00:00<00:37,  7.37it/s]"
     ]
    },
    {
     "name": "stdout",
     "output_type": "stream",
     "text": [
      "VAL: rmse=6.4987, mae=4.4926, mape=0.1401, acc=0.8724, r2_score=0.6572, var_score=0.6607\n",
      "VAL loss=1.5304\n",
      "==========EPOCH 243===========\n"
     ]
    },
    {
     "name": "stderr",
     "output_type": "stream",
     "text": [
      "                                                 \r"
     ]
    },
    {
     "name": "stdout",
     "output_type": "stream",
     "text": [
      "Trainning loss=3.2944\n"
     ]
    },
    {
     "name": "stderr",
     "output_type": "stream",
     "text": [
      "  0%|          | 1/279 [00:00<00:33,  8.32it/s]"
     ]
    },
    {
     "name": "stdout",
     "output_type": "stream",
     "text": [
      "VAL: rmse=6.4801, mae=4.4799, mape=0.1398, acc=0.8727, r2_score=0.6592, var_score=0.6627\n",
      "VAL loss=1.5216\n",
      "==========EPOCH 244===========\n"
     ]
    },
    {
     "name": "stderr",
     "output_type": "stream",
     "text": [
      "                                                 \r"
     ]
    },
    {
     "name": "stdout",
     "output_type": "stream",
     "text": [
      "Trainning loss=3.2779\n"
     ]
    },
    {
     "name": "stderr",
     "output_type": "stream",
     "text": [
      "  0%|          | 1/279 [00:00<00:33,  8.19it/s]"
     ]
    },
    {
     "name": "stdout",
     "output_type": "stream",
     "text": [
      "VAL: rmse=6.4852, mae=4.4778, mape=0.1400, acc=0.8728, r2_score=0.6586, var_score=0.6616\n",
      "VAL loss=1.5240\n",
      "==========EPOCH 245===========\n"
     ]
    },
    {
     "name": "stderr",
     "output_type": "stream",
     "text": [
      "                                                 \r"
     ]
    },
    {
     "name": "stdout",
     "output_type": "stream",
     "text": [
      "Trainning loss=3.2779\n"
     ]
    },
    {
     "name": "stderr",
     "output_type": "stream",
     "text": [
      "  0%|          | 1/279 [00:00<00:42,  6.60it/s]"
     ]
    },
    {
     "name": "stdout",
     "output_type": "stream",
     "text": [
      "VAL: rmse=6.4656, mae=4.4683, mape=0.1397, acc=0.8731, r2_score=0.6607, var_score=0.6638\n",
      "VAL loss=1.5149\n",
      "==========EPOCH 246===========\n"
     ]
    },
    {
     "name": "stderr",
     "output_type": "stream",
     "text": [
      "                                                 \r"
     ]
    },
    {
     "name": "stdout",
     "output_type": "stream",
     "text": [
      "Trainning loss=3.2689\n"
     ]
    },
    {
     "name": "stderr",
     "output_type": "stream",
     "text": [
      "  0%|          | 1/279 [00:00<00:36,  7.57it/s]"
     ]
    },
    {
     "name": "stdout",
     "output_type": "stream",
     "text": [
      "VAL: rmse=6.4681, mae=4.4676, mape=0.1399, acc=0.8731, r2_score=0.6604, var_score=0.6631\n",
      "VAL loss=1.5160\n",
      "==========EPOCH 247===========\n"
     ]
    },
    {
     "name": "stderr",
     "output_type": "stream",
     "text": [
      "                                                 \r"
     ]
    },
    {
     "name": "stdout",
     "output_type": "stream",
     "text": [
      "Trainning loss=3.2562\n"
     ]
    },
    {
     "name": "stderr",
     "output_type": "stream",
     "text": [
      "  0%|          | 1/279 [00:00<00:40,  6.80it/s]"
     ]
    },
    {
     "name": "stdout",
     "output_type": "stream",
     "text": [
      "VAL: rmse=6.4689, mae=4.4672, mape=0.1402, acc=0.8731, r2_score=0.6603, var_score=0.6624\n",
      "VAL loss=1.5164\n",
      "==========EPOCH 248===========\n"
     ]
    },
    {
     "name": "stderr",
     "output_type": "stream",
     "text": [
      "                                                 \r"
     ]
    },
    {
     "name": "stdout",
     "output_type": "stream",
     "text": [
      "Trainning loss=3.2487\n"
     ]
    },
    {
     "name": "stderr",
     "output_type": "stream",
     "text": [
      "  0%|          | 1/279 [00:00<00:44,  6.18it/s]"
     ]
    },
    {
     "name": "stdout",
     "output_type": "stream",
     "text": [
      "VAL: rmse=6.4778, mae=4.4706, mape=0.1407, acc=0.8730, r2_score=0.6594, var_score=0.6608\n",
      "VAL loss=1.5205\n",
      "==========EPOCH 249===========\n"
     ]
    },
    {
     "name": "stderr",
     "output_type": "stream",
     "text": [
      "                                                 \r"
     ]
    },
    {
     "name": "stdout",
     "output_type": "stream",
     "text": [
      "Trainning loss=3.2287\n"
     ]
    },
    {
     "name": "stderr",
     "output_type": "stream",
     "text": [
      "  0%|          | 1/279 [00:00<00:38,  7.24it/s]"
     ]
    },
    {
     "name": "stdout",
     "output_type": "stream",
     "text": [
      "VAL: rmse=6.4647, mae=4.4624, mape=0.1406, acc=0.8732, r2_score=0.6608, var_score=0.6619\n",
      "VAL loss=1.5144\n",
      "==========EPOCH 250===========\n"
     ]
    },
    {
     "name": "stderr",
     "output_type": "stream",
     "text": [
      "                                                 \r"
     ]
    },
    {
     "name": "stdout",
     "output_type": "stream",
     "text": [
      "Trainning loss=3.2146\n"
     ]
    },
    {
     "name": "stderr",
     "output_type": "stream",
     "text": [
      "  0%|          | 1/279 [00:00<00:39,  7.04it/s]"
     ]
    },
    {
     "name": "stdout",
     "output_type": "stream",
     "text": [
      "VAL: rmse=6.4487, mae=4.4521, mape=0.1406, acc=0.8735, r2_score=0.6625, var_score=0.6632\n",
      "VAL loss=1.5070\n",
      "==========EPOCH 251===========\n"
     ]
    },
    {
     "name": "stderr",
     "output_type": "stream",
     "text": [
      "                                                 \r"
     ]
    },
    {
     "name": "stdout",
     "output_type": "stream",
     "text": [
      "Trainning loss=3.2022\n"
     ]
    },
    {
     "name": "stderr",
     "output_type": "stream",
     "text": [
      "  0%|          | 1/279 [00:00<00:33,  8.40it/s]"
     ]
    },
    {
     "name": "stdout",
     "output_type": "stream",
     "text": [
      "VAL: rmse=6.4374, mae=4.4441, mape=0.1404, acc=0.8738, r2_score=0.6637, var_score=0.6643\n",
      "VAL loss=1.5017\n",
      "==========EPOCH 252===========\n"
     ]
    },
    {
     "name": "stderr",
     "output_type": "stream",
     "text": [
      "                                                 \r"
     ]
    },
    {
     "name": "stdout",
     "output_type": "stream",
     "text": [
      "Trainning loss=3.1931\n"
     ]
    },
    {
     "name": "stderr",
     "output_type": "stream",
     "text": [
      "  0%|          | 1/279 [00:00<00:33,  8.26it/s]"
     ]
    },
    {
     "name": "stdout",
     "output_type": "stream",
     "text": [
      "VAL: rmse=6.4391, mae=4.4443, mape=0.1405, acc=0.8738, r2_score=0.6635, var_score=0.6639\n",
      "VAL loss=1.5024\n",
      "==========EPOCH 253===========\n"
     ]
    },
    {
     "name": "stderr",
     "output_type": "stream",
     "text": [
      "                                                 \r"
     ]
    },
    {
     "name": "stdout",
     "output_type": "stream",
     "text": [
      "Trainning loss=3.1788\n"
     ]
    },
    {
     "name": "stderr",
     "output_type": "stream",
     "text": [
      "  0%|          | 1/279 [00:00<00:33,  8.36it/s]"
     ]
    },
    {
     "name": "stdout",
     "output_type": "stream",
     "text": [
      "VAL: rmse=6.4423, mae=4.4456, mape=0.1405, acc=0.8737, r2_score=0.6631, var_score=0.6637\n",
      "VAL loss=1.5040\n",
      "==========EPOCH 254===========\n"
     ]
    },
    {
     "name": "stderr",
     "output_type": "stream",
     "text": [
      "                                                 \r"
     ]
    },
    {
     "name": "stdout",
     "output_type": "stream",
     "text": [
      "Trainning loss=3.1747\n"
     ]
    },
    {
     "name": "stderr",
     "output_type": "stream",
     "text": [
      "  0%|          | 1/279 [00:00<00:34,  8.04it/s]"
     ]
    },
    {
     "name": "stdout",
     "output_type": "stream",
     "text": [
      "VAL: rmse=6.4529, mae=4.4515, mape=0.1406, acc=0.8736, r2_score=0.6620, var_score=0.6626\n",
      "VAL loss=1.5089\n",
      "==========EPOCH 255===========\n"
     ]
    },
    {
     "name": "stderr",
     "output_type": "stream",
     "text": [
      "                                                 \r"
     ]
    },
    {
     "name": "stdout",
     "output_type": "stream",
     "text": [
      "Trainning loss=3.1622\n"
     ]
    },
    {
     "name": "stderr",
     "output_type": "stream",
     "text": [
      "  0%|          | 1/279 [00:00<00:37,  7.39it/s]"
     ]
    },
    {
     "name": "stdout",
     "output_type": "stream",
     "text": [
      "VAL: rmse=6.4574, mae=4.4554, mape=0.1408, acc=0.8734, r2_score=0.6616, var_score=0.6620\n",
      "VAL loss=1.5110\n",
      "==========EPOCH 256===========\n"
     ]
    },
    {
     "name": "stderr",
     "output_type": "stream",
     "text": [
      "                                                 \r"
     ]
    },
    {
     "name": "stdout",
     "output_type": "stream",
     "text": [
      "Trainning loss=3.1506\n"
     ]
    },
    {
     "name": "stderr",
     "output_type": "stream",
     "text": [
      "  0%|          | 1/279 [00:00<00:36,  7.56it/s]"
     ]
    },
    {
     "name": "stdout",
     "output_type": "stream",
     "text": [
      "VAL: rmse=6.4536, mae=4.4544, mape=0.1409, acc=0.8735, r2_score=0.6620, var_score=0.6623\n",
      "VAL loss=1.5092\n",
      "==========EPOCH 257===========\n"
     ]
    },
    {
     "name": "stderr",
     "output_type": "stream",
     "text": [
      "                                                 \r"
     ]
    },
    {
     "name": "stdout",
     "output_type": "stream",
     "text": [
      "Trainning loss=3.1397\n"
     ]
    },
    {
     "name": "stderr",
     "output_type": "stream",
     "text": [
      "  0%|          | 1/279 [00:00<00:43,  6.39it/s]"
     ]
    },
    {
     "name": "stdout",
     "output_type": "stream",
     "text": [
      "VAL: rmse=6.4627, mae=4.4590, mape=0.1411, acc=0.8733, r2_score=0.6610, var_score=0.6613\n",
      "VAL loss=1.5135\n",
      "==========EPOCH 258===========\n"
     ]
    },
    {
     "name": "stderr",
     "output_type": "stream",
     "text": [
      "                                                 \r"
     ]
    },
    {
     "name": "stdout",
     "output_type": "stream",
     "text": [
      "Trainning loss=3.1317\n"
     ]
    },
    {
     "name": "stderr",
     "output_type": "stream",
     "text": [
      "  0%|          | 1/279 [00:00<00:35,  7.89it/s]"
     ]
    },
    {
     "name": "stdout",
     "output_type": "stream",
     "text": [
      "VAL: rmse=6.4492, mae=4.4517, mape=0.1410, acc=0.8735, r2_score=0.6624, var_score=0.6627\n",
      "VAL loss=1.5072\n",
      "==========EPOCH 259===========\n"
     ]
    },
    {
     "name": "stderr",
     "output_type": "stream",
     "text": [
      "                                                 \r"
     ]
    },
    {
     "name": "stdout",
     "output_type": "stream",
     "text": [
      "Trainning loss=3.1316\n"
     ]
    },
    {
     "name": "stderr",
     "output_type": "stream",
     "text": [
      "  0%|          | 1/279 [00:00<00:35,  7.80it/s]"
     ]
    },
    {
     "name": "stdout",
     "output_type": "stream",
     "text": [
      "VAL: rmse=6.4489, mae=4.4520, mape=0.1409, acc=0.8735, r2_score=0.6624, var_score=0.6628\n",
      "VAL loss=1.5070\n",
      "==========EPOCH 260===========\n"
     ]
    },
    {
     "name": "stderr",
     "output_type": "stream",
     "text": [
      "                                                 \r"
     ]
    },
    {
     "name": "stdout",
     "output_type": "stream",
     "text": [
      "Trainning loss=3.1150\n"
     ]
    },
    {
     "name": "stderr",
     "output_type": "stream",
     "text": [
      "  0%|          | 1/279 [00:00<00:39,  6.99it/s]"
     ]
    },
    {
     "name": "stdout",
     "output_type": "stream",
     "text": [
      "VAL: rmse=6.4055, mae=4.4274, mape=0.1406, acc=0.8742, r2_score=0.6670, var_score=0.6672\n",
      "VAL loss=1.4869\n",
      "==========EPOCH 261===========\n"
     ]
    },
    {
     "name": "stderr",
     "output_type": "stream",
     "text": [
      "                                                 \r"
     ]
    },
    {
     "name": "stdout",
     "output_type": "stream",
     "text": [
      "Trainning loss=3.1067\n"
     ]
    },
    {
     "name": "stderr",
     "output_type": "stream",
     "text": [
      "  0%|          | 1/279 [00:00<00:35,  7.79it/s]"
     ]
    },
    {
     "name": "stdout",
     "output_type": "stream",
     "text": [
      "VAL: rmse=6.3847, mae=4.4153, mape=0.1400, acc=0.8746, r2_score=0.6691, var_score=0.6696\n",
      "VAL loss=1.4772\n",
      "==========EPOCH 262===========\n"
     ]
    },
    {
     "name": "stderr",
     "output_type": "stream",
     "text": [
      "                                                 \r"
     ]
    },
    {
     "name": "stdout",
     "output_type": "stream",
     "text": [
      "Trainning loss=3.0982\n"
     ]
    },
    {
     "name": "stderr",
     "output_type": "stream",
     "text": [
      "  0%|          | 1/279 [00:00<00:48,  5.72it/s]"
     ]
    },
    {
     "name": "stdout",
     "output_type": "stream",
     "text": [
      "VAL: rmse=6.3780, mae=4.4129, mape=0.1399, acc=0.8746, r2_score=0.6698, var_score=0.6703\n",
      "VAL loss=1.4741\n",
      "==========EPOCH 263===========\n"
     ]
    },
    {
     "name": "stderr",
     "output_type": "stream",
     "text": [
      "                                                 \r"
     ]
    },
    {
     "name": "stdout",
     "output_type": "stream",
     "text": [
      "Trainning loss=3.0897\n"
     ]
    },
    {
     "name": "stderr",
     "output_type": "stream",
     "text": [
      "  0%|          | 1/279 [00:00<00:34,  8.07it/s]"
     ]
    },
    {
     "name": "stdout",
     "output_type": "stream",
     "text": [
      "VAL: rmse=6.3803, mae=4.4122, mape=0.1401, acc=0.8747, r2_score=0.6696, var_score=0.6698\n",
      "VAL loss=1.4752\n",
      "==========EPOCH 264===========\n"
     ]
    },
    {
     "name": "stderr",
     "output_type": "stream",
     "text": [
      "                                                 \r"
     ]
    },
    {
     "name": "stdout",
     "output_type": "stream",
     "text": [
      "Trainning loss=3.0917\n"
     ]
    },
    {
     "name": "stderr",
     "output_type": "stream",
     "text": [
      "  0%|          | 1/279 [00:00<00:33,  8.27it/s]"
     ]
    },
    {
     "name": "stdout",
     "output_type": "stream",
     "text": [
      "VAL: rmse=6.3666, mae=4.4078, mape=0.1401, acc=0.8748, r2_score=0.6710, var_score=0.6712\n",
      "VAL loss=1.4688\n",
      "==========EPOCH 265===========\n"
     ]
    },
    {
     "name": "stderr",
     "output_type": "stream",
     "text": [
      "                                                 \r"
     ]
    },
    {
     "name": "stdout",
     "output_type": "stream",
     "text": [
      "Trainning loss=3.0768\n"
     ]
    },
    {
     "name": "stderr",
     "output_type": "stream",
     "text": [
      "  0%|          | 1/279 [00:00<00:35,  7.79it/s]"
     ]
    },
    {
     "name": "stdout",
     "output_type": "stream",
     "text": [
      "VAL: rmse=6.3749, mae=4.4078, mape=0.1398, acc=0.8748, r2_score=0.6701, var_score=0.6705\n",
      "VAL loss=1.4727\n",
      "==========EPOCH 266===========\n"
     ]
    },
    {
     "name": "stderr",
     "output_type": "stream",
     "text": [
      "                                                 \r"
     ]
    },
    {
     "name": "stdout",
     "output_type": "stream",
     "text": [
      "Trainning loss=3.0708\n"
     ]
    },
    {
     "name": "stderr",
     "output_type": "stream",
     "text": [
      "  0%|          | 1/279 [00:00<00:33,  8.24it/s]"
     ]
    },
    {
     "name": "stdout",
     "output_type": "stream",
     "text": [
      "VAL: rmse=6.3796, mae=4.4089, mape=0.1400, acc=0.8748, r2_score=0.6697, var_score=0.6699\n",
      "VAL loss=1.4748\n",
      "==========EPOCH 267===========\n"
     ]
    },
    {
     "name": "stderr",
     "output_type": "stream",
     "text": [
      "                                                 \r"
     ]
    },
    {
     "name": "stdout",
     "output_type": "stream",
     "text": [
      "Trainning loss=3.0651\n"
     ]
    },
    {
     "name": "stderr",
     "output_type": "stream",
     "text": [
      "  0%|          | 1/279 [00:00<00:35,  7.85it/s]"
     ]
    },
    {
     "name": "stdout",
     "output_type": "stream",
     "text": [
      "VAL: rmse=6.3784, mae=4.4062, mape=0.1395, acc=0.8748, r2_score=0.6698, var_score=0.6704\n",
      "VAL loss=1.4743\n",
      "==========EPOCH 268===========\n"
     ]
    },
    {
     "name": "stderr",
     "output_type": "stream",
     "text": [
      "                                                 \r"
     ]
    },
    {
     "name": "stdout",
     "output_type": "stream",
     "text": [
      "Trainning loss=3.0575\n"
     ]
    },
    {
     "name": "stderr",
     "output_type": "stream",
     "text": [
      "  0%|          | 1/279 [00:00<00:40,  6.79it/s]"
     ]
    },
    {
     "name": "stdout",
     "output_type": "stream",
     "text": [
      "VAL: rmse=6.3643, mae=4.4004, mape=0.1396, acc=0.8750, r2_score=0.6712, var_score=0.6715\n",
      "VAL loss=1.4678\n",
      "==========EPOCH 269===========\n"
     ]
    },
    {
     "name": "stderr",
     "output_type": "stream",
     "text": [
      "                                                 \r"
     ]
    },
    {
     "name": "stdout",
     "output_type": "stream",
     "text": [
      "Trainning loss=3.0514\n"
     ]
    },
    {
     "name": "stderr",
     "output_type": "stream",
     "text": [
      "  0%|          | 1/279 [00:00<00:37,  7.42it/s]"
     ]
    },
    {
     "name": "stdout",
     "output_type": "stream",
     "text": [
      "VAL: rmse=6.3604, mae=4.3965, mape=0.1392, acc=0.8751, r2_score=0.6716, var_score=0.6723\n",
      "VAL loss=1.4660\n",
      "==========EPOCH 270===========\n"
     ]
    },
    {
     "name": "stderr",
     "output_type": "stream",
     "text": [
      "                                                 \r"
     ]
    },
    {
     "name": "stdout",
     "output_type": "stream",
     "text": [
      "Trainning loss=3.0384\n"
     ]
    },
    {
     "name": "stderr",
     "output_type": "stream",
     "text": [
      "  0%|          | 1/279 [00:00<00:39,  7.01it/s]"
     ]
    },
    {
     "name": "stdout",
     "output_type": "stream",
     "text": [
      "VAL: rmse=6.3342, mae=4.3824, mape=0.1391, acc=0.8755, r2_score=0.6744, var_score=0.6746\n",
      "VAL loss=1.4539\n",
      "==========EPOCH 271===========\n"
     ]
    },
    {
     "name": "stderr",
     "output_type": "stream",
     "text": [
      "                                                 \r"
     ]
    },
    {
     "name": "stdout",
     "output_type": "stream",
     "text": [
      "Trainning loss=3.0699\n"
     ]
    },
    {
     "name": "stderr",
     "output_type": "stream",
     "text": [
      "  0%|          | 1/279 [00:00<00:34,  8.04it/s]"
     ]
    },
    {
     "name": "stdout",
     "output_type": "stream",
     "text": [
      "VAL: rmse=6.3408, mae=4.3874, mape=0.1390, acc=0.8754, r2_score=0.6737, var_score=0.6741\n",
      "VAL loss=1.4570\n",
      "==========EPOCH 272===========\n"
     ]
    },
    {
     "name": "stderr",
     "output_type": "stream",
     "text": [
      "                                                 \r"
     ]
    },
    {
     "name": "stdout",
     "output_type": "stream",
     "text": [
      "Trainning loss=3.0253\n"
     ]
    },
    {
     "name": "stderr",
     "output_type": "stream",
     "text": [
      "  0%|          | 1/279 [00:00<00:31,  8.72it/s]"
     ]
    },
    {
     "name": "stdout",
     "output_type": "stream",
     "text": [
      "VAL: rmse=6.3373, mae=4.3872, mape=0.1393, acc=0.8754, r2_score=0.6740, var_score=0.6743\n",
      "VAL loss=1.4554\n",
      "==========EPOCH 273===========\n"
     ]
    },
    {
     "name": "stderr",
     "output_type": "stream",
     "text": [
      "                                                 \r"
     ]
    },
    {
     "name": "stdout",
     "output_type": "stream",
     "text": [
      "Trainning loss=3.0428\n"
     ]
    },
    {
     "name": "stderr",
     "output_type": "stream",
     "text": [
      "  0%|          | 1/279 [00:00<00:33,  8.37it/s]"
     ]
    },
    {
     "name": "stdout",
     "output_type": "stream",
     "text": [
      "VAL: rmse=6.3432, mae=4.3853, mape=0.1384, acc=0.8754, r2_score=0.6734, var_score=0.6747\n",
      "VAL loss=1.4581\n",
      "==========EPOCH 274===========\n"
     ]
    },
    {
     "name": "stderr",
     "output_type": "stream",
     "text": [
      "                                                 \r"
     ]
    },
    {
     "name": "stdout",
     "output_type": "stream",
     "text": [
      "Trainning loss=3.0123\n"
     ]
    },
    {
     "name": "stderr",
     "output_type": "stream",
     "text": [
      "  0%|          | 1/279 [00:00<00:31,  8.78it/s]"
     ]
    },
    {
     "name": "stdout",
     "output_type": "stream",
     "text": [
      "VAL: rmse=6.3303, mae=4.3815, mape=0.1391, acc=0.8755, r2_score=0.6748, var_score=0.6750\n",
      "VAL loss=1.4521\n",
      "==========EPOCH 275===========\n"
     ]
    },
    {
     "name": "stderr",
     "output_type": "stream",
     "text": [
      "                                                 \r"
     ]
    },
    {
     "name": "stdout",
     "output_type": "stream",
     "text": [
      "Trainning loss=3.0283\n"
     ]
    },
    {
     "name": "stderr",
     "output_type": "stream",
     "text": [
      "  0%|          | 1/279 [00:00<00:40,  6.87it/s]"
     ]
    },
    {
     "name": "stdout",
     "output_type": "stream",
     "text": [
      "VAL: rmse=6.3420, mae=4.3848, mape=0.1386, acc=0.8754, r2_score=0.6735, var_score=0.6743\n",
      "VAL loss=1.4575\n",
      "==========EPOCH 276===========\n"
     ]
    },
    {
     "name": "stderr",
     "output_type": "stream",
     "text": [
      "                                                 \r"
     ]
    },
    {
     "name": "stdout",
     "output_type": "stream",
     "text": [
      "Trainning loss=3.0016\n"
     ]
    },
    {
     "name": "stderr",
     "output_type": "stream",
     "text": [
      "  0%|          | 1/279 [00:00<00:41,  6.69it/s]"
     ]
    },
    {
     "name": "stdout",
     "output_type": "stream",
     "text": [
      "VAL: rmse=6.3342, mae=4.3802, mape=0.1380, acc=0.8756, r2_score=0.6743, var_score=0.6759\n",
      "VAL loss=1.4539\n",
      "==========EPOCH 277===========\n"
     ]
    },
    {
     "name": "stderr",
     "output_type": "stream",
     "text": [
      "                                                 \r"
     ]
    },
    {
     "name": "stdout",
     "output_type": "stream",
     "text": [
      "Trainning loss=3.0066\n"
     ]
    },
    {
     "name": "stderr",
     "output_type": "stream",
     "text": [
      "  0%|          | 1/279 [00:00<00:32,  8.50it/s]"
     ]
    },
    {
     "name": "stdout",
     "output_type": "stream",
     "text": [
      "VAL: rmse=6.3670, mae=4.3975, mape=0.1384, acc=0.8751, r2_score=0.6710, var_score=0.6726\n",
      "VAL loss=1.4690\n",
      "==========EPOCH 278===========\n"
     ]
    },
    {
     "name": "stderr",
     "output_type": "stream",
     "text": [
      "                                                 \r"
     ]
    },
    {
     "name": "stdout",
     "output_type": "stream",
     "text": [
      "Trainning loss=2.9886\n"
     ]
    },
    {
     "name": "stderr",
     "output_type": "stream",
     "text": [
      "  0%|          | 1/279 [00:00<00:39,  6.97it/s]"
     ]
    },
    {
     "name": "stdout",
     "output_type": "stream",
     "text": [
      "VAL: rmse=6.3320, mae=4.3819, mape=0.1389, acc=0.8755, r2_score=0.6746, var_score=0.6749\n",
      "VAL loss=1.4530\n",
      "==========EPOCH 279===========\n"
     ]
    },
    {
     "name": "stderr",
     "output_type": "stream",
     "text": [
      "                                                 \r"
     ]
    },
    {
     "name": "stdout",
     "output_type": "stream",
     "text": [
      "Trainning loss=3.0038\n"
     ]
    },
    {
     "name": "stderr",
     "output_type": "stream",
     "text": [
      "  0%|          | 1/279 [00:00<00:35,  7.85it/s]"
     ]
    },
    {
     "name": "stdout",
     "output_type": "stream",
     "text": [
      "VAL: rmse=6.3359, mae=4.3849, mape=0.1380, acc=0.8754, r2_score=0.6742, var_score=0.6759\n",
      "VAL loss=1.4547\n",
      "==========EPOCH 280===========\n"
     ]
    },
    {
     "name": "stderr",
     "output_type": "stream",
     "text": [
      "                                                 \r"
     ]
    },
    {
     "name": "stdout",
     "output_type": "stream",
     "text": [
      "Trainning loss=2.9999\n"
     ]
    },
    {
     "name": "stderr",
     "output_type": "stream",
     "text": [
      "  0%|          | 1/279 [00:00<00:34,  8.17it/s]"
     ]
    },
    {
     "name": "stdout",
     "output_type": "stream",
     "text": [
      "VAL: rmse=6.3209, mae=4.3748, mape=0.1385, acc=0.8757, r2_score=0.6757, var_score=0.6763\n",
      "VAL loss=1.4478\n",
      "==========EPOCH 281===========\n"
     ]
    },
    {
     "name": "stderr",
     "output_type": "stream",
     "text": [
      "                                                 \r"
     ]
    },
    {
     "name": "stdout",
     "output_type": "stream",
     "text": [
      "Trainning loss=2.9697\n"
     ]
    },
    {
     "name": "stderr",
     "output_type": "stream",
     "text": [
      "  0%|          | 1/279 [00:00<00:38,  7.25it/s]"
     ]
    },
    {
     "name": "stdout",
     "output_type": "stream",
     "text": [
      "VAL: rmse=6.3066, mae=4.3702, mape=0.1388, acc=0.8759, r2_score=0.6772, var_score=0.6773\n",
      "VAL loss=1.4413\n",
      "==========EPOCH 282===========\n"
     ]
    },
    {
     "name": "stderr",
     "output_type": "stream",
     "text": [
      "                                                 \r"
     ]
    },
    {
     "name": "stdout",
     "output_type": "stream",
     "text": [
      "Trainning loss=3.0090\n"
     ]
    },
    {
     "name": "stderr",
     "output_type": "stream",
     "text": [
      "  0%|          | 1/279 [00:00<00:40,  6.86it/s]"
     ]
    },
    {
     "name": "stdout",
     "output_type": "stream",
     "text": [
      "VAL: rmse=6.3210, mae=4.3796, mape=0.1392, acc=0.8756, r2_score=0.6757, var_score=0.6758\n",
      "VAL loss=1.4479\n",
      "==========EPOCH 283===========\n"
     ]
    },
    {
     "name": "stderr",
     "output_type": "stream",
     "text": [
      "                                                 \r"
     ]
    },
    {
     "name": "stdout",
     "output_type": "stream",
     "text": [
      "Trainning loss=2.9764\n"
     ]
    },
    {
     "name": "stderr",
     "output_type": "stream",
     "text": [
      "  0%|          | 1/279 [00:00<00:42,  6.47it/s]"
     ]
    },
    {
     "name": "stdout",
     "output_type": "stream",
     "text": [
      "VAL: rmse=6.3326, mae=4.3870, mape=0.1389, acc=0.8754, r2_score=0.6745, var_score=0.6750\n",
      "VAL loss=1.4532\n",
      "==========EPOCH 284===========\n"
     ]
    },
    {
     "name": "stderr",
     "output_type": "stream",
     "text": [
      "                                                 \r"
     ]
    },
    {
     "name": "stdout",
     "output_type": "stream",
     "text": [
      "Trainning loss=2.9596\n"
     ]
    },
    {
     "name": "stderr",
     "output_type": "stream",
     "text": [
      "  0%|          | 1/279 [00:00<00:41,  6.78it/s]"
     ]
    },
    {
     "name": "stdout",
     "output_type": "stream",
     "text": [
      "VAL: rmse=6.3414, mae=4.3916, mape=0.1389, acc=0.8753, r2_score=0.6736, var_score=0.6742\n",
      "VAL loss=1.4573\n",
      "==========EPOCH 285===========\n"
     ]
    },
    {
     "name": "stderr",
     "output_type": "stream",
     "text": [
      "                                                 \r"
     ]
    },
    {
     "name": "stdout",
     "output_type": "stream",
     "text": [
      "Trainning loss=2.9481\n"
     ]
    },
    {
     "name": "stderr",
     "output_type": "stream",
     "text": [
      "  0%|          | 1/279 [00:00<00:33,  8.40it/s]"
     ]
    },
    {
     "name": "stdout",
     "output_type": "stream",
     "text": [
      "VAL: rmse=6.3294, mae=4.3863, mape=0.1390, acc=0.8754, r2_score=0.6748, var_score=0.6751\n",
      "VAL loss=1.4518\n",
      "==========EPOCH 286===========\n"
     ]
    },
    {
     "name": "stderr",
     "output_type": "stream",
     "text": [
      "                                                 \r"
     ]
    },
    {
     "name": "stdout",
     "output_type": "stream",
     "text": [
      "Trainning loss=2.9463\n"
     ]
    },
    {
     "name": "stderr",
     "output_type": "stream",
     "text": [
      "  0%|          | 1/279 [00:00<00:36,  7.62it/s]"
     ]
    },
    {
     "name": "stdout",
     "output_type": "stream",
     "text": [
      "VAL: rmse=6.3153, mae=4.3809, mape=0.1391, acc=0.8756, r2_score=0.6763, var_score=0.6765\n",
      "VAL loss=1.4453\n",
      "==========EPOCH 287===========\n"
     ]
    },
    {
     "name": "stderr",
     "output_type": "stream",
     "text": [
      "                                                 \r"
     ]
    },
    {
     "name": "stdout",
     "output_type": "stream",
     "text": [
      "Trainning loss=2.9303\n"
     ]
    },
    {
     "name": "stderr",
     "output_type": "stream",
     "text": [
      "  0%|          | 1/279 [00:00<00:34,  7.96it/s]"
     ]
    },
    {
     "name": "stdout",
     "output_type": "stream",
     "text": [
      "VAL: rmse=6.3439, mae=4.3995, mape=0.1392, acc=0.8750, r2_score=0.6733, var_score=0.6737\n",
      "VAL loss=1.4584\n",
      "==========EPOCH 288===========\n"
     ]
    },
    {
     "name": "stderr",
     "output_type": "stream",
     "text": [
      "                                                 \r"
     ]
    },
    {
     "name": "stdout",
     "output_type": "stream",
     "text": [
      "Trainning loss=2.9271\n"
     ]
    },
    {
     "name": "stderr",
     "output_type": "stream",
     "text": [
      "  0%|          | 1/279 [00:00<00:34,  8.02it/s]"
     ]
    },
    {
     "name": "stdout",
     "output_type": "stream",
     "text": [
      "VAL: rmse=6.3432, mae=4.4195, mape=0.1408, acc=0.8745, r2_score=0.6734, var_score=0.6734\n",
      "VAL loss=1.4581\n",
      "==========EPOCH 289===========\n"
     ]
    },
    {
     "name": "stderr",
     "output_type": "stream",
     "text": [
      "                                                 \r"
     ]
    },
    {
     "name": "stdout",
     "output_type": "stream",
     "text": [
      "Trainning loss=2.9207\n"
     ]
    },
    {
     "name": "stderr",
     "output_type": "stream",
     "text": [
      "  0%|          | 1/279 [00:00<00:33,  8.23it/s]"
     ]
    },
    {
     "name": "stdout",
     "output_type": "stream",
     "text": [
      "VAL: rmse=6.3328, mae=4.3995, mape=0.1391, acc=0.8750, r2_score=0.6745, var_score=0.6752\n",
      "VAL loss=1.4533\n",
      "==========EPOCH 290===========\n"
     ]
    },
    {
     "name": "stderr",
     "output_type": "stream",
     "text": [
      "                                                 \r"
     ]
    },
    {
     "name": "stdout",
     "output_type": "stream",
     "text": [
      "Trainning loss=2.9199\n"
     ]
    },
    {
     "name": "stderr",
     "output_type": "stream",
     "text": [
      "  0%|          | 1/279 [00:00<00:33,  8.23it/s]"
     ]
    },
    {
     "name": "stdout",
     "output_type": "stream",
     "text": [
      "VAL: rmse=6.3434, mae=4.4046, mape=0.1390, acc=0.8749, r2_score=0.6734, var_score=0.6745\n",
      "VAL loss=1.4582\n",
      "==========EPOCH 291===========\n"
     ]
    },
    {
     "name": "stderr",
     "output_type": "stream",
     "text": [
      "                                                 \r"
     ]
    },
    {
     "name": "stdout",
     "output_type": "stream",
     "text": [
      "Trainning loss=2.9028\n"
     ]
    },
    {
     "name": "stderr",
     "output_type": "stream",
     "text": [
      "  0%|          | 1/279 [00:00<00:36,  7.68it/s]"
     ]
    },
    {
     "name": "stdout",
     "output_type": "stream",
     "text": [
      "VAL: rmse=6.3350, mae=4.4053, mape=0.1389, acc=0.8749, r2_score=0.6743, var_score=0.6755\n",
      "VAL loss=1.4544\n",
      "==========EPOCH 292===========\n"
     ]
    },
    {
     "name": "stderr",
     "output_type": "stream",
     "text": [
      "                                                 \r"
     ]
    },
    {
     "name": "stdout",
     "output_type": "stream",
     "text": [
      "Trainning loss=2.9013\n"
     ]
    },
    {
     "name": "stderr",
     "output_type": "stream",
     "text": [
      "  0%|          | 1/279 [00:00<00:34,  8.06it/s]"
     ]
    },
    {
     "name": "stdout",
     "output_type": "stream",
     "text": [
      "VAL: rmse=6.3400, mae=4.4140, mape=0.1397, acc=0.8746, r2_score=0.6737, var_score=0.6743\n",
      "VAL loss=1.4566\n",
      "==========EPOCH 293===========\n"
     ]
    },
    {
     "name": "stderr",
     "output_type": "stream",
     "text": [
      "                                                 \r"
     ]
    },
    {
     "name": "stdout",
     "output_type": "stream",
     "text": [
      "Trainning loss=2.8871\n"
     ]
    },
    {
     "name": "stderr",
     "output_type": "stream",
     "text": [
      "  0%|          | 1/279 [00:00<00:35,  7.74it/s]"
     ]
    },
    {
     "name": "stdout",
     "output_type": "stream",
     "text": [
      "VAL: rmse=6.3345, mae=4.4148, mape=0.1400, acc=0.8746, r2_score=0.6743, var_score=0.6747\n",
      "VAL loss=1.4541\n",
      "==========EPOCH 294===========\n"
     ]
    },
    {
     "name": "stderr",
     "output_type": "stream",
     "text": [
      "                                                 \r"
     ]
    },
    {
     "name": "stdout",
     "output_type": "stream",
     "text": [
      "Trainning loss=2.8932\n"
     ]
    },
    {
     "name": "stderr",
     "output_type": "stream",
     "text": [
      "  0%|          | 1/279 [00:00<00:38,  7.23it/s]"
     ]
    },
    {
     "name": "stdout",
     "output_type": "stream",
     "text": [
      "VAL: rmse=6.3521, mae=4.4340, mape=0.1409, acc=0.8740, r2_score=0.6725, var_score=0.6726\n",
      "VAL loss=1.4622\n",
      "==========EPOCH 295===========\n"
     ]
    },
    {
     "name": "stderr",
     "output_type": "stream",
     "text": [
      "                                                 \r"
     ]
    },
    {
     "name": "stdout",
     "output_type": "stream",
     "text": [
      "Trainning loss=2.8790\n"
     ]
    },
    {
     "name": "stderr",
     "output_type": "stream",
     "text": [
      "  0%|          | 1/279 [00:00<00:42,  6.47it/s]"
     ]
    },
    {
     "name": "stdout",
     "output_type": "stream",
     "text": [
      "VAL: rmse=6.3594, mae=4.4411, mape=0.1410, acc=0.8738, r2_score=0.6718, var_score=0.6720\n",
      "VAL loss=1.4655\n",
      "==========EPOCH 296===========\n"
     ]
    },
    {
     "name": "stderr",
     "output_type": "stream",
     "text": [
      "                                                 \r"
     ]
    },
    {
     "name": "stdout",
     "output_type": "stream",
     "text": [
      "Trainning loss=2.8614\n"
     ]
    },
    {
     "name": "stderr",
     "output_type": "stream",
     "text": [
      "  0%|          | 1/279 [00:00<00:33,  8.20it/s]"
     ]
    },
    {
     "name": "stdout",
     "output_type": "stream",
     "text": [
      "VAL: rmse=6.2874, mae=4.3900, mape=0.1393, acc=0.8753, r2_score=0.6791, var_score=0.6795\n",
      "VAL loss=1.4326\n",
      "==========EPOCH 297===========\n"
     ]
    },
    {
     "name": "stderr",
     "output_type": "stream",
     "text": [
      "                                                 \r"
     ]
    },
    {
     "name": "stdout",
     "output_type": "stream",
     "text": [
      "Trainning loss=2.8591\n"
     ]
    },
    {
     "name": "stderr",
     "output_type": "stream",
     "text": [
      "  0%|          | 1/279 [00:00<00:36,  7.67it/s]"
     ]
    },
    {
     "name": "stdout",
     "output_type": "stream",
     "text": [
      "VAL: rmse=6.3062, mae=4.4034, mape=0.1395, acc=0.8749, r2_score=0.6772, var_score=0.6778\n",
      "VAL loss=1.4411\n",
      "==========EPOCH 298===========\n"
     ]
    },
    {
     "name": "stderr",
     "output_type": "stream",
     "text": [
      "                                                 \r"
     ]
    },
    {
     "name": "stdout",
     "output_type": "stream",
     "text": [
      "Trainning loss=2.8875\n"
     ]
    },
    {
     "name": "stderr",
     "output_type": "stream",
     "text": [
      "  0%|          | 1/279 [00:00<00:40,  6.84it/s]"
     ]
    },
    {
     "name": "stdout",
     "output_type": "stream",
     "text": [
      "VAL: rmse=6.3105, mae=4.4062, mape=0.1399, acc=0.8748, r2_score=0.6768, var_score=0.6771\n",
      "VAL loss=1.4431\n",
      "==========EPOCH 299===========\n"
     ]
    },
    {
     "name": "stderr",
     "output_type": "stream",
     "text": [
      "                                                 \r"
     ]
    },
    {
     "name": "stdout",
     "output_type": "stream",
     "text": [
      "Trainning loss=2.8445\n"
     ]
    },
    {
     "name": "stderr",
     "output_type": "stream",
     "text": [
      "  0%|          | 1/279 [00:00<00:40,  6.83it/s]"
     ]
    },
    {
     "name": "stdout",
     "output_type": "stream",
     "text": [
      "VAL: rmse=6.3319, mae=4.4284, mape=0.1407, acc=0.8742, r2_score=0.6746, var_score=0.6747\n",
      "VAL loss=1.4529\n",
      "==========EPOCH 300===========\n"
     ]
    },
    {
     "name": "stderr",
     "output_type": "stream",
     "text": [
      "                                                 \r"
     ]
    },
    {
     "name": "stdout",
     "output_type": "stream",
     "text": [
      "Trainning loss=2.8473\n"
     ]
    },
    {
     "name": "stderr",
     "output_type": "stream",
     "text": [
      "  0%|          | 1/279 [00:00<00:40,  6.87it/s]"
     ]
    },
    {
     "name": "stdout",
     "output_type": "stream",
     "text": [
      "VAL: rmse=6.3389, mae=4.4330, mape=0.1409, acc=0.8741, r2_score=0.6739, var_score=0.6740\n",
      "VAL loss=1.4562\n",
      "==========EPOCH 301===========\n"
     ]
    },
    {
     "name": "stderr",
     "output_type": "stream",
     "text": [
      "                                                 \r"
     ]
    },
    {
     "name": "stdout",
     "output_type": "stream",
     "text": [
      "Trainning loss=2.8407\n"
     ]
    },
    {
     "name": "stderr",
     "output_type": "stream",
     "text": [
      "  0%|          | 1/279 [00:00<00:33,  8.21it/s]"
     ]
    },
    {
     "name": "stdout",
     "output_type": "stream",
     "text": [
      "VAL: rmse=6.3375, mae=4.4292, mape=0.1407, acc=0.8742, r2_score=0.6740, var_score=0.6741\n",
      "VAL loss=1.4555\n",
      "==========EPOCH 302===========\n"
     ]
    },
    {
     "name": "stderr",
     "output_type": "stream",
     "text": [
      "                                                 \r"
     ]
    },
    {
     "name": "stdout",
     "output_type": "stream",
     "text": [
      "Trainning loss=2.8318\n"
     ]
    },
    {
     "name": "stderr",
     "output_type": "stream",
     "text": [
      "  0%|          | 1/279 [00:00<00:40,  6.85it/s]"
     ]
    },
    {
     "name": "stdout",
     "output_type": "stream",
     "text": [
      "VAL: rmse=6.3373, mae=4.4332, mape=0.1411, acc=0.8741, r2_score=0.6740, var_score=0.6740\n",
      "VAL loss=1.4554\n",
      "==========EPOCH 303===========\n"
     ]
    },
    {
     "name": "stderr",
     "output_type": "stream",
     "text": [
      "                                                 \r"
     ]
    },
    {
     "name": "stdout",
     "output_type": "stream",
     "text": [
      "Trainning loss=2.8246\n"
     ]
    },
    {
     "name": "stderr",
     "output_type": "stream",
     "text": [
      "  0%|          | 1/279 [00:00<00:35,  7.83it/s]"
     ]
    },
    {
     "name": "stdout",
     "output_type": "stream",
     "text": [
      "VAL: rmse=6.2997, mae=4.4068, mape=0.1409, acc=0.8748, r2_score=0.6779, var_score=0.6779\n",
      "VAL loss=1.4382\n",
      "==========EPOCH 304===========\n"
     ]
    },
    {
     "name": "stderr",
     "output_type": "stream",
     "text": [
      "                                                 \r"
     ]
    },
    {
     "name": "stdout",
     "output_type": "stream",
     "text": [
      "Trainning loss=2.8221\n"
     ]
    },
    {
     "name": "stderr",
     "output_type": "stream",
     "text": [
      "  0%|          | 1/279 [00:00<00:33,  8.19it/s]"
     ]
    },
    {
     "name": "stdout",
     "output_type": "stream",
     "text": [
      "VAL: rmse=6.3499, mae=4.4372, mape=0.1408, acc=0.8740, r2_score=0.6727, var_score=0.6729\n",
      "VAL loss=1.4612\n",
      "==========EPOCH 305===========\n"
     ]
    },
    {
     "name": "stderr",
     "output_type": "stream",
     "text": [
      "                                                 \r"
     ]
    },
    {
     "name": "stdout",
     "output_type": "stream",
     "text": [
      "Trainning loss=2.8126\n"
     ]
    },
    {
     "name": "stderr",
     "output_type": "stream",
     "text": [
      "  0%|          | 1/279 [00:00<00:32,  8.54it/s]"
     ]
    },
    {
     "name": "stdout",
     "output_type": "stream",
     "text": [
      "VAL: rmse=6.3634, mae=4.4433, mape=0.1407, acc=0.8738, r2_score=0.6713, var_score=0.6718\n",
      "VAL loss=1.4674\n",
      "==========EPOCH 306===========\n"
     ]
    },
    {
     "name": "stderr",
     "output_type": "stream",
     "text": [
      "                                                 \r"
     ]
    },
    {
     "name": "stdout",
     "output_type": "stream",
     "text": [
      "Trainning loss=2.8060\n"
     ]
    },
    {
     "name": "stderr",
     "output_type": "stream",
     "text": [
      "  0%|          | 1/279 [00:00<00:35,  7.78it/s]"
     ]
    },
    {
     "name": "stdout",
     "output_type": "stream",
     "text": [
      "VAL: rmse=6.3745, mae=4.4492, mape=0.1406, acc=0.8736, r2_score=0.6702, var_score=0.6710\n",
      "VAL loss=1.4725\n",
      "==========EPOCH 307===========\n"
     ]
    },
    {
     "name": "stderr",
     "output_type": "stream",
     "text": [
      "                                                 \r"
     ]
    },
    {
     "name": "stdout",
     "output_type": "stream",
     "text": [
      "Trainning loss=2.8112\n"
     ]
    },
    {
     "name": "stderr",
     "output_type": "stream",
     "text": [
      "  0%|          | 1/279 [00:00<00:37,  7.35it/s]"
     ]
    },
    {
     "name": "stdout",
     "output_type": "stream",
     "text": [
      "VAL: rmse=6.3043, mae=4.4066, mape=0.1403, acc=0.8748, r2_score=0.6774, var_score=0.6774\n",
      "VAL loss=1.4403\n",
      "==========EPOCH 308===========\n"
     ]
    },
    {
     "name": "stderr",
     "output_type": "stream",
     "text": [
      "                                                 \r"
     ]
    },
    {
     "name": "stdout",
     "output_type": "stream",
     "text": [
      "Trainning loss=2.7949\n"
     ]
    },
    {
     "name": "stderr",
     "output_type": "stream",
     "text": [
      "  0%|          | 1/279 [00:00<00:41,  6.74it/s]"
     ]
    },
    {
     "name": "stdout",
     "output_type": "stream",
     "text": [
      "VAL: rmse=6.3839, mae=4.4564, mape=0.1413, acc=0.8734, r2_score=0.6692, var_score=0.6694\n",
      "VAL loss=1.4769\n",
      "==========EPOCH 309===========\n"
     ]
    },
    {
     "name": "stderr",
     "output_type": "stream",
     "text": [
      "                                                 \r"
     ]
    },
    {
     "name": "stdout",
     "output_type": "stream",
     "text": [
      "Trainning loss=2.7936\n"
     ]
    },
    {
     "name": "stderr",
     "output_type": "stream",
     "text": [
      "  0%|          | 1/279 [00:00<00:46,  5.92it/s]"
     ]
    },
    {
     "name": "stdout",
     "output_type": "stream",
     "text": [
      "VAL: rmse=6.3216, mae=4.4210, mape=0.1400, acc=0.8744, r2_score=0.6756, var_score=0.6760\n",
      "VAL loss=1.4482\n",
      "==========EPOCH 310===========\n"
     ]
    },
    {
     "name": "stderr",
     "output_type": "stream",
     "text": [
      "                                                 \r"
     ]
    },
    {
     "name": "stdout",
     "output_type": "stream",
     "text": [
      "Trainning loss=2.7839\n"
     ]
    },
    {
     "name": "stderr",
     "output_type": "stream",
     "text": [
      "  0%|          | 1/279 [00:00<00:38,  7.23it/s]"
     ]
    },
    {
     "name": "stdout",
     "output_type": "stream",
     "text": [
      "VAL: rmse=6.3994, mae=4.4730, mape=0.1409, acc=0.8729, r2_score=0.6676, var_score=0.6686\n",
      "VAL loss=1.4840\n",
      "==========EPOCH 311===========\n"
     ]
    },
    {
     "name": "stderr",
     "output_type": "stream",
     "text": [
      "                                                 \r"
     ]
    },
    {
     "name": "stdout",
     "output_type": "stream",
     "text": [
      "Trainning loss=2.7786\n"
     ]
    },
    {
     "name": "stderr",
     "output_type": "stream",
     "text": [
      "  0%|          | 1/279 [00:00<00:35,  7.83it/s]"
     ]
    },
    {
     "name": "stdout",
     "output_type": "stream",
     "text": [
      "VAL: rmse=6.3860, mae=4.4581, mape=0.1410, acc=0.8734, r2_score=0.6690, var_score=0.6696\n",
      "VAL loss=1.4779\n",
      "==========EPOCH 312===========\n"
     ]
    },
    {
     "name": "stderr",
     "output_type": "stream",
     "text": [
      "                                                 \r"
     ]
    },
    {
     "name": "stdout",
     "output_type": "stream",
     "text": [
      "Trainning loss=2.7740\n"
     ]
    },
    {
     "name": "stderr",
     "output_type": "stream",
     "text": [
      "  0%|          | 1/279 [00:00<00:33,  8.25it/s]"
     ]
    },
    {
     "name": "stdout",
     "output_type": "stream",
     "text": [
      "VAL: rmse=6.3914, mae=4.4707, mape=0.1404, acc=0.8730, r2_score=0.6684, var_score=0.6702\n",
      "VAL loss=1.4804\n",
      "==========EPOCH 313===========\n"
     ]
    },
    {
     "name": "stderr",
     "output_type": "stream",
     "text": [
      "                                                 \r"
     ]
    },
    {
     "name": "stdout",
     "output_type": "stream",
     "text": [
      "Trainning loss=2.7729\n"
     ]
    },
    {
     "name": "stderr",
     "output_type": "stream",
     "text": [
      "  0%|          | 1/279 [00:00<00:33,  8.37it/s]"
     ]
    },
    {
     "name": "stdout",
     "output_type": "stream",
     "text": [
      "VAL: rmse=6.3292, mae=4.4276, mape=0.1399, acc=0.8742, r2_score=0.6749, var_score=0.6755\n",
      "VAL loss=1.4517\n",
      "==========EPOCH 314===========\n"
     ]
    },
    {
     "name": "stderr",
     "output_type": "stream",
     "text": [
      "                                                 \r"
     ]
    },
    {
     "name": "stdout",
     "output_type": "stream",
     "text": [
      "Trainning loss=2.7567\n"
     ]
    },
    {
     "name": "stderr",
     "output_type": "stream",
     "text": [
      "  0%|          | 1/279 [00:00<00:40,  6.80it/s]"
     ]
    },
    {
     "name": "stdout",
     "output_type": "stream",
     "text": [
      "VAL: rmse=6.3976, mae=4.4703, mape=0.1408, acc=0.8730, r2_score=0.6678, var_score=0.6693\n",
      "VAL loss=1.4832\n",
      "==========EPOCH 315===========\n"
     ]
    },
    {
     "name": "stderr",
     "output_type": "stream",
     "text": [
      "                                                 \r"
     ]
    },
    {
     "name": "stdout",
     "output_type": "stream",
     "text": [
      "Trainning loss=2.7906\n"
     ]
    },
    {
     "name": "stderr",
     "output_type": "stream",
     "text": [
      "  0%|          | 1/279 [00:00<00:41,  6.72it/s]"
     ]
    },
    {
     "name": "stdout",
     "output_type": "stream",
     "text": [
      "VAL: rmse=6.3612, mae=4.4464, mape=0.1405, acc=0.8737, r2_score=0.6716, var_score=0.6725\n",
      "VAL loss=1.4664\n",
      "==========EPOCH 316===========\n"
     ]
    },
    {
     "name": "stderr",
     "output_type": "stream",
     "text": [
      "                                                 \r"
     ]
    },
    {
     "name": "stdout",
     "output_type": "stream",
     "text": [
      "Trainning loss=2.7528\n"
     ]
    },
    {
     "name": "stderr",
     "output_type": "stream",
     "text": [
      "  0%|          | 1/279 [00:00<00:32,  8.50it/s]"
     ]
    },
    {
     "name": "stdout",
     "output_type": "stream",
     "text": [
      "VAL: rmse=6.3862, mae=4.4632, mape=0.1410, acc=0.8732, r2_score=0.6690, var_score=0.6699\n",
      "VAL loss=1.4780\n",
      "==========EPOCH 317===========\n"
     ]
    },
    {
     "name": "stderr",
     "output_type": "stream",
     "text": [
      "                                                 \r"
     ]
    },
    {
     "name": "stdout",
     "output_type": "stream",
     "text": [
      "Trainning loss=2.7548\n"
     ]
    },
    {
     "name": "stderr",
     "output_type": "stream",
     "text": [
      "  0%|          | 1/279 [00:00<00:39,  6.96it/s]"
     ]
    },
    {
     "name": "stdout",
     "output_type": "stream",
     "text": [
      "VAL: rmse=6.3892, mae=4.4656, mape=0.1410, acc=0.8731, r2_score=0.6687, var_score=0.6697\n",
      "VAL loss=1.4793\n",
      "==========EPOCH 318===========\n"
     ]
    },
    {
     "name": "stderr",
     "output_type": "stream",
     "text": [
      "                                                 \r"
     ]
    },
    {
     "name": "stdout",
     "output_type": "stream",
     "text": [
      "Trainning loss=2.7423\n"
     ]
    },
    {
     "name": "stderr",
     "output_type": "stream",
     "text": [
      "  0%|          | 1/279 [00:00<00:38,  7.20it/s]"
     ]
    },
    {
     "name": "stdout",
     "output_type": "stream",
     "text": [
      "VAL: rmse=6.4009, mae=4.4751, mape=0.1409, acc=0.8729, r2_score=0.6674, var_score=0.6692\n",
      "VAL loss=1.4848\n",
      "==========EPOCH 319===========\n"
     ]
    },
    {
     "name": "stderr",
     "output_type": "stream",
     "text": [
      "                                                 \r"
     ]
    },
    {
     "name": "stdout",
     "output_type": "stream",
     "text": [
      "Trainning loss=2.7422\n"
     ]
    },
    {
     "name": "stderr",
     "output_type": "stream",
     "text": [
      "  0%|          | 1/279 [00:00<00:33,  8.22it/s]"
     ]
    },
    {
     "name": "stdout",
     "output_type": "stream",
     "text": [
      "VAL: rmse=6.4069, mae=4.4797, mape=0.1413, acc=0.8727, r2_score=0.6668, var_score=0.6683\n",
      "VAL loss=1.4875\n",
      "==========EPOCH 320===========\n"
     ]
    },
    {
     "name": "stderr",
     "output_type": "stream",
     "text": [
      "                                                 \r"
     ]
    },
    {
     "name": "stdout",
     "output_type": "stream",
     "text": [
      "Trainning loss=2.8356\n"
     ]
    },
    {
     "name": "stderr",
     "output_type": "stream",
     "text": [
      "  0%|          | 1/279 [00:00<00:33,  8.22it/s]"
     ]
    },
    {
     "name": "stdout",
     "output_type": "stream",
     "text": [
      "VAL: rmse=6.3305, mae=4.4239, mape=0.1392, acc=0.8743, r2_score=0.6747, var_score=0.6762\n",
      "VAL loss=1.4523\n",
      "==========EPOCH 321===========\n"
     ]
    },
    {
     "name": "stderr",
     "output_type": "stream",
     "text": [
      "                                                 \r"
     ]
    },
    {
     "name": "stdout",
     "output_type": "stream",
     "text": [
      "Trainning loss=2.7231\n"
     ]
    },
    {
     "name": "stderr",
     "output_type": "stream",
     "text": [
      "  0%|          | 1/279 [00:00<00:37,  7.49it/s]"
     ]
    },
    {
     "name": "stdout",
     "output_type": "stream",
     "text": [
      "VAL: rmse=6.3526, mae=4.4461, mape=0.1407, acc=0.8737, r2_score=0.6724, var_score=0.6732\n",
      "VAL loss=1.4625\n",
      "==========EPOCH 322===========\n"
     ]
    },
    {
     "name": "stderr",
     "output_type": "stream",
     "text": [
      "                                                 \r"
     ]
    },
    {
     "name": "stdout",
     "output_type": "stream",
     "text": [
      "Trainning loss=2.7254\n"
     ]
    },
    {
     "name": "stderr",
     "output_type": "stream",
     "text": [
      "  0%|          | 1/279 [00:00<00:40,  6.78it/s]"
     ]
    },
    {
     "name": "stdout",
     "output_type": "stream",
     "text": [
      "VAL: rmse=6.3775, mae=4.4622, mape=0.1411, acc=0.8732, r2_score=0.6699, var_score=0.6708\n",
      "VAL loss=1.4739\n",
      "==========EPOCH 323===========\n"
     ]
    },
    {
     "name": "stderr",
     "output_type": "stream",
     "text": [
      "                                                 \r"
     ]
    },
    {
     "name": "stdout",
     "output_type": "stream",
     "text": [
      "Trainning loss=2.7233\n"
     ]
    },
    {
     "name": "stderr",
     "output_type": "stream",
     "text": [
      "  0%|          | 1/279 [00:00<00:35,  7.93it/s]"
     ]
    },
    {
     "name": "stdout",
     "output_type": "stream",
     "text": [
      "VAL: rmse=6.3689, mae=4.4605, mape=0.1409, acc=0.8733, r2_score=0.6708, var_score=0.6720\n",
      "VAL loss=1.4700\n",
      "==========EPOCH 324===========\n"
     ]
    },
    {
     "name": "stderr",
     "output_type": "stream",
     "text": [
      "                                                 \r"
     ]
    },
    {
     "name": "stdout",
     "output_type": "stream",
     "text": [
      "Trainning loss=2.7230\n"
     ]
    },
    {
     "name": "stderr",
     "output_type": "stream",
     "text": [
      "  0%|          | 1/279 [00:00<00:32,  8.60it/s]"
     ]
    },
    {
     "name": "stdout",
     "output_type": "stream",
     "text": [
      "VAL: rmse=6.3820, mae=4.4672, mape=0.1413, acc=0.8731, r2_score=0.6694, var_score=0.6703\n",
      "VAL loss=1.4760\n",
      "==========EPOCH 325===========\n"
     ]
    },
    {
     "name": "stderr",
     "output_type": "stream",
     "text": [
      "                                                 \r"
     ]
    },
    {
     "name": "stdout",
     "output_type": "stream",
     "text": [
      "Trainning loss=2.7294\n"
     ]
    },
    {
     "name": "stderr",
     "output_type": "stream",
     "text": [
      "  0%|          | 1/279 [00:00<00:33,  8.27it/s]"
     ]
    },
    {
     "name": "stdout",
     "output_type": "stream",
     "text": [
      "VAL: rmse=6.3607, mae=4.4567, mape=0.1404, acc=0.8734, r2_score=0.6716, var_score=0.6733\n",
      "VAL loss=1.4662\n",
      "==========EPOCH 326===========\n"
     ]
    },
    {
     "name": "stderr",
     "output_type": "stream",
     "text": [
      "                                                 \r"
     ]
    },
    {
     "name": "stdout",
     "output_type": "stream",
     "text": [
      "Trainning loss=2.7102\n"
     ]
    },
    {
     "name": "stderr",
     "output_type": "stream",
     "text": [
      "  0%|          | 1/279 [00:00<00:43,  6.36it/s]"
     ]
    },
    {
     "name": "stdout",
     "output_type": "stream",
     "text": [
      "VAL: rmse=6.3014, mae=4.4269, mape=0.1410, acc=0.8742, r2_score=0.6777, var_score=0.6778\n",
      "VAL loss=1.4390\n",
      "==========EPOCH 327===========\n"
     ]
    },
    {
     "name": "stderr",
     "output_type": "stream",
     "text": [
      "                                                 \r"
     ]
    },
    {
     "name": "stdout",
     "output_type": "stream",
     "text": [
      "Trainning loss=2.7008\n"
     ]
    },
    {
     "name": "stderr",
     "output_type": "stream",
     "text": [
      "  0%|          | 1/279 [00:00<00:31,  8.70it/s]"
     ]
    },
    {
     "name": "stdout",
     "output_type": "stream",
     "text": [
      "VAL: rmse=6.4145, mae=4.4933, mape=0.1422, acc=0.8724, r2_score=0.6660, var_score=0.6670\n",
      "VAL loss=1.4911\n",
      "==========EPOCH 328===========\n"
     ]
    },
    {
     "name": "stderr",
     "output_type": "stream",
     "text": [
      "                                                 \r"
     ]
    },
    {
     "name": "stdout",
     "output_type": "stream",
     "text": [
      "Trainning loss=2.6984\n"
     ]
    },
    {
     "name": "stderr",
     "output_type": "stream",
     "text": [
      "  0%|          | 1/279 [00:00<00:34,  8.04it/s]"
     ]
    },
    {
     "name": "stdout",
     "output_type": "stream",
     "text": [
      "VAL: rmse=6.3964, mae=4.4862, mape=0.1421, acc=0.8726, r2_score=0.6679, var_score=0.6688\n",
      "VAL loss=1.4827\n",
      "==========EPOCH 329===========\n"
     ]
    },
    {
     "name": "stderr",
     "output_type": "stream",
     "text": [
      "                                                 \r"
     ]
    },
    {
     "name": "stdout",
     "output_type": "stream",
     "text": [
      "Trainning loss=2.6959\n"
     ]
    },
    {
     "name": "stderr",
     "output_type": "stream",
     "text": [
      "  0%|          | 1/279 [00:00<00:35,  7.89it/s]"
     ]
    },
    {
     "name": "stdout",
     "output_type": "stream",
     "text": [
      "VAL: rmse=6.3772, mae=4.4761, mape=0.1421, acc=0.8729, r2_score=0.6699, var_score=0.6704\n",
      "VAL loss=1.4738\n",
      "==========EPOCH 330===========\n"
     ]
    },
    {
     "name": "stderr",
     "output_type": "stream",
     "text": [
      "                                                 \r"
     ]
    },
    {
     "name": "stdout",
     "output_type": "stream",
     "text": [
      "Trainning loss=2.6927\n"
     ]
    },
    {
     "name": "stderr",
     "output_type": "stream",
     "text": [
      "  0%|          | 1/279 [00:00<00:38,  7.17it/s]"
     ]
    },
    {
     "name": "stdout",
     "output_type": "stream",
     "text": [
      "VAL: rmse=6.3634, mae=4.4706, mape=0.1420, acc=0.8730, r2_score=0.6713, var_score=0.6717\n",
      "VAL loss=1.4674\n",
      "==========EPOCH 331===========\n"
     ]
    },
    {
     "name": "stderr",
     "output_type": "stream",
     "text": [
      "                                                 \r"
     ]
    },
    {
     "name": "stdout",
     "output_type": "stream",
     "text": [
      "Trainning loss=2.6832\n"
     ]
    },
    {
     "name": "stderr",
     "output_type": "stream",
     "text": [
      "  0%|          | 1/279 [00:00<00:38,  7.29it/s]"
     ]
    },
    {
     "name": "stdout",
     "output_type": "stream",
     "text": [
      "VAL: rmse=6.3900, mae=4.4856, mape=0.1423, acc=0.8726, r2_score=0.6686, var_score=0.6692\n",
      "VAL loss=1.4797\n",
      "==========EPOCH 332===========\n"
     ]
    },
    {
     "name": "stderr",
     "output_type": "stream",
     "text": [
      "                                                 \r"
     ]
    },
    {
     "name": "stdout",
     "output_type": "stream",
     "text": [
      "Trainning loss=2.6806\n"
     ]
    },
    {
     "name": "stderr",
     "output_type": "stream",
     "text": [
      "  0%|          | 1/279 [00:00<00:33,  8.22it/s]"
     ]
    },
    {
     "name": "stdout",
     "output_type": "stream",
     "text": [
      "VAL: rmse=6.4103, mae=4.4995, mape=0.1427, acc=0.8722, r2_score=0.6665, var_score=0.6671\n",
      "VAL loss=1.4891\n",
      "==========EPOCH 333===========\n"
     ]
    },
    {
     "name": "stderr",
     "output_type": "stream",
     "text": [
      "                                                 \r"
     ]
    },
    {
     "name": "stdout",
     "output_type": "stream",
     "text": [
      "Trainning loss=2.6829\n"
     ]
    },
    {
     "name": "stderr",
     "output_type": "stream",
     "text": [
      "  0%|          | 1/279 [00:00<00:34,  8.05it/s]"
     ]
    },
    {
     "name": "stdout",
     "output_type": "stream",
     "text": [
      "VAL: rmse=6.3674, mae=4.4779, mape=0.1425, acc=0.8728, r2_score=0.6709, var_score=0.6711\n",
      "VAL loss=1.4692\n",
      "==========EPOCH 334===========\n"
     ]
    },
    {
     "name": "stderr",
     "output_type": "stream",
     "text": [
      "                                                 \r"
     ]
    },
    {
     "name": "stdout",
     "output_type": "stream",
     "text": [
      "Trainning loss=2.6815\n"
     ]
    },
    {
     "name": "stderr",
     "output_type": "stream",
     "text": [
      "  0%|          | 1/279 [00:00<00:33,  8.21it/s]"
     ]
    },
    {
     "name": "stdout",
     "output_type": "stream",
     "text": [
      "VAL: rmse=6.3829, mae=4.4872, mape=0.1429, acc=0.8725, r2_score=0.6693, var_score=0.6696\n",
      "VAL loss=1.4764\n",
      "==========EPOCH 335===========\n"
     ]
    },
    {
     "name": "stderr",
     "output_type": "stream",
     "text": [
      "                                                 \r"
     ]
    },
    {
     "name": "stdout",
     "output_type": "stream",
     "text": [
      "Trainning loss=2.6724\n"
     ]
    },
    {
     "name": "stderr",
     "output_type": "stream",
     "text": [
      "  0%|          | 1/279 [00:00<00:33,  8.27it/s]"
     ]
    },
    {
     "name": "stdout",
     "output_type": "stream",
     "text": [
      "VAL: rmse=6.3759, mae=4.4846, mape=0.1431, acc=0.8726, r2_score=0.6700, var_score=0.6701\n",
      "VAL loss=1.4732\n",
      "==========EPOCH 336===========\n"
     ]
    },
    {
     "name": "stderr",
     "output_type": "stream",
     "text": [
      "                                                 \r"
     ]
    },
    {
     "name": "stdout",
     "output_type": "stream",
     "text": [
      "Trainning loss=2.6711\n"
     ]
    },
    {
     "name": "stderr",
     "output_type": "stream",
     "text": [
      "  0%|          | 1/279 [00:00<00:37,  7.49it/s]"
     ]
    },
    {
     "name": "stdout",
     "output_type": "stream",
     "text": [
      "VAL: rmse=6.3757, mae=4.4882, mape=0.1435, acc=0.8725, r2_score=0.6701, var_score=0.6701\n",
      "VAL loss=1.4731\n",
      "==========EPOCH 337===========\n"
     ]
    },
    {
     "name": "stderr",
     "output_type": "stream",
     "text": [
      "                                                 \r"
     ]
    },
    {
     "name": "stdout",
     "output_type": "stream",
     "text": [
      "Trainning loss=2.6599\n"
     ]
    },
    {
     "name": "stderr",
     "output_type": "stream",
     "text": [
      "  0%|          | 1/279 [00:00<00:38,  7.20it/s]"
     ]
    },
    {
     "name": "stdout",
     "output_type": "stream",
     "text": [
      "VAL: rmse=6.3049, mae=4.4503, mape=0.1418, acc=0.8736, r2_score=0.6774, var_score=0.6775\n",
      "VAL loss=1.4406\n",
      "==========EPOCH 338===========\n"
     ]
    },
    {
     "name": "stderr",
     "output_type": "stream",
     "text": [
      "                                                 \r"
     ]
    },
    {
     "name": "stdout",
     "output_type": "stream",
     "text": [
      "Trainning loss=2.6546\n"
     ]
    },
    {
     "name": "stderr",
     "output_type": "stream",
     "text": [
      "  0%|          | 1/279 [00:00<00:32,  8.51it/s]"
     ]
    },
    {
     "name": "stdout",
     "output_type": "stream",
     "text": [
      "VAL: rmse=6.3931, mae=4.5021, mape=0.1436, acc=0.8721, r2_score=0.6683, var_score=0.6684\n",
      "VAL loss=1.4812\n",
      "==========EPOCH 339===========\n"
     ]
    },
    {
     "name": "stderr",
     "output_type": "stream",
     "text": [
      "                                                 \r"
     ]
    },
    {
     "name": "stdout",
     "output_type": "stream",
     "text": [
      "Trainning loss=2.6547\n"
     ]
    },
    {
     "name": "stderr",
     "output_type": "stream",
     "text": [
      "  0%|          | 1/279 [00:00<00:32,  8.64it/s]"
     ]
    },
    {
     "name": "stdout",
     "output_type": "stream",
     "text": [
      "VAL: rmse=6.3761, mae=4.4934, mape=0.1434, acc=0.8724, r2_score=0.6700, var_score=0.6701\n",
      "VAL loss=1.4733\n",
      "==========EPOCH 340===========\n"
     ]
    },
    {
     "name": "stderr",
     "output_type": "stream",
     "text": [
      "                                                 \r"
     ]
    },
    {
     "name": "stdout",
     "output_type": "stream",
     "text": [
      "Trainning loss=2.6551\n"
     ]
    },
    {
     "name": "stderr",
     "output_type": "stream",
     "text": [
      "  0%|          | 1/279 [00:00<00:36,  7.57it/s]"
     ]
    },
    {
     "name": "stdout",
     "output_type": "stream",
     "text": [
      "VAL: rmse=6.3697, mae=4.4951, mape=0.1437, acc=0.8723, r2_score=0.6707, var_score=0.6707\n",
      "VAL loss=1.4703\n",
      "==========EPOCH 341===========\n"
     ]
    },
    {
     "name": "stderr",
     "output_type": "stream",
     "text": [
      "                                                 \r"
     ]
    },
    {
     "name": "stdout",
     "output_type": "stream",
     "text": [
      "Trainning loss=2.6407\n"
     ]
    },
    {
     "name": "stderr",
     "output_type": "stream",
     "text": [
      "  0%|          | 1/279 [00:00<00:33,  8.21it/s]"
     ]
    },
    {
     "name": "stdout",
     "output_type": "stream",
     "text": [
      "VAL: rmse=6.4160, mae=4.5184, mape=0.1440, acc=0.8717, r2_score=0.6659, var_score=0.6660\n",
      "VAL loss=1.4918\n",
      "==========EPOCH 342===========\n"
     ]
    },
    {
     "name": "stderr",
     "output_type": "stream",
     "text": [
      "                                                 \r"
     ]
    },
    {
     "name": "stdout",
     "output_type": "stream",
     "text": [
      "Trainning loss=2.6429\n"
     ]
    },
    {
     "name": "stderr",
     "output_type": "stream",
     "text": [
      "  0%|          | 1/279 [00:00<00:34,  8.11it/s]"
     ]
    },
    {
     "name": "stdout",
     "output_type": "stream",
     "text": [
      "VAL: rmse=6.4033, mae=4.5132, mape=0.1440, acc=0.8718, r2_score=0.6672, var_score=0.6673\n",
      "VAL loss=1.4859\n",
      "==========EPOCH 343===========\n"
     ]
    },
    {
     "name": "stderr",
     "output_type": "stream",
     "text": [
      "                                                 \r"
     ]
    },
    {
     "name": "stdout",
     "output_type": "stream",
     "text": [
      "Trainning loss=2.6405\n"
     ]
    },
    {
     "name": "stderr",
     "output_type": "stream",
     "text": [
      "  0%|          | 1/279 [00:00<00:38,  7.28it/s]"
     ]
    },
    {
     "name": "stdout",
     "output_type": "stream",
     "text": [
      "VAL: rmse=6.3821, mae=4.5015, mape=0.1443, acc=0.8721, r2_score=0.6694, var_score=0.6695\n",
      "VAL loss=1.4761\n",
      "==========EPOCH 344===========\n"
     ]
    },
    {
     "name": "stderr",
     "output_type": "stream",
     "text": [
      "                                                 \r"
     ]
    },
    {
     "name": "stdout",
     "output_type": "stream",
     "text": [
      "Trainning loss=2.6322\n"
     ]
    },
    {
     "name": "stderr",
     "output_type": "stream",
     "text": [
      "  0%|          | 1/279 [00:00<00:41,  6.76it/s]"
     ]
    },
    {
     "name": "stdout",
     "output_type": "stream",
     "text": [
      "VAL: rmse=6.3958, mae=4.5137, mape=0.1449, acc=0.8718, r2_score=0.6680, var_score=0.6681\n",
      "VAL loss=1.4824\n",
      "==========EPOCH 345===========\n"
     ]
    },
    {
     "name": "stderr",
     "output_type": "stream",
     "text": [
      "                                                 \r"
     ]
    },
    {
     "name": "stdout",
     "output_type": "stream",
     "text": [
      "Trainning loss=2.6329\n"
     ]
    },
    {
     "name": "stderr",
     "output_type": "stream",
     "text": [
      "  0%|          | 1/279 [00:00<00:42,  6.49it/s]"
     ]
    },
    {
     "name": "stdout",
     "output_type": "stream",
     "text": [
      "VAL: rmse=6.4037, mae=4.5154, mape=0.1441, acc=0.8717, r2_score=0.6672, var_score=0.6672\n",
      "VAL loss=1.4861\n",
      "==========EPOCH 346===========\n"
     ]
    },
    {
     "name": "stderr",
     "output_type": "stream",
     "text": [
      "                                                 \r"
     ]
    },
    {
     "name": "stdout",
     "output_type": "stream",
     "text": [
      "Trainning loss=2.6219\n"
     ]
    },
    {
     "name": "stderr",
     "output_type": "stream",
     "text": [
      "  0%|          | 1/279 [00:00<00:41,  6.77it/s]"
     ]
    },
    {
     "name": "stdout",
     "output_type": "stream",
     "text": [
      "VAL: rmse=6.4210, mae=4.5291, mape=0.1448, acc=0.8713, r2_score=0.6654, var_score=0.6654\n",
      "VAL loss=1.4941\n",
      "==========EPOCH 347===========\n"
     ]
    },
    {
     "name": "stderr",
     "output_type": "stream",
     "text": [
      "                                                 \r"
     ]
    },
    {
     "name": "stdout",
     "output_type": "stream",
     "text": [
      "Trainning loss=2.6176\n"
     ]
    },
    {
     "name": "stderr",
     "output_type": "stream",
     "text": [
      "  0%|          | 1/279 [00:00<00:34,  7.96it/s]"
     ]
    },
    {
     "name": "stdout",
     "output_type": "stream",
     "text": [
      "VAL: rmse=6.3645, mae=4.5117, mape=0.1455, acc=0.8718, r2_score=0.6712, var_score=0.6721\n",
      "VAL loss=1.4679\n",
      "==========EPOCH 348===========\n"
     ]
    },
    {
     "name": "stderr",
     "output_type": "stream",
     "text": [
      "                                                 \r"
     ]
    },
    {
     "name": "stdout",
     "output_type": "stream",
     "text": [
      "Trainning loss=2.6198\n"
     ]
    },
    {
     "name": "stderr",
     "output_type": "stream",
     "text": [
      "  0%|          | 1/279 [00:00<00:38,  7.30it/s]"
     ]
    },
    {
     "name": "stdout",
     "output_type": "stream",
     "text": [
      "VAL: rmse=6.4272, mae=4.5375, mape=0.1455, acc=0.8711, r2_score=0.6647, var_score=0.6648\n",
      "VAL loss=1.4970\n",
      "==========EPOCH 349===========\n"
     ]
    },
    {
     "name": "stderr",
     "output_type": "stream",
     "text": [
      "                                                 \r"
     ]
    },
    {
     "name": "stdout",
     "output_type": "stream",
     "text": [
      "Trainning loss=2.6167\n"
     ]
    },
    {
     "name": "stderr",
     "output_type": "stream",
     "text": [
      "  0%|          | 1/279 [00:00<00:35,  7.91it/s]"
     ]
    },
    {
     "name": "stdout",
     "output_type": "stream",
     "text": [
      "VAL: rmse=6.4551, mae=4.5518, mape=0.1456, acc=0.8707, r2_score=0.6618, var_score=0.6618\n",
      "VAL loss=1.5100\n",
      "==========EPOCH 350===========\n"
     ]
    },
    {
     "name": "stderr",
     "output_type": "stream",
     "text": [
      "                                                 \r"
     ]
    },
    {
     "name": "stdout",
     "output_type": "stream",
     "text": [
      "Trainning loss=2.6089\n"
     ]
    },
    {
     "name": "stderr",
     "output_type": "stream",
     "text": [
      "  0%|          | 1/279 [00:00<00:36,  7.58it/s]"
     ]
    },
    {
     "name": "stdout",
     "output_type": "stream",
     "text": [
      "VAL: rmse=6.4587, mae=4.5564, mape=0.1460, acc=0.8706, r2_score=0.6614, var_score=0.6615\n",
      "VAL loss=1.5117\n",
      "==========EPOCH 351===========\n"
     ]
    },
    {
     "name": "stderr",
     "output_type": "stream",
     "text": [
      "                                                 \r"
     ]
    },
    {
     "name": "stdout",
     "output_type": "stream",
     "text": [
      "Trainning loss=2.6059\n"
     ]
    },
    {
     "name": "stderr",
     "output_type": "stream",
     "text": [
      "  0%|          | 1/279 [00:00<00:36,  7.52it/s]"
     ]
    },
    {
     "name": "stdout",
     "output_type": "stream",
     "text": [
      "VAL: rmse=6.4076, mae=4.5352, mape=0.1461, acc=0.8712, r2_score=0.6668, var_score=0.6675\n",
      "VAL loss=1.4879\n",
      "==========EPOCH 352===========\n"
     ]
    },
    {
     "name": "stderr",
     "output_type": "stream",
     "text": [
      "                                                 \r"
     ]
    },
    {
     "name": "stdout",
     "output_type": "stream",
     "text": [
      "Trainning loss=2.6162\n"
     ]
    },
    {
     "name": "stderr",
     "output_type": "stream",
     "text": [
      "  0%|          | 1/279 [00:00<00:35,  7.90it/s]"
     ]
    },
    {
     "name": "stdout",
     "output_type": "stream",
     "text": [
      "VAL: rmse=6.4497, mae=4.5520, mape=0.1456, acc=0.8707, r2_score=0.6624, var_score=0.6624\n",
      "VAL loss=1.5075\n",
      "==========EPOCH 353===========\n"
     ]
    },
    {
     "name": "stderr",
     "output_type": "stream",
     "text": [
      "                                                 \r"
     ]
    },
    {
     "name": "stdout",
     "output_type": "stream",
     "text": [
      "Trainning loss=2.5948\n"
     ]
    },
    {
     "name": "stderr",
     "output_type": "stream",
     "text": [
      "  0%|          | 1/279 [00:00<00:38,  7.20it/s]"
     ]
    },
    {
     "name": "stdout",
     "output_type": "stream",
     "text": [
      "VAL: rmse=6.4833, mae=4.5690, mape=0.1459, acc=0.8702, r2_score=0.6588, var_score=0.6588\n",
      "VAL loss=1.5232\n",
      "==========EPOCH 354===========\n"
     ]
    },
    {
     "name": "stderr",
     "output_type": "stream",
     "text": [
      "                                                 \r"
     ]
    },
    {
     "name": "stdout",
     "output_type": "stream",
     "text": [
      "Trainning loss=2.5959\n"
     ]
    },
    {
     "name": "stderr",
     "output_type": "stream",
     "text": [
      "  0%|          | 1/279 [00:00<00:33,  8.21it/s]"
     ]
    },
    {
     "name": "stdout",
     "output_type": "stream",
     "text": [
      "VAL: rmse=6.4975, mae=4.5807, mape=0.1463, acc=0.8699, r2_score=0.6573, var_score=0.6573\n",
      "VAL loss=1.5299\n",
      "==========EPOCH 355===========\n"
     ]
    },
    {
     "name": "stderr",
     "output_type": "stream",
     "text": [
      "                                                 \r"
     ]
    },
    {
     "name": "stdout",
     "output_type": "stream",
     "text": [
      "Trainning loss=2.5926\n"
     ]
    },
    {
     "name": "stderr",
     "output_type": "stream",
     "text": [
      "  0%|          | 1/279 [00:00<00:33,  8.29it/s]"
     ]
    },
    {
     "name": "stdout",
     "output_type": "stream",
     "text": [
      "VAL: rmse=6.4908, mae=4.5801, mape=0.1468, acc=0.8699, r2_score=0.6580, var_score=0.6582\n",
      "VAL loss=1.5267\n",
      "==========EPOCH 356===========\n"
     ]
    },
    {
     "name": "stderr",
     "output_type": "stream",
     "text": [
      "                                                 \r"
     ]
    },
    {
     "name": "stdout",
     "output_type": "stream",
     "text": [
      "Trainning loss=2.5920\n"
     ]
    },
    {
     "name": "stderr",
     "output_type": "stream",
     "text": [
      "  0%|          | 1/279 [00:00<00:38,  7.25it/s]"
     ]
    },
    {
     "name": "stdout",
     "output_type": "stream",
     "text": [
      "VAL: rmse=6.4872, mae=4.5796, mape=0.1468, acc=0.8699, r2_score=0.6584, var_score=0.6586\n",
      "VAL loss=1.5251\n",
      "==========EPOCH 357===========\n"
     ]
    },
    {
     "name": "stderr",
     "output_type": "stream",
     "text": [
      "                                                 \r"
     ]
    },
    {
     "name": "stdout",
     "output_type": "stream",
     "text": [
      "Trainning loss=2.5890\n"
     ]
    },
    {
     "name": "stderr",
     "output_type": "stream",
     "text": [
      "  0%|          | 1/279 [00:00<00:40,  6.80it/s]"
     ]
    },
    {
     "name": "stdout",
     "output_type": "stream",
     "text": [
      "VAL: rmse=6.4844, mae=4.5808, mape=0.1474, acc=0.8699, r2_score=0.6587, var_score=0.6596\n",
      "VAL loss=1.5237\n",
      "==========EPOCH 358===========\n"
     ]
    },
    {
     "name": "stderr",
     "output_type": "stream",
     "text": [
      "                                                 \r"
     ]
    },
    {
     "name": "stdout",
     "output_type": "stream",
     "text": [
      "Trainning loss=2.5877\n"
     ]
    },
    {
     "name": "stderr",
     "output_type": "stream",
     "text": [
      "  0%|          | 1/279 [00:00<00:34,  8.13it/s]"
     ]
    },
    {
     "name": "stdout",
     "output_type": "stream",
     "text": [
      "VAL: rmse=6.4830, mae=4.5778, mape=0.1466, acc=0.8700, r2_score=0.6589, var_score=0.6590\n",
      "VAL loss=1.5231\n",
      "==========EPOCH 359===========\n"
     ]
    },
    {
     "name": "stderr",
     "output_type": "stream",
     "text": [
      "                                                 \r"
     ]
    },
    {
     "name": "stdout",
     "output_type": "stream",
     "text": [
      "Trainning loss=2.5830\n"
     ]
    },
    {
     "name": "stderr",
     "output_type": "stream",
     "text": [
      "  0%|          | 1/279 [00:00<00:35,  7.88it/s]"
     ]
    },
    {
     "name": "stdout",
     "output_type": "stream",
     "text": [
      "VAL: rmse=6.5243, mae=4.6013, mape=0.1472, acc=0.8693, r2_score=0.6545, var_score=0.6546\n",
      "VAL loss=1.5425\n",
      "==========EPOCH 360===========\n"
     ]
    },
    {
     "name": "stderr",
     "output_type": "stream",
     "text": [
      "                                                 \r"
     ]
    },
    {
     "name": "stdout",
     "output_type": "stream",
     "text": [
      "Trainning loss=2.5758\n"
     ]
    },
    {
     "name": "stderr",
     "output_type": "stream",
     "text": [
      "  0%|          | 1/279 [00:00<00:38,  7.15it/s]"
     ]
    },
    {
     "name": "stdout",
     "output_type": "stream",
     "text": [
      "VAL: rmse=6.4935, mae=4.5835, mape=0.1470, acc=0.8698, r2_score=0.6578, var_score=0.6582\n",
      "VAL loss=1.5280\n",
      "==========EPOCH 361===========\n"
     ]
    },
    {
     "name": "stderr",
     "output_type": "stream",
     "text": [
      "                                                 \r"
     ]
    },
    {
     "name": "stdout",
     "output_type": "stream",
     "text": [
      "Trainning loss=2.5728\n"
     ]
    },
    {
     "name": "stderr",
     "output_type": "stream",
     "text": [
      "  0%|          | 1/279 [00:00<00:32,  8.66it/s]"
     ]
    },
    {
     "name": "stdout",
     "output_type": "stream",
     "text": [
      "VAL: rmse=6.5832, mae=4.6346, mape=0.1477, acc=0.8683, r2_score=0.6482, var_score=0.6483\n",
      "VAL loss=1.5705\n",
      "==========EPOCH 362===========\n"
     ]
    },
    {
     "name": "stderr",
     "output_type": "stream",
     "text": [
      "                                                 \r"
     ]
    },
    {
     "name": "stdout",
     "output_type": "stream",
     "text": [
      "Trainning loss=2.5740\n"
     ]
    },
    {
     "name": "stderr",
     "output_type": "stream",
     "text": [
      "  0%|          | 1/279 [00:00<00:36,  7.68it/s]"
     ]
    },
    {
     "name": "stdout",
     "output_type": "stream",
     "text": [
      "VAL: rmse=6.5552, mae=4.6226, mape=0.1478, acc=0.8687, r2_score=0.6512, var_score=0.6513\n",
      "VAL loss=1.5572\n",
      "==========EPOCH 363===========\n"
     ]
    },
    {
     "name": "stderr",
     "output_type": "stream",
     "text": [
      "                                                 \r"
     ]
    },
    {
     "name": "stdout",
     "output_type": "stream",
     "text": [
      "Trainning loss=2.5671\n"
     ]
    },
    {
     "name": "stderr",
     "output_type": "stream",
     "text": [
      "  0%|          | 1/279 [00:00<00:40,  6.90it/s]"
     ]
    },
    {
     "name": "stdout",
     "output_type": "stream",
     "text": [
      "VAL: rmse=6.5757, mae=4.6364, mape=0.1479, acc=0.8683, r2_score=0.6490, var_score=0.6490\n",
      "VAL loss=1.5670\n",
      "==========EPOCH 364===========\n"
     ]
    },
    {
     "name": "stderr",
     "output_type": "stream",
     "text": [
      "                                                 \r"
     ]
    },
    {
     "name": "stdout",
     "output_type": "stream",
     "text": [
      "Trainning loss=2.5675\n"
     ]
    },
    {
     "name": "stderr",
     "output_type": "stream",
     "text": [
      "  0%|          | 1/279 [00:00<00:33,  8.22it/s]"
     ]
    },
    {
     "name": "stdout",
     "output_type": "stream",
     "text": [
      "VAL: rmse=6.5739, mae=4.6375, mape=0.1481, acc=0.8683, r2_score=0.6492, var_score=0.6492\n",
      "VAL loss=1.5661\n",
      "==========EPOCH 365===========\n"
     ]
    },
    {
     "name": "stderr",
     "output_type": "stream",
     "text": [
      "                                                 \r"
     ]
    },
    {
     "name": "stdout",
     "output_type": "stream",
     "text": [
      "Trainning loss=2.5658\n"
     ]
    },
    {
     "name": "stderr",
     "output_type": "stream",
     "text": [
      "  0%|          | 1/279 [00:00<00:34,  8.03it/s]"
     ]
    },
    {
     "name": "stdout",
     "output_type": "stream",
     "text": [
      "VAL: rmse=6.5789, mae=4.6376, mape=0.1483, acc=0.8683, r2_score=0.6487, var_score=0.6488\n",
      "VAL loss=1.5685\n",
      "==========EPOCH 366===========\n"
     ]
    },
    {
     "name": "stderr",
     "output_type": "stream",
     "text": [
      "                                                 \r"
     ]
    },
    {
     "name": "stdout",
     "output_type": "stream",
     "text": [
      "Trainning loss=2.5599\n"
     ]
    },
    {
     "name": "stderr",
     "output_type": "stream",
     "text": [
      "  0%|          | 1/279 [00:00<00:36,  7.63it/s]"
     ]
    },
    {
     "name": "stdout",
     "output_type": "stream",
     "text": [
      "VAL: rmse=6.6108, mae=4.6574, mape=0.1487, acc=0.8677, r2_score=0.6453, var_score=0.6453\n",
      "VAL loss=1.5837\n",
      "==========EPOCH 367===========\n"
     ]
    },
    {
     "name": "stderr",
     "output_type": "stream",
     "text": [
      "                                                 \r"
     ]
    },
    {
     "name": "stdout",
     "output_type": "stream",
     "text": [
      "Trainning loss=2.5554\n"
     ]
    },
    {
     "name": "stderr",
     "output_type": "stream",
     "text": [
      "  0%|          | 1/279 [00:00<00:35,  7.83it/s]"
     ]
    },
    {
     "name": "stdout",
     "output_type": "stream",
     "text": [
      "VAL: rmse=6.6041, mae=4.6548, mape=0.1491, acc=0.8678, r2_score=0.6460, var_score=0.6463\n",
      "VAL loss=1.5805\n",
      "==========EPOCH 368===========\n"
     ]
    },
    {
     "name": "stderr",
     "output_type": "stream",
     "text": [
      "                                                 \r"
     ]
    },
    {
     "name": "stdout",
     "output_type": "stream",
     "text": [
      "Trainning loss=2.5683\n"
     ]
    },
    {
     "name": "stderr",
     "output_type": "stream",
     "text": [
      "  0%|          | 1/279 [00:00<00:38,  7.29it/s]"
     ]
    },
    {
     "name": "stdout",
     "output_type": "stream",
     "text": [
      "VAL: rmse=6.5960, mae=4.6487, mape=0.1478, acc=0.8679, r2_score=0.6469, var_score=0.6470\n",
      "VAL loss=1.5766\n",
      "==========EPOCH 369===========\n"
     ]
    },
    {
     "name": "stderr",
     "output_type": "stream",
     "text": [
      "                                                 \r"
     ]
    },
    {
     "name": "stdout",
     "output_type": "stream",
     "text": [
      "Trainning loss=2.5489\n"
     ]
    },
    {
     "name": "stderr",
     "output_type": "stream",
     "text": [
      "  0%|          | 1/279 [00:00<00:37,  7.38it/s]"
     ]
    },
    {
     "name": "stdout",
     "output_type": "stream",
     "text": [
      "VAL: rmse=6.6164, mae=4.6619, mape=0.1490, acc=0.8676, r2_score=0.6447, var_score=0.6448\n",
      "VAL loss=1.5864\n",
      "==========EPOCH 370===========\n"
     ]
    },
    {
     "name": "stderr",
     "output_type": "stream",
     "text": [
      "                                                 \r"
     ]
    },
    {
     "name": "stdout",
     "output_type": "stream",
     "text": [
      "Trainning loss=2.5477\n"
     ]
    },
    {
     "name": "stderr",
     "output_type": "stream",
     "text": [
      "  0%|          | 1/279 [00:00<00:35,  7.87it/s]"
     ]
    },
    {
     "name": "stdout",
     "output_type": "stream",
     "text": [
      "VAL: rmse=6.6091, mae=4.6609, mape=0.1495, acc=0.8676, r2_score=0.6455, var_score=0.6460\n",
      "VAL loss=1.5829\n",
      "==========EPOCH 371===========\n"
     ]
    },
    {
     "name": "stderr",
     "output_type": "stream",
     "text": [
      "                                                 \r"
     ]
    },
    {
     "name": "stdout",
     "output_type": "stream",
     "text": [
      "Trainning loss=2.5501\n"
     ]
    },
    {
     "name": "stderr",
     "output_type": "stream",
     "text": [
      "  0%|          | 1/279 [00:00<00:39,  7.11it/s]"
     ]
    },
    {
     "name": "stdout",
     "output_type": "stream",
     "text": [
      "VAL: rmse=6.6239, mae=4.6675, mape=0.1487, acc=0.8674, r2_score=0.6439, var_score=0.6439\n",
      "VAL loss=1.5900\n",
      "==========EPOCH 372===========\n"
     ]
    },
    {
     "name": "stderr",
     "output_type": "stream",
     "text": [
      "                                                 \r"
     ]
    },
    {
     "name": "stdout",
     "output_type": "stream",
     "text": [
      "Trainning loss=2.5426\n"
     ]
    },
    {
     "name": "stderr",
     "output_type": "stream",
     "text": [
      "  0%|          | 1/279 [00:00<00:35,  7.90it/s]"
     ]
    },
    {
     "name": "stdout",
     "output_type": "stream",
     "text": [
      "VAL: rmse=6.6212, mae=4.6695, mape=0.1492, acc=0.8674, r2_score=0.6442, var_score=0.6443\n",
      "VAL loss=1.5887\n",
      "==========EPOCH 373===========\n"
     ]
    },
    {
     "name": "stderr",
     "output_type": "stream",
     "text": [
      "                                                 \r"
     ]
    },
    {
     "name": "stdout",
     "output_type": "stream",
     "text": [
      "Trainning loss=2.5409\n"
     ]
    },
    {
     "name": "stderr",
     "output_type": "stream",
     "text": [
      "  0%|          | 1/279 [00:00<00:31,  8.70it/s]"
     ]
    },
    {
     "name": "stdout",
     "output_type": "stream",
     "text": [
      "VAL: rmse=6.6193, mae=4.6724, mape=0.1500, acc=0.8673, r2_score=0.6444, var_score=0.6450\n",
      "VAL loss=1.5878\n",
      "==========EPOCH 374===========\n"
     ]
    },
    {
     "name": "stderr",
     "output_type": "stream",
     "text": [
      "                                                 \r"
     ]
    },
    {
     "name": "stdout",
     "output_type": "stream",
     "text": [
      "Trainning loss=2.5439\n"
     ]
    },
    {
     "name": "stderr",
     "output_type": "stream",
     "text": [
      "  0%|          | 1/279 [00:00<00:38,  7.31it/s]"
     ]
    },
    {
     "name": "stdout",
     "output_type": "stream",
     "text": [
      "VAL: rmse=6.6522, mae=4.6871, mape=0.1490, acc=0.8669, r2_score=0.6408, var_score=0.6409\n",
      "VAL loss=1.6036\n",
      "==========EPOCH 375===========\n"
     ]
    },
    {
     "name": "stderr",
     "output_type": "stream",
     "text": [
      "                                                 \r"
     ]
    },
    {
     "name": "stdout",
     "output_type": "stream",
     "text": [
      "Trainning loss=2.5364\n"
     ]
    },
    {
     "name": "stderr",
     "output_type": "stream",
     "text": [
      "  0%|          | 1/279 [00:00<00:35,  7.76it/s]"
     ]
    },
    {
     "name": "stdout",
     "output_type": "stream",
     "text": [
      "VAL: rmse=6.6386, mae=4.6826, mape=0.1494, acc=0.8670, r2_score=0.6423, var_score=0.6423\n",
      "VAL loss=1.5971\n",
      "==========EPOCH 376===========\n"
     ]
    },
    {
     "name": "stderr",
     "output_type": "stream",
     "text": [
      "                                                 \r"
     ]
    },
    {
     "name": "stdout",
     "output_type": "stream",
     "text": [
      "Trainning loss=2.5325\n"
     ]
    },
    {
     "name": "stderr",
     "output_type": "stream",
     "text": [
      "  0%|          | 1/279 [00:00<00:36,  7.70it/s]"
     ]
    },
    {
     "name": "stdout",
     "output_type": "stream",
     "text": [
      "VAL: rmse=6.6404, mae=4.6867, mape=0.1502, acc=0.8669, r2_score=0.6421, var_score=0.6425\n",
      "VAL loss=1.5979\n",
      "==========EPOCH 377===========\n"
     ]
    },
    {
     "name": "stderr",
     "output_type": "stream",
     "text": [
      "                                                 \r"
     ]
    },
    {
     "name": "stdout",
     "output_type": "stream",
     "text": [
      "Trainning loss=2.5333\n"
     ]
    },
    {
     "name": "stderr",
     "output_type": "stream",
     "text": [
      "  0%|          | 1/279 [00:00<00:39,  7.08it/s]"
     ]
    },
    {
     "name": "stdout",
     "output_type": "stream",
     "text": [
      "VAL: rmse=6.6454, mae=4.6893, mape=0.1498, acc=0.8668, r2_score=0.6416, var_score=0.6416\n",
      "VAL loss=1.6003\n",
      "==========EPOCH 378===========\n"
     ]
    },
    {
     "name": "stderr",
     "output_type": "stream",
     "text": [
      "                                                 \r"
     ]
    },
    {
     "name": "stdout",
     "output_type": "stream",
     "text": [
      "Trainning loss=2.5315\n"
     ]
    },
    {
     "name": "stderr",
     "output_type": "stream",
     "text": [
      "  0%|          | 1/279 [00:00<00:36,  7.59it/s]"
     ]
    },
    {
     "name": "stdout",
     "output_type": "stream",
     "text": [
      "VAL: rmse=6.6718, mae=4.7041, mape=0.1492, acc=0.8664, r2_score=0.6387, var_score=0.6390\n",
      "VAL loss=1.6131\n",
      "==========EPOCH 379===========\n"
     ]
    },
    {
     "name": "stderr",
     "output_type": "stream",
     "text": [
      "                                                 \r"
     ]
    },
    {
     "name": "stdout",
     "output_type": "stream",
     "text": [
      "Trainning loss=2.5285\n"
     ]
    },
    {
     "name": "stderr",
     "output_type": "stream",
     "text": [
      "  0%|          | 1/279 [00:00<00:35,  7.93it/s]"
     ]
    },
    {
     "name": "stdout",
     "output_type": "stream",
     "text": [
      "VAL: rmse=6.6584, mae=4.6988, mape=0.1496, acc=0.8665, r2_score=0.6402, var_score=0.6402\n",
      "VAL loss=1.6066\n",
      "==========EPOCH 380===========\n"
     ]
    },
    {
     "name": "stderr",
     "output_type": "stream",
     "text": [
      "                                                 \r"
     ]
    },
    {
     "name": "stdout",
     "output_type": "stream",
     "text": [
      "Trainning loss=2.5267\n"
     ]
    },
    {
     "name": "stderr",
     "output_type": "stream",
     "text": [
      "  0%|          | 1/279 [00:00<00:41,  6.76it/s]"
     ]
    },
    {
     "name": "stdout",
     "output_type": "stream",
     "text": [
      "VAL: rmse=6.6874, mae=4.7158, mape=0.1494, acc=0.8660, r2_score=0.6370, var_score=0.6375\n",
      "VAL loss=1.6206\n",
      "==========EPOCH 381===========\n"
     ]
    },
    {
     "name": "stderr",
     "output_type": "stream",
     "text": [
      "                                                 \r"
     ]
    },
    {
     "name": "stdout",
     "output_type": "stream",
     "text": [
      "Trainning loss=2.5255\n"
     ]
    },
    {
     "name": "stderr",
     "output_type": "stream",
     "text": [
      "  0%|          | 1/279 [00:00<00:43,  6.40it/s]"
     ]
    },
    {
     "name": "stdout",
     "output_type": "stream",
     "text": [
      "VAL: rmse=6.6867, mae=4.7167, mape=0.1492, acc=0.8660, r2_score=0.6371, var_score=0.6378\n",
      "VAL loss=1.6203\n",
      "==========EPOCH 382===========\n"
     ]
    },
    {
     "name": "stderr",
     "output_type": "stream",
     "text": [
      "                                                 \r"
     ]
    },
    {
     "name": "stdout",
     "output_type": "stream",
     "text": [
      "Trainning loss=2.5223\n"
     ]
    },
    {
     "name": "stderr",
     "output_type": "stream",
     "text": [
      "  0%|          | 1/279 [00:00<00:35,  7.75it/s]"
     ]
    },
    {
     "name": "stdout",
     "output_type": "stream",
     "text": [
      "VAL: rmse=6.6939, mae=4.7215, mape=0.1494, acc=0.8659, r2_score=0.6363, var_score=0.6370\n",
      "VAL loss=1.6238\n",
      "==========EPOCH 383===========\n"
     ]
    },
    {
     "name": "stderr",
     "output_type": "stream",
     "text": [
      "                                                 \r"
     ]
    },
    {
     "name": "stdout",
     "output_type": "stream",
     "text": [
      "Trainning loss=2.5188\n"
     ]
    },
    {
     "name": "stderr",
     "output_type": "stream",
     "text": [
      "  0%|          | 1/279 [00:00<00:39,  7.12it/s]"
     ]
    },
    {
     "name": "stdout",
     "output_type": "stream",
     "text": [
      "VAL: rmse=6.6991, mae=4.7256, mape=0.1495, acc=0.8658, r2_score=0.6357, var_score=0.6364\n",
      "VAL loss=1.6263\n",
      "==========EPOCH 384===========\n"
     ]
    },
    {
     "name": "stderr",
     "output_type": "stream",
     "text": [
      "                                                 \r"
     ]
    },
    {
     "name": "stdout",
     "output_type": "stream",
     "text": [
      "Trainning loss=2.5164\n"
     ]
    },
    {
     "name": "stderr",
     "output_type": "stream",
     "text": [
      "  0%|          | 1/279 [00:00<00:37,  7.33it/s]"
     ]
    },
    {
     "name": "stdout",
     "output_type": "stream",
     "text": [
      "VAL: rmse=6.7010, mae=4.7281, mape=0.1496, acc=0.8657, r2_score=0.6355, var_score=0.6362\n",
      "VAL loss=1.6272\n",
      "==========EPOCH 385===========\n"
     ]
    },
    {
     "name": "stderr",
     "output_type": "stream",
     "text": [
      "                                                 \r"
     ]
    },
    {
     "name": "stdout",
     "output_type": "stream",
     "text": [
      "Trainning loss=2.5145\n"
     ]
    },
    {
     "name": "stderr",
     "output_type": "stream",
     "text": [
      "  0%|          | 1/279 [00:00<00:36,  7.72it/s]"
     ]
    },
    {
     "name": "stdout",
     "output_type": "stream",
     "text": [
      "VAL: rmse=6.7019, mae=4.7298, mape=0.1496, acc=0.8656, r2_score=0.6354, var_score=0.6362\n",
      "VAL loss=1.6277\n",
      "==========EPOCH 386===========\n"
     ]
    },
    {
     "name": "stderr",
     "output_type": "stream",
     "text": [
      "                                                 \r"
     ]
    },
    {
     "name": "stdout",
     "output_type": "stream",
     "text": [
      "Trainning loss=2.5131\n"
     ]
    },
    {
     "name": "stderr",
     "output_type": "stream",
     "text": [
      "  0%|          | 1/279 [00:00<00:33,  8.24it/s]"
     ]
    },
    {
     "name": "stdout",
     "output_type": "stream",
     "text": [
      "VAL: rmse=6.7028, mae=4.7311, mape=0.1496, acc=0.8656, r2_score=0.6353, var_score=0.6362\n",
      "VAL loss=1.6281\n",
      "==========EPOCH 387===========\n"
     ]
    },
    {
     "name": "stderr",
     "output_type": "stream",
     "text": [
      "                                                 \r"
     ]
    },
    {
     "name": "stdout",
     "output_type": "stream",
     "text": [
      "Trainning loss=2.5114\n"
     ]
    },
    {
     "name": "stderr",
     "output_type": "stream",
     "text": [
      "  0%|          | 1/279 [00:00<00:33,  8.19it/s]"
     ]
    },
    {
     "name": "stdout",
     "output_type": "stream",
     "text": [
      "VAL: rmse=6.7044, mae=4.7326, mape=0.1497, acc=0.8656, r2_score=0.6352, var_score=0.6360\n",
      "VAL loss=1.6289\n",
      "==========EPOCH 388===========\n"
     ]
    },
    {
     "name": "stderr",
     "output_type": "stream",
     "text": [
      "                                                 \r"
     ]
    },
    {
     "name": "stdout",
     "output_type": "stream",
     "text": [
      "Trainning loss=2.5089\n"
     ]
    },
    {
     "name": "stderr",
     "output_type": "stream",
     "text": [
      "  0%|          | 1/279 [00:00<00:40,  6.79it/s]"
     ]
    },
    {
     "name": "stdout",
     "output_type": "stream",
     "text": [
      "VAL: rmse=6.7082, mae=4.7354, mape=0.1497, acc=0.8655, r2_score=0.6348, var_score=0.6356\n",
      "VAL loss=1.6307\n",
      "==========EPOCH 389===========\n"
     ]
    },
    {
     "name": "stderr",
     "output_type": "stream",
     "text": [
      "                                                 \r"
     ]
    },
    {
     "name": "stdout",
     "output_type": "stream",
     "text": [
      "Trainning loss=2.5073\n"
     ]
    },
    {
     "name": "stderr",
     "output_type": "stream",
     "text": [
      "  0%|          | 1/279 [00:00<00:35,  7.89it/s]"
     ]
    },
    {
     "name": "stdout",
     "output_type": "stream",
     "text": [
      "VAL: rmse=6.7094, mae=4.7364, mape=0.1498, acc=0.8655, r2_score=0.6346, var_score=0.6355\n",
      "VAL loss=1.6313\n",
      "==========EPOCH 390===========\n"
     ]
    },
    {
     "name": "stderr",
     "output_type": "stream",
     "text": [
      "                                                 \r"
     ]
    },
    {
     "name": "stdout",
     "output_type": "stream",
     "text": [
      "Trainning loss=2.5062\n"
     ]
    },
    {
     "name": "stderr",
     "output_type": "stream",
     "text": [
      "  0%|          | 1/279 [00:00<00:36,  7.53it/s]"
     ]
    },
    {
     "name": "stdout",
     "output_type": "stream",
     "text": [
      "VAL: rmse=6.7106, mae=4.7372, mape=0.1498, acc=0.8654, r2_score=0.6345, var_score=0.6354\n",
      "VAL loss=1.6319\n",
      "==========EPOCH 391===========\n"
     ]
    },
    {
     "name": "stderr",
     "output_type": "stream",
     "text": [
      "                                                 \r"
     ]
    },
    {
     "name": "stdout",
     "output_type": "stream",
     "text": [
      "Trainning loss=2.5042\n"
     ]
    },
    {
     "name": "stderr",
     "output_type": "stream",
     "text": [
      "  0%|          | 1/279 [00:00<00:35,  7.81it/s]"
     ]
    },
    {
     "name": "stdout",
     "output_type": "stream",
     "text": [
      "VAL: rmse=6.7166, mae=4.7409, mape=0.1499, acc=0.8653, r2_score=0.6338, var_score=0.6348\n",
      "VAL loss=1.6348\n",
      "==========EPOCH 392===========\n"
     ]
    },
    {
     "name": "stderr",
     "output_type": "stream",
     "text": [
      "                                                 \r"
     ]
    },
    {
     "name": "stdout",
     "output_type": "stream",
     "text": [
      "Trainning loss=2.5016\n"
     ]
    },
    {
     "name": "stderr",
     "output_type": "stream",
     "text": [
      "  0%|          | 1/279 [00:00<00:36,  7.64it/s]"
     ]
    },
    {
     "name": "stdout",
     "output_type": "stream",
     "text": [
      "VAL: rmse=6.7346, mae=4.7514, mape=0.1501, acc=0.8650, r2_score=0.6319, var_score=0.6329\n",
      "VAL loss=1.6436\n",
      "==========EPOCH 393===========\n"
     ]
    },
    {
     "name": "stderr",
     "output_type": "stream",
     "text": [
      "                                                 \r"
     ]
    },
    {
     "name": "stdout",
     "output_type": "stream",
     "text": [
      "Trainning loss=2.5002\n"
     ]
    },
    {
     "name": "stderr",
     "output_type": "stream",
     "text": [
      "  0%|          | 1/279 [00:00<00:37,  7.33it/s]"
     ]
    },
    {
     "name": "stdout",
     "output_type": "stream",
     "text": [
      "VAL: rmse=6.7466, mae=4.7578, mape=0.1504, acc=0.8649, r2_score=0.6306, var_score=0.6316\n",
      "VAL loss=1.6494\n",
      "==========EPOCH 394===========\n"
     ]
    },
    {
     "name": "stderr",
     "output_type": "stream",
     "text": [
      "                                                 \r"
     ]
    },
    {
     "name": "stdout",
     "output_type": "stream",
     "text": [
      "Trainning loss=2.4977\n"
     ]
    },
    {
     "name": "stderr",
     "output_type": "stream",
     "text": [
      "  0%|          | 1/279 [00:00<00:44,  6.20it/s]"
     ]
    },
    {
     "name": "stdout",
     "output_type": "stream",
     "text": [
      "VAL: rmse=6.7557, mae=4.7617, mape=0.1506, acc=0.8647, r2_score=0.6296, var_score=0.6304\n",
      "VAL loss=1.6539\n",
      "==========EPOCH 395===========\n"
     ]
    },
    {
     "name": "stderr",
     "output_type": "stream",
     "text": [
      "                                                 \r"
     ]
    },
    {
     "name": "stdout",
     "output_type": "stream",
     "text": [
      "Trainning loss=2.4939\n"
     ]
    },
    {
     "name": "stderr",
     "output_type": "stream",
     "text": [
      "  0%|          | 1/279 [00:00<00:42,  6.54it/s]"
     ]
    },
    {
     "name": "stdout",
     "output_type": "stream",
     "text": [
      "VAL: rmse=6.7669, mae=4.7673, mape=0.1506, acc=0.8646, r2_score=0.6283, var_score=0.6293\n",
      "VAL loss=1.6594\n",
      "==========EPOCH 396===========\n"
     ]
    },
    {
     "name": "stderr",
     "output_type": "stream",
     "text": [
      "                                                 \r"
     ]
    },
    {
     "name": "stdout",
     "output_type": "stream",
     "text": [
      "Trainning loss=2.4912\n"
     ]
    },
    {
     "name": "stderr",
     "output_type": "stream",
     "text": [
      "  0%|          | 1/279 [00:00<00:33,  8.24it/s]"
     ]
    },
    {
     "name": "stdout",
     "output_type": "stream",
     "text": [
      "VAL: rmse=6.7792, mae=4.7733, mape=0.1507, acc=0.8644, r2_score=0.6270, var_score=0.6280\n",
      "VAL loss=1.6654\n",
      "==========EPOCH 397===========\n"
     ]
    },
    {
     "name": "stderr",
     "output_type": "stream",
     "text": [
      "                                                 \r"
     ]
    },
    {
     "name": "stdout",
     "output_type": "stream",
     "text": [
      "Trainning loss=2.4897\n"
     ]
    },
    {
     "name": "stderr",
     "output_type": "stream",
     "text": [
      "  0%|          | 1/279 [00:00<00:34,  8.12it/s]"
     ]
    },
    {
     "name": "stdout",
     "output_type": "stream",
     "text": [
      "VAL: rmse=6.7906, mae=4.7790, mape=0.1508, acc=0.8642, r2_score=0.6257, var_score=0.6270\n",
      "VAL loss=1.6710\n",
      "==========EPOCH 398===========\n"
     ]
    },
    {
     "name": "stderr",
     "output_type": "stream",
     "text": [
      "                                                 \r"
     ]
    },
    {
     "name": "stdout",
     "output_type": "stream",
     "text": [
      "Trainning loss=2.4887\n"
     ]
    },
    {
     "name": "stderr",
     "output_type": "stream",
     "text": [
      "  0%|          | 1/279 [00:00<00:35,  7.93it/s]"
     ]
    },
    {
     "name": "stdout",
     "output_type": "stream",
     "text": [
      "VAL: rmse=6.8012, mae=4.7846, mape=0.1508, acc=0.8641, r2_score=0.6246, var_score=0.6260\n",
      "VAL loss=1.6762\n",
      "==========EPOCH 399===========\n"
     ]
    },
    {
     "name": "stderr",
     "output_type": "stream",
     "text": [
      "                                                 \r"
     ]
    },
    {
     "name": "stdout",
     "output_type": "stream",
     "text": [
      "Trainning loss=2.4874\n"
     ]
    },
    {
     "name": "stderr",
     "output_type": "stream",
     "text": [
      "  0%|          | 1/279 [00:00<00:41,  6.77it/s]"
     ]
    },
    {
     "name": "stdout",
     "output_type": "stream",
     "text": [
      "VAL: rmse=6.8201, mae=4.7947, mape=0.1510, acc=0.8638, r2_score=0.6225, var_score=0.6241\n",
      "VAL loss=1.6856\n",
      "==========EPOCH 400===========\n"
     ]
    },
    {
     "name": "stderr",
     "output_type": "stream",
     "text": [
      "                                                 \r"
     ]
    },
    {
     "name": "stdout",
     "output_type": "stream",
     "text": [
      "Trainning loss=2.4867\n"
     ]
    },
    {
     "name": "stderr",
     "output_type": "stream",
     "text": [
      "  0%|          | 1/279 [00:00<00:41,  6.77it/s]"
     ]
    },
    {
     "name": "stdout",
     "output_type": "stream",
     "text": [
      "VAL: rmse=6.8452, mae=4.8082, mape=0.1513, acc=0.8634, r2_score=0.6197, var_score=0.6215\n",
      "VAL loss=1.6980\n",
      "==========EPOCH 401===========\n"
     ]
    },
    {
     "name": "stderr",
     "output_type": "stream",
     "text": [
      "                                                 \r"
     ]
    },
    {
     "name": "stdout",
     "output_type": "stream",
     "text": [
      "Trainning loss=2.4852\n"
     ]
    },
    {
     "name": "stderr",
     "output_type": "stream",
     "text": [
      "  0%|          | 1/279 [00:00<00:36,  7.70it/s]"
     ]
    },
    {
     "name": "stdout",
     "output_type": "stream",
     "text": [
      "VAL: rmse=6.8726, mae=4.8222, mape=0.1517, acc=0.8630, r2_score=0.6166, var_score=0.6184\n",
      "VAL loss=1.7116\n",
      "==========EPOCH 402===========\n"
     ]
    },
    {
     "name": "stderr",
     "output_type": "stream",
     "text": [
      "                                                 \r"
     ]
    },
    {
     "name": "stdout",
     "output_type": "stream",
     "text": [
      "Trainning loss=2.4824\n"
     ]
    },
    {
     "name": "stderr",
     "output_type": "stream",
     "text": [
      "  0%|          | 1/279 [00:00<00:39,  6.97it/s]"
     ]
    },
    {
     "name": "stdout",
     "output_type": "stream",
     "text": [
      "VAL: rmse=6.9012, mae=4.8365, mape=0.1521, acc=0.8626, r2_score=0.6134, var_score=0.6152\n",
      "VAL loss=1.7259\n",
      "==========EPOCH 403===========\n"
     ]
    },
    {
     "name": "stderr",
     "output_type": "stream",
     "text": [
      "                                                 \r"
     ]
    },
    {
     "name": "stdout",
     "output_type": "stream",
     "text": [
      "Trainning loss=2.4797\n"
     ]
    },
    {
     "name": "stderr",
     "output_type": "stream",
     "text": [
      "  0%|          | 1/279 [00:00<00:34,  8.10it/s]"
     ]
    },
    {
     "name": "stdout",
     "output_type": "stream",
     "text": [
      "VAL: rmse=6.9255, mae=4.8485, mape=0.1524, acc=0.8623, r2_score=0.6107, var_score=0.6126\n",
      "VAL loss=1.7381\n",
      "==========EPOCH 404===========\n"
     ]
    },
    {
     "name": "stderr",
     "output_type": "stream",
     "text": [
      "                                                 \r"
     ]
    },
    {
     "name": "stdout",
     "output_type": "stream",
     "text": [
      "Trainning loss=2.4774\n"
     ]
    },
    {
     "name": "stderr",
     "output_type": "stream",
     "text": [
      "  0%|          | 1/279 [00:00<00:34,  8.03it/s]"
     ]
    },
    {
     "name": "stdout",
     "output_type": "stream",
     "text": [
      "VAL: rmse=6.9493, mae=4.8599, mape=0.1527, acc=0.8620, r2_score=0.6080, var_score=0.6100\n",
      "VAL loss=1.7500\n",
      "==========EPOCH 405===========\n"
     ]
    },
    {
     "name": "stderr",
     "output_type": "stream",
     "text": [
      "                                                 \r"
     ]
    },
    {
     "name": "stdout",
     "output_type": "stream",
     "text": [
      "Trainning loss=2.4752\n"
     ]
    },
    {
     "name": "stderr",
     "output_type": "stream",
     "text": [
      "  0%|          | 1/279 [00:00<00:33,  8.21it/s]"
     ]
    },
    {
     "name": "stdout",
     "output_type": "stream",
     "text": [
      "VAL: rmse=6.9718, mae=4.8703, mape=0.1529, acc=0.8617, r2_score=0.6055, var_score=0.6075\n",
      "VAL loss=1.7614\n",
      "==========EPOCH 406===========\n"
     ]
    },
    {
     "name": "stderr",
     "output_type": "stream",
     "text": [
      "                                                 \r"
     ]
    },
    {
     "name": "stdout",
     "output_type": "stream",
     "text": [
      "Trainning loss=2.4737\n"
     ]
    },
    {
     "name": "stderr",
     "output_type": "stream",
     "text": [
      "  0%|          | 1/279 [00:00<00:37,  7.34it/s]"
     ]
    },
    {
     "name": "stdout",
     "output_type": "stream",
     "text": [
      "VAL: rmse=6.9935, mae=4.8806, mape=0.1532, acc=0.8614, r2_score=0.6030, var_score=0.6052\n",
      "VAL loss=1.7724\n",
      "==========EPOCH 407===========\n"
     ]
    },
    {
     "name": "stderr",
     "output_type": "stream",
     "text": [
      "                                                 \r"
     ]
    },
    {
     "name": "stdout",
     "output_type": "stream",
     "text": [
      "Trainning loss=2.4725\n"
     ]
    },
    {
     "name": "stderr",
     "output_type": "stream",
     "text": [
      "  0%|          | 1/279 [00:00<00:34,  8.01it/s]"
     ]
    },
    {
     "name": "stdout",
     "output_type": "stream",
     "text": [
      "VAL: rmse=7.0181, mae=4.8919, mape=0.1535, acc=0.8610, r2_score=0.6002, var_score=0.6024\n",
      "VAL loss=1.7848\n",
      "==========EPOCH 408===========\n"
     ]
    },
    {
     "name": "stderr",
     "output_type": "stream",
     "text": [
      "                                                 \r"
     ]
    },
    {
     "name": "stdout",
     "output_type": "stream",
     "text": [
      "Trainning loss=2.4700\n"
     ]
    },
    {
     "name": "stderr",
     "output_type": "stream",
     "text": [
      "  0%|          | 1/279 [00:00<00:33,  8.25it/s]"
     ]
    },
    {
     "name": "stdout",
     "output_type": "stream",
     "text": [
      "VAL: rmse=7.0380, mae=4.9006, mape=0.1538, acc=0.8608, r2_score=0.5980, var_score=0.6000\n",
      "VAL loss=1.7949\n",
      "==========EPOCH 409===========\n"
     ]
    },
    {
     "name": "stderr",
     "output_type": "stream",
     "text": [
      "                                                 \r"
     ]
    },
    {
     "name": "stdout",
     "output_type": "stream",
     "text": [
      "Trainning loss=2.4667\n"
     ]
    },
    {
     "name": "stderr",
     "output_type": "stream",
     "text": [
      "  0%|          | 1/279 [00:00<00:33,  8.18it/s]"
     ]
    },
    {
     "name": "stdout",
     "output_type": "stream",
     "text": [
      "VAL: rmse=7.0495, mae=4.9051, mape=0.1539, acc=0.8607, r2_score=0.5966, var_score=0.5988\n",
      "VAL loss=1.8008\n",
      "==========EPOCH 410===========\n"
     ]
    },
    {
     "name": "stderr",
     "output_type": "stream",
     "text": [
      "                                                 \r"
     ]
    },
    {
     "name": "stdout",
     "output_type": "stream",
     "text": [
      "Trainning loss=2.4640\n"
     ]
    },
    {
     "name": "stderr",
     "output_type": "stream",
     "text": [
      "  0%|          | 1/279 [00:00<00:36,  7.62it/s]"
     ]
    },
    {
     "name": "stdout",
     "output_type": "stream",
     "text": [
      "VAL: rmse=7.0627, mae=4.9110, mape=0.1540, acc=0.8605, r2_score=0.5951, var_score=0.5975\n",
      "VAL loss=1.8076\n",
      "==========EPOCH 411===========\n"
     ]
    },
    {
     "name": "stderr",
     "output_type": "stream",
     "text": [
      "                                                 \r"
     ]
    },
    {
     "name": "stdout",
     "output_type": "stream",
     "text": [
      "Trainning loss=2.4631\n"
     ]
    },
    {
     "name": "stderr",
     "output_type": "stream",
     "text": [
      "  0%|          | 1/279 [00:00<00:33,  8.20it/s]"
     ]
    },
    {
     "name": "stdout",
     "output_type": "stream",
     "text": [
      "VAL: rmse=7.0754, mae=4.9155, mape=0.1540, acc=0.8604, r2_score=0.5937, var_score=0.5961\n",
      "VAL loss=1.8141\n",
      "==========EPOCH 412===========\n"
     ]
    },
    {
     "name": "stderr",
     "output_type": "stream",
     "text": [
      "                                                 \r"
     ]
    },
    {
     "name": "stdout",
     "output_type": "stream",
     "text": [
      "Trainning loss=2.4620\n"
     ]
    },
    {
     "name": "stderr",
     "output_type": "stream",
     "text": [
      "  0%|          | 1/279 [00:00<00:36,  7.52it/s]"
     ]
    },
    {
     "name": "stdout",
     "output_type": "stream",
     "text": [
      "VAL: rmse=7.0892, mae=4.9212, mape=0.1542, acc=0.8602, r2_score=0.5921, var_score=0.5946\n",
      "VAL loss=1.8212\n",
      "==========EPOCH 413===========\n"
     ]
    },
    {
     "name": "stderr",
     "output_type": "stream",
     "text": [
      "                                                 \r"
     ]
    },
    {
     "name": "stdout",
     "output_type": "stream",
     "text": [
      "Trainning loss=2.4615\n"
     ]
    },
    {
     "name": "stderr",
     "output_type": "stream",
     "text": [
      "  0%|          | 1/279 [00:00<00:33,  8.25it/s]"
     ]
    },
    {
     "name": "stdout",
     "output_type": "stream",
     "text": [
      "VAL: rmse=7.1091, mae=4.9303, mape=0.1544, acc=0.8599, r2_score=0.5898, var_score=0.5924\n",
      "VAL loss=1.8314\n",
      "==========EPOCH 414===========\n"
     ]
    },
    {
     "name": "stderr",
     "output_type": "stream",
     "text": [
      "                                                 \r"
     ]
    },
    {
     "name": "stdout",
     "output_type": "stream",
     "text": [
      "Trainning loss=2.4601\n"
     ]
    },
    {
     "name": "stderr",
     "output_type": "stream",
     "text": [
      "  0%|          | 1/279 [00:00<00:35,  7.80it/s]"
     ]
    },
    {
     "name": "stdout",
     "output_type": "stream",
     "text": [
      "VAL: rmse=7.1299, mae=4.9393, mape=0.1547, acc=0.8597, r2_score=0.5874, var_score=0.5899\n",
      "VAL loss=1.8421\n",
      "==========EPOCH 415===========\n"
     ]
    },
    {
     "name": "stderr",
     "output_type": "stream",
     "text": [
      "                                                 \r"
     ]
    },
    {
     "name": "stdout",
     "output_type": "stream",
     "text": [
      "Trainning loss=2.4578\n"
     ]
    },
    {
     "name": "stderr",
     "output_type": "stream",
     "text": [
      "  0%|          | 1/279 [00:00<00:40,  6.87it/s]"
     ]
    },
    {
     "name": "stdout",
     "output_type": "stream",
     "text": [
      "VAL: rmse=7.1422, mae=4.9435, mape=0.1549, acc=0.8596, r2_score=0.5860, var_score=0.5883\n",
      "VAL loss=1.8485\n",
      "==========EPOCH 416===========\n"
     ]
    },
    {
     "name": "stderr",
     "output_type": "stream",
     "text": [
      "                                                 \r"
     ]
    },
    {
     "name": "stdout",
     "output_type": "stream",
     "text": [
      "Trainning loss=2.4552\n"
     ]
    },
    {
     "name": "stderr",
     "output_type": "stream",
     "text": [
      "  0%|          | 1/279 [00:00<00:33,  8.18it/s]"
     ]
    },
    {
     "name": "stdout",
     "output_type": "stream",
     "text": [
      "VAL: rmse=7.1472, mae=4.9441, mape=0.1549, acc=0.8596, r2_score=0.5854, var_score=0.5877\n",
      "VAL loss=1.8511\n",
      "==========EPOCH 417===========\n"
     ]
    },
    {
     "name": "stderr",
     "output_type": "stream",
     "text": [
      "                                                 \r"
     ]
    },
    {
     "name": "stdout",
     "output_type": "stream",
     "text": [
      "Trainning loss=2.4527\n"
     ]
    },
    {
     "name": "stderr",
     "output_type": "stream",
     "text": [
      "  0%|          | 1/279 [00:00<00:35,  7.92it/s]"
     ]
    },
    {
     "name": "stdout",
     "output_type": "stream",
     "text": [
      "VAL: rmse=7.1470, mae=4.9422, mape=0.1548, acc=0.8596, r2_score=0.5854, var_score=0.5879\n",
      "VAL loss=1.8510\n",
      "==========EPOCH 418===========\n"
     ]
    },
    {
     "name": "stderr",
     "output_type": "stream",
     "text": [
      "                                                 \r"
     ]
    },
    {
     "name": "stdout",
     "output_type": "stream",
     "text": [
      "Trainning loss=2.4509\n"
     ]
    },
    {
     "name": "stderr",
     "output_type": "stream",
     "text": [
      "  0%|          | 1/279 [00:00<00:34,  8.09it/s]"
     ]
    },
    {
     "name": "stdout",
     "output_type": "stream",
     "text": [
      "VAL: rmse=7.1470, mae=4.9408, mape=0.1547, acc=0.8597, r2_score=0.5854, var_score=0.5881\n",
      "VAL loss=1.8510\n",
      "==========EPOCH 419===========\n"
     ]
    },
    {
     "name": "stderr",
     "output_type": "stream",
     "text": [
      "                                                 \r"
     ]
    },
    {
     "name": "stdout",
     "output_type": "stream",
     "text": [
      "Trainning loss=2.4487\n"
     ]
    },
    {
     "name": "stderr",
     "output_type": "stream",
     "text": [
      "  0%|          | 1/279 [00:00<00:33,  8.30it/s]"
     ]
    },
    {
     "name": "stdout",
     "output_type": "stream",
     "text": [
      "VAL: rmse=7.1429, mae=4.9372, mape=0.1544, acc=0.8598, r2_score=0.5859, var_score=0.5889\n",
      "VAL loss=1.8488\n",
      "==========EPOCH 420===========\n"
     ]
    },
    {
     "name": "stderr",
     "output_type": "stream",
     "text": [
      "                                                 \r"
     ]
    },
    {
     "name": "stdout",
     "output_type": "stream",
     "text": [
      "Trainning loss=2.4470\n"
     ]
    },
    {
     "name": "stderr",
     "output_type": "stream",
     "text": [
      "  0%|          | 1/279 [00:00<00:37,  7.34it/s]"
     ]
    },
    {
     "name": "stdout",
     "output_type": "stream",
     "text": [
      "VAL: rmse=7.1420, mae=4.9354, mape=0.1543, acc=0.8598, r2_score=0.5860, var_score=0.5893\n",
      "VAL loss=1.8484\n",
      "==========EPOCH 421===========\n"
     ]
    },
    {
     "name": "stderr",
     "output_type": "stream",
     "text": [
      "                                                 \r"
     ]
    },
    {
     "name": "stdout",
     "output_type": "stream",
     "text": [
      "Trainning loss=2.4452\n"
     ]
    },
    {
     "name": "stderr",
     "output_type": "stream",
     "text": [
      "  0%|          | 1/279 [00:00<00:34,  8.18it/s]"
     ]
    },
    {
     "name": "stdout",
     "output_type": "stream",
     "text": [
      "VAL: rmse=7.1419, mae=4.9340, mape=0.1541, acc=0.8598, r2_score=0.5860, var_score=0.5895\n",
      "VAL loss=1.8483\n",
      "==========EPOCH 422===========\n"
     ]
    },
    {
     "name": "stderr",
     "output_type": "stream",
     "text": [
      "                                                 \r"
     ]
    },
    {
     "name": "stdout",
     "output_type": "stream",
     "text": [
      "Trainning loss=2.4430\n"
     ]
    },
    {
     "name": "stderr",
     "output_type": "stream",
     "text": [
      "  0%|          | 1/279 [00:00<00:37,  7.37it/s]"
     ]
    },
    {
     "name": "stdout",
     "output_type": "stream",
     "text": [
      "VAL: rmse=7.1394, mae=4.9311, mape=0.1539, acc=0.8599, r2_score=0.5863, var_score=0.5901\n",
      "VAL loss=1.8471\n",
      "==========EPOCH 423===========\n"
     ]
    },
    {
     "name": "stderr",
     "output_type": "stream",
     "text": [
      "                                                 \r"
     ]
    },
    {
     "name": "stdout",
     "output_type": "stream",
     "text": [
      "Trainning loss=2.4410\n"
     ]
    },
    {
     "name": "stderr",
     "output_type": "stream",
     "text": [
      "  0%|          | 1/279 [00:00<00:37,  7.44it/s]"
     ]
    },
    {
     "name": "stdout",
     "output_type": "stream",
     "text": [
      "VAL: rmse=7.1344, mae=4.9265, mape=0.1537, acc=0.8601, r2_score=0.5869, var_score=0.5910\n",
      "VAL loss=1.8445\n",
      "==========EPOCH 424===========\n"
     ]
    },
    {
     "name": "stderr",
     "output_type": "stream",
     "text": [
      "                                                 \r"
     ]
    },
    {
     "name": "stdout",
     "output_type": "stream",
     "text": [
      "Trainning loss=2.4395\n"
     ]
    },
    {
     "name": "stderr",
     "output_type": "stream",
     "text": [
      "  0%|          | 1/279 [00:00<00:33,  8.22it/s]"
     ]
    },
    {
     "name": "stdout",
     "output_type": "stream",
     "text": [
      "VAL: rmse=7.1328, mae=4.9239, mape=0.1535, acc=0.8601, r2_score=0.5871, var_score=0.5914\n",
      "VAL loss=1.8436\n",
      "==========EPOCH 425===========\n"
     ]
    },
    {
     "name": "stderr",
     "output_type": "stream",
     "text": [
      "                                                 \r"
     ]
    },
    {
     "name": "stdout",
     "output_type": "stream",
     "text": [
      "Trainning loss=2.4380\n"
     ]
    },
    {
     "name": "stderr",
     "output_type": "stream",
     "text": [
      "  0%|          | 1/279 [00:00<00:33,  8.39it/s]"
     ]
    },
    {
     "name": "stdout",
     "output_type": "stream",
     "text": [
      "VAL: rmse=7.1367, mae=4.9247, mape=0.1535, acc=0.8601, r2_score=0.5866, var_score=0.5911\n",
      "VAL loss=1.8456\n",
      "==========EPOCH 426===========\n"
     ]
    },
    {
     "name": "stderr",
     "output_type": "stream",
     "text": [
      "                                                 \r"
     ]
    },
    {
     "name": "stdout",
     "output_type": "stream",
     "text": [
      "Trainning loss=2.4365\n"
     ]
    },
    {
     "name": "stderr",
     "output_type": "stream",
     "text": [
      "  0%|          | 1/279 [00:00<00:36,  7.70it/s]"
     ]
    },
    {
     "name": "stdout",
     "output_type": "stream",
     "text": [
      "VAL: rmse=7.1471, mae=4.9292, mape=0.1536, acc=0.8600, r2_score=0.5854, var_score=0.5901\n",
      "VAL loss=1.8510\n",
      "==========EPOCH 427===========\n"
     ]
    },
    {
     "name": "stderr",
     "output_type": "stream",
     "text": [
      "                                                 \r"
     ]
    },
    {
     "name": "stdout",
     "output_type": "stream",
     "text": [
      "Trainning loss=2.4351\n"
     ]
    },
    {
     "name": "stderr",
     "output_type": "stream",
     "text": [
      "  0%|          | 1/279 [00:00<00:33,  8.27it/s]"
     ]
    },
    {
     "name": "stdout",
     "output_type": "stream",
     "text": [
      "VAL: rmse=7.1614, mae=4.9357, mape=0.1537, acc=0.8598, r2_score=0.5837, var_score=0.5887\n",
      "VAL loss=1.8585\n",
      "==========EPOCH 428===========\n"
     ]
    },
    {
     "name": "stderr",
     "output_type": "stream",
     "text": [
      "                                                 \r"
     ]
    },
    {
     "name": "stdout",
     "output_type": "stream",
     "text": [
      "Trainning loss=2.4340\n"
     ]
    },
    {
     "name": "stderr",
     "output_type": "stream",
     "text": [
      "  0%|          | 1/279 [00:00<00:35,  7.85it/s]"
     ]
    },
    {
     "name": "stdout",
     "output_type": "stream",
     "text": [
      "VAL: rmse=7.1776, mae=4.9431, mape=0.1538, acc=0.8596, r2_score=0.5819, var_score=0.5870\n",
      "VAL loss=1.8668\n",
      "==========EPOCH 429===========\n"
     ]
    },
    {
     "name": "stderr",
     "output_type": "stream",
     "text": [
      "                                                 \r"
     ]
    },
    {
     "name": "stdout",
     "output_type": "stream",
     "text": [
      "Trainning loss=2.4326\n"
     ]
    },
    {
     "name": "stderr",
     "output_type": "stream",
     "text": [
      "  0%|          | 1/279 [00:00<00:41,  6.74it/s]"
     ]
    },
    {
     "name": "stdout",
     "output_type": "stream",
     "text": [
      "VAL: rmse=7.1948, mae=4.9513, mape=0.1540, acc=0.8594, r2_score=0.5798, var_score=0.5853\n",
      "VAL loss=1.8758\n",
      "==========EPOCH 430===========\n"
     ]
    },
    {
     "name": "stderr",
     "output_type": "stream",
     "text": [
      "                                                 \r"
     ]
    },
    {
     "name": "stdout",
     "output_type": "stream",
     "text": [
      "Trainning loss=2.4310\n"
     ]
    },
    {
     "name": "stderr",
     "output_type": "stream",
     "text": [
      "  0%|          | 1/279 [00:00<00:42,  6.55it/s]"
     ]
    },
    {
     "name": "stdout",
     "output_type": "stream",
     "text": [
      "VAL: rmse=7.2075, mae=4.9575, mape=0.1542, acc=0.8592, r2_score=0.5784, var_score=0.5842\n",
      "VAL loss=1.8825\n",
      "==========EPOCH 431===========\n"
     ]
    },
    {
     "name": "stderr",
     "output_type": "stream",
     "text": [
      "                                                 \r"
     ]
    },
    {
     "name": "stdout",
     "output_type": "stream",
     "text": [
      "Trainning loss=2.4296\n"
     ]
    },
    {
     "name": "stderr",
     "output_type": "stream",
     "text": [
      "  0%|          | 1/279 [00:00<00:34,  8.11it/s]"
     ]
    },
    {
     "name": "stdout",
     "output_type": "stream",
     "text": [
      "VAL: rmse=7.2203, mae=4.9638, mape=0.1543, acc=0.8590, r2_score=0.5769, var_score=0.5832\n",
      "VAL loss=1.8891\n",
      "==========EPOCH 432===========\n"
     ]
    },
    {
     "name": "stderr",
     "output_type": "stream",
     "text": [
      "                                                 \r"
     ]
    },
    {
     "name": "stdout",
     "output_type": "stream",
     "text": [
      "Trainning loss=2.4282\n"
     ]
    },
    {
     "name": "stderr",
     "output_type": "stream",
     "text": [
      "  0%|          | 1/279 [00:00<00:36,  7.70it/s]"
     ]
    },
    {
     "name": "stdout",
     "output_type": "stream",
     "text": [
      "VAL: rmse=7.2347, mae=4.9707, mape=0.1544, acc=0.8588, r2_score=0.5752, var_score=0.5820\n",
      "VAL loss=1.8967\n",
      "==========EPOCH 433===========\n"
     ]
    },
    {
     "name": "stderr",
     "output_type": "stream",
     "text": [
      "                                                 \r"
     ]
    },
    {
     "name": "stdout",
     "output_type": "stream",
     "text": [
      "Trainning loss=2.4269\n"
     ]
    },
    {
     "name": "stderr",
     "output_type": "stream",
     "text": [
      "  0%|          | 1/279 [00:00<00:43,  6.33it/s]"
     ]
    },
    {
     "name": "stdout",
     "output_type": "stream",
     "text": [
      "VAL: rmse=7.2509, mae=4.9782, mape=0.1546, acc=0.8586, r2_score=0.5733, var_score=0.5803\n",
      "VAL loss=1.9052\n",
      "==========EPOCH 434===========\n"
     ]
    },
    {
     "name": "stderr",
     "output_type": "stream",
     "text": [
      "                                                 \r"
     ]
    },
    {
     "name": "stdout",
     "output_type": "stream",
     "text": [
      "Trainning loss=2.4256\n"
     ]
    },
    {
     "name": "stderr",
     "output_type": "stream",
     "text": [
      "  0%|          | 1/279 [00:00<00:39,  6.95it/s]"
     ]
    },
    {
     "name": "stdout",
     "output_type": "stream",
     "text": [
      "VAL: rmse=7.2686, mae=4.9863, mape=0.1549, acc=0.8584, r2_score=0.5712, var_score=0.5784\n",
      "VAL loss=1.9145\n",
      "==========EPOCH 435===========\n"
     ]
    },
    {
     "name": "stderr",
     "output_type": "stream",
     "text": [
      "                                                 \r"
     ]
    },
    {
     "name": "stdout",
     "output_type": "stream",
     "text": [
      "Trainning loss=2.4244\n"
     ]
    },
    {
     "name": "stderr",
     "output_type": "stream",
     "text": [
      "  0%|          | 1/279 [00:00<00:35,  7.86it/s]"
     ]
    },
    {
     "name": "stdout",
     "output_type": "stream",
     "text": [
      "VAL: rmse=7.2863, mae=4.9945, mape=0.1552, acc=0.8581, r2_score=0.5691, var_score=0.5764\n",
      "VAL loss=1.9238\n",
      "==========EPOCH 436===========\n"
     ]
    },
    {
     "name": "stderr",
     "output_type": "stream",
     "text": [
      "                                                 \r"
     ]
    },
    {
     "name": "stdout",
     "output_type": "stream",
     "text": [
      "Trainning loss=2.4232\n"
     ]
    },
    {
     "name": "stderr",
     "output_type": "stream",
     "text": [
      "  0%|          | 1/279 [00:00<00:36,  7.72it/s]"
     ]
    },
    {
     "name": "stdout",
     "output_type": "stream",
     "text": [
      "VAL: rmse=7.2951, mae=4.9988, mape=0.1552, acc=0.8580, r2_score=0.5680, var_score=0.5758\n",
      "VAL loss=1.9285\n",
      "==========EPOCH 437===========\n"
     ]
    },
    {
     "name": "stderr",
     "output_type": "stream",
     "text": [
      "                                                 \r"
     ]
    },
    {
     "name": "stdout",
     "output_type": "stream",
     "text": [
      "Trainning loss=2.4219\n"
     ]
    },
    {
     "name": "stderr",
     "output_type": "stream",
     "text": [
      "  0%|          | 1/279 [00:00<00:34,  7.96it/s]"
     ]
    },
    {
     "name": "stdout",
     "output_type": "stream",
     "text": [
      "VAL: rmse=7.3011, mae=5.0012, mape=0.1553, acc=0.8579, r2_score=0.5673, var_score=0.5755\n",
      "VAL loss=1.9317\n",
      "==========EPOCH 438===========\n"
     ]
    },
    {
     "name": "stderr",
     "output_type": "stream",
     "text": [
      "                                                 \r"
     ]
    },
    {
     "name": "stdout",
     "output_type": "stream",
     "text": [
      "Trainning loss=2.4209\n"
     ]
    },
    {
     "name": "stderr",
     "output_type": "stream",
     "text": [
      "  0%|          | 1/279 [00:00<00:35,  7.75it/s]"
     ]
    },
    {
     "name": "stdout",
     "output_type": "stream",
     "text": [
      "VAL: rmse=7.3116, mae=5.0048, mape=0.1554, acc=0.8578, r2_score=0.5661, var_score=0.5742\n",
      "VAL loss=1.9372\n",
      "==========EPOCH 439===========\n"
     ]
    },
    {
     "name": "stderr",
     "output_type": "stream",
     "text": [
      "                                                 \r"
     ]
    },
    {
     "name": "stdout",
     "output_type": "stream",
     "text": [
      "Trainning loss=2.4205\n"
     ]
    },
    {
     "name": "stderr",
     "output_type": "stream",
     "text": [
      "  0%|          | 1/279 [00:00<00:34,  8.02it/s]"
     ]
    },
    {
     "name": "stdout",
     "output_type": "stream",
     "text": [
      "VAL: rmse=7.3999, mae=5.0465, mape=0.1572, acc=0.8566, r2_score=0.5555, var_score=0.5616\n",
      "VAL loss=1.9843\n",
      "==========EPOCH 440===========\n"
     ]
    },
    {
     "name": "stderr",
     "output_type": "stream",
     "text": [
      "                                                 \r"
     ]
    },
    {
     "name": "stdout",
     "output_type": "stream",
     "text": [
      "Trainning loss=2.4191\n"
     ]
    },
    {
     "name": "stderr",
     "output_type": "stream",
     "text": [
      "  0%|          | 1/279 [00:00<00:34,  8.16it/s]"
     ]
    },
    {
     "name": "stdout",
     "output_type": "stream",
     "text": [
      "VAL: rmse=7.4793, mae=5.0853, mape=0.1587, acc=0.8555, r2_score=0.5460, var_score=0.5512\n",
      "VAL loss=2.0270\n",
      "==========EPOCH 441===========\n"
     ]
    },
    {
     "name": "stderr",
     "output_type": "stream",
     "text": [
      "                                                 \r"
     ]
    },
    {
     "name": "stdout",
     "output_type": "stream",
     "text": [
      "Trainning loss=2.4168\n"
     ]
    },
    {
     "name": "stderr",
     "output_type": "stream",
     "text": [
      "  0%|          | 1/279 [00:00<00:35,  7.86it/s]"
     ]
    },
    {
     "name": "stdout",
     "output_type": "stream",
     "text": [
      "VAL: rmse=7.4513, mae=5.0630, mape=0.1580, acc=0.8562, r2_score=0.5494, var_score=0.5545\n",
      "VAL loss=2.0119\n",
      "==========EPOCH 442===========\n"
     ]
    },
    {
     "name": "stderr",
     "output_type": "stream",
     "text": [
      "                                                 \r"
     ]
    },
    {
     "name": "stdout",
     "output_type": "stream",
     "text": [
      "Trainning loss=2.4146\n"
     ]
    },
    {
     "name": "stderr",
     "output_type": "stream",
     "text": [
      "  0%|          | 1/279 [00:00<00:38,  7.29it/s]"
     ]
    },
    {
     "name": "stdout",
     "output_type": "stream",
     "text": [
      "VAL: rmse=7.4519, mae=5.0589, mape=0.1580, acc=0.8563, r2_score=0.5493, var_score=0.5538\n",
      "VAL loss=2.0123\n",
      "==========EPOCH 443===========\n"
     ]
    },
    {
     "name": "stderr",
     "output_type": "stream",
     "text": [
      "                                                 \r"
     ]
    },
    {
     "name": "stdout",
     "output_type": "stream",
     "text": [
      "Trainning loss=2.4140\n"
     ]
    },
    {
     "name": "stderr",
     "output_type": "stream",
     "text": [
      "  0%|          | 1/279 [00:00<00:31,  8.75it/s]"
     ]
    },
    {
     "name": "stdout",
     "output_type": "stream",
     "text": [
      "VAL: rmse=7.4014, mae=5.0326, mape=0.1570, acc=0.8570, r2_score=0.5554, var_score=0.5603\n",
      "VAL loss=1.9851\n",
      "==========EPOCH 444===========\n"
     ]
    },
    {
     "name": "stderr",
     "output_type": "stream",
     "text": [
      "                                                 \r"
     ]
    },
    {
     "name": "stdout",
     "output_type": "stream",
     "text": [
      "Trainning loss=2.4132\n"
     ]
    },
    {
     "name": "stderr",
     "output_type": "stream",
     "text": [
      "  0%|          | 1/279 [00:00<00:34,  7.97it/s]"
     ]
    },
    {
     "name": "stdout",
     "output_type": "stream",
     "text": [
      "VAL: rmse=7.3740, mae=5.0173, mape=0.1567, acc=0.8575, r2_score=0.5587, var_score=0.5630\n",
      "VAL loss=1.9704\n",
      "==========EPOCH 445===========\n"
     ]
    },
    {
     "name": "stderr",
     "output_type": "stream",
     "text": [
      "                                                 \r"
     ]
    },
    {
     "name": "stdout",
     "output_type": "stream",
     "text": [
      "Trainning loss=2.4122\n"
     ]
    },
    {
     "name": "stderr",
     "output_type": "stream",
     "text": [
      "  0%|          | 1/279 [00:00<00:32,  8.64it/s]"
     ]
    },
    {
     "name": "stdout",
     "output_type": "stream",
     "text": [
      "VAL: rmse=7.3376, mae=4.9984, mape=0.1563, acc=0.8580, r2_score=0.5630, var_score=0.5669\n",
      "VAL loss=1.9510\n",
      "==========EPOCH 446===========\n"
     ]
    },
    {
     "name": "stderr",
     "output_type": "stream",
     "text": [
      "                                                 \r"
     ]
    },
    {
     "name": "stdout",
     "output_type": "stream",
     "text": [
      "Trainning loss=2.4112\n"
     ]
    },
    {
     "name": "stderr",
     "output_type": "stream",
     "text": [
      "  0%|          | 1/279 [00:00<00:33,  8.20it/s]"
     ]
    },
    {
     "name": "stdout",
     "output_type": "stream",
     "text": [
      "VAL: rmse=7.2666, mae=4.9639, mape=0.1553, acc=0.8590, r2_score=0.5714, var_score=0.5750\n",
      "VAL loss=1.9134\n",
      "==========EPOCH 447===========\n"
     ]
    },
    {
     "name": "stderr",
     "output_type": "stream",
     "text": [
      "                                                 \r"
     ]
    },
    {
     "name": "stdout",
     "output_type": "stream",
     "text": [
      "Trainning loss=2.4100\n"
     ]
    },
    {
     "name": "stderr",
     "output_type": "stream",
     "text": [
      "  0%|          | 1/279 [00:00<00:34,  8.03it/s]"
     ]
    },
    {
     "name": "stdout",
     "output_type": "stream",
     "text": [
      "VAL: rmse=7.3217, mae=4.9898, mape=0.1560, acc=0.8583, r2_score=0.5649, var_score=0.5689\n",
      "VAL loss=1.9425\n",
      "==========EPOCH 448===========\n"
     ]
    },
    {
     "name": "stderr",
     "output_type": "stream",
     "text": [
      "                                                 \r"
     ]
    },
    {
     "name": "stdout",
     "output_type": "stream",
     "text": [
      "Trainning loss=2.4086\n"
     ]
    },
    {
     "name": "stderr",
     "output_type": "stream",
     "text": [
      "  0%|          | 1/279 [00:00<00:33,  8.24it/s]"
     ]
    },
    {
     "name": "stdout",
     "output_type": "stream",
     "text": [
      "VAL: rmse=7.1985, mae=4.9300, mape=0.1543, acc=0.8600, r2_score=0.5794, var_score=0.5827\n",
      "VAL loss=1.8777\n",
      "==========EPOCH 449===========\n"
     ]
    },
    {
     "name": "stderr",
     "output_type": "stream",
     "text": [
      "                                                 \r"
     ]
    },
    {
     "name": "stdout",
     "output_type": "stream",
     "text": [
      "Trainning loss=2.4075\n"
     ]
    },
    {
     "name": "stderr",
     "output_type": "stream",
     "text": [
      "  0%|          | 1/279 [00:00<00:32,  8.63it/s]"
     ]
    },
    {
     "name": "stdout",
     "output_type": "stream",
     "text": [
      "VAL: rmse=7.3102, mae=4.9830, mape=0.1558, acc=0.8585, r2_score=0.5663, var_score=0.5701\n",
      "VAL loss=1.9365\n",
      "==========EPOCH 450===========\n"
     ]
    },
    {
     "name": "stderr",
     "output_type": "stream",
     "text": [
      "                                                 \r"
     ]
    },
    {
     "name": "stdout",
     "output_type": "stream",
     "text": [
      "Trainning loss=2.4065\n"
     ]
    },
    {
     "name": "stderr",
     "output_type": "stream",
     "text": [
      "  0%|          | 1/279 [00:00<00:32,  8.53it/s]"
     ]
    },
    {
     "name": "stdout",
     "output_type": "stream",
     "text": [
      "VAL: rmse=7.1946, mae=4.9259, mape=0.1542, acc=0.8601, r2_score=0.5799, var_score=0.5830\n",
      "VAL loss=1.8757\n",
      "==========EPOCH 451===========\n"
     ]
    },
    {
     "name": "stderr",
     "output_type": "stream",
     "text": [
      "                                                 \r"
     ]
    },
    {
     "name": "stdout",
     "output_type": "stream",
     "text": [
      "Trainning loss=2.4062\n"
     ]
    },
    {
     "name": "stderr",
     "output_type": "stream",
     "text": [
      "  0%|          | 1/279 [00:00<00:37,  7.43it/s]"
     ]
    },
    {
     "name": "stdout",
     "output_type": "stream",
     "text": [
      "VAL: rmse=7.2429, mae=4.9485, mape=0.1551, acc=0.8594, r2_score=0.5742, var_score=0.5774\n",
      "VAL loss=1.9010\n",
      "==========EPOCH 452===========\n"
     ]
    },
    {
     "name": "stderr",
     "output_type": "stream",
     "text": [
      "                                                 \r"
     ]
    },
    {
     "name": "stdout",
     "output_type": "stream",
     "text": [
      "Trainning loss=2.4037\n"
     ]
    },
    {
     "name": "stderr",
     "output_type": "stream",
     "text": [
      "  0%|          | 1/279 [00:00<00:37,  7.40it/s]"
     ]
    },
    {
     "name": "stdout",
     "output_type": "stream",
     "text": [
      "VAL: rmse=7.2469, mae=4.9489, mape=0.1550, acc=0.8594, r2_score=0.5737, var_score=0.5770\n",
      "VAL loss=1.9031\n",
      "==========EPOCH 453===========\n"
     ]
    },
    {
     "name": "stderr",
     "output_type": "stream",
     "text": [
      "                                                 \r"
     ]
    },
    {
     "name": "stdout",
     "output_type": "stream",
     "text": [
      "Trainning loss=2.4036\n"
     ]
    },
    {
     "name": "stderr",
     "output_type": "stream",
     "text": [
      "  0%|          | 1/279 [00:00<00:35,  7.82it/s]"
     ]
    },
    {
     "name": "stdout",
     "output_type": "stream",
     "text": [
      "VAL: rmse=7.2714, mae=4.9597, mape=0.1556, acc=0.8591, r2_score=0.5709, var_score=0.5739\n",
      "VAL loss=1.9159\n",
      "==========EPOCH 454===========\n"
     ]
    },
    {
     "name": "stderr",
     "output_type": "stream",
     "text": [
      "                                                 \r"
     ]
    },
    {
     "name": "stdout",
     "output_type": "stream",
     "text": [
      "Trainning loss=2.4014\n"
     ]
    },
    {
     "name": "stderr",
     "output_type": "stream",
     "text": [
      "  0%|          | 1/279 [00:00<00:34,  8.11it/s]"
     ]
    },
    {
     "name": "stdout",
     "output_type": "stream",
     "text": [
      "VAL: rmse=7.2605, mae=4.9525, mape=0.1553, acc=0.8593, r2_score=0.5721, var_score=0.5751\n",
      "VAL loss=1.9102\n",
      "==========EPOCH 455===========\n"
     ]
    },
    {
     "name": "stderr",
     "output_type": "stream",
     "text": [
      "                                                 \r"
     ]
    },
    {
     "name": "stdout",
     "output_type": "stream",
     "text": [
      "Trainning loss=2.4013\n"
     ]
    },
    {
     "name": "stderr",
     "output_type": "stream",
     "text": [
      "  0%|          | 1/279 [00:00<00:34,  8.07it/s]"
     ]
    },
    {
     "name": "stdout",
     "output_type": "stream",
     "text": [
      "VAL: rmse=7.3323, mae=4.9855, mape=0.1564, acc=0.8584, r2_score=0.5636, var_score=0.5668\n",
      "VAL loss=1.9482\n",
      "==========EPOCH 456===========\n"
     ]
    },
    {
     "name": "stderr",
     "output_type": "stream",
     "text": [
      "                                                 \r"
     ]
    },
    {
     "name": "stdout",
     "output_type": "stream",
     "text": [
      "Trainning loss=2.3991\n"
     ]
    },
    {
     "name": "stderr",
     "output_type": "stream",
     "text": [
      "  0%|          | 1/279 [00:00<00:33,  8.39it/s]"
     ]
    },
    {
     "name": "stdout",
     "output_type": "stream",
     "text": [
      "VAL: rmse=7.2736, mae=4.9551, mape=0.1555, acc=0.8592, r2_score=0.5706, var_score=0.5732\n",
      "VAL loss=1.9171\n",
      "==========EPOCH 457===========\n"
     ]
    },
    {
     "name": "stderr",
     "output_type": "stream",
     "text": [
      "                                                 \r"
     ]
    },
    {
     "name": "stdout",
     "output_type": "stream",
     "text": [
      "Trainning loss=2.3992\n"
     ]
    },
    {
     "name": "stderr",
     "output_type": "stream",
     "text": [
      "  0%|          | 1/279 [00:00<00:34,  8.12it/s]"
     ]
    },
    {
     "name": "stdout",
     "output_type": "stream",
     "text": [
      "VAL: rmse=7.3740, mae=5.0007, mape=0.1569, acc=0.8579, r2_score=0.5587, var_score=0.5619\n",
      "VAL loss=1.9704\n",
      "==========EPOCH 458===========\n"
     ]
    },
    {
     "name": "stderr",
     "output_type": "stream",
     "text": [
      "                                                 \r"
     ]
    },
    {
     "name": "stdout",
     "output_type": "stream",
     "text": [
      "Trainning loss=2.3968\n"
     ]
    },
    {
     "name": "stderr",
     "output_type": "stream",
     "text": [
      "  0%|          | 1/279 [00:00<00:34,  7.96it/s]"
     ]
    },
    {
     "name": "stdout",
     "output_type": "stream",
     "text": [
      "VAL: rmse=7.3073, mae=4.9670, mape=0.1560, acc=0.8589, r2_score=0.5666, var_score=0.5692\n",
      "VAL loss=1.9349\n",
      "==========EPOCH 459===========\n"
     ]
    },
    {
     "name": "stderr",
     "output_type": "stream",
     "text": [
      "                                                 \r"
     ]
    },
    {
     "name": "stdout",
     "output_type": "stream",
     "text": [
      "Trainning loss=2.3970\n"
     ]
    },
    {
     "name": "stderr",
     "output_type": "stream",
     "text": [
      "  0%|          | 1/279 [00:00<00:33,  8.20it/s]"
     ]
    },
    {
     "name": "stdout",
     "output_type": "stream",
     "text": [
      "VAL: rmse=7.4001, mae=5.0086, mape=0.1572, acc=0.8577, r2_score=0.5555, var_score=0.5589\n",
      "VAL loss=1.9844\n",
      "==========EPOCH 460===========\n"
     ]
    },
    {
     "name": "stderr",
     "output_type": "stream",
     "text": [
      "                                                 \r"
     ]
    },
    {
     "name": "stdout",
     "output_type": "stream",
     "text": [
      "Trainning loss=2.3947\n"
     ]
    },
    {
     "name": "stderr",
     "output_type": "stream",
     "text": [
      "  0%|          | 1/279 [00:00<00:34,  8.07it/s]"
     ]
    },
    {
     "name": "stdout",
     "output_type": "stream",
     "text": [
      "VAL: rmse=7.3572, mae=4.9860, mape=0.1566, acc=0.8584, r2_score=0.5607, var_score=0.5634\n",
      "VAL loss=1.9614\n",
      "==========EPOCH 461===========\n"
     ]
    },
    {
     "name": "stderr",
     "output_type": "stream",
     "text": [
      "                                                 \r"
     ]
    },
    {
     "name": "stdout",
     "output_type": "stream",
     "text": [
      "Trainning loss=2.3948\n"
     ]
    },
    {
     "name": "stderr",
     "output_type": "stream",
     "text": [
      "  0%|          | 1/279 [00:00<00:37,  7.47it/s]"
     ]
    },
    {
     "name": "stdout",
     "output_type": "stream",
     "text": [
      "VAL: rmse=7.4257, mae=5.0164, mape=0.1575, acc=0.8575, r2_score=0.5524, var_score=0.5560\n",
      "VAL loss=1.9981\n",
      "==========EPOCH 462===========\n"
     ]
    },
    {
     "name": "stderr",
     "output_type": "stream",
     "text": [
      "                                                 \r"
     ]
    },
    {
     "name": "stdout",
     "output_type": "stream",
     "text": [
      "Trainning loss=2.3926\n"
     ]
    },
    {
     "name": "stderr",
     "output_type": "stream",
     "text": [
      "  0%|          | 1/279 [00:00<00:33,  8.34it/s]"
     ]
    },
    {
     "name": "stdout",
     "output_type": "stream",
     "text": [
      "VAL: rmse=7.4014, mae=5.0018, mape=0.1572, acc=0.8579, r2_score=0.5554, var_score=0.5584\n",
      "VAL loss=1.9851\n",
      "==========EPOCH 463===========\n"
     ]
    },
    {
     "name": "stderr",
     "output_type": "stream",
     "text": [
      "                                                 \r"
     ]
    },
    {
     "name": "stdout",
     "output_type": "stream",
     "text": [
      "Trainning loss=2.3931\n"
     ]
    },
    {
     "name": "stderr",
     "output_type": "stream",
     "text": [
      "  0%|          | 1/279 [00:00<00:35,  7.79it/s]"
     ]
    },
    {
     "name": "stdout",
     "output_type": "stream",
     "text": [
      "VAL: rmse=7.4810, mae=5.0389, mape=0.1583, acc=0.8569, r2_score=0.5458, var_score=0.5501\n",
      "VAL loss=2.0280\n",
      "==========EPOCH 464===========\n"
     ]
    },
    {
     "name": "stderr",
     "output_type": "stream",
     "text": [
      "                                                 \r"
     ]
    },
    {
     "name": "stdout",
     "output_type": "stream",
     "text": [
      "Trainning loss=2.3918\n"
     ]
    },
    {
     "name": "stderr",
     "output_type": "stream",
     "text": [
      "  0%|          | 1/279 [00:00<00:40,  6.83it/s]"
     ]
    },
    {
     "name": "stdout",
     "output_type": "stream",
     "text": [
      "VAL: rmse=7.4756, mae=5.0342, mape=0.1582, acc=0.8570, r2_score=0.5464, var_score=0.5503\n",
      "VAL loss=2.0251\n",
      "==========EPOCH 465===========\n"
     ]
    },
    {
     "name": "stderr",
     "output_type": "stream",
     "text": [
      "                                                 \r"
     ]
    },
    {
     "name": "stdout",
     "output_type": "stream",
     "text": [
      "Trainning loss=2.3897\n"
     ]
    },
    {
     "name": "stderr",
     "output_type": "stream",
     "text": [
      "  0%|          | 1/279 [00:00<00:31,  8.71it/s]"
     ]
    },
    {
     "name": "stdout",
     "output_type": "stream",
     "text": [
      "VAL: rmse=7.5012, mae=5.0390, mape=0.1586, acc=0.8569, r2_score=0.5433, var_score=0.5471\n",
      "VAL loss=2.0390\n",
      "==========EPOCH 466===========\n"
     ]
    },
    {
     "name": "stderr",
     "output_type": "stream",
     "text": [
      "                                                 \r"
     ]
    },
    {
     "name": "stdout",
     "output_type": "stream",
     "text": [
      "Trainning loss=2.3895\n"
     ]
    },
    {
     "name": "stderr",
     "output_type": "stream",
     "text": [
      "  0%|          | 1/279 [00:00<00:31,  8.78it/s]"
     ]
    },
    {
     "name": "stdout",
     "output_type": "stream",
     "text": [
      "VAL: rmse=7.4384, mae=5.0089, mape=0.1579, acc=0.8577, r2_score=0.5509, var_score=0.5533\n",
      "VAL loss=2.0050\n",
      "==========EPOCH 467===========\n"
     ]
    },
    {
     "name": "stderr",
     "output_type": "stream",
     "text": [
      "                                                 \r"
     ]
    },
    {
     "name": "stdout",
     "output_type": "stream",
     "text": [
      "Trainning loss=2.3895\n"
     ]
    },
    {
     "name": "stderr",
     "output_type": "stream",
     "text": [
      "  0%|          | 1/279 [00:00<00:34,  8.09it/s]"
     ]
    },
    {
     "name": "stdout",
     "output_type": "stream",
     "text": [
      "VAL: rmse=7.4858, mae=5.0303, mape=0.1583, acc=0.8571, r2_score=0.5452, var_score=0.5491\n",
      "VAL loss=2.0306\n",
      "==========EPOCH 468===========\n"
     ]
    },
    {
     "name": "stderr",
     "output_type": "stream",
     "text": [
      "                                                 \r"
     ]
    },
    {
     "name": "stdout",
     "output_type": "stream",
     "text": [
      "Trainning loss=2.3875\n"
     ]
    },
    {
     "name": "stderr",
     "output_type": "stream",
     "text": [
      "  0%|          | 1/279 [00:00<00:33,  8.27it/s]"
     ]
    },
    {
     "name": "stdout",
     "output_type": "stream",
     "text": [
      "VAL: rmse=7.4757, mae=5.0221, mape=0.1580, acc=0.8573, r2_score=0.5464, var_score=0.5505\n",
      "VAL loss=2.0251\n",
      "==========EPOCH 469===========\n"
     ]
    },
    {
     "name": "stderr",
     "output_type": "stream",
     "text": [
      "                                                 \r"
     ]
    },
    {
     "name": "stdout",
     "output_type": "stream",
     "text": [
      "Trainning loss=2.3856\n"
     ]
    },
    {
     "name": "stderr",
     "output_type": "stream",
     "text": [
      "  0%|          | 1/279 [00:00<00:33,  8.24it/s]"
     ]
    },
    {
     "name": "stdout",
     "output_type": "stream",
     "text": [
      "VAL: rmse=7.5295, mae=5.0414, mape=0.1589, acc=0.8568, r2_score=0.5398, var_score=0.5436\n",
      "VAL loss=2.0543\n",
      "==========EPOCH 470===========\n"
     ]
    },
    {
     "name": "stderr",
     "output_type": "stream",
     "text": [
      "                                                 \r"
     ]
    },
    {
     "name": "stdout",
     "output_type": "stream",
     "text": [
      "Trainning loss=2.3852\n"
     ]
    },
    {
     "name": "stderr",
     "output_type": "stream",
     "text": [
      "  0%|          | 1/279 [00:00<00:33,  8.22it/s]"
     ]
    },
    {
     "name": "stdout",
     "output_type": "stream",
     "text": [
      "VAL: rmse=7.5383, mae=5.0407, mape=0.1590, acc=0.8568, r2_score=0.5388, var_score=0.5424\n",
      "VAL loss=2.0592\n",
      "==========EPOCH 471===========\n"
     ]
    },
    {
     "name": "stderr",
     "output_type": "stream",
     "text": [
      "                                                 \r"
     ]
    },
    {
     "name": "stdout",
     "output_type": "stream",
     "text": [
      "Trainning loss=2.3838\n"
     ]
    },
    {
     "name": "stderr",
     "output_type": "stream",
     "text": [
      "  0%|          | 1/279 [00:00<00:32,  8.43it/s]"
     ]
    },
    {
     "name": "stdout",
     "output_type": "stream",
     "text": [
      "VAL: rmse=7.5738, mae=5.0491, mape=0.1594, acc=0.8566, r2_score=0.5344, var_score=0.5379\n",
      "VAL loss=2.0786\n",
      "==========EPOCH 472===========\n"
     ]
    },
    {
     "name": "stderr",
     "output_type": "stream",
     "text": [
      "                                                 \r"
     ]
    },
    {
     "name": "stdout",
     "output_type": "stream",
     "text": [
      "Trainning loss=2.3840\n"
     ]
    },
    {
     "name": "stderr",
     "output_type": "stream",
     "text": [
      "  0%|          | 1/279 [00:00<00:34,  8.12it/s]"
     ]
    },
    {
     "name": "stdout",
     "output_type": "stream",
     "text": [
      "VAL: rmse=7.6324, mae=5.0691, mape=0.1603, acc=0.8560, r2_score=0.5272, var_score=0.5307\n",
      "VAL loss=2.1109\n",
      "==========EPOCH 473===========\n"
     ]
    },
    {
     "name": "stderr",
     "output_type": "stream",
     "text": [
      "                                                 \r"
     ]
    },
    {
     "name": "stdout",
     "output_type": "stream",
     "text": [
      "Trainning loss=2.3813\n"
     ]
    },
    {
     "name": "stderr",
     "output_type": "stream",
     "text": [
      "  0%|          | 1/279 [00:00<00:33,  8.24it/s]"
     ]
    },
    {
     "name": "stdout",
     "output_type": "stream",
     "text": [
      "VAL: rmse=7.7669, mae=5.1168, mape=0.1622, acc=0.8547, r2_score=0.5104, var_score=0.5135\n",
      "VAL loss=2.1859\n",
      "==========EPOCH 474===========\n"
     ]
    },
    {
     "name": "stderr",
     "output_type": "stream",
     "text": [
      "                                                 \r"
     ]
    },
    {
     "name": "stdout",
     "output_type": "stream",
     "text": [
      "Trainning loss=2.3807\n"
     ]
    },
    {
     "name": "stderr",
     "output_type": "stream",
     "text": [
      "  0%|          | 1/279 [00:00<00:33,  8.35it/s]"
     ]
    },
    {
     "name": "stdout",
     "output_type": "stream",
     "text": [
      "VAL: rmse=7.7727, mae=5.1171, mape=0.1623, acc=0.8546, r2_score=0.5096, var_score=0.5126\n",
      "VAL loss=2.1892\n",
      "==========EPOCH 475===========\n"
     ]
    },
    {
     "name": "stderr",
     "output_type": "stream",
     "text": [
      "                                                 \r"
     ]
    },
    {
     "name": "stdout",
     "output_type": "stream",
     "text": [
      "Trainning loss=2.3824\n"
     ]
    },
    {
     "name": "stderr",
     "output_type": "stream",
     "text": [
      "  0%|          | 1/279 [00:00<00:33,  8.27it/s]"
     ]
    },
    {
     "name": "stdout",
     "output_type": "stream",
     "text": [
      "VAL: rmse=7.8572, mae=5.1387, mape=0.1630, acc=0.8540, r2_score=0.4989, var_score=0.5027\n",
      "VAL loss=2.2370\n",
      "==========EPOCH 476===========\n"
     ]
    },
    {
     "name": "stderr",
     "output_type": "stream",
     "text": [
      "                                                 \r"
     ]
    },
    {
     "name": "stdout",
     "output_type": "stream",
     "text": [
      "Trainning loss=2.3771\n"
     ]
    },
    {
     "name": "stderr",
     "output_type": "stream",
     "text": [
      "  0%|          | 1/279 [00:00<00:33,  8.28it/s]"
     ]
    },
    {
     "name": "stdout",
     "output_type": "stream",
     "text": [
      "VAL: rmse=8.0089, mae=5.1997, mape=0.1653, acc=0.8523, r2_score=0.4794, var_score=0.4827\n",
      "VAL loss=2.3242\n",
      "==========EPOCH 477===========\n"
     ]
    },
    {
     "name": "stderr",
     "output_type": "stream",
     "text": [
      "                                                 \r"
     ]
    },
    {
     "name": "stdout",
     "output_type": "stream",
     "text": [
      "Trainning loss=2.3785\n"
     ]
    },
    {
     "name": "stderr",
     "output_type": "stream",
     "text": [
      "  0%|          | 1/279 [00:00<00:33,  8.34it/s]"
     ]
    },
    {
     "name": "stdout",
     "output_type": "stream",
     "text": [
      "VAL: rmse=7.9732, mae=5.1762, mape=0.1644, acc=0.8530, r2_score=0.4840, var_score=0.4877\n",
      "VAL loss=2.3036\n",
      "==========EPOCH 478===========\n"
     ]
    },
    {
     "name": "stderr",
     "output_type": "stream",
     "text": [
      "                                                 \r"
     ]
    },
    {
     "name": "stdout",
     "output_type": "stream",
     "text": [
      "Trainning loss=2.3754\n"
     ]
    },
    {
     "name": "stderr",
     "output_type": "stream",
     "text": [
      "  0%|          | 1/279 [00:00<00:33,  8.23it/s]"
     ]
    },
    {
     "name": "stdout",
     "output_type": "stream",
     "text": [
      "VAL: rmse=7.9987, mae=5.1883, mape=0.1647, acc=0.8526, r2_score=0.4807, var_score=0.4845\n",
      "VAL loss=2.3183\n",
      "==========EPOCH 479===========\n"
     ]
    },
    {
     "name": "stderr",
     "output_type": "stream",
     "text": [
      "                                                 \r"
     ]
    },
    {
     "name": "stdout",
     "output_type": "stream",
     "text": [
      "Trainning loss=2.3775\n"
     ]
    },
    {
     "name": "stderr",
     "output_type": "stream",
     "text": [
      "  0%|          | 1/279 [00:00<00:38,  7.25it/s]"
     ]
    },
    {
     "name": "stdout",
     "output_type": "stream",
     "text": [
      "VAL: rmse=7.9513, mae=5.1594, mape=0.1639, acc=0.8534, r2_score=0.4868, var_score=0.4902\n",
      "VAL loss=2.2909\n",
      "==========EPOCH 480===========\n"
     ]
    },
    {
     "name": "stderr",
     "output_type": "stream",
     "text": [
      "                                                 \r"
     ]
    },
    {
     "name": "stdout",
     "output_type": "stream",
     "text": [
      "Trainning loss=2.3732\n"
     ]
    },
    {
     "name": "stderr",
     "output_type": "stream",
     "text": [
      "  0%|          | 1/279 [00:00<00:38,  7.26it/s]"
     ]
    },
    {
     "name": "stdout",
     "output_type": "stream",
     "text": [
      "VAL: rmse=8.0663, mae=5.2001, mape=0.1651, acc=0.8523, r2_score=0.4719, var_score=0.4760\n",
      "VAL loss=2.3576\n",
      "==========EPOCH 481===========\n"
     ]
    },
    {
     "name": "stderr",
     "output_type": "stream",
     "text": [
      "                                                 \r"
     ]
    },
    {
     "name": "stdout",
     "output_type": "stream",
     "text": [
      "Trainning loss=2.3764\n"
     ]
    },
    {
     "name": "stderr",
     "output_type": "stream",
     "text": [
      "  0%|          | 1/279 [00:00<00:34,  8.07it/s]"
     ]
    },
    {
     "name": "stdout",
     "output_type": "stream",
     "text": [
      "VAL: rmse=7.9629, mae=5.1524, mape=0.1636, acc=0.8536, r2_score=0.4853, var_score=0.4889\n",
      "VAL loss=2.2976\n",
      "==========EPOCH 482===========\n"
     ]
    },
    {
     "name": "stderr",
     "output_type": "stream",
     "text": [
      "                                                 \r"
     ]
    },
    {
     "name": "stdout",
     "output_type": "stream",
     "text": [
      "Trainning loss=2.3711\n"
     ]
    },
    {
     "name": "stderr",
     "output_type": "stream",
     "text": [
      "  0%|          | 1/279 [00:00<00:32,  8.62it/s]"
     ]
    },
    {
     "name": "stdout",
     "output_type": "stream",
     "text": [
      "VAL: rmse=8.0415, mae=5.1808, mape=0.1645, acc=0.8528, r2_score=0.4751, var_score=0.4791\n",
      "VAL loss=2.3432\n",
      "==========EPOCH 483===========\n"
     ]
    },
    {
     "name": "stderr",
     "output_type": "stream",
     "text": [
      "                                                 \r"
     ]
    },
    {
     "name": "stdout",
     "output_type": "stream",
     "text": [
      "Trainning loss=2.3751\n"
     ]
    },
    {
     "name": "stderr",
     "output_type": "stream",
     "text": [
      "  0%|          | 1/279 [00:00<00:33,  8.26it/s]"
     ]
    },
    {
     "name": "stdout",
     "output_type": "stream",
     "text": [
      "VAL: rmse=7.9410, mae=5.1357, mape=0.1628, acc=0.8541, r2_score=0.4882, var_score=0.4927\n",
      "VAL loss=2.2850\n",
      "==========EPOCH 484===========\n"
     ]
    },
    {
     "name": "stderr",
     "output_type": "stream",
     "text": [
      "                                                 \r"
     ]
    },
    {
     "name": "stdout",
     "output_type": "stream",
     "text": [
      "Trainning loss=2.3695\n"
     ]
    },
    {
     "name": "stderr",
     "output_type": "stream",
     "text": [
      "  0%|          | 1/279 [00:00<00:34,  8.14it/s]"
     ]
    },
    {
     "name": "stdout",
     "output_type": "stream",
     "text": [
      "VAL: rmse=8.1997, mae=5.2260, mape=0.1663, acc=0.8516, r2_score=0.4543, var_score=0.4583\n",
      "VAL loss=2.4362\n",
      "==========EPOCH 485===========\n"
     ]
    },
    {
     "name": "stderr",
     "output_type": "stream",
     "text": [
      "                                                 \r"
     ]
    },
    {
     "name": "stdout",
     "output_type": "stream",
     "text": [
      "Trainning loss=2.3700\n"
     ]
    },
    {
     "name": "stderr",
     "output_type": "stream",
     "text": [
      "  0%|          | 1/279 [00:00<00:39,  7.09it/s]"
     ]
    },
    {
     "name": "stdout",
     "output_type": "stream",
     "text": [
      "VAL: rmse=7.9289, mae=5.1323, mape=0.1621, acc=0.8542, r2_score=0.4897, var_score=0.4949\n",
      "VAL loss=2.2780\n",
      "==========EPOCH 486===========\n"
     ]
    },
    {
     "name": "stderr",
     "output_type": "stream",
     "text": [
      "                                                 \r"
     ]
    },
    {
     "name": "stdout",
     "output_type": "stream",
     "text": [
      "Trainning loss=2.3742\n"
     ]
    },
    {
     "name": "stderr",
     "output_type": "stream",
     "text": [
      "  0%|          | 1/279 [00:00<00:32,  8.68it/s]"
     ]
    },
    {
     "name": "stdout",
     "output_type": "stream",
     "text": [
      "VAL: rmse=8.3747, mae=5.2623, mape=0.1676, acc=0.8505, r2_score=0.4307, var_score=0.4366\n",
      "VAL loss=2.5413\n",
      "==========EPOCH 487===========\n"
     ]
    },
    {
     "name": "stderr",
     "output_type": "stream",
     "text": [
      "                                                 \r"
     ]
    },
    {
     "name": "stdout",
     "output_type": "stream",
     "text": [
      "Trainning loss=2.3685\n"
     ]
    },
    {
     "name": "stderr",
     "output_type": "stream",
     "text": [
      "  0%|          | 1/279 [00:00<00:32,  8.60it/s]"
     ]
    },
    {
     "name": "stdout",
     "output_type": "stream",
     "text": [
      "VAL: rmse=8.4070, mae=5.2798, mape=0.1685, acc=0.8500, r2_score=0.4263, var_score=0.4303\n",
      "VAL loss=2.5610\n",
      "==========EPOCH 488===========\n"
     ]
    },
    {
     "name": "stderr",
     "output_type": "stream",
     "text": [
      "                                                 \r"
     ]
    },
    {
     "name": "stdout",
     "output_type": "stream",
     "text": [
      "Trainning loss=2.3675\n"
     ]
    },
    {
     "name": "stderr",
     "output_type": "stream",
     "text": [
      "  0%|          | 1/279 [00:00<00:33,  8.18it/s]"
     ]
    },
    {
     "name": "stdout",
     "output_type": "stream",
     "text": [
      "VAL: rmse=8.2858, mae=5.2339, mape=0.1670, acc=0.8513, r2_score=0.4428, var_score=0.4461\n",
      "VAL loss=2.4877\n",
      "==========EPOCH 489===========\n"
     ]
    },
    {
     "name": "stderr",
     "output_type": "stream",
     "text": [
      "                                                 \r"
     ]
    },
    {
     "name": "stdout",
     "output_type": "stream",
     "text": [
      "Trainning loss=2.3684\n"
     ]
    },
    {
     "name": "stderr",
     "output_type": "stream",
     "text": [
      "  0%|          | 1/279 [00:00<00:37,  7.40it/s]"
     ]
    },
    {
     "name": "stdout",
     "output_type": "stream",
     "text": [
      "VAL: rmse=8.2273, mae=5.2103, mape=0.1654, acc=0.8520, r2_score=0.4506, var_score=0.4562\n",
      "VAL loss=2.4527\n",
      "==========EPOCH 490===========\n"
     ]
    },
    {
     "name": "stderr",
     "output_type": "stream",
     "text": [
      "                                                 \r"
     ]
    },
    {
     "name": "stdout",
     "output_type": "stream",
     "text": [
      "Trainning loss=2.3656\n"
     ]
    },
    {
     "name": "stderr",
     "output_type": "stream",
     "text": [
      "  0%|          | 1/279 [00:00<00:36,  7.61it/s]"
     ]
    },
    {
     "name": "stdout",
     "output_type": "stream",
     "text": [
      "VAL: rmse=8.5176, mae=5.3078, mape=0.1693, acc=0.8492, r2_score=0.4111, var_score=0.4157\n",
      "VAL loss=2.6288\n",
      "==========EPOCH 491===========\n"
     ]
    },
    {
     "name": "stderr",
     "output_type": "stream",
     "text": [
      "                                                 \r"
     ]
    },
    {
     "name": "stdout",
     "output_type": "stream",
     "text": [
      "Trainning loss=2.3654\n"
     ]
    },
    {
     "name": "stderr",
     "output_type": "stream",
     "text": [
      "  0%|          | 1/279 [00:00<00:32,  8.60it/s]"
     ]
    },
    {
     "name": "stdout",
     "output_type": "stream",
     "text": [
      "VAL: rmse=8.6476, mae=5.3225, mape=0.1698, acc=0.8488, r2_score=0.3930, var_score=0.3999\n",
      "VAL loss=2.7096\n",
      "==========EPOCH 492===========\n"
     ]
    },
    {
     "name": "stderr",
     "output_type": "stream",
     "text": [
      "                                                 \r"
     ]
    },
    {
     "name": "stdout",
     "output_type": "stream",
     "text": [
      "Trainning loss=2.3663\n"
     ]
    },
    {
     "name": "stderr",
     "output_type": "stream",
     "text": [
      "  0%|          | 1/279 [00:00<00:33,  8.29it/s]"
     ]
    },
    {
     "name": "stdout",
     "output_type": "stream",
     "text": [
      "VAL: rmse=8.7472, mae=5.3497, mape=0.1709, acc=0.8480, r2_score=0.3790, var_score=0.3854\n",
      "VAL loss=2.7724\n",
      "==========EPOCH 493===========\n"
     ]
    },
    {
     "name": "stderr",
     "output_type": "stream",
     "text": [
      "                                                 \r"
     ]
    },
    {
     "name": "stdout",
     "output_type": "stream",
     "text": [
      "Trainning loss=2.3658\n"
     ]
    },
    {
     "name": "stderr",
     "output_type": "stream",
     "text": [
      "  0%|          | 1/279 [00:00<00:34,  8.13it/s]"
     ]
    },
    {
     "name": "stdout",
     "output_type": "stream",
     "text": [
      "VAL: rmse=8.8629, mae=5.3767, mape=0.1721, acc=0.8473, r2_score=0.3624, var_score=0.3693\n",
      "VAL loss=2.8462\n",
      "==========EPOCH 494===========\n"
     ]
    },
    {
     "name": "stderr",
     "output_type": "stream",
     "text": [
      "                                                 \r"
     ]
    },
    {
     "name": "stdout",
     "output_type": "stream",
     "text": [
      "Trainning loss=2.3650\n"
     ]
    },
    {
     "name": "stderr",
     "output_type": "stream",
     "text": [
      "  0%|          | 1/279 [00:00<00:34,  8.02it/s]"
     ]
    },
    {
     "name": "stdout",
     "output_type": "stream",
     "text": [
      "VAL: rmse=8.7194, mae=5.3311, mape=0.1714, acc=0.8486, r2_score=0.3829, var_score=0.3853\n",
      "VAL loss=2.7548\n",
      "==========EPOCH 495===========\n"
     ]
    },
    {
     "name": "stderr",
     "output_type": "stream",
     "text": [
      "                                                 \r"
     ]
    },
    {
     "name": "stdout",
     "output_type": "stream",
     "text": [
      "Trainning loss=2.3627\n"
     ]
    },
    {
     "name": "stderr",
     "output_type": "stream",
     "text": [
      "  0%|          | 1/279 [00:00<00:34,  8.00it/s]"
     ]
    },
    {
     "name": "stdout",
     "output_type": "stream",
     "text": [
      "VAL: rmse=8.8477, mae=5.3671, mape=0.1712, acc=0.8475, r2_score=0.3646, var_score=0.3736\n",
      "VAL loss=2.8365\n",
      "==========EPOCH 496===========\n"
     ]
    },
    {
     "name": "stderr",
     "output_type": "stream",
     "text": [
      "                                                 \r"
     ]
    },
    {
     "name": "stdout",
     "output_type": "stream",
     "text": [
      "Trainning loss=2.3617\n"
     ]
    },
    {
     "name": "stderr",
     "output_type": "stream",
     "text": [
      "  0%|          | 1/279 [00:00<00:36,  7.71it/s]"
     ]
    },
    {
     "name": "stdout",
     "output_type": "stream",
     "text": [
      "VAL: rmse=9.0357, mae=5.4077, mape=0.1730, acc=0.8464, r2_score=0.3373, var_score=0.3453\n",
      "VAL loss=2.9583\n",
      "==========EPOCH 497===========\n"
     ]
    },
    {
     "name": "stderr",
     "output_type": "stream",
     "text": [
      "                                                 \r"
     ]
    },
    {
     "name": "stdout",
     "output_type": "stream",
     "text": [
      "Trainning loss=2.3608\n"
     ]
    },
    {
     "name": "stderr",
     "output_type": "stream",
     "text": [
      "  0%|          | 1/279 [00:00<00:33,  8.29it/s]"
     ]
    },
    {
     "name": "stdout",
     "output_type": "stream",
     "text": [
      "VAL: rmse=9.0223, mae=5.4011, mape=0.1728, acc=0.8466, r2_score=0.3393, var_score=0.3466\n",
      "VAL loss=2.9495\n",
      "==========EPOCH 498===========\n"
     ]
    },
    {
     "name": "stderr",
     "output_type": "stream",
     "text": [
      "                                                 \r"
     ]
    },
    {
     "name": "stdout",
     "output_type": "stream",
     "text": [
      "Trainning loss=2.3608\n"
     ]
    },
    {
     "name": "stderr",
     "output_type": "stream",
     "text": [
      "  0%|          | 1/279 [00:00<00:38,  7.30it/s]"
     ]
    },
    {
     "name": "stdout",
     "output_type": "stream",
     "text": [
      "VAL: rmse=8.9496, mae=5.3834, mape=0.1722, acc=0.8471, r2_score=0.3499, var_score=0.3566\n",
      "VAL loss=2.9022\n",
      "==========EPOCH 499===========\n"
     ]
    },
    {
     "name": "stderr",
     "output_type": "stream",
     "text": [
      "                                                 \r"
     ]
    },
    {
     "name": "stdout",
     "output_type": "stream",
     "text": [
      "Trainning loss=2.3599\n",
      "VAL: rmse=9.2326, mae=5.4429, mape=0.1746, acc=0.8454, r2_score=0.3081, var_score=0.3165\n",
      "VAL loss=3.0886\n"
     ]
    }
   ],
   "source": [
    "for epoch in range(epochs):\n",
    "    torch.manual_seed(3)\n",
    "#     batches = zip(src_loader)\n",
    "    total_batch_loss = 0\n",
    "    n_batches = len(src_loader)\n",
    "    total_domain_loss = total_label_accuracy = 0\n",
    "    total_similar_loss = 0\n",
    "    tgcn_tlt_loss = []\n",
    "    print('==========EPOCH %03d==========='%(epoch))\n",
    "    # print('==========EPOCH {0:0>3}==========='.format(epoch))\n",
    "\n",
    "##########################\n",
    "# mix_data混合数据，输出tgt_data_gen。\n",
    "##########################\n",
    "    for src_data, src_pre in tqdm(src_loader, leave=False, total=n_batches):\n",
    "        # ===== 数据转移到GPU\n",
    "        src_data = src_data.to(device)\n",
    "        if src_data.shape[0] != load_batch_size:\n",
    "            continue\n",
    "        \n",
    "\n",
    "#         src_data = torch.cat((src_data1, src_data2, src_data3),0)\n",
    "#         src_pre = torch.cat((src_pre1, src_pre2, src_pre3), 0)\n",
    "\n",
    "        \n",
    "    ### Training\n",
    "        optimizer.zero_grad()\n",
    "        tgcnloss = 0\n",
    "                \n",
    "        train_out_item = torch.zeros(src_data.size(0), pre_len, 0).to(device)\n",
    "        train_y_item = torch.zeros(src_data.size(0), pre_len, 0).to(device)\n",
    "        for i in range((src_num_nodes//tgt_min_num)-1):\n",
    "            adj, speed, pre = get_part_data(i, src_nodes_part, src_adj, src_data, src_pre)\n",
    "            adj = normalized_adj(adj)\n",
    "            adj = adj[:tgt_min_num, :tgt_min_num]\n",
    "            adj = adj.to(device=device,dtype=torch.float32)\n",
    "\n",
    "            X_batch = speed[:,:,:tgt_min_num].permute(1,0,2)\n",
    "            y_batch = pre[:,:,:tgt_min_num]\n",
    "            X_batch = X_batch.to(device=device)\n",
    "            y_batch = y_batch.to(device=device)\n",
    "\n",
    "            h0 = torch.zeros(X_batch.size(1), tgt_min_num, gru_units, dtype=torch.float32).to(device=device)\n",
    "            out = net(adj, X_batch, h0)\n",
    "\n",
    "\n",
    "            train_out_item = torch.cat((train_out_item,out),2)\n",
    "            train_y_item = torch.cat((train_y_item,y_batch),2)\n",
    "\n",
    "#             loss = tgcn_loss(out, y_batch)\n",
    "#             tgcnloss = tgcnloss + loss\n",
    "\n",
    "#         tgcnloss = tgcnloss / load_batch_size\n",
    "#         tgcn_tlt_loss.append(tgcnloss.item())\n",
    "\n",
    "        tgcnloss=tgcn_loss(train_out_item,train_y_item) \n",
    "        tgcn_tlt_loss.append(tgcnloss.item()/load_batch_size)\n",
    "        \n",
    "        train_out_cpu = train_out_item.detach().cpu().numpy().reshape(-1,train_out_item.size(2))\n",
    "        train_y_cpu = train_y_item.detach().cpu().numpy().reshape(-1,train_out_item.size(2))\n",
    "\n",
    "        train_out_cpu = Normalize(train_out_cpu, src_speed.mean, src_speed.std, src_speed.max, src_speed.min, inv_if_norm)\n",
    "        train_y_cpu = Normalize(train_y_cpu, src_speed.mean, src_speed.std, src_speed.max, src_speed.min, inv_if_norm)\n",
    "\n",
    "        train_rmse, train_mae, train_mape, train_acc, train_r2_score, train_var_score = evaluation(train_y_cpu,train_out_cpu)\n",
    "        \n",
    "        # tqdm.write('TRAIN: rmse={0:.4f}, mae={1:.4f}, acc={2:.4f}, r2={3:.4f}, var={4:.4f}'.format(train_rmse, train_mae, train_acc, train_r2_score, train_var_score))\n",
    "        tgcnloss.backward()\n",
    "        optimizer.step()\n",
    "        \n",
    "        # total_batch_loss += batch_loss.item()\n",
    "        # total_domain_loss += domain_loss.item()\n",
    "        # total_similar_loss += similar_loss\n",
    "\n",
    "    Train_loss.append(sum(tgcn_tlt_loss) / n_batches)\n",
    "    viz.line([Train_loss[-1]],[epoch],env=environ, win='train_loss', update='append')\n",
    "    # mean_domain_loss.append(total_domain_loss / n_batches)\n",
    "    # mean_similar_loss.append(total_similar_loss / n_batches)\n",
    "    # mean_total_batch_loss.append(total_batch_loss / n_batches)\n",
    "    print('Trainning loss={0:.4f}'.format(Train_loss[-1]))\n",
    "\n",
    "    with torch.no_grad():\n",
    "        net.eval()\n",
    "        tgt_val_speed = CityDataset(city=tgt_city, typo='speed', seq_len=seq_len, pre_len=pre_len, num_days=tgt_num_days, if_norm=if_norm)\n",
    "        tgt_val_loader = DataLoader(tgt_val_speed, batch_size=tgt_val_speed.__len__(), pin_memory=True, num_workers=0, shuffle=True)\n",
    "        for i ,(speed, pre) in enumerate(tgt_val_loader):\n",
    "            tgt_dt = speed.to(device)\n",
    "            tgt_pre = pre.to(device)\n",
    "        \n",
    "        out_item = torch.zeros(tgt_dt.size(0), pre_len, 0).to(device)\n",
    "        y_item = torch.zeros(tgt_dt.size(0), pre_len, 0).to(device)\n",
    "        \n",
    "        for i in range(sub_graph_num):\n",
    "            adj, speed, pre = get_part_data(i, tgt_nodes_part, tgt_adj, tgt_dt, tgt_pre)\n",
    "            adj = normalized_adj(adj)\n",
    "            adj = adj[:tgt_min_num, :tgt_min_num]\n",
    "            adj = adj.to(device=device,dtype=torch.float32)\n",
    "\n",
    "            X_batch = speed[:,:,:tgt_min_num].permute(1,0,2)\n",
    "            y_batch = pre[:,:,:tgt_min_num]\n",
    "            X_batch = X_batch.to(device=device)\n",
    "            y_batch = y_batch.to(device=device)        \n",
    "\n",
    "            h0 = torch.zeros(X_batch.size(1), tgt_min_num, gru_units, dtype=torch.float32).to(device=device)\n",
    "            out = net(adj, X_batch, h0)\n",
    "\n",
    "            out_item = torch.cat((out_item,out),2)\n",
    "            y_item = torch.cat((y_item,y_batch),2)\n",
    "\n",
    "#             loss = tgcn_loss(out, y_batch)\n",
    "#             tgcnloss = tgcnloss + loss\n",
    "            # optimizer.step()\n",
    "        \n",
    "        tgcnloss=tgcn_loss(out_item,y_item)\n",
    "        tgcnloss = tgcnloss.item() / (tgt_dt.size(0))\n",
    "        Val_loss.append(tgcnloss)\n",
    "        out_cpu = out_item.detach().cpu().numpy().reshape(-1,out_item.size(2))\n",
    "        y_cpu = y_item.detach().cpu().numpy().reshape(-1,out_item.size(2))\n",
    "\n",
    "        out_cpu = Normalize(out_cpu, tgt_speed.mean, tgt_speed.std, tgt_speed.max, tgt_speed.min, inv_if_norm)\n",
    "        y_cpu = Normalize(y_cpu, tgt_speed.mean, tgt_speed.std, tgt_speed.max, tgt_speed.min, inv_if_norm)\n",
    "\n",
    "        rmse, mae, mape, acc, r2_score, var_score = evaluation(y_cpu,out_cpu)\n",
    "\n",
    "        \n",
    "        # validation_pred = []\n",
    "        validation_maes.append(mae)\n",
    "        validation_acc.append(acc)\n",
    "        validation_mapes.append(mape)\n",
    "        validation_r2.append(r2_score)\n",
    "        validation_var.append(var_score)\n",
    "        validation_rmses.append(rmse)\n",
    "        \n",
    "             \n",
    "        viz.line([Val_loss[-1]],[epoch],env=environ, win='val_loss', update='append')\n",
    "        viz.line([rmse],[epoch],env=environ, win='rmses', update='append')\n",
    "        viz.line([mae],[epoch],env=environ, win='maes', update='append')\n",
    "        viz.line([mape],[epoch],env=environ, win='mapes', update='append')\n",
    "        \n",
    "        print('VAL: rmse={0:.4f}, mae={1:.4f}, mape={2:.4f}, acc={3:.4f}, r2_score={4:.4f}, var_score={5:.4f}'.format(rmse, mae, mape, acc, r2_score, var_score))\n",
    "        print('VAL loss={0:.4f}'.format(Val_loss[-1]))\n",
    "\n",
    "\n",
    "#     if not os.path.exists(cwd+'/pkl'):\n",
    "#         os.makedirs(cwd+'/pkl')\n",
    "#     if validation_mapes[-1] < min_mape:\n",
    "#         state = {'TF_model':TranFeatureNet.state_dict(),'D':discriminator.state_dict(), 'net':net.state_dict(), 'min_mape':validation_mape[-1]}\n",
    "#         torch.save(state, cwd+'/pkl/NETS_params.pkl')\n",
    "#         min_mape = validation_mapes[-1]\n",
    "\n",
    "    # tqdm.write(f'EPOCH {epoch:03d}: mean_tgcn_tlt_loss={mean_tgcn_tlt_loss[-1]:.4f}, '\n",
    "            #    f'domain_loss={mean_domain_loss[-1]:.4f}, similar_loss={mean_similar_loss[-1]:.4f}, '\n",
    "            #    f'mean_total_batch_loss={mean_total_batch_loss[-1]:.4f}')   \n",
    "\n",
    "    # tqdm.write(f'EPOCH {epoch:03d}: mean_tgcn_tlt_loss={mean_tgcn_tlt_loss[-1]:.4f}, '\n",
    "            #    f'rmse={rmse:.4f}, mae={mae:.4f}, acc={acc:.4f}, r2={r2_score:.4f}, var={var_score:.4f}')\n",
    "\n",
    "np.savez('losses_400',Train_loss=Train_loss, Val_loss=Val_loss, Val_maes=validation_maes, Val_mape=validation_mapes, Val_acc=validation_acc, \\\n",
    "                Val_rmse=validation_rmses, Val_r2=validation_r2, Val_var=validation_var)"
   ]
  },
  {
   "cell_type": "code",
   "execution_count": null,
   "id": "greenhouse-color",
   "metadata": {},
   "outputs": [],
   "source": []
  }
 ],
 "metadata": {
  "kernelspec": {
   "display_name": "Python 3",
   "language": "python",
   "name": "python3"
  },
  "language_info": {
   "codemirror_mode": {
    "name": "ipython",
    "version": 3
   },
   "file_extension": ".py",
   "mimetype": "text/x-python",
   "name": "python",
   "nbconvert_exporter": "python",
   "pygments_lexer": "ipython3",
   "version": "3.8.3"
  }
 },
 "nbformat": 4,
 "nbformat_minor": 5
}
