{
 "cells": [
  {
   "cell_type": "code",
   "execution_count": 1,
   "id": "pointed-portuguese",
   "metadata": {},
   "outputs": [],
   "source": [
    "'''\n",
    "cuda: 3\n",
    "'''\n",
    "\n",
    "import os\n",
    "os.environ[\"MKL_NUM_THREADS\"] = \"3\"\n",
    "os.environ[\"OPENBLAS_NUM_THREADS\"] = \"4\"\n",
    "from visdom import Visdom\n",
    "import numpy as np\n",
    "import pandas as pd\n",
    "import math\n",
    "import torch\n",
    "import time \n",
    "import json\n",
    "import matplotlib.pyplot as plt\n",
    "import torch.nn as nn\n",
    "from gen_data_dl import TrainDataset, ValDataset\n",
    "from torch.utils.data import DataLoader\n",
    "from sklearn.metrics import mean_squared_error,mean_absolute_error,mean_absolute_percentage_error\n",
    "from networks import TGCN\n",
    "from utils import normalized_adj, Normalize\n",
    "import numpy.linalg as la"
   ]
  },
  {
   "cell_type": "code",
   "execution_count": 2,
   "id": "neural-handling",
   "metadata": {},
   "outputs": [],
   "source": [
    "def tgcn_loss(y_pred, y_true):\n",
    "    lambda_loss = 0.0015\n",
    "    Lreg = 0 # 正则化项\n",
    "    for para in net.parameters():\n",
    "        Lreg += torch.sum(para ** 2) / 2\n",
    "    Lreg = lambda_loss * Lreg\n",
    "\n",
    "    regress_loss = torch.sum((y_pred-y_true) ** 2) / 2\n",
    "    return regress_loss + Lreg\n",
    "\n",
    "\n",
    "def evaluation(a,b):\n",
    "    rmse = math.sqrt(mean_squared_error(a,b))\n",
    "    mae = mean_absolute_error(a,b)\n",
    "    mape = mean_absolute_percentage_error(a,b)\n",
    "    F_norm = la.norm(a-b,'fro')/la.norm(a,'fro')\n",
    "    r2 = 1 - ((a-b)**2).sum()/((a-a.mean())**2).sum()\n",
    "    var = 1-(np.var(a-b))/np.var(a)\n",
    "    return rmse, mae, mape, F_norm, r2, var"
   ]
  },
  {
   "cell_type": "code",
   "execution_count": 3,
   "id": "starting-decimal",
   "metadata": {},
   "outputs": [
    {
     "name": "stderr",
     "output_type": "stream",
     "text": [
      "Setting up a new session...\n"
     ]
    }
   ],
   "source": [
    "os.environ['CUDA_VISIBLE_DEVICES']='0'\n",
    "device = torch.device('cuda')\n",
    "viz = Visdom()"
   ]
  },
  {
   "cell_type": "code",
   "execution_count": 4,
   "id": "light-istanbul",
   "metadata": {},
   "outputs": [],
   "source": [
    "# para set\n",
    "seq_len = 12\n",
    "pre_len = 12\n",
    "if_norm = 'sig'\n",
    "inv_if_norm = 'inv_' + if_norm\n",
    "src_city = 'bj'\n",
    "tgt_city = 'sh'\n",
    "load_batch_size = 32\n",
    "epochs = 500\n",
    "gru_units = 32\n",
    "lr = 0.001\n",
    "val_num_days = 1\n",
    "yitaloss=0.9\n",
    "# environ=str(pre_len*5)+'min_'+'TGCNdirTL_'+'FT:'+str(yitaloss)\n",
    "environ='TGCNdirTL_'+'FT:'+str(yitaloss)+'_'+str(pre_len*5)+'min'\n",
    "# load data\n",
    "train_speed = TrainDataset(city='bj', typo='speed', seq_len=seq_len, pre_len=pre_len, num_days=val_num_days, if_norm=if_norm, if_lack=yitaloss)\n",
    "train_loader = DataLoader(train_speed, batch_size=load_batch_size, pin_memory=True, num_workers=0, shuffle=True)\n",
    "val_speed = ValDataset(city='sh', typo='speed', seq_len=seq_len, pre_len=pre_len, num_days=val_num_days, if_norm=if_norm, if_lack=yitaloss)\n",
    "val_loader = DataLoader(val_speed, batch_size=val_speed.__len__(), pin_memory=True, num_workers=0, shuffle=None)\n",
    "num_nodes = train_speed.numnodes\n",
    "train_mean, train_std, train_max, train_min = train_speed.mean, train_speed.std, train_speed.max, train_speed.min\n",
    "val_mean, val_std, val_max, val_min = val_speed.mean, val_speed.std, val_speed.max, val_speed.min"
   ]
  },
  {
   "cell_type": "code",
   "execution_count": 5,
   "id": "mechanical-tokyo",
   "metadata": {},
   "outputs": [
    {
     "data": {
      "text/plain": [
       "(8904, 264, 'TGCNdirTL_FT:0.7_60min')"
      ]
     },
     "execution_count": 5,
     "metadata": {},
     "output_type": "execute_result"
    }
   ],
   "source": [
    "train_speed.__len__(), val_speed.__len__(),environ"
   ]
  },
  {
   "cell_type": "code",
   "execution_count": 6,
   "id": "worthy-contemporary",
   "metadata": {
    "scrolled": true
   },
   "outputs": [
    {
     "name": "stderr",
     "output_type": "stream",
     "text": [
      "<ipython-input-6-5c6a0450ba2d>:85: DeprecationWarning: np.asscalar(a) is deprecated since NumPy v1.16, use a.item() instead\n",
      "  validation_losses.append(np.asscalar(val_loss.detach().cpu().numpy()))\n"
     ]
    },
    {
     "name": "stdout",
     "output_type": "stream",
     "text": [
      "epoch: 0\n",
      "Training loss: 18933.928433982273\n",
      "Training rmse: 123.65264\n",
      "Validation loss: 53384.859375\n",
      "Validation rmse: 29.607481593485687\n",
      "Validation mae: 24.353865\n",
      "Validation mape: 0.261514\n",
      "Validation acc: 0.15297448635101318\n"
     ]
    },
    {
     "name": "stderr",
     "output_type": "stream",
     "text": [
      "<ipython-input-6-5c6a0450ba2d>:85: DeprecationWarning: np.asscalar(a) is deprecated since NumPy v1.16, use a.item() instead\n",
      "  validation_losses.append(np.asscalar(val_loss.detach().cpu().numpy()))\n"
     ]
    },
    {
     "name": "stdout",
     "output_type": "stream",
     "text": [
      "epoch: 1\n",
      "Training loss: 10892.443226475869\n",
      "Training rmse: 82.02398\n",
      "Validation loss: 19254.5546875\n",
      "Validation rmse: 17.781110122747275\n",
      "Validation mae: 14.180584\n",
      "Validation mape: 0.17454924\n",
      "Validation acc: 0.1897391676902771\n"
     ]
    },
    {
     "name": "stderr",
     "output_type": "stream",
     "text": [
      "<ipython-input-6-5c6a0450ba2d>:85: DeprecationWarning: np.asscalar(a) is deprecated since NumPy v1.16, use a.item() instead\n",
      "  validation_losses.append(np.asscalar(val_loss.detach().cpu().numpy()))\n"
     ]
    },
    {
     "name": "stdout",
     "output_type": "stream",
     "text": [
      "epoch: 2\n",
      "Training loss: 1836.1917800082956\n",
      "Training rmse: 66.10581\n",
      "Validation loss: 18884.490234375\n",
      "Validation rmse: 17.609407061028932\n",
      "Validation mae: 13.948853\n",
      "Validation mape: 0.17034784\n",
      "Validation acc: 0.20105022192001343\n"
     ]
    },
    {
     "name": "stderr",
     "output_type": "stream",
     "text": [
      "<ipython-input-6-5c6a0450ba2d>:85: DeprecationWarning: np.asscalar(a) is deprecated since NumPy v1.16, use a.item() instead\n",
      "  validation_losses.append(np.asscalar(val_loss.detach().cpu().numpy()))\n"
     ]
    },
    {
     "name": "stdout",
     "output_type": "stream",
     "text": [
      "epoch: 3\n",
      "Training loss: 1808.3238859005726\n",
      "Training rmse: 65.88396\n",
      "Validation loss: 19043.234375\n",
      "Validation rmse: 17.683267147552762\n",
      "Validation mae: 14.0380125\n",
      "Validation mape: 0.17251891\n",
      "Validation acc: 0.19776839017868042\n"
     ]
    },
    {
     "name": "stderr",
     "output_type": "stream",
     "text": [
      "<ipython-input-6-5c6a0450ba2d>:85: DeprecationWarning: np.asscalar(a) is deprecated since NumPy v1.16, use a.item() instead\n",
      "  validation_losses.append(np.asscalar(val_loss.detach().cpu().numpy()))\n"
     ]
    },
    {
     "name": "stdout",
     "output_type": "stream",
     "text": [
      "epoch: 4\n",
      "Training loss: 1787.4220012268286\n",
      "Training rmse: 65.714966\n",
      "Validation loss: 19381.345703125\n",
      "Validation rmse: 17.839558498239505\n",
      "Validation mae: 14.03366\n",
      "Validation mape: 0.17039512\n",
      "Validation acc: 0.17846280336380005\n"
     ]
    },
    {
     "name": "stderr",
     "output_type": "stream",
     "text": [
      "<ipython-input-6-5c6a0450ba2d>:85: DeprecationWarning: np.asscalar(a) is deprecated since NumPy v1.16, use a.item() instead\n",
      "  validation_losses.append(np.asscalar(val_loss.detach().cpu().numpy()))\n"
     ]
    },
    {
     "name": "stdout",
     "output_type": "stream",
     "text": [
      "epoch: 5\n",
      "Training loss: 1781.7142014588933\n",
      "Training rmse: 65.66753\n",
      "Validation loss: 20343.33203125\n",
      "Validation rmse: 18.276927573937822\n",
      "Validation mae: 14.636863\n",
      "Validation mape: 0.18294388\n",
      "Validation acc: 0.1646161675453186\n"
     ]
    },
    {
     "name": "stderr",
     "output_type": "stream",
     "text": [
      "<ipython-input-6-5c6a0450ba2d>:85: DeprecationWarning: np.asscalar(a) is deprecated since NumPy v1.16, use a.item() instead\n",
      "  validation_losses.append(np.asscalar(val_loss.detach().cpu().numpy()))\n"
     ]
    },
    {
     "name": "stdout",
     "output_type": "stream",
     "text": [
      "epoch: 6\n",
      "Training loss: 1779.7466353002842\n",
      "Training rmse: 65.64871\n",
      "Validation loss: 19929.45703125\n",
      "Validation rmse: 18.090055045597136\n",
      "Validation mae: 13.906321\n",
      "Validation mape: 0.16306256\n",
      "Validation acc: 0.1718941330909729\n"
     ]
    },
    {
     "name": "stderr",
     "output_type": "stream",
     "text": [
      "<ipython-input-6-5c6a0450ba2d>:85: DeprecationWarning: np.asscalar(a) is deprecated since NumPy v1.16, use a.item() instead\n",
      "  validation_losses.append(np.asscalar(val_loss.detach().cpu().numpy()))\n"
     ]
    },
    {
     "name": "stdout",
     "output_type": "stream",
     "text": [
      "epoch: 7\n",
      "Training loss: 1793.2384874350707\n",
      "Training rmse: 65.748024\n",
      "Validation loss: 20271.142578125\n",
      "Validation rmse: 18.244470882254642\n",
      "Validation mae: 14.159778\n",
      "Validation mape: 0.16815826\n",
      "Validation acc: 0.14653682708740234\n"
     ]
    },
    {
     "name": "stderr",
     "output_type": "stream",
     "text": [
      "<ipython-input-6-5c6a0450ba2d>:85: DeprecationWarning: np.asscalar(a) is deprecated since NumPy v1.16, use a.item() instead\n",
      "  validation_losses.append(np.asscalar(val_loss.detach().cpu().numpy()))\n"
     ]
    },
    {
     "name": "stdout",
     "output_type": "stream",
     "text": [
      "epoch: 8\n",
      "Training loss: 1794.5011667777987\n",
      "Training rmse: 65.75211\n",
      "Validation loss: 24778.96875\n",
      "Validation rmse: 20.171299341853807\n",
      "Validation mae: 16.052202\n",
      "Validation mape: 0.19711655\n",
      "Validation acc: -0.04011988639831543\n"
     ]
    },
    {
     "name": "stderr",
     "output_type": "stream",
     "text": [
      "<ipython-input-6-5c6a0450ba2d>:85: DeprecationWarning: np.asscalar(a) is deprecated since NumPy v1.16, use a.item() instead\n",
      "  validation_losses.append(np.asscalar(val_loss.detach().cpu().numpy()))\n"
     ]
    },
    {
     "name": "stdout",
     "output_type": "stream",
     "text": [
      "epoch: 9\n",
      "Training loss: 1841.0535355981533\n",
      "Training rmse: 65.98671\n",
      "Validation loss: 21198.228515625\n",
      "Validation rmse: 18.657005716477858\n",
      "Validation mae: 14.661931\n",
      "Validation mape: 0.17853908\n",
      "Validation acc: 0.10333830118179321\n"
     ]
    },
    {
     "name": "stderr",
     "output_type": "stream",
     "text": [
      "<ipython-input-6-5c6a0450ba2d>:85: DeprecationWarning: np.asscalar(a) is deprecated since NumPy v1.16, use a.item() instead\n",
      "  validation_losses.append(np.asscalar(val_loss.detach().cpu().numpy()))\n"
     ]
    },
    {
     "name": "stdout",
     "output_type": "stream",
     "text": [
      "epoch: 10\n",
      "Training loss: 1799.8393953931802\n",
      "Training rmse: 65.77881\n",
      "Validation loss: 19587.69140625\n",
      "Validation rmse: 17.934271438812775\n",
      "Validation mae: 14.160996\n",
      "Validation mape: 0.17440805\n",
      "Validation acc: 0.17715120315551758\n"
     ]
    },
    {
     "name": "stderr",
     "output_type": "stream",
     "text": [
      "<ipython-input-6-5c6a0450ba2d>:85: DeprecationWarning: np.asscalar(a) is deprecated since NumPy v1.16, use a.item() instead\n",
      "  validation_losses.append(np.asscalar(val_loss.detach().cpu().numpy()))\n"
     ]
    },
    {
     "name": "stdout",
     "output_type": "stream",
     "text": [
      "epoch: 11\n",
      "Training loss: 1796.9701461518537\n",
      "Training rmse: 65.77944\n",
      "Validation loss: 19565.87109375\n",
      "Validation rmse: 17.924280060125934\n",
      "Validation mae: 14.187318\n",
      "Validation mape: 0.17563887\n",
      "Validation acc: 0.18334871530532837\n"
     ]
    },
    {
     "name": "stderr",
     "output_type": "stream",
     "text": [
      "<ipython-input-6-5c6a0450ba2d>:85: DeprecationWarning: np.asscalar(a) is deprecated since NumPy v1.16, use a.item() instead\n",
      "  validation_losses.append(np.asscalar(val_loss.detach().cpu().numpy()))\n"
     ]
    },
    {
     "name": "stdout",
     "output_type": "stream",
     "text": [
      "epoch: 12\n",
      "Training loss: 1813.9867513239597\n",
      "Training rmse: 65.90619\n",
      "Validation loss: 26547.669921875\n",
      "Validation rmse: 20.878794799164655\n",
      "Validation mae: 16.40573\n",
      "Validation mape: 0.19770962\n",
      "Validation acc: -0.125618577003479\n"
     ]
    },
    {
     "name": "stderr",
     "output_type": "stream",
     "text": [
      "<ipython-input-6-5c6a0450ba2d>:85: DeprecationWarning: np.asscalar(a) is deprecated since NumPy v1.16, use a.item() instead\n",
      "  validation_losses.append(np.asscalar(val_loss.detach().cpu().numpy()))\n"
     ]
    },
    {
     "name": "stdout",
     "output_type": "stream",
     "text": [
      "epoch: 13\n",
      "Training loss: 1870.6533932702944\n",
      "Training rmse: 66.13728\n",
      "Validation loss: 20099.5546875\n",
      "Validation rmse: 18.167088961578038\n",
      "Validation mae: 13.715595\n",
      "Validation mape: 0.15624246\n",
      "Validation acc: 0.2132817506790161\n"
     ]
    },
    {
     "name": "stderr",
     "output_type": "stream",
     "text": [
      "<ipython-input-6-5c6a0450ba2d>:85: DeprecationWarning: np.asscalar(a) is deprecated since NumPy v1.16, use a.item() instead\n",
      "  validation_losses.append(np.asscalar(val_loss.detach().cpu().numpy()))\n"
     ]
    },
    {
     "name": "stdout",
     "output_type": "stream",
     "text": [
      "epoch: 14\n",
      "Training loss: 1771.009023577509\n",
      "Training rmse: 65.565575\n",
      "Validation loss: 21862.55078125\n",
      "Validation rmse: 18.947091572395337\n",
      "Validation mae: 15.150312\n",
      "Validation mape: 0.19088253\n",
      "Validation acc: 0.12451910972595215\n"
     ]
    },
    {
     "name": "stderr",
     "output_type": "stream",
     "text": [
      "<ipython-input-6-5c6a0450ba2d>:85: DeprecationWarning: np.asscalar(a) is deprecated since NumPy v1.16, use a.item() instead\n",
      "  validation_losses.append(np.asscalar(val_loss.detach().cpu().numpy()))\n"
     ]
    },
    {
     "name": "stdout",
     "output_type": "stream",
     "text": [
      "epoch: 15\n",
      "Training loss: 1760.5355645730076\n",
      "Training rmse: 65.48369\n",
      "Validation loss: 21908.982421875\n",
      "Validation rmse: 18.967199020199978\n",
      "Validation mae: 14.8726225\n",
      "Validation mape: 0.17908469\n",
      "Validation acc: 0.07142841815948486\n"
     ]
    },
    {
     "name": "stderr",
     "output_type": "stream",
     "text": [
      "<ipython-input-6-5c6a0450ba2d>:85: DeprecationWarning: np.asscalar(a) is deprecated since NumPy v1.16, use a.item() instead\n",
      "  validation_losses.append(np.asscalar(val_loss.detach().cpu().numpy()))\n"
     ]
    },
    {
     "name": "stdout",
     "output_type": "stream",
     "text": [
      "epoch: 16\n",
      "Training loss: 1753.4219938982344\n",
      "Training rmse: 65.41982\n",
      "Validation loss: 19384.91796875\n",
      "Validation rmse: 17.841200664812593\n",
      "Validation mae: 13.777815\n",
      "Validation mape: 0.16437237\n",
      "Validation acc: 0.18109780550003052\n"
     ]
    },
    {
     "name": "stderr",
     "output_type": "stream",
     "text": [
      "<ipython-input-6-5c6a0450ba2d>:85: DeprecationWarning: np.asscalar(a) is deprecated since NumPy v1.16, use a.item() instead\n",
      "  validation_losses.append(np.asscalar(val_loss.detach().cpu().numpy()))\n"
     ]
    },
    {
     "name": "stdout",
     "output_type": "stream",
     "text": [
      "epoch: 17\n",
      "Training loss: 1714.9391409487707\n",
      "Training rmse: 65.11382\n",
      "Validation loss: 19794.23046875\n",
      "Validation rmse: 18.02857398632706\n",
      "Validation mae: 14.2418785\n",
      "Validation mape: 0.17639332\n",
      "Validation acc: 0.17487281560897827\n"
     ]
    },
    {
     "name": "stderr",
     "output_type": "stream",
     "text": [
      "<ipython-input-6-5c6a0450ba2d>:85: DeprecationWarning: np.asscalar(a) is deprecated since NumPy v1.16, use a.item() instead\n",
      "  validation_losses.append(np.asscalar(val_loss.detach().cpu().numpy()))\n"
     ]
    },
    {
     "name": "stdout",
     "output_type": "stream",
     "text": [
      "epoch: 18\n",
      "Training loss: 1735.1754902938787\n",
      "Training rmse: 65.27323\n",
      "Validation loss: 19362.60546875\n",
      "Validation rmse: 17.830928652248108\n",
      "Validation mae: 13.724702\n",
      "Validation mape: 0.16272162\n",
      "Validation acc: 0.18633073568344116\n"
     ]
    },
    {
     "name": "stderr",
     "output_type": "stream",
     "text": [
      "<ipython-input-6-5c6a0450ba2d>:85: DeprecationWarning: np.asscalar(a) is deprecated since NumPy v1.16, use a.item() instead\n",
      "  validation_losses.append(np.asscalar(val_loss.detach().cpu().numpy()))\n"
     ]
    },
    {
     "name": "stdout",
     "output_type": "stream",
     "text": [
      "epoch: 19\n",
      "Training loss: 1719.395296924003\n",
      "Training rmse: 65.15183\n",
      "Validation loss: 20926.302734375\n",
      "Validation rmse: 18.53695205012393\n",
      "Validation mae: 14.075896\n",
      "Validation mape: 0.16133903\n",
      "Validation acc: 0.17271292209625244\n"
     ]
    },
    {
     "name": "stderr",
     "output_type": "stream",
     "text": [
      "<ipython-input-6-5c6a0450ba2d>:85: DeprecationWarning: np.asscalar(a) is deprecated since NumPy v1.16, use a.item() instead\n",
      "  validation_losses.append(np.asscalar(val_loss.detach().cpu().numpy()))\n"
     ]
    },
    {
     "name": "stdout",
     "output_type": "stream",
     "text": [
      "epoch: 20\n",
      "Training loss: 1703.9887955641661\n",
      "Training rmse: 65.016716\n",
      "Validation loss: 20406.423828125\n",
      "Validation rmse: 18.305241835663068\n",
      "Validation mae: 14.172502\n",
      "Validation mape: 0.16947585\n",
      "Validation acc: 0.13650548458099365\n"
     ]
    },
    {
     "name": "stderr",
     "output_type": "stream",
     "text": [
      "<ipython-input-6-5c6a0450ba2d>:85: DeprecationWarning: np.asscalar(a) is deprecated since NumPy v1.16, use a.item() instead\n",
      "  validation_losses.append(np.asscalar(val_loss.detach().cpu().numpy()))\n"
     ]
    },
    {
     "name": "stdout",
     "output_type": "stream",
     "text": [
      "epoch: 21\n",
      "Training loss: 1692.0069856814587\n",
      "Training rmse: 64.923485\n",
      "Validation loss: 18509.68359375\n",
      "Validation rmse: 17.433775363859088\n",
      "Validation mae: 13.475996\n",
      "Validation mape: 0.1617202\n",
      "Validation acc: 0.21637284755706787\n"
     ]
    },
    {
     "name": "stderr",
     "output_type": "stream",
     "text": [
      "<ipython-input-6-5c6a0450ba2d>:85: DeprecationWarning: np.asscalar(a) is deprecated since NumPy v1.16, use a.item() instead\n",
      "  validation_losses.append(np.asscalar(val_loss.detach().cpu().numpy()))\n"
     ]
    },
    {
     "name": "stdout",
     "output_type": "stream",
     "text": [
      "epoch: 22\n",
      "Training loss: 1693.7063466280592\n",
      "Training rmse: 64.92987\n",
      "Validation loss: 19707.654296875\n",
      "Validation rmse: 17.989100229049292\n",
      "Validation mae: 14.3192625\n",
      "Validation mape: 0.17984907\n",
      "Validation acc: 0.19964146614074707\n"
     ]
    },
    {
     "name": "stderr",
     "output_type": "stream",
     "text": [
      "<ipython-input-6-5c6a0450ba2d>:85: DeprecationWarning: np.asscalar(a) is deprecated since NumPy v1.16, use a.item() instead\n",
      "  validation_losses.append(np.asscalar(val_loss.detach().cpu().numpy()))\n"
     ]
    },
    {
     "name": "stdout",
     "output_type": "stream",
     "text": [
      "epoch: 23\n",
      "Training loss: 1653.5550487887474\n",
      "Training rmse: 64.61124\n",
      "Validation loss: 20391.044921875\n",
      "Validation rmse: 18.298342703729347\n",
      "Validation mae: 14.086836\n",
      "Validation mape: 0.16594723\n",
      "Validation acc: 0.15112775564193726\n"
     ]
    },
    {
     "name": "stderr",
     "output_type": "stream",
     "text": [
      "<ipython-input-6-5c6a0450ba2d>:85: DeprecationWarning: np.asscalar(a) is deprecated since NumPy v1.16, use a.item() instead\n",
      "  validation_losses.append(np.asscalar(val_loss.detach().cpu().numpy()))\n"
     ]
    },
    {
     "name": "stdout",
     "output_type": "stream",
     "text": [
      "epoch: 24\n",
      "Training loss: 1663.4285949925795\n",
      "Training rmse: 64.68655\n",
      "Validation loss: 20954.072265625\n",
      "Validation rmse: 18.549242622152224\n",
      "Validation mae: 14.596675\n",
      "Validation mape: 0.17907512\n",
      "Validation acc: 0.11660629510879517\n"
     ]
    },
    {
     "name": "stderr",
     "output_type": "stream",
     "text": [
      "<ipython-input-6-5c6a0450ba2d>:85: DeprecationWarning: np.asscalar(a) is deprecated since NumPy v1.16, use a.item() instead\n",
      "  validation_losses.append(np.asscalar(val_loss.detach().cpu().numpy()))\n"
     ]
    },
    {
     "name": "stdout",
     "output_type": "stream",
     "text": [
      "epoch: 25\n",
      "Training loss: 1651.444868080932\n",
      "Training rmse: 64.58521\n",
      "Validation loss: 19934.3125\n",
      "Validation rmse: 18.092248831293404\n",
      "Validation mae: 13.614087\n",
      "Validation mape: 0.15435928\n",
      "Validation acc: 0.23382359743118286\n"
     ]
    },
    {
     "name": "stderr",
     "output_type": "stream",
     "text": [
      "<ipython-input-6-5c6a0450ba2d>:85: DeprecationWarning: np.asscalar(a) is deprecated since NumPy v1.16, use a.item() instead\n",
      "  validation_losses.append(np.asscalar(val_loss.detach().cpu().numpy()))\n"
     ]
    },
    {
     "name": "stdout",
     "output_type": "stream",
     "text": [
      "epoch: 26\n",
      "Training loss: 1616.5760434605315\n",
      "Training rmse: 64.29148\n",
      "Validation loss: 18513.880859375\n",
      "Validation rmse: 17.435746299583435\n",
      "Validation mae: 13.374115\n",
      "Validation mape: 0.15962704\n",
      "Validation acc: 0.2178095579147339\n"
     ]
    },
    {
     "name": "stderr",
     "output_type": "stream",
     "text": [
      "<ipython-input-6-5c6a0450ba2d>:85: DeprecationWarning: np.asscalar(a) is deprecated since NumPy v1.16, use a.item() instead\n",
      "  validation_losses.append(np.asscalar(val_loss.detach().cpu().numpy()))\n"
     ]
    },
    {
     "name": "stdout",
     "output_type": "stream",
     "text": [
      "epoch: 27\n",
      "Training loss: 1610.5791352521562\n",
      "Training rmse: 64.2435\n",
      "Validation loss: 19174.537109375\n",
      "Validation rmse: 17.744110419794048\n",
      "Validation mae: 13.536269\n",
      "Validation mape: 0.15817022\n",
      "Validation acc: 0.21130961179733276\n"
     ]
    },
    {
     "name": "stderr",
     "output_type": "stream",
     "text": [
      "<ipython-input-6-5c6a0450ba2d>:85: DeprecationWarning: np.asscalar(a) is deprecated since NumPy v1.16, use a.item() instead\n",
      "  validation_losses.append(np.asscalar(val_loss.detach().cpu().numpy()))\n"
     ]
    },
    {
     "name": "stdout",
     "output_type": "stream",
     "text": [
      "epoch: 28\n",
      "Training loss: 1615.9097973676564\n",
      "Training rmse: 64.29053\n",
      "Validation loss: 19006.94140625\n",
      "Validation rmse: 17.666392966015657\n",
      "Validation mae: 13.999995\n",
      "Validation mape: 0.17523883\n",
      "Validation acc: 0.21725994348526\n"
     ]
    },
    {
     "name": "stderr",
     "output_type": "stream",
     "text": [
      "<ipython-input-6-5c6a0450ba2d>:85: DeprecationWarning: np.asscalar(a) is deprecated since NumPy v1.16, use a.item() instead\n",
      "  validation_losses.append(np.asscalar(val_loss.detach().cpu().numpy()))\n"
     ]
    },
    {
     "name": "stdout",
     "output_type": "stream",
     "text": [
      "epoch: 29\n",
      "Training loss: 1594.917761580491\n",
      "Training rmse: 64.114\n",
      "Validation loss: 17932.8203125\n",
      "Validation rmse: 17.159947731632045\n",
      "Validation mae: 13.407232\n",
      "Validation mape: 0.16561636\n",
      "Validation acc: 0.24843651056289673\n"
     ]
    },
    {
     "name": "stderr",
     "output_type": "stream",
     "text": [
      "<ipython-input-6-5c6a0450ba2d>:85: DeprecationWarning: np.asscalar(a) is deprecated since NumPy v1.16, use a.item() instead\n",
      "  validation_losses.append(np.asscalar(val_loss.detach().cpu().numpy()))\n"
     ]
    },
    {
     "name": "stdout",
     "output_type": "stream",
     "text": [
      "epoch: 30\n",
      "Training loss: 1591.7545322431886\n",
      "Training rmse: 64.085655\n",
      "Validation loss: 18363.125\n",
      "Validation rmse: 17.36460422757941\n",
      "Validation mae: 13.146284\n",
      "Validation mape: 0.15285835\n",
      "Validation acc: 0.24930119514465332\n"
     ]
    },
    {
     "name": "stderr",
     "output_type": "stream",
     "text": [
      "<ipython-input-6-5c6a0450ba2d>:85: DeprecationWarning: np.asscalar(a) is deprecated since NumPy v1.16, use a.item() instead\n",
      "  validation_losses.append(np.asscalar(val_loss.detach().cpu().numpy()))\n"
     ]
    },
    {
     "name": "stdout",
     "output_type": "stream",
     "text": [
      "epoch: 31\n",
      "Training loss: 1591.3780307564684\n",
      "Training rmse: 64.081215\n",
      "Validation loss: 22033.3203125\n",
      "Validation rmse: 19.020925944319767\n",
      "Validation mae: 15.364392\n",
      "Validation mape: 0.19800095\n",
      "Validation acc: 0.1919805407524109\n"
     ]
    },
    {
     "name": "stderr",
     "output_type": "stream",
     "text": [
      "<ipython-input-6-5c6a0450ba2d>:85: DeprecationWarning: np.asscalar(a) is deprecated since NumPy v1.16, use a.item() instead\n",
      "  validation_losses.append(np.asscalar(val_loss.detach().cpu().numpy()))\n"
     ]
    },
    {
     "name": "stdout",
     "output_type": "stream",
     "text": [
      "epoch: 32\n",
      "Training loss: 1574.4415310548625\n",
      "Training rmse: 63.933426\n",
      "Validation loss: 18260.798828125\n",
      "Validation rmse: 17.316148504313468\n",
      "Validation mae: 13.629314\n",
      "Validation mape: 0.17073768\n",
      "Validation acc: 0.2523459792137146\n"
     ]
    },
    {
     "name": "stderr",
     "output_type": "stream",
     "text": [
      "<ipython-input-6-5c6a0450ba2d>:85: DeprecationWarning: np.asscalar(a) is deprecated since NumPy v1.16, use a.item() instead\n",
      "  validation_losses.append(np.asscalar(val_loss.detach().cpu().numpy()))\n"
     ]
    },
    {
     "name": "stdout",
     "output_type": "stream",
     "text": [
      "epoch: 33\n",
      "Training loss: 1573.2760202277946\n",
      "Training rmse: 63.92422\n",
      "Validation loss: 18744.12890625\n",
      "Validation rmse: 17.543813735634135\n",
      "Validation mae: 14.006809\n",
      "Validation mape: 0.17836715\n",
      "Validation acc: 0.26062965393066406\n"
     ]
    },
    {
     "name": "stderr",
     "output_type": "stream",
     "text": [
      "<ipython-input-6-5c6a0450ba2d>:85: DeprecationWarning: np.asscalar(a) is deprecated since NumPy v1.16, use a.item() instead\n",
      "  validation_losses.append(np.asscalar(val_loss.detach().cpu().numpy()))\n"
     ]
    },
    {
     "name": "stdout",
     "output_type": "stream",
     "text": [
      "epoch: 34\n",
      "Training loss: 1577.3950917233703\n",
      "Training rmse: 63.95815\n",
      "Validation loss: 18362.44140625\n",
      "Validation rmse: 17.36426679219335\n",
      "Validation mae: 13.751787\n",
      "Validation mape: 0.17360501\n",
      "Validation acc: 0.25953763723373413\n"
     ]
    },
    {
     "name": "stderr",
     "output_type": "stream",
     "text": [
      "<ipython-input-6-5c6a0450ba2d>:85: DeprecationWarning: np.asscalar(a) is deprecated since NumPy v1.16, use a.item() instead\n",
      "  validation_losses.append(np.asscalar(val_loss.detach().cpu().numpy()))\n"
     ]
    },
    {
     "name": "stdout",
     "output_type": "stream",
     "text": [
      "epoch: 35\n",
      "Training loss: 1546.1080611034106\n",
      "Training rmse: 63.69187\n",
      "Validation loss: 18456.326171875\n",
      "Validation rmse: 17.408599201885114\n",
      "Validation mae: 13.2575035\n",
      "Validation mape: 0.15511413\n",
      "Validation acc: 0.23847222328186035\n"
     ]
    },
    {
     "name": "stderr",
     "output_type": "stream",
     "text": [
      "<ipython-input-6-5c6a0450ba2d>:85: DeprecationWarning: np.asscalar(a) is deprecated since NumPy v1.16, use a.item() instead\n",
      "  validation_losses.append(np.asscalar(val_loss.detach().cpu().numpy()))\n"
     ]
    },
    {
     "name": "stdout",
     "output_type": "stream",
     "text": [
      "epoch: 36\n",
      "Training loss: 1537.3133528514575\n",
      "Training rmse: 63.616787\n",
      "Validation loss: 17433.041015625\n",
      "Validation rmse: 16.919111003202026\n",
      "Validation mae: 13.175018\n",
      "Validation mape: 0.16185775\n",
      "Validation acc: 0.26407390832901\n"
     ]
    },
    {
     "name": "stderr",
     "output_type": "stream",
     "text": [
      "<ipython-input-6-5c6a0450ba2d>:85: DeprecationWarning: np.asscalar(a) is deprecated since NumPy v1.16, use a.item() instead\n",
      "  validation_losses.append(np.asscalar(val_loss.detach().cpu().numpy()))\n"
     ]
    },
    {
     "name": "stdout",
     "output_type": "stream",
     "text": [
      "epoch: 37\n",
      "Training loss: 1539.878172406159\n",
      "Training rmse: 63.6364\n",
      "Validation loss: 17674.24609375\n",
      "Validation rmse: 17.0357532392241\n",
      "Validation mae: 13.2992525\n",
      "Validation mape: 0.16431312\n",
      "Validation acc: 0.25812047719955444\n"
     ]
    },
    {
     "name": "stderr",
     "output_type": "stream",
     "text": [
      "<ipython-input-6-5c6a0450ba2d>:85: DeprecationWarning: np.asscalar(a) is deprecated since NumPy v1.16, use a.item() instead\n",
      "  validation_losses.append(np.asscalar(val_loss.detach().cpu().numpy()))\n"
     ]
    },
    {
     "name": "stdout",
     "output_type": "stream",
     "text": [
      "epoch: 38\n",
      "Training loss: 1535.6229729327677\n",
      "Training rmse: 63.60178\n",
      "Validation loss: 17350.25390625\n",
      "Validation rmse: 16.87888138956165\n",
      "Validation mae: 12.947701\n",
      "Validation mape: 0.15536739\n",
      "Validation acc: 0.26559823751449585\n"
     ]
    },
    {
     "name": "stderr",
     "output_type": "stream",
     "text": [
      "<ipython-input-6-5c6a0450ba2d>:85: DeprecationWarning: np.asscalar(a) is deprecated since NumPy v1.16, use a.item() instead\n",
      "  validation_losses.append(np.asscalar(val_loss.detach().cpu().numpy()))\n"
     ]
    },
    {
     "name": "stdout",
     "output_type": "stream",
     "text": [
      "epoch: 39\n",
      "Training loss: 1518.8060354143915\n",
      "Training rmse: 63.454105\n",
      "Validation loss: 19080.8671875\n",
      "Validation rmse: 17.700674373904956\n",
      "Validation mae: 14.130641\n",
      "Validation mape: 0.18028851\n",
      "Validation acc: 0.25284093618392944\n"
     ]
    },
    {
     "name": "stderr",
     "output_type": "stream",
     "text": [
      "<ipython-input-6-5c6a0450ba2d>:85: DeprecationWarning: np.asscalar(a) is deprecated since NumPy v1.16, use a.item() instead\n",
      "  validation_losses.append(np.asscalar(val_loss.detach().cpu().numpy()))\n"
     ]
    },
    {
     "name": "stdout",
     "output_type": "stream",
     "text": [
      "epoch: 40\n",
      "Training loss: 1524.385016875455\n",
      "Training rmse: 63.502926\n",
      "Validation loss: 20882.134765625\n",
      "Validation rmse: 18.51732257513387\n",
      "Validation mae: 15.032401\n",
      "Validation mape: 0.19583553\n",
      "Validation acc: 0.26450222730636597\n"
     ]
    },
    {
     "name": "stderr",
     "output_type": "stream",
     "text": [
      "<ipython-input-6-5c6a0450ba2d>:85: DeprecationWarning: np.asscalar(a) is deprecated since NumPy v1.16, use a.item() instead\n",
      "  validation_losses.append(np.asscalar(val_loss.detach().cpu().numpy()))\n"
     ]
    },
    {
     "name": "stdout",
     "output_type": "stream",
     "text": [
      "epoch: 41\n",
      "Training loss: 1515.2351494245631\n",
      "Training rmse: 63.424923\n",
      "Validation loss: 20530.09375\n",
      "Validation rmse: 18.36056428993733\n",
      "Validation mae: 14.849423\n",
      "Validation mape: 0.19275507\n",
      "Validation acc: 0.26812970638275146\n"
     ]
    },
    {
     "name": "stderr",
     "output_type": "stream",
     "text": [
      "<ipython-input-6-5c6a0450ba2d>:85: DeprecationWarning: np.asscalar(a) is deprecated since NumPy v1.16, use a.item() instead\n",
      "  validation_losses.append(np.asscalar(val_loss.detach().cpu().numpy()))\n"
     ]
    },
    {
     "name": "stdout",
     "output_type": "stream",
     "text": [
      "epoch: 42\n",
      "Training loss: 1512.2308236945914\n",
      "Training rmse: 63.393738\n",
      "Validation loss: 17258.5625\n",
      "Validation rmse: 16.834194551601566\n",
      "Validation mae: 13.017718\n",
      "Validation mape: 0.15910746\n",
      "Validation acc: 0.2696383595466614\n"
     ]
    },
    {
     "name": "stderr",
     "output_type": "stream",
     "text": [
      "<ipython-input-6-5c6a0450ba2d>:85: DeprecationWarning: np.asscalar(a) is deprecated since NumPy v1.16, use a.item() instead\n",
      "  validation_losses.append(np.asscalar(val_loss.detach().cpu().numpy()))\n"
     ]
    },
    {
     "name": "stdout",
     "output_type": "stream",
     "text": [
      "epoch: 43\n",
      "Training loss: 1486.192142937773\n",
      "Training rmse: 63.16667\n",
      "Validation loss: 17415.380859375\n",
      "Validation rmse: 16.910495077022436\n",
      "Validation mae: 12.861385\n",
      "Validation mape: 0.15293258\n",
      "Validation acc: 0.2666938900947571\n"
     ]
    },
    {
     "name": "stderr",
     "output_type": "stream",
     "text": [
      "<ipython-input-6-5c6a0450ba2d>:85: DeprecationWarning: np.asscalar(a) is deprecated since NumPy v1.16, use a.item() instead\n",
      "  validation_losses.append(np.asscalar(val_loss.detach().cpu().numpy()))\n"
     ]
    },
    {
     "name": "stdout",
     "output_type": "stream",
     "text": [
      "epoch: 44\n",
      "Training loss: 1486.6463748836175\n",
      "Training rmse: 63.1722\n",
      "Validation loss: 18037.576171875\n",
      "Validation rmse: 17.209919681660885\n",
      "Validation mae: 13.031613\n",
      "Validation mape: 0.15167257\n",
      "Validation acc: 0.2614772915840149\n"
     ]
    },
    {
     "name": "stderr",
     "output_type": "stream",
     "text": [
      "<ipython-input-6-5c6a0450ba2d>:85: DeprecationWarning: np.asscalar(a) is deprecated since NumPy v1.16, use a.item() instead\n",
      "  validation_losses.append(np.asscalar(val_loss.detach().cpu().numpy()))\n"
     ]
    },
    {
     "name": "stdout",
     "output_type": "stream",
     "text": [
      "epoch: 45\n",
      "Training loss: 1474.6565348307292\n",
      "Training rmse: 63.062378\n",
      "Validation loss: 17777.875\n",
      "Validation rmse: 17.085567768633343\n",
      "Validation mae: 13.406843\n",
      "Validation mape: 0.16780575\n",
      "Validation acc: 0.2669074535369873\n"
     ]
    },
    {
     "name": "stderr",
     "output_type": "stream",
     "text": [
      "<ipython-input-6-5c6a0450ba2d>:85: DeprecationWarning: np.asscalar(a) is deprecated since NumPy v1.16, use a.item() instead\n",
      "  validation_losses.append(np.asscalar(val_loss.detach().cpu().numpy()))\n"
     ]
    },
    {
     "name": "stdout",
     "output_type": "stream",
     "text": [
      "epoch: 46\n",
      "Training loss: 1477.397251908497\n",
      "Training rmse: 63.08584\n",
      "Validation loss: 17346.48828125\n",
      "Validation rmse: 16.87698917674225\n",
      "Validation mae: 12.920945\n",
      "Validation mape: 0.15547252\n",
      "Validation acc: 0.26496046781539917\n"
     ]
    },
    {
     "name": "stderr",
     "output_type": "stream",
     "text": [
      "<ipython-input-6-5c6a0450ba2d>:85: DeprecationWarning: np.asscalar(a) is deprecated since NumPy v1.16, use a.item() instead\n",
      "  validation_losses.append(np.asscalar(val_loss.detach().cpu().numpy()))\n"
     ]
    },
    {
     "name": "stdout",
     "output_type": "stream",
     "text": [
      "epoch: 47\n",
      "Training loss: 1465.9307957584285\n",
      "Training rmse: 62.985367\n",
      "Validation loss: 18198.5703125\n",
      "Validation rmse: 17.2865319897434\n",
      "Validation mae: 13.614453\n",
      "Validation mape: 0.17184055\n",
      "Validation acc: 0.264695405960083\n"
     ]
    },
    {
     "name": "stderr",
     "output_type": "stream",
     "text": [
      "<ipython-input-6-5c6a0450ba2d>:85: DeprecationWarning: np.asscalar(a) is deprecated since NumPy v1.16, use a.item() instead\n",
      "  validation_losses.append(np.asscalar(val_loss.detach().cpu().numpy()))\n"
     ]
    },
    {
     "name": "stdout",
     "output_type": "stream",
     "text": [
      "epoch: 48\n",
      "Training loss: 1462.3556634499607\n",
      "Training rmse: 62.951557\n",
      "Validation loss: 18125.1015625\n",
      "Validation rmse: 17.251595685934028\n",
      "Validation mae: 13.488171\n",
      "Validation mape: 0.16904666\n",
      "Validation acc: 0.2580956816673279\n"
     ]
    },
    {
     "name": "stderr",
     "output_type": "stream",
     "text": [
      "<ipython-input-6-5c6a0450ba2d>:85: DeprecationWarning: np.asscalar(a) is deprecated since NumPy v1.16, use a.item() instead\n",
      "  validation_losses.append(np.asscalar(val_loss.detach().cpu().numpy()))\n"
     ]
    },
    {
     "name": "stdout",
     "output_type": "stream",
     "text": [
      "epoch: 49\n",
      "Training loss: 1455.9988769750014\n",
      "Training rmse: 62.89452\n",
      "Validation loss: 17634.220703125\n",
      "Validation rmse: 17.016367494130833\n",
      "Validation mae: 13.215283\n",
      "Validation mape: 0.16445725\n",
      "Validation acc: 0.26904159784317017\n"
     ]
    },
    {
     "name": "stderr",
     "output_type": "stream",
     "text": [
      "<ipython-input-6-5c6a0450ba2d>:85: DeprecationWarning: np.asscalar(a) is deprecated since NumPy v1.16, use a.item() instead\n",
      "  validation_losses.append(np.asscalar(val_loss.detach().cpu().numpy()))\n"
     ]
    },
    {
     "name": "stdout",
     "output_type": "stream",
     "text": [
      "epoch: 50\n",
      "Training loss: 1459.3199561334425\n",
      "Training rmse: 62.92653\n",
      "Validation loss: 18234.68359375\n",
      "Validation rmse: 17.303654914169776\n",
      "Validation mae: 13.09801\n",
      "Validation mape: 0.1537764\n",
      "Validation acc: 0.24306273460388184\n"
     ]
    },
    {
     "name": "stderr",
     "output_type": "stream",
     "text": [
      "<ipython-input-6-5c6a0450ba2d>:85: DeprecationWarning: np.asscalar(a) is deprecated since NumPy v1.16, use a.item() instead\n",
      "  validation_losses.append(np.asscalar(val_loss.detach().cpu().numpy()))\n"
     ]
    },
    {
     "name": "stdout",
     "output_type": "stream",
     "text": [
      "epoch: 51\n",
      "Training loss: 1448.265384250217\n",
      "Training rmse: 62.827694\n",
      "Validation loss: 17879.73046875\n",
      "Validation rmse: 17.134403069692492\n",
      "Validation mae: 13.290614\n",
      "Validation mape: 0.16474704\n",
      "Validation acc: 0.2538476586341858\n"
     ]
    },
    {
     "name": "stderr",
     "output_type": "stream",
     "text": [
      "<ipython-input-6-5c6a0450ba2d>:85: DeprecationWarning: np.asscalar(a) is deprecated since NumPy v1.16, use a.item() instead\n",
      "  validation_losses.append(np.asscalar(val_loss.detach().cpu().numpy()))\n"
     ]
    },
    {
     "name": "stdout",
     "output_type": "stream",
     "text": [
      "epoch: 52\n",
      "Training loss: 1440.2760294158827\n",
      "Training rmse: 62.753277\n",
      "Validation loss: 17423.203125\n",
      "Validation rmse: 16.914230296511796\n",
      "Validation mae: 12.978486\n",
      "Validation mape: 0.15880415\n",
      "Validation acc: 0.26379865407943726\n"
     ]
    },
    {
     "name": "stderr",
     "output_type": "stream",
     "text": [
      "<ipython-input-6-5c6a0450ba2d>:85: DeprecationWarning: np.asscalar(a) is deprecated since NumPy v1.16, use a.item() instead\n",
      "  validation_losses.append(np.asscalar(val_loss.detach().cpu().numpy()))\n"
     ]
    },
    {
     "name": "stdout",
     "output_type": "stream",
     "text": [
      "epoch: 53\n",
      "Training loss: 1436.1292351616753\n",
      "Training rmse: 62.71601\n",
      "Validation loss: 17743.88671875\n",
      "Validation rmse: 17.069175448400582\n",
      "Validation mae: 13.245718\n",
      "Validation mape: 0.1646422\n",
      "Validation acc: 0.26234501600265503\n"
     ]
    },
    {
     "name": "stderr",
     "output_type": "stream",
     "text": [
      "<ipython-input-6-5c6a0450ba2d>:85: DeprecationWarning: np.asscalar(a) is deprecated since NumPy v1.16, use a.item() instead\n",
      "  validation_losses.append(np.asscalar(val_loss.detach().cpu().numpy()))\n"
     ]
    },
    {
     "name": "stdout",
     "output_type": "stream",
     "text": [
      "epoch: 54\n",
      "Training loss: 1436.710175326221\n",
      "Training rmse: 62.723526\n",
      "Validation loss: 18430.1015625\n",
      "Validation rmse: 17.396107977185768\n",
      "Validation mae: 13.151306\n",
      "Validation mape: 0.15255089\n",
      "Validation acc: 0.24927163124084473\n"
     ]
    },
    {
     "name": "stderr",
     "output_type": "stream",
     "text": [
      "<ipython-input-6-5c6a0450ba2d>:85: DeprecationWarning: np.asscalar(a) is deprecated since NumPy v1.16, use a.item() instead\n",
      "  validation_losses.append(np.asscalar(val_loss.detach().cpu().numpy()))\n"
     ]
    },
    {
     "name": "stdout",
     "output_type": "stream",
     "text": [
      "epoch: 55\n",
      "Training loss: 1431.1606213422658\n",
      "Training rmse: 62.673225\n",
      "Validation loss: 18572.576171875\n",
      "Validation rmse: 17.463213812752848\n",
      "Validation mae: 13.132394\n",
      "Validation mape: 0.15135245\n",
      "Validation acc: 0.25475507974624634\n"
     ]
    },
    {
     "name": "stderr",
     "output_type": "stream",
     "text": [
      "<ipython-input-6-5c6a0450ba2d>:85: DeprecationWarning: np.asscalar(a) is deprecated since NumPy v1.16, use a.item() instead\n",
      "  validation_losses.append(np.asscalar(val_loss.detach().cpu().numpy()))\n"
     ]
    },
    {
     "name": "stdout",
     "output_type": "stream",
     "text": [
      "epoch: 56\n",
      "Training loss: 1427.1075497425586\n",
      "Training rmse: 62.63904\n",
      "Validation loss: 20354.142578125\n",
      "Validation rmse: 18.281624762451454\n",
      "Validation mae: 13.726906\n",
      "Validation mape: 0.15399534\n",
      "Validation acc: 0.24527275562286377\n"
     ]
    },
    {
     "name": "stderr",
     "output_type": "stream",
     "text": [
      "<ipython-input-6-5c6a0450ba2d>:85: DeprecationWarning: np.asscalar(a) is deprecated since NumPy v1.16, use a.item() instead\n",
      "  validation_losses.append(np.asscalar(val_loss.detach().cpu().numpy()))\n"
     ]
    },
    {
     "name": "stdout",
     "output_type": "stream",
     "text": [
      "epoch: 57\n",
      "Training loss: 1420.2749728951403\n",
      "Training rmse: 62.57618\n",
      "Validation loss: 17585.484375\n",
      "Validation rmse: 16.99279003960439\n",
      "Validation mae: 13.1191435\n",
      "Validation mape: 0.16177115\n",
      "Validation acc: 0.26160144805908203\n"
     ]
    },
    {
     "name": "stderr",
     "output_type": "stream",
     "text": [
      "<ipython-input-6-5c6a0450ba2d>:85: DeprecationWarning: np.asscalar(a) is deprecated since NumPy v1.16, use a.item() instead\n",
      "  validation_losses.append(np.asscalar(val_loss.detach().cpu().numpy()))\n"
     ]
    },
    {
     "name": "stdout",
     "output_type": "stream",
     "text": [
      "epoch: 58\n",
      "Training loss: 1408.2331071532328\n",
      "Training rmse: 62.46801\n",
      "Validation loss: 17620.6328125\n",
      "Validation rmse: 17.009761027564252\n",
      "Validation mae: 13.113055\n",
      "Validation mape: 0.16104996\n",
      "Validation acc: 0.2568702697753906\n"
     ]
    },
    {
     "name": "stderr",
     "output_type": "stream",
     "text": [
      "<ipython-input-6-5c6a0450ba2d>:85: DeprecationWarning: np.asscalar(a) is deprecated since NumPy v1.16, use a.item() instead\n",
      "  validation_losses.append(np.asscalar(val_loss.detach().cpu().numpy()))\n"
     ]
    },
    {
     "name": "stdout",
     "output_type": "stream",
     "text": [
      "epoch: 59\n",
      "Training loss: 1413.9876716641115\n",
      "Training rmse: 62.51907\n",
      "Validation loss: 17652.78515625\n",
      "Validation rmse: 17.0252650392939\n",
      "Validation mae: 12.969846\n",
      "Validation mape: 0.15473717\n",
      "Validation acc: 0.2547743320465088\n"
     ]
    },
    {
     "name": "stderr",
     "output_type": "stream",
     "text": [
      "<ipython-input-6-5c6a0450ba2d>:85: DeprecationWarning: np.asscalar(a) is deprecated since NumPy v1.16, use a.item() instead\n",
      "  validation_losses.append(np.asscalar(val_loss.detach().cpu().numpy()))\n"
     ]
    },
    {
     "name": "stdout",
     "output_type": "stream",
     "text": [
      "epoch: 60\n",
      "Training loss: 1401.8804926171524\n",
      "Training rmse: 62.40888\n",
      "Validation loss: 17564.865234375\n",
      "Validation rmse: 16.98280541994286\n",
      "Validation mae: 12.965054\n",
      "Validation mape: 0.15628943\n",
      "Validation acc: 0.25529390573501587\n"
     ]
    },
    {
     "name": "stderr",
     "output_type": "stream",
     "text": [
      "<ipython-input-6-5c6a0450ba2d>:85: DeprecationWarning: np.asscalar(a) is deprecated since NumPy v1.16, use a.item() instead\n",
      "  validation_losses.append(np.asscalar(val_loss.detach().cpu().numpy()))\n"
     ]
    },
    {
     "name": "stdout",
     "output_type": "stream",
     "text": [
      "epoch: 61\n",
      "Training loss: 1404.9788432240914\n",
      "Training rmse: 62.433018\n",
      "Validation loss: 17583.248046875\n",
      "Validation rmse: 16.99168282296518\n",
      "Validation mae: 13.063221\n",
      "Validation mape: 0.160327\n",
      "Validation acc: 0.2584131956100464\n"
     ]
    },
    {
     "name": "stderr",
     "output_type": "stream",
     "text": [
      "<ipython-input-6-5c6a0450ba2d>:85: DeprecationWarning: np.asscalar(a) is deprecated since NumPy v1.16, use a.item() instead\n",
      "  validation_losses.append(np.asscalar(val_loss.detach().cpu().numpy()))\n"
     ]
    },
    {
     "name": "stdout",
     "output_type": "stream",
     "text": [
      "epoch: 62\n",
      "Training loss: 1397.1676289001246\n",
      "Training rmse: 62.361786\n",
      "Validation loss: 19018.099609375\n",
      "Validation rmse: 17.67138628026693\n",
      "Validation mae: 13.897558\n",
      "Validation mape: 0.1769854\n",
      "Validation acc: 0.259462833404541\n"
     ]
    },
    {
     "name": "stderr",
     "output_type": "stream",
     "text": [
      "<ipython-input-6-5c6a0450ba2d>:85: DeprecationWarning: np.asscalar(a) is deprecated since NumPy v1.16, use a.item() instead\n",
      "  validation_losses.append(np.asscalar(val_loss.detach().cpu().numpy()))\n"
     ]
    },
    {
     "name": "stdout",
     "output_type": "stream",
     "text": [
      "epoch: 63\n",
      "Training loss: 1389.9866572554392\n",
      "Training rmse: 62.299145\n",
      "Validation loss: 18181.76953125\n",
      "Validation rmse: 17.278445466371533\n",
      "Validation mae: 13.448911\n",
      "Validation mape: 0.16858798\n",
      "Validation acc: 0.2562900185585022\n"
     ]
    },
    {
     "name": "stderr",
     "output_type": "stream",
     "text": [
      "<ipython-input-6-5c6a0450ba2d>:85: DeprecationWarning: np.asscalar(a) is deprecated since NumPy v1.16, use a.item() instead\n",
      "  validation_losses.append(np.asscalar(val_loss.detach().cpu().numpy()))\n"
     ]
    },
    {
     "name": "stdout",
     "output_type": "stream",
     "text": [
      "epoch: 64\n",
      "Training loss: 1389.3470283973174\n",
      "Training rmse: 62.29436\n",
      "Validation loss: 18189.466796875\n",
      "Validation rmse: 17.28209409669984\n",
      "Validation mae: 13.462482\n",
      "Validation mape: 0.16881356\n",
      "Validation acc: 0.2561050057411194\n"
     ]
    },
    {
     "name": "stderr",
     "output_type": "stream",
     "text": [
      "<ipython-input-6-5c6a0450ba2d>:85: DeprecationWarning: np.asscalar(a) is deprecated since NumPy v1.16, use a.item() instead\n",
      "  validation_losses.append(np.asscalar(val_loss.detach().cpu().numpy()))\n"
     ]
    },
    {
     "name": "stdout",
     "output_type": "stream",
     "text": [
      "epoch: 65\n",
      "Training loss: 1382.2742616933733\n",
      "Training rmse: 62.227264\n",
      "Validation loss: 17534.62890625\n",
      "Validation rmse: 16.968138513383693\n",
      "Validation mae: 13.009507\n",
      "Validation mape: 0.15864496\n",
      "Validation acc: 0.2575896978378296\n"
     ]
    },
    {
     "name": "stderr",
     "output_type": "stream",
     "text": [
      "<ipython-input-6-5c6a0450ba2d>:85: DeprecationWarning: np.asscalar(a) is deprecated since NumPy v1.16, use a.item() instead\n",
      "  validation_losses.append(np.asscalar(val_loss.detach().cpu().numpy()))\n"
     ]
    },
    {
     "name": "stdout",
     "output_type": "stream",
     "text": [
      "epoch: 66\n",
      "Training loss: 1382.4185861020105\n",
      "Training rmse: 62.2267\n",
      "Validation loss: 20604.740234375\n",
      "Validation rmse: 18.393751061841627\n",
      "Validation mae: 14.768594\n",
      "Validation mape: 0.19180353\n",
      "Validation acc: 0.26084381341934204\n"
     ]
    },
    {
     "name": "stderr",
     "output_type": "stream",
     "text": [
      "<ipython-input-6-5c6a0450ba2d>:85: DeprecationWarning: np.asscalar(a) is deprecated since NumPy v1.16, use a.item() instead\n",
      "  validation_losses.append(np.asscalar(val_loss.detach().cpu().numpy()))\n"
     ]
    },
    {
     "name": "stdout",
     "output_type": "stream",
     "text": [
      "epoch: 67\n",
      "Training loss: 1379.9742513677124\n",
      "Training rmse: 62.204563\n",
      "Validation loss: 17507.232421875\n",
      "Validation rmse: 16.954861122221796\n",
      "Validation mae: 13.02638\n",
      "Validation mape: 0.15893446\n",
      "Validation acc: 0.2588214874267578\n"
     ]
    },
    {
     "name": "stderr",
     "output_type": "stream",
     "text": [
      "<ipython-input-6-5c6a0450ba2d>:85: DeprecationWarning: np.asscalar(a) is deprecated since NumPy v1.16, use a.item() instead\n",
      "  validation_losses.append(np.asscalar(val_loss.detach().cpu().numpy()))\n"
     ]
    },
    {
     "name": "stdout",
     "output_type": "stream",
     "text": [
      "epoch: 68\n",
      "Training loss: 1363.421400829028\n",
      "Training rmse: 62.052567\n",
      "Validation loss: 17592.298828125\n",
      "Validation rmse: 16.99599544257365\n",
      "Validation mae: 13.063611\n",
      "Validation mape: 0.15925021\n",
      "Validation acc: 0.25488221645355225\n"
     ]
    },
    {
     "name": "stderr",
     "output_type": "stream",
     "text": [
      "<ipython-input-6-5c6a0450ba2d>:85: DeprecationWarning: np.asscalar(a) is deprecated since NumPy v1.16, use a.item() instead\n",
      "  validation_losses.append(np.asscalar(val_loss.detach().cpu().numpy()))\n"
     ]
    },
    {
     "name": "stdout",
     "output_type": "stream",
     "text": [
      "epoch: 69\n",
      "Training loss: 1365.804424655053\n",
      "Training rmse: 62.072792\n",
      "Validation loss: 17459.447265625\n",
      "Validation rmse: 16.931690979457077\n",
      "Validation mae: 13.0485935\n",
      "Validation mape: 0.16086097\n",
      "Validation acc: 0.2659773826599121\n"
     ]
    },
    {
     "name": "stderr",
     "output_type": "stream",
     "text": [
      "<ipython-input-6-5c6a0450ba2d>:85: DeprecationWarning: np.asscalar(a) is deprecated since NumPy v1.16, use a.item() instead\n",
      "  validation_losses.append(np.asscalar(val_loss.detach().cpu().numpy()))\n"
     ]
    },
    {
     "name": "stdout",
     "output_type": "stream",
     "text": [
      "epoch: 70\n",
      "Training loss: 1357.9030571394069\n",
      "Training rmse: 62.000454\n",
      "Validation loss: 17489.275390625\n",
      "Validation rmse: 16.946142715369994\n",
      "Validation mae: 12.893083\n",
      "Validation mape: 0.15428478\n",
      "Validation acc: 0.26059430837631226\n"
     ]
    },
    {
     "name": "stderr",
     "output_type": "stream",
     "text": [
      "<ipython-input-6-5c6a0450ba2d>:85: DeprecationWarning: np.asscalar(a) is deprecated since NumPy v1.16, use a.item() instead\n",
      "  validation_losses.append(np.asscalar(val_loss.detach().cpu().numpy()))\n"
     ]
    },
    {
     "name": "stdout",
     "output_type": "stream",
     "text": [
      "epoch: 71\n",
      "Training loss: 1350.083216950885\n",
      "Training rmse: 61.929897\n",
      "Validation loss: 17560.50390625\n",
      "Validation rmse: 16.980612976009308\n",
      "Validation mae: 12.897731\n",
      "Validation mape: 0.15382555\n",
      "Validation acc: 0.25918495655059814\n"
     ]
    },
    {
     "name": "stderr",
     "output_type": "stream",
     "text": [
      "<ipython-input-6-5c6a0450ba2d>:85: DeprecationWarning: np.asscalar(a) is deprecated since NumPy v1.16, use a.item() instead\n",
      "  validation_losses.append(np.asscalar(val_loss.detach().cpu().numpy()))\n"
     ]
    },
    {
     "name": "stdout",
     "output_type": "stream",
     "text": [
      "epoch: 72\n",
      "Training loss: 1356.0473733443941\n",
      "Training rmse: 61.98376\n",
      "Validation loss: 17474.455078125\n",
      "Validation rmse: 16.938947665012925\n",
      "Validation mae: 13.005523\n",
      "Validation mape: 0.15954432\n",
      "Validation acc: 0.2626765966415405\n"
     ]
    },
    {
     "name": "stderr",
     "output_type": "stream",
     "text": [
      "<ipython-input-6-5c6a0450ba2d>:85: DeprecationWarning: np.asscalar(a) is deprecated since NumPy v1.16, use a.item() instead\n",
      "  validation_losses.append(np.asscalar(val_loss.detach().cpu().numpy()))\n"
     ]
    },
    {
     "name": "stdout",
     "output_type": "stream",
     "text": [
      "epoch: 73\n",
      "Training loss: 1347.2900886125462\n",
      "Training rmse: 61.90475\n",
      "Validation loss: 18537.095703125\n",
      "Validation rmse: 17.446399673636552\n",
      "Validation mae: 13.677437\n",
      "Validation mape: 0.17326126\n",
      "Validation acc: 0.26275694370269775\n"
     ]
    },
    {
     "name": "stderr",
     "output_type": "stream",
     "text": [
      "<ipython-input-6-5c6a0450ba2d>:85: DeprecationWarning: np.asscalar(a) is deprecated since NumPy v1.16, use a.item() instead\n",
      "  validation_losses.append(np.asscalar(val_loss.detach().cpu().numpy()))\n"
     ]
    },
    {
     "name": "stdout",
     "output_type": "stream",
     "text": [
      "epoch: 74\n",
      "Training loss: 1340.2108765742257\n",
      "Training rmse: 61.83395\n",
      "Validation loss: 17506.208984375\n",
      "Validation rmse: 16.95432293434655\n",
      "Validation mae: 12.91061\n",
      "Validation mape: 0.15498693\n",
      "Validation acc: 0.25872528553009033\n"
     ]
    },
    {
     "name": "stderr",
     "output_type": "stream",
     "text": [
      "<ipython-input-6-5c6a0450ba2d>:85: DeprecationWarning: np.asscalar(a) is deprecated since NumPy v1.16, use a.item() instead\n",
      "  validation_losses.append(np.asscalar(val_loss.detach().cpu().numpy()))\n"
     ]
    },
    {
     "name": "stdout",
     "output_type": "stream",
     "text": [
      "epoch: 75\n",
      "Training loss: 1345.9712781461762\n",
      "Training rmse: 61.88748\n",
      "Validation loss: 18116.783203125\n",
      "Validation rmse: 17.24745933509121\n",
      "Validation mae: 13.4475155\n",
      "Validation mape: 0.16941978\n",
      "Validation acc: 0.2681979537010193\n"
     ]
    },
    {
     "name": "stderr",
     "output_type": "stream",
     "text": [
      "<ipython-input-6-5c6a0450ba2d>:85: DeprecationWarning: np.asscalar(a) is deprecated since NumPy v1.16, use a.item() instead\n",
      "  validation_losses.append(np.asscalar(val_loss.detach().cpu().numpy()))\n"
     ]
    },
    {
     "name": "stdout",
     "output_type": "stream",
     "text": [
      "epoch: 76\n",
      "Training loss: 1334.6317640735258\n",
      "Training rmse: 61.783035\n",
      "Validation loss: 17913.21484375\n",
      "Validation rmse: 17.150277520873203\n",
      "Validation mae: 13.34372\n",
      "Validation mape: 0.16717571\n",
      "Validation acc: 0.2647753953933716\n"
     ]
    },
    {
     "name": "stderr",
     "output_type": "stream",
     "text": [
      "<ipython-input-6-5c6a0450ba2d>:85: DeprecationWarning: np.asscalar(a) is deprecated since NumPy v1.16, use a.item() instead\n",
      "  validation_losses.append(np.asscalar(val_loss.detach().cpu().numpy()))\n"
     ]
    },
    {
     "name": "stdout",
     "output_type": "stream",
     "text": [
      "epoch: 77\n",
      "Training loss: 1326.6066024944346\n",
      "Training rmse: 61.710648\n",
      "Validation loss: 17411.583984375\n",
      "Validation rmse: 16.90842681803773\n",
      "Validation mae: 12.965713\n",
      "Validation mape: 0.15938808\n",
      "Validation acc: 0.2664419412612915\n"
     ]
    },
    {
     "name": "stderr",
     "output_type": "stream",
     "text": [
      "<ipython-input-6-5c6a0450ba2d>:85: DeprecationWarning: np.asscalar(a) is deprecated since NumPy v1.16, use a.item() instead\n",
      "  validation_losses.append(np.asscalar(val_loss.detach().cpu().numpy()))\n"
     ]
    },
    {
     "name": "stdout",
     "output_type": "stream",
     "text": [
      "epoch: 78\n",
      "Training loss: 1322.0386079084062\n",
      "Training rmse: 61.667915\n",
      "Validation loss: 17545.798828125\n",
      "Validation rmse: 16.973467597839925\n",
      "Validation mae: 12.894587\n",
      "Validation mape: 0.15277629\n",
      "Validation acc: 0.26536571979522705\n"
     ]
    },
    {
     "name": "stderr",
     "output_type": "stream",
     "text": [
      "<ipython-input-6-5c6a0450ba2d>:85: DeprecationWarning: np.asscalar(a) is deprecated since NumPy v1.16, use a.item() instead\n",
      "  validation_losses.append(np.asscalar(val_loss.detach().cpu().numpy()))\n"
     ]
    },
    {
     "name": "stdout",
     "output_type": "stream",
     "text": [
      "epoch: 79\n",
      "Training loss: 1324.1876222890764\n",
      "Training rmse: 61.685757\n",
      "Validation loss: 17716.07421875\n",
      "Validation rmse: 17.055626906674743\n",
      "Validation mae: 13.207361\n",
      "Validation mape: 0.16420577\n",
      "Validation acc: 0.26335394382476807\n"
     ]
    },
    {
     "name": "stderr",
     "output_type": "stream",
     "text": [
      "<ipython-input-6-5c6a0450ba2d>:85: DeprecationWarning: np.asscalar(a) is deprecated since NumPy v1.16, use a.item() instead\n",
      "  validation_losses.append(np.asscalar(val_loss.detach().cpu().numpy()))\n"
     ]
    },
    {
     "name": "stdout",
     "output_type": "stream",
     "text": [
      "epoch: 80\n",
      "Training loss: 1319.442160438893\n",
      "Training rmse: 61.6428\n",
      "Validation loss: 17523.326171875\n",
      "Validation rmse: 16.96258376683443\n",
      "Validation mae: 12.873417\n",
      "Validation mape: 0.15203567\n",
      "Validation acc: 0.26919013261795044\n"
     ]
    },
    {
     "name": "stderr",
     "output_type": "stream",
     "text": [
      "<ipython-input-6-5c6a0450ba2d>:85: DeprecationWarning: np.asscalar(a) is deprecated since NumPy v1.16, use a.item() instead\n",
      "  validation_losses.append(np.asscalar(val_loss.detach().cpu().numpy()))\n"
     ]
    },
    {
     "name": "stdout",
     "output_type": "stream",
     "text": [
      "epoch: 81\n",
      "Training loss: 1316.5760372257575\n",
      "Training rmse: 61.61227\n",
      "Validation loss: 18418.234375\n",
      "Validation rmse: 17.39034159276035\n",
      "Validation mae: 13.647635\n",
      "Validation mape: 0.17303489\n",
      "Validation acc: 0.26774001121520996\n"
     ]
    },
    {
     "name": "stderr",
     "output_type": "stream",
     "text": [
      "<ipython-input-6-5c6a0450ba2d>:85: DeprecationWarning: np.asscalar(a) is deprecated since NumPy v1.16, use a.item() instead\n",
      "  validation_losses.append(np.asscalar(val_loss.detach().cpu().numpy()))\n"
     ]
    },
    {
     "name": "stdout",
     "output_type": "stream",
     "text": [
      "epoch: 82\n",
      "Training loss: 1318.0177657151307\n",
      "Training rmse: 61.625965\n",
      "Validation loss: 17359.09765625\n",
      "Validation rmse: 16.882898361361953\n",
      "Validation mae: 12.950632\n",
      "Validation mape: 0.15954754\n",
      "Validation acc: 0.2702958583831787\n"
     ]
    },
    {
     "name": "stderr",
     "output_type": "stream",
     "text": [
      "<ipython-input-6-5c6a0450ba2d>:85: DeprecationWarning: np.asscalar(a) is deprecated since NumPy v1.16, use a.item() instead\n",
      "  validation_losses.append(np.asscalar(val_loss.detach().cpu().numpy()))\n"
     ]
    },
    {
     "name": "stdout",
     "output_type": "stream",
     "text": [
      "epoch: 83\n",
      "Training loss: 1311.3588435128597\n",
      "Training rmse: 61.563625\n",
      "Validation loss: 17301.85546875\n",
      "Validation rmse: 16.855034666339776\n",
      "Validation mae: 12.838693\n",
      "Validation mape: 0.15425283\n",
      "Validation acc: 0.26771044731140137\n"
     ]
    },
    {
     "name": "stderr",
     "output_type": "stream",
     "text": [
      "<ipython-input-6-5c6a0450ba2d>:85: DeprecationWarning: np.asscalar(a) is deprecated since NumPy v1.16, use a.item() instead\n",
      "  validation_losses.append(np.asscalar(val_loss.detach().cpu().numpy()))\n"
     ]
    },
    {
     "name": "stdout",
     "output_type": "stream",
     "text": [
      "epoch: 84\n",
      "Training loss: 1310.1146748860676\n",
      "Training rmse: 61.5542\n",
      "Validation loss: 17250.896484375\n",
      "Validation rmse: 16.830194060940183\n",
      "Validation mae: 12.863958\n",
      "Validation mape: 0.15672669\n",
      "Validation acc: 0.26905351877212524\n"
     ]
    },
    {
     "name": "stderr",
     "output_type": "stream",
     "text": [
      "<ipython-input-6-5c6a0450ba2d>:85: DeprecationWarning: np.asscalar(a) is deprecated since NumPy v1.16, use a.item() instead\n",
      "  validation_losses.append(np.asscalar(val_loss.detach().cpu().numpy()))\n"
     ]
    },
    {
     "name": "stdout",
     "output_type": "stream",
     "text": [
      "epoch: 85\n",
      "Training loss: 1306.1985225335673\n",
      "Training rmse: 61.51725\n",
      "Validation loss: 17395.044921875\n",
      "Validation rmse: 16.900363426138117\n",
      "Validation mae: 12.8469925\n",
      "Validation mape: 0.15317595\n",
      "Validation acc: 0.26704996824264526\n"
     ]
    },
    {
     "name": "stderr",
     "output_type": "stream",
     "text": [
      "<ipython-input-6-5c6a0450ba2d>:85: DeprecationWarning: np.asscalar(a) is deprecated since NumPy v1.16, use a.item() instead\n",
      "  validation_losses.append(np.asscalar(val_loss.detach().cpu().numpy()))\n"
     ]
    },
    {
     "name": "stdout",
     "output_type": "stream",
     "text": [
      "epoch: 86\n",
      "Training loss: 1306.8471056210096\n",
      "Training rmse: 61.523174\n",
      "Validation loss: 17339.11328125\n",
      "Validation rmse: 16.873165228669585\n",
      "Validation mae: 12.939567\n",
      "Validation mape: 0.15906993\n",
      "Validation acc: 0.26938629150390625\n"
     ]
    },
    {
     "name": "stderr",
     "output_type": "stream",
     "text": [
      "<ipython-input-6-5c6a0450ba2d>:85: DeprecationWarning: np.asscalar(a) is deprecated since NumPy v1.16, use a.item() instead\n",
      "  validation_losses.append(np.asscalar(val_loss.detach().cpu().numpy()))\n"
     ]
    },
    {
     "name": "stdout",
     "output_type": "stream",
     "text": [
      "epoch: 87\n",
      "Training loss: 1301.9425665742608\n",
      "Training rmse: 61.47828\n",
      "Validation loss: 17525.525390625\n",
      "Validation rmse: 16.963626319862207\n",
      "Validation mae: 13.048966\n",
      "Validation mape: 0.16204315\n",
      "Validation acc: 0.2703207731246948\n"
     ]
    },
    {
     "name": "stderr",
     "output_type": "stream",
     "text": [
      "<ipython-input-6-5c6a0450ba2d>:85: DeprecationWarning: np.asscalar(a) is deprecated since NumPy v1.16, use a.item() instead\n",
      "  validation_losses.append(np.asscalar(val_loss.detach().cpu().numpy()))\n"
     ]
    },
    {
     "name": "stdout",
     "output_type": "stream",
     "text": [
      "epoch: 88\n",
      "Training loss: 1303.3053005861125\n",
      "Training rmse: 61.489513\n",
      "Validation loss: 17683.654296875\n",
      "Validation rmse: 17.039983963220063\n",
      "Validation mae: 13.156299\n",
      "Validation mape: 0.16366842\n",
      "Validation acc: 0.26611340045928955\n"
     ]
    },
    {
     "name": "stderr",
     "output_type": "stream",
     "text": [
      "<ipython-input-6-5c6a0450ba2d>:85: DeprecationWarning: np.asscalar(a) is deprecated since NumPy v1.16, use a.item() instead\n",
      "  validation_losses.append(np.asscalar(val_loss.detach().cpu().numpy()))\n"
     ]
    },
    {
     "name": "stdout",
     "output_type": "stream",
     "text": [
      "epoch: 89\n",
      "Training loss: 1301.1434371018495\n",
      "Training rmse: 61.468567\n",
      "Validation loss: 17349.400390625\n",
      "Validation rmse: 16.878161777003534\n",
      "Validation mae: 12.919904\n",
      "Validation mape: 0.15789017\n",
      "Validation acc: 0.2658763527870178\n"
     ]
    },
    {
     "name": "stderr",
     "output_type": "stream",
     "text": [
      "<ipython-input-6-5c6a0450ba2d>:85: DeprecationWarning: np.asscalar(a) is deprecated since NumPy v1.16, use a.item() instead\n",
      "  validation_losses.append(np.asscalar(val_loss.detach().cpu().numpy()))\n"
     ]
    },
    {
     "name": "stdout",
     "output_type": "stream",
     "text": [
      "epoch: 90\n",
      "Training loss: 1301.0132507542983\n",
      "Training rmse: 61.467308\n",
      "Validation loss: 17707.236328125\n",
      "Validation rmse: 17.051336528043134\n",
      "Validation mae: 12.937095\n",
      "Validation mape: 0.15212783\n",
      "Validation acc: 0.2671116590499878\n"
     ]
    },
    {
     "name": "stderr",
     "output_type": "stream",
     "text": [
      "<ipython-input-6-5c6a0450ba2d>:85: DeprecationWarning: np.asscalar(a) is deprecated since NumPy v1.16, use a.item() instead\n",
      "  validation_losses.append(np.asscalar(val_loss.detach().cpu().numpy()))\n"
     ]
    },
    {
     "name": "stdout",
     "output_type": "stream",
     "text": [
      "epoch: 91\n",
      "Training loss: 1295.8225772543192\n",
      "Training rmse: 61.416397\n",
      "Validation loss: 17165.029296875\n",
      "Validation rmse: 16.78822997005175\n",
      "Validation mae: 12.856428\n",
      "Validation mape: 0.15730768\n",
      "Validation acc: 0.2736870050430298\n"
     ]
    },
    {
     "name": "stderr",
     "output_type": "stream",
     "text": [
      "<ipython-input-6-5c6a0450ba2d>:85: DeprecationWarning: np.asscalar(a) is deprecated since NumPy v1.16, use a.item() instead\n",
      "  validation_losses.append(np.asscalar(val_loss.detach().cpu().numpy()))\n"
     ]
    },
    {
     "name": "stdout",
     "output_type": "stream",
     "text": [
      "epoch: 92\n",
      "Training loss: 1297.2520325363323\n",
      "Training rmse: 61.43287\n",
      "Validation loss: 18719.16796875\n",
      "Validation rmse: 17.531807902497622\n",
      "Validation mae: 13.834628\n",
      "Validation mape: 0.17626713\n",
      "Validation acc: 0.2665976285934448\n"
     ]
    },
    {
     "name": "stderr",
     "output_type": "stream",
     "text": [
      "<ipython-input-6-5c6a0450ba2d>:85: DeprecationWarning: np.asscalar(a) is deprecated since NumPy v1.16, use a.item() instead\n",
      "  validation_losses.append(np.asscalar(val_loss.detach().cpu().numpy()))\n"
     ]
    },
    {
     "name": "stdout",
     "output_type": "stream",
     "text": [
      "epoch: 93\n",
      "Training loss: 1291.4066920126638\n",
      "Training rmse: 61.378365\n",
      "Validation loss: 17492.931640625\n",
      "Validation rmse: 16.947826432931784\n",
      "Validation mae: 13.037706\n",
      "Validation mape: 0.16158307\n",
      "Validation acc: 0.2693294882774353\n"
     ]
    },
    {
     "name": "stderr",
     "output_type": "stream",
     "text": [
      "<ipython-input-6-5c6a0450ba2d>:85: DeprecationWarning: np.asscalar(a) is deprecated since NumPy v1.16, use a.item() instead\n",
      "  validation_losses.append(np.asscalar(val_loss.detach().cpu().numpy()))\n"
     ]
    },
    {
     "name": "stdout",
     "output_type": "stream",
     "text": [
      "epoch: 94\n",
      "Training loss: 1285.7674218181214\n",
      "Training rmse: 61.320602\n",
      "Validation loss: 17380.05859375\n",
      "Validation rmse: 16.893054939109778\n",
      "Validation mae: 12.923038\n",
      "Validation mape: 0.15767618\n",
      "Validation acc: 0.26414281129837036\n"
     ]
    },
    {
     "name": "stderr",
     "output_type": "stream",
     "text": [
      "<ipython-input-6-5c6a0450ba2d>:85: DeprecationWarning: np.asscalar(a) is deprecated since NumPy v1.16, use a.item() instead\n",
      "  validation_losses.append(np.asscalar(val_loss.detach().cpu().numpy()))\n"
     ]
    },
    {
     "name": "stdout",
     "output_type": "stream",
     "text": [
      "epoch: 95\n",
      "Training loss: 1288.1310183070466\n",
      "Training rmse: 61.345963\n",
      "Validation loss: 17514.376953125\n",
      "Validation rmse: 16.958205963831162\n",
      "Validation mae: 13.084146\n",
      "Validation mape: 0.1630957\n",
      "Validation acc: 0.2736917734146118\n"
     ]
    },
    {
     "name": "stderr",
     "output_type": "stream",
     "text": [
      "<ipython-input-6-5c6a0450ba2d>:85: DeprecationWarning: np.asscalar(a) is deprecated since NumPy v1.16, use a.item() instead\n",
      "  validation_losses.append(np.asscalar(val_loss.detach().cpu().numpy()))\n"
     ]
    },
    {
     "name": "stdout",
     "output_type": "stream",
     "text": [
      "epoch: 96\n",
      "Training loss: 1283.2726371519027\n",
      "Training rmse: 61.29611\n",
      "Validation loss: 17463.091796875\n",
      "Validation rmse: 16.933357210718174\n",
      "Validation mae: 12.846157\n",
      "Validation mape: 0.15331434\n",
      "Validation acc: 0.26311200857162476\n"
     ]
    },
    {
     "name": "stderr",
     "output_type": "stream",
     "text": [
      "<ipython-input-6-5c6a0450ba2d>:85: DeprecationWarning: np.asscalar(a) is deprecated since NumPy v1.16, use a.item() instead\n",
      "  validation_losses.append(np.asscalar(val_loss.detach().cpu().numpy()))\n"
     ]
    },
    {
     "name": "stdout",
     "output_type": "stream",
     "text": [
      "epoch: 97\n",
      "Training loss: 1281.8700247597096\n",
      "Training rmse: 61.286263\n",
      "Validation loss: 17444.49609375\n",
      "Validation rmse: 16.924336515914185\n",
      "Validation mae: 12.945254\n",
      "Validation mape: 0.15888329\n",
      "Validation acc: 0.2643343210220337\n"
     ]
    },
    {
     "name": "stderr",
     "output_type": "stream",
     "text": [
      "<ipython-input-6-5c6a0450ba2d>:85: DeprecationWarning: np.asscalar(a) is deprecated since NumPy v1.16, use a.item() instead\n",
      "  validation_losses.append(np.asscalar(val_loss.detach().cpu().numpy()))\n"
     ]
    },
    {
     "name": "stdout",
     "output_type": "stream",
     "text": [
      "epoch: 98\n",
      "Training loss: 1280.529029217245\n",
      "Training rmse: 61.271038\n",
      "Validation loss: 17537.638671875\n",
      "Validation rmse: 16.96945767832562\n",
      "Validation mae: 13.027355\n",
      "Validation mape: 0.16146201\n",
      "Validation acc: 0.2681812047958374\n"
     ]
    },
    {
     "name": "stderr",
     "output_type": "stream",
     "text": [
      "<ipython-input-6-5c6a0450ba2d>:85: DeprecationWarning: np.asscalar(a) is deprecated since NumPy v1.16, use a.item() instead\n",
      "  validation_losses.append(np.asscalar(val_loss.detach().cpu().numpy()))\n"
     ]
    },
    {
     "name": "stdout",
     "output_type": "stream",
     "text": [
      "epoch: 99\n",
      "Training loss: 1276.4005731835587\n",
      "Training rmse: 61.22958\n",
      "Validation loss: 18088.326171875\n",
      "Validation rmse: 17.23383137458575\n",
      "Validation mae: 13.375463\n",
      "Validation mape: 0.16846165\n",
      "Validation acc: 0.2671627998352051\n"
     ]
    },
    {
     "name": "stderr",
     "output_type": "stream",
     "text": [
      "<ipython-input-6-5c6a0450ba2d>:85: DeprecationWarning: np.asscalar(a) is deprecated since NumPy v1.16, use a.item() instead\n",
      "  validation_losses.append(np.asscalar(val_loss.detach().cpu().numpy()))\n"
     ]
    },
    {
     "name": "stdout",
     "output_type": "stream",
     "text": [
      "epoch: 100\n",
      "Training loss: 1276.30617367324\n",
      "Training rmse: 61.23029\n",
      "Validation loss: 17326.515625\n",
      "Validation rmse: 16.866995714518747\n",
      "Validation mae: 12.8493\n",
      "Validation mape: 0.15573418\n",
      "Validation acc: 0.2652401924133301\n"
     ]
    },
    {
     "name": "stderr",
     "output_type": "stream",
     "text": [
      "<ipython-input-6-5c6a0450ba2d>:85: DeprecationWarning: np.asscalar(a) is deprecated since NumPy v1.16, use a.item() instead\n",
      "  validation_losses.append(np.asscalar(val_loss.detach().cpu().numpy()))\n"
     ]
    },
    {
     "name": "stdout",
     "output_type": "stream",
     "text": [
      "epoch: 101\n",
      "Training loss: 1273.11132429663\n",
      "Training rmse: 61.20162\n",
      "Validation loss: 17700.1484375\n",
      "Validation rmse: 17.047893602129598\n",
      "Validation mae: 13.159075\n",
      "Validation mape: 0.16446361\n",
      "Validation acc: 0.26979875564575195\n"
     ]
    },
    {
     "name": "stderr",
     "output_type": "stream",
     "text": [
      "<ipython-input-6-5c6a0450ba2d>:85: DeprecationWarning: np.asscalar(a) is deprecated since NumPy v1.16, use a.item() instead\n",
      "  validation_losses.append(np.asscalar(val_loss.detach().cpu().numpy()))\n"
     ]
    },
    {
     "name": "stdout",
     "output_type": "stream",
     "text": [
      "epoch: 102\n",
      "Training loss: 1276.956801000889\n",
      "Training rmse: 61.239124\n",
      "Validation loss: 17398.37890625\n",
      "Validation rmse: 16.901935245381296\n",
      "Validation mae: 12.8679495\n",
      "Validation mape: 0.15584634\n",
      "Validation acc: 0.2621873617172241\n"
     ]
    },
    {
     "name": "stderr",
     "output_type": "stream",
     "text": [
      "<ipython-input-6-5c6a0450ba2d>:85: DeprecationWarning: np.asscalar(a) is deprecated since NumPy v1.16, use a.item() instead\n",
      "  validation_losses.append(np.asscalar(val_loss.detach().cpu().numpy()))\n"
     ]
    },
    {
     "name": "stdout",
     "output_type": "stream",
     "text": [
      "epoch: 103\n",
      "Training loss: 1279.210905013546\n",
      "Training rmse: 61.25715\n",
      "Validation loss: 17354.890625\n",
      "Validation rmse: 16.88079508423052\n",
      "Validation mae: 12.831472\n",
      "Validation mape: 0.15518087\n",
      "Validation acc: 0.26403242349624634\n"
     ]
    },
    {
     "name": "stderr",
     "output_type": "stream",
     "text": [
      "<ipython-input-6-5c6a0450ba2d>:85: DeprecationWarning: np.asscalar(a) is deprecated since NumPy v1.16, use a.item() instead\n",
      "  validation_losses.append(np.asscalar(val_loss.detach().cpu().numpy()))\n"
     ]
    },
    {
     "name": "stdout",
     "output_type": "stream",
     "text": [
      "epoch: 104\n",
      "Training loss: 1267.7281524767586\n",
      "Training rmse: 61.14992\n",
      "Validation loss: 17425.51953125\n",
      "Validation rmse: 16.915109847769518\n",
      "Validation mae: 12.888594\n",
      "Validation mape: 0.15712449\n",
      "Validation acc: 0.2621484398841858\n"
     ]
    },
    {
     "name": "stderr",
     "output_type": "stream",
     "text": [
      "<ipython-input-6-5c6a0450ba2d>:85: DeprecationWarning: np.asscalar(a) is deprecated since NumPy v1.16, use a.item() instead\n",
      "  validation_losses.append(np.asscalar(val_loss.detach().cpu().numpy()))\n"
     ]
    },
    {
     "name": "stdout",
     "output_type": "stream",
     "text": [
      "epoch: 105\n",
      "Training loss: 1266.8362710057193\n",
      "Training rmse: 61.14125\n",
      "Validation loss: 17257.609375\n",
      "Validation rmse: 16.833410483205526\n",
      "Validation mae: 12.862674\n",
      "Validation mape: 0.15720148\n",
      "Validation acc: 0.2694036364555359\n"
     ]
    },
    {
     "name": "stderr",
     "output_type": "stream",
     "text": [
      "<ipython-input-6-5c6a0450ba2d>:85: DeprecationWarning: np.asscalar(a) is deprecated since NumPy v1.16, use a.item() instead\n",
      "  validation_losses.append(np.asscalar(val_loss.detach().cpu().numpy()))\n"
     ]
    },
    {
     "name": "stdout",
     "output_type": "stream",
     "text": [
      "epoch: 106\n",
      "Training loss: 1263.8838680363044\n",
      "Training rmse: 61.11142\n",
      "Validation loss: 17662.818359375\n",
      "Validation rmse: 17.02989530162693\n",
      "Validation mae: 13.0780325\n",
      "Validation mape: 0.16213158\n",
      "Validation acc: 0.2639489769935608\n"
     ]
    },
    {
     "name": "stderr",
     "output_type": "stream",
     "text": [
      "<ipython-input-6-5c6a0450ba2d>:85: DeprecationWarning: np.asscalar(a) is deprecated since NumPy v1.16, use a.item() instead\n",
      "  validation_losses.append(np.asscalar(val_loss.detach().cpu().numpy()))\n"
     ]
    },
    {
     "name": "stdout",
     "output_type": "stream",
     "text": [
      "epoch: 107\n",
      "Training loss: 1264.6082902587016\n",
      "Training rmse: 61.117672\n",
      "Validation loss: 17660.0\n",
      "Validation rmse: 17.02853422298006\n",
      "Validation mae: 13.098325\n",
      "Validation mape: 0.16273052\n",
      "Validation acc: 0.2660556435585022\n"
     ]
    },
    {
     "name": "stderr",
     "output_type": "stream",
     "text": [
      "<ipython-input-6-5c6a0450ba2d>:85: DeprecationWarning: np.asscalar(a) is deprecated since NumPy v1.16, use a.item() instead\n",
      "  validation_losses.append(np.asscalar(val_loss.detach().cpu().numpy()))\n"
     ]
    },
    {
     "name": "stdout",
     "output_type": "stream",
     "text": [
      "epoch: 108\n",
      "Training loss: 1261.1874573410198\n",
      "Training rmse: 61.086487\n",
      "Validation loss: 17352.546875\n",
      "Validation rmse: 16.87964436233264\n",
      "Validation mae: 12.912609\n",
      "Validation mape: 0.1585474\n",
      "Validation acc: 0.26747745275497437\n"
     ]
    },
    {
     "name": "stderr",
     "output_type": "stream",
     "text": [
      "<ipython-input-6-5c6a0450ba2d>:85: DeprecationWarning: np.asscalar(a) is deprecated since NumPy v1.16, use a.item() instead\n",
      "  validation_losses.append(np.asscalar(val_loss.detach().cpu().numpy()))\n"
     ]
    },
    {
     "name": "stdout",
     "output_type": "stream",
     "text": [
      "epoch: 109\n",
      "Training loss: 1261.2459507877254\n",
      "Training rmse: 61.08878\n",
      "Validation loss: 17200.375\n",
      "Validation rmse: 16.805462920859245\n",
      "Validation mae: 12.835719\n",
      "Validation mape: 0.15652972\n",
      "Validation acc: 0.2713291049003601\n"
     ]
    },
    {
     "name": "stderr",
     "output_type": "stream",
     "text": [
      "<ipython-input-6-5c6a0450ba2d>:85: DeprecationWarning: np.asscalar(a) is deprecated since NumPy v1.16, use a.item() instead\n",
      "  validation_losses.append(np.asscalar(val_loss.detach().cpu().numpy()))\n"
     ]
    },
    {
     "name": "stdout",
     "output_type": "stream",
     "text": [
      "epoch: 110\n",
      "Training loss: 1255.9768637380291\n",
      "Training rmse: 61.034157\n",
      "Validation loss: 17624.166015625\n",
      "Validation rmse: 17.01124021643254\n",
      "Validation mae: 13.010303\n",
      "Validation mape: 0.16016273\n",
      "Validation acc: 0.2586110234260559\n"
     ]
    },
    {
     "name": "stderr",
     "output_type": "stream",
     "text": [
      "<ipython-input-6-5c6a0450ba2d>:85: DeprecationWarning: np.asscalar(a) is deprecated since NumPy v1.16, use a.item() instead\n",
      "  validation_losses.append(np.asscalar(val_loss.detach().cpu().numpy()))\n"
     ]
    },
    {
     "name": "stdout",
     "output_type": "stream",
     "text": [
      "epoch: 111\n",
      "Training loss: 1259.7200821633835\n",
      "Training rmse: 61.069035\n",
      "Validation loss: 17394.744140625\n",
      "Validation rmse: 16.900149445183356\n",
      "Validation mae: 12.864847\n",
      "Validation mape: 0.15681006\n",
      "Validation acc: 0.26321154832839966\n"
     ]
    },
    {
     "name": "stderr",
     "output_type": "stream",
     "text": [
      "<ipython-input-6-5c6a0450ba2d>:85: DeprecationWarning: np.asscalar(a) is deprecated since NumPy v1.16, use a.item() instead\n",
      "  validation_losses.append(np.asscalar(val_loss.detach().cpu().numpy()))\n"
     ]
    },
    {
     "name": "stdout",
     "output_type": "stream",
     "text": [
      "epoch: 112\n",
      "Training loss: 1254.5769339393971\n",
      "Training rmse: 61.02185\n",
      "Validation loss: 17454.40625\n",
      "Validation rmse: 16.929107951836148\n",
      "Validation mae: 12.916399\n",
      "Validation mape: 0.1576615\n",
      "Validation acc: 0.261060893535614\n"
     ]
    },
    {
     "name": "stderr",
     "output_type": "stream",
     "text": [
      "<ipython-input-6-5c6a0450ba2d>:85: DeprecationWarning: np.asscalar(a) is deprecated since NumPy v1.16, use a.item() instead\n",
      "  validation_losses.append(np.asscalar(val_loss.detach().cpu().numpy()))\n"
     ]
    },
    {
     "name": "stdout",
     "output_type": "stream",
     "text": [
      "epoch: 113\n",
      "Training loss: 1254.226760043893\n",
      "Training rmse: 61.017635\n",
      "Validation loss: 17516.6015625\n",
      "Validation rmse: 16.959240688384682\n",
      "Validation mae: 12.988291\n",
      "Validation mape: 0.16070682\n",
      "Validation acc: 0.26627278327941895\n"
     ]
    },
    {
     "name": "stderr",
     "output_type": "stream",
     "text": [
      "<ipython-input-6-5c6a0450ba2d>:85: DeprecationWarning: np.asscalar(a) is deprecated since NumPy v1.16, use a.item() instead\n",
      "  validation_losses.append(np.asscalar(val_loss.detach().cpu().numpy()))\n"
     ]
    },
    {
     "name": "stdout",
     "output_type": "stream",
     "text": [
      "epoch: 114\n",
      "Training loss: 1257.9054603713387\n",
      "Training rmse: 61.052753\n",
      "Validation loss: 17535.9296875\n",
      "Validation rmse: 16.968594432700794\n",
      "Validation mae: 12.982709\n",
      "Validation mape: 0.16001454\n",
      "Validation acc: 0.26298660039901733\n"
     ]
    },
    {
     "name": "stderr",
     "output_type": "stream",
     "text": [
      "<ipython-input-6-5c6a0450ba2d>:85: DeprecationWarning: np.asscalar(a) is deprecated since NumPy v1.16, use a.item() instead\n",
      "  validation_losses.append(np.asscalar(val_loss.detach().cpu().numpy()))\n"
     ]
    },
    {
     "name": "stdout",
     "output_type": "stream",
     "text": [
      "epoch: 115\n",
      "Training loss: 1249.550044343463\n",
      "Training rmse: 60.97172\n",
      "Validation loss: 18094.47265625\n",
      "Validation rmse: 17.23672283985017\n",
      "Validation mae: 13.377106\n",
      "Validation mape: 0.16859387\n",
      "Validation acc: 0.2659764885902405\n"
     ]
    },
    {
     "name": "stderr",
     "output_type": "stream",
     "text": [
      "<ipython-input-6-5c6a0450ba2d>:85: DeprecationWarning: np.asscalar(a) is deprecated since NumPy v1.16, use a.item() instead\n",
      "  validation_losses.append(np.asscalar(val_loss.detach().cpu().numpy()))\n"
     ]
    },
    {
     "name": "stdout",
     "output_type": "stream",
     "text": [
      "epoch: 116\n",
      "Training loss: 1246.1211781929044\n",
      "Training rmse: 60.938587\n",
      "Validation loss: 17440.1953125\n",
      "Validation rmse: 16.92220502621389\n",
      "Validation mae: 12.868977\n",
      "Validation mape: 0.153922\n",
      "Validation acc: 0.26340198516845703\n"
     ]
    },
    {
     "name": "stderr",
     "output_type": "stream",
     "text": [
      "<ipython-input-6-5c6a0450ba2d>:85: DeprecationWarning: np.asscalar(a) is deprecated since NumPy v1.16, use a.item() instead\n",
      "  validation_losses.append(np.asscalar(val_loss.detach().cpu().numpy()))\n"
     ]
    },
    {
     "name": "stdout",
     "output_type": "stream",
     "text": [
      "epoch: 117\n",
      "Training loss: 1255.4658760973202\n",
      "Training rmse: 61.030327\n",
      "Validation loss: 18310.025390625\n",
      "Validation rmse: 17.339087387057475\n",
      "Validation mae: 13.460906\n",
      "Validation mape: 0.16952093\n",
      "Validation acc: 0.25904881954193115\n"
     ]
    },
    {
     "name": "stderr",
     "output_type": "stream",
     "text": [
      "<ipython-input-6-5c6a0450ba2d>:85: DeprecationWarning: np.asscalar(a) is deprecated since NumPy v1.16, use a.item() instead\n",
      "  validation_losses.append(np.asscalar(val_loss.detach().cpu().numpy()))\n"
     ]
    },
    {
     "name": "stdout",
     "output_type": "stream",
     "text": [
      "epoch: 118\n",
      "Training loss: 1246.93604718827\n",
      "Training rmse: 60.944298\n",
      "Validation loss: 17583.09375\n",
      "Validation rmse: 16.991389169464725\n",
      "Validation mae: 12.980783\n",
      "Validation mape: 0.16050155\n",
      "Validation acc: 0.2636919617652893\n"
     ]
    },
    {
     "name": "stderr",
     "output_type": "stream",
     "text": [
      "<ipython-input-6-5c6a0450ba2d>:85: DeprecationWarning: np.asscalar(a) is deprecated since NumPy v1.16, use a.item() instead\n",
      "  validation_losses.append(np.asscalar(val_loss.detach().cpu().numpy()))\n"
     ]
    },
    {
     "name": "stdout",
     "output_type": "stream",
     "text": [
      "epoch: 119\n",
      "Training loss: 1244.8143768857458\n",
      "Training rmse: 60.926456\n",
      "Validation loss: 17387.12109375\n",
      "Validation rmse: 16.896428271385588\n",
      "Validation mae: 12.870947\n",
      "Validation mape: 0.15710056\n",
      "Validation acc: 0.26368463039398193\n"
     ]
    },
    {
     "name": "stderr",
     "output_type": "stream",
     "text": [
      "<ipython-input-6-5c6a0450ba2d>:85: DeprecationWarning: np.asscalar(a) is deprecated since NumPy v1.16, use a.item() instead\n",
      "  validation_losses.append(np.asscalar(val_loss.detach().cpu().numpy()))\n"
     ]
    },
    {
     "name": "stdout",
     "output_type": "stream",
     "text": [
      "epoch: 120\n",
      "Training loss: 1245.1993990115368\n",
      "Training rmse: 60.93092\n",
      "Validation loss: 17445.142578125\n",
      "Validation rmse: 16.9245952698677\n",
      "Validation mae: 12.9269495\n",
      "Validation mape: 0.15875968\n",
      "Validation acc: 0.26391273736953735\n"
     ]
    },
    {
     "name": "stderr",
     "output_type": "stream",
     "text": [
      "<ipython-input-6-5c6a0450ba2d>:85: DeprecationWarning: np.asscalar(a) is deprecated since NumPy v1.16, use a.item() instead\n",
      "  validation_losses.append(np.asscalar(val_loss.detach().cpu().numpy()))\n"
     ]
    },
    {
     "name": "stdout",
     "output_type": "stream",
     "text": [
      "epoch: 121\n",
      "Training loss: 1240.5451629529289\n",
      "Training rmse: 60.88514\n",
      "Validation loss: 17721.392578125\n",
      "Validation rmse: 17.058078067113833\n",
      "Validation mae: 13.100722\n",
      "Validation mape: 0.16326119\n",
      "Validation acc: 0.26526081562042236\n"
     ]
    },
    {
     "name": "stderr",
     "output_type": "stream",
     "text": [
      "<ipython-input-6-5c6a0450ba2d>:85: DeprecationWarning: np.asscalar(a) is deprecated since NumPy v1.16, use a.item() instead\n",
      "  validation_losses.append(np.asscalar(val_loss.detach().cpu().numpy()))\n"
     ]
    },
    {
     "name": "stdout",
     "output_type": "stream",
     "text": [
      "epoch: 122\n",
      "Training loss: 1237.1234970913138\n",
      "Training rmse: 60.854618\n",
      "Validation loss: 17573.1484375\n",
      "Validation rmse: 16.98657504294062\n",
      "Validation mae: 12.870645\n",
      "Validation mape: 0.15519711\n",
      "Validation acc: 0.25509053468704224\n"
     ]
    },
    {
     "name": "stderr",
     "output_type": "stream",
     "text": [
      "<ipython-input-6-5c6a0450ba2d>:85: DeprecationWarning: np.asscalar(a) is deprecated since NumPy v1.16, use a.item() instead\n",
      "  validation_losses.append(np.asscalar(val_loss.detach().cpu().numpy()))\n"
     ]
    },
    {
     "name": "stdout",
     "output_type": "stream",
     "text": [
      "epoch: 123\n",
      "Training loss: 1233.0799842752435\n",
      "Training rmse: 60.81447\n",
      "Validation loss: 17580.044921875\n",
      "Validation rmse: 16.989904659872654\n",
      "Validation mae: 12.946312\n",
      "Validation mape: 0.15912282\n",
      "Validation acc: 0.25870436429977417\n"
     ]
    },
    {
     "name": "stderr",
     "output_type": "stream",
     "text": [
      "<ipython-input-6-5c6a0450ba2d>:85: DeprecationWarning: np.asscalar(a) is deprecated since NumPy v1.16, use a.item() instead\n",
      "  validation_losses.append(np.asscalar(val_loss.detach().cpu().numpy()))\n"
     ]
    },
    {
     "name": "stdout",
     "output_type": "stream",
     "text": [
      "epoch: 124\n",
      "Training loss: 1240.6383192274307\n",
      "Training rmse: 60.88743\n",
      "Validation loss: 17487.916015625\n",
      "Validation rmse: 16.945322405195352\n",
      "Validation mae: 12.887637\n",
      "Validation mape: 0.15717924\n",
      "Validation acc: 0.2593095302581787\n"
     ]
    },
    {
     "name": "stderr",
     "output_type": "stream",
     "text": [
      "<ipython-input-6-5c6a0450ba2d>:85: DeprecationWarning: np.asscalar(a) is deprecated since NumPy v1.16, use a.item() instead\n",
      "  validation_losses.append(np.asscalar(val_loss.detach().cpu().numpy()))\n"
     ]
    },
    {
     "name": "stdout",
     "output_type": "stream",
     "text": [
      "epoch: 125\n",
      "Training loss: 1232.511702998992\n",
      "Training rmse: 60.807877\n",
      "Validation loss: 17322.904296875\n",
      "Validation rmse: 16.865179976931667\n",
      "Validation mae: 12.836279\n",
      "Validation mape: 0.15630648\n",
      "Validation acc: 0.26571929454803467\n"
     ]
    },
    {
     "name": "stderr",
     "output_type": "stream",
     "text": [
      "<ipython-input-6-5c6a0450ba2d>:85: DeprecationWarning: np.asscalar(a) is deprecated since NumPy v1.16, use a.item() instead\n",
      "  validation_losses.append(np.asscalar(val_loss.detach().cpu().numpy()))\n"
     ]
    },
    {
     "name": "stdout",
     "output_type": "stream",
     "text": [
      "epoch: 126\n",
      "Training loss: 1227.2941164953306\n",
      "Training rmse: 60.756348\n",
      "Validation loss: 17754.58984375\n",
      "Validation rmse: 17.07403599264465\n",
      "Validation mae: 13.087757\n",
      "Validation mape: 0.16296221\n",
      "Validation acc: 0.2620667815208435\n"
     ]
    },
    {
     "name": "stderr",
     "output_type": "stream",
     "text": [
      "<ipython-input-6-5c6a0450ba2d>:85: DeprecationWarning: np.asscalar(a) is deprecated since NumPy v1.16, use a.item() instead\n",
      "  validation_losses.append(np.asscalar(val_loss.detach().cpu().numpy()))\n"
     ]
    },
    {
     "name": "stdout",
     "output_type": "stream",
     "text": [
      "epoch: 127\n",
      "Training loss: 1223.0716834939935\n",
      "Training rmse: 60.71822\n",
      "Validation loss: 18355.265625\n",
      "Validation rmse: 17.36047370791711\n",
      "Validation mae: 13.355417\n",
      "Validation mape: 0.16739525\n",
      "Validation acc: 0.2478821873664856\n"
     ]
    },
    {
     "name": "stderr",
     "output_type": "stream",
     "text": [
      "<ipython-input-6-5c6a0450ba2d>:85: DeprecationWarning: np.asscalar(a) is deprecated since NumPy v1.16, use a.item() instead\n",
      "  validation_losses.append(np.asscalar(val_loss.detach().cpu().numpy()))\n"
     ]
    },
    {
     "name": "stdout",
     "output_type": "stream",
     "text": [
      "epoch: 128\n",
      "Training loss: 1227.249231591447\n",
      "Training rmse: 60.75652\n",
      "Validation loss: 18170.1015625\n",
      "Validation rmse: 17.272678670860433\n",
      "Validation mae: 13.265138\n",
      "Validation mape: 0.16604662\n",
      "Validation acc: 0.25381600856781006\n"
     ]
    },
    {
     "name": "stderr",
     "output_type": "stream",
     "text": [
      "<ipython-input-6-5c6a0450ba2d>:85: DeprecationWarning: np.asscalar(a) is deprecated since NumPy v1.16, use a.item() instead\n",
      "  validation_losses.append(np.asscalar(val_loss.detach().cpu().numpy()))\n"
     ]
    },
    {
     "name": "stdout",
     "output_type": "stream",
     "text": [
      "epoch: 129\n",
      "Training loss: 1222.2904898257239\n",
      "Training rmse: 60.709354\n",
      "Validation loss: 17786.314453125\n",
      "Validation rmse: 17.089277222752685\n",
      "Validation mae: 12.99\n",
      "Validation mape: 0.15907493\n",
      "Validation acc: 0.24828720092773438\n"
     ]
    },
    {
     "name": "stderr",
     "output_type": "stream",
     "text": [
      "<ipython-input-6-5c6a0450ba2d>:85: DeprecationWarning: np.asscalar(a) is deprecated since NumPy v1.16, use a.item() instead\n",
      "  validation_losses.append(np.asscalar(val_loss.detach().cpu().numpy()))\n"
     ]
    },
    {
     "name": "stdout",
     "output_type": "stream",
     "text": [
      "epoch: 130\n",
      "Training loss: 1218.6485054262223\n",
      "Training rmse: 60.67219\n",
      "Validation loss: 17866.45703125\n",
      "Validation rmse: 17.127733444028358\n",
      "Validation mae: 12.98341\n",
      "Validation mape: 0.15779223\n",
      "Validation acc: 0.2425239086151123\n"
     ]
    },
    {
     "name": "stderr",
     "output_type": "stream",
     "text": [
      "<ipython-input-6-5c6a0450ba2d>:85: DeprecationWarning: np.asscalar(a) is deprecated since NumPy v1.16, use a.item() instead\n",
      "  validation_losses.append(np.asscalar(val_loss.detach().cpu().numpy()))\n"
     ]
    },
    {
     "name": "stdout",
     "output_type": "stream",
     "text": [
      "epoch: 131\n",
      "Training loss: 1215.6610474945396\n",
      "Training rmse: 60.641514\n",
      "Validation loss: 19761.57421875\n",
      "Validation rmse: 18.01326686648274\n",
      "Validation mae: 14.047406\n",
      "Validation mape: 0.17995045\n",
      "Validation acc: 0.24835169315338135\n"
     ]
    },
    {
     "name": "stderr",
     "output_type": "stream",
     "text": [
      "<ipython-input-6-5c6a0450ba2d>:85: DeprecationWarning: np.asscalar(a) is deprecated since NumPy v1.16, use a.item() instead\n",
      "  validation_losses.append(np.asscalar(val_loss.detach().cpu().numpy()))\n"
     ]
    },
    {
     "name": "stdout",
     "output_type": "stream",
     "text": [
      "epoch: 132\n",
      "Training loss: 1211.7118551056017\n",
      "Training rmse: 60.605125\n",
      "Validation loss: 18539.078125\n",
      "Validation rmse: 17.447169313129727\n",
      "Validation mae: 13.406292\n",
      "Validation mape: 0.16750488\n",
      "Validation acc: 0.23455631732940674\n"
     ]
    },
    {
     "name": "stderr",
     "output_type": "stream",
     "text": [
      "<ipython-input-6-5c6a0450ba2d>:85: DeprecationWarning: np.asscalar(a) is deprecated since NumPy v1.16, use a.item() instead\n",
      "  validation_losses.append(np.asscalar(val_loss.detach().cpu().numpy()))\n"
     ]
    },
    {
     "name": "stdout",
     "output_type": "stream",
     "text": [
      "epoch: 133\n",
      "Training loss: 1202.8414321954106\n",
      "Training rmse: 60.516495\n",
      "Validation loss: 18706.291015625\n",
      "Validation rmse: 17.525676963454043\n",
      "Validation mae: 13.482575\n",
      "Validation mape: 0.16918105\n",
      "Validation acc: 0.23468232154846191\n"
     ]
    },
    {
     "name": "stderr",
     "output_type": "stream",
     "text": [
      "<ipython-input-6-5c6a0450ba2d>:85: DeprecationWarning: np.asscalar(a) is deprecated since NumPy v1.16, use a.item() instead\n",
      "  validation_losses.append(np.asscalar(val_loss.detach().cpu().numpy()))\n"
     ]
    },
    {
     "name": "stdout",
     "output_type": "stream",
     "text": [
      "epoch: 134\n",
      "Training loss: 1200.4229772424185\n",
      "Training rmse: 60.49322\n",
      "Validation loss: 18201.966796875\n",
      "Validation rmse: 17.287798615122494\n",
      "Validation mae: 13.086853\n",
      "Validation mape: 0.15685475\n",
      "Validation acc: 0.2308673858642578\n"
     ]
    },
    {
     "name": "stderr",
     "output_type": "stream",
     "text": [
      "<ipython-input-6-5c6a0450ba2d>:85: DeprecationWarning: np.asscalar(a) is deprecated since NumPy v1.16, use a.item() instead\n",
      "  validation_losses.append(np.asscalar(val_loss.detach().cpu().numpy()))\n"
     ]
    },
    {
     "name": "stdout",
     "output_type": "stream",
     "text": [
      "epoch: 135\n",
      "Training loss: 1197.8711770990844\n",
      "Training rmse: 60.467117\n",
      "Validation loss: 18204.556640625\n",
      "Validation rmse: 17.289024549495178\n",
      "Validation mae: 13.129472\n",
      "Validation mape: 0.16150072\n",
      "Validation acc: 0.2325940728187561\n"
     ]
    },
    {
     "name": "stderr",
     "output_type": "stream",
     "text": [
      "<ipython-input-6-5c6a0450ba2d>:85: DeprecationWarning: np.asscalar(a) is deprecated since NumPy v1.16, use a.item() instead\n",
      "  validation_losses.append(np.asscalar(val_loss.detach().cpu().numpy()))\n"
     ]
    },
    {
     "name": "stdout",
     "output_type": "stream",
     "text": [
      "epoch: 136\n",
      "Training loss: 1194.201861309749\n",
      "Training rmse: 60.431286\n",
      "Validation loss: 18935.775390625\n",
      "Validation rmse: 17.632845383775273\n",
      "Validation mae: 13.53691\n",
      "Validation mape: 0.16999201\n",
      "Validation acc: 0.22620505094528198\n"
     ]
    },
    {
     "name": "stderr",
     "output_type": "stream",
     "text": [
      "<ipython-input-6-5c6a0450ba2d>:85: DeprecationWarning: np.asscalar(a) is deprecated since NumPy v1.16, use a.item() instead\n",
      "  validation_losses.append(np.asscalar(val_loss.detach().cpu().numpy()))\n"
     ]
    },
    {
     "name": "stdout",
     "output_type": "stream",
     "text": [
      "epoch: 137\n",
      "Training loss: 1188.1208456716229\n",
      "Training rmse: 60.36888\n",
      "Validation loss: 18292.55859375\n",
      "Validation rmse: 17.33075773225795\n",
      "Validation mae: 13.150616\n",
      "Validation mape: 0.16118236\n",
      "Validation acc: 0.22688066959381104\n"
     ]
    },
    {
     "name": "stderr",
     "output_type": "stream",
     "text": [
      "<ipython-input-6-5c6a0450ba2d>:85: DeprecationWarning: np.asscalar(a) is deprecated since NumPy v1.16, use a.item() instead\n",
      "  validation_losses.append(np.asscalar(val_loss.detach().cpu().numpy()))\n"
     ]
    },
    {
     "name": "stdout",
     "output_type": "stream",
     "text": [
      "epoch: 138\n",
      "Training loss: 1185.0719839663489\n",
      "Training rmse: 60.33826\n",
      "Validation loss: 19477.27734375\n",
      "Validation rmse: 17.88319561215876\n",
      "Validation mae: 13.784608\n",
      "Validation mape: 0.1746829\n",
      "Validation acc: 0.2219969630241394\n"
     ]
    },
    {
     "name": "stderr",
     "output_type": "stream",
     "text": [
      "<ipython-input-6-5c6a0450ba2d>:85: DeprecationWarning: np.asscalar(a) is deprecated since NumPy v1.16, use a.item() instead\n",
      "  validation_losses.append(np.asscalar(val_loss.detach().cpu().numpy()))\n"
     ]
    },
    {
     "name": "stdout",
     "output_type": "stream",
     "text": [
      "epoch: 139\n",
      "Training loss: 1182.28464445162\n",
      "Training rmse: 60.314457\n",
      "Validation loss: 18498.87890625\n",
      "Validation rmse: 17.42822018700472\n",
      "Validation mae: 13.210219\n",
      "Validation mape: 0.16197932\n",
      "Validation acc: 0.21828150749206543\n"
     ]
    },
    {
     "name": "stderr",
     "output_type": "stream",
     "text": [
      "<ipython-input-6-5c6a0450ba2d>:85: DeprecationWarning: np.asscalar(a) is deprecated since NumPy v1.16, use a.item() instead\n",
      "  validation_losses.append(np.asscalar(val_loss.detach().cpu().numpy()))\n"
     ]
    },
    {
     "name": "stdout",
     "output_type": "stream",
     "text": [
      "epoch: 140\n",
      "Training loss: 1180.8811634569613\n",
      "Training rmse: 60.29733\n",
      "Validation loss: 18602.80859375\n",
      "Validation rmse: 17.477108179064818\n",
      "Validation mae: 13.319188\n",
      "Validation mape: 0.16548641\n",
      "Validation acc: 0.22475922107696533\n"
     ]
    },
    {
     "name": "stderr",
     "output_type": "stream",
     "text": [
      "<ipython-input-6-5c6a0450ba2d>:85: DeprecationWarning: np.asscalar(a) is deprecated since NumPy v1.16, use a.item() instead\n",
      "  validation_losses.append(np.asscalar(val_loss.detach().cpu().numpy()))\n"
     ]
    },
    {
     "name": "stdout",
     "output_type": "stream",
     "text": [
      "epoch: 141\n",
      "Training loss: 1173.2961182953209\n",
      "Training rmse: 60.223103\n",
      "Validation loss: 18553.521484375\n",
      "Validation rmse: 17.453938054584736\n",
      "Validation mae: 13.22916\n",
      "Validation mape: 0.16196729\n",
      "Validation acc: 0.21506953239440918\n"
     ]
    },
    {
     "name": "stderr",
     "output_type": "stream",
     "text": [
      "<ipython-input-6-5c6a0450ba2d>:85: DeprecationWarning: np.asscalar(a) is deprecated since NumPy v1.16, use a.item() instead\n",
      "  validation_losses.append(np.asscalar(val_loss.detach().cpu().numpy()))\n"
     ]
    },
    {
     "name": "stdout",
     "output_type": "stream",
     "text": [
      "epoch: 142\n",
      "Training loss: 1176.3604979156166\n",
      "Training rmse: 60.256645\n",
      "Validation loss: 18787.498046875\n",
      "Validation rmse: 17.56365029039913\n",
      "Validation mae: 13.365735\n",
      "Validation mape: 0.16681458\n",
      "Validation acc: 0.2226468324661255\n"
     ]
    },
    {
     "name": "stderr",
     "output_type": "stream",
     "text": [
      "<ipython-input-6-5c6a0450ba2d>:85: DeprecationWarning: np.asscalar(a) is deprecated since NumPy v1.16, use a.item() instead\n",
      "  validation_losses.append(np.asscalar(val_loss.detach().cpu().numpy()))\n"
     ]
    },
    {
     "name": "stdout",
     "output_type": "stream",
     "text": [
      "epoch: 143\n",
      "Training loss: 1167.4881776652455\n",
      "Training rmse: 60.164913\n",
      "Validation loss: 18951.736328125\n",
      "Validation rmse: 17.64025391964666\n",
      "Validation mae: 13.408331\n",
      "Validation mape: 0.16706373\n",
      "Validation acc: 0.21334803104400635\n"
     ]
    },
    {
     "name": "stderr",
     "output_type": "stream",
     "text": [
      "<ipython-input-6-5c6a0450ba2d>:85: DeprecationWarning: np.asscalar(a) is deprecated since NumPy v1.16, use a.item() instead\n",
      "  validation_losses.append(np.asscalar(val_loss.detach().cpu().numpy()))\n"
     ]
    },
    {
     "name": "stdout",
     "output_type": "stream",
     "text": [
      "epoch: 144\n",
      "Training loss: 1165.351774263553\n",
      "Training rmse: 60.14635\n",
      "Validation loss: 18532.89453125\n",
      "Validation rmse: 17.44422263445157\n",
      "Validation mae: 13.260309\n",
      "Validation mape: 0.16411749\n",
      "Validation acc: 0.22267591953277588\n"
     ]
    },
    {
     "name": "stderr",
     "output_type": "stream",
     "text": [
      "<ipython-input-6-5c6a0450ba2d>:85: DeprecationWarning: np.asscalar(a) is deprecated since NumPy v1.16, use a.item() instead\n",
      "  validation_losses.append(np.asscalar(val_loss.detach().cpu().numpy()))\n"
     ]
    },
    {
     "name": "stdout",
     "output_type": "stream",
     "text": [
      "epoch: 145\n",
      "Training loss: 1164.5167890432488\n",
      "Training rmse: 60.13368\n",
      "Validation loss: 19014.6171875\n",
      "Validation rmse: 17.669491715949274\n",
      "Validation mae: 13.525494\n",
      "Validation mape: 0.17026559\n",
      "Validation acc: 0.225102961063385\n"
     ]
    },
    {
     "name": "stderr",
     "output_type": "stream",
     "text": [
      "<ipython-input-6-5c6a0450ba2d>:85: DeprecationWarning: np.asscalar(a) is deprecated since NumPy v1.16, use a.item() instead\n",
      "  validation_losses.append(np.asscalar(val_loss.detach().cpu().numpy()))\n"
     ]
    },
    {
     "name": "stdout",
     "output_type": "stream",
     "text": [
      "epoch: 146\n",
      "Training loss: 1154.931853154227\n",
      "Training rmse: 60.039356\n",
      "Validation loss: 18767.056640625\n",
      "Validation rmse: 17.55408077778854\n",
      "Validation mae: 13.28231\n",
      "Validation mape: 0.16120309\n",
      "Validation acc: 0.20416706800460815\n"
     ]
    },
    {
     "name": "stderr",
     "output_type": "stream",
     "text": [
      "<ipython-input-6-5c6a0450ba2d>:85: DeprecationWarning: np.asscalar(a) is deprecated since NumPy v1.16, use a.item() instead\n",
      "  validation_losses.append(np.asscalar(val_loss.detach().cpu().numpy()))\n"
     ]
    },
    {
     "name": "stdout",
     "output_type": "stream",
     "text": [
      "epoch: 147\n",
      "Training loss: 1160.1724930083026\n",
      "Training rmse: 60.094055\n",
      "Validation loss: 19541.076171875\n",
      "Validation rmse: 17.91243808732976\n",
      "Validation mae: 13.684912\n",
      "Validation mape: 0.17246561\n",
      "Validation acc: 0.20534956455230713\n"
     ]
    },
    {
     "name": "stderr",
     "output_type": "stream",
     "text": [
      "<ipython-input-6-5c6a0450ba2d>:85: DeprecationWarning: np.asscalar(a) is deprecated since NumPy v1.16, use a.item() instead\n",
      "  validation_losses.append(np.asscalar(val_loss.detach().cpu().numpy()))\n"
     ]
    },
    {
     "name": "stdout",
     "output_type": "stream",
     "text": [
      "epoch: 148\n",
      "Training loss: 1155.7491469297786\n",
      "Training rmse: 60.050186\n",
      "Validation loss: 19810.73046875\n",
      "Validation rmse: 18.035608462356404\n",
      "Validation mae: 13.943469\n",
      "Validation mape: 0.17803913\n",
      "Validation acc: 0.22638899087905884\n"
     ]
    },
    {
     "name": "stderr",
     "output_type": "stream",
     "text": [
      "<ipython-input-6-5c6a0450ba2d>:85: DeprecationWarning: np.asscalar(a) is deprecated since NumPy v1.16, use a.item() instead\n",
      "  validation_losses.append(np.asscalar(val_loss.detach().cpu().numpy()))\n"
     ]
    },
    {
     "name": "stdout",
     "output_type": "stream",
     "text": [
      "epoch: 149\n",
      "Training loss: 1159.4726938774081\n",
      "Training rmse: 60.083256\n",
      "Validation loss: 18547.8828125\n",
      "Validation rmse: 17.451262699994484\n",
      "Validation mae: 13.25402\n",
      "Validation mape: 0.16366467\n",
      "Validation acc: 0.21995419263839722\n"
     ]
    },
    {
     "name": "stderr",
     "output_type": "stream",
     "text": [
      "<ipython-input-6-5c6a0450ba2d>:85: DeprecationWarning: np.asscalar(a) is deprecated since NumPy v1.16, use a.item() instead\n",
      "  validation_losses.append(np.asscalar(val_loss.detach().cpu().numpy()))\n"
     ]
    },
    {
     "name": "stdout",
     "output_type": "stream",
     "text": [
      "epoch: 150\n",
      "Training loss: 1147.3827607623139\n",
      "Training rmse: 59.96326\n",
      "Validation loss: 18920.140625\n",
      "Validation rmse: 17.62552550053251\n",
      "Validation mae: 13.417671\n",
      "Validation mape: 0.16758719\n",
      "Validation acc: 0.216400146484375\n"
     ]
    },
    {
     "name": "stderr",
     "output_type": "stream",
     "text": [
      "<ipython-input-6-5c6a0450ba2d>:85: DeprecationWarning: np.asscalar(a) is deprecated since NumPy v1.16, use a.item() instead\n",
      "  validation_losses.append(np.asscalar(val_loss.detach().cpu().numpy()))\n"
     ]
    },
    {
     "name": "stdout",
     "output_type": "stream",
     "text": [
      "epoch: 151\n",
      "Training loss: 1142.626936389554\n",
      "Training rmse: 59.91609\n",
      "Validation loss: 19275.689453125\n",
      "Validation rmse: 17.79037225497834\n",
      "Validation mae: 13.57823\n",
      "Validation mape: 0.1707917\n",
      "Validation acc: 0.21309822797775269\n"
     ]
    },
    {
     "name": "stderr",
     "output_type": "stream",
     "text": [
      "<ipython-input-6-5c6a0450ba2d>:85: DeprecationWarning: np.asscalar(a) is deprecated since NumPy v1.16, use a.item() instead\n",
      "  validation_losses.append(np.asscalar(val_loss.detach().cpu().numpy()))\n"
     ]
    },
    {
     "name": "stdout",
     "output_type": "stream",
     "text": [
      "epoch: 152\n",
      "Training loss: 1142.159709205764\n",
      "Training rmse: 59.911087\n",
      "Validation loss: 19213.064453125\n",
      "Validation rmse: 17.761443411792648\n",
      "Validation mae: 13.600866\n",
      "Validation mape: 0.17188688\n",
      "Validation acc: 0.22518020868301392\n"
     ]
    },
    {
     "name": "stderr",
     "output_type": "stream",
     "text": [
      "<ipython-input-6-5c6a0450ba2d>:85: DeprecationWarning: np.asscalar(a) is deprecated since NumPy v1.16, use a.item() instead\n",
      "  validation_losses.append(np.asscalar(val_loss.detach().cpu().numpy()))\n"
     ]
    },
    {
     "name": "stdout",
     "output_type": "stream",
     "text": [
      "epoch: 153\n",
      "Training loss: 1137.863531844163\n",
      "Training rmse: 59.867294\n",
      "Validation loss: 18714.96484375\n",
      "Validation rmse: 17.52968325218328\n",
      "Validation mae: 13.295852\n",
      "Validation mape: 0.16464034\n",
      "Validation acc: 0.21468478441238403\n"
     ]
    },
    {
     "name": "stderr",
     "output_type": "stream",
     "text": [
      "<ipython-input-6-5c6a0450ba2d>:85: DeprecationWarning: np.asscalar(a) is deprecated since NumPy v1.16, use a.item() instead\n",
      "  validation_losses.append(np.asscalar(val_loss.detach().cpu().numpy()))\n"
     ]
    },
    {
     "name": "stdout",
     "output_type": "stream",
     "text": [
      "epoch: 154\n",
      "Training loss: 1136.9125647322678\n",
      "Training rmse: 59.859726\n",
      "Validation loss: 18760.873046875\n",
      "Validation rmse: 17.551169436364756\n",
      "Validation mae: 13.341357\n",
      "Validation mape: 0.16620255\n",
      "Validation acc: 0.21910661458969116\n"
     ]
    },
    {
     "name": "stderr",
     "output_type": "stream",
     "text": [
      "<ipython-input-6-5c6a0450ba2d>:85: DeprecationWarning: np.asscalar(a) is deprecated since NumPy v1.16, use a.item() instead\n",
      "  validation_losses.append(np.asscalar(val_loss.detach().cpu().numpy()))\n"
     ]
    },
    {
     "name": "stdout",
     "output_type": "stream",
     "text": [
      "epoch: 155\n",
      "Training loss: 1132.7925453322762\n",
      "Training rmse: 59.81414\n",
      "Validation loss: 19477.173828125\n",
      "Validation rmse: 17.883106020963787\n",
      "Validation mae: 13.67122\n",
      "Validation mape: 0.17335007\n",
      "Validation acc: 0.22492170333862305\n"
     ]
    },
    {
     "name": "stderr",
     "output_type": "stream",
     "text": [
      "<ipython-input-6-5c6a0450ba2d>:85: DeprecationWarning: np.asscalar(a) is deprecated since NumPy v1.16, use a.item() instead\n",
      "  validation_losses.append(np.asscalar(val_loss.detach().cpu().numpy()))\n"
     ]
    },
    {
     "name": "stdout",
     "output_type": "stream",
     "text": [
      "epoch: 156\n",
      "Training loss: 1132.071313454686\n",
      "Training rmse: 59.80669\n",
      "Validation loss: 18464.9609375\n",
      "Validation rmse: 17.412190764146573\n",
      "Validation mae: 13.201269\n",
      "Validation mape: 0.16282217\n",
      "Validation acc: 0.22168231010437012\n"
     ]
    },
    {
     "name": "stderr",
     "output_type": "stream",
     "text": [
      "<ipython-input-6-5c6a0450ba2d>:85: DeprecationWarning: np.asscalar(a) is deprecated since NumPy v1.16, use a.item() instead\n",
      "  validation_losses.append(np.asscalar(val_loss.detach().cpu().numpy()))\n"
     ]
    },
    {
     "name": "stdout",
     "output_type": "stream",
     "text": [
      "epoch: 157\n",
      "Training loss: 1128.758763467112\n",
      "Training rmse: 59.771984\n",
      "Validation loss: 19067.548828125\n",
      "Validation rmse: 17.694040551692026\n",
      "Validation mae: 13.476885\n",
      "Validation mape: 0.16913357\n",
      "Validation acc: 0.21862226724624634\n"
     ]
    },
    {
     "name": "stderr",
     "output_type": "stream",
     "text": [
      "<ipython-input-6-5c6a0450ba2d>:85: DeprecationWarning: np.asscalar(a) is deprecated since NumPy v1.16, use a.item() instead\n",
      "  validation_losses.append(np.asscalar(val_loss.detach().cpu().numpy()))\n"
     ]
    },
    {
     "name": "stdout",
     "output_type": "stream",
     "text": [
      "epoch: 158\n",
      "Training loss: 1125.6527356657075\n",
      "Training rmse: 59.74434\n",
      "Validation loss: 18947.73828125\n",
      "Validation rmse: 17.6383542811694\n",
      "Validation mae: 13.380628\n",
      "Validation mape: 0.1661837\n",
      "Validation acc: 0.2078624963760376\n"
     ]
    },
    {
     "name": "stderr",
     "output_type": "stream",
     "text": [
      "<ipython-input-6-5c6a0450ba2d>:85: DeprecationWarning: np.asscalar(a) is deprecated since NumPy v1.16, use a.item() instead\n",
      "  validation_losses.append(np.asscalar(val_loss.detach().cpu().numpy()))\n"
     ]
    },
    {
     "name": "stdout",
     "output_type": "stream",
     "text": [
      "epoch: 159\n",
      "Training loss: 1120.1729670698924\n",
      "Training rmse: 59.68746\n",
      "Validation loss: 18762.248046875\n",
      "Validation rmse: 17.55179973188291\n",
      "Validation mae: 13.291922\n",
      "Validation mape: 0.1649883\n",
      "Validation acc: 0.21612000465393066\n"
     ]
    },
    {
     "name": "stderr",
     "output_type": "stream",
     "text": [
      "<ipython-input-6-5c6a0450ba2d>:85: DeprecationWarning: np.asscalar(a) is deprecated since NumPy v1.16, use a.item() instead\n",
      "  validation_losses.append(np.asscalar(val_loss.detach().cpu().numpy()))\n"
     ]
    },
    {
     "name": "stdout",
     "output_type": "stream",
     "text": [
      "epoch: 160\n",
      "Training loss: 1117.337114340943\n",
      "Training rmse: 59.656\n",
      "Validation loss: 19450.76953125\n",
      "Validation rmse: 17.87096695651742\n",
      "Validation mae: 13.615486\n",
      "Validation mape: 0.1707376\n",
      "Validation acc: 0.19973284006118774\n"
     ]
    },
    {
     "name": "stderr",
     "output_type": "stream",
     "text": [
      "<ipython-input-6-5c6a0450ba2d>:85: DeprecationWarning: np.asscalar(a) is deprecated since NumPy v1.16, use a.item() instead\n",
      "  validation_losses.append(np.asscalar(val_loss.detach().cpu().numpy()))\n"
     ]
    },
    {
     "name": "stdout",
     "output_type": "stream",
     "text": [
      "epoch: 161\n",
      "Training loss: 1114.7779372567345\n",
      "Training rmse: 59.631607\n",
      "Validation loss: 19228.08203125\n",
      "Validation rmse: 17.768362084393413\n",
      "Validation mae: 13.537619\n",
      "Validation mape: 0.17092377\n",
      "Validation acc: 0.2229713797569275\n"
     ]
    },
    {
     "name": "stderr",
     "output_type": "stream",
     "text": [
      "<ipython-input-6-5c6a0450ba2d>:85: DeprecationWarning: np.asscalar(a) is deprecated since NumPy v1.16, use a.item() instead\n",
      "  validation_losses.append(np.asscalar(val_loss.detach().cpu().numpy()))\n"
     ]
    },
    {
     "name": "stdout",
     "output_type": "stream",
     "text": [
      "epoch: 162\n",
      "Training loss: 1112.81986195554\n",
      "Training rmse: 59.613102\n",
      "Validation loss: 18660.748046875\n",
      "Validation rmse: 17.504250146560388\n",
      "Validation mae: 13.234677\n",
      "Validation mape: 0.16179112\n",
      "Validation acc: 0.20943498611450195\n"
     ]
    },
    {
     "name": "stderr",
     "output_type": "stream",
     "text": [
      "<ipython-input-6-5c6a0450ba2d>:85: DeprecationWarning: np.asscalar(a) is deprecated since NumPy v1.16, use a.item() instead\n",
      "  validation_losses.append(np.asscalar(val_loss.detach().cpu().numpy()))\n"
     ]
    },
    {
     "name": "stdout",
     "output_type": "stream",
     "text": [
      "epoch: 163\n",
      "Training loss: 1107.8919974159596\n",
      "Training rmse: 59.560654\n",
      "Validation loss: 20334.376953125\n",
      "Validation rmse: 18.272394523196134\n",
      "Validation mae: 14.104339\n",
      "Validation mape: 0.18098308\n",
      "Validation acc: 0.22119832038879395\n"
     ]
    },
    {
     "name": "stderr",
     "output_type": "stream",
     "text": [
      "<ipython-input-6-5c6a0450ba2d>:85: DeprecationWarning: np.asscalar(a) is deprecated since NumPy v1.16, use a.item() instead\n",
      "  validation_losses.append(np.asscalar(val_loss.detach().cpu().numpy()))\n"
     ]
    },
    {
     "name": "stdout",
     "output_type": "stream",
     "text": [
      "epoch: 164\n",
      "Training loss: 1108.4754857435876\n",
      "Training rmse: 59.564697\n",
      "Validation loss: 19072.642578125\n",
      "Validation rmse: 17.696384314945966\n",
      "Validation mae: 13.476521\n",
      "Validation mape: 0.16861603\n",
      "Validation acc: 0.21351683139801025\n"
     ]
    },
    {
     "name": "stderr",
     "output_type": "stream",
     "text": [
      "<ipython-input-6-5c6a0450ba2d>:85: DeprecationWarning: np.asscalar(a) is deprecated since NumPy v1.16, use a.item() instead\n",
      "  validation_losses.append(np.asscalar(val_loss.detach().cpu().numpy()))\n"
     ]
    },
    {
     "name": "stdout",
     "output_type": "stream",
     "text": [
      "epoch: 165\n",
      "Training loss: 1100.674339868689\n",
      "Training rmse: 59.482857\n",
      "Validation loss: 19410.416015625\n",
      "Validation rmse: 17.852404418056953\n",
      "Validation mae: 13.566626\n",
      "Validation mape: 0.17041184\n",
      "Validation acc: 0.2092188596725464\n"
     ]
    },
    {
     "name": "stderr",
     "output_type": "stream",
     "text": [
      "<ipython-input-6-5c6a0450ba2d>:85: DeprecationWarning: np.asscalar(a) is deprecated since NumPy v1.16, use a.item() instead\n",
      "  validation_losses.append(np.asscalar(val_loss.detach().cpu().numpy()))\n"
     ]
    },
    {
     "name": "stdout",
     "output_type": "stream",
     "text": [
      "epoch: 166\n",
      "Training loss: 1099.1713959068381\n",
      "Training rmse: 59.47134\n",
      "Validation loss: 18885.640625\n",
      "Validation rmse: 17.609406194515405\n",
      "Validation mae: 13.303506\n",
      "Validation mape: 0.16186476\n",
      "Validation acc: 0.19917923212051392\n"
     ]
    },
    {
     "name": "stderr",
     "output_type": "stream",
     "text": [
      "<ipython-input-6-5c6a0450ba2d>:85: DeprecationWarning: np.asscalar(a) is deprecated since NumPy v1.16, use a.item() instead\n",
      "  validation_losses.append(np.asscalar(val_loss.detach().cpu().numpy()))\n"
     ]
    },
    {
     "name": "stdout",
     "output_type": "stream",
     "text": [
      "epoch: 167\n",
      "Training loss: 1093.6111615362133\n",
      "Training rmse: 59.4112\n",
      "Validation loss: 18748.857421875\n",
      "Validation rmse: 17.54551402085044\n",
      "Validation mae: 13.283948\n",
      "Validation mape: 0.16067535\n",
      "Validation acc: 0.20539987087249756\n"
     ]
    },
    {
     "name": "stderr",
     "output_type": "stream",
     "text": [
      "<ipython-input-6-5c6a0450ba2d>:85: DeprecationWarning: np.asscalar(a) is deprecated since NumPy v1.16, use a.item() instead\n",
      "  validation_losses.append(np.asscalar(val_loss.detach().cpu().numpy()))\n"
     ]
    },
    {
     "name": "stdout",
     "output_type": "stream",
     "text": [
      "epoch: 168\n",
      "Training loss: 1091.5779262529052\n",
      "Training rmse: 59.390255\n",
      "Validation loss: 18757.955078125\n",
      "Validation rmse: 17.549766186843932\n",
      "Validation mae: 13.28561\n",
      "Validation mape: 0.16467951\n",
      "Validation acc: 0.2151644229888916\n"
     ]
    },
    {
     "name": "stderr",
     "output_type": "stream",
     "text": [
      "<ipython-input-6-5c6a0450ba2d>:85: DeprecationWarning: np.asscalar(a) is deprecated since NumPy v1.16, use a.item() instead\n",
      "  validation_losses.append(np.asscalar(val_loss.detach().cpu().numpy()))\n"
     ]
    },
    {
     "name": "stdout",
     "output_type": "stream",
     "text": [
      "epoch: 169\n",
      "Training loss: 1090.1078307449177\n",
      "Training rmse: 59.376305\n",
      "Validation loss: 19412.05859375\n",
      "Validation rmse: 17.853148008091686\n",
      "Validation mae: 13.577305\n",
      "Validation mape: 0.17119075\n",
      "Validation acc: 0.21675199270248413\n"
     ]
    },
    {
     "name": "stderr",
     "output_type": "stream",
     "text": [
      "<ipython-input-6-5c6a0450ba2d>:85: DeprecationWarning: np.asscalar(a) is deprecated since NumPy v1.16, use a.item() instead\n",
      "  validation_losses.append(np.asscalar(val_loss.detach().cpu().numpy()))\n"
     ]
    },
    {
     "name": "stdout",
     "output_type": "stream",
     "text": [
      "epoch: 170\n",
      "Training loss: 1083.0582132100205\n",
      "Training rmse: 59.30416\n",
      "Validation loss: 18759.083984375\n",
      "Validation rmse: 17.55028959290763\n",
      "Validation mae: 13.264257\n",
      "Validation mape: 0.16145767\n",
      "Validation acc: 0.20458054542541504\n"
     ]
    },
    {
     "name": "stderr",
     "output_type": "stream",
     "text": [
      "<ipython-input-6-5c6a0450ba2d>:85: DeprecationWarning: np.asscalar(a) is deprecated since NumPy v1.16, use a.item() instead\n",
      "  validation_losses.append(np.asscalar(val_loss.detach().cpu().numpy()))\n"
     ]
    },
    {
     "name": "stdout",
     "output_type": "stream",
     "text": [
      "epoch: 171\n",
      "Training loss: 1082.301263296476\n",
      "Training rmse: 59.293102\n",
      "Validation loss: 18859.73046875\n",
      "Validation rmse: 17.597307241960877\n",
      "Validation mae: 13.276455\n",
      "Validation mape: 0.16298187\n",
      "Validation acc: 0.2032955288887024\n"
     ]
    },
    {
     "name": "stderr",
     "output_type": "stream",
     "text": [
      "<ipython-input-6-5c6a0450ba2d>:85: DeprecationWarning: np.asscalar(a) is deprecated since NumPy v1.16, use a.item() instead\n",
      "  validation_losses.append(np.asscalar(val_loss.detach().cpu().numpy()))\n"
     ]
    },
    {
     "name": "stdout",
     "output_type": "stream",
     "text": [
      "epoch: 172\n",
      "Training loss: 1075.6519649601325\n",
      "Training rmse: 59.22478\n",
      "Validation loss: 19126.33203125\n",
      "Validation rmse: 17.72125495548398\n",
      "Validation mae: 13.350398\n",
      "Validation mape: 0.16222697\n",
      "Validation acc: 0.18893533945083618\n"
     ]
    },
    {
     "name": "stderr",
     "output_type": "stream",
     "text": [
      "<ipython-input-6-5c6a0450ba2d>:85: DeprecationWarning: np.asscalar(a) is deprecated since NumPy v1.16, use a.item() instead\n",
      "  validation_losses.append(np.asscalar(val_loss.detach().cpu().numpy()))\n"
     ]
    },
    {
     "name": "stdout",
     "output_type": "stream",
     "text": [
      "epoch: 173\n",
      "Training loss: 1071.9141787730664\n",
      "Training rmse: 59.1891\n",
      "Validation loss: 18962.578125\n",
      "Validation rmse: 17.64522004065699\n",
      "Validation mae: 13.292456\n",
      "Validation mape: 0.16149011\n",
      "Validation acc: 0.19589626789093018\n"
     ]
    },
    {
     "name": "stderr",
     "output_type": "stream",
     "text": [
      "<ipython-input-6-5c6a0450ba2d>:85: DeprecationWarning: np.asscalar(a) is deprecated since NumPy v1.16, use a.item() instead\n",
      "  validation_losses.append(np.asscalar(val_loss.detach().cpu().numpy()))\n"
     ]
    },
    {
     "name": "stdout",
     "output_type": "stream",
     "text": [
      "epoch: 174\n",
      "Training loss: 1067.991708188074\n",
      "Training rmse: 59.14655\n",
      "Validation loss: 19272.166015625\n",
      "Validation rmse: 17.78868336497603\n",
      "Validation mae: 13.413305\n",
      "Validation mape: 0.16635056\n",
      "Validation acc: 0.1971113681793213\n"
     ]
    },
    {
     "name": "stderr",
     "output_type": "stream",
     "text": [
      "<ipython-input-6-5c6a0450ba2d>:85: DeprecationWarning: np.asscalar(a) is deprecated since NumPy v1.16, use a.item() instead\n",
      "  validation_losses.append(np.asscalar(val_loss.detach().cpu().numpy()))\n"
     ]
    },
    {
     "name": "stdout",
     "output_type": "stream",
     "text": [
      "epoch: 175\n",
      "Training loss: 1068.8113165961372\n",
      "Training rmse: 59.15233\n",
      "Validation loss: 19164.642578125\n",
      "Validation rmse: 17.73898446428709\n",
      "Validation mae: 13.424819\n",
      "Validation mape: 0.16646215\n",
      "Validation acc: 0.19907844066619873\n"
     ]
    },
    {
     "name": "stderr",
     "output_type": "stream",
     "text": [
      "<ipython-input-6-5c6a0450ba2d>:85: DeprecationWarning: np.asscalar(a) is deprecated since NumPy v1.16, use a.item() instead\n",
      "  validation_losses.append(np.asscalar(val_loss.detach().cpu().numpy()))\n"
     ]
    },
    {
     "name": "stdout",
     "output_type": "stream",
     "text": [
      "epoch: 176\n",
      "Training loss: 1060.16136136619\n",
      "Training rmse: 59.062157\n",
      "Validation loss: 19367.15234375\n",
      "Validation rmse: 17.832464654508552\n",
      "Validation mae: 13.45484\n",
      "Validation mape: 0.16646561\n",
      "Validation acc: 0.188664972782135\n"
     ]
    },
    {
     "name": "stderr",
     "output_type": "stream",
     "text": [
      "<ipython-input-6-5c6a0450ba2d>:85: DeprecationWarning: np.asscalar(a) is deprecated since NumPy v1.16, use a.item() instead\n",
      "  validation_losses.append(np.asscalar(val_loss.detach().cpu().numpy()))\n"
     ]
    },
    {
     "name": "stdout",
     "output_type": "stream",
     "text": [
      "epoch: 177\n",
      "Training loss: 1057.9412584749175\n",
      "Training rmse: 59.039932\n",
      "Validation loss: 19073.58984375\n",
      "Validation rmse: 17.69678612103542\n",
      "Validation mae: 13.318112\n",
      "Validation mape: 0.16487825\n",
      "Validation acc: 0.2026492953300476\n"
     ]
    },
    {
     "name": "stderr",
     "output_type": "stream",
     "text": [
      "<ipython-input-6-5c6a0450ba2d>:85: DeprecationWarning: np.asscalar(a) is deprecated since NumPy v1.16, use a.item() instead\n",
      "  validation_losses.append(np.asscalar(val_loss.detach().cpu().numpy()))\n"
     ]
    },
    {
     "name": "stdout",
     "output_type": "stream",
     "text": [
      "epoch: 178\n",
      "Training loss: 1052.4344176152274\n",
      "Training rmse: 58.983948\n",
      "Validation loss: 19638.06640625\n",
      "Validation rmse: 17.956755507590312\n",
      "Validation mae: 13.5251045\n",
      "Validation mape: 0.16825372\n",
      "Validation acc: 0.18647152185440063\n"
     ]
    },
    {
     "name": "stderr",
     "output_type": "stream",
     "text": [
      "<ipython-input-6-5c6a0450ba2d>:85: DeprecationWarning: np.asscalar(a) is deprecated since NumPy v1.16, use a.item() instead\n",
      "  validation_losses.append(np.asscalar(val_loss.detach().cpu().numpy()))\n"
     ]
    },
    {
     "name": "stdout",
     "output_type": "stream",
     "text": [
      "epoch: 179\n",
      "Training loss: 1047.7553005423597\n",
      "Training rmse: 58.932323\n",
      "Validation loss: 19480.369140625\n",
      "Validation rmse: 17.88450444568085\n",
      "Validation mae: 13.4082\n",
      "Validation mape: 0.1627489\n",
      "Validation acc: 0.17392057180404663\n"
     ]
    },
    {
     "name": "stderr",
     "output_type": "stream",
     "text": [
      "<ipython-input-6-5c6a0450ba2d>:85: DeprecationWarning: np.asscalar(a) is deprecated since NumPy v1.16, use a.item() instead\n",
      "  validation_losses.append(np.asscalar(val_loss.detach().cpu().numpy()))\n"
     ]
    },
    {
     "name": "stdout",
     "output_type": "stream",
     "text": [
      "epoch: 180\n",
      "Training loss: 1046.3364500640541\n",
      "Training rmse: 58.916946\n",
      "Validation loss: 19653.62109375\n",
      "Validation rmse: 17.96386057798363\n",
      "Validation mae: 13.432572\n",
      "Validation mape: 0.16496937\n",
      "Validation acc: 0.1719111204147339\n"
     ]
    },
    {
     "name": "stderr",
     "output_type": "stream",
     "text": [
      "<ipython-input-6-5c6a0450ba2d>:85: DeprecationWarning: np.asscalar(a) is deprecated since NumPy v1.16, use a.item() instead\n",
      "  validation_losses.append(np.asscalar(val_loss.detach().cpu().numpy()))\n"
     ]
    },
    {
     "name": "stdout",
     "output_type": "stream",
     "text": [
      "epoch: 181\n",
      "Training loss: 1037.9002536787355\n",
      "Training rmse: 58.832226\n",
      "Validation loss: 19874.228515625\n",
      "Validation rmse: 18.06440233818815\n",
      "Validation mae: 13.586975\n",
      "Validation mape: 0.16872087\n",
      "Validation acc: 0.1716945767402649\n"
     ]
    },
    {
     "name": "stderr",
     "output_type": "stream",
     "text": [
      "<ipython-input-6-5c6a0450ba2d>:85: DeprecationWarning: np.asscalar(a) is deprecated since NumPy v1.16, use a.item() instead\n",
      "  validation_losses.append(np.asscalar(val_loss.detach().cpu().numpy()))\n"
     ]
    },
    {
     "name": "stdout",
     "output_type": "stream",
     "text": [
      "epoch: 182\n",
      "Training loss: 1037.5585529505138\n",
      "Training rmse: 58.824413\n",
      "Validation loss: 20089.744140625\n",
      "Validation rmse: 18.162087426222087\n",
      "Validation mae: 13.672539\n",
      "Validation mape: 0.16961886\n",
      "Validation acc: 0.16072165966033936\n"
     ]
    },
    {
     "name": "stderr",
     "output_type": "stream",
     "text": [
      "<ipython-input-6-5c6a0450ba2d>:85: DeprecationWarning: np.asscalar(a) is deprecated since NumPy v1.16, use a.item() instead\n",
      "  validation_losses.append(np.asscalar(val_loss.detach().cpu().numpy()))\n"
     ]
    },
    {
     "name": "stdout",
     "output_type": "stream",
     "text": [
      "epoch: 183\n",
      "Training loss: 1030.9695294561352\n",
      "Training rmse: 58.755272\n",
      "Validation loss: 19628.265625\n",
      "Validation rmse: 17.952258906709083\n",
      "Validation mae: 13.463845\n",
      "Validation mape: 0.16248024\n",
      "Validation acc: 0.16818010807037354\n"
     ]
    },
    {
     "name": "stderr",
     "output_type": "stream",
     "text": [
      "<ipython-input-6-5c6a0450ba2d>:85: DeprecationWarning: np.asscalar(a) is deprecated since NumPy v1.16, use a.item() instead\n",
      "  validation_losses.append(np.asscalar(val_loss.detach().cpu().numpy()))\n"
     ]
    },
    {
     "name": "stdout",
     "output_type": "stream",
     "text": [
      "epoch: 184\n",
      "Training loss: 1026.3137913638973\n",
      "Training rmse: 58.70542\n",
      "Validation loss: 19687.205078125\n",
      "Validation rmse: 17.979190241450844\n",
      "Validation mae: 13.364972\n",
      "Validation mape: 0.16174172\n",
      "Validation acc: 0.16514551639556885\n"
     ]
    },
    {
     "name": "stderr",
     "output_type": "stream",
     "text": [
      "<ipython-input-6-5c6a0450ba2d>:85: DeprecationWarning: np.asscalar(a) is deprecated since NumPy v1.16, use a.item() instead\n",
      "  validation_losses.append(np.asscalar(val_loss.detach().cpu().numpy()))\n"
     ]
    },
    {
     "name": "stdout",
     "output_type": "stream",
     "text": [
      "epoch: 185\n",
      "Training loss: 1022.7350431599498\n",
      "Training rmse: 58.666786\n",
      "Validation loss: 19629.1171875\n",
      "Validation rmse: 17.952643086710886\n",
      "Validation mae: 13.41979\n",
      "Validation mape: 0.16270065\n",
      "Validation acc: 0.16759204864501953\n"
     ]
    },
    {
     "name": "stderr",
     "output_type": "stream",
     "text": [
      "<ipython-input-6-5c6a0450ba2d>:85: DeprecationWarning: np.asscalar(a) is deprecated since NumPy v1.16, use a.item() instead\n",
      "  validation_losses.append(np.asscalar(val_loss.detach().cpu().numpy()))\n"
     ]
    },
    {
     "name": "stdout",
     "output_type": "stream",
     "text": [
      "epoch: 186\n",
      "Training loss: 1022.0128028350065\n",
      "Training rmse: 58.657696\n",
      "Validation loss: 20288.640625\n",
      "Validation rmse: 18.25176658963669\n",
      "Validation mae: 13.612899\n",
      "Validation mape: 0.16787289\n",
      "Validation acc: 0.14825677871704102\n"
     ]
    },
    {
     "name": "stderr",
     "output_type": "stream",
     "text": [
      "<ipython-input-6-5c6a0450ba2d>:85: DeprecationWarning: np.asscalar(a) is deprecated since NumPy v1.16, use a.item() instead\n",
      "  validation_losses.append(np.asscalar(val_loss.detach().cpu().numpy()))\n"
     ]
    },
    {
     "name": "stdout",
     "output_type": "stream",
     "text": [
      "epoch: 187\n",
      "Training loss: 1012.3744769899648\n",
      "Training rmse: 58.552624\n",
      "Validation loss: 20003.955078125\n",
      "Validation rmse: 18.123247995873196\n",
      "Validation mae: 13.4910145\n",
      "Validation mape: 0.16250862\n",
      "Validation acc: 0.15250277519226074\n"
     ]
    },
    {
     "name": "stderr",
     "output_type": "stream",
     "text": [
      "<ipython-input-6-5c6a0450ba2d>:85: DeprecationWarning: np.asscalar(a) is deprecated since NumPy v1.16, use a.item() instead\n",
      "  validation_losses.append(np.asscalar(val_loss.detach().cpu().numpy()))\n"
     ]
    },
    {
     "name": "stdout",
     "output_type": "stream",
     "text": [
      "epoch: 188\n",
      "Training loss: 1012.8014425735747\n",
      "Training rmse: 58.56038\n",
      "Validation loss: 19898.40625\n",
      "Validation rmse: 18.0753672877729\n",
      "Validation mae: 13.515503\n",
      "Validation mape: 0.16518028\n",
      "Validation acc: 0.15761804580688477\n"
     ]
    },
    {
     "name": "stderr",
     "output_type": "stream",
     "text": [
      "<ipython-input-6-5c6a0450ba2d>:85: DeprecationWarning: np.asscalar(a) is deprecated since NumPy v1.16, use a.item() instead\n",
      "  validation_losses.append(np.asscalar(val_loss.detach().cpu().numpy()))\n"
     ]
    },
    {
     "name": "stdout",
     "output_type": "stream",
     "text": [
      "epoch: 189\n",
      "Training loss: 1008.0174887599056\n",
      "Training rmse: 58.506924\n",
      "Validation loss: 20316.5703125\n",
      "Validation rmse: 18.264316743674843\n",
      "Validation mae: 13.648943\n",
      "Validation mape: 0.16965915\n",
      "Validation acc: 0.15527105331420898\n"
     ]
    },
    {
     "name": "stderr",
     "output_type": "stream",
     "text": [
      "<ipython-input-6-5c6a0450ba2d>:85: DeprecationWarning: np.asscalar(a) is deprecated since NumPy v1.16, use a.item() instead\n",
      "  validation_losses.append(np.asscalar(val_loss.detach().cpu().numpy()))\n"
     ]
    },
    {
     "name": "stdout",
     "output_type": "stream",
     "text": [
      "epoch: 190\n",
      "Training loss: 1001.9739923511355\n",
      "Training rmse: 58.444275\n",
      "Validation loss: 20497.806640625\n",
      "Validation rmse: 18.345601548911016\n",
      "Validation mae: 13.730848\n",
      "Validation mape: 0.17034903\n",
      "Validation acc: 0.14438551664352417\n"
     ]
    },
    {
     "name": "stderr",
     "output_type": "stream",
     "text": [
      "<ipython-input-6-5c6a0450ba2d>:85: DeprecationWarning: np.asscalar(a) is deprecated since NumPy v1.16, use a.item() instead\n",
      "  validation_losses.append(np.asscalar(val_loss.detach().cpu().numpy()))\n"
     ]
    },
    {
     "name": "stdout",
     "output_type": "stream",
     "text": [
      "epoch: 191\n",
      "Training loss: 1000.080062373992\n",
      "Training rmse: 58.423298\n",
      "Validation loss: 19981.6875\n",
      "Validation rmse: 18.113146885284472\n",
      "Validation mae: 13.491487\n",
      "Validation mape: 0.16458443\n",
      "Validation acc: 0.15365856885910034\n"
     ]
    },
    {
     "name": "stderr",
     "output_type": "stream",
     "text": [
      "<ipython-input-6-5c6a0450ba2d>:85: DeprecationWarning: np.asscalar(a) is deprecated since NumPy v1.16, use a.item() instead\n",
      "  validation_losses.append(np.asscalar(val_loss.detach().cpu().numpy()))\n"
     ]
    },
    {
     "name": "stdout",
     "output_type": "stream",
     "text": [
      "epoch: 192\n",
      "Training loss: 998.8132545170391\n",
      "Training rmse: 58.40764\n",
      "Validation loss: 21295.734375\n",
      "Validation rmse: 18.699283622850704\n",
      "Validation mae: 14.048551\n",
      "Validation mape: 0.1773245\n",
      "Validation acc: 0.14566588401794434\n"
     ]
    },
    {
     "name": "stderr",
     "output_type": "stream",
     "text": [
      "<ipython-input-6-5c6a0450ba2d>:85: DeprecationWarning: np.asscalar(a) is deprecated since NumPy v1.16, use a.item() instead\n",
      "  validation_losses.append(np.asscalar(val_loss.detach().cpu().numpy()))\n"
     ]
    },
    {
     "name": "stdout",
     "output_type": "stream",
     "text": [
      "epoch: 193\n",
      "Training loss: 993.6588761524488\n",
      "Training rmse: 58.354103\n",
      "Validation loss: 20852.388671875\n",
      "Validation rmse: 18.50359989916869\n",
      "Validation mae: 13.866094\n",
      "Validation mape: 0.17249964\n",
      "Validation acc: 0.1316736936569214\n"
     ]
    },
    {
     "name": "stderr",
     "output_type": "stream",
     "text": [
      "<ipython-input-6-5c6a0450ba2d>:85: DeprecationWarning: np.asscalar(a) is deprecated since NumPy v1.16, use a.item() instead\n",
      "  validation_losses.append(np.asscalar(val_loss.detach().cpu().numpy()))\n"
     ]
    },
    {
     "name": "stdout",
     "output_type": "stream",
     "text": [
      "epoch: 194\n",
      "Training loss: 990.7767855736518\n",
      "Training rmse: 58.325375\n",
      "Validation loss: 21768.47265625\n",
      "Validation rmse: 18.905703601350293\n",
      "Validation mae: 14.263854\n",
      "Validation mape: 0.18090348\n",
      "Validation acc: 0.14100909233093262\n"
     ]
    },
    {
     "name": "stderr",
     "output_type": "stream",
     "text": [
      "<ipython-input-6-5c6a0450ba2d>:85: DeprecationWarning: np.asscalar(a) is deprecated since NumPy v1.16, use a.item() instead\n",
      "  validation_losses.append(np.asscalar(val_loss.detach().cpu().numpy()))\n"
     ]
    },
    {
     "name": "stdout",
     "output_type": "stream",
     "text": [
      "epoch: 195\n",
      "Training loss: 986.1898771443248\n",
      "Training rmse: 58.27237\n",
      "Validation loss: 21113.939453125\n",
      "Validation rmse: 18.619283118783652\n",
      "Validation mae: 13.847268\n",
      "Validation mape: 0.17048776\n",
      "Validation acc: 0.11086422204971313\n"
     ]
    },
    {
     "name": "stderr",
     "output_type": "stream",
     "text": [
      "<ipython-input-6-5c6a0450ba2d>:85: DeprecationWarning: np.asscalar(a) is deprecated since NumPy v1.16, use a.item() instead\n",
      "  validation_losses.append(np.asscalar(val_loss.detach().cpu().numpy()))\n"
     ]
    },
    {
     "name": "stdout",
     "output_type": "stream",
     "text": [
      "epoch: 196\n",
      "Training loss: 983.5543380791996\n",
      "Training rmse: 58.243362\n",
      "Validation loss: 20777.080078125\n",
      "Validation rmse: 18.470144564522904\n",
      "Validation mae: 13.765668\n",
      "Validation mape: 0.17012928\n",
      "Validation acc: 0.1297197937965393\n"
     ]
    },
    {
     "name": "stderr",
     "output_type": "stream",
     "text": [
      "<ipython-input-6-5c6a0450ba2d>:85: DeprecationWarning: np.asscalar(a) is deprecated since NumPy v1.16, use a.item() instead\n",
      "  validation_losses.append(np.asscalar(val_loss.detach().cpu().numpy()))\n"
     ]
    },
    {
     "name": "stdout",
     "output_type": "stream",
     "text": [
      "epoch: 197\n",
      "Training loss: 980.2207802393103\n",
      "Training rmse: 58.209053\n",
      "Validation loss: 21113.95703125\n",
      "Validation rmse: 18.61928721636015\n",
      "Validation mae: 13.79146\n",
      "Validation mape: 0.16971809\n",
      "Validation acc: 0.11193704605102539\n"
     ]
    },
    {
     "name": "stderr",
     "output_type": "stream",
     "text": [
      "<ipython-input-6-5c6a0450ba2d>:85: DeprecationWarning: np.asscalar(a) is deprecated since NumPy v1.16, use a.item() instead\n",
      "  validation_losses.append(np.asscalar(val_loss.detach().cpu().numpy()))\n"
     ]
    },
    {
     "name": "stdout",
     "output_type": "stream",
     "text": [
      "epoch: 198\n",
      "Training loss: 972.8178489438949\n",
      "Training rmse: 58.126907\n",
      "Validation loss: 20624.44140625\n",
      "Validation rmse: 18.40216423243473\n",
      "Validation mae: 13.60457\n",
      "Validation mape: 0.16632402\n",
      "Validation acc: 0.12857186794281006\n"
     ]
    },
    {
     "name": "stderr",
     "output_type": "stream",
     "text": [
      "<ipython-input-6-5c6a0450ba2d>:85: DeprecationWarning: np.asscalar(a) is deprecated since NumPy v1.16, use a.item() instead\n",
      "  validation_losses.append(np.asscalar(val_loss.detach().cpu().numpy()))\n"
     ]
    },
    {
     "name": "stdout",
     "output_type": "stream",
     "text": [
      "epoch: 199\n",
      "Training loss: 964.6946212604481\n",
      "Training rmse: 58.036125\n",
      "Validation loss: 21043.455078125\n",
      "Validation rmse: 18.588167163442815\n",
      "Validation mae: 13.823184\n",
      "Validation mape: 0.17237301\n",
      "Validation acc: 0.13200610876083374\n"
     ]
    },
    {
     "name": "stderr",
     "output_type": "stream",
     "text": [
      "<ipython-input-6-5c6a0450ba2d>:85: DeprecationWarning: np.asscalar(a) is deprecated since NumPy v1.16, use a.item() instead\n",
      "  validation_losses.append(np.asscalar(val_loss.detach().cpu().numpy()))\n"
     ]
    },
    {
     "name": "stdout",
     "output_type": "stream",
     "text": [
      "epoch: 200\n",
      "Training loss: 967.922856922218\n",
      "Training rmse: 58.073723\n",
      "Validation loss: 22351.1875\n",
      "Validation rmse: 19.15707042237849\n",
      "Validation mae: 14.327473\n",
      "Validation mape: 0.18101823\n",
      "Validation acc: 0.10888969898223877\n"
     ]
    },
    {
     "name": "stderr",
     "output_type": "stream",
     "text": [
      "<ipython-input-6-5c6a0450ba2d>:85: DeprecationWarning: np.asscalar(a) is deprecated since NumPy v1.16, use a.item() instead\n",
      "  validation_losses.append(np.asscalar(val_loss.detach().cpu().numpy()))\n"
     ]
    },
    {
     "name": "stdout",
     "output_type": "stream",
     "text": [
      "epoch: 201\n",
      "Training loss: 962.7915997795734\n",
      "Training rmse: 58.013954\n",
      "Validation loss: 21168.10546875\n",
      "Validation rmse: 18.64313704390682\n",
      "Validation mae: 13.788799\n",
      "Validation mape: 0.1659537\n",
      "Validation acc: 0.10332131385803223\n"
     ]
    },
    {
     "name": "stderr",
     "output_type": "stream",
     "text": [
      "<ipython-input-6-5c6a0450ba2d>:85: DeprecationWarning: np.asscalar(a) is deprecated since NumPy v1.16, use a.item() instead\n",
      "  validation_losses.append(np.asscalar(val_loss.detach().cpu().numpy()))\n"
     ]
    },
    {
     "name": "stdout",
     "output_type": "stream",
     "text": [
      "epoch: 202\n",
      "Training loss: 960.1036694160927\n",
      "Training rmse: 57.987858\n",
      "Validation loss: 21526.822265625\n",
      "Validation rmse: 18.80044564875516\n",
      "Validation mae: 13.952041\n",
      "Validation mape: 0.17384967\n",
      "Validation acc: 0.11061090230941772\n"
     ]
    },
    {
     "name": "stderr",
     "output_type": "stream",
     "text": [
      "<ipython-input-6-5c6a0450ba2d>:85: DeprecationWarning: np.asscalar(a) is deprecated since NumPy v1.16, use a.item() instead\n",
      "  validation_losses.append(np.asscalar(val_loss.detach().cpu().numpy()))\n"
     ]
    },
    {
     "name": "stdout",
     "output_type": "stream",
     "text": [
      "epoch: 203\n",
      "Training loss: 952.562488569581\n",
      "Training rmse: 57.90135\n",
      "Validation loss: 21430.58984375\n",
      "Validation rmse: 18.75837134085281\n",
      "Validation mae: 13.950745\n",
      "Validation mape: 0.1668689\n",
      "Validation acc: 0.0963861346244812\n"
     ]
    },
    {
     "name": "stderr",
     "output_type": "stream",
     "text": [
      "<ipython-input-6-5c6a0450ba2d>:85: DeprecationWarning: np.asscalar(a) is deprecated since NumPy v1.16, use a.item() instead\n",
      "  validation_losses.append(np.asscalar(val_loss.detach().cpu().numpy()))\n"
     ]
    },
    {
     "name": "stdout",
     "output_type": "stream",
     "text": [
      "epoch: 204\n",
      "Training loss: 946.7750208044565\n",
      "Training rmse: 57.838207\n",
      "Validation loss: 21911.724609375\n",
      "Validation rmse: 18.96778547923632\n",
      "Validation mae: 14.039817\n",
      "Validation mape: 0.17421155\n",
      "Validation acc: 0.08840274810791016\n"
     ]
    },
    {
     "name": "stderr",
     "output_type": "stream",
     "text": [
      "<ipython-input-6-5c6a0450ba2d>:85: DeprecationWarning: np.asscalar(a) is deprecated since NumPy v1.16, use a.item() instead\n",
      "  validation_losses.append(np.asscalar(val_loss.detach().cpu().numpy()))\n"
     ]
    },
    {
     "name": "stdout",
     "output_type": "stream",
     "text": [
      "epoch: 205\n",
      "Training loss: 946.2737984606015\n",
      "Training rmse: 57.830025\n",
      "Validation loss: 21646.845703125\n",
      "Validation rmse: 18.852776587510757\n",
      "Validation mae: 13.966731\n",
      "Validation mape: 0.17196728\n",
      "Validation acc: 0.089596688747406\n"
     ]
    },
    {
     "name": "stderr",
     "output_type": "stream",
     "text": [
      "<ipython-input-6-5c6a0450ba2d>:85: DeprecationWarning: np.asscalar(a) is deprecated since NumPy v1.16, use a.item() instead\n",
      "  validation_losses.append(np.asscalar(val_loss.detach().cpu().numpy()))\n"
     ]
    },
    {
     "name": "stdout",
     "output_type": "stream",
     "text": [
      "epoch: 206\n",
      "Training loss: 944.0941494630656\n",
      "Training rmse: 57.8048\n",
      "Validation loss: 24465.9453125\n",
      "Validation rmse: 20.04290594233484\n",
      "Validation mae: 15.365215\n",
      "Validation mape: 0.1985582\n",
      "Validation acc: 0.1232118010520935\n"
     ]
    },
    {
     "name": "stderr",
     "output_type": "stream",
     "text": [
      "<ipython-input-6-5c6a0450ba2d>:85: DeprecationWarning: np.asscalar(a) is deprecated since NumPy v1.16, use a.item() instead\n",
      "  validation_losses.append(np.asscalar(val_loss.detach().cpu().numpy()))\n"
     ]
    },
    {
     "name": "stdout",
     "output_type": "stream",
     "text": [
      "epoch: 207\n",
      "Training loss: 941.9584381759807\n",
      "Training rmse: 57.783386\n",
      "Validation loss: 21962.90625\n",
      "Validation rmse: 18.98991527954295\n",
      "Validation mae: 14.043984\n",
      "Validation mape: 0.17329364\n",
      "Validation acc: 0.07953864336013794\n"
     ]
    },
    {
     "name": "stderr",
     "output_type": "stream",
     "text": [
      "<ipython-input-6-5c6a0450ba2d>:85: DeprecationWarning: np.asscalar(a) is deprecated since NumPy v1.16, use a.item() instead\n",
      "  validation_losses.append(np.asscalar(val_loss.detach().cpu().numpy()))\n"
     ]
    },
    {
     "name": "stdout",
     "output_type": "stream",
     "text": [
      "epoch: 208\n",
      "Training loss: 931.1008682524432\n",
      "Training rmse: 57.6668\n",
      "Validation loss: 22554.052734375\n",
      "Validation rmse: 19.24379560880841\n",
      "Validation mae: 14.3042555\n",
      "Validation mape: 0.16835286\n",
      "Validation acc: 0.06823486089706421\n"
     ]
    },
    {
     "name": "stderr",
     "output_type": "stream",
     "text": [
      "<ipython-input-6-5c6a0450ba2d>:85: DeprecationWarning: np.asscalar(a) is deprecated since NumPy v1.16, use a.item() instead\n",
      "  validation_losses.append(np.asscalar(val_loss.detach().cpu().numpy()))\n"
     ]
    },
    {
     "name": "stdout",
     "output_type": "stream",
     "text": [
      "epoch: 209\n",
      "Training loss: 933.0357918141136\n",
      "Training rmse: 57.68246\n",
      "Validation loss: 22559.408203125\n",
      "Validation rmse: 19.246078289901444\n",
      "Validation mae: 14.296208\n",
      "Validation mape: 0.17896666\n",
      "Validation acc: 0.07763022184371948\n"
     ]
    },
    {
     "name": "stderr",
     "output_type": "stream",
     "text": [
      "<ipython-input-6-5c6a0450ba2d>:85: DeprecationWarning: np.asscalar(a) is deprecated since NumPy v1.16, use a.item() instead\n",
      "  validation_losses.append(np.asscalar(val_loss.detach().cpu().numpy()))\n"
     ]
    },
    {
     "name": "stdout",
     "output_type": "stream",
     "text": [
      "epoch: 210\n",
      "Training loss: 926.3141143142536\n",
      "Training rmse: 57.608112\n",
      "Validation loss: 22692.474609375\n",
      "Validation rmse: 19.302756410142486\n",
      "Validation mae: 14.274035\n",
      "Validation mape: 0.17703879\n",
      "Validation acc: 0.05645030736923218\n"
     ]
    },
    {
     "name": "stderr",
     "output_type": "stream",
     "text": [
      "<ipython-input-6-5c6a0450ba2d>:85: DeprecationWarning: np.asscalar(a) is deprecated since NumPy v1.16, use a.item() instead\n",
      "  validation_losses.append(np.asscalar(val_loss.detach().cpu().numpy()))\n"
     ]
    },
    {
     "name": "stdout",
     "output_type": "stream",
     "text": [
      "epoch: 211\n",
      "Training loss: 919.8999820285374\n",
      "Training rmse: 57.5366\n",
      "Validation loss: 22652.4453125\n",
      "Validation rmse: 19.28572235914596\n",
      "Validation mae: 14.375215\n",
      "Validation mape: 0.17989819\n",
      "Validation acc: 0.07577180862426758\n"
     ]
    },
    {
     "name": "stderr",
     "output_type": "stream",
     "text": [
      "<ipython-input-6-5c6a0450ba2d>:85: DeprecationWarning: np.asscalar(a) is deprecated since NumPy v1.16, use a.item() instead\n",
      "  validation_losses.append(np.asscalar(val_loss.detach().cpu().numpy()))\n"
     ]
    },
    {
     "name": "stdout",
     "output_type": "stream",
     "text": [
      "epoch: 212\n",
      "Training loss: 915.1825212594856\n",
      "Training rmse: 57.482426\n",
      "Validation loss: 25347.05078125\n",
      "Validation rmse: 20.40062613928798\n",
      "Validation mae: 15.321408\n",
      "Validation mape: 0.1959721\n",
      "Validation acc: 0.053797125816345215\n"
     ]
    },
    {
     "name": "stderr",
     "output_type": "stream",
     "text": [
      "<ipython-input-6-5c6a0450ba2d>:85: DeprecationWarning: np.asscalar(a) is deprecated since NumPy v1.16, use a.item() instead\n",
      "  validation_losses.append(np.asscalar(val_loss.detach().cpu().numpy()))\n"
     ]
    },
    {
     "name": "stdout",
     "output_type": "stream",
     "text": [
      "epoch: 213\n",
      "Training loss: 917.8639855060098\n",
      "Training rmse: 57.510075\n",
      "Validation loss: 22655.388671875\n",
      "Validation rmse: 19.286968452807958\n",
      "Validation mae: 14.2614\n",
      "Validation mape: 0.17476234\n",
      "Validation acc: 0.04378587007522583\n"
     ]
    },
    {
     "name": "stderr",
     "output_type": "stream",
     "text": [
      "<ipython-input-6-5c6a0450ba2d>:85: DeprecationWarning: np.asscalar(a) is deprecated since NumPy v1.16, use a.item() instead\n",
      "  validation_losses.append(np.asscalar(val_loss.detach().cpu().numpy()))\n"
     ]
    },
    {
     "name": "stdout",
     "output_type": "stream",
     "text": [
      "epoch: 214\n",
      "Training loss: 910.1187337786494\n",
      "Training rmse: 57.423725\n",
      "Validation loss: 22944.205078125\n",
      "Validation rmse: 19.409521444514755\n",
      "Validation mae: 14.283828\n",
      "Validation mape: 0.17475332\n",
      "Validation acc: 0.032096266746520996\n"
     ]
    },
    {
     "name": "stderr",
     "output_type": "stream",
     "text": [
      "<ipython-input-6-5c6a0450ba2d>:85: DeprecationWarning: np.asscalar(a) is deprecated since NumPy v1.16, use a.item() instead\n",
      "  validation_losses.append(np.asscalar(val_loss.detach().cpu().numpy()))\n"
     ]
    },
    {
     "name": "stdout",
     "output_type": "stream",
     "text": [
      "epoch: 215\n",
      "Training loss: 906.8966793484158\n",
      "Training rmse: 57.391335\n",
      "Validation loss: 22705.509765625\n",
      "Validation rmse: 19.308286731956244\n",
      "Validation mae: 14.255615\n",
      "Validation mape: 0.17174703\n",
      "Validation acc: 0.03769427537918091\n"
     ]
    },
    {
     "name": "stderr",
     "output_type": "stream",
     "text": [
      "<ipython-input-6-5c6a0450ba2d>:85: DeprecationWarning: np.asscalar(a) is deprecated since NumPy v1.16, use a.item() instead\n",
      "  validation_losses.append(np.asscalar(val_loss.detach().cpu().numpy()))\n"
     ]
    },
    {
     "name": "stdout",
     "output_type": "stream",
     "text": [
      "epoch: 216\n",
      "Training loss: 903.0358234802027\n",
      "Training rmse: 57.35081\n",
      "Validation loss: 23047.662109375\n",
      "Validation rmse: 19.453229323264445\n",
      "Validation mae: 14.391033\n",
      "Validation mape: 0.17861794\n",
      "Validation acc: 0.04289752244949341\n"
     ]
    },
    {
     "name": "stderr",
     "output_type": "stream",
     "text": [
      "<ipython-input-6-5c6a0450ba2d>:85: DeprecationWarning: np.asscalar(a) is deprecated since NumPy v1.16, use a.item() instead\n",
      "  validation_losses.append(np.asscalar(val_loss.detach().cpu().numpy()))\n"
     ]
    },
    {
     "name": "stdout",
     "output_type": "stream",
     "text": [
      "epoch: 217\n",
      "Training loss: 899.7362529795657\n",
      "Training rmse: 57.30919\n",
      "Validation loss: 23791.181640625\n",
      "Validation rmse: 19.764538013589515\n",
      "Validation mae: 14.641855\n",
      "Validation mape: 0.18366459\n",
      "Validation acc: 0.036100566387176514\n"
     ]
    },
    {
     "name": "stderr",
     "output_type": "stream",
     "text": [
      "<ipython-input-6-5c6a0450ba2d>:85: DeprecationWarning: np.asscalar(a) is deprecated since NumPy v1.16, use a.item() instead\n",
      "  validation_losses.append(np.asscalar(val_loss.detach().cpu().numpy()))\n"
     ]
    },
    {
     "name": "stdout",
     "output_type": "stream",
     "text": [
      "epoch: 218\n",
      "Training loss: 902.0582488685526\n",
      "Training rmse: 57.334957\n",
      "Validation loss: 22542.888671875\n",
      "Validation rmse: 19.239006569448872\n",
      "Validation mae: 14.193917\n",
      "Validation mape: 0.17221524\n",
      "Validation acc: 0.04444468021392822\n"
     ]
    },
    {
     "name": "stderr",
     "output_type": "stream",
     "text": [
      "<ipython-input-6-5c6a0450ba2d>:85: DeprecationWarning: np.asscalar(a) is deprecated since NumPy v1.16, use a.item() instead\n",
      "  validation_losses.append(np.asscalar(val_loss.detach().cpu().numpy()))\n"
     ]
    },
    {
     "name": "stdout",
     "output_type": "stream",
     "text": [
      "epoch: 219\n",
      "Training loss: 890.933092835129\n",
      "Training rmse: 57.206734\n",
      "Validation loss: 22992.8828125\n",
      "Validation rmse: 19.430088801394557\n",
      "Validation mae: 14.420224\n",
      "Validation mape: 0.17255059\n",
      "Validation acc: 0.029438436031341553\n"
     ]
    },
    {
     "name": "stderr",
     "output_type": "stream",
     "text": [
      "<ipython-input-6-5c6a0450ba2d>:85: DeprecationWarning: np.asscalar(a) is deprecated since NumPy v1.16, use a.item() instead\n",
      "  validation_losses.append(np.asscalar(val_loss.detach().cpu().numpy()))\n"
     ]
    },
    {
     "name": "stdout",
     "output_type": "stream",
     "text": [
      "epoch: 220\n",
      "Training loss: 891.0244511976891\n",
      "Training rmse: 57.205242\n",
      "Validation loss: 22805.26171875\n",
      "Validation rmse: 19.35064387075765\n",
      "Validation mae: 14.272918\n",
      "Validation mape: 0.17524604\n",
      "Validation acc: 0.03981912136077881\n"
     ]
    },
    {
     "name": "stderr",
     "output_type": "stream",
     "text": [
      "<ipython-input-6-5c6a0450ba2d>:85: DeprecationWarning: np.asscalar(a) is deprecated since NumPy v1.16, use a.item() instead\n",
      "  validation_losses.append(np.asscalar(val_loss.detach().cpu().numpy()))\n"
     ]
    },
    {
     "name": "stdout",
     "output_type": "stream",
     "text": [
      "epoch: 221\n",
      "Training loss: 885.9119144015842\n",
      "Training rmse: 57.147427\n",
      "Validation loss: 23609.701171875\n",
      "Validation rmse: 19.688997338893046\n",
      "Validation mae: 14.487556\n",
      "Validation mape: 0.17839336\n",
      "Validation acc: 0.011329472064971924\n"
     ]
    },
    {
     "name": "stderr",
     "output_type": "stream",
     "text": [
      "<ipython-input-6-5c6a0450ba2d>:85: DeprecationWarning: np.asscalar(a) is deprecated since NumPy v1.16, use a.item() instead\n",
      "  validation_losses.append(np.asscalar(val_loss.detach().cpu().numpy()))\n"
     ]
    },
    {
     "name": "stdout",
     "output_type": "stream",
     "text": [
      "epoch: 222\n",
      "Training loss: 877.2793407918732\n",
      "Training rmse: 57.049946\n",
      "Validation loss: 23781.654296875\n",
      "Validation rmse: 19.76056784366042\n",
      "Validation mae: 14.536661\n",
      "Validation mape: 0.17582718\n",
      "Validation acc: -0.008498668670654297\n"
     ]
    },
    {
     "name": "stderr",
     "output_type": "stream",
     "text": [
      "<ipython-input-6-5c6a0450ba2d>:85: DeprecationWarning: np.asscalar(a) is deprecated since NumPy v1.16, use a.item() instead\n",
      "  validation_losses.append(np.asscalar(val_loss.detach().cpu().numpy()))\n"
     ]
    },
    {
     "name": "stdout",
     "output_type": "stream",
     "text": [
      "epoch: 223\n",
      "Training loss: 878.7213864343568\n",
      "Training rmse: 57.066486\n",
      "Validation loss: 23283.259765625\n",
      "Validation rmse: 19.55239324335946\n",
      "Validation mae: 14.420685\n",
      "Validation mape: 0.17581567\n",
      "Validation acc: 0.014529943466186523\n"
     ]
    },
    {
     "name": "stderr",
     "output_type": "stream",
     "text": [
      "<ipython-input-6-5c6a0450ba2d>:85: DeprecationWarning: np.asscalar(a) is deprecated since NumPy v1.16, use a.item() instead\n",
      "  validation_losses.append(np.asscalar(val_loss.detach().cpu().numpy()))\n"
     ]
    },
    {
     "name": "stdout",
     "output_type": "stream",
     "text": [
      "epoch: 224\n",
      "Training loss: 879.1355163683601\n",
      "Training rmse: 57.071823\n",
      "Validation loss: 24113.91796875\n",
      "Validation rmse: 19.898132297914607\n",
      "Validation mae: 14.830086\n",
      "Validation mape: 0.18580443\n",
      "Validation acc: 0.026976287364959717\n"
     ]
    },
    {
     "name": "stderr",
     "output_type": "stream",
     "text": [
      "<ipython-input-6-5c6a0450ba2d>:85: DeprecationWarning: np.asscalar(a) is deprecated since NumPy v1.16, use a.item() instead\n",
      "  validation_losses.append(np.asscalar(val_loss.detach().cpu().numpy()))\n"
     ]
    },
    {
     "name": "stdout",
     "output_type": "stream",
     "text": [
      "epoch: 225\n",
      "Training loss: 869.2920765757134\n",
      "Training rmse: 56.954697\n",
      "Validation loss: 24368.546875\n",
      "Validation rmse: 20.00291879336379\n",
      "Validation mae: 14.820164\n",
      "Validation mape: 0.18564159\n",
      "Validation acc: 0.01508629322052002\n"
     ]
    },
    {
     "name": "stderr",
     "output_type": "stream",
     "text": [
      "<ipython-input-6-5c6a0450ba2d>:85: DeprecationWarning: np.asscalar(a) is deprecated since NumPy v1.16, use a.item() instead\n",
      "  validation_losses.append(np.asscalar(val_loss.detach().cpu().numpy()))\n"
     ]
    },
    {
     "name": "stdout",
     "output_type": "stream",
     "text": [
      "epoch: 226\n",
      "Training loss: 865.5932234897408\n",
      "Training rmse: 56.915184\n",
      "Validation loss: 23107.107421875\n",
      "Validation rmse: 19.478275032512183\n",
      "Validation mae: 14.379608\n",
      "Validation mape: 0.17556904\n",
      "Validation acc: 0.022946536540985107\n"
     ]
    },
    {
     "name": "stderr",
     "output_type": "stream",
     "text": [
      "<ipython-input-6-5c6a0450ba2d>:85: DeprecationWarning: np.asscalar(a) is deprecated since NumPy v1.16, use a.item() instead\n",
      "  validation_losses.append(np.asscalar(val_loss.detach().cpu().numpy()))\n"
     ]
    },
    {
     "name": "stdout",
     "output_type": "stream",
     "text": [
      "epoch: 227\n",
      "Training loss: 864.5467818065356\n",
      "Training rmse: 56.90521\n",
      "Validation loss: 23753.80859375\n",
      "Validation rmse: 19.748981691014635\n",
      "Validation mae: 14.518552\n",
      "Validation mape: 0.17672668\n",
      "Validation acc: -0.006048440933227539\n"
     ]
    },
    {
     "name": "stderr",
     "output_type": "stream",
     "text": [
      "<ipython-input-6-5c6a0450ba2d>:85: DeprecationWarning: np.asscalar(a) is deprecated since NumPy v1.16, use a.item() instead\n",
      "  validation_losses.append(np.asscalar(val_loss.detach().cpu().numpy()))\n"
     ]
    },
    {
     "name": "stdout",
     "output_type": "stream",
     "text": [
      "epoch: 228\n",
      "Training loss: 862.1234130312465\n",
      "Training rmse: 56.870956\n",
      "Validation loss: 24254.572265625\n",
      "Validation rmse: 19.956073587929943\n",
      "Validation mae: 14.711689\n",
      "Validation mape: 0.18228787\n",
      "Validation acc: -0.008138179779052734\n"
     ]
    },
    {
     "name": "stderr",
     "output_type": "stream",
     "text": [
      "<ipython-input-6-5c6a0450ba2d>:85: DeprecationWarning: np.asscalar(a) is deprecated since NumPy v1.16, use a.item() instead\n",
      "  validation_losses.append(np.asscalar(val_loss.detach().cpu().numpy()))\n"
     ]
    },
    {
     "name": "stdout",
     "output_type": "stream",
     "text": [
      "epoch: 229\n",
      "Training loss: 856.9264660360138\n",
      "Training rmse: 56.812202\n",
      "Validation loss: 23825.25390625\n",
      "Validation rmse: 19.778655691104632\n",
      "Validation mae: 14.5321\n",
      "Validation mape: 0.1788828\n",
      "Validation acc: 0.00032132863998413086\n"
     ]
    },
    {
     "name": "stderr",
     "output_type": "stream",
     "text": [
      "<ipython-input-6-5c6a0450ba2d>:85: DeprecationWarning: np.asscalar(a) is deprecated since NumPy v1.16, use a.item() instead\n",
      "  validation_losses.append(np.asscalar(val_loss.detach().cpu().numpy()))\n"
     ]
    },
    {
     "name": "stdout",
     "output_type": "stream",
     "text": [
      "epoch: 230\n",
      "Training loss: 856.5411549229776\n",
      "Training rmse: 56.812073\n",
      "Validation loss: 23127.560546875\n",
      "Validation rmse: 19.486886334498692\n",
      "Validation mae: 14.36958\n",
      "Validation mape: 0.17338625\n",
      "Validation acc: 0.01938563585281372\n"
     ]
    },
    {
     "name": "stderr",
     "output_type": "stream",
     "text": [
      "<ipython-input-6-5c6a0450ba2d>:85: DeprecationWarning: np.asscalar(a) is deprecated since NumPy v1.16, use a.item() instead\n",
      "  validation_losses.append(np.asscalar(val_loss.detach().cpu().numpy()))\n"
     ]
    },
    {
     "name": "stdout",
     "output_type": "stream",
     "text": [
      "epoch: 231\n",
      "Training loss: 851.5510029126239\n",
      "Training rmse: 56.74864\n",
      "Validation loss: 23669.357421875\n",
      "Validation rmse: 19.713831752186476\n",
      "Validation mae: 14.509253\n",
      "Validation mape: 0.1786634\n",
      "Validation acc: 0.005334079265594482\n"
     ]
    },
    {
     "name": "stderr",
     "output_type": "stream",
     "text": [
      "<ipython-input-6-5c6a0450ba2d>:85: DeprecationWarning: np.asscalar(a) is deprecated since NumPy v1.16, use a.item() instead\n",
      "  validation_losses.append(np.asscalar(val_loss.detach().cpu().numpy()))\n"
     ]
    },
    {
     "name": "stdout",
     "output_type": "stream",
     "text": [
      "epoch: 232\n",
      "Training loss: 847.1408816101731\n",
      "Training rmse: 56.698612\n",
      "Validation loss: 23057.630859375\n",
      "Validation rmse: 19.45739708989031\n",
      "Validation mae: 14.329243\n",
      "Validation mape: 0.17514393\n",
      "Validation acc: 0.02661418914794922\n"
     ]
    },
    {
     "name": "stderr",
     "output_type": "stream",
     "text": [
      "<ipython-input-6-5c6a0450ba2d>:85: DeprecationWarning: np.asscalar(a) is deprecated since NumPy v1.16, use a.item() instead\n",
      "  validation_losses.append(np.asscalar(val_loss.detach().cpu().numpy()))\n"
     ]
    },
    {
     "name": "stdout",
     "output_type": "stream",
     "text": [
      "epoch: 233\n",
      "Training loss: 847.7052065941596\n",
      "Training rmse: 56.7081\n",
      "Validation loss: 23859.232421875\n",
      "Validation rmse: 19.79274865120865\n",
      "Validation mae: 14.55844\n",
      "Validation mape: 0.17983931\n",
      "Validation acc: 0.0035980939865112305\n"
     ]
    },
    {
     "name": "stderr",
     "output_type": "stream",
     "text": [
      "<ipython-input-6-5c6a0450ba2d>:85: DeprecationWarning: np.asscalar(a) is deprecated since NumPy v1.16, use a.item() instead\n",
      "  validation_losses.append(np.asscalar(val_loss.detach().cpu().numpy()))\n"
     ]
    },
    {
     "name": "stdout",
     "output_type": "stream",
     "text": [
      "epoch: 234\n",
      "Training loss: 843.1185074672904\n",
      "Training rmse: 56.649467\n",
      "Validation loss: 24745.36328125\n",
      "Validation rmse: 20.156969161104524\n",
      "Validation mae: 15.008219\n",
      "Validation mape: 0.18892388\n",
      "Validation acc: 0.0182342529296875\n"
     ]
    },
    {
     "name": "stderr",
     "output_type": "stream",
     "text": [
      "<ipython-input-6-5c6a0450ba2d>:85: DeprecationWarning: np.asscalar(a) is deprecated since NumPy v1.16, use a.item() instead\n",
      "  validation_losses.append(np.asscalar(val_loss.detach().cpu().numpy()))\n"
     ]
    },
    {
     "name": "stdout",
     "output_type": "stream",
     "text": [
      "epoch: 235\n",
      "Training loss: 839.7683509088332\n",
      "Training rmse: 56.609726\n",
      "Validation loss: 23369.9609375\n",
      "Validation rmse: 19.588738051422958\n",
      "Validation mae: 14.400997\n",
      "Validation mape: 0.1745608\n",
      "Validation acc: 0.009204506874084473\n"
     ]
    },
    {
     "name": "stderr",
     "output_type": "stream",
     "text": [
      "<ipython-input-6-5c6a0450ba2d>:85: DeprecationWarning: np.asscalar(a) is deprecated since NumPy v1.16, use a.item() instead\n",
      "  validation_losses.append(np.asscalar(val_loss.detach().cpu().numpy()))\n"
     ]
    },
    {
     "name": "stdout",
     "output_type": "stream",
     "text": [
      "epoch: 236\n",
      "Training loss: 842.3859051666807\n",
      "Training rmse: 56.64042\n",
      "Validation loss: 23452.1171875\n",
      "Validation rmse: 19.623136978648763\n",
      "Validation mae: 14.428646\n",
      "Validation mape: 0.17530365\n",
      "Validation acc: 0.005905032157897949\n"
     ]
    },
    {
     "name": "stderr",
     "output_type": "stream",
     "text": [
      "<ipython-input-6-5c6a0450ba2d>:85: DeprecationWarning: np.asscalar(a) is deprecated since NumPy v1.16, use a.item() instead\n",
      "  validation_losses.append(np.asscalar(val_loss.detach().cpu().numpy()))\n"
     ]
    },
    {
     "name": "stdout",
     "output_type": "stream",
     "text": [
      "epoch: 237\n",
      "Training loss: 837.9319649426313\n",
      "Training rmse: 56.586838\n",
      "Validation loss: 23786.294921875\n",
      "Validation rmse: 19.762459603255675\n",
      "Validation mae: 14.488728\n",
      "Validation mape: 0.17693253\n",
      "Validation acc: -0.00572514533996582\n"
     ]
    },
    {
     "name": "stderr",
     "output_type": "stream",
     "text": [
      "<ipython-input-6-5c6a0450ba2d>:85: DeprecationWarning: np.asscalar(a) is deprecated since NumPy v1.16, use a.item() instead\n",
      "  validation_losses.append(np.asscalar(val_loss.detach().cpu().numpy()))\n"
     ]
    },
    {
     "name": "stdout",
     "output_type": "stream",
     "text": [
      "epoch: 238\n",
      "Training loss: 840.2936597160968\n",
      "Training rmse: 56.614624\n",
      "Validation loss: 23948.669921875\n",
      "Validation rmse: 19.829801015158505\n",
      "Validation mae: 14.615613\n",
      "Validation mape: 0.17412232\n",
      "Validation acc: -0.007196187973022461\n"
     ]
    },
    {
     "name": "stderr",
     "output_type": "stream",
     "text": [
      "<ipython-input-6-5c6a0450ba2d>:85: DeprecationWarning: np.asscalar(a) is deprecated since NumPy v1.16, use a.item() instead\n",
      "  validation_losses.append(np.asscalar(val_loss.detach().cpu().numpy()))\n"
     ]
    },
    {
     "name": "stdout",
     "output_type": "stream",
     "text": [
      "epoch: 239\n",
      "Training loss: 831.0118640639876\n",
      "Training rmse: 56.505306\n",
      "Validation loss: 23709.861328125\n",
      "Validation rmse: 19.730674849819426\n",
      "Validation mae: 14.487229\n",
      "Validation mape: 0.17835706\n",
      "Validation acc: 0.004536986351013184\n"
     ]
    },
    {
     "name": "stderr",
     "output_type": "stream",
     "text": [
      "<ipython-input-6-5c6a0450ba2d>:85: DeprecationWarning: np.asscalar(a) is deprecated since NumPy v1.16, use a.item() instead\n",
      "  validation_losses.append(np.asscalar(val_loss.detach().cpu().numpy()))\n"
     ]
    },
    {
     "name": "stdout",
     "output_type": "stream",
     "text": [
      "epoch: 240\n",
      "Training loss: 826.5397155105427\n",
      "Training rmse: 56.452305\n",
      "Validation loss: 23473.599609375\n",
      "Validation rmse: 19.632113777110753\n",
      "Validation mae: 14.441523\n",
      "Validation mape: 0.17769913\n",
      "Validation acc: 0.014512121677398682\n"
     ]
    },
    {
     "name": "stderr",
     "output_type": "stream",
     "text": [
      "<ipython-input-6-5c6a0450ba2d>:85: DeprecationWarning: np.asscalar(a) is deprecated since NumPy v1.16, use a.item() instead\n",
      "  validation_losses.append(np.asscalar(val_loss.detach().cpu().numpy()))\n"
     ]
    },
    {
     "name": "stdout",
     "output_type": "stream",
     "text": [
      "epoch: 241\n",
      "Training loss: 826.53149332026\n",
      "Training rmse: 56.45537\n",
      "Validation loss: 23405.86328125\n",
      "Validation rmse: 19.603764604532515\n",
      "Validation mae: 14.402436\n",
      "Validation mape: 0.17443699\n",
      "Validation acc: 0.007535398006439209\n"
     ]
    },
    {
     "name": "stderr",
     "output_type": "stream",
     "text": [
      "<ipython-input-6-5c6a0450ba2d>:85: DeprecationWarning: np.asscalar(a) is deprecated since NumPy v1.16, use a.item() instead\n",
      "  validation_losses.append(np.asscalar(val_loss.detach().cpu().numpy()))\n"
     ]
    },
    {
     "name": "stdout",
     "output_type": "stream",
     "text": [
      "epoch: 242\n",
      "Training loss: 822.8824255064824\n",
      "Training rmse: 56.408142\n",
      "Validation loss: 23956.423828125\n",
      "Validation rmse: 19.833001825890634\n",
      "Validation mae: 14.565779\n",
      "Validation mape: 0.1804903\n",
      "Validation acc: 0.00383073091506958\n"
     ]
    },
    {
     "name": "stderr",
     "output_type": "stream",
     "text": [
      "<ipython-input-6-5c6a0450ba2d>:85: DeprecationWarning: np.asscalar(a) is deprecated since NumPy v1.16, use a.item() instead\n",
      "  validation_losses.append(np.asscalar(val_loss.detach().cpu().numpy()))\n"
     ]
    },
    {
     "name": "stdout",
     "output_type": "stream",
     "text": [
      "epoch: 243\n",
      "Training loss: 824.2206604660198\n",
      "Training rmse: 56.423218\n",
      "Validation loss: 23977.78515625\n",
      "Validation rmse: 19.841839844087986\n",
      "Validation mae: 14.63585\n",
      "Validation mape: 0.18138522\n",
      "Validation acc: 0.0033004283905029297\n"
     ]
    },
    {
     "name": "stderr",
     "output_type": "stream",
     "text": [
      "<ipython-input-6-5c6a0450ba2d>:85: DeprecationWarning: np.asscalar(a) is deprecated since NumPy v1.16, use a.item() instead\n",
      "  validation_losses.append(np.asscalar(val_loss.detach().cpu().numpy()))\n"
     ]
    },
    {
     "name": "stdout",
     "output_type": "stream",
     "text": [
      "epoch: 244\n",
      "Training loss: 824.7312158837541\n",
      "Training rmse: 56.43259\n",
      "Validation loss: 23426.552734375\n",
      "Validation rmse: 19.612419615484168\n",
      "Validation mae: 14.408809\n",
      "Validation mape: 0.17658329\n",
      "Validation acc: 0.011693775653839111\n"
     ]
    },
    {
     "name": "stderr",
     "output_type": "stream",
     "text": [
      "<ipython-input-6-5c6a0450ba2d>:85: DeprecationWarning: np.asscalar(a) is deprecated since NumPy v1.16, use a.item() instead\n",
      "  validation_losses.append(np.asscalar(val_loss.detach().cpu().numpy()))\n"
     ]
    },
    {
     "name": "stdout",
     "output_type": "stream",
     "text": [
      "epoch: 245\n",
      "Training loss: 819.5218632742495\n",
      "Training rmse: 56.3682\n",
      "Validation loss: 23774.38671875\n",
      "Validation rmse: 19.757492768765285\n",
      "Validation mae: 14.538884\n",
      "Validation mape: 0.1800502\n",
      "Validation acc: 0.011441469192504883\n"
     ]
    },
    {
     "name": "stderr",
     "output_type": "stream",
     "text": [
      "<ipython-input-6-5c6a0450ba2d>:85: DeprecationWarning: np.asscalar(a) is deprecated since NumPy v1.16, use a.item() instead\n",
      "  validation_losses.append(np.asscalar(val_loss.detach().cpu().numpy()))\n"
     ]
    },
    {
     "name": "stdout",
     "output_type": "stream",
     "text": [
      "epoch: 246\n",
      "Training loss: 812.058613055923\n",
      "Training rmse: 56.278824\n",
      "Validation loss: 23577.333984375\n",
      "Validation rmse: 19.675432654619932\n",
      "Validation mae: 14.419678\n",
      "Validation mape: 0.17568165\n",
      "Validation acc: 0.001843869686126709\n"
     ]
    },
    {
     "name": "stderr",
     "output_type": "stream",
     "text": [
      "<ipython-input-6-5c6a0450ba2d>:85: DeprecationWarning: np.asscalar(a) is deprecated since NumPy v1.16, use a.item() instead\n",
      "  validation_losses.append(np.asscalar(val_loss.detach().cpu().numpy()))\n"
     ]
    },
    {
     "name": "stdout",
     "output_type": "stream",
     "text": [
      "epoch: 247\n",
      "Training loss: 812.41697195183\n",
      "Training rmse: 56.28317\n",
      "Validation loss: 23786.9375\n",
      "Validation rmse: 19.762702816351357\n",
      "Validation mae: 14.545132\n",
      "Validation mape: 0.17901807\n",
      "Validation acc: 0.00036722421646118164\n"
     ]
    },
    {
     "name": "stderr",
     "output_type": "stream",
     "text": [
      "<ipython-input-6-5c6a0450ba2d>:85: DeprecationWarning: np.asscalar(a) is deprecated since NumPy v1.16, use a.item() instead\n",
      "  validation_losses.append(np.asscalar(val_loss.detach().cpu().numpy()))\n"
     ]
    },
    {
     "name": "stdout",
     "output_type": "stream",
     "text": [
      "epoch: 248\n",
      "Training loss: 812.7154081611224\n",
      "Training rmse: 56.285\n",
      "Validation loss: 23901.935546875\n",
      "Validation rmse: 19.810415838229993\n",
      "Validation mae: 14.553333\n",
      "Validation mape: 0.18034238\n",
      "Validation acc: 0.005542635917663574\n"
     ]
    },
    {
     "name": "stderr",
     "output_type": "stream",
     "text": [
      "<ipython-input-6-5c6a0450ba2d>:85: DeprecationWarning: np.asscalar(a) is deprecated since NumPy v1.16, use a.item() instead\n",
      "  validation_losses.append(np.asscalar(val_loss.detach().cpu().numpy()))\n"
     ]
    },
    {
     "name": "stdout",
     "output_type": "stream",
     "text": [
      "epoch: 249\n",
      "Training loss: 806.6969382993636\n",
      "Training rmse: 56.21178\n",
      "Validation loss: 23865.763671875\n",
      "Validation rmse: 19.795418195708034\n",
      "Validation mae: 14.545581\n",
      "Validation mape: 0.17702095\n",
      "Validation acc: -0.01137399673461914\n"
     ]
    },
    {
     "name": "stderr",
     "output_type": "stream",
     "text": [
      "<ipython-input-6-5c6a0450ba2d>:85: DeprecationWarning: np.asscalar(a) is deprecated since NumPy v1.16, use a.item() instead\n",
      "  validation_losses.append(np.asscalar(val_loss.detach().cpu().numpy()))\n"
     ]
    },
    {
     "name": "stdout",
     "output_type": "stream",
     "text": [
      "epoch: 250\n",
      "Training loss: 808.2676546924004\n",
      "Training rmse: 56.23149\n",
      "Validation loss: 23547.265625\n",
      "Validation rmse: 19.662875224884456\n",
      "Validation mae: 14.449359\n",
      "Validation mape: 0.17729326\n",
      "Validation acc: 0.007148087024688721\n"
     ]
    },
    {
     "name": "stderr",
     "output_type": "stream",
     "text": [
      "<ipython-input-6-5c6a0450ba2d>:85: DeprecationWarning: np.asscalar(a) is deprecated since NumPy v1.16, use a.item() instead\n",
      "  validation_losses.append(np.asscalar(val_loss.detach().cpu().numpy()))\n"
     ]
    },
    {
     "name": "stdout",
     "output_type": "stream",
     "text": [
      "epoch: 251\n",
      "Training loss: 803.6780247295202\n",
      "Training rmse: 56.18088\n",
      "Validation loss: 23103.138671875\n",
      "Validation rmse: 19.476544480787894\n",
      "Validation mae: 14.328948\n",
      "Validation mape: 0.17418441\n",
      "Validation acc: 0.020758986473083496\n"
     ]
    },
    {
     "name": "stderr",
     "output_type": "stream",
     "text": [
      "<ipython-input-6-5c6a0450ba2d>:85: DeprecationWarning: np.asscalar(a) is deprecated since NumPy v1.16, use a.item() instead\n",
      "  validation_losses.append(np.asscalar(val_loss.detach().cpu().numpy()))\n"
     ]
    },
    {
     "name": "stdout",
     "output_type": "stream",
     "text": [
      "epoch: 252\n",
      "Training loss: 807.8353674557046\n",
      "Training rmse: 56.229195\n",
      "Validation loss: 23220.02734375\n",
      "Validation rmse: 19.525753132731925\n",
      "Validation mae: 14.438523\n",
      "Validation mape: 0.17815186\n",
      "Validation acc: 0.025611400604248047\n"
     ]
    },
    {
     "name": "stderr",
     "output_type": "stream",
     "text": [
      "<ipython-input-6-5c6a0450ba2d>:85: DeprecationWarning: np.asscalar(a) is deprecated since NumPy v1.16, use a.item() instead\n",
      "  validation_losses.append(np.asscalar(val_loss.detach().cpu().numpy()))\n"
     ]
    },
    {
     "name": "stdout",
     "output_type": "stream",
     "text": [
      "epoch: 253\n",
      "Training loss: 798.8228048782622\n",
      "Training rmse: 56.12101\n",
      "Validation loss: 24029.1640625\n",
      "Validation rmse: 19.863066539522936\n",
      "Validation mae: 14.68547\n",
      "Validation mape: 0.18332592\n",
      "Validation acc: 0.015366017818450928\n"
     ]
    },
    {
     "name": "stderr",
     "output_type": "stream",
     "text": [
      "<ipython-input-6-5c6a0450ba2d>:85: DeprecationWarning: np.asscalar(a) is deprecated since NumPy v1.16, use a.item() instead\n",
      "  validation_losses.append(np.asscalar(val_loss.detach().cpu().numpy()))\n"
     ]
    },
    {
     "name": "stdout",
     "output_type": "stream",
     "text": [
      "epoch: 254\n",
      "Training loss: 798.18751312584\n",
      "Training rmse: 56.112213\n",
      "Validation loss: 23443.60546875\n",
      "Validation rmse: 19.619532509930075\n",
      "Validation mae: 14.407951\n",
      "Validation mape: 0.17601158\n",
      "Validation acc: 0.007777035236358643\n"
     ]
    },
    {
     "name": "stderr",
     "output_type": "stream",
     "text": [
      "<ipython-input-6-5c6a0450ba2d>:85: DeprecationWarning: np.asscalar(a) is deprecated since NumPy v1.16, use a.item() instead\n",
      "  validation_losses.append(np.asscalar(val_loss.detach().cpu().numpy()))\n"
     ]
    },
    {
     "name": "stdout",
     "output_type": "stream",
     "text": [
      "epoch: 255\n",
      "Training loss: 797.4678139088402\n",
      "Training rmse: 56.103836\n",
      "Validation loss: 23963.22265625\n",
      "Validation rmse: 19.835785957229312\n",
      "Validation mae: 14.631052\n",
      "Validation mape: 0.18251243\n",
      "Validation acc: 0.016432583332061768\n"
     ]
    },
    {
     "name": "stderr",
     "output_type": "stream",
     "text": [
      "<ipython-input-6-5c6a0450ba2d>:85: DeprecationWarning: np.asscalar(a) is deprecated since NumPy v1.16, use a.item() instead\n",
      "  validation_losses.append(np.asscalar(val_loss.detach().cpu().numpy()))\n"
     ]
    },
    {
     "name": "stdout",
     "output_type": "stream",
     "text": [
      "epoch: 256\n",
      "Training loss: 794.1189617307383\n",
      "Training rmse: 56.066093\n",
      "Validation loss: 23274.068359375\n",
      "Validation rmse: 19.54845570272312\n",
      "Validation mae: 14.383369\n",
      "Validation mape: 0.17610154\n",
      "Validation acc: 0.016750633716583252\n"
     ]
    },
    {
     "name": "stderr",
     "output_type": "stream",
     "text": [
      "<ipython-input-6-5c6a0450ba2d>:85: DeprecationWarning: np.asscalar(a) is deprecated since NumPy v1.16, use a.item() instead\n",
      "  validation_losses.append(np.asscalar(val_loss.detach().cpu().numpy()))\n"
     ]
    },
    {
     "name": "stdout",
     "output_type": "stream",
     "text": [
      "epoch: 257\n",
      "Training loss: 795.7569426396415\n",
      "Training rmse: 56.08094\n",
      "Validation loss: 23170.990234375\n",
      "Validation rmse: 19.505112197971812\n",
      "Validation mae: 14.362993\n",
      "Validation mape: 0.17618684\n",
      "Validation acc: 0.022242963314056396\n"
     ]
    },
    {
     "name": "stderr",
     "output_type": "stream",
     "text": [
      "<ipython-input-6-5c6a0450ba2d>:85: DeprecationWarning: np.asscalar(a) is deprecated since NumPy v1.16, use a.item() instead\n",
      "  validation_losses.append(np.asscalar(val_loss.detach().cpu().numpy()))\n"
     ]
    },
    {
     "name": "stdout",
     "output_type": "stream",
     "text": [
      "epoch: 258\n",
      "Training loss: 788.0486673881503\n",
      "Training rmse: 55.98864\n",
      "Validation loss: 23447.248046875\n",
      "Validation rmse: 19.62104981144294\n",
      "Validation mae: 14.4649515\n",
      "Validation mape: 0.17717448\n",
      "Validation acc: 0.008882403373718262\n"
     ]
    },
    {
     "name": "stderr",
     "output_type": "stream",
     "text": [
      "<ipython-input-6-5c6a0450ba2d>:85: DeprecationWarning: np.asscalar(a) is deprecated since NumPy v1.16, use a.item() instead\n",
      "  validation_losses.append(np.asscalar(val_loss.detach().cpu().numpy()))\n"
     ]
    },
    {
     "name": "stdout",
     "output_type": "stream",
     "text": [
      "epoch: 259\n",
      "Training loss: 789.2099404283749\n",
      "Training rmse: 56.00077\n",
      "Validation loss: 23650.529296875\n",
      "Validation rmse: 19.7059259322089\n",
      "Validation mae: 14.528408\n",
      "Validation mape: 0.1795445\n",
      "Validation acc: 0.012423515319824219\n"
     ]
    },
    {
     "name": "stderr",
     "output_type": "stream",
     "text": [
      "<ipython-input-6-5c6a0450ba2d>:85: DeprecationWarning: np.asscalar(a) is deprecated since NumPy v1.16, use a.item() instead\n",
      "  validation_losses.append(np.asscalar(val_loss.detach().cpu().numpy()))\n"
     ]
    },
    {
     "name": "stdout",
     "output_type": "stream",
     "text": [
      "epoch: 260\n",
      "Training loss: 786.0428645089536\n",
      "Training rmse: 55.969624\n",
      "Validation loss: 23801.412109375\n",
      "Validation rmse: 19.768686460042527\n",
      "Validation mae: 14.58739\n",
      "Validation mape: 0.1815424\n",
      "Validation acc: 0.015582621097564697\n"
     ]
    },
    {
     "name": "stderr",
     "output_type": "stream",
     "text": [
      "<ipython-input-6-5c6a0450ba2d>:85: DeprecationWarning: np.asscalar(a) is deprecated since NumPy v1.16, use a.item() instead\n",
      "  validation_losses.append(np.asscalar(val_loss.detach().cpu().numpy()))\n"
     ]
    },
    {
     "name": "stdout",
     "output_type": "stream",
     "text": [
      "epoch: 261\n",
      "Training loss: 784.802225475243\n",
      "Training rmse: 55.95019\n",
      "Validation loss: 23759.71875\n",
      "Validation rmse: 19.751363586481585\n",
      "Validation mae: 14.608606\n",
      "Validation mape: 0.18194394\n",
      "Validation acc: 0.021712839603424072\n"
     ]
    },
    {
     "name": "stderr",
     "output_type": "stream",
     "text": [
      "<ipython-input-6-5c6a0450ba2d>:85: DeprecationWarning: np.asscalar(a) is deprecated since NumPy v1.16, use a.item() instead\n",
      "  validation_losses.append(np.asscalar(val_loss.detach().cpu().numpy()))\n"
     ]
    },
    {
     "name": "stdout",
     "output_type": "stream",
     "text": [
      "epoch: 262\n",
      "Training loss: 785.0799399755334\n",
      "Training rmse: 55.954453\n",
      "Validation loss: 22799.703125\n",
      "Validation rmse: 19.348187407533327\n",
      "Validation mae: 14.260244\n",
      "Validation mape: 0.1725623\n",
      "Validation acc: 0.033310770988464355\n"
     ]
    },
    {
     "name": "stderr",
     "output_type": "stream",
     "text": [
      "<ipython-input-6-5c6a0450ba2d>:85: DeprecationWarning: np.asscalar(a) is deprecated since NumPy v1.16, use a.item() instead\n",
      "  validation_losses.append(np.asscalar(val_loss.detach().cpu().numpy()))\n"
     ]
    },
    {
     "name": "stdout",
     "output_type": "stream",
     "text": [
      "epoch: 263\n",
      "Training loss: 782.4375313926341\n",
      "Training rmse: 55.92275\n",
      "Validation loss: 23382.865234375\n",
      "Validation rmse: 19.59408408432289\n",
      "Validation mae: 14.450184\n",
      "Validation mape: 0.17327255\n",
      "Validation acc: 0.013043403625488281\n"
     ]
    },
    {
     "name": "stderr",
     "output_type": "stream",
     "text": [
      "<ipython-input-6-5c6a0450ba2d>:85: DeprecationWarning: np.asscalar(a) is deprecated since NumPy v1.16, use a.item() instead\n",
      "  validation_losses.append(np.asscalar(val_loss.detach().cpu().numpy()))\n"
     ]
    },
    {
     "name": "stdout",
     "output_type": "stream",
     "text": [
      "epoch: 264\n",
      "Training loss: 782.0564241580211\n",
      "Training rmse: 55.916542\n",
      "Validation loss: 23264.181640625\n",
      "Validation rmse: 19.54428627442206\n",
      "Validation mae: 14.354575\n",
      "Validation mape: 0.17525822\n",
      "Validation acc: 0.014992117881774902\n"
     ]
    },
    {
     "name": "stderr",
     "output_type": "stream",
     "text": [
      "<ipython-input-6-5c6a0450ba2d>:85: DeprecationWarning: np.asscalar(a) is deprecated since NumPy v1.16, use a.item() instead\n",
      "  validation_losses.append(np.asscalar(val_loss.detach().cpu().numpy()))\n"
     ]
    },
    {
     "name": "stdout",
     "output_type": "stream",
     "text": [
      "epoch: 265\n",
      "Training loss: 778.5611946898977\n",
      "Training rmse: 55.87539\n",
      "Validation loss: 23505.482421875\n",
      "Validation rmse: 19.645389145987046\n",
      "Validation mae: 14.449261\n",
      "Validation mape: 0.17771521\n",
      "Validation acc: 0.008969426155090332\n"
     ]
    },
    {
     "name": "stderr",
     "output_type": "stream",
     "text": [
      "<ipython-input-6-5c6a0450ba2d>:85: DeprecationWarning: np.asscalar(a) is deprecated since NumPy v1.16, use a.item() instead\n",
      "  validation_losses.append(np.asscalar(val_loss.detach().cpu().numpy()))\n"
     ]
    },
    {
     "name": "stdout",
     "output_type": "stream",
     "text": [
      "epoch: 266\n",
      "Training loss: 776.005610312185\n",
      "Training rmse: 55.837986\n",
      "Validation loss: 24355.59375\n",
      "Validation rmse: 19.997511899677278\n",
      "Validation mae: 14.85903\n",
      "Validation mape: 0.1863426\n",
      "Validation acc: 0.009771406650543213\n"
     ]
    },
    {
     "name": "stderr",
     "output_type": "stream",
     "text": [
      "<ipython-input-6-5c6a0450ba2d>:85: DeprecationWarning: np.asscalar(a) is deprecated since NumPy v1.16, use a.item() instead\n",
      "  validation_losses.append(np.asscalar(val_loss.detach().cpu().numpy()))\n"
     ]
    },
    {
     "name": "stdout",
     "output_type": "stream",
     "text": [
      "epoch: 267\n",
      "Training loss: 772.5316874733107\n",
      "Training rmse: 55.801903\n",
      "Validation loss: 25013.587890625\n",
      "Validation rmse: 20.265856904031654\n",
      "Validation mae: 15.193021\n",
      "Validation mape: 0.19295521\n",
      "Validation acc: 0.026607930660247803\n"
     ]
    },
    {
     "name": "stderr",
     "output_type": "stream",
     "text": [
      "<ipython-input-6-5c6a0450ba2d>:85: DeprecationWarning: np.asscalar(a) is deprecated since NumPy v1.16, use a.item() instead\n",
      "  validation_losses.append(np.asscalar(val_loss.detach().cpu().numpy()))\n"
     ]
    },
    {
     "name": "stdout",
     "output_type": "stream",
     "text": [
      "epoch: 268\n",
      "Training loss: 775.5333081864114\n",
      "Training rmse: 55.836426\n",
      "Validation loss: 23268.359375\n",
      "Validation rmse: 19.54603502891475\n",
      "Validation mae: 14.400905\n",
      "Validation mape: 0.17714457\n",
      "Validation acc: 0.01878899335861206\n"
     ]
    },
    {
     "name": "stderr",
     "output_type": "stream",
     "text": [
      "<ipython-input-6-5c6a0450ba2d>:85: DeprecationWarning: np.asscalar(a) is deprecated since NumPy v1.16, use a.item() instead\n",
      "  validation_losses.append(np.asscalar(val_loss.detach().cpu().numpy()))\n"
     ]
    },
    {
     "name": "stdout",
     "output_type": "stream",
     "text": [
      "epoch: 269\n",
      "Training loss: 771.2005820325626\n",
      "Training rmse: 55.781956\n",
      "Validation loss: 23020.087890625\n",
      "Validation rmse: 19.44146786144045\n",
      "Validation mae: 14.329726\n",
      "Validation mape: 0.17640795\n",
      "Validation acc: 0.031917691230773926\n"
     ]
    },
    {
     "name": "stderr",
     "output_type": "stream",
     "text": [
      "<ipython-input-6-5c6a0450ba2d>:85: DeprecationWarning: np.asscalar(a) is deprecated since NumPy v1.16, use a.item() instead\n",
      "  validation_losses.append(np.asscalar(val_loss.detach().cpu().numpy()))\n"
     ]
    },
    {
     "name": "stdout",
     "output_type": "stream",
     "text": [
      "epoch: 270\n",
      "Training loss: 770.425539843925\n",
      "Training rmse: 55.772957\n",
      "Validation loss: 23112.439453125\n",
      "Validation rmse: 19.480429193989316\n",
      "Validation mae: 14.429401\n",
      "Validation mape: 0.17291096\n",
      "Validation acc: 0.026585638523101807\n"
     ]
    },
    {
     "name": "stderr",
     "output_type": "stream",
     "text": [
      "<ipython-input-6-5c6a0450ba2d>:85: DeprecationWarning: np.asscalar(a) is deprecated since NumPy v1.16, use a.item() instead\n",
      "  validation_losses.append(np.asscalar(val_loss.detach().cpu().numpy()))\n"
     ]
    },
    {
     "name": "stdout",
     "output_type": "stream",
     "text": [
      "epoch: 271\n",
      "Training loss: 771.7549225728571\n",
      "Training rmse: 55.78677\n",
      "Validation loss: 23209.544921875\n",
      "Validation rmse: 19.521308407317214\n",
      "Validation mae: 14.445758\n",
      "Validation mape: 0.17433769\n",
      "Validation acc: 0.017232835292816162\n"
     ]
    },
    {
     "name": "stderr",
     "output_type": "stream",
     "text": [
      "<ipython-input-6-5c6a0450ba2d>:85: DeprecationWarning: np.asscalar(a) is deprecated since NumPy v1.16, use a.item() instead\n",
      "  validation_losses.append(np.asscalar(val_loss.detach().cpu().numpy()))\n"
     ]
    },
    {
     "name": "stdout",
     "output_type": "stream",
     "text": [
      "epoch: 272\n",
      "Training loss: 767.0291581239325\n",
      "Training rmse: 55.73134\n",
      "Validation loss: 23508.578125\n",
      "Validation rmse: 19.646672230592337\n",
      "Validation mae: 14.486935\n",
      "Validation mape: 0.17928988\n",
      "Validation acc: 0.015747904777526855\n"
     ]
    },
    {
     "name": "stderr",
     "output_type": "stream",
     "text": [
      "<ipython-input-6-5c6a0450ba2d>:85: DeprecationWarning: np.asscalar(a) is deprecated since NumPy v1.16, use a.item() instead\n",
      "  validation_losses.append(np.asscalar(val_loss.detach().cpu().numpy()))\n"
     ]
    },
    {
     "name": "stdout",
     "output_type": "stream",
     "text": [
      "epoch: 273\n",
      "Training loss: 767.2832853255734\n",
      "Training rmse: 55.73553\n",
      "Validation loss: 23328.80859375\n",
      "Validation rmse: 19.57140169748444\n",
      "Validation mae: 14.50694\n",
      "Validation mape: 0.17970112\n",
      "Validation acc: 0.024329841136932373\n"
     ]
    },
    {
     "name": "stderr",
     "output_type": "stream",
     "text": [
      "<ipython-input-6-5c6a0450ba2d>:85: DeprecationWarning: np.asscalar(a) is deprecated since NumPy v1.16, use a.item() instead\n",
      "  validation_losses.append(np.asscalar(val_loss.detach().cpu().numpy()))\n"
     ]
    },
    {
     "name": "stdout",
     "output_type": "stream",
     "text": [
      "epoch: 274\n",
      "Training loss: 764.5072555268537\n",
      "Training rmse: 55.700474\n",
      "Validation loss: 23442.75\n",
      "Validation rmse: 19.619141305531347\n",
      "Validation mae: 14.4424\n",
      "Validation mape: 0.17756839\n",
      "Validation acc: 0.011584997177124023\n"
     ]
    },
    {
     "name": "stderr",
     "output_type": "stream",
     "text": [
      "<ipython-input-6-5c6a0450ba2d>:85: DeprecationWarning: np.asscalar(a) is deprecated since NumPy v1.16, use a.item() instead\n",
      "  validation_losses.append(np.asscalar(val_loss.detach().cpu().numpy()))\n"
     ]
    },
    {
     "name": "stdout",
     "output_type": "stream",
     "text": [
      "epoch: 275\n",
      "Training loss: 763.4774845355728\n",
      "Training rmse: 55.68825\n",
      "Validation loss: 23195.94921875\n",
      "Validation rmse: 19.515583560554482\n",
      "Validation mae: 14.341206\n",
      "Validation mape: 0.17414528\n",
      "Validation acc: 0.016346752643585205\n"
     ]
    },
    {
     "name": "stderr",
     "output_type": "stream",
     "text": [
      "<ipython-input-6-5c6a0450ba2d>:85: DeprecationWarning: np.asscalar(a) is deprecated since NumPy v1.16, use a.item() instead\n",
      "  validation_losses.append(np.asscalar(val_loss.detach().cpu().numpy()))\n"
     ]
    },
    {
     "name": "stdout",
     "output_type": "stream",
     "text": [
      "epoch: 276\n",
      "Training loss: 759.8236578937928\n",
      "Training rmse: 55.641483\n",
      "Validation loss: 23386.064453125\n",
      "Validation rmse: 19.59540401212584\n",
      "Validation mae: 14.450306\n",
      "Validation mape: 0.17925137\n",
      "Validation acc: 0.02413243055343628\n"
     ]
    },
    {
     "name": "stderr",
     "output_type": "stream",
     "text": [
      "<ipython-input-6-5c6a0450ba2d>:85: DeprecationWarning: np.asscalar(a) is deprecated since NumPy v1.16, use a.item() instead\n",
      "  validation_losses.append(np.asscalar(val_loss.detach().cpu().numpy()))\n"
     ]
    },
    {
     "name": "stdout",
     "output_type": "stream",
     "text": [
      "epoch: 277\n",
      "Training loss: 757.7730538973244\n",
      "Training rmse: 55.614223\n",
      "Validation loss: 23173.408203125\n",
      "Validation rmse: 19.506097084920093\n",
      "Validation mae: 14.342481\n",
      "Validation mape: 0.17564417\n",
      "Validation acc: 0.019487857818603516\n"
     ]
    },
    {
     "name": "stderr",
     "output_type": "stream",
     "text": [
      "<ipython-input-6-5c6a0450ba2d>:85: DeprecationWarning: np.asscalar(a) is deprecated since NumPy v1.16, use a.item() instead\n",
      "  validation_losses.append(np.asscalar(val_loss.detach().cpu().numpy()))\n"
     ]
    },
    {
     "name": "stdout",
     "output_type": "stream",
     "text": [
      "epoch: 278\n",
      "Training loss: 757.179206383271\n",
      "Training rmse: 55.61012\n",
      "Validation loss: 23461.6796875\n",
      "Validation rmse: 19.627057204576513\n",
      "Validation mae: 14.410408\n",
      "Validation mape: 0.1771803\n",
      "Validation acc: 0.011168837547302246\n"
     ]
    },
    {
     "name": "stderr",
     "output_type": "stream",
     "text": [
      "<ipython-input-6-5c6a0450ba2d>:85: DeprecationWarning: np.asscalar(a) is deprecated since NumPy v1.16, use a.item() instead\n",
      "  validation_losses.append(np.asscalar(val_loss.detach().cpu().numpy()))\n"
     ]
    },
    {
     "name": "stdout",
     "output_type": "stream",
     "text": [
      "epoch: 279\n",
      "Training loss: 761.2098117951424\n",
      "Training rmse: 55.65922\n",
      "Validation loss: 23427.498046875\n",
      "Validation rmse: 19.612751047777806\n",
      "Validation mae: 14.397272\n",
      "Validation mape: 0.17626706\n",
      "Validation acc: 0.008503913879394531\n"
     ]
    },
    {
     "name": "stderr",
     "output_type": "stream",
     "text": [
      "<ipython-input-6-5c6a0450ba2d>:85: DeprecationWarning: np.asscalar(a) is deprecated since NumPy v1.16, use a.item() instead\n",
      "  validation_losses.append(np.asscalar(val_loss.detach().cpu().numpy()))\n"
     ]
    },
    {
     "name": "stdout",
     "output_type": "stream",
     "text": [
      "epoch: 280\n",
      "Training loss: 755.7674059030403\n",
      "Training rmse: 55.590145\n",
      "Validation loss: 23720.1875\n",
      "Validation rmse: 19.734895362547608\n",
      "Validation mae: 14.603694\n",
      "Validation mape: 0.17471\n",
      "Validation acc: 0.005305767059326172\n"
     ]
    },
    {
     "name": "stderr",
     "output_type": "stream",
     "text": [
      "<ipython-input-6-5c6a0450ba2d>:85: DeprecationWarning: np.asscalar(a) is deprecated since NumPy v1.16, use a.item() instead\n",
      "  validation_losses.append(np.asscalar(val_loss.detach().cpu().numpy()))\n"
     ]
    },
    {
     "name": "stdout",
     "output_type": "stream",
     "text": [
      "epoch: 281\n",
      "Training loss: 759.555654054047\n",
      "Training rmse: 55.639954\n",
      "Validation loss: 23269.8671875\n",
      "Validation rmse: 19.546650178563205\n",
      "Validation mae: 14.387732\n",
      "Validation mape: 0.17559128\n",
      "Validation acc: 0.013676583766937256\n"
     ]
    },
    {
     "name": "stderr",
     "output_type": "stream",
     "text": [
      "<ipython-input-6-5c6a0450ba2d>:85: DeprecationWarning: np.asscalar(a) is deprecated since NumPy v1.16, use a.item() instead\n",
      "  validation_losses.append(np.asscalar(val_loss.detach().cpu().numpy()))\n"
     ]
    },
    {
     "name": "stdout",
     "output_type": "stream",
     "text": [
      "epoch: 282\n",
      "Training loss: 750.2927830740542\n",
      "Training rmse: 55.520714\n",
      "Validation loss: 23473.01171875\n",
      "Validation rmse: 19.631791998696354\n",
      "Validation mae: 14.462407\n",
      "Validation mape: 0.1761566\n",
      "Validation acc: 0.0047029852867126465\n"
     ]
    },
    {
     "name": "stderr",
     "output_type": "stream",
     "text": [
      "<ipython-input-6-5c6a0450ba2d>:85: DeprecationWarning: np.asscalar(a) is deprecated since NumPy v1.16, use a.item() instead\n",
      "  validation_losses.append(np.asscalar(val_loss.detach().cpu().numpy()))\n"
     ]
    },
    {
     "name": "stdout",
     "output_type": "stream",
     "text": [
      "epoch: 283\n",
      "Training loss: 750.8776743899109\n",
      "Training rmse: 55.532307\n",
      "Validation loss: 23356.224609375\n",
      "Validation rmse: 19.582887988065625\n",
      "Validation mae: 14.477102\n",
      "Validation mape: 0.1793975\n",
      "Validation acc: 0.025487065315246582\n"
     ]
    },
    {
     "name": "stderr",
     "output_type": "stream",
     "text": [
      "<ipython-input-6-5c6a0450ba2d>:85: DeprecationWarning: np.asscalar(a) is deprecated since NumPy v1.16, use a.item() instead\n",
      "  validation_losses.append(np.asscalar(val_loss.detach().cpu().numpy()))\n"
     ]
    },
    {
     "name": "stdout",
     "output_type": "stream",
     "text": [
      "epoch: 284\n",
      "Training loss: 754.3858890875266\n",
      "Training rmse: 55.571728\n",
      "Validation loss: 23241.4921875\n",
      "Validation rmse: 19.53472703425196\n",
      "Validation mae: 14.352727\n",
      "Validation mape: 0.17452347\n",
      "Validation acc: 0.014458775520324707\n"
     ]
    },
    {
     "name": "stderr",
     "output_type": "stream",
     "text": [
      "<ipython-input-6-5c6a0450ba2d>:85: DeprecationWarning: np.asscalar(a) is deprecated since NumPy v1.16, use a.item() instead\n",
      "  validation_losses.append(np.asscalar(val_loss.detach().cpu().numpy()))\n"
     ]
    },
    {
     "name": "stdout",
     "output_type": "stream",
     "text": [
      "epoch: 285\n",
      "Training loss: 747.2849400564761\n",
      "Training rmse: 55.48457\n",
      "Validation loss: 23303.56640625\n",
      "Validation rmse: 19.560792501110082\n",
      "Validation mae: 14.505811\n",
      "Validation mape: 0.17964302\n",
      "Validation acc: 0.028814733028411865\n"
     ]
    },
    {
     "name": "stderr",
     "output_type": "stream",
     "text": [
      "<ipython-input-6-5c6a0450ba2d>:85: DeprecationWarning: np.asscalar(a) is deprecated since NumPy v1.16, use a.item() instead\n",
      "  validation_losses.append(np.asscalar(val_loss.detach().cpu().numpy()))\n"
     ]
    },
    {
     "name": "stdout",
     "output_type": "stream",
     "text": [
      "epoch: 286\n",
      "Training loss: 746.96436476622\n",
      "Training rmse: 55.481575\n",
      "Validation loss: 23334.4765625\n",
      "Validation rmse: 19.573763106475912\n",
      "Validation mae: 14.487561\n",
      "Validation mape: 0.17793415\n",
      "Validation acc: 0.013795316219329834\n"
     ]
    },
    {
     "name": "stderr",
     "output_type": "stream",
     "text": [
      "<ipython-input-6-5c6a0450ba2d>:85: DeprecationWarning: np.asscalar(a) is deprecated since NumPy v1.16, use a.item() instead\n",
      "  validation_losses.append(np.asscalar(val_loss.detach().cpu().numpy()))\n"
     ]
    },
    {
     "name": "stdout",
     "output_type": "stream",
     "text": [
      "epoch: 287\n",
      "Training loss: 750.5437272594821\n",
      "Training rmse: 55.522266\n",
      "Validation loss: 22647.701171875\n",
      "Validation rmse: 19.283540908017176\n",
      "Validation mae: 14.2017355\n",
      "Validation mape: 0.17394048\n",
      "Validation acc: 0.042797863483428955\n"
     ]
    },
    {
     "name": "stderr",
     "output_type": "stream",
     "text": [
      "<ipython-input-6-5c6a0450ba2d>:85: DeprecationWarning: np.asscalar(a) is deprecated since NumPy v1.16, use a.item() instead\n",
      "  validation_losses.append(np.asscalar(val_loss.detach().cpu().numpy()))\n"
     ]
    },
    {
     "name": "stdout",
     "output_type": "stream",
     "text": [
      "epoch: 288\n",
      "Training loss: 746.3434233306557\n",
      "Training rmse: 55.47258\n",
      "Validation loss: 22877.3359375\n",
      "Validation rmse: 19.381063189401207\n",
      "Validation mae: 14.344481\n",
      "Validation mape: 0.17405808\n",
      "Validation acc: 0.02997058629989624\n"
     ]
    },
    {
     "name": "stderr",
     "output_type": "stream",
     "text": [
      "<ipython-input-6-5c6a0450ba2d>:85: DeprecationWarning: np.asscalar(a) is deprecated since NumPy v1.16, use a.item() instead\n",
      "  validation_losses.append(np.asscalar(val_loss.detach().cpu().numpy()))\n"
     ]
    },
    {
     "name": "stdout",
     "output_type": "stream",
     "text": [
      "epoch: 289\n",
      "Training loss: 744.886741118619\n",
      "Training rmse: 55.457077\n",
      "Validation loss: 23329.732421875\n",
      "Validation rmse: 19.571768128250845\n",
      "Validation mae: 14.395251\n",
      "Validation mape: 0.17559345\n",
      "Validation acc: 0.011013031005859375\n"
     ]
    },
    {
     "name": "stderr",
     "output_type": "stream",
     "text": [
      "<ipython-input-6-5c6a0450ba2d>:85: DeprecationWarning: np.asscalar(a) is deprecated since NumPy v1.16, use a.item() instead\n",
      "  validation_losses.append(np.asscalar(val_loss.detach().cpu().numpy()))\n"
     ]
    },
    {
     "name": "stdout",
     "output_type": "stream",
     "text": [
      "epoch: 290\n",
      "Training loss: 744.1804953407643\n",
      "Training rmse: 55.446033\n",
      "Validation loss: 23515.357421875\n",
      "Validation rmse: 19.64948120985402\n",
      "Validation mae: 14.40796\n",
      "Validation mape: 0.17486776\n",
      "Validation acc: 0.0028194785118103027\n"
     ]
    },
    {
     "name": "stderr",
     "output_type": "stream",
     "text": [
      "<ipython-input-6-5c6a0450ba2d>:85: DeprecationWarning: np.asscalar(a) is deprecated since NumPy v1.16, use a.item() instead\n",
      "  validation_losses.append(np.asscalar(val_loss.detach().cpu().numpy()))\n"
     ]
    },
    {
     "name": "stdout",
     "output_type": "stream",
     "text": [
      "epoch: 291\n",
      "Training loss: 742.6362516341671\n",
      "Training rmse: 55.42611\n",
      "Validation loss: 23720.591796875\n",
      "Validation rmse: 19.735047680043586\n",
      "Validation mae: 14.513096\n",
      "Validation mape: 0.17579585\n",
      "Validation acc: -0.0051097869873046875\n"
     ]
    },
    {
     "name": "stderr",
     "output_type": "stream",
     "text": [
      "<ipython-input-6-5c6a0450ba2d>:85: DeprecationWarning: np.asscalar(a) is deprecated since NumPy v1.16, use a.item() instead\n",
      "  validation_losses.append(np.asscalar(val_loss.detach().cpu().numpy()))\n"
     ]
    },
    {
     "name": "stdout",
     "output_type": "stream",
     "text": [
      "epoch: 292\n",
      "Training loss: 746.0194061169915\n",
      "Training rmse: 55.46826\n",
      "Validation loss: 23577.6484375\n",
      "Validation rmse: 19.675490043383054\n",
      "Validation mae: 14.494986\n",
      "Validation mape: 0.17625752\n",
      "Validation acc: 0.00020241737365722656\n"
     ]
    },
    {
     "name": "stderr",
     "output_type": "stream",
     "text": [
      "<ipython-input-6-5c6a0450ba2d>:85: DeprecationWarning: np.asscalar(a) is deprecated since NumPy v1.16, use a.item() instead\n",
      "  validation_losses.append(np.asscalar(val_loss.detach().cpu().numpy()))\n"
     ]
    },
    {
     "name": "stdout",
     "output_type": "stream",
     "text": [
      "epoch: 293\n",
      "Training loss: 740.7044121526902\n",
      "Training rmse: 55.403553\n",
      "Validation loss: 23461.365234375\n",
      "Validation rmse: 19.62690638133179\n",
      "Validation mae: 14.424107\n",
      "Validation mape: 0.1776014\n",
      "Validation acc: 0.010863721370697021\n"
     ]
    },
    {
     "name": "stderr",
     "output_type": "stream",
     "text": [
      "<ipython-input-6-5c6a0450ba2d>:85: DeprecationWarning: np.asscalar(a) is deprecated since NumPy v1.16, use a.item() instead\n",
      "  validation_losses.append(np.asscalar(val_loss.detach().cpu().numpy()))\n"
     ]
    },
    {
     "name": "stdout",
     "output_type": "stream",
     "text": [
      "epoch: 294\n",
      "Training loss: 736.998031944357\n",
      "Training rmse: 55.3603\n",
      "Validation loss: 23000.287109375\n",
      "Validation rmse: 19.43307199362404\n",
      "Validation mae: 14.380932\n",
      "Validation mape: 0.17779937\n",
      "Validation acc: 0.03336775302886963\n"
     ]
    },
    {
     "name": "stderr",
     "output_type": "stream",
     "text": [
      "<ipython-input-6-5c6a0450ba2d>:85: DeprecationWarning: np.asscalar(a) is deprecated since NumPy v1.16, use a.item() instead\n",
      "  validation_losses.append(np.asscalar(val_loss.detach().cpu().numpy()))\n"
     ]
    },
    {
     "name": "stdout",
     "output_type": "stream",
     "text": [
      "epoch: 295\n",
      "Training loss: 735.8125995923114\n",
      "Training rmse: 55.3378\n",
      "Validation loss: 23548.716796875\n",
      "Validation rmse: 19.663412223554626\n",
      "Validation mae: 14.4402\n",
      "Validation mape: 0.1772363\n",
      "Validation acc: 0.004142880439758301\n"
     ]
    },
    {
     "name": "stderr",
     "output_type": "stream",
     "text": [
      "<ipython-input-6-5c6a0450ba2d>:85: DeprecationWarning: np.asscalar(a) is deprecated since NumPy v1.16, use a.item() instead\n",
      "  validation_losses.append(np.asscalar(val_loss.detach().cpu().numpy()))\n"
     ]
    },
    {
     "name": "stdout",
     "output_type": "stream",
     "text": [
      "epoch: 296\n",
      "Training loss: 735.2443037682536\n",
      "Training rmse: 55.334286\n",
      "Validation loss: 23608.212890625\n",
      "Validation rmse: 19.688236283355064\n",
      "Validation mae: 14.669969\n",
      "Validation mape: 0.18243141\n",
      "Validation acc: 0.02412259578704834\n"
     ]
    },
    {
     "name": "stderr",
     "output_type": "stream",
     "text": [
      "<ipython-input-6-5c6a0450ba2d>:85: DeprecationWarning: np.asscalar(a) is deprecated since NumPy v1.16, use a.item() instead\n",
      "  validation_losses.append(np.asscalar(val_loss.detach().cpu().numpy()))\n"
     ]
    },
    {
     "name": "stdout",
     "output_type": "stream",
     "text": [
      "epoch: 297\n",
      "Training loss: 735.7497311937339\n",
      "Training rmse: 55.33768\n",
      "Validation loss: 24211.97265625\n",
      "Validation rmse: 19.938420672071405\n",
      "Validation mae: 14.647771\n",
      "Validation mape: 0.17781492\n",
      "Validation acc: -0.02637314796447754\n"
     ]
    },
    {
     "name": "stderr",
     "output_type": "stream",
     "text": [
      "<ipython-input-6-5c6a0450ba2d>:85: DeprecationWarning: np.asscalar(a) is deprecated since NumPy v1.16, use a.item() instead\n",
      "  validation_losses.append(np.asscalar(val_loss.detach().cpu().numpy()))\n"
     ]
    },
    {
     "name": "stdout",
     "output_type": "stream",
     "text": [
      "epoch: 298\n",
      "Training loss: 737.0317566027351\n",
      "Training rmse: 55.35466\n",
      "Validation loss: 23270.005859375\n",
      "Validation rmse: 19.54668999088105\n",
      "Validation mae: 14.396516\n",
      "Validation mape: 0.17387699\n",
      "Validation acc: 0.015240728855133057\n"
     ]
    },
    {
     "name": "stderr",
     "output_type": "stream",
     "text": [
      "<ipython-input-6-5c6a0450ba2d>:85: DeprecationWarning: np.asscalar(a) is deprecated since NumPy v1.16, use a.item() instead\n",
      "  validation_losses.append(np.asscalar(val_loss.detach().cpu().numpy()))\n"
     ]
    },
    {
     "name": "stdout",
     "output_type": "stream",
     "text": [
      "epoch: 299\n",
      "Training loss: 736.0419022208047\n",
      "Training rmse: 55.34109\n",
      "Validation loss: 23797.90234375\n",
      "Validation rmse: 19.767178947067553\n",
      "Validation mae: 14.589546\n",
      "Validation mape: 0.18126094\n",
      "Validation acc: 0.008332431316375732\n"
     ]
    },
    {
     "name": "stderr",
     "output_type": "stream",
     "text": [
      "<ipython-input-6-5c6a0450ba2d>:85: DeprecationWarning: np.asscalar(a) is deprecated since NumPy v1.16, use a.item() instead\n",
      "  validation_losses.append(np.asscalar(val_loss.detach().cpu().numpy()))\n"
     ]
    },
    {
     "name": "stdout",
     "output_type": "stream",
     "text": [
      "epoch: 300\n",
      "Training loss: 732.8941633436415\n",
      "Training rmse: 55.30797\n",
      "Validation loss: 23258.37890625\n",
      "Validation rmse: 19.54180183716355\n",
      "Validation mae: 14.505655\n",
      "Validation mape: 0.17931107\n",
      "Validation acc: 0.028829872608184814\n"
     ]
    },
    {
     "name": "stderr",
     "output_type": "stream",
     "text": [
      "<ipython-input-6-5c6a0450ba2d>:85: DeprecationWarning: np.asscalar(a) is deprecated since NumPy v1.16, use a.item() instead\n",
      "  validation_losses.append(np.asscalar(val_loss.detach().cpu().numpy()))\n"
     ]
    },
    {
     "name": "stdout",
     "output_type": "stream",
     "text": [
      "epoch: 301\n",
      "Training loss: 738.8298799795062\n",
      "Training rmse: 55.37586\n",
      "Validation loss: 22953.255859375\n",
      "Validation rmse: 19.413183770354685\n",
      "Validation mae: 14.303836\n",
      "Validation mape: 0.17374681\n",
      "Validation acc: 0.02670067548751831\n"
     ]
    },
    {
     "name": "stderr",
     "output_type": "stream",
     "text": [
      "<ipython-input-6-5c6a0450ba2d>:85: DeprecationWarning: np.asscalar(a) is deprecated since NumPy v1.16, use a.item() instead\n",
      "  validation_losses.append(np.asscalar(val_loss.detach().cpu().numpy()))\n"
     ]
    },
    {
     "name": "stdout",
     "output_type": "stream",
     "text": [
      "epoch: 302\n",
      "Training loss: 729.9312664838675\n",
      "Training rmse: 55.263065\n",
      "Validation loss: 23511.2734375\n",
      "Validation rmse: 19.647763407919836\n",
      "Validation mae: 14.554169\n",
      "Validation mape: 0.1804308\n",
      "Validation acc: 0.020852386951446533\n"
     ]
    },
    {
     "name": "stderr",
     "output_type": "stream",
     "text": [
      "<ipython-input-6-5c6a0450ba2d>:85: DeprecationWarning: np.asscalar(a) is deprecated since NumPy v1.16, use a.item() instead\n",
      "  validation_losses.append(np.asscalar(val_loss.detach().cpu().numpy()))\n"
     ]
    },
    {
     "name": "stdout",
     "output_type": "stream",
     "text": [
      "epoch: 303\n",
      "Training loss: 733.2615530362693\n",
      "Training rmse: 55.307705\n",
      "Validation loss: 23546.251953125\n",
      "Validation rmse: 19.662374685461682\n",
      "Validation mae: 14.489281\n",
      "Validation mape: 0.17790623\n",
      "Validation acc: 0.0036734938621520996\n"
     ]
    },
    {
     "name": "stderr",
     "output_type": "stream",
     "text": [
      "<ipython-input-6-5c6a0450ba2d>:85: DeprecationWarning: np.asscalar(a) is deprecated since NumPy v1.16, use a.item() instead\n",
      "  validation_losses.append(np.asscalar(val_loss.detach().cpu().numpy()))\n"
     ]
    },
    {
     "name": "stdout",
     "output_type": "stream",
     "text": [
      "epoch: 304\n",
      "Training loss: 726.6202635953076\n",
      "Training rmse: 55.22418\n",
      "Validation loss: 23418.990234375\n",
      "Validation rmse: 19.609161789179534\n",
      "Validation mae: 14.429115\n",
      "Validation mape: 0.17706387\n",
      "Validation acc: 0.009812474250793457\n"
     ]
    },
    {
     "name": "stderr",
     "output_type": "stream",
     "text": [
      "<ipython-input-6-5c6a0450ba2d>:85: DeprecationWarning: np.asscalar(a) is deprecated since NumPy v1.16, use a.item() instead\n",
      "  validation_losses.append(np.asscalar(val_loss.detach().cpu().numpy()))\n"
     ]
    },
    {
     "name": "stdout",
     "output_type": "stream",
     "text": [
      "epoch: 305\n",
      "Training loss: 729.2439055630811\n",
      "Training rmse: 55.257416\n",
      "Validation loss: 23601.7109375\n",
      "Validation rmse: 19.68551577302459\n",
      "Validation mae: 14.497794\n",
      "Validation mape: 0.17673737\n",
      "Validation acc: -0.0007617473602294922\n"
     ]
    },
    {
     "name": "stderr",
     "output_type": "stream",
     "text": [
      "<ipython-input-6-5c6a0450ba2d>:85: DeprecationWarning: np.asscalar(a) is deprecated since NumPy v1.16, use a.item() instead\n",
      "  validation_losses.append(np.asscalar(val_loss.detach().cpu().numpy()))\n"
     ]
    },
    {
     "name": "stdout",
     "output_type": "stream",
     "text": [
      "epoch: 306\n",
      "Training loss: 726.7430239988485\n",
      "Training rmse: 55.22616\n",
      "Validation loss: 23356.5390625\n",
      "Validation rmse: 19.582995515980343\n",
      "Validation mae: 14.393871\n",
      "Validation mape: 0.17614591\n",
      "Validation acc: 0.010511457920074463\n"
     ]
    },
    {
     "name": "stderr",
     "output_type": "stream",
     "text": [
      "<ipython-input-6-5c6a0450ba2d>:85: DeprecationWarning: np.asscalar(a) is deprecated since NumPy v1.16, use a.item() instead\n",
      "  validation_losses.append(np.asscalar(val_loss.detach().cpu().numpy()))\n"
     ]
    },
    {
     "name": "stdout",
     "output_type": "stream",
     "text": [
      "epoch: 307\n",
      "Training loss: 724.1509231512691\n",
      "Training rmse: 55.1956\n",
      "Validation loss: 23999.978515625\n",
      "Validation rmse: 19.850922977695678\n",
      "Validation mae: 14.558896\n",
      "Validation mape: 0.17817898\n",
      "Validation acc: -0.016976237297058105\n"
     ]
    },
    {
     "name": "stderr",
     "output_type": "stream",
     "text": [
      "<ipython-input-6-5c6a0450ba2d>:85: DeprecationWarning: np.asscalar(a) is deprecated since NumPy v1.16, use a.item() instead\n",
      "  validation_losses.append(np.asscalar(val_loss.detach().cpu().numpy()))\n"
     ]
    },
    {
     "name": "stdout",
     "output_type": "stream",
     "text": [
      "epoch: 308\n",
      "Training loss: 724.7203006539294\n",
      "Training rmse: 55.199665\n",
      "Validation loss: 23321.939453125\n",
      "Validation rmse: 19.56847936150084\n",
      "Validation mae: 14.406834\n",
      "Validation mape: 0.1750044\n",
      "Validation acc: 0.011009037494659424\n"
     ]
    },
    {
     "name": "stderr",
     "output_type": "stream",
     "text": [
      "<ipython-input-6-5c6a0450ba2d>:85: DeprecationWarning: np.asscalar(a) is deprecated since NumPy v1.16, use a.item() instead\n",
      "  validation_losses.append(np.asscalar(val_loss.detach().cpu().numpy()))\n"
     ]
    },
    {
     "name": "stdout",
     "output_type": "stream",
     "text": [
      "epoch: 309\n",
      "Training loss: 726.4922163768481\n",
      "Training rmse: 55.21923\n",
      "Validation loss: 23354.140625\n",
      "Validation rmse: 19.581986444567733\n",
      "Validation mae: 14.404292\n",
      "Validation mape: 0.17649421\n",
      "Validation acc: 0.011790335178375244\n"
     ]
    },
    {
     "name": "stderr",
     "output_type": "stream",
     "text": [
      "<ipython-input-6-5c6a0450ba2d>:85: DeprecationWarning: np.asscalar(a) is deprecated since NumPy v1.16, use a.item() instead\n",
      "  validation_losses.append(np.asscalar(val_loss.detach().cpu().numpy()))\n"
     ]
    },
    {
     "name": "stdout",
     "output_type": "stream",
     "text": [
      "epoch: 310\n",
      "Training loss: 723.7576199876792\n",
      "Training rmse: 55.18761\n",
      "Validation loss: 23438.076171875\n",
      "Validation rmse: 19.61714549726686\n",
      "Validation mae: 14.436267\n",
      "Validation mape: 0.17683052\n",
      "Validation acc: 0.0073833465576171875\n"
     ]
    },
    {
     "name": "stderr",
     "output_type": "stream",
     "text": [
      "<ipython-input-6-5c6a0450ba2d>:85: DeprecationWarning: np.asscalar(a) is deprecated since NumPy v1.16, use a.item() instead\n",
      "  validation_losses.append(np.asscalar(val_loss.detach().cpu().numpy()))\n"
     ]
    },
    {
     "name": "stdout",
     "output_type": "stream",
     "text": [
      "epoch: 311\n",
      "Training loss: 724.1809985526573\n",
      "Training rmse: 55.19626\n",
      "Validation loss: 23481.595703125\n",
      "Validation rmse: 19.635349921830635\n",
      "Validation mae: 14.526205\n",
      "Validation mape: 0.1793662\n",
      "Validation acc: 0.016094744205474854\n"
     ]
    },
    {
     "name": "stderr",
     "output_type": "stream",
     "text": [
      "<ipython-input-6-5c6a0450ba2d>:85: DeprecationWarning: np.asscalar(a) is deprecated since NumPy v1.16, use a.item() instead\n",
      "  validation_losses.append(np.asscalar(val_loss.detach().cpu().numpy()))\n"
     ]
    },
    {
     "name": "stdout",
     "output_type": "stream",
     "text": [
      "epoch: 312\n",
      "Training loss: 720.9648931359732\n",
      "Training rmse: 55.149284\n",
      "Validation loss: 23175.763671875\n",
      "Validation rmse: 19.50704985118161\n",
      "Validation mae: 14.360591\n",
      "Validation mape: 0.17640401\n",
      "Validation acc: 0.021438658237457275\n"
     ]
    },
    {
     "name": "stderr",
     "output_type": "stream",
     "text": [
      "<ipython-input-6-5c6a0450ba2d>:85: DeprecationWarning: np.asscalar(a) is deprecated since NumPy v1.16, use a.item() instead\n",
      "  validation_losses.append(np.asscalar(val_loss.detach().cpu().numpy()))\n"
     ]
    },
    {
     "name": "stdout",
     "output_type": "stream",
     "text": [
      "epoch: 313\n",
      "Training loss: 722.0687303440545\n",
      "Training rmse: 55.16478\n",
      "Validation loss: 23522.951171875\n",
      "Validation rmse: 19.652633746742286\n",
      "Validation mae: 14.436409\n",
      "Validation mape: 0.1764756\n",
      "Validation acc: 0.0034195780754089355\n"
     ]
    },
    {
     "name": "stderr",
     "output_type": "stream",
     "text": [
      "<ipython-input-6-5c6a0450ba2d>:85: DeprecationWarning: np.asscalar(a) is deprecated since NumPy v1.16, use a.item() instead\n",
      "  validation_losses.append(np.asscalar(val_loss.detach().cpu().numpy()))\n"
     ]
    },
    {
     "name": "stdout",
     "output_type": "stream",
     "text": [
      "epoch: 314\n",
      "Training loss: 719.6056516913958\n",
      "Training rmse: 55.13641\n",
      "Validation loss: 23457.978515625\n",
      "Validation rmse: 19.625468837701927\n",
      "Validation mae: 14.416934\n",
      "Validation mape: 0.1761203\n",
      "Validation acc: 0.005572497844696045\n"
     ]
    },
    {
     "name": "stderr",
     "output_type": "stream",
     "text": [
      "<ipython-input-6-5c6a0450ba2d>:85: DeprecationWarning: np.asscalar(a) is deprecated since NumPy v1.16, use a.item() instead\n",
      "  validation_losses.append(np.asscalar(val_loss.detach().cpu().numpy()))\n"
     ]
    },
    {
     "name": "stdout",
     "output_type": "stream",
     "text": [
      "epoch: 315\n",
      "Training loss: 719.1952673252338\n",
      "Training rmse: 55.12775\n",
      "Validation loss: 23373.447265625\n",
      "Validation rmse: 19.59007235970796\n",
      "Validation mae: 14.475813\n",
      "Validation mape: 0.17954288\n",
      "Validation acc: 0.021817684173583984\n"
     ]
    },
    {
     "name": "stderr",
     "output_type": "stream",
     "text": [
      "<ipython-input-6-5c6a0450ba2d>:85: DeprecationWarning: np.asscalar(a) is deprecated since NumPy v1.16, use a.item() instead\n",
      "  validation_losses.append(np.asscalar(val_loss.detach().cpu().numpy()))\n"
     ]
    },
    {
     "name": "stdout",
     "output_type": "stream",
     "text": [
      "epoch: 316\n",
      "Training loss: 717.3596584087632\n",
      "Training rmse: 55.101616\n",
      "Validation loss: 23056.001953125\n",
      "Validation rmse: 19.456575214867513\n",
      "Validation mae: 14.347138\n",
      "Validation mape: 0.17614046\n",
      "Validation acc: 0.026240646839141846\n"
     ]
    },
    {
     "name": "stderr",
     "output_type": "stream",
     "text": [
      "<ipython-input-6-5c6a0450ba2d>:85: DeprecationWarning: np.asscalar(a) is deprecated since NumPy v1.16, use a.item() instead\n",
      "  validation_losses.append(np.asscalar(val_loss.detach().cpu().numpy()))\n"
     ]
    },
    {
     "name": "stdout",
     "output_type": "stream",
     "text": [
      "epoch: 317\n",
      "Training loss: 716.8898580134129\n",
      "Training rmse: 55.09807\n",
      "Validation loss: 23901.728515625\n",
      "Validation rmse: 19.810238682071073\n",
      "Validation mae: 14.576538\n",
      "Validation mape: 0.18055642\n",
      "Validation acc: -0.0017316341400146484\n"
     ]
    },
    {
     "name": "stderr",
     "output_type": "stream",
     "text": [
      "<ipython-input-6-5c6a0450ba2d>:85: DeprecationWarning: np.asscalar(a) is deprecated since NumPy v1.16, use a.item() instead\n",
      "  validation_losses.append(np.asscalar(val_loss.detach().cpu().numpy()))\n"
     ]
    },
    {
     "name": "stdout",
     "output_type": "stream",
     "text": [
      "epoch: 318\n",
      "Training loss: 718.1623339909379\n",
      "Training rmse: 55.116844\n",
      "Validation loss: 23513.234375\n",
      "Validation rmse: 19.648566413593002\n",
      "Validation mae: 14.510546\n",
      "Validation mape: 0.17515385\n",
      "Validation acc: 0.0065375566482543945\n"
     ]
    },
    {
     "name": "stderr",
     "output_type": "stream",
     "text": [
      "<ipython-input-6-5c6a0450ba2d>:85: DeprecationWarning: np.asscalar(a) is deprecated since NumPy v1.16, use a.item() instead\n",
      "  validation_losses.append(np.asscalar(val_loss.detach().cpu().numpy()))\n"
     ]
    },
    {
     "name": "stdout",
     "output_type": "stream",
     "text": [
      "epoch: 319\n",
      "Training loss: 715.9375278377191\n",
      "Training rmse: 55.083626\n",
      "Validation loss: 23846.140625\n",
      "Validation rmse: 19.78718407981777\n",
      "Validation mae: 14.591181\n",
      "Validation mape: 0.1806086\n",
      "Validation acc: -0.0022745132446289062\n"
     ]
    },
    {
     "name": "stderr",
     "output_type": "stream",
     "text": [
      "<ipython-input-6-5c6a0450ba2d>:85: DeprecationWarning: np.asscalar(a) is deprecated since NumPy v1.16, use a.item() instead\n",
      "  validation_losses.append(np.asscalar(val_loss.detach().cpu().numpy()))\n"
     ]
    },
    {
     "name": "stdout",
     "output_type": "stream",
     "text": [
      "epoch: 320\n",
      "Training loss: 714.9924380394721\n",
      "Training rmse: 55.079594\n",
      "Validation loss: 23484.552734375\n",
      "Validation rmse: 19.63657616009002\n",
      "Validation mae: 14.457778\n",
      "Validation mape: 0.17812651\n",
      "Validation acc: 0.00949859619140625\n"
     ]
    },
    {
     "name": "stderr",
     "output_type": "stream",
     "text": [
      "<ipython-input-6-5c6a0450ba2d>:85: DeprecationWarning: np.asscalar(a) is deprecated since NumPy v1.16, use a.item() instead\n",
      "  validation_losses.append(np.asscalar(val_loss.detach().cpu().numpy()))\n"
     ]
    },
    {
     "name": "stdout",
     "output_type": "stream",
     "text": [
      "epoch: 321\n",
      "Training loss: 713.4686542907496\n",
      "Training rmse: 55.054825\n",
      "Validation loss: 23529.662109375\n",
      "Validation rmse: 19.655430229328484\n",
      "Validation mae: 14.4634695\n",
      "Validation mape: 0.17622559\n",
      "Validation acc: 0.002238154411315918\n"
     ]
    },
    {
     "name": "stderr",
     "output_type": "stream",
     "text": [
      "<ipython-input-6-5c6a0450ba2d>:85: DeprecationWarning: np.asscalar(a) is deprecated since NumPy v1.16, use a.item() instead\n",
      "  validation_losses.append(np.asscalar(val_loss.detach().cpu().numpy()))\n"
     ]
    },
    {
     "name": "stdout",
     "output_type": "stream",
     "text": [
      "epoch: 322\n",
      "Training loss: 712.8902209975813\n",
      "Training rmse: 55.050896\n",
      "Validation loss: 23636.5078125\n",
      "Validation rmse: 19.70000920174476\n",
      "Validation mae: 14.547766\n",
      "Validation mape: 0.18020774\n",
      "Validation acc: 0.010411322116851807\n"
     ]
    },
    {
     "name": "stderr",
     "output_type": "stream",
     "text": [
      "<ipython-input-6-5c6a0450ba2d>:85: DeprecationWarning: np.asscalar(a) is deprecated since NumPy v1.16, use a.item() instead\n",
      "  validation_losses.append(np.asscalar(val_loss.detach().cpu().numpy()))\n"
     ]
    },
    {
     "name": "stdout",
     "output_type": "stream",
     "text": [
      "epoch: 323\n",
      "Training loss: 712.2299379191518\n",
      "Training rmse: 55.03812\n",
      "Validation loss: 24195.552734375\n",
      "Validation rmse: 19.93163287374298\n",
      "Validation mae: 14.675235\n",
      "Validation mape: 0.18040936\n",
      "Validation acc: -0.024180054664611816\n"
     ]
    },
    {
     "name": "stderr",
     "output_type": "stream",
     "text": [
      "<ipython-input-6-5c6a0450ba2d>:85: DeprecationWarning: np.asscalar(a) is deprecated since NumPy v1.16, use a.item() instead\n",
      "  validation_losses.append(np.asscalar(val_loss.detach().cpu().numpy()))\n"
     ]
    },
    {
     "name": "stdout",
     "output_type": "stream",
     "text": [
      "epoch: 324\n",
      "Training loss: 711.2430680797946\n",
      "Training rmse: 55.026596\n",
      "Validation loss: 23460.9765625\n",
      "Validation rmse: 19.62671357467132\n",
      "Validation mae: 14.482007\n",
      "Validation mape: 0.17409964\n",
      "Validation acc: 0.011900007724761963\n"
     ]
    },
    {
     "name": "stderr",
     "output_type": "stream",
     "text": [
      "<ipython-input-6-5c6a0450ba2d>:85: DeprecationWarning: np.asscalar(a) is deprecated since NumPy v1.16, use a.item() instead\n",
      "  validation_losses.append(np.asscalar(val_loss.detach().cpu().numpy()))\n"
     ]
    },
    {
     "name": "stdout",
     "output_type": "stream",
     "text": [
      "epoch: 325\n",
      "Training loss: 712.139144405242\n",
      "Training rmse: 55.03761\n",
      "Validation loss: 23395.486328125\n",
      "Validation rmse: 19.599297086606512\n",
      "Validation mae: 14.420435\n",
      "Validation mape: 0.17518093\n",
      "Validation acc: 0.008138895034790039\n"
     ]
    },
    {
     "name": "stderr",
     "output_type": "stream",
     "text": [
      "<ipython-input-6-5c6a0450ba2d>:85: DeprecationWarning: np.asscalar(a) is deprecated since NumPy v1.16, use a.item() instead\n",
      "  validation_losses.append(np.asscalar(val_loss.detach().cpu().numpy()))\n"
     ]
    },
    {
     "name": "stdout",
     "output_type": "stream",
     "text": [
      "epoch: 326\n",
      "Training loss: 708.8075785209628\n",
      "Training rmse: 54.9947\n",
      "Validation loss: 23791.1015625\n",
      "Validation rmse: 19.76432802068856\n",
      "Validation mae: 14.585093\n",
      "Validation mape: 0.18085355\n",
      "Validation acc: 0.003136277198791504\n"
     ]
    },
    {
     "name": "stderr",
     "output_type": "stream",
     "text": [
      "<ipython-input-6-5c6a0450ba2d>:85: DeprecationWarning: np.asscalar(a) is deprecated since NumPy v1.16, use a.item() instead\n",
      "  validation_losses.append(np.asscalar(val_loss.detach().cpu().numpy()))\n"
     ]
    },
    {
     "name": "stdout",
     "output_type": "stream",
     "text": [
      "epoch: 327\n",
      "Training loss: 711.7652549060015\n",
      "Training rmse: 55.03541\n",
      "Validation loss: 23905.251953125\n",
      "Validation rmse: 19.811689775428356\n",
      "Validation mae: 14.618025\n",
      "Validation mape: 0.17865303\n",
      "Validation acc: -0.013722419738769531\n"
     ]
    },
    {
     "name": "stderr",
     "output_type": "stream",
     "text": [
      "<ipython-input-6-5c6a0450ba2d>:85: DeprecationWarning: np.asscalar(a) is deprecated since NumPy v1.16, use a.item() instead\n",
      "  validation_losses.append(np.asscalar(val_loss.detach().cpu().numpy()))\n"
     ]
    },
    {
     "name": "stdout",
     "output_type": "stream",
     "text": [
      "epoch: 328\n",
      "Training loss: 712.3475416723545\n",
      "Training rmse: 55.039997\n",
      "Validation loss: 23781.310546875\n",
      "Validation rmse: 19.760258195557014\n",
      "Validation mae: 14.613904\n",
      "Validation mape: 0.18218033\n",
      "Validation acc: 0.010361135005950928\n"
     ]
    },
    {
     "name": "stderr",
     "output_type": "stream",
     "text": [
      "<ipython-input-6-5c6a0450ba2d>:85: DeprecationWarning: np.asscalar(a) is deprecated since NumPy v1.16, use a.item() instead\n",
      "  validation_losses.append(np.asscalar(val_loss.detach().cpu().numpy()))\n"
     ]
    },
    {
     "name": "stdout",
     "output_type": "stream",
     "text": [
      "epoch: 329\n",
      "Training loss: 710.2703414424773\n",
      "Training rmse: 55.018787\n",
      "Validation loss: 24042.79296875\n",
      "Validation rmse: 19.868605250730987\n",
      "Validation mae: 14.599541\n",
      "Validation mape: 0.17984405\n",
      "Validation acc: -0.01610851287841797\n"
     ]
    },
    {
     "name": "stderr",
     "output_type": "stream",
     "text": [
      "<ipython-input-6-5c6a0450ba2d>:85: DeprecationWarning: np.asscalar(a) is deprecated since NumPy v1.16, use a.item() instead\n",
      "  validation_losses.append(np.asscalar(val_loss.detach().cpu().numpy()))\n"
     ]
    },
    {
     "name": "stdout",
     "output_type": "stream",
     "text": [
      "epoch: 330\n",
      "Training loss: 709.8697068409253\n",
      "Training rmse: 55.00441\n",
      "Validation loss: 23365.45703125\n",
      "Validation rmse: 19.58671187888775\n",
      "Validation mae: 14.5273075\n",
      "Validation mape: 0.18054792\n",
      "Validation acc: 0.024249613285064697\n"
     ]
    },
    {
     "name": "stderr",
     "output_type": "stream",
     "text": [
      "<ipython-input-6-5c6a0450ba2d>:85: DeprecationWarning: np.asscalar(a) is deprecated since NumPy v1.16, use a.item() instead\n",
      "  validation_losses.append(np.asscalar(val_loss.detach().cpu().numpy()))\n"
     ]
    },
    {
     "name": "stdout",
     "output_type": "stream",
     "text": [
      "epoch: 331\n",
      "Training loss: 704.7385853866523\n",
      "Training rmse: 54.94471\n",
      "Validation loss: 23733.013671875\n",
      "Validation rmse: 19.74017939678329\n",
      "Validation mae: 14.542434\n",
      "Validation mape: 0.17685197\n",
      "Validation acc: -0.005887150764465332\n"
     ]
    },
    {
     "name": "stderr",
     "output_type": "stream",
     "text": [
      "<ipython-input-6-5c6a0450ba2d>:85: DeprecationWarning: np.asscalar(a) is deprecated since NumPy v1.16, use a.item() instead\n",
      "  validation_losses.append(np.asscalar(val_loss.detach().cpu().numpy()))\n"
     ]
    },
    {
     "name": "stdout",
     "output_type": "stream",
     "text": [
      "epoch: 332\n",
      "Training loss: 705.0127782787473\n",
      "Training rmse: 54.945183\n",
      "Validation loss: 23154.296875\n",
      "Validation rmse: 19.497996691968126\n",
      "Validation mae: 14.348132\n",
      "Validation mape: 0.17563123\n",
      "Validation acc: 0.01885974407196045\n"
     ]
    },
    {
     "name": "stderr",
     "output_type": "stream",
     "text": [
      "<ipython-input-6-5c6a0450ba2d>:85: DeprecationWarning: np.asscalar(a) is deprecated since NumPy v1.16, use a.item() instead\n",
      "  validation_losses.append(np.asscalar(val_loss.detach().cpu().numpy()))\n"
     ]
    },
    {
     "name": "stdout",
     "output_type": "stream",
     "text": [
      "epoch: 333\n",
      "Training loss: 703.5633406553644\n",
      "Training rmse: 54.928135\n",
      "Validation loss: 23072.8125\n",
      "Validation rmse: 19.463653338197616\n",
      "Validation mae: 14.345207\n",
      "Validation mape: 0.17633294\n",
      "Validation acc: 0.0242728590965271\n"
     ]
    },
    {
     "name": "stderr",
     "output_type": "stream",
     "text": [
      "<ipython-input-6-5c6a0450ba2d>:85: DeprecationWarning: np.asscalar(a) is deprecated since NumPy v1.16, use a.item() instead\n",
      "  validation_losses.append(np.asscalar(val_loss.detach().cpu().numpy()))\n"
     ]
    },
    {
     "name": "stdout",
     "output_type": "stream",
     "text": [
      "epoch: 334\n",
      "Training loss: 703.4895389242412\n",
      "Training rmse: 54.92521\n",
      "Validation loss: 23597.16796875\n",
      "Validation rmse: 19.683594912805084\n",
      "Validation mae: 14.482405\n",
      "Validation mape: 0.17749546\n",
      "Validation acc: -0.00010192394256591797\n"
     ]
    },
    {
     "name": "stderr",
     "output_type": "stream",
     "text": [
      "<ipython-input-6-5c6a0450ba2d>:85: DeprecationWarning: np.asscalar(a) is deprecated since NumPy v1.16, use a.item() instead\n",
      "  validation_losses.append(np.asscalar(val_loss.detach().cpu().numpy()))\n"
     ]
    },
    {
     "name": "stdout",
     "output_type": "stream",
     "text": [
      "epoch: 335\n",
      "Training loss: 705.3581713057761\n",
      "Training rmse: 54.948746\n",
      "Validation loss: 23593.833984375\n",
      "Validation rmse: 19.682205699346966\n",
      "Validation mae: 14.528672\n",
      "Validation mape: 0.17705277\n",
      "Validation acc: -0.00020360946655273438\n"
     ]
    },
    {
     "name": "stderr",
     "output_type": "stream",
     "text": [
      "<ipython-input-6-5c6a0450ba2d>:85: DeprecationWarning: np.asscalar(a) is deprecated since NumPy v1.16, use a.item() instead\n",
      "  validation_losses.append(np.asscalar(val_loss.detach().cpu().numpy()))\n"
     ]
    },
    {
     "name": "stdout",
     "output_type": "stream",
     "text": [
      "epoch: 336\n",
      "Training loss: 700.274176047267\n",
      "Training rmse: 54.885372\n",
      "Validation loss: 23108.69921875\n",
      "Validation rmse: 19.47878265274328\n",
      "Validation mae: 14.410506\n",
      "Validation mape: 0.17814247\n",
      "Validation acc: 0.028938233852386475\n"
     ]
    },
    {
     "name": "stderr",
     "output_type": "stream",
     "text": [
      "<ipython-input-6-5c6a0450ba2d>:85: DeprecationWarning: np.asscalar(a) is deprecated since NumPy v1.16, use a.item() instead\n",
      "  validation_losses.append(np.asscalar(val_loss.detach().cpu().numpy()))\n"
     ]
    },
    {
     "name": "stdout",
     "output_type": "stream",
     "text": [
      "epoch: 337\n",
      "Training loss: 704.8854075332696\n",
      "Training rmse: 54.942516\n",
      "Validation loss: 23685.634765625\n",
      "Validation rmse: 19.720459297201426\n",
      "Validation mae: 14.502703\n",
      "Validation mape: 0.17718862\n",
      "Validation acc: -0.004365086555480957\n"
     ]
    },
    {
     "name": "stderr",
     "output_type": "stream",
     "text": [
      "<ipython-input-6-5c6a0450ba2d>:85: DeprecationWarning: np.asscalar(a) is deprecated since NumPy v1.16, use a.item() instead\n",
      "  validation_losses.append(np.asscalar(val_loss.detach().cpu().numpy()))\n"
     ]
    },
    {
     "name": "stdout",
     "output_type": "stream",
     "text": [
      "epoch: 338\n",
      "Training loss: 699.7834883932571\n",
      "Training rmse: 54.878704\n",
      "Validation loss: 23278.0546875\n",
      "Validation rmse: 19.550033936141823\n",
      "Validation mae: 14.3933935\n",
      "Validation mape: 0.17673436\n",
      "Validation acc: 0.015081822872161865\n"
     ]
    },
    {
     "name": "stderr",
     "output_type": "stream",
     "text": [
      "<ipython-input-6-5c6a0450ba2d>:85: DeprecationWarning: np.asscalar(a) is deprecated since NumPy v1.16, use a.item() instead\n",
      "  validation_losses.append(np.asscalar(val_loss.detach().cpu().numpy()))\n"
     ]
    },
    {
     "name": "stdout",
     "output_type": "stream",
     "text": [
      "epoch: 339\n",
      "Training loss: 702.4319392378612\n",
      "Training rmse: 54.91301\n",
      "Validation loss: 22971.287109375\n",
      "Validation rmse: 19.420778202136045\n",
      "Validation mae: 14.342844\n",
      "Validation mape: 0.1754092\n",
      "Validation acc: 0.026798784732818604\n"
     ]
    },
    {
     "name": "stderr",
     "output_type": "stream",
     "text": [
      "<ipython-input-6-5c6a0450ba2d>:85: DeprecationWarning: np.asscalar(a) is deprecated since NumPy v1.16, use a.item() instead\n",
      "  validation_losses.append(np.asscalar(val_loss.detach().cpu().numpy()))\n"
     ]
    },
    {
     "name": "stdout",
     "output_type": "stream",
     "text": [
      "epoch: 340\n",
      "Training loss: 702.6055406686653\n",
      "Training rmse: 54.9174\n",
      "Validation loss: 22800.580078125\n",
      "Validation rmse: 19.348473682383595\n",
      "Validation mae: 14.435927\n",
      "Validation mape: 0.17847781\n",
      "Validation acc: 0.047600626945495605\n"
     ]
    },
    {
     "name": "stderr",
     "output_type": "stream",
     "text": [
      "<ipython-input-6-5c6a0450ba2d>:85: DeprecationWarning: np.asscalar(a) is deprecated since NumPy v1.16, use a.item() instead\n",
      "  validation_losses.append(np.asscalar(val_loss.detach().cpu().numpy()))\n"
     ]
    },
    {
     "name": "stdout",
     "output_type": "stream",
     "text": [
      "epoch: 341\n",
      "Training loss: 701.9516300761999\n",
      "Training rmse: 54.906536\n",
      "Validation loss: 23825.208984375\n",
      "Validation rmse: 19.778479021954013\n",
      "Validation mae: 14.565411\n",
      "Validation mape: 0.17513083\n",
      "Validation acc: -0.0012900829315185547\n"
     ]
    },
    {
     "name": "stderr",
     "output_type": "stream",
     "text": [
      "<ipython-input-6-5c6a0450ba2d>:85: DeprecationWarning: np.asscalar(a) is deprecated since NumPy v1.16, use a.item() instead\n",
      "  validation_losses.append(np.asscalar(val_loss.detach().cpu().numpy()))\n"
     ]
    },
    {
     "name": "stdout",
     "output_type": "stream",
     "text": [
      "epoch: 342\n",
      "Training loss: 696.8396920918564\n",
      "Training rmse: 54.841232\n",
      "Validation loss: 23623.546875\n",
      "Validation rmse: 19.6945896522945\n",
      "Validation mae: 14.5430155\n",
      "Validation mape: 0.1799205\n",
      "Validation acc: 0.005390942096710205\n"
     ]
    },
    {
     "name": "stderr",
     "output_type": "stream",
     "text": [
      "<ipython-input-6-5c6a0450ba2d>:85: DeprecationWarning: np.asscalar(a) is deprecated since NumPy v1.16, use a.item() instead\n",
      "  validation_losses.append(np.asscalar(val_loss.detach().cpu().numpy()))\n"
     ]
    },
    {
     "name": "stdout",
     "output_type": "stream",
     "text": [
      "epoch: 343\n",
      "Training loss: 699.0843213809434\n",
      "Training rmse: 54.870102\n",
      "Validation loss: 23178.84375\n",
      "Validation rmse: 19.50832169815014\n",
      "Validation mae: 14.460889\n",
      "Validation mape: 0.17976736\n",
      "Validation acc: 0.031952500343322754\n"
     ]
    },
    {
     "name": "stderr",
     "output_type": "stream",
     "text": [
      "<ipython-input-6-5c6a0450ba2d>:85: DeprecationWarning: np.asscalar(a) is deprecated since NumPy v1.16, use a.item() instead\n",
      "  validation_losses.append(np.asscalar(val_loss.detach().cpu().numpy()))\n"
     ]
    },
    {
     "name": "stdout",
     "output_type": "stream",
     "text": [
      "epoch: 344\n",
      "Training loss: 698.1357310305359\n",
      "Training rmse: 54.85429\n",
      "Validation loss: 23820.36328125\n",
      "Validation rmse: 19.776465345024846\n",
      "Validation mae: 14.5927925\n",
      "Validation mape: 0.18111901\n",
      "Validation acc: -0.00025856494903564453\n"
     ]
    },
    {
     "name": "stderr",
     "output_type": "stream",
     "text": [
      "<ipython-input-6-5c6a0450ba2d>:85: DeprecationWarning: np.asscalar(a) is deprecated since NumPy v1.16, use a.item() instead\n",
      "  validation_losses.append(np.asscalar(val_loss.detach().cpu().numpy()))\n"
     ]
    },
    {
     "name": "stdout",
     "output_type": "stream",
     "text": [
      "epoch: 345\n",
      "Training loss: 696.020738225684\n",
      "Training rmse: 54.831158\n",
      "Validation loss: 22803.88671875\n",
      "Validation rmse: 19.349872661634866\n",
      "Validation mae: 14.280652\n",
      "Validation mape: 0.17434932\n",
      "Validation acc: 0.03318434953689575\n"
     ]
    },
    {
     "name": "stderr",
     "output_type": "stream",
     "text": [
      "<ipython-input-6-5c6a0450ba2d>:85: DeprecationWarning: np.asscalar(a) is deprecated since NumPy v1.16, use a.item() instead\n",
      "  validation_losses.append(np.asscalar(val_loss.detach().cpu().numpy()))\n"
     ]
    },
    {
     "name": "stdout",
     "output_type": "stream",
     "text": [
      "epoch: 346\n",
      "Training loss: 695.2938898011348\n",
      "Training rmse: 54.82221\n",
      "Validation loss: 22894.404296875\n",
      "Validation rmse: 19.388239711519148\n",
      "Validation mae: 14.35049\n",
      "Validation mape: 0.1769963\n",
      "Validation acc: 0.03473597764968872\n"
     ]
    },
    {
     "name": "stderr",
     "output_type": "stream",
     "text": [
      "<ipython-input-6-5c6a0450ba2d>:85: DeprecationWarning: np.asscalar(a) is deprecated since NumPy v1.16, use a.item() instead\n",
      "  validation_losses.append(np.asscalar(val_loss.detach().cpu().numpy()))\n"
     ]
    },
    {
     "name": "stdout",
     "output_type": "stream",
     "text": [
      "epoch: 347\n",
      "Training loss: 694.3243188345305\n",
      "Training rmse: 54.80791\n",
      "Validation loss: 23535.646484375\n",
      "Validation rmse: 19.657907291769305\n",
      "Validation mae: 14.486852\n",
      "Validation mape: 0.17856702\n",
      "Validation acc: 0.004866659641265869\n"
     ]
    },
    {
     "name": "stderr",
     "output_type": "stream",
     "text": [
      "<ipython-input-6-5c6a0450ba2d>:85: DeprecationWarning: np.asscalar(a) is deprecated since NumPy v1.16, use a.item() instead\n",
      "  validation_losses.append(np.asscalar(val_loss.detach().cpu().numpy()))\n"
     ]
    },
    {
     "name": "stdout",
     "output_type": "stream",
     "text": [
      "epoch: 348\n",
      "Training loss: 696.247311062283\n",
      "Training rmse: 54.832523\n",
      "Validation loss: 23639.33203125\n",
      "Validation rmse: 19.70116325855492\n",
      "Validation mae: 14.530301\n",
      "Validation mape: 0.177551\n",
      "Validation acc: -0.0024383068084716797\n"
     ]
    },
    {
     "name": "stderr",
     "output_type": "stream",
     "text": [
      "<ipython-input-6-5c6a0450ba2d>:85: DeprecationWarning: np.asscalar(a) is deprecated since NumPy v1.16, use a.item() instead\n",
      "  validation_losses.append(np.asscalar(val_loss.detach().cpu().numpy()))\n"
     ]
    },
    {
     "name": "stdout",
     "output_type": "stream",
     "text": [
      "epoch: 349\n",
      "Training loss: 695.7361119314761\n",
      "Training rmse: 54.82289\n",
      "Validation loss: 23358.10546875\n",
      "Validation rmse: 19.58361495877397\n",
      "Validation mae: 14.504563\n",
      "Validation mape: 0.17997226\n",
      "Validation acc: 0.022387683391571045\n"
     ]
    },
    {
     "name": "stderr",
     "output_type": "stream",
     "text": [
      "<ipython-input-6-5c6a0450ba2d>:85: DeprecationWarning: np.asscalar(a) is deprecated since NumPy v1.16, use a.item() instead\n",
      "  validation_losses.append(np.asscalar(val_loss.detach().cpu().numpy()))\n"
     ]
    },
    {
     "name": "stdout",
     "output_type": "stream",
     "text": [
      "epoch: 350\n",
      "Training loss: 692.8534739504578\n",
      "Training rmse: 54.786034\n",
      "Validation loss: 23269.017578125\n",
      "Validation rmse: 19.546229412050693\n",
      "Validation mae: 14.411749\n",
      "Validation mape: 0.17822887\n",
      "Validation acc: 0.02038663625717163\n"
     ]
    },
    {
     "name": "stderr",
     "output_type": "stream",
     "text": [
      "<ipython-input-6-5c6a0450ba2d>:85: DeprecationWarning: np.asscalar(a) is deprecated since NumPy v1.16, use a.item() instead\n",
      "  validation_losses.append(np.asscalar(val_loss.detach().cpu().numpy()))\n"
     ]
    },
    {
     "name": "stdout",
     "output_type": "stream",
     "text": [
      "epoch: 351\n",
      "Training loss: 693.9004444409442\n",
      "Training rmse: 54.801037\n",
      "Validation loss: 23758.9921875\n",
      "Validation rmse: 19.750964177414225\n",
      "Validation mae: 14.57052\n",
      "Validation mape: 0.17888744\n",
      "Validation acc: -0.006687164306640625\n"
     ]
    },
    {
     "name": "stderr",
     "output_type": "stream",
     "text": [
      "<ipython-input-6-5c6a0450ba2d>:85: DeprecationWarning: np.asscalar(a) is deprecated since NumPy v1.16, use a.item() instead\n",
      "  validation_losses.append(np.asscalar(val_loss.detach().cpu().numpy()))\n"
     ]
    },
    {
     "name": "stdout",
     "output_type": "stream",
     "text": [
      "epoch: 352\n",
      "Training loss: 691.4779845206969\n",
      "Training rmse: 54.770885\n",
      "Validation loss: 22622.419921875\n",
      "Validation rmse: 19.27271466393819\n",
      "Validation mae: 14.242712\n",
      "Validation mape: 0.17410196\n",
      "Validation acc: 0.04076105356216431\n"
     ]
    },
    {
     "name": "stderr",
     "output_type": "stream",
     "text": [
      "<ipython-input-6-5c6a0450ba2d>:85: DeprecationWarning: np.asscalar(a) is deprecated since NumPy v1.16, use a.item() instead\n",
      "  validation_losses.append(np.asscalar(val_loss.detach().cpu().numpy()))\n"
     ]
    },
    {
     "name": "stdout",
     "output_type": "stream",
     "text": [
      "epoch: 353\n",
      "Training loss: 691.3171943473133\n",
      "Training rmse: 54.770153\n",
      "Validation loss: 23421.66796875\n",
      "Validation rmse: 19.610241047857574\n",
      "Validation mae: 14.433638\n",
      "Validation mape: 0.17717396\n",
      "Validation acc: 0.007976531982421875\n"
     ]
    },
    {
     "name": "stderr",
     "output_type": "stream",
     "text": [
      "<ipython-input-6-5c6a0450ba2d>:85: DeprecationWarning: np.asscalar(a) is deprecated since NumPy v1.16, use a.item() instead\n",
      "  validation_losses.append(np.asscalar(val_loss.detach().cpu().numpy()))\n"
     ]
    },
    {
     "name": "stdout",
     "output_type": "stream",
     "text": [
      "epoch: 354\n",
      "Training loss: 688.5178886058083\n",
      "Training rmse: 54.731407\n",
      "Validation loss: 23083.986328125\n",
      "Validation rmse: 19.46834871175519\n",
      "Validation mae: 14.378315\n",
      "Validation mape: 0.17542881\n",
      "Validation acc: 0.021120071411132812\n"
     ]
    },
    {
     "name": "stderr",
     "output_type": "stream",
     "text": [
      "<ipython-input-6-5c6a0450ba2d>:85: DeprecationWarning: np.asscalar(a) is deprecated since NumPy v1.16, use a.item() instead\n",
      "  validation_losses.append(np.asscalar(val_loss.detach().cpu().numpy()))\n"
     ]
    },
    {
     "name": "stdout",
     "output_type": "stream",
     "text": [
      "epoch: 355\n",
      "Training loss: 689.0340312561254\n",
      "Training rmse: 54.734264\n",
      "Validation loss: 23028.923828125\n",
      "Validation rmse: 19.44511475391618\n",
      "Validation mae: 14.326393\n",
      "Validation mape: 0.17426525\n",
      "Validation acc: 0.02369600534439087\n"
     ]
    },
    {
     "name": "stderr",
     "output_type": "stream",
     "text": [
      "<ipython-input-6-5c6a0450ba2d>:85: DeprecationWarning: np.asscalar(a) is deprecated since NumPy v1.16, use a.item() instead\n",
      "  validation_losses.append(np.asscalar(val_loss.detach().cpu().numpy()))\n"
     ]
    },
    {
     "name": "stdout",
     "output_type": "stream",
     "text": [
      "epoch: 356\n",
      "Training loss: 691.5126505205708\n",
      "Training rmse: 54.77009\n",
      "Validation loss: 23220.8515625\n",
      "Validation rmse: 19.52598053915923\n",
      "Validation mae: 14.392335\n",
      "Validation mape: 0.1773299\n",
      "Validation acc: 0.017959892749786377\n"
     ]
    },
    {
     "name": "stderr",
     "output_type": "stream",
     "text": [
      "<ipython-input-6-5c6a0450ba2d>:85: DeprecationWarning: np.asscalar(a) is deprecated since NumPy v1.16, use a.item() instead\n",
      "  validation_losses.append(np.asscalar(val_loss.detach().cpu().numpy()))\n"
     ]
    },
    {
     "name": "stdout",
     "output_type": "stream",
     "text": [
      "epoch: 357\n",
      "Training loss: 688.0840813421433\n",
      "Training rmse: 54.727646\n",
      "Validation loss: 23148.24609375\n",
      "Validation rmse: 19.495428087338677\n",
      "Validation mae: 14.437952\n",
      "Validation mape: 0.17912884\n",
      "Validation acc: 0.02828073501586914\n"
     ]
    },
    {
     "name": "stderr",
     "output_type": "stream",
     "text": [
      "<ipython-input-6-5c6a0450ba2d>:85: DeprecationWarning: np.asscalar(a) is deprecated since NumPy v1.16, use a.item() instead\n",
      "  validation_losses.append(np.asscalar(val_loss.detach().cpu().numpy()))\n"
     ]
    },
    {
     "name": "stdout",
     "output_type": "stream",
     "text": [
      "epoch: 358\n",
      "Training loss: 688.7410991490956\n",
      "Training rmse: 54.73655\n",
      "Validation loss: 23450.498046875\n",
      "Validation rmse: 19.62230104973237\n",
      "Validation mae: 14.506692\n",
      "Validation mape: 0.17803773\n",
      "Validation acc: 0.005939841270446777\n"
     ]
    },
    {
     "name": "stderr",
     "output_type": "stream",
     "text": [
      "<ipython-input-6-5c6a0450ba2d>:85: DeprecationWarning: np.asscalar(a) is deprecated since NumPy v1.16, use a.item() instead\n",
      "  validation_losses.append(np.asscalar(val_loss.detach().cpu().numpy()))\n"
     ]
    },
    {
     "name": "stdout",
     "output_type": "stream",
     "text": [
      "epoch: 359\n",
      "Training loss: 689.9731106775208\n",
      "Training rmse: 54.75047\n",
      "Validation loss: 23753.55859375\n",
      "Validation rmse: 19.74869735864321\n",
      "Validation mae: 14.760425\n",
      "Validation mape: 0.17805779\n",
      "Validation acc: 0.0019416213035583496\n"
     ]
    },
    {
     "name": "stderr",
     "output_type": "stream",
     "text": [
      "<ipython-input-6-5c6a0450ba2d>:85: DeprecationWarning: np.asscalar(a) is deprecated since NumPy v1.16, use a.item() instead\n",
      "  validation_losses.append(np.asscalar(val_loss.detach().cpu().numpy()))\n"
     ]
    },
    {
     "name": "stdout",
     "output_type": "stream",
     "text": [
      "epoch: 360\n",
      "Training loss: 690.7176136303973\n",
      "Training rmse: 54.762962\n",
      "Validation loss: 23304.9140625\n",
      "Validation rmse: 19.561291739593383\n",
      "Validation mae: 14.416936\n",
      "Validation mape: 0.17551161\n",
      "Validation acc: 0.01188206672668457\n"
     ]
    },
    {
     "name": "stderr",
     "output_type": "stream",
     "text": [
      "<ipython-input-6-5c6a0450ba2d>:85: DeprecationWarning: np.asscalar(a) is deprecated since NumPy v1.16, use a.item() instead\n",
      "  validation_losses.append(np.asscalar(val_loss.detach().cpu().numpy()))\n"
     ]
    },
    {
     "name": "stdout",
     "output_type": "stream",
     "text": [
      "epoch: 361\n",
      "Training loss: 689.0519798032699\n",
      "Training rmse: 54.739574\n",
      "Validation loss: 23577.453125\n",
      "Validation rmse: 19.675348122218036\n",
      "Validation mae: 14.544452\n",
      "Validation mape: 0.17796959\n",
      "Validation acc: 0.00023305416107177734\n"
     ]
    },
    {
     "name": "stderr",
     "output_type": "stream",
     "text": [
      "<ipython-input-6-5c6a0450ba2d>:85: DeprecationWarning: np.asscalar(a) is deprecated since NumPy v1.16, use a.item() instead\n",
      "  validation_losses.append(np.asscalar(val_loss.detach().cpu().numpy()))\n"
     ]
    },
    {
     "name": "stdout",
     "output_type": "stream",
     "text": [
      "epoch: 362\n",
      "Training loss: 686.4083359694396\n",
      "Training rmse: 54.70175\n",
      "Validation loss: 23101.583984375\n",
      "Validation rmse: 19.475761020663207\n",
      "Validation mae: 14.371945\n",
      "Validation mape: 0.17646934\n",
      "Validation acc: 0.022204935550689697\n"
     ]
    },
    {
     "name": "stderr",
     "output_type": "stream",
     "text": [
      "<ipython-input-6-5c6a0450ba2d>:85: DeprecationWarning: np.asscalar(a) is deprecated since NumPy v1.16, use a.item() instead\n",
      "  validation_losses.append(np.asscalar(val_loss.detach().cpu().numpy()))\n"
     ]
    },
    {
     "name": "stdout",
     "output_type": "stream",
     "text": [
      "epoch: 363\n",
      "Training loss: 687.1173464867377\n",
      "Training rmse: 54.713196\n",
      "Validation loss: 22735.072265625\n",
      "Validation rmse: 19.320637096697034\n",
      "Validation mae: 14.276582\n",
      "Validation mape: 0.17544024\n",
      "Validation acc: 0.038138389587402344\n"
     ]
    },
    {
     "name": "stderr",
     "output_type": "stream",
     "text": [
      "<ipython-input-6-5c6a0450ba2d>:85: DeprecationWarning: np.asscalar(a) is deprecated since NumPy v1.16, use a.item() instead\n",
      "  validation_losses.append(np.asscalar(val_loss.detach().cpu().numpy()))\n"
     ]
    },
    {
     "name": "stdout",
     "output_type": "stream",
     "text": [
      "epoch: 364\n",
      "Training loss: 683.9479039783546\n",
      "Training rmse: 54.674232\n",
      "Validation loss: 22818.599609375\n",
      "Validation rmse: 19.356097445011514\n",
      "Validation mae: 14.28482\n",
      "Validation mape: 0.17474139\n",
      "Validation acc: 0.03284764289855957\n"
     ]
    },
    {
     "name": "stderr",
     "output_type": "stream",
     "text": [
      "<ipython-input-6-5c6a0450ba2d>:85: DeprecationWarning: np.asscalar(a) is deprecated since NumPy v1.16, use a.item() instead\n",
      "  validation_losses.append(np.asscalar(val_loss.detach().cpu().numpy()))\n"
     ]
    },
    {
     "name": "stdout",
     "output_type": "stream",
     "text": [
      "epoch: 365\n",
      "Training loss: 683.9468419885122\n",
      "Training rmse: 54.67264\n",
      "Validation loss: 22481.205078125\n",
      "Validation rmse: 19.21245133065566\n",
      "Validation mae: 14.218248\n",
      "Validation mape: 0.1741948\n",
      "Validation acc: 0.047617197036743164\n"
     ]
    },
    {
     "name": "stderr",
     "output_type": "stream",
     "text": [
      "<ipython-input-6-5c6a0450ba2d>:85: DeprecationWarning: np.asscalar(a) is deprecated since NumPy v1.16, use a.item() instead\n",
      "  validation_losses.append(np.asscalar(val_loss.detach().cpu().numpy()))\n"
     ]
    },
    {
     "name": "stdout",
     "output_type": "stream",
     "text": [
      "epoch: 366\n",
      "Training loss: 681.8435810595003\n",
      "Training rmse: 54.64562\n",
      "Validation loss: 23395.87890625\n",
      "Validation rmse: 19.599430216078268\n",
      "Validation mae: 14.471414\n",
      "Validation mape: 0.17798351\n",
      "Validation acc: 0.00974893569946289\n"
     ]
    },
    {
     "name": "stderr",
     "output_type": "stream",
     "text": [
      "<ipython-input-6-5c6a0450ba2d>:85: DeprecationWarning: np.asscalar(a) is deprecated since NumPy v1.16, use a.item() instead\n",
      "  validation_losses.append(np.asscalar(val_loss.detach().cpu().numpy()))\n"
     ]
    },
    {
     "name": "stdout",
     "output_type": "stream",
     "text": [
      "epoch: 367\n",
      "Training loss: 680.0668704672099\n",
      "Training rmse: 54.6207\n",
      "Validation loss: 23288.8828125\n",
      "Validation rmse: 19.554557187190646\n",
      "Validation mae: 14.506786\n",
      "Validation mape: 0.17688\n",
      "Validation acc: 0.01280057430267334\n"
     ]
    },
    {
     "name": "stderr",
     "output_type": "stream",
     "text": [
      "<ipython-input-6-5c6a0450ba2d>:85: DeprecationWarning: np.asscalar(a) is deprecated since NumPy v1.16, use a.item() instead\n",
      "  validation_losses.append(np.asscalar(val_loss.detach().cpu().numpy()))\n"
     ]
    },
    {
     "name": "stdout",
     "output_type": "stream",
     "text": [
      "epoch: 368\n",
      "Training loss: 685.1924194007792\n",
      "Training rmse: 54.685524\n",
      "Validation loss: 23942.21484375\n",
      "Validation rmse: 19.826969098005907\n",
      "Validation mae: 14.61523\n",
      "Validation mape: 0.17891577\n",
      "Validation acc: -0.015294671058654785\n"
     ]
    },
    {
     "name": "stderr",
     "output_type": "stream",
     "text": [
      "<ipython-input-6-5c6a0450ba2d>:85: DeprecationWarning: np.asscalar(a) is deprecated since NumPy v1.16, use a.item() instead\n",
      "  validation_losses.append(np.asscalar(val_loss.detach().cpu().numpy()))\n"
     ]
    },
    {
     "name": "stdout",
     "output_type": "stream",
     "text": [
      "epoch: 369\n",
      "Training loss: 683.3902143252793\n",
      "Training rmse: 54.667515\n",
      "Validation loss: 23370.787109375\n",
      "Validation rmse: 19.588914094965087\n",
      "Validation mae: 14.536973\n",
      "Validation mape: 0.17549571\n",
      "Validation acc: 0.014851808547973633\n"
     ]
    },
    {
     "name": "stderr",
     "output_type": "stream",
     "text": [
      "<ipython-input-6-5c6a0450ba2d>:85: DeprecationWarning: np.asscalar(a) is deprecated since NumPy v1.16, use a.item() instead\n",
      "  validation_losses.append(np.asscalar(val_loss.detach().cpu().numpy()))\n"
     ]
    },
    {
     "name": "stdout",
     "output_type": "stream",
     "text": [
      "epoch: 370\n",
      "Training loss: 681.5812702794229\n",
      "Training rmse: 54.6433\n",
      "Validation loss: 23434.0\n",
      "Validation rmse: 19.615389858147335\n",
      "Validation mae: 14.55437\n",
      "Validation mape: 0.18026882\n",
      "Validation acc: 0.013326764106750488\n"
     ]
    },
    {
     "name": "stderr",
     "output_type": "stream",
     "text": [
      "<ipython-input-6-5c6a0450ba2d>:85: DeprecationWarning: np.asscalar(a) is deprecated since NumPy v1.16, use a.item() instead\n",
      "  validation_losses.append(np.asscalar(val_loss.detach().cpu().numpy()))\n"
     ]
    },
    {
     "name": "stdout",
     "output_type": "stream",
     "text": [
      "epoch: 371\n",
      "Training loss: 682.7587006271526\n",
      "Training rmse: 54.65735\n",
      "Validation loss: 23532.84765625\n",
      "Validation rmse: 19.656718092349735\n",
      "Validation mae: 14.489862\n",
      "Validation mape: 0.17923169\n",
      "Validation acc: 0.007022380828857422\n"
     ]
    },
    {
     "name": "stderr",
     "output_type": "stream",
     "text": [
      "<ipython-input-6-5c6a0450ba2d>:85: DeprecationWarning: np.asscalar(a) is deprecated since NumPy v1.16, use a.item() instead\n",
      "  validation_losses.append(np.asscalar(val_loss.detach().cpu().numpy()))\n"
     ]
    },
    {
     "name": "stdout",
     "output_type": "stream",
     "text": [
      "epoch: 372\n",
      "Training loss: 678.2099057542807\n",
      "Training rmse: 54.598404\n",
      "Validation loss: 22772.46484375\n",
      "Validation rmse: 19.33651356465114\n",
      "Validation mae: 14.280669\n",
      "Validation mape: 0.1754737\n",
      "Validation acc: 0.035669684410095215\n"
     ]
    },
    {
     "name": "stderr",
     "output_type": "stream",
     "text": [
      "<ipython-input-6-5c6a0450ba2d>:85: DeprecationWarning: np.asscalar(a) is deprecated since NumPy v1.16, use a.item() instead\n",
      "  validation_losses.append(np.asscalar(val_loss.detach().cpu().numpy()))\n"
     ]
    },
    {
     "name": "stdout",
     "output_type": "stream",
     "text": [
      "epoch: 373\n",
      "Training loss: 682.4775689237861\n",
      "Training rmse: 54.65523\n",
      "Validation loss: 22836.830078125\n",
      "Validation rmse: 19.363820646990824\n",
      "Validation mae: 14.36968\n",
      "Validation mape: 0.17465352\n",
      "Validation acc: 0.03262066841125488\n"
     ]
    },
    {
     "name": "stderr",
     "output_type": "stream",
     "text": [
      "<ipython-input-6-5c6a0450ba2d>:85: DeprecationWarning: np.asscalar(a) is deprecated since NumPy v1.16, use a.item() instead\n",
      "  validation_losses.append(np.asscalar(val_loss.detach().cpu().numpy()))\n"
     ]
    },
    {
     "name": "stdout",
     "output_type": "stream",
     "text": [
      "epoch: 374\n",
      "Training loss: 680.853264483927\n",
      "Training rmse: 54.62832\n",
      "Validation loss: 22835.953125\n",
      "Validation rmse: 19.363450281060693\n",
      "Validation mae: 14.371743\n",
      "Validation mape: 0.17578731\n",
      "Validation acc: 0.03289783000946045\n"
     ]
    },
    {
     "name": "stderr",
     "output_type": "stream",
     "text": [
      "<ipython-input-6-5c6a0450ba2d>:85: DeprecationWarning: np.asscalar(a) is deprecated since NumPy v1.16, use a.item() instead\n",
      "  validation_losses.append(np.asscalar(val_loss.detach().cpu().numpy()))\n"
     ]
    },
    {
     "name": "stdout",
     "output_type": "stream",
     "text": [
      "epoch: 375\n",
      "Training loss: 678.3312357694017\n",
      "Training rmse: 54.59733\n",
      "Validation loss: 24268.375\n",
      "Validation rmse: 19.9615673824297\n",
      "Validation mae: 15.130718\n",
      "Validation mape: 0.19166672\n",
      "Validation acc: 0.044156551361083984\n"
     ]
    },
    {
     "name": "stderr",
     "output_type": "stream",
     "text": [
      "<ipython-input-6-5c6a0450ba2d>:85: DeprecationWarning: np.asscalar(a) is deprecated since NumPy v1.16, use a.item() instead\n",
      "  validation_losses.append(np.asscalar(val_loss.detach().cpu().numpy()))\n"
     ]
    },
    {
     "name": "stdout",
     "output_type": "stream",
     "text": [
      "epoch: 376\n",
      "Training loss: 680.7016084185638\n",
      "Training rmse: 54.626877\n",
      "Validation loss: 23265.517578125\n",
      "Validation rmse: 19.54473831122578\n",
      "Validation mae: 14.481385\n",
      "Validation mape: 0.18012299\n",
      "Validation acc: 0.026014506816864014\n"
     ]
    },
    {
     "name": "stderr",
     "output_type": "stream",
     "text": [
      "<ipython-input-6-5c6a0450ba2d>:85: DeprecationWarning: np.asscalar(a) is deprecated since NumPy v1.16, use a.item() instead\n",
      "  validation_losses.append(np.asscalar(val_loss.detach().cpu().numpy()))\n"
     ]
    },
    {
     "name": "stdout",
     "output_type": "stream",
     "text": [
      "epoch: 377\n",
      "Training loss: 676.6739095052084\n",
      "Training rmse: 54.576393\n",
      "Validation loss: 22353.943359375\n",
      "Validation rmse: 19.157982404076947\n",
      "Validation mae: 14.193855\n",
      "Validation mape: 0.17387007\n",
      "Validation acc: 0.05299341678619385\n"
     ]
    },
    {
     "name": "stderr",
     "output_type": "stream",
     "text": [
      "<ipython-input-6-5c6a0450ba2d>:85: DeprecationWarning: np.asscalar(a) is deprecated since NumPy v1.16, use a.item() instead\n",
      "  validation_losses.append(np.asscalar(val_loss.detach().cpu().numpy()))\n"
     ]
    },
    {
     "name": "stdout",
     "output_type": "stream",
     "text": [
      "epoch: 378\n",
      "Training loss: 678.8370485476695\n",
      "Training rmse: 54.60483\n",
      "Validation loss: 23061.02734375\n",
      "Validation rmse: 19.45864473647815\n",
      "Validation mae: 14.392437\n",
      "Validation mape: 0.17956883\n",
      "Validation acc: 0.038219988346099854\n"
     ]
    },
    {
     "name": "stderr",
     "output_type": "stream",
     "text": [
      "<ipython-input-6-5c6a0450ba2d>:85: DeprecationWarning: np.asscalar(a) is deprecated since NumPy v1.16, use a.item() instead\n",
      "  validation_losses.append(np.asscalar(val_loss.detach().cpu().numpy()))\n"
     ]
    },
    {
     "name": "stdout",
     "output_type": "stream",
     "text": [
      "epoch: 379\n",
      "Training loss: 675.4646240562521\n",
      "Training rmse: 54.56313\n",
      "Validation loss: 22926.90234375\n",
      "Validation rmse: 19.40196822102359\n",
      "Validation mae: 14.332793\n",
      "Validation mape: 0.17606735\n",
      "Validation acc: 0.029273152351379395\n"
     ]
    },
    {
     "name": "stderr",
     "output_type": "stream",
     "text": [
      "<ipython-input-6-5c6a0450ba2d>:85: DeprecationWarning: np.asscalar(a) is deprecated since NumPy v1.16, use a.item() instead\n",
      "  validation_losses.append(np.asscalar(val_loss.detach().cpu().numpy()))\n"
     ]
    },
    {
     "name": "stdout",
     "output_type": "stream",
     "text": [
      "epoch: 380\n",
      "Training loss: 679.0131217382287\n",
      "Training rmse: 54.60865\n",
      "Validation loss: 22406.4921875\n",
      "Validation rmse: 19.18048544037704\n",
      "Validation mae: 14.22395\n",
      "Validation mape: 0.17450792\n",
      "Validation acc: 0.05173933506011963\n"
     ]
    },
    {
     "name": "stderr",
     "output_type": "stream",
     "text": [
      "<ipython-input-6-5c6a0450ba2d>:85: DeprecationWarning: np.asscalar(a) is deprecated since NumPy v1.16, use a.item() instead\n",
      "  validation_losses.append(np.asscalar(val_loss.detach().cpu().numpy()))\n"
     ]
    },
    {
     "name": "stdout",
     "output_type": "stream",
     "text": [
      "epoch: 381\n",
      "Training loss: 675.1115982438502\n",
      "Training rmse: 54.55968\n",
      "Validation loss: 22462.892578125\n",
      "Validation rmse: 19.204614021297882\n",
      "Validation mae: 14.255108\n",
      "Validation mape: 0.17527013\n",
      "Validation acc: 0.05092960596084595\n"
     ]
    },
    {
     "name": "stderr",
     "output_type": "stream",
     "text": [
      "<ipython-input-6-5c6a0450ba2d>:85: DeprecationWarning: np.asscalar(a) is deprecated since NumPy v1.16, use a.item() instead\n",
      "  validation_losses.append(np.asscalar(val_loss.detach().cpu().numpy()))\n"
     ]
    },
    {
     "name": "stdout",
     "output_type": "stream",
     "text": [
      "epoch: 382\n",
      "Training loss: 675.9566215050263\n",
      "Training rmse: 54.566875\n",
      "Validation loss: 23384.50390625\n",
      "Validation rmse: 19.594650223538377\n",
      "Validation mae: 14.520508\n",
      "Validation mape: 0.18053585\n",
      "Validation acc: 0.02293616533279419\n"
     ]
    },
    {
     "name": "stderr",
     "output_type": "stream",
     "text": [
      "<ipython-input-6-5c6a0450ba2d>:85: DeprecationWarning: np.asscalar(a) is deprecated since NumPy v1.16, use a.item() instead\n",
      "  validation_losses.append(np.asscalar(val_loss.detach().cpu().numpy()))\n"
     ]
    },
    {
     "name": "stdout",
     "output_type": "stream",
     "text": [
      "epoch: 383\n",
      "Training loss: 673.2769325830603\n",
      "Training rmse: 54.528732\n",
      "Validation loss: 23130.583984375\n",
      "Validation rmse: 19.48796688398983\n",
      "Validation mae: 14.381922\n",
      "Validation mape: 0.17695944\n",
      "Validation acc: 0.021805167198181152\n"
     ]
    },
    {
     "name": "stderr",
     "output_type": "stream",
     "text": [
      "<ipython-input-6-5c6a0450ba2d>:85: DeprecationWarning: np.asscalar(a) is deprecated since NumPy v1.16, use a.item() instead\n",
      "  validation_losses.append(np.asscalar(val_loss.detach().cpu().numpy()))\n"
     ]
    },
    {
     "name": "stdout",
     "output_type": "stream",
     "text": [
      "epoch: 384\n",
      "Training loss: 672.8680413358954\n",
      "Training rmse: 54.526806\n",
      "Validation loss: 23175.853515625\n",
      "Validation rmse: 19.50702794903152\n",
      "Validation mae: 14.438935\n",
      "Validation mape: 0.17635578\n",
      "Validation acc: 0.017291724681854248\n"
     ]
    },
    {
     "name": "stderr",
     "output_type": "stream",
     "text": [
      "<ipython-input-6-5c6a0450ba2d>:85: DeprecationWarning: np.asscalar(a) is deprecated since NumPy v1.16, use a.item() instead\n",
      "  validation_losses.append(np.asscalar(val_loss.detach().cpu().numpy()))\n"
     ]
    },
    {
     "name": "stdout",
     "output_type": "stream",
     "text": [
      "epoch: 385\n",
      "Training loss: 674.2748831472089\n",
      "Training rmse: 54.54241\n",
      "Validation loss: 22229.30078125\n",
      "Validation rmse: 19.104483576496104\n",
      "Validation mae: 14.159756\n",
      "Validation mape: 0.17490631\n",
      "Validation acc: 0.0621524453163147\n"
     ]
    },
    {
     "name": "stderr",
     "output_type": "stream",
     "text": [
      "<ipython-input-6-5c6a0450ba2d>:85: DeprecationWarning: np.asscalar(a) is deprecated since NumPy v1.16, use a.item() instead\n",
      "  validation_losses.append(np.asscalar(val_loss.detach().cpu().numpy()))\n"
     ]
    },
    {
     "name": "stdout",
     "output_type": "stream",
     "text": [
      "epoch: 386\n",
      "Training loss: 675.8907311552314\n",
      "Training rmse: 54.56513\n",
      "Validation loss: 23076.244140625\n",
      "Validation rmse: 19.465059717470364\n",
      "Validation mae: 14.366513\n",
      "Validation mape: 0.17597404\n",
      "Validation acc: 0.021507680416107178\n"
     ]
    },
    {
     "name": "stderr",
     "output_type": "stream",
     "text": [
      "<ipython-input-6-5c6a0450ba2d>:85: DeprecationWarning: np.asscalar(a) is deprecated since NumPy v1.16, use a.item() instead\n",
      "  validation_losses.append(np.asscalar(val_loss.detach().cpu().numpy()))\n"
     ]
    },
    {
     "name": "stdout",
     "output_type": "stream",
     "text": [
      "epoch: 387\n",
      "Training loss: 672.6099747961995\n",
      "Training rmse: 54.519447\n",
      "Validation loss: 22778.41796875\n",
      "Validation rmse: 19.339029897918305\n",
      "Validation mae: 14.333653\n",
      "Validation mape: 0.17357844\n",
      "Validation acc: 0.036745548248291016\n"
     ]
    },
    {
     "name": "stderr",
     "output_type": "stream",
     "text": [
      "<ipython-input-6-5c6a0450ba2d>:85: DeprecationWarning: np.asscalar(a) is deprecated since NumPy v1.16, use a.item() instead\n",
      "  validation_losses.append(np.asscalar(val_loss.detach().cpu().numpy()))\n"
     ]
    },
    {
     "name": "stdout",
     "output_type": "stream",
     "text": [
      "epoch: 388\n",
      "Training loss: 673.9037502384527\n",
      "Training rmse: 54.543823\n",
      "Validation loss: 23746.28515625\n",
      "Validation rmse: 19.745654436878638\n",
      "Validation mae: 14.623153\n",
      "Validation mape: 0.17775024\n",
      "Validation acc: -0.004575014114379883\n"
     ]
    },
    {
     "name": "stderr",
     "output_type": "stream",
     "text": [
      "<ipython-input-6-5c6a0450ba2d>:85: DeprecationWarning: np.asscalar(a) is deprecated since NumPy v1.16, use a.item() instead\n",
      "  validation_losses.append(np.asscalar(val_loss.detach().cpu().numpy()))\n"
     ]
    },
    {
     "name": "stdout",
     "output_type": "stream",
     "text": [
      "epoch: 389\n",
      "Training loss: 673.5244487912852\n",
      "Training rmse: 54.532005\n",
      "Validation loss: 23006.021484375\n",
      "Validation rmse: 19.43541409502051\n",
      "Validation mae: 14.390607\n",
      "Validation mape: 0.17588916\n",
      "Validation acc: 0.02442348003387451\n"
     ]
    },
    {
     "name": "stderr",
     "output_type": "stream",
     "text": [
      "<ipython-input-6-5c6a0450ba2d>:85: DeprecationWarning: np.asscalar(a) is deprecated since NumPy v1.16, use a.item() instead\n",
      "  validation_losses.append(np.asscalar(val_loss.detach().cpu().numpy()))\n"
     ]
    },
    {
     "name": "stdout",
     "output_type": "stream",
     "text": [
      "epoch: 390\n",
      "Training loss: 670.9600170504663\n",
      "Training rmse: 54.499165\n",
      "Validation loss: 23057.66796875\n",
      "Validation rmse: 19.45721907219625\n",
      "Validation mae: 14.465204\n",
      "Validation mape: 0.18083411\n",
      "Validation acc: 0.04172408580780029\n"
     ]
    },
    {
     "name": "stderr",
     "output_type": "stream",
     "text": [
      "<ipython-input-6-5c6a0450ba2d>:85: DeprecationWarning: np.asscalar(a) is deprecated since NumPy v1.16, use a.item() instead\n",
      "  validation_losses.append(np.asscalar(val_loss.detach().cpu().numpy()))\n"
     ]
    },
    {
     "name": "stdout",
     "output_type": "stream",
     "text": [
      "epoch: 391\n",
      "Training loss: 669.8116803459797\n",
      "Training rmse: 54.480343\n",
      "Validation loss: 23536.03515625\n",
      "Validation rmse: 19.658033814627323\n",
      "Validation mae: 14.512302\n",
      "Validation mape: 0.17953518\n",
      "Validation acc: 0.0067528486251831055\n"
     ]
    },
    {
     "name": "stderr",
     "output_type": "stream",
     "text": [
      "<ipython-input-6-5c6a0450ba2d>:85: DeprecationWarning: np.asscalar(a) is deprecated since NumPy v1.16, use a.item() instead\n",
      "  validation_losses.append(np.asscalar(val_loss.detach().cpu().numpy()))\n"
     ]
    },
    {
     "name": "stdout",
     "output_type": "stream",
     "text": [
      "epoch: 392\n",
      "Training loss: 672.3470926045517\n",
      "Training rmse: 54.518055\n",
      "Validation loss: 23055.080078125\n",
      "Validation rmse: 19.45612583531293\n",
      "Validation mae: 14.370356\n",
      "Validation mape: 0.17554678\n",
      "Validation acc: 0.022330284118652344\n"
     ]
    },
    {
     "name": "stderr",
     "output_type": "stream",
     "text": [
      "<ipython-input-6-5c6a0450ba2d>:85: DeprecationWarning: np.asscalar(a) is deprecated since NumPy v1.16, use a.item() instead\n",
      "  validation_losses.append(np.asscalar(val_loss.detach().cpu().numpy()))\n"
     ]
    },
    {
     "name": "stdout",
     "output_type": "stream",
     "text": [
      "epoch: 393\n",
      "Training loss: 669.4882575687969\n",
      "Training rmse: 54.47993\n",
      "Validation loss: 22804.9140625\n",
      "Validation rmse: 19.350268521281638\n",
      "Validation mae: 14.306675\n",
      "Validation mape: 0.17729937\n",
      "Validation acc: 0.04058182239532471\n"
     ]
    },
    {
     "name": "stderr",
     "output_type": "stream",
     "text": [
      "<ipython-input-6-5c6a0450ba2d>:85: DeprecationWarning: np.asscalar(a) is deprecated since NumPy v1.16, use a.item() instead\n",
      "  validation_losses.append(np.asscalar(val_loss.detach().cpu().numpy()))\n"
     ]
    },
    {
     "name": "stdout",
     "output_type": "stream",
     "text": [
      "epoch: 394\n",
      "Training loss: 667.8834081396834\n",
      "Training rmse: 54.460007\n",
      "Validation loss: 23310.640625\n",
      "Validation rmse: 19.563668408098497\n",
      "Validation mae: 14.412417\n",
      "Validation mape: 0.17893559\n",
      "Validation acc: 0.020142793655395508\n"
     ]
    },
    {
     "name": "stderr",
     "output_type": "stream",
     "text": [
      "<ipython-input-6-5c6a0450ba2d>:85: DeprecationWarning: np.asscalar(a) is deprecated since NumPy v1.16, use a.item() instead\n",
      "  validation_losses.append(np.asscalar(val_loss.detach().cpu().numpy()))\n"
     ]
    },
    {
     "name": "stdout",
     "output_type": "stream",
     "text": [
      "epoch: 395\n",
      "Training loss: 669.0442037274761\n",
      "Training rmse: 54.476105\n",
      "Validation loss: 23408.38671875\n",
      "Validation rmse: 19.60464491009162\n",
      "Validation mae: 14.551515\n",
      "Validation mape: 0.17757004\n",
      "Validation acc: 0.00796884298324585\n"
     ]
    },
    {
     "name": "stderr",
     "output_type": "stream",
     "text": [
      "<ipython-input-6-5c6a0450ba2d>:85: DeprecationWarning: np.asscalar(a) is deprecated since NumPy v1.16, use a.item() instead\n",
      "  validation_losses.append(np.asscalar(val_loss.detach().cpu().numpy()))\n"
     ]
    },
    {
     "name": "stdout",
     "output_type": "stream",
     "text": [
      "epoch: 396\n",
      "Training loss: 671.7000473733444\n",
      "Training rmse: 54.508007\n",
      "Validation loss: 22367.01171875\n",
      "Validation rmse: 19.163566449195578\n",
      "Validation mae: 14.244778\n",
      "Validation mape: 0.17606625\n",
      "Validation acc: 0.05954110622406006\n"
     ]
    },
    {
     "name": "stderr",
     "output_type": "stream",
     "text": [
      "<ipython-input-6-5c6a0450ba2d>:85: DeprecationWarning: np.asscalar(a) is deprecated since NumPy v1.16, use a.item() instead\n",
      "  validation_losses.append(np.asscalar(val_loss.detach().cpu().numpy()))\n"
     ]
    },
    {
     "name": "stdout",
     "output_type": "stream",
     "text": [
      "epoch: 397\n",
      "Training loss: 667.4485676536424\n",
      "Training rmse: 54.4511\n",
      "Validation loss: 24387.09765625\n",
      "Validation rmse: 20.010323721017656\n",
      "Validation mae: 14.855918\n",
      "Validation mape: 0.18277058\n",
      "Validation acc: -0.03395116329193115\n"
     ]
    },
    {
     "name": "stderr",
     "output_type": "stream",
     "text": [
      "<ipython-input-6-5c6a0450ba2d>:85: DeprecationWarning: np.asscalar(a) is deprecated since NumPy v1.16, use a.item() instead\n",
      "  validation_losses.append(np.asscalar(val_loss.detach().cpu().numpy()))\n"
     ]
    },
    {
     "name": "stdout",
     "output_type": "stream",
     "text": [
      "epoch: 398\n",
      "Training loss: 669.810536374328\n",
      "Training rmse: 54.481163\n",
      "Validation loss: 23450.70703125\n",
      "Validation rmse: 19.62235937151003\n",
      "Validation mae: 14.544639\n",
      "Validation mape: 0.18170854\n",
      "Validation acc: 0.025305509567260742\n"
     ]
    },
    {
     "name": "stderr",
     "output_type": "stream",
     "text": [
      "<ipython-input-6-5c6a0450ba2d>:85: DeprecationWarning: np.asscalar(a) is deprecated since NumPy v1.16, use a.item() instead\n",
      "  validation_losses.append(np.asscalar(val_loss.detach().cpu().numpy()))\n"
     ]
    },
    {
     "name": "stdout",
     "output_type": "stream",
     "text": [
      "epoch: 399\n",
      "Training loss: 665.5966697337379\n",
      "Training rmse: 54.4274\n",
      "Validation loss: 22714.720703125\n",
      "Validation rmse: 19.31195798440454\n",
      "Validation mae: 14.262568\n",
      "Validation mape: 0.17486733\n",
      "Validation acc: 0.03780418634414673\n"
     ]
    },
    {
     "name": "stderr",
     "output_type": "stream",
     "text": [
      "<ipython-input-6-5c6a0450ba2d>:85: DeprecationWarning: np.asscalar(a) is deprecated since NumPy v1.16, use a.item() instead\n",
      "  validation_losses.append(np.asscalar(val_loss.detach().cpu().numpy()))\n"
     ]
    },
    {
     "name": "stdout",
     "output_type": "stream",
     "text": [
      "epoch: 400\n",
      "Training loss: 666.7824428107149\n",
      "Training rmse: 54.446598\n",
      "Validation loss: 23079.34375\n",
      "Validation rmse: 19.46635390426702\n",
      "Validation mae: 14.396536\n",
      "Validation mape: 0.17974198\n",
      "Validation acc: 0.038837730884552\n"
     ]
    },
    {
     "name": "stderr",
     "output_type": "stream",
     "text": [
      "<ipython-input-6-5c6a0450ba2d>:85: DeprecationWarning: np.asscalar(a) is deprecated since NumPy v1.16, use a.item() instead\n",
      "  validation_losses.append(np.asscalar(val_loss.detach().cpu().numpy()))\n"
     ]
    },
    {
     "name": "stdout",
     "output_type": "stream",
     "text": [
      "epoch: 401\n",
      "Training loss: 665.839596163842\n",
      "Training rmse: 54.43518\n",
      "Validation loss: 23714.41796875\n",
      "Validation rmse: 19.732386980476175\n",
      "Validation mae: 14.569933\n",
      "Validation mape: 0.17958565\n",
      "Validation acc: -0.0037097930908203125\n"
     ]
    },
    {
     "name": "stderr",
     "output_type": "stream",
     "text": [
      "<ipython-input-6-5c6a0450ba2d>:85: DeprecationWarning: np.asscalar(a) is deprecated since NumPy v1.16, use a.item() instead\n",
      "  validation_losses.append(np.asscalar(val_loss.detach().cpu().numpy()))\n"
     ]
    },
    {
     "name": "stdout",
     "output_type": "stream",
     "text": [
      "epoch: 402\n",
      "Training loss: 666.8763925422477\n",
      "Training rmse: 54.44747\n",
      "Validation loss: 23236.4765625\n",
      "Validation rmse: 19.532515583996407\n",
      "Validation mae: 14.557787\n",
      "Validation mape: 0.18226458\n",
      "Validation acc: 0.04337966442108154\n"
     ]
    },
    {
     "name": "stderr",
     "output_type": "stream",
     "text": [
      "<ipython-input-6-5c6a0450ba2d>:85: DeprecationWarning: np.asscalar(a) is deprecated since NumPy v1.16, use a.item() instead\n",
      "  validation_losses.append(np.asscalar(val_loss.detach().cpu().numpy()))\n"
     ]
    },
    {
     "name": "stdout",
     "output_type": "stream",
     "text": [
      "epoch: 403\n",
      "Training loss: 665.3211399748334\n",
      "Training rmse: 54.42913\n",
      "Validation loss: 23344.740234375\n",
      "Validation rmse: 19.577966785324406\n",
      "Validation mae: 14.469185\n",
      "Validation mape: 0.17818458\n",
      "Validation acc: 0.011980950832366943\n"
     ]
    },
    {
     "name": "stderr",
     "output_type": "stream",
     "text": [
      "<ipython-input-6-5c6a0450ba2d>:85: DeprecationWarning: np.asscalar(a) is deprecated since NumPy v1.16, use a.item() instead\n",
      "  validation_losses.append(np.asscalar(val_loss.detach().cpu().numpy()))\n"
     ]
    },
    {
     "name": "stdout",
     "output_type": "stream",
     "text": [
      "epoch: 404\n",
      "Training loss: 664.4935625411276\n",
      "Training rmse: 54.417984\n",
      "Validation loss: 22406.5078125\n",
      "Validation rmse: 19.18047509839107\n",
      "Validation mae: 14.166295\n",
      "Validation mape: 0.17335247\n",
      "Validation acc: 0.050051987171173096\n"
     ]
    },
    {
     "name": "stderr",
     "output_type": "stream",
     "text": [
      "<ipython-input-6-5c6a0450ba2d>:85: DeprecationWarning: np.asscalar(a) is deprecated since NumPy v1.16, use a.item() instead\n",
      "  validation_losses.append(np.asscalar(val_loss.detach().cpu().numpy()))\n"
     ]
    },
    {
     "name": "stdout",
     "output_type": "stream",
     "text": [
      "epoch: 405\n",
      "Training loss: 666.4178596961456\n",
      "Training rmse: 54.43849\n",
      "Validation loss: 23221.4140625\n",
      "Validation rmse: 19.526181373561066\n",
      "Validation mae: 14.388039\n",
      "Validation mape: 0.17836626\n",
      "Validation acc: 0.02195000648498535\n"
     ]
    },
    {
     "name": "stderr",
     "output_type": "stream",
     "text": [
      "<ipython-input-6-5c6a0450ba2d>:85: DeprecationWarning: np.asscalar(a) is deprecated since NumPy v1.16, use a.item() instead\n",
      "  validation_losses.append(np.asscalar(val_loss.detach().cpu().numpy()))\n"
     ]
    },
    {
     "name": "stdout",
     "output_type": "stream",
     "text": [
      "epoch: 406\n",
      "Training loss: 668.3334774988099\n",
      "Training rmse: 54.462547\n",
      "Validation loss: 22248.939453125\n",
      "Validation rmse: 19.112908025044963\n",
      "Validation mae: 14.164856\n",
      "Validation mape: 0.17403904\n",
      "Validation acc: 0.05729818344116211\n"
     ]
    },
    {
     "name": "stderr",
     "output_type": "stream",
     "text": [
      "<ipython-input-6-5c6a0450ba2d>:85: DeprecationWarning: np.asscalar(a) is deprecated since NumPy v1.16, use a.item() instead\n",
      "  validation_losses.append(np.asscalar(val_loss.detach().cpu().numpy()))\n"
     ]
    },
    {
     "name": "stdout",
     "output_type": "stream",
     "text": [
      "epoch: 407\n",
      "Training loss: 663.3006787043746\n",
      "Training rmse: 54.39944\n",
      "Validation loss: 23581.453125\n",
      "Validation rmse: 19.676981317011002\n",
      "Validation mae: 14.530761\n",
      "Validation mape: 0.17892402\n",
      "Validation acc: 0.0009386539459228516\n"
     ]
    },
    {
     "name": "stderr",
     "output_type": "stream",
     "text": [
      "<ipython-input-6-5c6a0450ba2d>:85: DeprecationWarning: np.asscalar(a) is deprecated since NumPy v1.16, use a.item() instead\n",
      "  validation_losses.append(np.asscalar(val_loss.detach().cpu().numpy()))\n"
     ]
    },
    {
     "name": "stdout",
     "output_type": "stream",
     "text": [
      "epoch: 408\n",
      "Training loss: 662.6016825467455\n",
      "Training rmse: 54.38862\n",
      "Validation loss: 22842.244140625\n",
      "Validation rmse: 19.366091544474955\n",
      "Validation mae: 14.374702\n",
      "Validation mape: 0.17828292\n",
      "Validation acc: 0.03982198238372803\n"
     ]
    },
    {
     "name": "stderr",
     "output_type": "stream",
     "text": [
      "<ipython-input-6-5c6a0450ba2d>:85: DeprecationWarning: np.asscalar(a) is deprecated since NumPy v1.16, use a.item() instead\n",
      "  validation_losses.append(np.asscalar(val_loss.detach().cpu().numpy()))\n"
     ]
    },
    {
     "name": "stdout",
     "output_type": "stream",
     "text": [
      "epoch: 409\n",
      "Training loss: 665.3738255654612\n",
      "Training rmse: 54.427387\n",
      "Validation loss: 22953.453125\n",
      "Validation rmse: 19.41317984034743\n",
      "Validation mae: 14.339021\n",
      "Validation mape: 0.17776628\n",
      "Validation acc: 0.03325176239013672\n"
     ]
    },
    {
     "name": "stderr",
     "output_type": "stream",
     "text": [
      "<ipython-input-6-5c6a0450ba2d>:85: DeprecationWarning: np.asscalar(a) is deprecated since NumPy v1.16, use a.item() instead\n",
      "  validation_losses.append(np.asscalar(val_loss.detach().cpu().numpy()))\n"
     ]
    },
    {
     "name": "stdout",
     "output_type": "stream",
     "text": [
      "epoch: 410\n",
      "Training loss: 662.213618616904\n",
      "Training rmse: 54.381226\n",
      "Validation loss: 22902.173828125\n",
      "Validation rmse: 19.39148114548306\n",
      "Validation mae: 14.412096\n",
      "Validation mape: 0.1774516\n",
      "Validation acc: 0.030014872550964355\n"
     ]
    },
    {
     "name": "stderr",
     "output_type": "stream",
     "text": [
      "<ipython-input-6-5c6a0450ba2d>:85: DeprecationWarning: np.asscalar(a) is deprecated since NumPy v1.16, use a.item() instead\n",
      "  validation_losses.append(np.asscalar(val_loss.detach().cpu().numpy()))\n"
     ]
    },
    {
     "name": "stdout",
     "output_type": "stream",
     "text": [
      "epoch: 411\n",
      "Training loss: 662.3122065280928\n",
      "Training rmse: 54.383156\n",
      "Validation loss: 22706.224609375\n",
      "Validation rmse: 19.30833730926714\n",
      "Validation mae: 14.290401\n",
      "Validation mape: 0.17765574\n",
      "Validation acc: 0.04967474937438965\n"
     ]
    },
    {
     "name": "stderr",
     "output_type": "stream",
     "text": [
      "<ipython-input-6-5c6a0450ba2d>:85: DeprecationWarning: np.asscalar(a) is deprecated since NumPy v1.16, use a.item() instead\n",
      "  validation_losses.append(np.asscalar(val_loss.detach().cpu().numpy()))\n"
     ]
    },
    {
     "name": "stdout",
     "output_type": "stream",
     "text": [
      "epoch: 412\n",
      "Training loss: 659.7542278330814\n",
      "Training rmse: 54.354244\n",
      "Validation loss: 24011.8046875\n",
      "Validation rmse: 19.855730420147683\n",
      "Validation mae: 14.735815\n",
      "Validation mape: 0.18167019\n",
      "Validation acc: -0.01628267765045166\n"
     ]
    },
    {
     "name": "stderr",
     "output_type": "stream",
     "text": [
      "<ipython-input-6-5c6a0450ba2d>:85: DeprecationWarning: np.asscalar(a) is deprecated since NumPy v1.16, use a.item() instead\n",
      "  validation_losses.append(np.asscalar(val_loss.detach().cpu().numpy()))\n"
     ]
    },
    {
     "name": "stdout",
     "output_type": "stream",
     "text": [
      "epoch: 413\n",
      "Training loss: 663.1712878374216\n",
      "Training rmse: 54.398132\n",
      "Validation loss: 22480.125\n",
      "Validation rmse: 19.211954146543924\n",
      "Validation mae: 14.264565\n",
      "Validation mape: 0.17762226\n",
      "Validation acc: 0.06324875354766846\n"
     ]
    },
    {
     "name": "stderr",
     "output_type": "stream",
     "text": [
      "<ipython-input-6-5c6a0450ba2d>:85: DeprecationWarning: np.asscalar(a) is deprecated since NumPy v1.16, use a.item() instead\n",
      "  validation_losses.append(np.asscalar(val_loss.detach().cpu().numpy()))\n"
     ]
    },
    {
     "name": "stdout",
     "output_type": "stream",
     "text": [
      "epoch: 414\n",
      "Training loss: 659.8134564362119\n",
      "Training rmse: 54.3544\n",
      "Validation loss: 23181.890625\n",
      "Validation rmse: 19.50954888147324\n",
      "Validation mae: 14.446519\n",
      "Validation mape: 0.17997456\n",
      "Validation acc: 0.0315546989440918\n"
     ]
    },
    {
     "name": "stderr",
     "output_type": "stream",
     "text": [
      "<ipython-input-6-5c6a0450ba2d>:85: DeprecationWarning: np.asscalar(a) is deprecated since NumPy v1.16, use a.item() instead\n",
      "  validation_losses.append(np.asscalar(val_loss.detach().cpu().numpy()))\n"
     ]
    },
    {
     "name": "stdout",
     "output_type": "stream",
     "text": [
      "epoch: 415\n",
      "Training loss: 659.4787149190048\n",
      "Training rmse: 54.349937\n",
      "Validation loss: 23025.56640625\n",
      "Validation rmse: 19.443650428666615\n",
      "Validation mae: 14.33396\n",
      "Validation mape: 0.17753832\n",
      "Validation acc: 0.029001712799072266\n"
     ]
    },
    {
     "name": "stderr",
     "output_type": "stream",
     "text": [
      "<ipython-input-6-5c6a0450ba2d>:85: DeprecationWarning: np.asscalar(a) is deprecated since NumPy v1.16, use a.item() instead\n",
      "  validation_losses.append(np.asscalar(val_loss.detach().cpu().numpy()))\n"
     ]
    },
    {
     "name": "stdout",
     "output_type": "stream",
     "text": [
      "epoch: 416\n",
      "Training loss: 661.0152812123725\n",
      "Training rmse: 54.365932\n",
      "Validation loss: 22762.28125\n",
      "Validation rmse: 19.33215398589549\n",
      "Validation mae: 14.256582\n",
      "Validation mape: 0.17489448\n",
      "Validation acc: 0.035614609718322754\n"
     ]
    },
    {
     "name": "stderr",
     "output_type": "stream",
     "text": [
      "<ipython-input-6-5c6a0450ba2d>:85: DeprecationWarning: np.asscalar(a) is deprecated since NumPy v1.16, use a.item() instead\n",
      "  validation_losses.append(np.asscalar(val_loss.detach().cpu().numpy()))\n"
     ]
    },
    {
     "name": "stdout",
     "output_type": "stream",
     "text": [
      "epoch: 417\n",
      "Training loss: 660.4405239747844\n",
      "Training rmse: 54.356834\n",
      "Validation loss: 22619.2109375\n",
      "Validation rmse: 19.27129820666767\n",
      "Validation mae: 14.244599\n",
      "Validation mape: 0.17577343\n",
      "Validation acc: 0.04351067543029785\n"
     ]
    },
    {
     "name": "stderr",
     "output_type": "stream",
     "text": [
      "<ipython-input-6-5c6a0450ba2d>:85: DeprecationWarning: np.asscalar(a) is deprecated since NumPy v1.16, use a.item() instead\n",
      "  validation_losses.append(np.asscalar(val_loss.detach().cpu().numpy()))\n"
     ]
    },
    {
     "name": "stdout",
     "output_type": "stream",
     "text": [
      "epoch: 418\n",
      "Training loss: 659.3399066446502\n",
      "Training rmse: 54.348072\n",
      "Validation loss: 23521.693359375\n",
      "Validation rmse: 19.65202579684654\n",
      "Validation mae: 14.53846\n",
      "Validation mape: 0.17671771\n",
      "Validation acc: 0.0038223862648010254\n"
     ]
    },
    {
     "name": "stderr",
     "output_type": "stream",
     "text": [
      "<ipython-input-6-5c6a0450ba2d>:85: DeprecationWarning: np.asscalar(a) is deprecated since NumPy v1.16, use a.item() instead\n",
      "  validation_losses.append(np.asscalar(val_loss.detach().cpu().numpy()))\n"
     ]
    },
    {
     "name": "stdout",
     "output_type": "stream",
     "text": [
      "epoch: 419\n",
      "Training loss: 658.5936489310316\n",
      "Training rmse: 54.334568\n",
      "Validation loss: 22998.8359375\n",
      "Validation rmse: 19.432357451253342\n",
      "Validation mae: 14.365684\n",
      "Validation mape: 0.175937\n",
      "Validation acc: 0.02471756935119629\n"
     ]
    },
    {
     "name": "stderr",
     "output_type": "stream",
     "text": [
      "<ipython-input-6-5c6a0450ba2d>:85: DeprecationWarning: np.asscalar(a) is deprecated since NumPy v1.16, use a.item() instead\n",
      "  validation_losses.append(np.asscalar(val_loss.detach().cpu().numpy()))\n"
     ]
    },
    {
     "name": "stdout",
     "output_type": "stream",
     "text": [
      "epoch: 420\n",
      "Training loss: 660.9065241659841\n",
      "Training rmse: 54.367535\n",
      "Validation loss: 23334.017578125\n",
      "Validation rmse: 19.573459078378782\n",
      "Validation mae: 14.521253\n",
      "Validation mape: 0.17762974\n",
      "Validation acc: 0.01056051254272461\n"
     ]
    },
    {
     "name": "stderr",
     "output_type": "stream",
     "text": [
      "<ipython-input-6-5c6a0450ba2d>:85: DeprecationWarning: np.asscalar(a) is deprecated since NumPy v1.16, use a.item() instead\n",
      "  validation_losses.append(np.asscalar(val_loss.detach().cpu().numpy()))\n"
     ]
    },
    {
     "name": "stdout",
     "output_type": "stream",
     "text": [
      "epoch: 421\n",
      "Training loss: 661.1035369544901\n",
      "Training rmse: 54.366325\n",
      "Validation loss: 22353.33984375\n",
      "Validation rmse: 19.15769168973408\n",
      "Validation mae: 14.175981\n",
      "Validation mape: 0.17465858\n",
      "Validation acc: 0.05522185564041138\n"
     ]
    },
    {
     "name": "stderr",
     "output_type": "stream",
     "text": [
      "<ipython-input-6-5c6a0450ba2d>:85: DeprecationWarning: np.asscalar(a) is deprecated since NumPy v1.16, use a.item() instead\n",
      "  validation_losses.append(np.asscalar(val_loss.detach().cpu().numpy()))\n"
     ]
    },
    {
     "name": "stdout",
     "output_type": "stream",
     "text": [
      "epoch: 422\n",
      "Training loss: 657.7695999965873\n",
      "Training rmse: 54.323296\n",
      "Validation loss: 22467.9140625\n",
      "Validation rmse: 19.206728964089642\n",
      "Validation mae: 14.208563\n",
      "Validation mape: 0.17672323\n",
      "Validation acc: 0.06246095895767212\n"
     ]
    },
    {
     "name": "stderr",
     "output_type": "stream",
     "text": [
      "<ipython-input-6-5c6a0450ba2d>:85: DeprecationWarning: np.asscalar(a) is deprecated since NumPy v1.16, use a.item() instead\n",
      "  validation_losses.append(np.asscalar(val_loss.detach().cpu().numpy()))\n"
     ]
    },
    {
     "name": "stdout",
     "output_type": "stream",
     "text": [
      "epoch: 423\n",
      "Training loss: 658.8239234732898\n",
      "Training rmse: 54.33838\n",
      "Validation loss: 23378.216796875\n",
      "Validation rmse: 19.59198837026965\n",
      "Validation mae: 14.457715\n",
      "Validation mape: 0.18013074\n",
      "Validation acc: 0.021526813507080078\n"
     ]
    },
    {
     "name": "stderr",
     "output_type": "stream",
     "text": [
      "<ipython-input-6-5c6a0450ba2d>:85: DeprecationWarning: np.asscalar(a) is deprecated since NumPy v1.16, use a.item() instead\n",
      "  validation_losses.append(np.asscalar(val_loss.detach().cpu().numpy()))\n"
     ]
    },
    {
     "name": "stdout",
     "output_type": "stream",
     "text": [
      "epoch: 424\n",
      "Training loss: 656.6318714866502\n",
      "Training rmse: 54.310303\n",
      "Validation loss: 21967.453125\n",
      "Validation rmse: 18.991591349652285\n",
      "Validation mae: 14.065661\n",
      "Validation mape: 0.17319217\n",
      "Validation acc: 0.07140558958053589\n"
     ]
    },
    {
     "name": "stderr",
     "output_type": "stream",
     "text": [
      "<ipython-input-6-5c6a0450ba2d>:85: DeprecationWarning: np.asscalar(a) is deprecated since NumPy v1.16, use a.item() instead\n",
      "  validation_losses.append(np.asscalar(val_loss.detach().cpu().numpy()))\n"
     ]
    },
    {
     "name": "stdout",
     "output_type": "stream",
     "text": [
      "epoch: 425\n",
      "Training loss: 657.2500585740612\n",
      "Training rmse: 54.31697\n",
      "Validation loss: 22525.478515625\n",
      "Validation rmse: 19.231318140265618\n",
      "Validation mae: 14.246699\n",
      "Validation mape: 0.17711967\n",
      "Validation acc: 0.05424576997756958\n"
     ]
    },
    {
     "name": "stderr",
     "output_type": "stream",
     "text": [
      "<ipython-input-6-5c6a0450ba2d>:85: DeprecationWarning: np.asscalar(a) is deprecated since NumPy v1.16, use a.item() instead\n",
      "  validation_losses.append(np.asscalar(val_loss.detach().cpu().numpy()))\n"
     ]
    },
    {
     "name": "stdout",
     "output_type": "stream",
     "text": [
      "epoch: 426\n",
      "Training loss: 654.5524653499699\n",
      "Training rmse: 54.281418\n",
      "Validation loss: 22933.0234375\n",
      "Validation rmse: 19.40452717921331\n",
      "Validation mae: 14.369188\n",
      "Validation mape: 0.17569575\n",
      "Validation acc: 0.027514517307281494\n"
     ]
    },
    {
     "name": "stderr",
     "output_type": "stream",
     "text": [
      "<ipython-input-6-5c6a0450ba2d>:85: DeprecationWarning: np.asscalar(a) is deprecated since NumPy v1.16, use a.item() instead\n",
      "  validation_losses.append(np.asscalar(val_loss.detach().cpu().numpy()))\n"
     ]
    },
    {
     "name": "stdout",
     "output_type": "stream",
     "text": [
      "epoch: 427\n",
      "Training loss: 655.0494163267074\n",
      "Training rmse: 54.292606\n",
      "Validation loss: 22412.943359375\n",
      "Validation rmse: 19.18321393879254\n",
      "Validation mae: 14.194702\n",
      "Validation mape: 0.17581196\n",
      "Validation acc: 0.056656062602996826\n"
     ]
    },
    {
     "name": "stderr",
     "output_type": "stream",
     "text": [
      "<ipython-input-6-5c6a0450ba2d>:85: DeprecationWarning: np.asscalar(a) is deprecated since NumPy v1.16, use a.item() instead\n",
      "  validation_losses.append(np.asscalar(val_loss.detach().cpu().numpy()))\n"
     ]
    },
    {
     "name": "stdout",
     "output_type": "stream",
     "text": [
      "epoch: 428\n",
      "Training loss: 656.4691646124727\n",
      "Training rmse: 54.311344\n",
      "Validation loss: 23185.271484375\n",
      "Validation rmse: 19.510962119338597\n",
      "Validation mae: 14.453257\n",
      "Validation mape: 0.17818458\n",
      "Validation acc: 0.018972337245941162\n"
     ]
    },
    {
     "name": "stderr",
     "output_type": "stream",
     "text": [
      "<ipython-input-6-5c6a0450ba2d>:85: DeprecationWarning: np.asscalar(a) is deprecated since NumPy v1.16, use a.item() instead\n",
      "  validation_losses.append(np.asscalar(val_loss.detach().cpu().numpy()))\n"
     ]
    },
    {
     "name": "stdout",
     "output_type": "stream",
     "text": [
      "epoch: 429\n",
      "Training loss: 655.85814144449\n",
      "Training rmse: 54.299164\n",
      "Validation loss: 22479.328125\n",
      "Validation rmse: 19.211603091865474\n",
      "Validation mae: 14.181488\n",
      "Validation mape: 0.17342007\n",
      "Validation acc: 0.046837568283081055\n"
     ]
    },
    {
     "name": "stderr",
     "output_type": "stream",
     "text": [
      "<ipython-input-6-5c6a0450ba2d>:85: DeprecationWarning: np.asscalar(a) is deprecated since NumPy v1.16, use a.item() instead\n",
      "  validation_losses.append(np.asscalar(val_loss.detach().cpu().numpy()))\n"
     ]
    },
    {
     "name": "stdout",
     "output_type": "stream",
     "text": [
      "epoch: 430\n",
      "Training loss: 653.1669465205148\n",
      "Training rmse: 54.26322\n",
      "Validation loss: 22539.828125\n",
      "Validation rmse: 19.23744089217893\n",
      "Validation mae: 14.196628\n",
      "Validation mape: 0.17445919\n",
      "Validation acc: 0.04555940628051758\n"
     ]
    },
    {
     "name": "stderr",
     "output_type": "stream",
     "text": [
      "<ipython-input-6-5c6a0450ba2d>:85: DeprecationWarning: np.asscalar(a) is deprecated since NumPy v1.16, use a.item() instead\n",
      "  validation_losses.append(np.asscalar(val_loss.detach().cpu().numpy()))\n"
     ]
    },
    {
     "name": "stdout",
     "output_type": "stream",
     "text": [
      "epoch: 431\n",
      "Training loss: 656.8694955149004\n",
      "Training rmse: 54.31273\n",
      "Validation loss: 23501.7109375\n",
      "Validation rmse: 19.643665548756584\n",
      "Validation mae: 14.597369\n",
      "Validation mape: 0.1775139\n",
      "Validation acc: 0.0049659013748168945\n"
     ]
    },
    {
     "name": "stderr",
     "output_type": "stream",
     "text": [
      "<ipython-input-6-5c6a0450ba2d>:85: DeprecationWarning: np.asscalar(a) is deprecated since NumPy v1.16, use a.item() instead\n",
      "  validation_losses.append(np.asscalar(val_loss.detach().cpu().numpy()))\n"
     ]
    },
    {
     "name": "stdout",
     "output_type": "stream",
     "text": [
      "epoch: 432\n",
      "Training loss: 656.1064305459299\n",
      "Training rmse: 54.30103\n",
      "Validation loss: 24026.103515625\n",
      "Validation rmse: 19.861630723583602\n",
      "Validation mae: 14.778313\n",
      "Validation mape: 0.18345863\n",
      "Validation acc: -0.013448715209960938\n"
     ]
    },
    {
     "name": "stderr",
     "output_type": "stream",
     "text": [
      "<ipython-input-6-5c6a0450ba2d>:85: DeprecationWarning: np.asscalar(a) is deprecated since NumPy v1.16, use a.item() instead\n",
      "  validation_losses.append(np.asscalar(val_loss.detach().cpu().numpy()))\n"
     ]
    },
    {
     "name": "stdout",
     "output_type": "stream",
     "text": [
      "epoch: 433\n",
      "Training loss: 653.036372523154\n",
      "Training rmse: 54.262\n",
      "Validation loss: 23331.3203125\n",
      "Validation rmse: 19.572320100369506\n",
      "Validation mae: 14.442356\n",
      "Validation mape: 0.17921127\n",
      "Validation acc: 0.01759946346282959\n"
     ]
    },
    {
     "name": "stderr",
     "output_type": "stream",
     "text": [
      "<ipython-input-6-5c6a0450ba2d>:85: DeprecationWarning: np.asscalar(a) is deprecated since NumPy v1.16, use a.item() instead\n",
      "  validation_losses.append(np.asscalar(val_loss.detach().cpu().numpy()))\n"
     ]
    },
    {
     "name": "stdout",
     "output_type": "stream",
     "text": [
      "epoch: 434\n",
      "Training loss: 652.0079721430296\n",
      "Training rmse: 54.25019\n",
      "Validation loss: 23274.220703125\n",
      "Validation rmse: 19.54835266821774\n",
      "Validation mae: 14.390536\n",
      "Validation mape: 0.17639005\n",
      "Validation acc: 0.013225853443145752\n"
     ]
    },
    {
     "name": "stderr",
     "output_type": "stream",
     "text": [
      "<ipython-input-6-5c6a0450ba2d>:85: DeprecationWarning: np.asscalar(a) is deprecated since NumPy v1.16, use a.item() instead\n",
      "  validation_losses.append(np.asscalar(val_loss.detach().cpu().numpy()))\n"
     ]
    },
    {
     "name": "stdout",
     "output_type": "stream",
     "text": [
      "epoch: 435\n",
      "Training loss: 654.9290540141444\n",
      "Training rmse: 54.284588\n",
      "Validation loss: 23106.236328125\n",
      "Validation rmse: 19.47767182460551\n",
      "Validation mae: 14.413743\n",
      "Validation mape: 0.1794245\n",
      "Validation acc: 0.035928428173065186\n"
     ]
    },
    {
     "name": "stderr",
     "output_type": "stream",
     "text": [
      "<ipython-input-6-5c6a0450ba2d>:85: DeprecationWarning: np.asscalar(a) is deprecated since NumPy v1.16, use a.item() instead\n",
      "  validation_losses.append(np.asscalar(val_loss.detach().cpu().numpy()))\n"
     ]
    },
    {
     "name": "stdout",
     "output_type": "stream",
     "text": [
      "epoch: 436\n",
      "Training loss: 652.4984767736073\n",
      "Training rmse: 54.247837\n",
      "Validation loss: 22805.2890625\n",
      "Validation rmse: 19.350398632743815\n",
      "Validation mae: 14.309303\n",
      "Validation mape: 0.17789356\n",
      "Validation acc: 0.04420214891433716\n"
     ]
    },
    {
     "name": "stderr",
     "output_type": "stream",
     "text": [
      "<ipython-input-6-5c6a0450ba2d>:85: DeprecationWarning: np.asscalar(a) is deprecated since NumPy v1.16, use a.item() instead\n",
      "  validation_losses.append(np.asscalar(val_loss.detach().cpu().numpy()))\n"
     ]
    },
    {
     "name": "stdout",
     "output_type": "stream",
     "text": [
      "epoch: 437\n",
      "Training loss: 651.4433046839998\n",
      "Training rmse: 54.236706\n",
      "Validation loss: 22817.556640625\n",
      "Validation rmse: 19.355603950713473\n",
      "Validation mae: 14.27717\n",
      "Validation mape: 0.17588295\n",
      "Validation acc: 0.0341302752494812\n"
     ]
    },
    {
     "name": "stderr",
     "output_type": "stream",
     "text": [
      "<ipython-input-6-5c6a0450ba2d>:85: DeprecationWarning: np.asscalar(a) is deprecated since NumPy v1.16, use a.item() instead\n",
      "  validation_losses.append(np.asscalar(val_loss.detach().cpu().numpy()))\n"
     ]
    },
    {
     "name": "stdout",
     "output_type": "stream",
     "text": [
      "epoch: 438\n",
      "Training loss: 650.7652076529773\n",
      "Training rmse: 54.22955\n",
      "Validation loss: 22630.39453125\n",
      "Validation rmse: 19.276049934419103\n",
      "Validation mae: 14.244848\n",
      "Validation mape: 0.17692688\n",
      "Validation acc: 0.050585031509399414\n"
     ]
    },
    {
     "name": "stderr",
     "output_type": "stream",
     "text": [
      "<ipython-input-6-5c6a0450ba2d>:85: DeprecationWarning: np.asscalar(a) is deprecated since NumPy v1.16, use a.item() instead\n",
      "  validation_losses.append(np.asscalar(val_loss.detach().cpu().numpy()))\n"
     ]
    },
    {
     "name": "stdout",
     "output_type": "stream",
     "text": [
      "epoch: 439\n",
      "Training loss: 653.3668463375406\n",
      "Training rmse: 54.262177\n",
      "Validation loss: 22224.26953125\n",
      "Validation rmse: 19.102283025776657\n",
      "Validation mae: 14.130498\n",
      "Validation mape: 0.17220347\n",
      "Validation acc: 0.05783456563949585\n"
     ]
    },
    {
     "name": "stderr",
     "output_type": "stream",
     "text": [
      "<ipython-input-6-5c6a0450ba2d>:85: DeprecationWarning: np.asscalar(a) is deprecated since NumPy v1.16, use a.item() instead\n",
      "  validation_losses.append(np.asscalar(val_loss.detach().cpu().numpy()))\n"
     ]
    },
    {
     "name": "stdout",
     "output_type": "stream",
     "text": [
      "epoch: 440\n",
      "Training loss: 652.8467088378031\n",
      "Training rmse: 54.25886\n",
      "Validation loss: 22431.3515625\n",
      "Validation rmse: 19.191083045441474\n",
      "Validation mae: 14.171661\n",
      "Validation mape: 0.17390399\n",
      "Validation acc: 0.05004173517227173\n"
     ]
    },
    {
     "name": "stderr",
     "output_type": "stream",
     "text": [
      "<ipython-input-6-5c6a0450ba2d>:85: DeprecationWarning: np.asscalar(a) is deprecated since NumPy v1.16, use a.item() instead\n",
      "  validation_losses.append(np.asscalar(val_loss.detach().cpu().numpy()))\n"
     ]
    },
    {
     "name": "stdout",
     "output_type": "stream",
     "text": [
      "epoch: 441\n",
      "Training loss: 650.976570922414\n",
      "Training rmse: 54.23064\n",
      "Validation loss: 23028.423828125\n",
      "Validation rmse: 19.4448401032414\n",
      "Validation mae: 14.321239\n",
      "Validation mape: 0.17821522\n",
      "Validation acc: 0.03684645891189575\n"
     ]
    },
    {
     "name": "stderr",
     "output_type": "stream",
     "text": [
      "<ipython-input-6-5c6a0450ba2d>:85: DeprecationWarning: np.asscalar(a) is deprecated since NumPy v1.16, use a.item() instead\n",
      "  validation_losses.append(np.asscalar(val_loss.detach().cpu().numpy()))\n"
     ]
    },
    {
     "name": "stdout",
     "output_type": "stream",
     "text": [
      "epoch: 442\n",
      "Training loss: 651.3415248966559\n",
      "Training rmse: 54.24226\n",
      "Validation loss: 22616.966796875\n",
      "Validation rmse: 19.27032586606607\n",
      "Validation mae: 14.212915\n",
      "Validation mape: 0.1746254\n",
      "Validation acc: 0.0420989990234375\n"
     ]
    },
    {
     "name": "stderr",
     "output_type": "stream",
     "text": [
      "<ipython-input-6-5c6a0450ba2d>:85: DeprecationWarning: np.asscalar(a) is deprecated since NumPy v1.16, use a.item() instead\n",
      "  validation_losses.append(np.asscalar(val_loss.detach().cpu().numpy()))\n"
     ]
    },
    {
     "name": "stdout",
     "output_type": "stream",
     "text": [
      "epoch: 443\n",
      "Training loss: 646.8953198395322\n",
      "Training rmse: 54.176674\n",
      "Validation loss: 22407.576171875\n",
      "Validation rmse: 19.180907070441737\n",
      "Validation mae: 14.200249\n",
      "Validation mape: 0.17613186\n",
      "Validation acc: 0.05956590175628662\n"
     ]
    },
    {
     "name": "stderr",
     "output_type": "stream",
     "text": [
      "<ipython-input-6-5c6a0450ba2d>:85: DeprecationWarning: np.asscalar(a) is deprecated since NumPy v1.16, use a.item() instead\n",
      "  validation_losses.append(np.asscalar(val_loss.detach().cpu().numpy()))\n"
     ]
    },
    {
     "name": "stdout",
     "output_type": "stream",
     "text": [
      "epoch: 444\n",
      "Training loss: 651.590093469107\n",
      "Training rmse: 54.243664\n",
      "Validation loss: 22696.2421875\n",
      "Validation rmse: 19.304071753889044\n",
      "Validation mae: 14.332534\n",
      "Validation mape: 0.17561945\n",
      "Validation acc: 0.03756910562515259\n"
     ]
    },
    {
     "name": "stderr",
     "output_type": "stream",
     "text": [
      "<ipython-input-6-5c6a0450ba2d>:85: DeprecationWarning: np.asscalar(a) is deprecated since NumPy v1.16, use a.item() instead\n",
      "  validation_losses.append(np.asscalar(val_loss.detach().cpu().numpy()))\n"
     ]
    },
    {
     "name": "stdout",
     "output_type": "stream",
     "text": [
      "epoch: 445\n",
      "Training loss: 649.429217157398\n",
      "Training rmse: 54.20873\n",
      "Validation loss: 23606.85546875\n",
      "Validation rmse: 19.68755580349234\n",
      "Validation mae: 14.618644\n",
      "Validation mape: 0.18171276\n",
      "Validation acc: 0.009251773357391357\n"
     ]
    },
    {
     "name": "stderr",
     "output_type": "stream",
     "text": [
      "<ipython-input-6-5c6a0450ba2d>:85: DeprecationWarning: np.asscalar(a) is deprecated since NumPy v1.16, use a.item() instead\n",
      "  validation_losses.append(np.asscalar(val_loss.detach().cpu().numpy()))\n"
     ]
    },
    {
     "name": "stdout",
     "output_type": "stream",
     "text": [
      "epoch: 446\n",
      "Training loss: 647.1372540655102\n",
      "Training rmse: 54.181404\n",
      "Validation loss: 23143.50390625\n",
      "Validation rmse: 19.49336795022781\n",
      "Validation mae: 14.415088\n",
      "Validation mape: 0.17956331\n",
      "Validation acc: 0.03125035762786865\n"
     ]
    },
    {
     "name": "stderr",
     "output_type": "stream",
     "text": [
      "<ipython-input-6-5c6a0450ba2d>:85: DeprecationWarning: np.asscalar(a) is deprecated since NumPy v1.16, use a.item() instead\n",
      "  validation_losses.append(np.asscalar(val_loss.detach().cpu().numpy()))\n"
     ]
    },
    {
     "name": "stdout",
     "output_type": "stream",
     "text": [
      "epoch: 447\n",
      "Training loss: 649.1645531876541\n",
      "Training rmse: 54.20982\n",
      "Validation loss: 23022.703125\n",
      "Validation rmse: 19.442420655547643\n",
      "Validation mae: 14.346693\n",
      "Validation mape: 0.17613351\n",
      "Validation acc: 0.024398326873779297\n"
     ]
    },
    {
     "name": "stderr",
     "output_type": "stream",
     "text": [
      "<ipython-input-6-5c6a0450ba2d>:85: DeprecationWarning: np.asscalar(a) is deprecated since NumPy v1.16, use a.item() instead\n",
      "  validation_losses.append(np.asscalar(val_loss.detach().cpu().numpy()))\n"
     ]
    },
    {
     "name": "stdout",
     "output_type": "stream",
     "text": [
      "epoch: 448\n",
      "Training loss: 648.6287048230462\n",
      "Training rmse: 54.198948\n",
      "Validation loss: 22960.001953125\n",
      "Validation rmse: 19.415924363688802\n",
      "Validation mae: 14.325103\n",
      "Validation mape: 0.17667976\n",
      "Validation acc: 0.02940225601196289\n"
     ]
    },
    {
     "name": "stderr",
     "output_type": "stream",
     "text": [
      "<ipython-input-6-5c6a0450ba2d>:85: DeprecationWarning: np.asscalar(a) is deprecated since NumPy v1.16, use a.item() instead\n",
      "  validation_losses.append(np.asscalar(val_loss.detach().cpu().numpy()))\n"
     ]
    },
    {
     "name": "stdout",
     "output_type": "stream",
     "text": [
      "epoch: 449\n",
      "Training loss: 647.285893922211\n",
      "Training rmse: 54.18538\n",
      "Validation loss: 22870.939453125\n",
      "Validation rmse: 19.378226325378133\n",
      "Validation mae: 14.277483\n",
      "Validation mape: 0.17501757\n",
      "Validation acc: 0.030634820461273193\n"
     ]
    },
    {
     "name": "stderr",
     "output_type": "stream",
     "text": [
      "<ipython-input-6-5c6a0450ba2d>:85: DeprecationWarning: np.asscalar(a) is deprecated since NumPy v1.16, use a.item() instead\n",
      "  validation_losses.append(np.asscalar(val_loss.detach().cpu().numpy()))\n"
     ]
    },
    {
     "name": "stdout",
     "output_type": "stream",
     "text": [
      "epoch: 450\n",
      "Training loss: 647.9311228653008\n",
      "Training rmse: 54.189583\n",
      "Validation loss: 22863.59765625\n",
      "Validation rmse: 19.3751157695634\n",
      "Validation mae: 14.272336\n",
      "Validation mape: 0.17637575\n",
      "Validation acc: 0.036833226680755615\n"
     ]
    },
    {
     "name": "stderr",
     "output_type": "stream",
     "text": [
      "<ipython-input-6-5c6a0450ba2d>:85: DeprecationWarning: np.asscalar(a) is deprecated since NumPy v1.16, use a.item() instead\n",
      "  validation_losses.append(np.asscalar(val_loss.detach().cpu().numpy()))\n"
     ]
    },
    {
     "name": "stdout",
     "output_type": "stream",
     "text": [
      "epoch: 451\n",
      "Training loss: 646.4959213639673\n",
      "Training rmse: 54.176224\n",
      "Validation loss: 22379.634765625\n",
      "Validation rmse: 19.16893872049055\n",
      "Validation mae: 14.157153\n",
      "Validation mape: 0.17535208\n",
      "Validation acc: 0.057694971561431885\n"
     ]
    },
    {
     "name": "stderr",
     "output_type": "stream",
     "text": [
      "<ipython-input-6-5c6a0450ba2d>:85: DeprecationWarning: np.asscalar(a) is deprecated since NumPy v1.16, use a.item() instead\n",
      "  validation_losses.append(np.asscalar(val_loss.detach().cpu().numpy()))\n"
     ]
    },
    {
     "name": "stdout",
     "output_type": "stream",
     "text": [
      "epoch: 452\n",
      "Training loss: 648.1754152578266\n",
      "Training rmse: 54.19424\n",
      "Validation loss: 23459.30078125\n",
      "Validation rmse: 19.625921337101047\n",
      "Validation mae: 14.501942\n",
      "Validation mape: 0.17901582\n",
      "Validation acc: 0.008846282958984375\n"
     ]
    },
    {
     "name": "stderr",
     "output_type": "stream",
     "text": [
      "<ipython-input-6-5c6a0450ba2d>:85: DeprecationWarning: np.asscalar(a) is deprecated since NumPy v1.16, use a.item() instead\n",
      "  validation_losses.append(np.asscalar(val_loss.detach().cpu().numpy()))\n"
     ]
    },
    {
     "name": "stdout",
     "output_type": "stream",
     "text": [
      "epoch: 453\n",
      "Training loss: 646.7501880276587\n",
      "Training rmse: 54.176956\n",
      "Validation loss: 22268.29296875\n",
      "Validation rmse: 19.121188313734503\n",
      "Validation mae: 14.1252365\n",
      "Validation mape: 0.17497997\n",
      "Validation acc: 0.06305825710296631\n"
     ]
    },
    {
     "name": "stderr",
     "output_type": "stream",
     "text": [
      "<ipython-input-6-5c6a0450ba2d>:85: DeprecationWarning: np.asscalar(a) is deprecated since NumPy v1.16, use a.item() instead\n",
      "  validation_losses.append(np.asscalar(val_loss.detach().cpu().numpy()))\n"
     ]
    },
    {
     "name": "stdout",
     "output_type": "stream",
     "text": [
      "epoch: 454\n",
      "Training loss: 645.5242479112413\n",
      "Training rmse: 54.158558\n",
      "Validation loss: 22774.009765625\n",
      "Validation rmse: 19.337113284958345\n",
      "Validation mae: 14.332673\n",
      "Validation mape: 0.17738229\n",
      "Validation acc: 0.0415036678314209\n"
     ]
    },
    {
     "name": "stderr",
     "output_type": "stream",
     "text": [
      "<ipython-input-6-5c6a0450ba2d>:85: DeprecationWarning: np.asscalar(a) is deprecated since NumPy v1.16, use a.item() instead\n",
      "  validation_losses.append(np.asscalar(val_loss.detach().cpu().numpy()))\n"
     ]
    },
    {
     "name": "stdout",
     "output_type": "stream",
     "text": [
      "epoch: 455\n",
      "Training loss: 644.8225473383421\n",
      "Training rmse: 54.15458\n",
      "Validation loss: 22921.083984375\n",
      "Validation rmse: 19.39945769191073\n",
      "Validation mae: 14.369738\n",
      "Validation mape: 0.17851223\n",
      "Validation acc: 0.037431418895721436\n"
     ]
    },
    {
     "name": "stderr",
     "output_type": "stream",
     "text": [
      "<ipython-input-6-5c6a0450ba2d>:85: DeprecationWarning: np.asscalar(a) is deprecated since NumPy v1.16, use a.item() instead\n",
      "  validation_losses.append(np.asscalar(val_loss.detach().cpu().numpy()))\n"
     ]
    },
    {
     "name": "stdout",
     "output_type": "stream",
     "text": [
      "epoch: 456\n",
      "Training loss: 646.7511079302825\n",
      "Training rmse: 54.17747\n",
      "Validation loss: 22637.537109375\n",
      "Validation rmse: 19.279081497790227\n",
      "Validation mae: 14.221345\n",
      "Validation mape: 0.1762965\n",
      "Validation acc: 0.048217177391052246\n"
     ]
    },
    {
     "name": "stderr",
     "output_type": "stream",
     "text": [
      "<ipython-input-6-5c6a0450ba2d>:85: DeprecationWarning: np.asscalar(a) is deprecated since NumPy v1.16, use a.item() instead\n",
      "  validation_losses.append(np.asscalar(val_loss.detach().cpu().numpy()))\n"
     ]
    },
    {
     "name": "stdout",
     "output_type": "stream",
     "text": [
      "epoch: 457\n",
      "Training loss: 648.3289426851444\n",
      "Training rmse: 54.19577\n",
      "Validation loss: 21982.58984375\n",
      "Validation rmse: 18.99811343815444\n",
      "Validation mae: 14.084838\n",
      "Validation mape: 0.17461926\n",
      "Validation acc: 0.0761227011680603\n"
     ]
    },
    {
     "name": "stderr",
     "output_type": "stream",
     "text": [
      "<ipython-input-6-5c6a0450ba2d>:85: DeprecationWarning: np.asscalar(a) is deprecated since NumPy v1.16, use a.item() instead\n",
      "  validation_losses.append(np.asscalar(val_loss.detach().cpu().numpy()))\n"
     ]
    },
    {
     "name": "stdout",
     "output_type": "stream",
     "text": [
      "epoch: 458\n",
      "Training loss: 648.9744822731154\n",
      "Training rmse: 54.20617\n",
      "Validation loss: 21601.955078125\n",
      "Validation rmse: 18.832901041026414\n",
      "Validation mae: 14.008618\n",
      "Validation mape: 0.17345735\n",
      "Validation acc: 0.09279060363769531\n"
     ]
    },
    {
     "name": "stderr",
     "output_type": "stream",
     "text": [
      "<ipython-input-6-5c6a0450ba2d>:85: DeprecationWarning: np.asscalar(a) is deprecated since NumPy v1.16, use a.item() instead\n",
      "  validation_losses.append(np.asscalar(val_loss.detach().cpu().numpy()))\n"
     ]
    },
    {
     "name": "stdout",
     "output_type": "stream",
     "text": [
      "epoch: 459\n",
      "Training loss: 643.5958531971046\n",
      "Training rmse: 54.13257\n",
      "Validation loss: 23090.26953125\n",
      "Validation rmse: 19.470927158061354\n",
      "Validation mae: 14.399392\n",
      "Validation mape: 0.17616181\n",
      "Validation acc: 0.020848214626312256\n"
     ]
    },
    {
     "name": "stderr",
     "output_type": "stream",
     "text": [
      "<ipython-input-6-5c6a0450ba2d>:85: DeprecationWarning: np.asscalar(a) is deprecated since NumPy v1.16, use a.item() instead\n",
      "  validation_losses.append(np.asscalar(val_loss.detach().cpu().numpy()))\n"
     ]
    },
    {
     "name": "stdout",
     "output_type": "stream",
     "text": [
      "epoch: 460\n",
      "Training loss: 647.0416930824198\n",
      "Training rmse: 54.18492\n",
      "Validation loss: 22154.28125\n",
      "Validation rmse: 19.072169518607062\n",
      "Validation mae: 14.077184\n",
      "Validation mape: 0.17266908\n",
      "Validation acc: 0.06172919273376465\n"
     ]
    },
    {
     "name": "stderr",
     "output_type": "stream",
     "text": [
      "<ipython-input-6-5c6a0450ba2d>:85: DeprecationWarning: np.asscalar(a) is deprecated since NumPy v1.16, use a.item() instead\n",
      "  validation_losses.append(np.asscalar(val_loss.detach().cpu().numpy()))\n"
     ]
    },
    {
     "name": "stdout",
     "output_type": "stream",
     "text": [
      "epoch: 461\n",
      "Training loss: 642.2703020649571\n",
      "Training rmse: 54.115047\n",
      "Validation loss: 22341.259765625\n",
      "Validation rmse: 19.152490741711066\n",
      "Validation mae: 14.139281\n",
      "Validation mape: 0.17372042\n",
      "Validation acc: 0.054128825664520264\n"
     ]
    },
    {
     "name": "stderr",
     "output_type": "stream",
     "text": [
      "<ipython-input-6-5c6a0450ba2d>:85: DeprecationWarning: np.asscalar(a) is deprecated since NumPy v1.16, use a.item() instead\n",
      "  validation_losses.append(np.asscalar(val_loss.detach().cpu().numpy()))\n"
     ]
    },
    {
     "name": "stdout",
     "output_type": "stream",
     "text": [
      "epoch: 462\n",
      "Training loss: 641.8849467615927\n",
      "Training rmse: 54.11182\n",
      "Validation loss: 22261.576171875\n",
      "Validation rmse: 19.118301714567085\n",
      "Validation mae: 14.138703\n",
      "Validation mape: 0.17400143\n",
      "Validation acc: 0.05935448408126831\n"
     ]
    },
    {
     "name": "stderr",
     "output_type": "stream",
     "text": [
      "<ipython-input-6-5c6a0450ba2d>:85: DeprecationWarning: np.asscalar(a) is deprecated since NumPy v1.16, use a.item() instead\n",
      "  validation_losses.append(np.asscalar(val_loss.detach().cpu().numpy()))\n"
     ]
    },
    {
     "name": "stdout",
     "output_type": "stream",
     "text": [
      "epoch: 463\n",
      "Training loss: 644.2742691313495\n",
      "Training rmse: 54.14008\n",
      "Validation loss: 22754.435546875\n",
      "Validation rmse: 19.3287960296815\n",
      "Validation mae: 14.253449\n",
      "Validation mape: 0.17727518\n",
      "Validation acc: 0.04890066385269165\n"
     ]
    },
    {
     "name": "stderr",
     "output_type": "stream",
     "text": [
      "<ipython-input-6-5c6a0450ba2d>:85: DeprecationWarning: np.asscalar(a) is deprecated since NumPy v1.16, use a.item() instead\n",
      "  validation_losses.append(np.asscalar(val_loss.detach().cpu().numpy()))\n"
     ]
    },
    {
     "name": "stdout",
     "output_type": "stream",
     "text": [
      "epoch: 464\n",
      "Training loss: 640.0086611949415\n",
      "Training rmse: 54.091694\n",
      "Validation loss: 22701.451171875\n",
      "Validation rmse: 19.30627538618232\n",
      "Validation mae: 14.24588\n",
      "Validation mape: 0.1751562\n",
      "Validation acc: 0.038335978984832764\n"
     ]
    },
    {
     "name": "stderr",
     "output_type": "stream",
     "text": [
      "<ipython-input-6-5c6a0450ba2d>:85: DeprecationWarning: np.asscalar(a) is deprecated since NumPy v1.16, use a.item() instead\n",
      "  validation_losses.append(np.asscalar(val_loss.detach().cpu().numpy()))\n"
     ]
    },
    {
     "name": "stdout",
     "output_type": "stream",
     "text": [
      "epoch: 465\n",
      "Training loss: 644.3674848549682\n",
      "Training rmse: 54.14338\n",
      "Validation loss: 22316.880859375\n",
      "Validation rmse: 19.14203518402179\n",
      "Validation mae: 14.15379\n",
      "Validation mape: 0.17572552\n",
      "Validation acc: 0.06376826763153076\n"
     ]
    },
    {
     "name": "stderr",
     "output_type": "stream",
     "text": [
      "<ipython-input-6-5c6a0450ba2d>:85: DeprecationWarning: np.asscalar(a) is deprecated since NumPy v1.16, use a.item() instead\n",
      "  validation_losses.append(np.asscalar(val_loss.detach().cpu().numpy()))\n"
     ]
    },
    {
     "name": "stdout",
     "output_type": "stream",
     "text": [
      "epoch: 466\n",
      "Training loss: 640.4658822774032\n",
      "Training rmse: 54.09287\n",
      "Validation loss: 22283.65625\n",
      "Validation rmse: 19.12777949063057\n",
      "Validation mae: 14.144749\n",
      "Validation mape: 0.1737378\n",
      "Validation acc: 0.05684363842010498\n"
     ]
    },
    {
     "name": "stderr",
     "output_type": "stream",
     "text": [
      "<ipython-input-6-5c6a0450ba2d>:85: DeprecationWarning: np.asscalar(a) is deprecated since NumPy v1.16, use a.item() instead\n",
      "  validation_losses.append(np.asscalar(val_loss.detach().cpu().numpy()))\n"
     ]
    },
    {
     "name": "stdout",
     "output_type": "stream",
     "text": [
      "epoch: 467\n",
      "Training loss: 644.7030741920607\n",
      "Training rmse: 54.1462\n",
      "Validation loss: 22599.375\n",
      "Validation rmse: 19.262817079185794\n",
      "Validation mae: 14.291389\n",
      "Validation mape: 0.17886089\n",
      "Validation acc: 0.06604325771331787\n"
     ]
    },
    {
     "name": "stderr",
     "output_type": "stream",
     "text": [
      "<ipython-input-6-5c6a0450ba2d>:85: DeprecationWarning: np.asscalar(a) is deprecated since NumPy v1.16, use a.item() instead\n",
      "  validation_losses.append(np.asscalar(val_loss.detach().cpu().numpy()))\n"
     ]
    },
    {
     "name": "stdout",
     "output_type": "stream",
     "text": [
      "epoch: 468\n",
      "Training loss: 644.5937370382329\n",
      "Training rmse: 54.145912\n",
      "Validation loss: 23909.376953125\n",
      "Validation rmse: 19.813302490155603\n",
      "Validation mae: 14.663486\n",
      "Validation mape: 0.17860207\n",
      "Validation acc: -0.012717247009277344\n"
     ]
    },
    {
     "name": "stderr",
     "output_type": "stream",
     "text": [
      "<ipython-input-6-5c6a0450ba2d>:85: DeprecationWarning: np.asscalar(a) is deprecated since NumPy v1.16, use a.item() instead\n",
      "  validation_losses.append(np.asscalar(val_loss.detach().cpu().numpy()))\n"
     ]
    },
    {
     "name": "stdout",
     "output_type": "stream",
     "text": [
      "epoch: 469\n",
      "Training loss: 643.2677844194528\n",
      "Training rmse: 54.128246\n",
      "Validation loss: 22071.421875\n",
      "Validation rmse: 19.03646002550722\n",
      "Validation mae: 14.06212\n",
      "Validation mape: 0.17275627\n",
      "Validation acc: 0.06519776582717896\n"
     ]
    },
    {
     "name": "stderr",
     "output_type": "stream",
     "text": [
      "<ipython-input-6-5c6a0450ba2d>:85: DeprecationWarning: np.asscalar(a) is deprecated since NumPy v1.16, use a.item() instead\n",
      "  validation_losses.append(np.asscalar(val_loss.detach().cpu().numpy()))\n"
     ]
    },
    {
     "name": "stdout",
     "output_type": "stream",
     "text": [
      "epoch: 470\n",
      "Training loss: 643.0091134895133\n",
      "Training rmse: 54.12336\n",
      "Validation loss: 22232.1484375\n",
      "Validation rmse: 19.105653639081876\n",
      "Validation mae: 14.143379\n",
      "Validation mape: 0.1748262\n",
      "Validation acc: 0.06513172388076782\n"
     ]
    },
    {
     "name": "stderr",
     "output_type": "stream",
     "text": [
      "<ipython-input-6-5c6a0450ba2d>:85: DeprecationWarning: np.asscalar(a) is deprecated since NumPy v1.16, use a.item() instead\n",
      "  validation_losses.append(np.asscalar(val_loss.detach().cpu().numpy()))\n"
     ]
    },
    {
     "name": "stdout",
     "output_type": "stream",
     "text": [
      "epoch: 471\n",
      "Training loss: 639.0840352376302\n",
      "Training rmse: 54.07453\n",
      "Validation loss: 22412.884765625\n",
      "Validation rmse: 19.183165417866228\n",
      "Validation mae: 14.1554785\n",
      "Validation mape: 0.17347828\n",
      "Validation acc: 0.049880385398864746\n"
     ]
    },
    {
     "name": "stderr",
     "output_type": "stream",
     "text": [
      "<ipython-input-6-5c6a0450ba2d>:85: DeprecationWarning: np.asscalar(a) is deprecated since NumPy v1.16, use a.item() instead\n",
      "  validation_losses.append(np.asscalar(val_loss.detach().cpu().numpy()))\n"
     ]
    },
    {
     "name": "stdout",
     "output_type": "stream",
     "text": [
      "epoch: 472\n",
      "Training loss: 642.6620387689187\n",
      "Training rmse: 54.11938\n",
      "Validation loss: 23052.458984375\n",
      "Validation rmse: 19.454972144984154\n",
      "Validation mae: 14.427412\n",
      "Validation mape: 0.18001847\n",
      "Validation acc: 0.038419127464294434\n"
     ]
    },
    {
     "name": "stderr",
     "output_type": "stream",
     "text": [
      "<ipython-input-6-5c6a0450ba2d>:85: DeprecationWarning: np.asscalar(a) is deprecated since NumPy v1.16, use a.item() instead\n",
      "  validation_losses.append(np.asscalar(val_loss.detach().cpu().numpy()))\n"
     ]
    },
    {
     "name": "stdout",
     "output_type": "stream",
     "text": [
      "epoch: 473\n",
      "Training loss: 641.383789664101\n",
      "Training rmse: 54.11437\n",
      "Validation loss: 22600.21484375\n",
      "Validation rmse: 19.263173537512664\n",
      "Validation mae: 14.200658\n",
      "Validation mape: 0.17610069\n",
      "Validation acc: 0.05014395713806152\n"
     ]
    },
    {
     "name": "stderr",
     "output_type": "stream",
     "text": [
      "<ipython-input-6-5c6a0450ba2d>:85: DeprecationWarning: np.asscalar(a) is deprecated since NumPy v1.16, use a.item() instead\n",
      "  validation_losses.append(np.asscalar(val_loss.detach().cpu().numpy()))\n"
     ]
    },
    {
     "name": "stdout",
     "output_type": "stream",
     "text": [
      "epoch: 474\n",
      "Training loss: 642.4076813181669\n",
      "Training rmse: 54.12276\n",
      "Validation loss: 23085.287109375\n",
      "Validation rmse: 19.468818970584092\n",
      "Validation mae: 14.317996\n",
      "Validation mape: 0.17791535\n",
      "Validation acc: 0.032256126403808594\n"
     ]
    },
    {
     "name": "stderr",
     "output_type": "stream",
     "text": [
      "<ipython-input-6-5c6a0450ba2d>:85: DeprecationWarning: np.asscalar(a) is deprecated since NumPy v1.16, use a.item() instead\n",
      "  validation_losses.append(np.asscalar(val_loss.detach().cpu().numpy()))\n"
     ]
    },
    {
     "name": "stdout",
     "output_type": "stream",
     "text": [
      "epoch: 475\n",
      "Training loss: 641.3196605285864\n",
      "Training rmse: 54.10878\n",
      "Validation loss: 22683.005859375\n",
      "Validation rmse: 19.298425576619668\n",
      "Validation mae: 14.40365\n",
      "Validation mape: 0.17941101\n",
      "Validation acc: 0.04781681299209595\n"
     ]
    },
    {
     "name": "stderr",
     "output_type": "stream",
     "text": [
      "<ipython-input-6-5c6a0450ba2d>:85: DeprecationWarning: np.asscalar(a) is deprecated since NumPy v1.16, use a.item() instead\n",
      "  validation_losses.append(np.asscalar(val_loss.detach().cpu().numpy()))\n"
     ]
    },
    {
     "name": "stdout",
     "output_type": "stream",
     "text": [
      "epoch: 476\n",
      "Training loss: 644.8759261373978\n",
      "Training rmse: 54.152874\n",
      "Validation loss: 24090.431640625\n",
      "Validation rmse: 19.88818152582827\n",
      "Validation mae: 14.868042\n",
      "Validation mape: 0.1854142\n",
      "Validation acc: -0.01346898078918457\n"
     ]
    },
    {
     "name": "stderr",
     "output_type": "stream",
     "text": [
      "<ipython-input-6-5c6a0450ba2d>:85: DeprecationWarning: np.asscalar(a) is deprecated since NumPy v1.16, use a.item() instead\n",
      "  validation_losses.append(np.asscalar(val_loss.detach().cpu().numpy()))\n"
     ]
    },
    {
     "name": "stdout",
     "output_type": "stream",
     "text": [
      "epoch: 477\n",
      "Training loss: 642.1201720425732\n",
      "Training rmse: 54.11351\n",
      "Validation loss: 22570.33203125\n",
      "Validation rmse: 19.25042882664606\n",
      "Validation mae: 14.175881\n",
      "Validation mape: 0.17414938\n",
      "Validation acc: 0.04447650909423828\n"
     ]
    },
    {
     "name": "stderr",
     "output_type": "stream",
     "text": [
      "<ipython-input-6-5c6a0450ba2d>:85: DeprecationWarning: np.asscalar(a) is deprecated since NumPy v1.16, use a.item() instead\n",
      "  validation_losses.append(np.asscalar(val_loss.detach().cpu().numpy()))\n"
     ]
    },
    {
     "name": "stdout",
     "output_type": "stream",
     "text": [
      "epoch: 478\n",
      "Training loss: 637.7701979879837\n",
      "Training rmse: 54.056812\n",
      "Validation loss: 22884.701171875\n",
      "Validation rmse: 19.384042118897376\n",
      "Validation mae: 14.279083\n",
      "Validation mape: 0.17808028\n",
      "Validation acc: 0.046347975730895996\n"
     ]
    },
    {
     "name": "stderr",
     "output_type": "stream",
     "text": [
      "<ipython-input-6-5c6a0450ba2d>:85: DeprecationWarning: np.asscalar(a) is deprecated since NumPy v1.16, use a.item() instead\n",
      "  validation_losses.append(np.asscalar(val_loss.detach().cpu().numpy()))\n"
     ]
    },
    {
     "name": "stdout",
     "output_type": "stream",
     "text": [
      "epoch: 479\n",
      "Training loss: 637.1257575797351\n",
      "Training rmse: 54.04332\n",
      "Validation loss: 22669.779296875\n",
      "Validation rmse: 19.292796728707696\n",
      "Validation mae: 14.2127075\n",
      "Validation mape: 0.1751005\n",
      "Validation acc: 0.04246258735656738\n"
     ]
    },
    {
     "name": "stderr",
     "output_type": "stream",
     "text": [
      "<ipython-input-6-5c6a0450ba2d>:85: DeprecationWarning: np.asscalar(a) is deprecated since NumPy v1.16, use a.item() instead\n",
      "  validation_losses.append(np.asscalar(val_loss.detach().cpu().numpy()))\n"
     ]
    },
    {
     "name": "stdout",
     "output_type": "stream",
     "text": [
      "epoch: 480\n",
      "Training loss: 641.7101422928567\n",
      "Training rmse: 54.107517\n",
      "Validation loss: 22583.16015625\n",
      "Validation rmse: 19.25589810464332\n",
      "Validation mae: 14.194873\n",
      "Validation mape: 0.17317636\n",
      "Validation acc: 0.042437851428985596\n"
     ]
    },
    {
     "name": "stderr",
     "output_type": "stream",
     "text": [
      "<ipython-input-6-5c6a0450ba2d>:85: DeprecationWarning: np.asscalar(a) is deprecated since NumPy v1.16, use a.item() instead\n",
      "  validation_losses.append(np.asscalar(val_loss.detach().cpu().numpy()))\n"
     ]
    },
    {
     "name": "stdout",
     "output_type": "stream",
     "text": [
      "epoch: 481\n",
      "Training loss: 638.8647813147542\n",
      "Training rmse: 54.06834\n",
      "Validation loss: 22337.77734375\n",
      "Validation rmse: 19.150987309833564\n",
      "Validation mae: 14.149157\n",
      "Validation mape: 0.17550872\n",
      "Validation acc: 0.06361716985702515\n"
     ]
    },
    {
     "name": "stderr",
     "output_type": "stream",
     "text": [
      "<ipython-input-6-5c6a0450ba2d>:85: DeprecationWarning: np.asscalar(a) is deprecated since NumPy v1.16, use a.item() instead\n",
      "  validation_losses.append(np.asscalar(val_loss.detach().cpu().numpy()))\n"
     ]
    },
    {
     "name": "stdout",
     "output_type": "stream",
     "text": [
      "epoch: 482\n",
      "Training loss: 638.4704365063739\n",
      "Training rmse: 54.063896\n",
      "Validation loss: 22165.126953125\n",
      "Validation rmse: 19.076825271810083\n",
      "Validation mae: 14.075593\n",
      "Validation mape: 0.17364167\n",
      "Validation acc: 0.0634545087814331\n"
     ]
    },
    {
     "name": "stderr",
     "output_type": "stream",
     "text": [
      "<ipython-input-6-5c6a0450ba2d>:85: DeprecationWarning: np.asscalar(a) is deprecated since NumPy v1.16, use a.item() instead\n",
      "  validation_losses.append(np.asscalar(val_loss.detach().cpu().numpy()))\n"
     ]
    },
    {
     "name": "stdout",
     "output_type": "stream",
     "text": [
      "epoch: 483\n",
      "Training loss: 636.1187236061232\n",
      "Training rmse: 54.03306\n",
      "Validation loss: 22429.525390625\n",
      "Validation rmse: 19.19027838953799\n",
      "Validation mae: 14.152319\n",
      "Validation mape: 0.1736598\n",
      "Validation acc: 0.05002814531326294\n"
     ]
    },
    {
     "name": "stderr",
     "output_type": "stream",
     "text": [
      "<ipython-input-6-5c6a0450ba2d>:85: DeprecationWarning: np.asscalar(a) is deprecated since NumPy v1.16, use a.item() instead\n",
      "  validation_losses.append(np.asscalar(val_loss.detach().cpu().numpy()))\n"
     ]
    },
    {
     "name": "stdout",
     "output_type": "stream",
     "text": [
      "epoch: 484\n",
      "Training loss: 642.9716980636761\n",
      "Training rmse: 54.125595\n",
      "Validation loss: 22150.95703125\n",
      "Validation rmse: 19.070728564695195\n",
      "Validation mae: 14.065962\n",
      "Validation mape: 0.17482725\n",
      "Validation acc: 0.07088899612426758\n"
     ]
    },
    {
     "name": "stderr",
     "output_type": "stream",
     "text": [
      "<ipython-input-6-5c6a0450ba2d>:85: DeprecationWarning: np.asscalar(a) is deprecated since NumPy v1.16, use a.item() instead\n",
      "  validation_losses.append(np.asscalar(val_loss.detach().cpu().numpy()))\n"
     ]
    },
    {
     "name": "stdout",
     "output_type": "stream",
     "text": [
      "epoch: 485\n",
      "Training loss: 636.3248836284897\n",
      "Training rmse: 54.03672\n",
      "Validation loss: 22304.0546875\n",
      "Validation rmse: 19.136524592682136\n",
      "Validation mae: 14.132244\n",
      "Validation mape: 0.17558868\n",
      "Validation acc: 0.06608182191848755\n"
     ]
    },
    {
     "name": "stderr",
     "output_type": "stream",
     "text": [
      "<ipython-input-6-5c6a0450ba2d>:85: DeprecationWarning: np.asscalar(a) is deprecated since NumPy v1.16, use a.item() instead\n",
      "  validation_losses.append(np.asscalar(val_loss.detach().cpu().numpy()))\n"
     ]
    },
    {
     "name": "stdout",
     "output_type": "stream",
     "text": [
      "epoch: 486\n",
      "Training loss: 638.5125011047583\n",
      "Training rmse: 54.06476\n",
      "Validation loss: 22337.896484375\n",
      "Validation rmse: 19.151037505807047\n",
      "Validation mae: 14.165291\n",
      "Validation mape: 0.1740147\n",
      "Validation acc: 0.05482280254364014\n"
     ]
    },
    {
     "name": "stderr",
     "output_type": "stream",
     "text": [
      "<ipython-input-6-5c6a0450ba2d>:85: DeprecationWarning: np.asscalar(a) is deprecated since NumPy v1.16, use a.item() instead\n",
      "  validation_losses.append(np.asscalar(val_loss.detach().cpu().numpy()))\n"
     ]
    },
    {
     "name": "stdout",
     "output_type": "stream",
     "text": [
      "epoch: 487\n",
      "Training loss: 639.907487329189\n",
      "Training rmse: 54.083054\n",
      "Validation loss: 22682.060546875\n",
      "Validation rmse: 19.298018374527313\n",
      "Validation mae: 14.231453\n",
      "Validation mape: 0.17545421\n",
      "Validation acc: 0.04144740104675293\n"
     ]
    },
    {
     "name": "stderr",
     "output_type": "stream",
     "text": [
      "<ipython-input-6-5c6a0450ba2d>:85: DeprecationWarning: np.asscalar(a) is deprecated since NumPy v1.16, use a.item() instead\n",
      "  validation_losses.append(np.asscalar(val_loss.detach().cpu().numpy()))\n"
     ]
    },
    {
     "name": "stdout",
     "output_type": "stream",
     "text": [
      "epoch: 488\n",
      "Training loss: 637.3541805581807\n",
      "Training rmse: 54.05403\n",
      "Validation loss: 22785.521484375\n",
      "Validation rmse: 19.3419837453421\n",
      "Validation mae: 14.221892\n",
      "Validation mape: 0.17306323\n",
      "Validation acc: 0.034117043018341064\n"
     ]
    },
    {
     "name": "stderr",
     "output_type": "stream",
     "text": [
      "<ipython-input-6-5c6a0450ba2d>:85: DeprecationWarning: np.asscalar(a) is deprecated since NumPy v1.16, use a.item() instead\n",
      "  validation_losses.append(np.asscalar(val_loss.detach().cpu().numpy()))\n"
     ]
    },
    {
     "name": "stdout",
     "output_type": "stream",
     "text": [
      "epoch: 489\n",
      "Training loss: 636.8074802959264\n",
      "Training rmse: 54.04256\n",
      "Validation loss: 22200.654296875\n",
      "Validation rmse: 19.092108473320366\n",
      "Validation mae: 14.082807\n",
      "Validation mape: 0.17358235\n",
      "Validation acc: 0.0622825026512146\n"
     ]
    },
    {
     "name": "stderr",
     "output_type": "stream",
     "text": [
      "<ipython-input-6-5c6a0450ba2d>:85: DeprecationWarning: np.asscalar(a) is deprecated since NumPy v1.16, use a.item() instead\n",
      "  validation_losses.append(np.asscalar(val_loss.detach().cpu().numpy()))\n"
     ]
    },
    {
     "name": "stdout",
     "output_type": "stream",
     "text": [
      "epoch: 490\n",
      "Training loss: 635.1772790177322\n",
      "Training rmse: 54.0243\n",
      "Validation loss: 22146.36328125\n",
      "Validation rmse: 19.068746575149234\n",
      "Validation mae: 14.141792\n",
      "Validation mape: 0.17589973\n",
      "Validation acc: 0.0753822922706604\n"
     ]
    },
    {
     "name": "stderr",
     "output_type": "stream",
     "text": [
      "<ipython-input-6-5c6a0450ba2d>:85: DeprecationWarning: np.asscalar(a) is deprecated since NumPy v1.16, use a.item() instead\n",
      "  validation_losses.append(np.asscalar(val_loss.detach().cpu().numpy()))\n"
     ]
    },
    {
     "name": "stdout",
     "output_type": "stream",
     "text": [
      "epoch: 491\n",
      "Training loss: 636.1859948489829\n",
      "Training rmse: 54.035583\n",
      "Validation loss: 23186.443359375\n",
      "Validation rmse: 19.51142509476219\n",
      "Validation mae: 14.415383\n",
      "Validation mape: 0.1784437\n",
      "Validation acc: 0.021307706832885742\n"
     ]
    },
    {
     "name": "stderr",
     "output_type": "stream",
     "text": [
      "<ipython-input-6-5c6a0450ba2d>:85: DeprecationWarning: np.asscalar(a) is deprecated since NumPy v1.16, use a.item() instead\n",
      "  validation_losses.append(np.asscalar(val_loss.detach().cpu().numpy()))\n"
     ]
    },
    {
     "name": "stdout",
     "output_type": "stream",
     "text": [
      "epoch: 492\n",
      "Training loss: 636.0188455889302\n",
      "Training rmse: 54.03188\n",
      "Validation loss: 23138.5\n",
      "Validation rmse: 19.491236355801917\n",
      "Validation mae: 14.387742\n",
      "Validation mape: 0.17688936\n",
      "Validation acc: 0.019693195819854736\n"
     ]
    },
    {
     "name": "stderr",
     "output_type": "stream",
     "text": [
      "<ipython-input-6-5c6a0450ba2d>:85: DeprecationWarning: np.asscalar(a) is deprecated since NumPy v1.16, use a.item() instead\n",
      "  validation_losses.append(np.asscalar(val_loss.detach().cpu().numpy()))\n"
     ]
    },
    {
     "name": "stdout",
     "output_type": "stream",
     "text": [
      "epoch: 493\n",
      "Training loss: 634.7183184333172\n",
      "Training rmse: 54.01419\n",
      "Validation loss: 23285.919921875\n",
      "Validation rmse: 19.553234502050742\n",
      "Validation mae: 14.443025\n",
      "Validation mape: 0.18005978\n",
      "Validation acc: 0.026812732219696045\n"
     ]
    },
    {
     "name": "stderr",
     "output_type": "stream",
     "text": [
      "<ipython-input-6-5c6a0450ba2d>:85: DeprecationWarning: np.asscalar(a) is deprecated since NumPy v1.16, use a.item() instead\n",
      "  validation_losses.append(np.asscalar(val_loss.detach().cpu().numpy()))\n"
     ]
    },
    {
     "name": "stdout",
     "output_type": "stream",
     "text": [
      "epoch: 494\n",
      "Training loss: 637.380861179803\n",
      "Training rmse: 54.047688\n",
      "Validation loss: 22305.955078125\n",
      "Validation rmse: 19.13733390073249\n",
      "Validation mae: 14.097256\n",
      "Validation mape: 0.17373815\n",
      "Validation acc: 0.058124542236328125\n"
     ]
    },
    {
     "name": "stderr",
     "output_type": "stream",
     "text": [
      "<ipython-input-6-5c6a0450ba2d>:85: DeprecationWarning: np.asscalar(a) is deprecated since NumPy v1.16, use a.item() instead\n",
      "  validation_losses.append(np.asscalar(val_loss.detach().cpu().numpy()))\n"
     ]
    },
    {
     "name": "stdout",
     "output_type": "stream",
     "text": [
      "epoch: 495\n",
      "Training loss: 636.9767866784099\n",
      "Training rmse: 54.044044\n",
      "Validation loss: 22521.1796875\n",
      "Validation rmse: 19.229447924484695\n",
      "Validation mae: 14.213192\n",
      "Validation mape: 0.17622647\n",
      "Validation acc: 0.05188184976577759\n"
     ]
    },
    {
     "name": "stderr",
     "output_type": "stream",
     "text": [
      "<ipython-input-6-5c6a0450ba2d>:85: DeprecationWarning: np.asscalar(a) is deprecated since NumPy v1.16, use a.item() instead\n",
      "  validation_losses.append(np.asscalar(val_loss.detach().cpu().numpy()))\n"
     ]
    },
    {
     "name": "stdout",
     "output_type": "stream",
     "text": [
      "epoch: 496\n",
      "Training loss: 636.0203412237133\n",
      "Training rmse: 54.033474\n",
      "Validation loss: 22389.666015625\n",
      "Validation rmse: 19.17321523942157\n",
      "Validation mae: 14.171185\n",
      "Validation mape: 0.17570482\n",
      "Validation acc: 0.058918774127960205\n"
     ]
    },
    {
     "name": "stderr",
     "output_type": "stream",
     "text": [
      "<ipython-input-6-5c6a0450ba2d>:85: DeprecationWarning: np.asscalar(a) is deprecated since NumPy v1.16, use a.item() instead\n",
      "  validation_losses.append(np.asscalar(val_loss.detach().cpu().numpy()))\n"
     ]
    },
    {
     "name": "stdout",
     "output_type": "stream",
     "text": [
      "epoch: 497\n",
      "Training loss: 634.2215343188215\n",
      "Training rmse: 54.00413\n",
      "Validation loss: 22727.11328125\n",
      "Validation rmse: 19.31717445072559\n",
      "Validation mae: 14.240076\n",
      "Validation mape: 0.17517826\n",
      "Validation acc: 0.037377893924713135\n"
     ]
    },
    {
     "name": "stderr",
     "output_type": "stream",
     "text": [
      "<ipython-input-6-5c6a0450ba2d>:85: DeprecationWarning: np.asscalar(a) is deprecated since NumPy v1.16, use a.item() instead\n",
      "  validation_losses.append(np.asscalar(val_loss.detach().cpu().numpy()))\n"
     ]
    },
    {
     "name": "stdout",
     "output_type": "stream",
     "text": [
      "epoch: 498\n",
      "Training loss: 636.1290478449996\n",
      "Training rmse: 54.028397\n",
      "Validation loss: 22514.853515625\n",
      "Validation rmse: 19.22674503418025\n",
      "Validation mae: 14.168341\n",
      "Validation mape: 0.17557374\n",
      "Validation acc: 0.051836371421813965\n"
     ]
    },
    {
     "name": "stderr",
     "output_type": "stream",
     "text": [
      "<ipython-input-6-5c6a0450ba2d>:85: DeprecationWarning: np.asscalar(a) is deprecated since NumPy v1.16, use a.item() instead\n",
      "  validation_losses.append(np.asscalar(val_loss.detach().cpu().numpy()))\n"
     ]
    },
    {
     "name": "stdout",
     "output_type": "stream",
     "text": [
      "epoch: 499\n",
      "Training loss: 632.3801442354811\n",
      "Training rmse: 53.983013\n",
      "Validation loss: 22183.966796875\n",
      "Validation rmse: 19.084925333885906\n",
      "Validation mae: 14.087955\n",
      "Validation mape: 0.17399712\n",
      "Validation acc: 0.06613653898239136\n",
      "(3168, 400)\n",
      "(3168, 400)\n"
     ]
    },
    {
     "data": {
      "image/png": "[encoded data removed]",
      "text/plain": [
       "<Figure size 432x288 with 1 Axes>"
      ]
     },
     "metadata": {
      "needs_background": "light"
     },
     "output_type": "display_data"
    }
   ],
   "source": [
    "if __name__ == '__main__':\n",
    "    torch.manual_seed(3)\n",
    "    src_adj = pd.read_csv('./src_data/'+src_city+'_adj.csv').values\n",
    "    src_adj = src_adj[:400, :400]\n",
    "    src_adj = normalized_adj(src_adj)\n",
    "    src_adj = src_adj.to(device)\n",
    "    \n",
    "    net = TGCN(src_adj.shape[0], 1, gru_units, seq_len, pre_len).to(device=device)\n",
    "#     net = net.double()\n",
    "    net.train()\n",
    "    optimizer = torch.optim.Adam(net.parameters(),lr=lr)\n",
    "    loss_criterion = nn.MSELoss()\n",
    "    \n",
    "    training_losses = []\n",
    "    training_rmses = []\n",
    "    validation_losses = []\n",
    "    validation_maes = []\n",
    "    validation_mapes = []\n",
    "    validation_pred = []\n",
    "    validation_acc = []\n",
    "    validation_r2 = []\n",
    "    validation_var = []\n",
    "    validation_rmses = []\n",
    "    viz.line([0.],[0.],env=environ,win='train_loss',opts=dict(title='train loss'))\n",
    "    viz.line([0.],[0.],env=environ,win='val_loss',opts=dict(title='val loss'))\n",
    "    viz.line([0.],[0.],env=environ,win='rmses',opts=dict(title='rmses'))\n",
    "    viz.line([0.],[0.],env=environ,win='maes',opts=dict(title='maes'))\n",
    "    viz.line([0.],[0.],env=environ,win='mapes',opts=dict(title='mapes'))\n",
    "    \n",
    "    \n",
    "    for epoch in range(epochs):\n",
    "        epoch_training_loss = []\n",
    "        epoch_training_rmses = []\n",
    "        \n",
    "        \n",
    "        for i, (seq_speed, pre_speed) in enumerate(train_loader):\n",
    "            \n",
    "            # [32,12,400], [32,3,400]\n",
    "            optimizer.zero_grad()\n",
    "            X_batch = seq_speed\n",
    "            y_batch = pre_speed\n",
    "            \n",
    "            X_batch = X_batch.to(device)\n",
    "            y_batch = y_batch.to(device)\n",
    "            \n",
    "            X_batch = X_batch.permute(1,0,2)\n",
    "            h0 = torch.zeros(X_batch.size(1),num_nodes,gru_units).to(device=device)\n",
    "            \n",
    "            out = net(src_adj, X_batch, h0)\n",
    "            loss = tgcn_loss(out, y_batch)\n",
    "            \n",
    "            loss.backward()\n",
    "            optimizer.step()\n",
    "            \n",
    "            batch_rmse = mean_squared_error(out.detach().cpu().numpy().reshape(-1, num_nodes),\n",
    "                                            y_batch.detach().cpu().numpy().reshape(-1, num_nodes))\n",
    "            batch_rmse = math.sqrt(batch_rmse)\n",
    "            epoch_training_rmses.append(batch_rmse)\n",
    "            epoch_training_loss.append(loss.detach().cpu().numpy())\n",
    "            \n",
    "        loss = sum(epoch_training_loss) / len(epoch_training_loss)\n",
    "        rmse = sum(epoch_training_rmses) / len(epoch_training_rmses)\n",
    "        \n",
    "        training_losses.append(loss)\n",
    "        rmse = Normalize(rmse, train_mean, train_std, train_max, train_min, inv_if_norm)\n",
    "        training_rmses.append(rmse)\n",
    "        viz.line([training_losses[-1]],[epoch],env=environ,win='train_loss', update='append')\n",
    "        \n",
    "        with torch.no_grad():\n",
    "            net.eval().to(device)\n",
    "            tgt_adj = pd.read_csv('./src_data/'+tgt_city+'_adj.csv').values\n",
    "            tgt_adj = tgt_adj[:400, :400]\n",
    "            tgt_adj = normalized_adj(tgt_adj)\n",
    "            tgt_adj = tgt_adj.to(device)\n",
    "            for i, (val_seq, val_pre) in enumerate(val_loader):\n",
    "                val_input = val_seq.to(device=device)\n",
    "                val_target = val_pre.to(device=device)\n",
    "                \n",
    "                val_input = val_input.permute(1,0,2)\n",
    "                h0 = torch.zeros(val_input.size(1),num_nodes,gru_units).to(device=device)\n",
    "                \n",
    "                pred = net(tgt_adj, val_input, h0)\n",
    "                val_loss = tgcn_loss(pred, val_target)\n",
    "                \n",
    "                validation_losses.append(np.asscalar(val_loss.detach().cpu().numpy()))\n",
    "                \n",
    "                pred_cpu = pred.detach().cpu().numpy().reshape(-1, num_nodes)\n",
    "                target_cpu = val_target.detach().cpu().numpy().reshape(-1, num_nodes)\n",
    "                \n",
    "                pred_cpu = Normalize(pred_cpu, val_mean, val_std, val_max, val_min, inv_if_norm)\n",
    "                target_cpu = Normalize(target_cpu, val_mean, val_std, val_max, val_min, inv_if_norm)\n",
    "                \n",
    "                rmse, mae, mape, acc, r2_score, var_score = evaluation(target_cpu, pred_cpu)\n",
    "                \n",
    "                validation_rmses.append(rmse)\n",
    "                validation_maes.append(mae)\n",
    "                validation_mapes.append(mape)\n",
    "                validation_acc.append(var_score)\n",
    "                validation_r2.append(r2_score)\n",
    "                validation_var.append(var_score)\n",
    "                \n",
    "                \n",
    "                viz.line([validation_losses[-1]],[epoch],env=environ,win='val_loss', update='append')\n",
    "                viz.line([rmse],[epoch],env=environ,win='rmses', update='append')\n",
    "                viz.line([mae],[epoch],env=environ,win='maes', update='append')\n",
    "                viz.line([mape],[epoch],env=environ,win='mapes', update='append')\n",
    "#                 fig, axes = plt.subplots()\n",
    "#                 axes.plot(np.arange(epoch+1), validation_rmses)\n",
    "#                 axes.plot(np.arange(epoch+1), validation_maes)\n",
    "#                 axes.legend(['rmses', 'maes','mapes'])\n",
    "#                 plt.show()\n",
    "                \n",
    "                plt.plot(np.arange(epoch+1), validation_mapes)\n",
    "            \n",
    "                validation_label = target_cpu\n",
    "                \n",
    "                validation_pred.append(pred_cpu)\n",
    "                \n",
    "                out = None\n",
    "                val_input = val_input\n",
    "                val_target = val_target\n",
    "                \n",
    "        print('epoch: '+str(epoch))\n",
    "        print(\"Training loss: \"+str(training_losses[-1]))\n",
    "        print(\"Training rmse: \"+str(training_rmses[-1]))\n",
    "        print(\"Validation loss: \"+str(validation_losses[-1]))\n",
    "        print(\"Validation rmse: \"+str(validation_rmses[-1]))\n",
    "        print(\"Validation mae: \"+str(validation_maes[-1]))\n",
    "        print(\"Validation mape: \"+str(validation_mapes[-1]))\n",
    "        print(\"Validation acc: \"+str(validation_acc[-1]))\n",
    "        if (epoch%1000==0):\n",
    "            if os.path.exists('./epoch')==False:\n",
    "                os.makedirs('./epoch')\n",
    "            torch.save(net, './epoch/model_epoch'+str(epoch)+'.pk1')\n",
    "    \n",
    "    index = validation_rmses.index(np.min(validation_rmses))\n",
    "    test_result = validation_pred[index]\n",
    "    var = pd.DataFrame(test_result)\n",
    "    var.to_csv('./epoch/test_epoch'+str(index)+'.csv',index=False, header=False)\n",
    "    np.savez('sh_L_loss', Train_loss=training_losses, Train_rmse=training_rmses, Val_loss=validation_losses, Val_rmse=validation_rmses, Val_mae=validation_maes, Val_acc=validation_acc)\n",
    "    print(validation_label.shape)\n",
    "    print(test_result.shape)\n",
    "    "
   ]
  },
  {
   "cell_type": "code",
   "execution_count": null,
   "id": "exceptional-contract",
   "metadata": {},
   "outputs": [],
   "source": []
  }
 ],
 "metadata": {
  "kernelspec": {
   "display_name": "Python 3",
   "language": "python",
   "name": "python3"
  },
  "language_info": {
   "codemirror_mode": {
    "name": "ipython",
    "version": 3
   },
   "file_extension": ".py",
   "mimetype": "text/x-python",
   "name": "python",
   "nbconvert_exporter": "python",
   "pygments_lexer": "ipython3",
   "version": "3.8.3"
  }
 },
 "nbformat": 4,
 "nbformat_minor": 5
}
