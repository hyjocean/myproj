{
 "cells": [
  {
   "cell_type": "code",
   "execution_count": 1,
   "id": "pointed-portuguese",
   "metadata": {},
   "outputs": [],
   "source": [
    "'''\n",
    "cuda: 3\n",
    "'''\n",
    "\n",
    "import os\n",
    "os.environ[\"MKL_NUM_THREADS\"] = \"3\"\n",
    "os.environ[\"OPENBLAS_NUM_THREADS\"] = \"4\"\n",
    "from visdom import Visdom\n",
    "import numpy as np\n",
    "import pandas as pd\n",
    "import math\n",
    "import torch\n",
    "import time \n",
    "import json\n",
    "import matplotlib.pyplot as plt\n",
    "import torch.nn as nn\n",
    "from gen_data_dl import TrainDataset, ValDataset\n",
    "from torch.utils.data import DataLoader\n",
    "from sklearn.metrics import mean_squared_error,mean_absolute_error,mean_absolute_percentage_error\n",
    "from networks import TGCN\n",
    "from utils import normalized_adj, Normalize\n",
    "import numpy.linalg as la"
   ]
  },
  {
   "cell_type": "code",
   "execution_count": 2,
   "id": "neural-handling",
   "metadata": {},
   "outputs": [],
   "source": [
    "def tgcn_loss(y_pred, y_true):\n",
    "    lambda_loss = 0.0015\n",
    "    Lreg = 0 # 正则化项\n",
    "    for para in net.parameters():\n",
    "        Lreg += torch.sum(para ** 2) / 2\n",
    "    Lreg = lambda_loss * Lreg\n",
    "\n",
    "    regress_loss = torch.sum((y_pred-y_true) ** 2) / 2\n",
    "    return regress_loss + Lreg\n",
    "\n",
    "\n",
    "def evaluation(a,b):\n",
    "    rmse = math.sqrt(mean_squared_error(a,b))\n",
    "    mae = mean_absolute_error(a,b)\n",
    "    mape = mean_absolute_percentage_error(a,b)\n",
    "    F_norm = la.norm(a-b,'fro')/la.norm(a,'fro')\n",
    "    r2 = 1 - ((a-b)**2).sum()/((a-a.mean())**2).sum()\n",
    "    var = 1-(np.var(a-b))/np.var(a)\n",
    "    return rmse, mae, mape, F_norm, r2, var"
   ]
  },
  {
   "cell_type": "code",
   "execution_count": 3,
   "id": "starting-decimal",
   "metadata": {},
   "outputs": [
    {
     "name": "stderr",
     "output_type": "stream",
     "text": [
      "Setting up a new session...\n"
     ]
    }
   ],
   "source": [
    "os.environ['CUDA_VISIBLE_DEVICES']='0'\n",
    "device = torch.device('cuda')\n",
    "viz = Visdom()"
   ]
  },
  {
   "cell_type": "code",
   "execution_count": 4,
   "id": "light-istanbul",
   "metadata": {},
   "outputs": [],
   "source": [
    "# para set\n",
    "seq_len = 12\n",
    "pre_len = 12\n",
    "if_norm = 'sig'\n",
    "inv_if_norm = 'inv_' + if_norm\n",
    "src_city = 'bj'\n",
    "tgt_city = 'sh'\n",
    "load_batch_size = 32\n",
    "epochs = 500\n",
    "gru_units = 32\n",
    "lr = 0.001\n",
    "val_num_days = 1\n",
    "yitaloss=0.9\n",
    "# environ=str(pre_len*5)+'min_'+'TGCNdirTL_'+'FT:'+str(yitaloss)\n",
    "environ='TGCNdirTL_'+'FT:'+str(yitaloss)+'_'+str(pre_len*5)+'min'\n",
    "# load data\n",
    "train_speed = TrainDataset(city='bj', typo='speed', seq_len=seq_len, pre_len=pre_len, num_days=val_num_days, if_norm=if_norm, if_lack=yitaloss)\n",
    "train_loader = DataLoader(train_speed, batch_size=load_batch_size, pin_memory=True, num_workers=0, shuffle=True)\n",
    "val_speed = ValDataset(city='sh', typo='speed', seq_len=seq_len, pre_len=pre_len, num_days=val_num_days, if_norm=if_norm, if_lack=yitaloss)\n",
    "val_loader = DataLoader(val_speed, batch_size=val_speed.__len__(), pin_memory=True, num_workers=0, shuffle=None)\n",
    "num_nodes = train_speed.numnodes\n",
    "train_mean, train_std, train_max, train_min = train_speed.mean, train_speed.std, train_speed.max, train_speed.min\n",
    "val_mean, val_std, val_max, val_min = val_speed.mean, val_speed.std, val_speed.max, val_speed.min"
   ]
  },
  {
   "cell_type": "code",
   "execution_count": 5,
   "id": "mechanical-tokyo",
   "metadata": {},
   "outputs": [
    {
     "data": {
      "text/plain": [
       "(8904, 264, 'TGCNdirTL_FT:0.9_60min')"
      ]
     },
     "execution_count": 5,
     "metadata": {},
     "output_type": "execute_result"
    }
   ],
   "source": [
    "train_speed.__len__(), val_speed.__len__(),environ"
   ]
  },
  {
   "cell_type": "code",
   "execution_count": 6,
   "id": "worthy-contemporary",
   "metadata": {
    "scrolled": true
   },
   "outputs": [
    {
     "name": "stderr",
     "output_type": "stream",
     "text": [
      "<ipython-input-6-5c6a0450ba2d>:85: DeprecationWarning: np.asscalar(a) is deprecated since NumPy v1.16, use a.item() instead\n",
      "  validation_losses.append(np.asscalar(val_loss.detach().cpu().numpy()))\n"
     ]
    },
    {
     "name": "stdout",
     "output_type": "stream",
     "text": [
      "epoch: 0\n",
      "Training loss: 18732.36536957115\n",
      "Training rmse: 123.37961\n",
      "Validation loss: 58228.171875\n",
      "Validation rmse: 30.921392389803838\n",
      "Validation mae: 25.538357\n",
      "Validation mape: 0.27359816\n",
      "Validation acc: 0.11462759971618652\n"
     ]
    },
    {
     "name": "stderr",
     "output_type": "stream",
     "text": [
      "<ipython-input-6-5c6a0450ba2d>:85: DeprecationWarning: np.asscalar(a) is deprecated since NumPy v1.16, use a.item() instead\n",
      "  validation_losses.append(np.asscalar(val_loss.detach().cpu().numpy()))\n"
     ]
    },
    {
     "name": "stdout",
     "output_type": "stream",
     "text": [
      "epoch: 1\n",
      "Training loss: 11184.655081909617\n",
      "Training rmse: 83.17629\n",
      "Validation loss: 20090.87890625\n",
      "Validation rmse: 18.16317034099327\n",
      "Validation mae: 14.523813\n",
      "Validation mape: 0.17770453\n",
      "Validation acc: 0.15043383836746216\n"
     ]
    },
    {
     "name": "stderr",
     "output_type": "stream",
     "text": [
      "<ipython-input-6-5c6a0450ba2d>:85: DeprecationWarning: np.asscalar(a) is deprecated since NumPy v1.16, use a.item() instead\n",
      "  validation_losses.append(np.asscalar(val_loss.detach().cpu().numpy()))\n"
     ]
    },
    {
     "name": "stdout",
     "output_type": "stream",
     "text": [
      "epoch: 2\n",
      "Training loss: 1971.1266241039427\n",
      "Training rmse: 67.1613\n",
      "Validation loss: 19862.703125\n",
      "Validation rmse: 18.059732297685436\n",
      "Validation mae: 14.327141\n",
      "Validation mape: 0.17354947\n",
      "Validation acc: 0.15765535831451416\n"
     ]
    },
    {
     "name": "stderr",
     "output_type": "stream",
     "text": [
      "<ipython-input-6-5c6a0450ba2d>:85: DeprecationWarning: np.asscalar(a) is deprecated since NumPy v1.16, use a.item() instead\n",
      "  validation_losses.append(np.asscalar(val_loss.detach().cpu().numpy()))\n"
     ]
    },
    {
     "name": "stdout",
     "output_type": "stream",
     "text": [
      "epoch: 3\n",
      "Training loss: 1940.4945338532916\n",
      "Training rmse: 66.92578\n",
      "Validation loss: 19942.546875\n",
      "Validation rmse: 18.095994773857246\n",
      "Validation mae: 14.52323\n",
      "Validation mape: 0.17939025\n",
      "Validation acc: 0.16315442323684692\n"
     ]
    },
    {
     "name": "stderr",
     "output_type": "stream",
     "text": [
      "<ipython-input-6-5c6a0450ba2d>:85: DeprecationWarning: np.asscalar(a) is deprecated since NumPy v1.16, use a.item() instead\n",
      "  validation_losses.append(np.asscalar(val_loss.detach().cpu().numpy()))\n"
     ]
    },
    {
     "name": "stdout",
     "output_type": "stream",
     "text": [
      "epoch: 4\n",
      "Training loss: 1922.3008720370603\n",
      "Training rmse: 66.786156\n",
      "Validation loss: 20303.580078125\n",
      "Validation rmse: 18.259061053265444\n",
      "Validation mae: 14.376289\n",
      "Validation mape: 0.17290272\n",
      "Validation acc: 0.13952523469924927\n"
     ]
    },
    {
     "name": "stderr",
     "output_type": "stream",
     "text": [
      "<ipython-input-6-5c6a0450ba2d>:85: DeprecationWarning: np.asscalar(a) is deprecated since NumPy v1.16, use a.item() instead\n",
      "  validation_losses.append(np.asscalar(val_loss.detach().cpu().numpy()))\n"
     ]
    },
    {
     "name": "stdout",
     "output_type": "stream",
     "text": [
      "epoch: 5\n",
      "Training loss: 1912.3908063553567\n",
      "Training rmse: 66.70586\n",
      "Validation loss: 19698.37890625\n",
      "Validation rmse: 17.984873879918162\n",
      "Validation mae: 14.306362\n",
      "Validation mape: 0.17516999\n",
      "Validation acc: 0.1673680543899536\n"
     ]
    },
    {
     "name": "stderr",
     "output_type": "stream",
     "text": [
      "<ipython-input-6-5c6a0450ba2d>:85: DeprecationWarning: np.asscalar(a) is deprecated since NumPy v1.16, use a.item() instead\n",
      "  validation_losses.append(np.asscalar(val_loss.detach().cpu().numpy()))\n"
     ]
    },
    {
     "name": "stdout",
     "output_type": "stream",
     "text": [
      "epoch: 6\n",
      "Training loss: 1893.3638049710182\n",
      "Training rmse: 66.55774\n",
      "Validation loss: 20425.83984375\n",
      "Validation rmse: 18.31395228749578\n",
      "Validation mae: 14.106148\n",
      "Validation mape: 0.16439676\n",
      "Validation acc: 0.159454345703125\n"
     ]
    },
    {
     "name": "stderr",
     "output_type": "stream",
     "text": [
      "<ipython-input-6-5c6a0450ba2d>:85: DeprecationWarning: np.asscalar(a) is deprecated since NumPy v1.16, use a.item() instead\n",
      "  validation_losses.append(np.asscalar(val_loss.detach().cpu().numpy()))\n"
     ]
    },
    {
     "name": "stdout",
     "output_type": "stream",
     "text": [
      "epoch: 7\n",
      "Training loss: 1923.6789108877967\n",
      "Training rmse: 66.78619\n",
      "Validation loss: 21846.4609375\n",
      "Validation rmse: 18.94012171157352\n",
      "Validation mae: 14.671451\n",
      "Validation mape: 0.17197055\n",
      "Validation acc: 0.09311842918395996\n"
     ]
    },
    {
     "name": "stderr",
     "output_type": "stream",
     "text": [
      "<ipython-input-6-5c6a0450ba2d>:85: DeprecationWarning: np.asscalar(a) is deprecated since NumPy v1.16, use a.item() instead\n",
      "  validation_losses.append(np.asscalar(val_loss.detach().cpu().numpy()))\n"
     ]
    },
    {
     "name": "stdout",
     "output_type": "stream",
     "text": [
      "epoch: 8\n",
      "Training loss: 1942.9021627227892\n",
      "Training rmse: 66.90802\n",
      "Validation loss: 24263.267578125\n",
      "Validation rmse: 19.960290779640776\n",
      "Validation mae: 15.775492\n",
      "Validation mape: 0.19030632\n",
      "Validation acc: -0.02893078327178955\n"
     ]
    },
    {
     "name": "stderr",
     "output_type": "stream",
     "text": [
      "<ipython-input-6-5c6a0450ba2d>:85: DeprecationWarning: np.asscalar(a) is deprecated since NumPy v1.16, use a.item() instead\n",
      "  validation_losses.append(np.asscalar(val_loss.detach().cpu().numpy()))\n"
     ]
    },
    {
     "name": "stdout",
     "output_type": "stream",
     "text": [
      "epoch: 9\n",
      "Training loss: 1954.1594740344633\n",
      "Training rmse: 66.98025\n",
      "Validation loss: 21271.69921875\n",
      "Validation rmse: 18.68930932921613\n",
      "Validation mae: 14.773528\n",
      "Validation mape: 0.17981838\n",
      "Validation acc: 0.0991973876953125\n"
     ]
    },
    {
     "name": "stderr",
     "output_type": "stream",
     "text": [
      "<ipython-input-6-5c6a0450ba2d>:85: DeprecationWarning: np.asscalar(a) is deprecated since NumPy v1.16, use a.item() instead\n",
      "  validation_losses.append(np.asscalar(val_loss.detach().cpu().numpy()))\n"
     ]
    },
    {
     "name": "stdout",
     "output_type": "stream",
     "text": [
      "epoch: 10\n",
      "Training loss: 1943.759266077404\n",
      "Training rmse: 66.91338\n",
      "Validation loss: 21600.486328125\n",
      "Validation rmse: 18.8331927178909\n",
      "Validation mae: 14.958374\n",
      "Validation mape: 0.18404123\n",
      "Validation acc: 0.09221059083938599\n"
     ]
    },
    {
     "name": "stderr",
     "output_type": "stream",
     "text": [
      "<ipython-input-6-5c6a0450ba2d>:85: DeprecationWarning: np.asscalar(a) is deprecated since NumPy v1.16, use a.item() instead\n",
      "  validation_losses.append(np.asscalar(val_loss.detach().cpu().numpy()))\n"
     ]
    },
    {
     "name": "stdout",
     "output_type": "stream",
     "text": [
      "epoch: 11\n",
      "Training loss: 1947.8955870050684\n",
      "Training rmse: 66.9467\n",
      "Validation loss: 20567.740234375\n",
      "Validation rmse: 18.377457019774848\n",
      "Validation mae: 14.757044\n",
      "Validation mape: 0.1845969\n",
      "Validation acc: 0.15478497743606567\n"
     ]
    },
    {
     "name": "stderr",
     "output_type": "stream",
     "text": [
      "<ipython-input-6-5c6a0450ba2d>:85: DeprecationWarning: np.asscalar(a) is deprecated since NumPy v1.16, use a.item() instead\n",
      "  validation_losses.append(np.asscalar(val_loss.detach().cpu().numpy()))\n"
     ]
    },
    {
     "name": "stdout",
     "output_type": "stream",
     "text": [
      "epoch: 12\n",
      "Training loss: 1926.0055275100106\n",
      "Training rmse: 66.7967\n",
      "Validation loss: 26762.087890625\n",
      "Validation rmse: 20.962941486620725\n",
      "Validation mae: 16.533\n",
      "Validation mape: 0.19934326\n",
      "Validation acc: -0.1349339485168457\n"
     ]
    },
    {
     "name": "stderr",
     "output_type": "stream",
     "text": [
      "<ipython-input-6-5c6a0450ba2d>:85: DeprecationWarning: np.asscalar(a) is deprecated since NumPy v1.16, use a.item() instead\n",
      "  validation_losses.append(np.asscalar(val_loss.detach().cpu().numpy()))\n"
     ]
    },
    {
     "name": "stdout",
     "output_type": "stream",
     "text": [
      "epoch: 13\n",
      "Training loss: 1967.3992951642656\n",
      "Training rmse: 66.95804\n",
      "Validation loss: 23213.017578125\n",
      "Validation rmse: 19.523514092987014\n",
      "Validation mae: 14.903328\n",
      "Validation mape: 0.17001526\n",
      "Validation acc: 0.09303218126296997\n"
     ]
    },
    {
     "name": "stderr",
     "output_type": "stream",
     "text": [
      "<ipython-input-6-5c6a0450ba2d>:85: DeprecationWarning: np.asscalar(a) is deprecated since NumPy v1.16, use a.item() instead\n",
      "  validation_losses.append(np.asscalar(val_loss.detach().cpu().numpy()))\n"
     ]
    },
    {
     "name": "stdout",
     "output_type": "stream",
     "text": [
      "epoch: 14\n",
      "Training loss: 1908.358624092567\n",
      "Training rmse: 66.65286\n",
      "Validation loss: 25063.013671875\n",
      "Validation rmse: 20.28658051819216\n",
      "Validation mae: 16.209944\n",
      "Validation mape: 0.2032758\n",
      "Validation acc: -0.012671947479248047\n"
     ]
    },
    {
     "name": "stderr",
     "output_type": "stream",
     "text": [
      "<ipython-input-6-5c6a0450ba2d>:85: DeprecationWarning: np.asscalar(a) is deprecated since NumPy v1.16, use a.item() instead\n",
      "  validation_losses.append(np.asscalar(val_loss.detach().cpu().numpy()))\n"
     ]
    },
    {
     "name": "stdout",
     "output_type": "stream",
     "text": [
      "epoch: 15\n",
      "Training loss: 1891.4304893794454\n",
      "Training rmse: 66.52159\n",
      "Validation loss: 22778.236328125\n",
      "Validation rmse: 19.339811007218294\n",
      "Validation mae: 15.278726\n",
      "Validation mape: 0.18524338\n",
      "Validation acc: 0.034104347229003906\n"
     ]
    },
    {
     "name": "stderr",
     "output_type": "stream",
     "text": [
      "<ipython-input-6-5c6a0450ba2d>:85: DeprecationWarning: np.asscalar(a) is deprecated since NumPy v1.16, use a.item() instead\n",
      "  validation_losses.append(np.asscalar(val_loss.detach().cpu().numpy()))\n"
     ]
    },
    {
     "name": "stdout",
     "output_type": "stream",
     "text": [
      "epoch: 16\n",
      "Training loss: 1872.895985483696\n",
      "Training rmse: 66.38032\n",
      "Validation loss: 19643.4296875\n",
      "Validation rmse: 17.959769325049372\n",
      "Validation mae: 13.791208\n",
      "Validation mape: 0.1617939\n",
      "Validation acc: 0.18460673093795776\n"
     ]
    },
    {
     "name": "stderr",
     "output_type": "stream",
     "text": [
      "<ipython-input-6-5c6a0450ba2d>:85: DeprecationWarning: np.asscalar(a) is deprecated since NumPy v1.16, use a.item() instead\n",
      "  validation_losses.append(np.asscalar(val_loss.detach().cpu().numpy()))\n"
     ]
    },
    {
     "name": "stdout",
     "output_type": "stream",
     "text": [
      "epoch: 17\n",
      "Training loss: 1825.4507770059784\n",
      "Training rmse: 66.01317\n",
      "Validation loss: 21777.626953125\n",
      "Validation rmse: 18.91025509618351\n",
      "Validation mae: 14.977808\n",
      "Validation mape: 0.18415204\n",
      "Validation acc: 0.08409994840621948\n"
     ]
    },
    {
     "name": "stderr",
     "output_type": "stream",
     "text": [
      "<ipython-input-6-5c6a0450ba2d>:85: DeprecationWarning: np.asscalar(a) is deprecated since NumPy v1.16, use a.item() instead\n",
      "  validation_losses.append(np.asscalar(val_loss.detach().cpu().numpy()))\n"
     ]
    },
    {
     "name": "stdout",
     "output_type": "stream",
     "text": [
      "epoch: 18\n",
      "Training loss: 1849.2425756967195\n",
      "Training rmse: 66.19386\n",
      "Validation loss: 20611.9453125\n",
      "Validation rmse: 18.39719342927662\n",
      "Validation mae: 14.261453\n",
      "Validation mape: 0.16932762\n",
      "Validation acc: 0.13305366039276123\n"
     ]
    },
    {
     "name": "stderr",
     "output_type": "stream",
     "text": [
      "<ipython-input-6-5c6a0450ba2d>:85: DeprecationWarning: np.asscalar(a) is deprecated since NumPy v1.16, use a.item() instead\n",
      "  validation_losses.append(np.asscalar(val_loss.detach().cpu().numpy()))\n"
     ]
    },
    {
     "name": "stdout",
     "output_type": "stream",
     "text": [
      "epoch: 19\n",
      "Training loss: 1837.7200520833333\n",
      "Training rmse: 66.10932\n",
      "Validation loss: 21315.466796875\n",
      "Validation rmse: 18.708522645577286\n",
      "Validation mae: 14.1972685\n",
      "Validation mape: 0.16199246\n",
      "Validation acc: 0.1651846170425415\n"
     ]
    },
    {
     "name": "stderr",
     "output_type": "stream",
     "text": [
      "<ipython-input-6-5c6a0450ba2d>:85: DeprecationWarning: np.asscalar(a) is deprecated since NumPy v1.16, use a.item() instead\n",
      "  validation_losses.append(np.asscalar(val_loss.detach().cpu().numpy()))\n"
     ]
    },
    {
     "name": "stdout",
     "output_type": "stream",
     "text": [
      "epoch: 20\n",
      "Training loss: 1804.2648181983648\n",
      "Training rmse: 65.84125\n",
      "Validation loss: 19676.505859375\n",
      "Validation rmse: 17.974881766279264\n",
      "Validation mae: 14.154355\n",
      "Validation mape: 0.17335804\n",
      "Validation acc: 0.16900873184204102\n"
     ]
    },
    {
     "name": "stderr",
     "output_type": "stream",
     "text": [
      "<ipython-input-6-5c6a0450ba2d>:85: DeprecationWarning: np.asscalar(a) is deprecated since NumPy v1.16, use a.item() instead\n",
      "  validation_losses.append(np.asscalar(val_loss.detach().cpu().numpy()))\n"
     ]
    },
    {
     "name": "stdout",
     "output_type": "stream",
     "text": [
      "epoch: 21\n",
      "Training loss: 1786.0243039148256\n",
      "Training rmse: 65.69475\n",
      "Validation loss: 21167.60546875\n",
      "Validation rmse: 18.643520900892923\n",
      "Validation mae: 14.614338\n",
      "Validation mape: 0.17647868\n",
      "Validation acc: 0.10245567560195923\n"
     ]
    },
    {
     "name": "stderr",
     "output_type": "stream",
     "text": [
      "<ipython-input-6-5c6a0450ba2d>:85: DeprecationWarning: np.asscalar(a) is deprecated since NumPy v1.16, use a.item() instead\n",
      "  validation_losses.append(np.asscalar(val_loss.detach().cpu().numpy()))\n"
     ]
    },
    {
     "name": "stdout",
     "output_type": "stream",
     "text": [
      "epoch: 22\n",
      "Training loss: 1801.469996298513\n",
      "Training rmse: 65.79983\n",
      "Validation loss: 22271.044921875\n",
      "Validation rmse: 19.1232789705109\n",
      "Validation mae: 15.513171\n",
      "Validation mape: 0.19918239\n",
      "Validation acc: 0.16359931230545044\n"
     ]
    },
    {
     "name": "stderr",
     "output_type": "stream",
     "text": [
      "<ipython-input-6-5c6a0450ba2d>:85: DeprecationWarning: np.asscalar(a) is deprecated since NumPy v1.16, use a.item() instead\n",
      "  validation_losses.append(np.asscalar(val_loss.detach().cpu().numpy()))\n"
     ]
    },
    {
     "name": "stdout",
     "output_type": "stream",
     "text": [
      "epoch: 23\n",
      "Training loss: 1751.2848107122607\n",
      "Training rmse: 65.415985\n",
      "Validation loss: 22393.076171875\n",
      "Validation rmse: 19.175598628561037\n",
      "Validation mae: 14.846606\n",
      "Validation mape: 0.17420754\n",
      "Validation acc: 0.07422196865081787\n"
     ]
    },
    {
     "name": "stderr",
     "output_type": "stream",
     "text": [
      "<ipython-input-6-5c6a0450ba2d>:85: DeprecationWarning: np.asscalar(a) is deprecated since NumPy v1.16, use a.item() instead\n",
      "  validation_losses.append(np.asscalar(val_loss.detach().cpu().numpy()))\n"
     ]
    },
    {
     "name": "stdout",
     "output_type": "stream",
     "text": [
      "epoch: 24\n",
      "Training loss: 1764.1049308093218\n",
      "Training rmse: 65.51315\n",
      "Validation loss: 18798.123046875\n",
      "Validation rmse: 17.569085349265215\n",
      "Validation mae: 13.712091\n",
      "Validation mape: 0.1663435\n",
      "Validation acc: 0.20278936624526978\n"
     ]
    },
    {
     "name": "stderr",
     "output_type": "stream",
     "text": [
      "<ipython-input-6-5c6a0450ba2d>:85: DeprecationWarning: np.asscalar(a) is deprecated since NumPy v1.16, use a.item() instead\n",
      "  validation_losses.append(np.asscalar(val_loss.detach().cpu().numpy()))\n"
     ]
    },
    {
     "name": "stdout",
     "output_type": "stream",
     "text": [
      "epoch: 25\n",
      "Training loss: 1731.114028547827\n",
      "Training rmse: 65.25365\n",
      "Validation loss: 21299.85546875\n",
      "Validation rmse: 18.70166703407789\n",
      "Validation mae: 14.123017\n",
      "Validation mape: 0.15950875\n",
      "Validation acc: 0.19235825538635254\n"
     ]
    },
    {
     "name": "stderr",
     "output_type": "stream",
     "text": [
      "<ipython-input-6-5c6a0450ba2d>:85: DeprecationWarning: np.asscalar(a) is deprecated since NumPy v1.16, use a.item() instead\n",
      "  validation_losses.append(np.asscalar(val_loss.detach().cpu().numpy()))\n"
     ]
    },
    {
     "name": "stdout",
     "output_type": "stream",
     "text": [
      "epoch: 26\n",
      "Training loss: 1711.8529094299536\n",
      "Training rmse: 65.08803\n",
      "Validation loss: 19511.203125\n",
      "Validation rmse: 17.89921242457114\n",
      "Validation mae: 13.917527\n",
      "Validation mape: 0.16795266\n",
      "Validation acc: 0.17267799377441406\n"
     ]
    },
    {
     "name": "stderr",
     "output_type": "stream",
     "text": [
      "<ipython-input-6-5c6a0450ba2d>:85: DeprecationWarning: np.asscalar(a) is deprecated since NumPy v1.16, use a.item() instead\n",
      "  validation_losses.append(np.asscalar(val_loss.detach().cpu().numpy()))\n"
     ]
    },
    {
     "name": "stdout",
     "output_type": "stream",
     "text": [
      "epoch: 27\n",
      "Training loss: 1699.1718263250098\n",
      "Training rmse: 64.986855\n",
      "Validation loss: 20020.482421875\n",
      "Validation rmse: 18.131307832874846\n",
      "Validation mae: 13.749785\n",
      "Validation mape: 0.15762094\n",
      "Validation acc: 0.2074403166770935\n"
     ]
    },
    {
     "name": "stderr",
     "output_type": "stream",
     "text": [
      "<ipython-input-6-5c6a0450ba2d>:85: DeprecationWarning: np.asscalar(a) is deprecated since NumPy v1.16, use a.item() instead\n",
      "  validation_losses.append(np.asscalar(val_loss.detach().cpu().numpy()))\n"
     ]
    },
    {
     "name": "stdout",
     "output_type": "stream",
     "text": [
      "epoch: 28\n",
      "Training loss: 1698.7694133362036\n",
      "Training rmse: 64.98656\n",
      "Validation loss: 19532.3984375\n",
      "Validation rmse: 17.90892895535981\n",
      "Validation mae: 14.141694\n",
      "Validation mape: 0.17469318\n",
      "Validation acc: 0.17921245098114014\n"
     ]
    },
    {
     "name": "stderr",
     "output_type": "stream",
     "text": [
      "<ipython-input-6-5c6a0450ba2d>:85: DeprecationWarning: np.asscalar(a) is deprecated since NumPy v1.16, use a.item() instead\n",
      "  validation_losses.append(np.asscalar(val_loss.detach().cpu().numpy()))\n"
     ]
    },
    {
     "name": "stdout",
     "output_type": "stream",
     "text": [
      "epoch: 29\n",
      "Training loss: 1685.5249955372144\n",
      "Training rmse: 64.87762\n",
      "Validation loss: 18637.98828125\n",
      "Validation rmse: 17.494086438071992\n",
      "Validation mae: 13.798755\n",
      "Validation mape: 0.17127644\n",
      "Validation acc: 0.22175651788711548\n"
     ]
    },
    {
     "name": "stderr",
     "output_type": "stream",
     "text": [
      "<ipython-input-6-5c6a0450ba2d>:85: DeprecationWarning: np.asscalar(a) is deprecated since NumPy v1.16, use a.item() instead\n",
      "  validation_losses.append(np.asscalar(val_loss.detach().cpu().numpy()))\n"
     ]
    },
    {
     "name": "stdout",
     "output_type": "stream",
     "text": [
      "epoch: 30\n",
      "Training loss: 1682.7648281521267\n",
      "Training rmse: 64.85171\n",
      "Validation loss: 18780.0\n",
      "Validation rmse: 17.56060585315004\n",
      "Validation mae: 13.369133\n",
      "Validation mape: 0.1560214\n",
      "Validation acc: 0.22792720794677734\n"
     ]
    },
    {
     "name": "stderr",
     "output_type": "stream",
     "text": [
      "<ipython-input-6-5c6a0450ba2d>:85: DeprecationWarning: np.asscalar(a) is deprecated since NumPy v1.16, use a.item() instead\n",
      "  validation_losses.append(np.asscalar(val_loss.detach().cpu().numpy()))\n"
     ]
    },
    {
     "name": "stdout",
     "output_type": "stream",
     "text": [
      "epoch: 31\n",
      "Training loss: 1674.7184561999468\n",
      "Training rmse: 64.78482\n",
      "Validation loss: 20900.71484375\n",
      "Validation rmse: 18.52559890911509\n",
      "Validation mae: 14.819301\n",
      "Validation mape: 0.18759769\n",
      "Validation acc: 0.16573596000671387\n"
     ]
    },
    {
     "name": "stderr",
     "output_type": "stream",
     "text": [
      "<ipython-input-6-5c6a0450ba2d>:85: DeprecationWarning: np.asscalar(a) is deprecated since NumPy v1.16, use a.item() instead\n",
      "  validation_losses.append(np.asscalar(val_loss.detach().cpu().numpy()))\n"
     ]
    },
    {
     "name": "stdout",
     "output_type": "stream",
     "text": [
      "epoch: 32\n",
      "Training loss: 1654.9238789876301\n",
      "Training rmse: 64.62004\n",
      "Validation loss: 18604.345703125\n",
      "Validation rmse: 17.478282422632738\n",
      "Validation mae: 13.721295\n",
      "Validation mape: 0.16944672\n",
      "Validation acc: 0.21881955862045288\n"
     ]
    },
    {
     "name": "stderr",
     "output_type": "stream",
     "text": [
      "<ipython-input-6-5c6a0450ba2d>:85: DeprecationWarning: np.asscalar(a) is deprecated since NumPy v1.16, use a.item() instead\n",
      "  validation_losses.append(np.asscalar(val_loss.detach().cpu().numpy()))\n"
     ]
    },
    {
     "name": "stdout",
     "output_type": "stream",
     "text": [
      "epoch: 33\n",
      "Training loss: 1659.5447396445873\n",
      "Training rmse: 64.65872\n",
      "Validation loss: 18708.94921875\n",
      "Validation rmse: 17.52734940870758\n",
      "Validation mae: 13.882843\n",
      "Validation mape: 0.17337158\n",
      "Validation acc: 0.22371256351470947\n"
     ]
    },
    {
     "name": "stderr",
     "output_type": "stream",
     "text": [
      "<ipython-input-6-5c6a0450ba2d>:85: DeprecationWarning: np.asscalar(a) is deprecated since NumPy v1.16, use a.item() instead\n",
      "  validation_losses.append(np.asscalar(val_loss.detach().cpu().numpy()))\n"
     ]
    },
    {
     "name": "stdout",
     "output_type": "stream",
     "text": [
      "epoch: 34\n",
      "Training loss: 1662.2788825359823\n",
      "Training rmse: 64.678055\n",
      "Validation loss: 19157.83203125\n",
      "Validation rmse: 17.73636673149223\n",
      "Validation mae: 14.100534\n",
      "Validation mape: 0.17785673\n",
      "Validation acc: 0.22365176677703857\n"
     ]
    },
    {
     "name": "stderr",
     "output_type": "stream",
     "text": [
      "<ipython-input-6-5c6a0450ba2d>:85: DeprecationWarning: np.asscalar(a) is deprecated since NumPy v1.16, use a.item() instead\n",
      "  validation_losses.append(np.asscalar(val_loss.detach().cpu().numpy()))\n"
     ]
    },
    {
     "name": "stdout",
     "output_type": "stream",
     "text": [
      "epoch: 35\n",
      "Training loss: 1623.8866742315258\n",
      "Training rmse: 64.3599\n",
      "Validation loss: 18936.521484375\n",
      "Validation rmse: 17.633621596135693\n",
      "Validation mae: 13.653385\n",
      "Validation mape: 0.16391926\n",
      "Validation acc: 0.19856148958206177\n"
     ]
    },
    {
     "name": "stderr",
     "output_type": "stream",
     "text": [
      "<ipython-input-6-5c6a0450ba2d>:85: DeprecationWarning: np.asscalar(a) is deprecated since NumPy v1.16, use a.item() instead\n",
      "  validation_losses.append(np.asscalar(val_loss.detach().cpu().numpy()))\n"
     ]
    },
    {
     "name": "stdout",
     "output_type": "stream",
     "text": [
      "epoch: 36\n",
      "Training loss: 1615.864205090376\n",
      "Training rmse: 64.29195\n",
      "Validation loss: 18069.849609375\n",
      "Validation rmse: 17.225367553510015\n",
      "Validation mae: 13.419787\n",
      "Validation mape: 0.16384584\n",
      "Validation acc: 0.23449504375457764\n"
     ]
    },
    {
     "name": "stderr",
     "output_type": "stream",
     "text": [
      "<ipython-input-6-5c6a0450ba2d>:85: DeprecationWarning: np.asscalar(a) is deprecated since NumPy v1.16, use a.item() instead\n",
      "  validation_losses.append(np.asscalar(val_loss.detach().cpu().numpy()))\n"
     ]
    },
    {
     "name": "stdout",
     "output_type": "stream",
     "text": [
      "epoch: 37\n",
      "Training loss: 1617.6456091002324\n",
      "Training rmse: 64.30496\n",
      "Validation loss: 18116.078125\n",
      "Validation rmse: 17.24738413561559\n",
      "Validation mae: 13.538457\n",
      "Validation mape: 0.16754138\n",
      "Validation acc: 0.23952752351760864\n"
     ]
    },
    {
     "name": "stderr",
     "output_type": "stream",
     "text": [
      "<ipython-input-6-5c6a0450ba2d>:85: DeprecationWarning: np.asscalar(a) is deprecated since NumPy v1.16, use a.item() instead\n",
      "  validation_losses.append(np.asscalar(val_loss.detach().cpu().numpy()))\n"
     ]
    },
    {
     "name": "stdout",
     "output_type": "stream",
     "text": [
      "epoch: 38\n",
      "Training loss: 1615.7419958627352\n",
      "Training rmse: 64.29035\n",
      "Validation loss: 18268.005859375\n",
      "Validation rmse: 17.319550438524036\n",
      "Validation mae: 13.361508\n",
      "Validation mape: 0.16037606\n",
      "Validation acc: 0.22688043117523193\n"
     ]
    },
    {
     "name": "stderr",
     "output_type": "stream",
     "text": [
      "<ipython-input-6-5c6a0450ba2d>:85: DeprecationWarning: np.asscalar(a) is deprecated since NumPy v1.16, use a.item() instead\n",
      "  validation_losses.append(np.asscalar(val_loss.detach().cpu().numpy()))\n"
     ]
    },
    {
     "name": "stdout",
     "output_type": "stream",
     "text": [
      "epoch: 39\n",
      "Training loss: 1595.5386806474364\n",
      "Training rmse: 64.118164\n",
      "Validation loss: 18713.107421875\n",
      "Validation rmse: 17.52927239291466\n",
      "Validation mae: 13.604135\n",
      "Validation mape: 0.16465172\n",
      "Validation acc: 0.20645231008529663\n"
     ]
    },
    {
     "name": "stderr",
     "output_type": "stream",
     "text": [
      "<ipython-input-6-5c6a0450ba2d>:85: DeprecationWarning: np.asscalar(a) is deprecated since NumPy v1.16, use a.item() instead\n",
      "  validation_losses.append(np.asscalar(val_loss.detach().cpu().numpy()))\n"
     ]
    },
    {
     "name": "stdout",
     "output_type": "stream",
     "text": [
      "epoch: 40\n",
      "Training loss: 1599.291964076326\n",
      "Training rmse: 64.15014\n",
      "Validation loss: 23007.009765625\n",
      "Validation rmse: 19.436641956292487\n",
      "Validation mae: 15.929985\n",
      "Validation mape: 0.20896503\n",
      "Validation acc: 0.23410844802856445\n"
     ]
    },
    {
     "name": "stderr",
     "output_type": "stream",
     "text": [
      "<ipython-input-6-5c6a0450ba2d>:85: DeprecationWarning: np.asscalar(a) is deprecated since NumPy v1.16, use a.item() instead\n",
      "  validation_losses.append(np.asscalar(val_loss.detach().cpu().numpy()))\n"
     ]
    },
    {
     "name": "stdout",
     "output_type": "stream",
     "text": [
      "epoch: 41\n",
      "Training loss: 1591.7063761611994\n",
      "Training rmse: 64.08569\n",
      "Validation loss: 19657.640625\n",
      "Validation rmse: 17.96620990877954\n",
      "Validation mae: 14.392251\n",
      "Validation mape: 0.18360111\n",
      "Validation acc: 0.2287411093711853\n"
     ]
    },
    {
     "name": "stderr",
     "output_type": "stream",
     "text": [
      "<ipython-input-6-5c6a0450ba2d>:85: DeprecationWarning: np.asscalar(a) is deprecated since NumPy v1.16, use a.item() instead\n",
      "  validation_losses.append(np.asscalar(val_loss.detach().cpu().numpy()))\n"
     ]
    },
    {
     "name": "stdout",
     "output_type": "stream",
     "text": [
      "epoch: 42\n",
      "Training loss: 1580.7561628006692\n",
      "Training rmse: 63.990417\n",
      "Validation loss: 17728.78125\n",
      "Validation rmse: 17.061996508425256\n",
      "Validation mae: 13.242003\n",
      "Validation mape: 0.16128609\n",
      "Validation acc: 0.24850261211395264\n"
     ]
    },
    {
     "name": "stderr",
     "output_type": "stream",
     "text": [
      "<ipython-input-6-5c6a0450ba2d>:85: DeprecationWarning: np.asscalar(a) is deprecated since NumPy v1.16, use a.item() instead\n",
      "  validation_losses.append(np.asscalar(val_loss.detach().cpu().numpy()))\n"
     ]
    },
    {
     "name": "stdout",
     "output_type": "stream",
     "text": [
      "epoch: 43\n",
      "Training loss: 1557.0242693501134\n",
      "Training rmse: 63.78732\n",
      "Validation loss: 18174.94921875\n",
      "Validation rmse: 17.275353417321433\n",
      "Validation mae: 13.119934\n",
      "Validation mape: 0.15365861\n",
      "Validation acc: 0.24847793579101562\n"
     ]
    },
    {
     "name": "stderr",
     "output_type": "stream",
     "text": [
      "<ipython-input-6-5c6a0450ba2d>:85: DeprecationWarning: np.asscalar(a) is deprecated since NumPy v1.16, use a.item() instead\n",
      "  validation_losses.append(np.asscalar(val_loss.detach().cpu().numpy()))\n"
     ]
    },
    {
     "name": "stdout",
     "output_type": "stream",
     "text": [
      "epoch: 44\n",
      "Training loss: 1563.5036922988072\n",
      "Training rmse: 63.843502\n",
      "Validation loss: 18047.7578125\n",
      "Validation rmse: 17.214792783422396\n",
      "Validation mae: 13.148081\n",
      "Validation mape: 0.1550967\n",
      "Validation acc: 0.24692243337631226\n"
     ]
    },
    {
     "name": "stderr",
     "output_type": "stream",
     "text": [
      "<ipython-input-6-5c6a0450ba2d>:85: DeprecationWarning: np.asscalar(a) is deprecated since NumPy v1.16, use a.item() instead\n",
      "  validation_losses.append(np.asscalar(val_loss.detach().cpu().numpy()))\n"
     ]
    },
    {
     "name": "stdout",
     "output_type": "stream",
     "text": [
      "epoch: 45\n",
      "Training loss: 1552.0873550907259\n",
      "Training rmse: 63.743233\n",
      "Validation loss: 18066.2734375\n",
      "Validation rmse: 17.223614401931037\n",
      "Validation mae: 13.268747\n",
      "Validation mape: 0.15915783\n",
      "Validation acc: 0.23567265272140503\n"
     ]
    },
    {
     "name": "stderr",
     "output_type": "stream",
     "text": [
      "<ipython-input-6-5c6a0450ba2d>:85: DeprecationWarning: np.asscalar(a) is deprecated since NumPy v1.16, use a.item() instead\n",
      "  validation_losses.append(np.asscalar(val_loss.detach().cpu().numpy()))\n"
     ]
    },
    {
     "name": "stdout",
     "output_type": "stream",
     "text": [
      "epoch: 46\n",
      "Training loss: 1548.8567571605834\n",
      "Training rmse: 63.716034\n",
      "Validation loss: 18323.494140625\n",
      "Validation rmse: 17.34578834446609\n",
      "Validation mae: 13.241097\n",
      "Validation mape: 0.1564225\n",
      "Validation acc: 0.2338765263557434\n"
     ]
    },
    {
     "name": "stderr",
     "output_type": "stream",
     "text": [
      "<ipython-input-6-5c6a0450ba2d>:85: DeprecationWarning: np.asscalar(a) is deprecated since NumPy v1.16, use a.item() instead\n",
      "  validation_losses.append(np.asscalar(val_loss.detach().cpu().numpy()))\n"
     ]
    },
    {
     "name": "stdout",
     "output_type": "stream",
     "text": [
      "epoch: 47\n",
      "Training loss: 1540.7196106175795\n",
      "Training rmse: 63.645023\n",
      "Validation loss: 17856.248046875\n",
      "Validation rmse: 17.123192907619842\n",
      "Validation mae: 13.337245\n",
      "Validation mape: 0.1642561\n",
      "Validation acc: 0.248060941696167\n"
     ]
    },
    {
     "name": "stderr",
     "output_type": "stream",
     "text": [
      "<ipython-input-6-5c6a0450ba2d>:85: DeprecationWarning: np.asscalar(a) is deprecated since NumPy v1.16, use a.item() instead\n",
      "  validation_losses.append(np.asscalar(val_loss.detach().cpu().numpy()))\n"
     ]
    },
    {
     "name": "stdout",
     "output_type": "stream",
     "text": [
      "epoch: 48\n",
      "Training loss: 1538.44236585829\n",
      "Training rmse: 63.62308\n",
      "Validation loss: 17745.900390625\n",
      "Validation rmse: 17.070197189255843\n",
      "Validation mae: 13.210442\n",
      "Validation mape: 0.16091308\n",
      "Validation acc: 0.24804216623306274\n"
     ]
    },
    {
     "name": "stderr",
     "output_type": "stream",
     "text": [
      "<ipython-input-6-5c6a0450ba2d>:85: DeprecationWarning: np.asscalar(a) is deprecated since NumPy v1.16, use a.item() instead\n",
      "  validation_losses.append(np.asscalar(val_loss.detach().cpu().numpy()))\n"
     ]
    },
    {
     "name": "stdout",
     "output_type": "stream",
     "text": [
      "epoch: 49\n",
      "Training loss: 1529.115262595556\n",
      "Training rmse: 63.543186\n",
      "Validation loss: 17765.486328125\n",
      "Validation rmse: 17.079608095483703\n",
      "Validation mae: 13.329512\n",
      "Validation mape: 0.1643919\n",
      "Validation acc: 0.2527030110359192\n"
     ]
    },
    {
     "name": "stderr",
     "output_type": "stream",
     "text": [
      "<ipython-input-6-5c6a0450ba2d>:85: DeprecationWarning: np.asscalar(a) is deprecated since NumPy v1.16, use a.item() instead\n",
      "  validation_losses.append(np.asscalar(val_loss.detach().cpu().numpy()))\n"
     ]
    },
    {
     "name": "stdout",
     "output_type": "stream",
     "text": [
      "epoch: 50\n",
      "Training loss: 1526.3436879804058\n",
      "Training rmse: 63.51937\n",
      "Validation loss: 18767.302734375\n",
      "Validation rmse: 17.55457450175025\n",
      "Validation mae: 13.264704\n",
      "Validation mape: 0.153013\n",
      "Validation acc: 0.24377381801605225\n"
     ]
    },
    {
     "name": "stderr",
     "output_type": "stream",
     "text": [
      "<ipython-input-6-5c6a0450ba2d>:85: DeprecationWarning: np.asscalar(a) is deprecated since NumPy v1.16, use a.item() instead\n",
      "  validation_losses.append(np.asscalar(val_loss.detach().cpu().numpy()))\n"
     ]
    },
    {
     "name": "stdout",
     "output_type": "stream",
     "text": [
      "epoch: 51\n",
      "Training loss: 1524.7442321777344\n",
      "Training rmse: 63.506912\n",
      "Validation loss: 17773.767578125\n",
      "Validation rmse: 17.083576976000135\n",
      "Validation mae: 13.125956\n",
      "Validation mape: 0.1578485\n",
      "Validation acc: 0.24693942070007324\n"
     ]
    },
    {
     "name": "stderr",
     "output_type": "stream",
     "text": [
      "<ipython-input-6-5c6a0450ba2d>:85: DeprecationWarning: np.asscalar(a) is deprecated since NumPy v1.16, use a.item() instead\n",
      "  validation_losses.append(np.asscalar(val_loss.detach().cpu().numpy()))\n"
     ]
    },
    {
     "name": "stdout",
     "output_type": "stream",
     "text": [
      "epoch: 52\n",
      "Training loss: 1519.1881003978006\n",
      "Training rmse: 63.456955\n",
      "Validation loss: 17728.791015625\n",
      "Validation rmse: 17.06194284947726\n",
      "Validation mae: 13.091015\n",
      "Validation mape: 0.15681106\n",
      "Validation acc: 0.25006991624832153\n"
     ]
    },
    {
     "name": "stderr",
     "output_type": "stream",
     "text": [
      "<ipython-input-6-5c6a0450ba2d>:85: DeprecationWarning: np.asscalar(a) is deprecated since NumPy v1.16, use a.item() instead\n",
      "  validation_losses.append(np.asscalar(val_loss.detach().cpu().numpy()))\n"
     ]
    },
    {
     "name": "stdout",
     "output_type": "stream",
     "text": [
      "epoch: 53\n",
      "Training loss: 1504.036859874657\n",
      "Training rmse: 63.323437\n",
      "Validation loss: 17811.013671875\n",
      "Validation rmse: 17.10145543022673\n",
      "Validation mae: 13.057046\n",
      "Validation mape: 0.1556559\n",
      "Validation acc: 0.24834614992141724\n"
     ]
    },
    {
     "name": "stderr",
     "output_type": "stream",
     "text": [
      "<ipython-input-6-5c6a0450ba2d>:85: DeprecationWarning: np.asscalar(a) is deprecated since NumPy v1.16, use a.item() instead\n",
      "  validation_losses.append(np.asscalar(val_loss.detach().cpu().numpy()))\n"
     ]
    },
    {
     "name": "stdout",
     "output_type": "stream",
     "text": [
      "epoch: 54\n",
      "Training loss: 1504.1103194041918\n",
      "Training rmse: 63.32462\n",
      "Validation loss: 19253.4609375\n",
      "Validation rmse: 17.78047422516832\n",
      "Validation mae: 13.365195\n",
      "Validation mape: 0.1522983\n",
      "Validation acc: 0.24668842554092407\n"
     ]
    },
    {
     "name": "stderr",
     "output_type": "stream",
     "text": [
      "<ipython-input-6-5c6a0450ba2d>:85: DeprecationWarning: np.asscalar(a) is deprecated since NumPy v1.16, use a.item() instead\n",
      "  validation_losses.append(np.asscalar(val_loss.detach().cpu().numpy()))\n"
     ]
    },
    {
     "name": "stdout",
     "output_type": "stream",
     "text": [
      "epoch: 55\n",
      "Training loss: 1509.4278453977304\n",
      "Training rmse: 63.369774\n",
      "Validation loss: 18147.376953125\n",
      "Validation rmse: 17.26217442895376\n",
      "Validation mae: 13.160933\n",
      "Validation mape: 0.15561146\n",
      "Validation acc: 0.23970699310302734\n"
     ]
    },
    {
     "name": "stderr",
     "output_type": "stream",
     "text": [
      "<ipython-input-6-5c6a0450ba2d>:85: DeprecationWarning: np.asscalar(a) is deprecated since NumPy v1.16, use a.item() instead\n",
      "  validation_losses.append(np.asscalar(val_loss.detach().cpu().numpy()))\n"
     ]
    },
    {
     "name": "stdout",
     "output_type": "stream",
     "text": [
      "epoch: 56\n",
      "Training loss: 1499.2538486056858\n",
      "Training rmse: 63.281246\n",
      "Validation loss: 19486.53515625\n",
      "Validation rmse: 17.887763315071442\n",
      "Validation mae: 13.443764\n",
      "Validation mape: 0.15260822\n",
      "Validation acc: 0.2467750906944275\n"
     ]
    },
    {
     "name": "stderr",
     "output_type": "stream",
     "text": [
      "<ipython-input-6-5c6a0450ba2d>:85: DeprecationWarning: np.asscalar(a) is deprecated since NumPy v1.16, use a.item() instead\n",
      "  validation_losses.append(np.asscalar(val_loss.detach().cpu().numpy()))\n"
     ]
    },
    {
     "name": "stdout",
     "output_type": "stream",
     "text": [
      "epoch: 57\n",
      "Training loss: 1493.8675421164455\n",
      "Training rmse: 63.236393\n",
      "Validation loss: 17813.349609375\n",
      "Validation rmse: 17.102554648013296\n",
      "Validation mae: 13.303511\n",
      "Validation mape: 0.16428024\n",
      "Validation acc: 0.25268518924713135\n"
     ]
    },
    {
     "name": "stderr",
     "output_type": "stream",
     "text": [
      "<ipython-input-6-5c6a0450ba2d>:85: DeprecationWarning: np.asscalar(a) is deprecated since NumPy v1.16, use a.item() instead\n",
      "  validation_losses.append(np.asscalar(val_loss.detach().cpu().numpy()))\n"
     ]
    },
    {
     "name": "stdout",
     "output_type": "stream",
     "text": [
      "epoch: 58\n",
      "Training loss: 1487.0258258559797\n",
      "Training rmse: 63.175964\n",
      "Validation loss: 18385.94921875\n",
      "Validation rmse: 17.37525379901192\n",
      "Validation mae: 13.639243\n",
      "Validation mape: 0.17078716\n",
      "Validation acc: 0.2455582618713379\n"
     ]
    },
    {
     "name": "stderr",
     "output_type": "stream",
     "text": [
      "<ipython-input-6-5c6a0450ba2d>:85: DeprecationWarning: np.asscalar(a) is deprecated since NumPy v1.16, use a.item() instead\n",
      "  validation_losses.append(np.asscalar(val_loss.detach().cpu().numpy()))\n"
     ]
    },
    {
     "name": "stdout",
     "output_type": "stream",
     "text": [
      "epoch: 59\n",
      "Training loss: 1484.5820983011663\n",
      "Training rmse: 63.15239\n",
      "Validation loss: 17727.328125\n",
      "Validation rmse: 17.061195183911227\n",
      "Validation mae: 13.063663\n",
      "Validation mape: 0.15647362\n",
      "Validation acc: 0.24984639883041382\n"
     ]
    },
    {
     "name": "stderr",
     "output_type": "stream",
     "text": [
      "<ipython-input-6-5c6a0450ba2d>:85: DeprecationWarning: np.asscalar(a) is deprecated since NumPy v1.16, use a.item() instead\n",
      "  validation_losses.append(np.asscalar(val_loss.detach().cpu().numpy()))\n"
     ]
    },
    {
     "name": "stdout",
     "output_type": "stream",
     "text": [
      "epoch: 60\n",
      "Training loss: 1476.8233370216944\n",
      "Training rmse: 63.084545\n",
      "Validation loss: 18028.5390625\n",
      "Validation rmse: 17.20552588122808\n",
      "Validation mae: 13.050868\n",
      "Validation mape: 0.1535667\n",
      "Validation acc: 0.2483418583869934\n"
     ]
    },
    {
     "name": "stderr",
     "output_type": "stream",
     "text": [
      "<ipython-input-6-5c6a0450ba2d>:85: DeprecationWarning: np.asscalar(a) is deprecated since NumPy v1.16, use a.item() instead\n",
      "  validation_losses.append(np.asscalar(val_loss.detach().cpu().numpy()))\n"
     ]
    },
    {
     "name": "stdout",
     "output_type": "stream",
     "text": [
      "epoch: 61\n",
      "Training loss: 1477.50290835801\n",
      "Training rmse: 63.086384\n",
      "Validation loss: 17712.79296875\n",
      "Validation rmse: 17.05418288305229\n",
      "Validation mae: 13.218916\n",
      "Validation mape: 0.16249923\n",
      "Validation acc: 0.253745973110199\n"
     ]
    },
    {
     "name": "stderr",
     "output_type": "stream",
     "text": [
      "<ipython-input-6-5c6a0450ba2d>:85: DeprecationWarning: np.asscalar(a) is deprecated since NumPy v1.16, use a.item() instead\n",
      "  validation_losses.append(np.asscalar(val_loss.detach().cpu().numpy()))\n"
     ]
    },
    {
     "name": "stdout",
     "output_type": "stream",
     "text": [
      "epoch: 62\n",
      "Training loss: 1471.8690290553595\n",
      "Training rmse: 63.036674\n",
      "Validation loss: 18519.91015625\n",
      "Validation rmse: 17.438409159486763\n",
      "Validation mae: 13.737417\n",
      "Validation mape: 0.17345971\n",
      "Validation acc: 0.25500160455703735\n"
     ]
    },
    {
     "name": "stderr",
     "output_type": "stream",
     "text": [
      "<ipython-input-6-5c6a0450ba2d>:85: DeprecationWarning: np.asscalar(a) is deprecated since NumPy v1.16, use a.item() instead\n",
      "  validation_losses.append(np.asscalar(val_loss.detach().cpu().numpy()))\n"
     ]
    },
    {
     "name": "stdout",
     "output_type": "stream",
     "text": [
      "epoch: 63\n",
      "Training loss: 1466.1451354761705\n",
      "Training rmse: 62.98733\n",
      "Validation loss: 17887.365234375\n",
      "Validation rmse: 17.13800490600359\n",
      "Validation mae: 13.365188\n",
      "Validation mape: 0.16572869\n",
      "Validation acc: 0.25285106897354126\n"
     ]
    },
    {
     "name": "stderr",
     "output_type": "stream",
     "text": [
      "<ipython-input-6-5c6a0450ba2d>:85: DeprecationWarning: np.asscalar(a) is deprecated since NumPy v1.16, use a.item() instead\n",
      "  validation_losses.append(np.asscalar(val_loss.detach().cpu().numpy()))\n"
     ]
    },
    {
     "name": "stdout",
     "output_type": "stream",
     "text": [
      "epoch: 64\n",
      "Training loss: 1463.2959251267082\n",
      "Training rmse: 62.96341\n",
      "Validation loss: 18068.1171875\n",
      "Validation rmse: 17.224369191438296\n",
      "Validation mae: 13.465401\n",
      "Validation mape: 0.16819736\n",
      "Validation acc: 0.2547655701637268\n"
     ]
    },
    {
     "name": "stderr",
     "output_type": "stream",
     "text": [
      "<ipython-input-6-5c6a0450ba2d>:85: DeprecationWarning: np.asscalar(a) is deprecated since NumPy v1.16, use a.item() instead\n",
      "  validation_losses.append(np.asscalar(val_loss.detach().cpu().numpy()))\n"
     ]
    },
    {
     "name": "stdout",
     "output_type": "stream",
     "text": [
      "epoch: 65\n",
      "Training loss: 1462.0860050980764\n",
      "Training rmse: 62.94988\n",
      "Validation loss: 17750.84375\n",
      "Validation rmse: 17.072459461668448\n",
      "Validation mae: 13.246854\n",
      "Validation mape: 0.16359493\n",
      "Validation acc: 0.2558444142341614\n"
     ]
    },
    {
     "name": "stderr",
     "output_type": "stream",
     "text": [
      "<ipython-input-6-5c6a0450ba2d>:85: DeprecationWarning: np.asscalar(a) is deprecated since NumPy v1.16, use a.item() instead\n",
      "  validation_losses.append(np.asscalar(val_loss.detach().cpu().numpy()))\n"
     ]
    },
    {
     "name": "stdout",
     "output_type": "stream",
     "text": [
      "epoch: 66\n",
      "Training loss: 1453.0850438490563\n",
      "Training rmse: 62.869347\n",
      "Validation loss: 19892.193359375\n",
      "Validation rmse: 18.072921544788006\n",
      "Validation mae: 14.436097\n",
      "Validation mape: 0.18577011\n",
      "Validation acc: 0.25655633211135864\n"
     ]
    },
    {
     "name": "stderr",
     "output_type": "stream",
     "text": [
      "<ipython-input-6-5c6a0450ba2d>:85: DeprecationWarning: np.asscalar(a) is deprecated since NumPy v1.16, use a.item() instead\n",
      "  validation_losses.append(np.asscalar(val_loss.detach().cpu().numpy()))\n"
     ]
    },
    {
     "name": "stdout",
     "output_type": "stream",
     "text": [
      "epoch: 67\n",
      "Training loss: 1454.6495827295446\n",
      "Training rmse: 62.883385\n",
      "Validation loss: 17708.001953125\n",
      "Validation rmse: 17.05182691166523\n",
      "Validation mae: 13.019519\n",
      "Validation mape: 0.15492526\n",
      "Validation acc: 0.2537386417388916\n"
     ]
    },
    {
     "name": "stderr",
     "output_type": "stream",
     "text": [
      "<ipython-input-6-5c6a0450ba2d>:85: DeprecationWarning: np.asscalar(a) is deprecated since NumPy v1.16, use a.item() instead\n",
      "  validation_losses.append(np.asscalar(val_loss.detach().cpu().numpy()))\n"
     ]
    },
    {
     "name": "stdout",
     "output_type": "stream",
     "text": [
      "epoch: 68\n",
      "Training loss: 1435.34323109179\n",
      "Training rmse: 62.70916\n",
      "Validation loss: 17586.990234375\n",
      "Validation rmse: 16.99345720830888\n",
      "Validation mae: 13.059637\n",
      "Validation mape: 0.15790737\n",
      "Validation acc: 0.25416481494903564\n"
     ]
    },
    {
     "name": "stderr",
     "output_type": "stream",
     "text": [
      "<ipython-input-6-5c6a0450ba2d>:85: DeprecationWarning: np.asscalar(a) is deprecated since NumPy v1.16, use a.item() instead\n",
      "  validation_losses.append(np.asscalar(val_loss.detach().cpu().numpy()))\n"
     ]
    },
    {
     "name": "stdout",
     "output_type": "stream",
     "text": [
      "epoch: 69\n",
      "Training loss: 1435.0424433882517\n",
      "Training rmse: 62.70458\n",
      "Validation loss: 17691.732421875\n",
      "Validation rmse: 17.043979975873263\n",
      "Validation mae: 13.283167\n",
      "Validation mape: 0.164827\n",
      "Validation acc: 0.26205193996429443\n"
     ]
    },
    {
     "name": "stderr",
     "output_type": "stream",
     "text": [
      "<ipython-input-6-5c6a0450ba2d>:85: DeprecationWarning: np.asscalar(a) is deprecated since NumPy v1.16, use a.item() instead\n",
      "  validation_losses.append(np.asscalar(val_loss.detach().cpu().numpy()))\n"
     ]
    },
    {
     "name": "stdout",
     "output_type": "stream",
     "text": [
      "epoch: 70\n",
      "Training loss: 1425.6099563653324\n",
      "Training rmse: 62.62026\n",
      "Validation loss: 17899.544921875\n",
      "Validation rmse: 17.143784961115465\n",
      "Validation mae: 13.007398\n",
      "Validation mape: 0.15266058\n",
      "Validation acc: 0.2563983201980591\n"
     ]
    },
    {
     "name": "stderr",
     "output_type": "stream",
     "text": [
      "<ipython-input-6-5c6a0450ba2d>:85: DeprecationWarning: np.asscalar(a) is deprecated since NumPy v1.16, use a.item() instead\n",
      "  validation_losses.append(np.asscalar(val_loss.detach().cpu().numpy()))\n"
     ]
    },
    {
     "name": "stdout",
     "output_type": "stream",
     "text": [
      "epoch: 71\n",
      "Training loss: 1412.4412591312093\n",
      "Training rmse: 62.502495\n",
      "Validation loss: 17777.974609375\n",
      "Validation rmse: 17.085459705539368\n",
      "Validation mae: 12.980616\n",
      "Validation mape: 0.15305988\n",
      "Validation acc: 0.25714510679244995\n"
     ]
    },
    {
     "name": "stderr",
     "output_type": "stream",
     "text": [
      "<ipython-input-6-5c6a0450ba2d>:85: DeprecationWarning: np.asscalar(a) is deprecated since NumPy v1.16, use a.item() instead\n",
      "  validation_losses.append(np.asscalar(val_loss.detach().cpu().numpy()))\n"
     ]
    },
    {
     "name": "stdout",
     "output_type": "stream",
     "text": [
      "epoch: 72\n",
      "Training loss: 1414.7700947860662\n",
      "Training rmse: 62.521217\n",
      "Validation loss: 17871.388671875\n",
      "Validation rmse: 17.13028473999885\n",
      "Validation mae: 13.399392\n",
      "Validation mape: 0.16769232\n",
      "Validation acc: 0.2669646739959717\n"
     ]
    },
    {
     "name": "stderr",
     "output_type": "stream",
     "text": [
      "<ipython-input-6-5c6a0450ba2d>:85: DeprecationWarning: np.asscalar(a) is deprecated since NumPy v1.16, use a.item() instead\n",
      "  validation_losses.append(np.asscalar(val_loss.detach().cpu().numpy()))\n"
     ]
    },
    {
     "name": "stdout",
     "output_type": "stream",
     "text": [
      "epoch: 73\n",
      "Training loss: 1403.0730944124175\n",
      "Training rmse: 62.418297\n",
      "Validation loss: 17392.28125\n",
      "Validation rmse: 16.899092140868007\n",
      "Validation mae: 13.044146\n",
      "Validation mape: 0.15974012\n",
      "Validation acc: 0.2657387852668762\n"
     ]
    },
    {
     "name": "stderr",
     "output_type": "stream",
     "text": [
      "<ipython-input-6-5c6a0450ba2d>:85: DeprecationWarning: np.asscalar(a) is deprecated since NumPy v1.16, use a.item() instead\n",
      "  validation_losses.append(np.asscalar(val_loss.detach().cpu().numpy()))\n"
     ]
    },
    {
     "name": "stdout",
     "output_type": "stream",
     "text": [
      "epoch: 74\n",
      "Training loss: 1395.1274767366363\n",
      "Training rmse: 62.341354\n",
      "Validation loss: 17338.326171875\n",
      "Validation rmse: 16.872853234397887\n",
      "Validation mae: 12.984244\n",
      "Validation mape: 0.1578668\n",
      "Validation acc: 0.2653030753135681\n"
     ]
    },
    {
     "name": "stderr",
     "output_type": "stream",
     "text": [
      "<ipython-input-6-5c6a0450ba2d>:85: DeprecationWarning: np.asscalar(a) is deprecated since NumPy v1.16, use a.item() instead\n",
      "  validation_losses.append(np.asscalar(val_loss.detach().cpu().numpy()))\n"
     ]
    },
    {
     "name": "stdout",
     "output_type": "stream",
     "text": [
      "epoch: 75\n",
      "Training loss: 1398.0330674913193\n",
      "Training rmse: 62.36905\n",
      "Validation loss: 17317.90234375\n",
      "Validation rmse: 16.86290618429898\n",
      "Validation mae: 12.887263\n",
      "Validation mape: 0.15484907\n",
      "Validation acc: 0.2661970257759094\n"
     ]
    },
    {
     "name": "stderr",
     "output_type": "stream",
     "text": [
      "<ipython-input-6-5c6a0450ba2d>:85: DeprecationWarning: np.asscalar(a) is deprecated since NumPy v1.16, use a.item() instead\n",
      "  validation_losses.append(np.asscalar(val_loss.detach().cpu().numpy()))\n"
     ]
    },
    {
     "name": "stdout",
     "output_type": "stream",
     "text": [
      "epoch: 76\n",
      "Training loss: 1395.1174954103312\n",
      "Training rmse: 62.342255\n",
      "Validation loss: 17326.646484375\n",
      "Validation rmse: 16.867157646742918\n",
      "Validation mae: 13.017556\n",
      "Validation mape: 0.15873896\n",
      "Validation acc: 0.26637160778045654\n"
     ]
    },
    {
     "name": "stderr",
     "output_type": "stream",
     "text": [
      "<ipython-input-6-5c6a0450ba2d>:85: DeprecationWarning: np.asscalar(a) is deprecated since NumPy v1.16, use a.item() instead\n",
      "  validation_losses.append(np.asscalar(val_loss.detach().cpu().numpy()))\n"
     ]
    },
    {
     "name": "stdout",
     "output_type": "stream",
     "text": [
      "epoch: 77\n",
      "Training loss: 1375.5392142128346\n",
      "Training rmse: 62.165882\n",
      "Validation loss: 17450.4296875\n",
      "Validation rmse: 16.927297073971047\n",
      "Validation mae: 13.091972\n",
      "Validation mape: 0.16093093\n",
      "Validation acc: 0.26547133922576904\n"
     ]
    },
    {
     "name": "stderr",
     "output_type": "stream",
     "text": [
      "<ipython-input-6-5c6a0450ba2d>:85: DeprecationWarning: np.asscalar(a) is deprecated since NumPy v1.16, use a.item() instead\n",
      "  validation_losses.append(np.asscalar(val_loss.detach().cpu().numpy()))\n"
     ]
    },
    {
     "name": "stdout",
     "output_type": "stream",
     "text": [
      "epoch: 78\n",
      "Training loss: 1368.4281430261537\n",
      "Training rmse: 62.10029\n",
      "Validation loss: 17450.083984375\n",
      "Validation rmse: 16.92712489978871\n",
      "Validation mae: 12.9186325\n",
      "Validation mape: 0.15444529\n",
      "Validation acc: 0.2620853781700134\n"
     ]
    },
    {
     "name": "stderr",
     "output_type": "stream",
     "text": [
      "<ipython-input-6-5c6a0450ba2d>:85: DeprecationWarning: np.asscalar(a) is deprecated since NumPy v1.16, use a.item() instead\n",
      "  validation_losses.append(np.asscalar(val_loss.detach().cpu().numpy()))\n"
     ]
    },
    {
     "name": "stdout",
     "output_type": "stream",
     "text": [
      "epoch: 79\n",
      "Training loss: 1367.2110133017263\n",
      "Training rmse: 62.08806\n",
      "Validation loss: 19070.49609375\n",
      "Validation rmse: 17.695630688364414\n",
      "Validation mae: 14.08042\n",
      "Validation mape: 0.18007618\n",
      "Validation acc: 0.2698538303375244\n"
     ]
    },
    {
     "name": "stderr",
     "output_type": "stream",
     "text": [
      "<ipython-input-6-5c6a0450ba2d>:85: DeprecationWarning: np.asscalar(a) is deprecated since NumPy v1.16, use a.item() instead\n",
      "  validation_losses.append(np.asscalar(val_loss.detach().cpu().numpy()))\n"
     ]
    },
    {
     "name": "stdout",
     "output_type": "stream",
     "text": [
      "epoch: 80\n",
      "Training loss: 1373.29006203272\n",
      "Training rmse: 62.142963\n",
      "Validation loss: 17573.47265625\n",
      "Validation rmse: 16.986858000423812\n",
      "Validation mae: 12.922153\n",
      "Validation mape: 0.15312387\n",
      "Validation acc: 0.26227134466171265\n"
     ]
    },
    {
     "name": "stderr",
     "output_type": "stream",
     "text": [
      "<ipython-input-6-5c6a0450ba2d>:85: DeprecationWarning: np.asscalar(a) is deprecated since NumPy v1.16, use a.item() instead\n",
      "  validation_losses.append(np.asscalar(val_loss.detach().cpu().numpy()))\n"
     ]
    },
    {
     "name": "stdout",
     "output_type": "stream",
     "text": [
      "epoch: 81\n",
      "Training loss: 1360.7338353092098\n",
      "Training rmse: 62.02526\n",
      "Validation loss: 17365.595703125\n",
      "Validation rmse: 16.886082153886747\n",
      "Validation mae: 12.9670725\n",
      "Validation mape: 0.15778434\n",
      "Validation acc: 0.2644079327583313\n"
     ]
    },
    {
     "name": "stderr",
     "output_type": "stream",
     "text": [
      "<ipython-input-6-5c6a0450ba2d>:85: DeprecationWarning: np.asscalar(a) is deprecated since NumPy v1.16, use a.item() instead\n",
      "  validation_losses.append(np.asscalar(val_loss.detach().cpu().numpy()))\n"
     ]
    },
    {
     "name": "stdout",
     "output_type": "stream",
     "text": [
      "epoch: 82\n",
      "Training loss: 1359.87450023364\n",
      "Training rmse: 62.01831\n",
      "Validation loss: 18884.625\n",
      "Validation rmse: 17.6091687682023\n",
      "Validation mae: 13.949183\n",
      "Validation mape: 0.17815493\n",
      "Validation acc: 0.2726617455482483\n"
     ]
    },
    {
     "name": "stderr",
     "output_type": "stream",
     "text": [
      "<ipython-input-6-5c6a0450ba2d>:85: DeprecationWarning: np.asscalar(a) is deprecated since NumPy v1.16, use a.item() instead\n",
      "  validation_losses.append(np.asscalar(val_loss.detach().cpu().numpy()))\n"
     ]
    },
    {
     "name": "stdout",
     "output_type": "stream",
     "text": [
      "epoch: 83\n",
      "Training loss: 1358.9564587446096\n",
      "Training rmse: 62.00938\n",
      "Validation loss: 17660.435546875\n",
      "Validation rmse: 17.028825443820068\n",
      "Validation mae: 12.944349\n",
      "Validation mape: 0.15308225\n",
      "Validation acc: 0.2601735591888428\n"
     ]
    },
    {
     "name": "stderr",
     "output_type": "stream",
     "text": [
      "<ipython-input-6-5c6a0450ba2d>:85: DeprecationWarning: np.asscalar(a) is deprecated since NumPy v1.16, use a.item() instead\n",
      "  validation_losses.append(np.asscalar(val_loss.detach().cpu().numpy()))\n"
     ]
    },
    {
     "name": "stdout",
     "output_type": "stream",
     "text": [
      "epoch: 84\n",
      "Training loss: 1354.9557253382966\n",
      "Training rmse: 61.97361\n",
      "Validation loss: 17521.822265625\n",
      "Validation rmse: 16.961859609031208\n",
      "Validation mae: 12.918731\n",
      "Validation mape: 0.1542803\n",
      "Validation acc: 0.259732186794281\n"
     ]
    },
    {
     "name": "stderr",
     "output_type": "stream",
     "text": [
      "<ipython-input-6-5c6a0450ba2d>:85: DeprecationWarning: np.asscalar(a) is deprecated since NumPy v1.16, use a.item() instead\n",
      "  validation_losses.append(np.asscalar(val_loss.detach().cpu().numpy()))\n"
     ]
    },
    {
     "name": "stdout",
     "output_type": "stream",
     "text": [
      "epoch: 85\n",
      "Training loss: 1345.050793500784\n",
      "Training rmse: 61.881023\n",
      "Validation loss: 17582.033203125\n",
      "Validation rmse: 16.990975172269764\n",
      "Validation mae: 13.004041\n",
      "Validation mape: 0.1572482\n",
      "Validation acc: 0.25438690185546875\n"
     ]
    },
    {
     "name": "stderr",
     "output_type": "stream",
     "text": [
      "<ipython-input-6-5c6a0450ba2d>:85: DeprecationWarning: np.asscalar(a) is deprecated since NumPy v1.16, use a.item() instead\n",
      "  validation_losses.append(np.asscalar(val_loss.detach().cpu().numpy()))\n"
     ]
    },
    {
     "name": "stdout",
     "output_type": "stream",
     "text": [
      "epoch: 86\n",
      "Training loss: 1341.445569985229\n",
      "Training rmse: 61.848946\n",
      "Validation loss: 17710.298828125\n",
      "Validation rmse: 17.052839849240012\n",
      "Validation mae: 12.9589405\n",
      "Validation mape: 0.15376209\n",
      "Validation acc: 0.2559257745742798\n"
     ]
    },
    {
     "name": "stderr",
     "output_type": "stream",
     "text": [
      "<ipython-input-6-5c6a0450ba2d>:85: DeprecationWarning: np.asscalar(a) is deprecated since NumPy v1.16, use a.item() instead\n",
      "  validation_losses.append(np.asscalar(val_loss.detach().cpu().numpy()))\n"
     ]
    },
    {
     "name": "stdout",
     "output_type": "stream",
     "text": [
      "epoch: 87\n",
      "Training loss: 1348.9866778192554\n",
      "Training rmse: 61.919186\n",
      "Validation loss: 17539.505859375\n",
      "Validation rmse: 16.97040629865432\n",
      "Validation mae: 13.02254\n",
      "Validation mape: 0.15843654\n",
      "Validation acc: 0.25694042444229126\n"
     ]
    },
    {
     "name": "stderr",
     "output_type": "stream",
     "text": [
      "<ipython-input-6-5c6a0450ba2d>:85: DeprecationWarning: np.asscalar(a) is deprecated since NumPy v1.16, use a.item() instead\n",
      "  validation_losses.append(np.asscalar(val_loss.detach().cpu().numpy()))\n"
     ]
    },
    {
     "name": "stdout",
     "output_type": "stream",
     "text": [
      "epoch: 88\n",
      "Training loss: 1335.1053086147513\n",
      "Training rmse: 61.789585\n",
      "Validation loss: 17699.17578125\n",
      "Validation rmse: 17.047476501761924\n",
      "Validation mae: 13.193024\n",
      "Validation mape: 0.16306147\n",
      "Validation acc: 0.2588568329811096\n"
     ]
    },
    {
     "name": "stderr",
     "output_type": "stream",
     "text": [
      "<ipython-input-6-5c6a0450ba2d>:85: DeprecationWarning: np.asscalar(a) is deprecated since NumPy v1.16, use a.item() instead\n",
      "  validation_losses.append(np.asscalar(val_loss.detach().cpu().numpy()))\n"
     ]
    },
    {
     "name": "stdout",
     "output_type": "stream",
     "text": [
      "epoch: 89\n",
      "Training loss: 1331.988506686303\n",
      "Training rmse: 61.760437\n",
      "Validation loss: 17567.33984375\n",
      "Validation rmse: 16.983861106531034\n",
      "Validation mae: 13.055641\n",
      "Validation mape: 0.15950531\n",
      "Validation acc: 0.25670158863067627\n"
     ]
    },
    {
     "name": "stderr",
     "output_type": "stream",
     "text": [
      "<ipython-input-6-5c6a0450ba2d>:85: DeprecationWarning: np.asscalar(a) is deprecated since NumPy v1.16, use a.item() instead\n",
      "  validation_losses.append(np.asscalar(val_loss.detach().cpu().numpy()))\n"
     ]
    },
    {
     "name": "stdout",
     "output_type": "stream",
     "text": [
      "epoch: 90\n",
      "Training loss: 1329.6183216819627\n",
      "Training rmse: 61.7361\n",
      "Validation loss: 17672.828125\n",
      "Validation rmse: 17.03477332391792\n",
      "Validation mae: 12.956321\n",
      "Validation mape: 0.1546561\n",
      "Validation acc: 0.25377607345581055\n"
     ]
    },
    {
     "name": "stderr",
     "output_type": "stream",
     "text": [
      "<ipython-input-6-5c6a0450ba2d>:85: DeprecationWarning: np.asscalar(a) is deprecated since NumPy v1.16, use a.item() instead\n",
      "  validation_losses.append(np.asscalar(val_loss.detach().cpu().numpy()))\n"
     ]
    },
    {
     "name": "stdout",
     "output_type": "stream",
     "text": [
      "epoch: 91\n",
      "Training loss: 1326.63087359466\n",
      "Training rmse: 61.706814\n",
      "Validation loss: 17688.763671875\n",
      "Validation rmse: 17.04245080364122\n",
      "Validation mae: 12.973684\n",
      "Validation mape: 0.15552002\n",
      "Validation acc: 0.25124162435531616\n"
     ]
    },
    {
     "name": "stderr",
     "output_type": "stream",
     "text": [
      "<ipython-input-6-5c6a0450ba2d>:85: DeprecationWarning: np.asscalar(a) is deprecated since NumPy v1.16, use a.item() instead\n",
      "  validation_losses.append(np.asscalar(val_loss.detach().cpu().numpy()))\n"
     ]
    },
    {
     "name": "stdout",
     "output_type": "stream",
     "text": [
      "epoch: 92\n",
      "Training loss: 1325.244887922827\n",
      "Training rmse: 61.69704\n",
      "Validation loss: 17800.29296875\n",
      "Validation rmse: 17.096091268764386\n",
      "Validation mae: 13.213505\n",
      "Validation mape: 0.16300876\n",
      "Validation acc: 0.25309640169143677\n"
     ]
    },
    {
     "name": "stderr",
     "output_type": "stream",
     "text": [
      "<ipython-input-6-5c6a0450ba2d>:85: DeprecationWarning: np.asscalar(a) is deprecated since NumPy v1.16, use a.item() instead\n",
      "  validation_losses.append(np.asscalar(val_loss.detach().cpu().numpy()))\n"
     ]
    },
    {
     "name": "stdout",
     "output_type": "stream",
     "text": [
      "epoch: 93\n",
      "Training loss: 1320.5612008699807\n",
      "Training rmse: 61.65451\n",
      "Validation loss: 17898.921875\n",
      "Validation rmse: 17.143388885243873\n",
      "Validation mae: 13.273423\n",
      "Validation mape: 0.16443886\n",
      "Validation acc: 0.25271522998809814\n"
     ]
    },
    {
     "name": "stderr",
     "output_type": "stream",
     "text": [
      "<ipython-input-6-5c6a0450ba2d>:85: DeprecationWarning: np.asscalar(a) is deprecated since NumPy v1.16, use a.item() instead\n",
      "  validation_losses.append(np.asscalar(val_loss.detach().cpu().numpy()))\n"
     ]
    },
    {
     "name": "stdout",
     "output_type": "stream",
     "text": [
      "epoch: 94\n",
      "Training loss: 1314.6141794949876\n",
      "Training rmse: 61.59353\n",
      "Validation loss: 17562.40625\n",
      "Validation rmse: 16.981456741012387\n",
      "Validation mae: 12.995883\n",
      "Validation mape: 0.15764926\n",
      "Validation acc: 0.2553114891052246\n"
     ]
    },
    {
     "name": "stderr",
     "output_type": "stream",
     "text": [
      "<ipython-input-6-5c6a0450ba2d>:85: DeprecationWarning: np.asscalar(a) is deprecated since NumPy v1.16, use a.item() instead\n",
      "  validation_losses.append(np.asscalar(val_loss.detach().cpu().numpy()))\n"
     ]
    },
    {
     "name": "stdout",
     "output_type": "stream",
     "text": [
      "epoch: 95\n",
      "Training loss: 1312.2817545791681\n",
      "Training rmse: 61.575497\n",
      "Validation loss: 17935.603515625\n",
      "Validation rmse: 17.160939171617418\n",
      "Validation mae: 13.285469\n",
      "Validation mape: 0.1646479\n",
      "Validation acc: 0.2506512403488159\n"
     ]
    },
    {
     "name": "stderr",
     "output_type": "stream",
     "text": [
      "<ipython-input-6-5c6a0450ba2d>:85: DeprecationWarning: np.asscalar(a) is deprecated since NumPy v1.16, use a.item() instead\n",
      "  validation_losses.append(np.asscalar(val_loss.detach().cpu().numpy()))\n"
     ]
    },
    {
     "name": "stdout",
     "output_type": "stream",
     "text": [
      "epoch: 96\n",
      "Training loss: 1307.0783316225989\n",
      "Training rmse: 61.5226\n",
      "Validation loss: 18107.0546875\n",
      "Validation rmse: 17.24276625954345\n",
      "Validation mae: 13.064615\n",
      "Validation mape: 0.15436378\n",
      "Validation acc: 0.24199259281158447\n"
     ]
    },
    {
     "name": "stderr",
     "output_type": "stream",
     "text": [
      "<ipython-input-6-5c6a0450ba2d>:85: DeprecationWarning: np.asscalar(a) is deprecated since NumPy v1.16, use a.item() instead\n",
      "  validation_losses.append(np.asscalar(val_loss.detach().cpu().numpy()))\n"
     ]
    },
    {
     "name": "stdout",
     "output_type": "stream",
     "text": [
      "epoch: 97\n",
      "Training loss: 1302.2418705109626\n",
      "Training rmse: 61.47987\n",
      "Validation loss: 18232.619140625\n",
      "Validation rmse: 17.302445890366556\n",
      "Validation mae: 13.36979\n",
      "Validation mape: 0.16548435\n",
      "Validation acc: 0.2383739948272705\n"
     ]
    },
    {
     "name": "stderr",
     "output_type": "stream",
     "text": [
      "<ipython-input-6-5c6a0450ba2d>:85: DeprecationWarning: np.asscalar(a) is deprecated since NumPy v1.16, use a.item() instead\n",
      "  validation_losses.append(np.asscalar(val_loss.detach().cpu().numpy()))\n"
     ]
    },
    {
     "name": "stdout",
     "output_type": "stream",
     "text": [
      "epoch: 98\n",
      "Training loss: 1301.9356906029486\n",
      "Training rmse: 61.474506\n",
      "Validation loss: 17721.91015625\n",
      "Validation rmse: 17.058383990151842\n",
      "Validation mae: 13.1015415\n",
      "Validation mape: 0.16065794\n",
      "Validation acc: 0.25140923261642456\n"
     ]
    },
    {
     "name": "stderr",
     "output_type": "stream",
     "text": [
      "<ipython-input-6-5c6a0450ba2d>:85: DeprecationWarning: np.asscalar(a) is deprecated since NumPy v1.16, use a.item() instead\n",
      "  validation_losses.append(np.asscalar(val_loss.detach().cpu().numpy()))\n"
     ]
    },
    {
     "name": "stdout",
     "output_type": "stream",
     "text": [
      "epoch: 99\n",
      "Training loss: 1293.164596502926\n",
      "Training rmse: 61.390022\n",
      "Validation loss: 18207.412109375\n",
      "Validation rmse: 17.290474552594162\n",
      "Validation mae: 13.384443\n",
      "Validation mape: 0.16693592\n",
      "Validation acc: 0.24684256315231323\n"
     ]
    },
    {
     "name": "stderr",
     "output_type": "stream",
     "text": [
      "<ipython-input-6-5c6a0450ba2d>:85: DeprecationWarning: np.asscalar(a) is deprecated since NumPy v1.16, use a.item() instead\n",
      "  validation_losses.append(np.asscalar(val_loss.detach().cpu().numpy()))\n"
     ]
    },
    {
     "name": "stdout",
     "output_type": "stream",
     "text": [
      "epoch: 100\n",
      "Training loss: 1296.2832767390862\n",
      "Training rmse: 61.419838\n",
      "Validation loss: 18105.982421875\n",
      "Validation rmse: 17.242240598015204\n",
      "Validation mae: 13.075286\n",
      "Validation mape: 0.15556854\n",
      "Validation acc: 0.23755013942718506\n"
     ]
    },
    {
     "name": "stderr",
     "output_type": "stream",
     "text": [
      "<ipython-input-6-5c6a0450ba2d>:85: DeprecationWarning: np.asscalar(a) is deprecated since NumPy v1.16, use a.item() instead\n",
      "  validation_losses.append(np.asscalar(val_loss.detach().cpu().numpy()))\n"
     ]
    },
    {
     "name": "stdout",
     "output_type": "stream",
     "text": [
      "epoch: 101\n",
      "Training loss: 1291.3258047890065\n",
      "Training rmse: 61.37599\n",
      "Validation loss: 17942.986328125\n",
      "Validation rmse: 17.16444832008336\n",
      "Validation mae: 13.178685\n",
      "Validation mape: 0.16225642\n",
      "Validation acc: 0.24485409259796143\n"
     ]
    },
    {
     "name": "stderr",
     "output_type": "stream",
     "text": [
      "<ipython-input-6-5c6a0450ba2d>:85: DeprecationWarning: np.asscalar(a) is deprecated since NumPy v1.16, use a.item() instead\n",
      "  validation_losses.append(np.asscalar(val_loss.detach().cpu().numpy()))\n"
     ]
    },
    {
     "name": "stdout",
     "output_type": "stream",
     "text": [
      "epoch: 102\n",
      "Training loss: 1287.7839491102432\n",
      "Training rmse: 61.34321\n",
      "Validation loss: 18081.3828125\n",
      "Validation rmse: 17.230517899074087\n",
      "Validation mae: 13.165574\n",
      "Validation mape: 0.16077729\n",
      "Validation acc: 0.23509705066680908\n"
     ]
    },
    {
     "name": "stderr",
     "output_type": "stream",
     "text": [
      "<ipython-input-6-5c6a0450ba2d>:85: DeprecationWarning: np.asscalar(a) is deprecated since NumPy v1.16, use a.item() instead\n",
      "  validation_losses.append(np.asscalar(val_loss.detach().cpu().numpy()))\n"
     ]
    },
    {
     "name": "stdout",
     "output_type": "stream",
     "text": [
      "epoch: 103\n",
      "Training loss: 1292.0683307169159\n",
      "Training rmse: 61.380222\n",
      "Validation loss: 18039.251953125\n",
      "Validation rmse: 17.210425051948892\n",
      "Validation mae: 13.055663\n",
      "Validation mape: 0.15591848\n",
      "Validation acc: 0.2386915683746338\n"
     ]
    },
    {
     "name": "stderr",
     "output_type": "stream",
     "text": [
      "<ipython-input-6-5c6a0450ba2d>:85: DeprecationWarning: np.asscalar(a) is deprecated since NumPy v1.16, use a.item() instead\n",
      "  validation_losses.append(np.asscalar(val_loss.detach().cpu().numpy()))\n"
     ]
    },
    {
     "name": "stdout",
     "output_type": "stream",
     "text": [
      "epoch: 104\n",
      "Training loss: 1280.6368290070563\n",
      "Training rmse: 61.273464\n",
      "Validation loss: 18033.818359375\n",
      "Validation rmse: 17.207831547081533\n",
      "Validation mae: 13.164243\n",
      "Validation mape: 0.16100952\n",
      "Validation acc: 0.2373531460762024\n"
     ]
    },
    {
     "name": "stderr",
     "output_type": "stream",
     "text": [
      "<ipython-input-6-5c6a0450ba2d>:85: DeprecationWarning: np.asscalar(a) is deprecated since NumPy v1.16, use a.item() instead\n",
      "  validation_losses.append(np.asscalar(val_loss.detach().cpu().numpy()))\n"
     ]
    },
    {
     "name": "stdout",
     "output_type": "stream",
     "text": [
      "epoch: 105\n",
      "Training loss: 1279.6546839778996\n",
      "Training rmse: 61.263996\n",
      "Validation loss: 17870.720703125\n",
      "Validation rmse: 17.129833124152963\n",
      "Validation mae: 13.109048\n",
      "Validation mape: 0.16067554\n",
      "Validation acc: 0.24467504024505615\n"
     ]
    },
    {
     "name": "stderr",
     "output_type": "stream",
     "text": [
      "<ipython-input-6-5c6a0450ba2d>:85: DeprecationWarning: np.asscalar(a) is deprecated since NumPy v1.16, use a.item() instead\n",
      "  validation_losses.append(np.asscalar(val_loss.detach().cpu().numpy()))\n"
     ]
    },
    {
     "name": "stdout",
     "output_type": "stream",
     "text": [
      "epoch: 106\n",
      "Training loss: 1277.3997539123754\n",
      "Training rmse: 61.240536\n",
      "Validation loss: 18428.970703125\n",
      "Validation rmse: 17.395337832888227\n",
      "Validation mae: 13.436205\n",
      "Validation mape: 0.16823278\n",
      "Validation acc: 0.2421538233757019\n"
     ]
    },
    {
     "name": "stderr",
     "output_type": "stream",
     "text": [
      "<ipython-input-6-5c6a0450ba2d>:85: DeprecationWarning: np.asscalar(a) is deprecated since NumPy v1.16, use a.item() instead\n",
      "  validation_losses.append(np.asscalar(val_loss.detach().cpu().numpy()))\n"
     ]
    },
    {
     "name": "stdout",
     "output_type": "stream",
     "text": [
      "epoch: 107\n",
      "Training loss: 1275.5084006470165\n",
      "Training rmse: 61.22148\n",
      "Validation loss: 18323.015625\n",
      "Validation rmse: 17.345254368878358\n",
      "Validation mae: 13.355952\n",
      "Validation mape: 0.1661678\n",
      "Validation acc: 0.23893409967422485\n"
     ]
    },
    {
     "name": "stderr",
     "output_type": "stream",
     "text": [
      "<ipython-input-6-5c6a0450ba2d>:85: DeprecationWarning: np.asscalar(a) is deprecated since NumPy v1.16, use a.item() instead\n",
      "  validation_losses.append(np.asscalar(val_loss.detach().cpu().numpy()))\n"
     ]
    },
    {
     "name": "stdout",
     "output_type": "stream",
     "text": [
      "epoch: 108\n",
      "Training loss: 1271.1275244271883\n",
      "Training rmse: 61.18167\n",
      "Validation loss: 18027.4921875\n",
      "Validation rmse: 17.204799532488746\n",
      "Validation mae: 13.181635\n",
      "Validation mape: 0.16186346\n",
      "Validation acc: 0.2386418581008911\n"
     ]
    },
    {
     "name": "stderr",
     "output_type": "stream",
     "text": [
      "<ipython-input-6-5c6a0450ba2d>:85: DeprecationWarning: np.asscalar(a) is deprecated since NumPy v1.16, use a.item() instead\n",
      "  validation_losses.append(np.asscalar(val_loss.detach().cpu().numpy()))\n"
     ]
    },
    {
     "name": "stdout",
     "output_type": "stream",
     "text": [
      "epoch: 109\n",
      "Training loss: 1267.4675498606912\n",
      "Training rmse: 61.14778\n",
      "Validation loss: 17938.455078125\n",
      "Validation rmse: 17.16225507523933\n",
      "Validation mae: 13.193429\n",
      "Validation mape: 0.16231586\n",
      "Validation acc: 0.24277722835540771\n"
     ]
    },
    {
     "name": "stderr",
     "output_type": "stream",
     "text": [
      "<ipython-input-6-5c6a0450ba2d>:85: DeprecationWarning: np.asscalar(a) is deprecated since NumPy v1.16, use a.item() instead\n",
      "  validation_losses.append(np.asscalar(val_loss.detach().cpu().numpy()))\n"
     ]
    },
    {
     "name": "stdout",
     "output_type": "stream",
     "text": [
      "epoch: 110\n",
      "Training loss: 1261.9901932473679\n",
      "Training rmse: 61.09144\n",
      "Validation loss: 18436.595703125\n",
      "Validation rmse: 17.398923362659183\n",
      "Validation mae: 13.374512\n",
      "Validation mape: 0.16536987\n",
      "Validation acc: 0.2269437313079834\n"
     ]
    },
    {
     "name": "stderr",
     "output_type": "stream",
     "text": [
      "<ipython-input-6-5c6a0450ba2d>:85: DeprecationWarning: np.asscalar(a) is deprecated since NumPy v1.16, use a.item() instead\n",
      "  validation_losses.append(np.asscalar(val_loss.detach().cpu().numpy()))\n"
     ]
    },
    {
     "name": "stdout",
     "output_type": "stream",
     "text": [
      "epoch: 111\n",
      "Training loss: 1268.0505137016269\n",
      "Training rmse: 61.147846\n",
      "Validation loss: 18081.69140625\n",
      "Validation rmse: 17.23063479360598\n",
      "Validation mae: 13.117243\n",
      "Validation mape: 0.15977511\n",
      "Validation acc: 0.23384571075439453\n"
     ]
    },
    {
     "name": "stderr",
     "output_type": "stream",
     "text": [
      "<ipython-input-6-5c6a0450ba2d>:85: DeprecationWarning: np.asscalar(a) is deprecated since NumPy v1.16, use a.item() instead\n",
      "  validation_losses.append(np.asscalar(val_loss.detach().cpu().numpy()))\n"
     ]
    },
    {
     "name": "stdout",
     "output_type": "stream",
     "text": [
      "epoch: 112\n",
      "Training loss: 1259.3306593809505\n",
      "Training rmse: 61.067562\n",
      "Validation loss: 18323.634765625\n",
      "Validation rmse: 17.345530595534544\n",
      "Validation mae: 13.155759\n",
      "Validation mape: 0.15668221\n",
      "Validation acc: 0.2288665771484375\n"
     ]
    },
    {
     "name": "stderr",
     "output_type": "stream",
     "text": [
      "<ipython-input-6-5c6a0450ba2d>:85: DeprecationWarning: np.asscalar(a) is deprecated since NumPy v1.16, use a.item() instead\n",
      "  validation_losses.append(np.asscalar(val_loss.detach().cpu().numpy()))\n"
     ]
    },
    {
     "name": "stdout",
     "output_type": "stream",
     "text": [
      "epoch: 113\n",
      "Training loss: 1266.3889739880851\n",
      "Training rmse: 61.133015\n",
      "Validation loss: 18464.2109375\n",
      "Validation rmse: 17.41194013255523\n",
      "Validation mae: 13.399736\n",
      "Validation mape: 0.16726847\n",
      "Validation acc: 0.23591870069503784\n"
     ]
    },
    {
     "name": "stderr",
     "output_type": "stream",
     "text": [
      "<ipython-input-6-5c6a0450ba2d>:85: DeprecationWarning: np.asscalar(a) is deprecated since NumPy v1.16, use a.item() instead\n",
      "  validation_losses.append(np.asscalar(val_loss.detach().cpu().numpy()))\n"
     ]
    },
    {
     "name": "stdout",
     "output_type": "stream",
     "text": [
      "epoch: 114\n",
      "Training loss: 1253.9669087727864\n",
      "Training rmse: 61.015835\n",
      "Validation loss: 18287.4609375\n",
      "Validation rmse: 17.328392694054894\n",
      "Validation mae: 13.292594\n",
      "Validation mape: 0.16395085\n",
      "Validation acc: 0.2305302619934082\n"
     ]
    },
    {
     "name": "stderr",
     "output_type": "stream",
     "text": [
      "<ipython-input-6-5c6a0450ba2d>:85: DeprecationWarning: np.asscalar(a) is deprecated since NumPy v1.16, use a.item() instead\n",
      "  validation_losses.append(np.asscalar(val_loss.detach().cpu().numpy()))\n"
     ]
    },
    {
     "name": "stdout",
     "output_type": "stream",
     "text": [
      "epoch: 115\n",
      "Training loss: 1251.5914597596745\n",
      "Training rmse: 60.99051\n",
      "Validation loss: 18304.109375\n",
      "Validation rmse: 17.336277247121497\n",
      "Validation mae: 13.304663\n",
      "Validation mape: 0.16507061\n",
      "Validation acc: 0.2346867322921753\n"
     ]
    },
    {
     "name": "stderr",
     "output_type": "stream",
     "text": [
      "<ipython-input-6-5c6a0450ba2d>:85: DeprecationWarning: np.asscalar(a) is deprecated since NumPy v1.16, use a.item() instead\n",
      "  validation_losses.append(np.asscalar(val_loss.detach().cpu().numpy()))\n"
     ]
    },
    {
     "name": "stdout",
     "output_type": "stream",
     "text": [
      "epoch: 116\n",
      "Training loss: 1247.7952949770036\n",
      "Training rmse: 60.953384\n",
      "Validation loss: 18134.521484375\n",
      "Validation rmse: 17.255772606070753\n",
      "Validation mae: 13.143646\n",
      "Validation mape: 0.15929504\n",
      "Validation acc: 0.23096078634262085\n"
     ]
    },
    {
     "name": "stderr",
     "output_type": "stream",
     "text": [
      "<ipython-input-6-5c6a0450ba2d>:85: DeprecationWarning: np.asscalar(a) is deprecated since NumPy v1.16, use a.item() instead\n",
      "  validation_losses.append(np.asscalar(val_loss.detach().cpu().numpy()))\n"
     ]
    },
    {
     "name": "stdout",
     "output_type": "stream",
     "text": [
      "epoch: 117\n",
      "Training loss: 1252.9600679130965\n",
      "Training rmse: 61.006683\n",
      "Validation loss: 18437.5\n",
      "Validation rmse: 17.39932765319405\n",
      "Validation mae: 13.3668375\n",
      "Validation mape: 0.16589506\n",
      "Validation acc: 0.23066222667694092\n"
     ]
    },
    {
     "name": "stderr",
     "output_type": "stream",
     "text": [
      "<ipython-input-6-5c6a0450ba2d>:85: DeprecationWarning: np.asscalar(a) is deprecated since NumPy v1.16, use a.item() instead\n",
      "  validation_losses.append(np.asscalar(val_loss.detach().cpu().numpy()))\n"
     ]
    },
    {
     "name": "stdout",
     "output_type": "stream",
     "text": [
      "epoch: 118\n",
      "Training loss: 1243.7197915354084\n",
      "Training rmse: 60.913532\n",
      "Validation loss: 18969.423828125\n",
      "Validation rmse: 17.648537792986385\n",
      "Validation mae: 13.683464\n",
      "Validation mape: 0.17268983\n",
      "Validation acc: 0.2334008812904358\n"
     ]
    },
    {
     "name": "stderr",
     "output_type": "stream",
     "text": [
      "<ipython-input-6-5c6a0450ba2d>:85: DeprecationWarning: np.asscalar(a) is deprecated since NumPy v1.16, use a.item() instead\n",
      "  validation_losses.append(np.asscalar(val_loss.detach().cpu().numpy()))\n"
     ]
    },
    {
     "name": "stdout",
     "output_type": "stream",
     "text": [
      "epoch: 119\n",
      "Training loss: 1238.2356355181732\n",
      "Training rmse: 60.862995\n",
      "Validation loss: 18678.40625\n",
      "Validation rmse: 17.51262797731611\n",
      "Validation mae: 13.472893\n",
      "Validation mape: 0.1677528\n",
      "Validation acc: 0.22399652004241943\n"
     ]
    },
    {
     "name": "stderr",
     "output_type": "stream",
     "text": [
      "<ipython-input-6-5c6a0450ba2d>:85: DeprecationWarning: np.asscalar(a) is deprecated since NumPy v1.16, use a.item() instead\n",
      "  validation_losses.append(np.asscalar(val_loss.detach().cpu().numpy()))\n"
     ]
    },
    {
     "name": "stdout",
     "output_type": "stream",
     "text": [
      "epoch: 120\n",
      "Training loss: 1237.7523166013875\n",
      "Training rmse: 60.85857\n",
      "Validation loss: 18220.904296875\n",
      "Validation rmse: 17.296811483623216\n",
      "Validation mae: 13.216818\n",
      "Validation mape: 0.16190803\n",
      "Validation acc: 0.2289002537727356\n"
     ]
    },
    {
     "name": "stderr",
     "output_type": "stream",
     "text": [
      "<ipython-input-6-5c6a0450ba2d>:85: DeprecationWarning: np.asscalar(a) is deprecated since NumPy v1.16, use a.item() instead\n",
      "  validation_losses.append(np.asscalar(val_loss.detach().cpu().numpy()))\n"
     ]
    },
    {
     "name": "stdout",
     "output_type": "stream",
     "text": [
      "epoch: 121\n",
      "Training loss: 1232.1343868351325\n",
      "Training rmse: 60.803318\n",
      "Validation loss: 18168.72265625\n",
      "Validation rmse: 17.272018753925018\n",
      "Validation mae: 13.185269\n",
      "Validation mape: 0.1618504\n",
      "Validation acc: 0.23194849491119385\n"
     ]
    },
    {
     "name": "stderr",
     "output_type": "stream",
     "text": [
      "<ipython-input-6-5c6a0450ba2d>:85: DeprecationWarning: np.asscalar(a) is deprecated since NumPy v1.16, use a.item() instead\n",
      "  validation_losses.append(np.asscalar(val_loss.detach().cpu().numpy()))\n"
     ]
    },
    {
     "name": "stdout",
     "output_type": "stream",
     "text": [
      "epoch: 122\n",
      "Training loss: 1227.4504794869372\n",
      "Training rmse: 60.759495\n",
      "Validation loss: 18307.341796875\n",
      "Validation rmse: 17.337784904663877\n",
      "Validation mae: 13.228079\n",
      "Validation mape: 0.16198401\n",
      "Validation acc: 0.22549891471862793\n"
     ]
    },
    {
     "name": "stderr",
     "output_type": "stream",
     "text": [
      "<ipython-input-6-5c6a0450ba2d>:85: DeprecationWarning: np.asscalar(a) is deprecated since NumPy v1.16, use a.item() instead\n",
      "  validation_losses.append(np.asscalar(val_loss.detach().cpu().numpy()))\n"
     ]
    },
    {
     "name": "stdout",
     "output_type": "stream",
     "text": [
      "epoch: 123\n",
      "Training loss: 1221.9845710125448\n",
      "Training rmse: 60.70512\n",
      "Validation loss: 18457.44921875\n",
      "Validation rmse: 17.40871840666337\n",
      "Validation mae: 13.307064\n",
      "Validation mape: 0.1647289\n",
      "Validation acc: 0.22613835334777832\n"
     ]
    },
    {
     "name": "stderr",
     "output_type": "stream",
     "text": [
      "<ipython-input-6-5c6a0450ba2d>:85: DeprecationWarning: np.asscalar(a) is deprecated since NumPy v1.16, use a.item() instead\n",
      "  validation_losses.append(np.asscalar(val_loss.detach().cpu().numpy()))\n"
     ]
    },
    {
     "name": "stdout",
     "output_type": "stream",
     "text": [
      "epoch: 124\n",
      "Training loss: 1224.8198971765444\n",
      "Training rmse: 60.73286\n",
      "Validation loss: 18628.068359375\n",
      "Validation rmse: 17.488994516530067\n",
      "Validation mae: 13.364502\n",
      "Validation mape: 0.16442852\n",
      "Validation acc: 0.21438384056091309\n"
     ]
    },
    {
     "name": "stderr",
     "output_type": "stream",
     "text": [
      "<ipython-input-6-5c6a0450ba2d>:85: DeprecationWarning: np.asscalar(a) is deprecated since NumPy v1.16, use a.item() instead\n",
      "  validation_losses.append(np.asscalar(val_loss.detach().cpu().numpy()))\n"
     ]
    },
    {
     "name": "stdout",
     "output_type": "stream",
     "text": [
      "epoch: 125\n",
      "Training loss: 1220.41695882599\n",
      "Training rmse: 60.68874\n",
      "Validation loss: 18636.345703125\n",
      "Validation rmse: 17.492878363980903\n",
      "Validation mae: 13.243207\n",
      "Validation mape: 0.15674643\n",
      "Validation acc: 0.22102195024490356\n"
     ]
    },
    {
     "name": "stderr",
     "output_type": "stream",
     "text": [
      "<ipython-input-6-5c6a0450ba2d>:85: DeprecationWarning: np.asscalar(a) is deprecated since NumPy v1.16, use a.item() instead\n",
      "  validation_losses.append(np.asscalar(val_loss.detach().cpu().numpy()))\n"
     ]
    },
    {
     "name": "stdout",
     "output_type": "stream",
     "text": [
      "epoch: 126\n",
      "Training loss: 1215.6924618956864\n",
      "Training rmse: 60.641983\n",
      "Validation loss: 18543.318359375\n",
      "Validation rmse: 17.449155350931388\n",
      "Validation mae: 13.376368\n",
      "Validation mape: 0.16509417\n",
      "Validation acc: 0.22011590003967285\n"
     ]
    },
    {
     "name": "stderr",
     "output_type": "stream",
     "text": [
      "<ipython-input-6-5c6a0450ba2d>:85: DeprecationWarning: np.asscalar(a) is deprecated since NumPy v1.16, use a.item() instead\n",
      "  validation_losses.append(np.asscalar(val_loss.detach().cpu().numpy()))\n"
     ]
    },
    {
     "name": "stdout",
     "output_type": "stream",
     "text": [
      "epoch: 127\n",
      "Training loss: 1207.2703903362315\n",
      "Training rmse: 60.56239\n",
      "Validation loss: 18363.509765625\n",
      "Validation rmse: 17.364343242972527\n",
      "Validation mae: 13.274432\n",
      "Validation mape: 0.16389334\n",
      "Validation acc: 0.22779732942581177\n"
     ]
    },
    {
     "name": "stderr",
     "output_type": "stream",
     "text": [
      "<ipython-input-6-5c6a0450ba2d>:85: DeprecationWarning: np.asscalar(a) is deprecated since NumPy v1.16, use a.item() instead\n",
      "  validation_losses.append(np.asscalar(val_loss.detach().cpu().numpy()))\n"
     ]
    },
    {
     "name": "stdout",
     "output_type": "stream",
     "text": [
      "epoch: 128\n",
      "Training loss: 1203.6891136032707\n",
      "Training rmse: 60.52519\n",
      "Validation loss: 18590.052734375\n",
      "Validation rmse: 17.471126606277515\n",
      "Validation mae: 13.365569\n",
      "Validation mape: 0.16524068\n",
      "Validation acc: 0.21969634294509888\n"
     ]
    },
    {
     "name": "stderr",
     "output_type": "stream",
     "text": [
      "<ipython-input-6-5c6a0450ba2d>:85: DeprecationWarning: np.asscalar(a) is deprecated since NumPy v1.16, use a.item() instead\n",
      "  validation_losses.append(np.asscalar(val_loss.detach().cpu().numpy()))\n"
     ]
    },
    {
     "name": "stdout",
     "output_type": "stream",
     "text": [
      "epoch: 129\n",
      "Training loss: 1200.6469917981\n",
      "Training rmse: 60.495052\n",
      "Validation loss: 18680.177734375\n",
      "Validation rmse: 17.51342258677969\n",
      "Validation mae: 13.317024\n",
      "Validation mape: 0.161955\n",
      "Validation acc: 0.208179771900177\n"
     ]
    },
    {
     "name": "stderr",
     "output_type": "stream",
     "text": [
      "<ipython-input-6-5c6a0450ba2d>:85: DeprecationWarning: np.asscalar(a) is deprecated since NumPy v1.16, use a.item() instead\n",
      "  validation_losses.append(np.asscalar(val_loss.detach().cpu().numpy()))\n"
     ]
    },
    {
     "name": "stdout",
     "output_type": "stream",
     "text": [
      "epoch: 130\n",
      "Training loss: 1196.5902548075576\n",
      "Training rmse: 60.455063\n",
      "Validation loss: 18544.75390625\n",
      "Validation rmse: 17.449817313300965\n",
      "Validation mae: 13.2700205\n",
      "Validation mape: 0.16181326\n",
      "Validation acc: 0.21429717540740967\n"
     ]
    },
    {
     "name": "stderr",
     "output_type": "stream",
     "text": [
      "<ipython-input-6-5c6a0450ba2d>:85: DeprecationWarning: np.asscalar(a) is deprecated since NumPy v1.16, use a.item() instead\n",
      "  validation_losses.append(np.asscalar(val_loss.detach().cpu().numpy()))\n"
     ]
    },
    {
     "name": "stdout",
     "output_type": "stream",
     "text": [
      "epoch: 131\n",
      "Training loss: 1192.251215124643\n",
      "Training rmse: 60.41119\n",
      "Validation loss: 19484.908203125\n",
      "Validation rmse: 17.88669273106319\n",
      "Validation mae: 13.814029\n",
      "Validation mape: 0.174756\n",
      "Validation acc: 0.2207123041152954\n"
     ]
    },
    {
     "name": "stderr",
     "output_type": "stream",
     "text": [
      "<ipython-input-6-5c6a0450ba2d>:85: DeprecationWarning: np.asscalar(a) is deprecated since NumPy v1.16, use a.item() instead\n",
      "  validation_losses.append(np.asscalar(val_loss.detach().cpu().numpy()))\n"
     ]
    },
    {
     "name": "stdout",
     "output_type": "stream",
     "text": [
      "epoch: 132\n",
      "Training loss: 1187.564211718925\n",
      "Training rmse: 60.36741\n",
      "Validation loss: 18655.380859375\n",
      "Validation rmse: 17.50178300766141\n",
      "Validation mae: 13.31737\n",
      "Validation mape: 0.16067596\n",
      "Validation acc: 0.20971614122390747\n"
     ]
    },
    {
     "name": "stderr",
     "output_type": "stream",
     "text": [
      "<ipython-input-6-5c6a0450ba2d>:85: DeprecationWarning: np.asscalar(a) is deprecated since NumPy v1.16, use a.item() instead\n",
      "  validation_losses.append(np.asscalar(val_loss.detach().cpu().numpy()))\n"
     ]
    },
    {
     "name": "stdout",
     "output_type": "stream",
     "text": [
      "epoch: 133\n",
      "Training loss: 1178.5491848197034\n",
      "Training rmse: 60.274418\n",
      "Validation loss: 18556.529296875\n",
      "Validation rmse: 17.455347259485237\n",
      "Validation mae: 13.327307\n",
      "Validation mape: 0.16282585\n",
      "Validation acc: 0.21365827322006226\n"
     ]
    },
    {
     "name": "stderr",
     "output_type": "stream",
     "text": [
      "<ipython-input-6-5c6a0450ba2d>:85: DeprecationWarning: np.asscalar(a) is deprecated since NumPy v1.16, use a.item() instead\n",
      "  validation_losses.append(np.asscalar(val_loss.detach().cpu().numpy()))\n"
     ]
    },
    {
     "name": "stdout",
     "output_type": "stream",
     "text": [
      "epoch: 134\n",
      "Training loss: 1172.1204560529375\n",
      "Training rmse: 60.211563\n",
      "Validation loss: 19624.748046875\n",
      "Validation rmse: 17.950754405880392\n",
      "Validation mae: 13.778997\n",
      "Validation mape: 0.16078286\n",
      "Validation acc: 0.21204286813735962\n"
     ]
    },
    {
     "name": "stderr",
     "output_type": "stream",
     "text": [
      "<ipython-input-6-5c6a0450ba2d>:85: DeprecationWarning: np.asscalar(a) is deprecated since NumPy v1.16, use a.item() instead\n",
      "  validation_losses.append(np.asscalar(val_loss.detach().cpu().numpy()))\n"
     ]
    },
    {
     "name": "stdout",
     "output_type": "stream",
     "text": [
      "epoch: 135\n",
      "Training loss: 1174.68601874895\n",
      "Training rmse: 60.234413\n",
      "Validation loss: 18615.802734375\n",
      "Validation rmse: 17.483195056253305\n",
      "Validation mae: 13.314719\n",
      "Validation mape: 0.1619437\n",
      "Validation acc: 0.2105720043182373\n"
     ]
    },
    {
     "name": "stderr",
     "output_type": "stream",
     "text": [
      "<ipython-input-6-5c6a0450ba2d>:85: DeprecationWarning: np.asscalar(a) is deprecated since NumPy v1.16, use a.item() instead\n",
      "  validation_losses.append(np.asscalar(val_loss.detach().cpu().numpy()))\n"
     ]
    },
    {
     "name": "stdout",
     "output_type": "stream",
     "text": [
      "epoch: 136\n",
      "Training loss: 1162.187226873145\n",
      "Training rmse: 60.112522\n",
      "Validation loss: 18664.408203125\n",
      "Validation rmse: 17.506003085883673\n",
      "Validation mae: 13.362275\n",
      "Validation mape: 0.16255604\n",
      "Validation acc: 0.20849579572677612\n"
     ]
    },
    {
     "name": "stderr",
     "output_type": "stream",
     "text": [
      "<ipython-input-6-5c6a0450ba2d>:85: DeprecationWarning: np.asscalar(a) is deprecated since NumPy v1.16, use a.item() instead\n",
      "  validation_losses.append(np.asscalar(val_loss.detach().cpu().numpy()))\n"
     ]
    },
    {
     "name": "stdout",
     "output_type": "stream",
     "text": [
      "epoch: 137\n",
      "Training loss: 1151.951134028828\n",
      "Training rmse: 60.00871\n",
      "Validation loss: 19184.005859375\n",
      "Validation rmse: 17.748016676442063\n",
      "Validation mae: 13.422868\n",
      "Validation mape: 0.15964298\n",
      "Validation acc: 0.1954936981201172\n"
     ]
    },
    {
     "name": "stderr",
     "output_type": "stream",
     "text": [
      "<ipython-input-6-5c6a0450ba2d>:85: DeprecationWarning: np.asscalar(a) is deprecated since NumPy v1.16, use a.item() instead\n",
      "  validation_losses.append(np.asscalar(val_loss.detach().cpu().numpy()))\n"
     ]
    },
    {
     "name": "stdout",
     "output_type": "stream",
     "text": [
      "epoch: 138\n",
      "Training loss: 1151.7693909128934\n",
      "Training rmse: 60.006172\n",
      "Validation loss: 19409.212890625\n",
      "Validation rmse: 17.851890724553694\n",
      "Validation mae: 13.640312\n",
      "Validation mape: 0.16793224\n",
      "Validation acc: 0.18193280696868896\n"
     ]
    },
    {
     "name": "stderr",
     "output_type": "stream",
     "text": [
      "<ipython-input-6-5c6a0450ba2d>:85: DeprecationWarning: np.asscalar(a) is deprecated since NumPy v1.16, use a.item() instead\n",
      "  validation_losses.append(np.asscalar(val_loss.detach().cpu().numpy()))\n"
     ]
    },
    {
     "name": "stdout",
     "output_type": "stream",
     "text": [
      "epoch: 139\n",
      "Training loss: 1142.2748686540938\n",
      "Training rmse: 59.91401\n",
      "Validation loss: 19133.36328125\n",
      "Validation rmse: 17.72456880591087\n",
      "Validation mae: 13.4635935\n",
      "Validation mape: 0.16414852\n",
      "Validation acc: 0.1891270875930786\n"
     ]
    },
    {
     "name": "stderr",
     "output_type": "stream",
     "text": [
      "<ipython-input-6-5c6a0450ba2d>:85: DeprecationWarning: np.asscalar(a) is deprecated since NumPy v1.16, use a.item() instead\n",
      "  validation_losses.append(np.asscalar(val_loss.detach().cpu().numpy()))\n"
     ]
    },
    {
     "name": "stdout",
     "output_type": "stream",
     "text": [
      "epoch: 140\n",
      "Training loss: 1142.99755257774\n",
      "Training rmse: 59.9176\n",
      "Validation loss: 19206.03515625\n",
      "Validation rmse: 17.758195731126516\n",
      "Validation mae: 13.529336\n",
      "Validation mape: 0.1663967\n",
      "Validation acc: 0.1898735761642456\n"
     ]
    },
    {
     "name": "stderr",
     "output_type": "stream",
     "text": [
      "<ipython-input-6-5c6a0450ba2d>:85: DeprecationWarning: np.asscalar(a) is deprecated since NumPy v1.16, use a.item() instead\n",
      "  validation_losses.append(np.asscalar(val_loss.detach().cpu().numpy()))\n"
     ]
    },
    {
     "name": "stdout",
     "output_type": "stream",
     "text": [
      "epoch: 141\n",
      "Training loss: 1134.3926704434084\n",
      "Training rmse: 59.83169\n",
      "Validation loss: 19617.76171875\n",
      "Validation rmse: 17.94754098184266\n",
      "Validation mae: 13.702571\n",
      "Validation mape: 0.16872074\n",
      "Validation acc: 0.17331910133361816\n"
     ]
    },
    {
     "name": "stderr",
     "output_type": "stream",
     "text": [
      "<ipython-input-6-5c6a0450ba2d>:85: DeprecationWarning: np.asscalar(a) is deprecated since NumPy v1.16, use a.item() instead\n",
      "  validation_losses.append(np.asscalar(val_loss.detach().cpu().numpy()))\n"
     ]
    },
    {
     "name": "stdout",
     "output_type": "stream",
     "text": [
      "epoch: 142\n",
      "Training loss: 1133.2381238493012\n",
      "Training rmse: 59.82241\n",
      "Validation loss: 19359.927734375\n",
      "Validation rmse: 17.829201668299852\n",
      "Validation mae: 13.594885\n",
      "Validation mape: 0.16819532\n",
      "Validation acc: 0.18899452686309814\n"
     ]
    },
    {
     "name": "stderr",
     "output_type": "stream",
     "text": [
      "<ipython-input-6-5c6a0450ba2d>:85: DeprecationWarning: np.asscalar(a) is deprecated since NumPy v1.16, use a.item() instead\n",
      "  validation_losses.append(np.asscalar(val_loss.detach().cpu().numpy()))\n"
     ]
    },
    {
     "name": "stdout",
     "output_type": "stream",
     "text": [
      "epoch: 143\n",
      "Training loss: 1126.3907945421006\n",
      "Training rmse: 59.74973\n",
      "Validation loss: 20190.560546875\n",
      "Validation rmse: 18.207682000680116\n",
      "Validation mae: 14.01861\n",
      "Validation mape: 0.17601612\n",
      "Validation acc: 0.17766690254211426\n"
     ]
    },
    {
     "name": "stderr",
     "output_type": "stream",
     "text": [
      "<ipython-input-6-5c6a0450ba2d>:85: DeprecationWarning: np.asscalar(a) is deprecated since NumPy v1.16, use a.item() instead\n",
      "  validation_losses.append(np.asscalar(val_loss.detach().cpu().numpy()))\n"
     ]
    },
    {
     "name": "stdout",
     "output_type": "stream",
     "text": [
      "epoch: 144\n",
      "Training loss: 1127.1809438616572\n",
      "Training rmse: 59.760155\n",
      "Validation loss: 19360.73828125\n",
      "Validation rmse: 17.829567104525157\n",
      "Validation mae: 13.481717\n",
      "Validation mape: 0.16186109\n",
      "Validation acc: 0.18094462156295776\n"
     ]
    },
    {
     "name": "stderr",
     "output_type": "stream",
     "text": [
      "<ipython-input-6-5c6a0450ba2d>:85: DeprecationWarning: np.asscalar(a) is deprecated since NumPy v1.16, use a.item() instead\n",
      "  validation_losses.append(np.asscalar(val_loss.detach().cpu().numpy()))\n"
     ]
    },
    {
     "name": "stdout",
     "output_type": "stream",
     "text": [
      "epoch: 145\n",
      "Training loss: 1117.2676936323924\n",
      "Training rmse: 59.654522\n",
      "Validation loss: 19499.708984375\n",
      "Validation rmse: 17.893445294897358\n",
      "Validation mae: 13.5224905\n",
      "Validation mape: 0.16309242\n",
      "Validation acc: 0.1735793948173523\n"
     ]
    },
    {
     "name": "stderr",
     "output_type": "stream",
     "text": [
      "<ipython-input-6-5c6a0450ba2d>:85: DeprecationWarning: np.asscalar(a) is deprecated since NumPy v1.16, use a.item() instead\n",
      "  validation_losses.append(np.asscalar(val_loss.detach().cpu().numpy()))\n"
     ]
    },
    {
     "name": "stdout",
     "output_type": "stream",
     "text": [
      "epoch: 146\n",
      "Training loss: 1109.7624754546791\n",
      "Training rmse: 59.579727\n",
      "Validation loss: 20018.5\n",
      "Validation rmse: 18.12992507843343\n",
      "Validation mae: 13.689613\n",
      "Validation mape: 0.16605452\n",
      "Validation acc: 0.151103675365448\n"
     ]
    },
    {
     "name": "stderr",
     "output_type": "stream",
     "text": [
      "<ipython-input-6-5c6a0450ba2d>:85: DeprecationWarning: np.asscalar(a) is deprecated since NumPy v1.16, use a.item() instead\n",
      "  validation_losses.append(np.asscalar(val_loss.detach().cpu().numpy()))\n"
     ]
    },
    {
     "name": "stdout",
     "output_type": "stream",
     "text": [
      "epoch: 147\n",
      "Training loss: 1112.6451930111027\n",
      "Training rmse: 59.61208\n",
      "Validation loss: 20745.427734375\n",
      "Validation rmse: 18.45617681554022\n",
      "Validation mae: 14.221331\n",
      "Validation mape: 0.17961597\n",
      "Validation acc: 0.16803133487701416\n"
     ]
    },
    {
     "name": "stderr",
     "output_type": "stream",
     "text": [
      "<ipython-input-6-5c6a0450ba2d>:85: DeprecationWarning: np.asscalar(a) is deprecated since NumPy v1.16, use a.item() instead\n",
      "  validation_losses.append(np.asscalar(val_loss.detach().cpu().numpy()))\n"
     ]
    },
    {
     "name": "stdout",
     "output_type": "stream",
     "text": [
      "epoch: 148\n",
      "Training loss: 1106.3438175980764\n",
      "Training rmse: 59.546608\n",
      "Validation loss: 20367.39453125\n",
      "Validation rmse: 18.28723526487294\n",
      "Validation mae: 13.971703\n",
      "Validation mape: 0.17393596\n",
      "Validation acc: 0.15639430284500122\n"
     ]
    },
    {
     "name": "stderr",
     "output_type": "stream",
     "text": [
      "<ipython-input-6-5c6a0450ba2d>:85: DeprecationWarning: np.asscalar(a) is deprecated since NumPy v1.16, use a.item() instead\n",
      "  validation_losses.append(np.asscalar(val_loss.detach().cpu().numpy()))\n"
     ]
    },
    {
     "name": "stdout",
     "output_type": "stream",
     "text": [
      "epoch: 149\n",
      "Training loss: 1107.0156456731982\n",
      "Training rmse: 59.549667\n",
      "Validation loss: 19751.17578125\n",
      "Validation rmse: 18.00845053777488\n",
      "Validation mae: 13.603772\n",
      "Validation mape: 0.16564472\n",
      "Validation acc: 0.16303473711013794\n"
     ]
    },
    {
     "name": "stderr",
     "output_type": "stream",
     "text": [
      "<ipython-input-6-5c6a0450ba2d>:85: DeprecationWarning: np.asscalar(a) is deprecated since NumPy v1.16, use a.item() instead\n",
      "  validation_losses.append(np.asscalar(val_loss.detach().cpu().numpy()))\n"
     ]
    },
    {
     "name": "stdout",
     "output_type": "stream",
     "text": [
      "epoch: 150\n",
      "Training loss: 1095.8128983692457\n",
      "Training rmse: 59.436527\n",
      "Validation loss: 20130.2734375\n",
      "Validation rmse: 18.180463865298428\n",
      "Validation mae: 13.762036\n",
      "Validation mape: 0.16890852\n",
      "Validation acc: 0.15062224864959717\n"
     ]
    },
    {
     "name": "stderr",
     "output_type": "stream",
     "text": [
      "<ipython-input-6-5c6a0450ba2d>:85: DeprecationWarning: np.asscalar(a) is deprecated since NumPy v1.16, use a.item() instead\n",
      "  validation_losses.append(np.asscalar(val_loss.detach().cpu().numpy()))\n"
     ]
    },
    {
     "name": "stdout",
     "output_type": "stream",
     "text": [
      "epoch: 151\n",
      "Training loss: 1092.6911317011788\n",
      "Training rmse: 59.405235\n",
      "Validation loss: 20326.69921875\n",
      "Validation rmse: 18.268949521019607\n",
      "Validation mae: 13.838921\n",
      "Validation mape: 0.17090206\n",
      "Validation acc: 0.14794594049453735\n"
     ]
    },
    {
     "name": "stderr",
     "output_type": "stream",
     "text": [
      "<ipython-input-6-5c6a0450ba2d>:85: DeprecationWarning: np.asscalar(a) is deprecated since NumPy v1.16, use a.item() instead\n",
      "  validation_losses.append(np.asscalar(val_loss.detach().cpu().numpy()))\n"
     ]
    },
    {
     "name": "stdout",
     "output_type": "stream",
     "text": [
      "epoch: 152\n",
      "Training loss: 1091.4008248715418\n",
      "Training rmse: 59.38994\n",
      "Validation loss: 20330.09375\n",
      "Validation rmse: 18.270472083295616\n",
      "Validation mae: 13.918506\n",
      "Validation mape: 0.1729067\n",
      "Validation acc: 0.15565872192382812\n"
     ]
    },
    {
     "name": "stderr",
     "output_type": "stream",
     "text": [
      "<ipython-input-6-5c6a0450ba2d>:85: DeprecationWarning: np.asscalar(a) is deprecated since NumPy v1.16, use a.item() instead\n",
      "  validation_losses.append(np.asscalar(val_loss.detach().cpu().numpy()))\n"
     ]
    },
    {
     "name": "stdout",
     "output_type": "stream",
     "text": [
      "epoch: 153\n",
      "Training loss: 1085.922852546938\n",
      "Training rmse: 59.333694\n",
      "Validation loss: 20393.810546875\n",
      "Validation rmse: 18.299079013016183\n",
      "Validation mae: 13.829812\n",
      "Validation mape: 0.16994767\n",
      "Validation acc: 0.14178681373596191\n"
     ]
    },
    {
     "name": "stderr",
     "output_type": "stream",
     "text": [
      "<ipython-input-6-5c6a0450ba2d>:85: DeprecationWarning: np.asscalar(a) is deprecated since NumPy v1.16, use a.item() instead\n",
      "  validation_losses.append(np.asscalar(val_loss.detach().cpu().numpy()))\n"
     ]
    },
    {
     "name": "stdout",
     "output_type": "stream",
     "text": [
      "epoch: 154\n",
      "Training loss: 1085.2420537258135\n",
      "Training rmse: 59.32826\n",
      "Validation loss: 20473.8359375\n",
      "Validation rmse: 18.334949676469577\n",
      "Validation mae: 13.785713\n",
      "Validation mape: 0.16804312\n",
      "Validation acc: 0.1331578493118286\n"
     ]
    },
    {
     "name": "stderr",
     "output_type": "stream",
     "text": [
      "<ipython-input-6-5c6a0450ba2d>:85: DeprecationWarning: np.asscalar(a) is deprecated since NumPy v1.16, use a.item() instead\n",
      "  validation_losses.append(np.asscalar(val_loss.detach().cpu().numpy()))\n"
     ]
    },
    {
     "name": "stdout",
     "output_type": "stream",
     "text": [
      "epoch: 155\n",
      "Training loss: 1080.6551732435876\n",
      "Training rmse: 59.27681\n",
      "Validation loss: 20273.341796875\n",
      "Validation rmse: 18.244945923674656\n",
      "Validation mae: 13.886145\n",
      "Validation mape: 0.1725177\n",
      "Validation acc: 0.15912401676177979\n"
     ]
    },
    {
     "name": "stderr",
     "output_type": "stream",
     "text": [
      "<ipython-input-6-5c6a0450ba2d>:85: DeprecationWarning: np.asscalar(a) is deprecated since NumPy v1.16, use a.item() instead\n",
      "  validation_losses.append(np.asscalar(val_loss.detach().cpu().numpy()))\n"
     ]
    },
    {
     "name": "stdout",
     "output_type": "stream",
     "text": [
      "epoch: 156\n",
      "Training loss: 1079.3439182295167\n",
      "Training rmse: 59.263294\n",
      "Validation loss: 20307.6328125\n",
      "Validation rmse: 18.260367179262424\n",
      "Validation mae: 13.674983\n",
      "Validation mape: 0.16495094\n",
      "Validation acc: 0.13897019624710083\n"
     ]
    },
    {
     "name": "stderr",
     "output_type": "stream",
     "text": [
      "<ipython-input-6-5c6a0450ba2d>:85: DeprecationWarning: np.asscalar(a) is deprecated since NumPy v1.16, use a.item() instead\n",
      "  validation_losses.append(np.asscalar(val_loss.detach().cpu().numpy()))\n"
     ]
    },
    {
     "name": "stdout",
     "output_type": "stream",
     "text": [
      "epoch: 157\n",
      "Training loss: 1073.89062554691\n",
      "Training rmse: 59.20676\n",
      "Validation loss: 20711.78515625\n",
      "Validation rmse: 18.441185741241497\n",
      "Validation mae: 13.961333\n",
      "Validation mape: 0.17268394\n",
      "Validation acc: 0.13546442985534668\n"
     ]
    },
    {
     "name": "stderr",
     "output_type": "stream",
     "text": [
      "<ipython-input-6-5c6a0450ba2d>:85: DeprecationWarning: np.asscalar(a) is deprecated since NumPy v1.16, use a.item() instead\n",
      "  validation_losses.append(np.asscalar(val_loss.detach().cpu().numpy()))\n"
     ]
    },
    {
     "name": "stdout",
     "output_type": "stream",
     "text": [
      "epoch: 158\n",
      "Training loss: 1072.6604583630851\n",
      "Training rmse: 59.196182\n",
      "Validation loss: 20645.79296875\n",
      "Validation rmse: 18.41178108878465\n",
      "Validation mae: 13.835666\n",
      "Validation mape: 0.16899812\n",
      "Validation acc: 0.12668758630752563\n"
     ]
    },
    {
     "name": "stderr",
     "output_type": "stream",
     "text": [
      "<ipython-input-6-5c6a0450ba2d>:85: DeprecationWarning: np.asscalar(a) is deprecated since NumPy v1.16, use a.item() instead\n",
      "  validation_losses.append(np.asscalar(val_loss.detach().cpu().numpy()))\n"
     ]
    },
    {
     "name": "stdout",
     "output_type": "stream",
     "text": [
      "epoch: 159\n",
      "Training loss: 1067.790506342406\n",
      "Training rmse: 59.14699\n",
      "Validation loss: 20645.40234375\n",
      "Validation rmse: 18.411603735134246\n",
      "Validation mae: 13.8507595\n",
      "Validation mape: 0.1699673\n",
      "Validation acc: 0.13065695762634277\n"
     ]
    },
    {
     "name": "stderr",
     "output_type": "stream",
     "text": [
      "<ipython-input-6-5c6a0450ba2d>:85: DeprecationWarning: np.asscalar(a) is deprecated since NumPy v1.16, use a.item() instead\n",
      "  validation_losses.append(np.asscalar(val_loss.detach().cpu().numpy()))\n"
     ]
    },
    {
     "name": "stdout",
     "output_type": "stream",
     "text": [
      "epoch: 160\n",
      "Training loss: 1065.7933621970556\n",
      "Training rmse: 59.12313\n",
      "Validation loss: 20695.52734375\n",
      "Validation rmse: 18.433942652054085\n",
      "Validation mae: 13.911435\n",
      "Validation mape: 0.17162052\n",
      "Validation acc: 0.131913959980011\n"
     ]
    },
    {
     "name": "stderr",
     "output_type": "stream",
     "text": [
      "<ipython-input-6-5c6a0450ba2d>:85: DeprecationWarning: np.asscalar(a) is deprecated since NumPy v1.16, use a.item() instead\n",
      "  validation_losses.append(np.asscalar(val_loss.detach().cpu().numpy()))\n"
     ]
    },
    {
     "name": "stdout",
     "output_type": "stream",
     "text": [
      "epoch: 161\n",
      "Training loss: 1065.2669162545153\n",
      "Training rmse: 59.118217\n",
      "Validation loss: 21416.58984375\n",
      "Validation rmse: 18.75234034873214\n",
      "Validation mae: 14.288129\n",
      "Validation mape: 0.17955148\n",
      "Validation acc: 0.13342779874801636\n"
     ]
    },
    {
     "name": "stderr",
     "output_type": "stream",
     "text": [
      "<ipython-input-6-5c6a0450ba2d>:85: DeprecationWarning: np.asscalar(a) is deprecated since NumPy v1.16, use a.item() instead\n",
      "  validation_losses.append(np.asscalar(val_loss.detach().cpu().numpy()))\n"
     ]
    },
    {
     "name": "stdout",
     "output_type": "stream",
     "text": [
      "epoch: 162\n",
      "Training loss: 1066.1666179916765\n",
      "Training rmse: 59.12837\n",
      "Validation loss: 20636.81640625\n",
      "Validation rmse: 18.407769495058414\n",
      "Validation mae: 13.703762\n",
      "Validation mape: 0.16377002\n",
      "Validation acc: 0.12803393602371216\n"
     ]
    },
    {
     "name": "stderr",
     "output_type": "stream",
     "text": [
      "<ipython-input-6-5c6a0450ba2d>:85: DeprecationWarning: np.asscalar(a) is deprecated since NumPy v1.16, use a.item() instead\n",
      "  validation_losses.append(np.asscalar(val_loss.detach().cpu().numpy()))\n"
     ]
    },
    {
     "name": "stdout",
     "output_type": "stream",
     "text": [
      "epoch: 163\n",
      "Training loss: 1056.2008000855806\n",
      "Training rmse: 59.022568\n",
      "Validation loss: 21973.279296875\n",
      "Validation rmse: 18.994506041632803\n",
      "Validation mae: 14.493328\n",
      "Validation mape: 0.18231644\n",
      "Validation acc: 0.11436069011688232\n"
     ]
    },
    {
     "name": "stderr",
     "output_type": "stream",
     "text": [
      "<ipython-input-6-5c6a0450ba2d>:85: DeprecationWarning: np.asscalar(a) is deprecated since NumPy v1.16, use a.item() instead\n",
      "  validation_losses.append(np.asscalar(val_loss.detach().cpu().numpy()))\n"
     ]
    },
    {
     "name": "stdout",
     "output_type": "stream",
     "text": [
      "epoch: 164\n",
      "Training loss: 1056.1829983837715\n",
      "Training rmse: 59.02222\n",
      "Validation loss: 21606.21484375\n",
      "Validation rmse: 18.835175190660973\n",
      "Validation mae: 14.239704\n",
      "Validation mape: 0.17659044\n",
      "Validation acc: 0.10350292921066284\n"
     ]
    },
    {
     "name": "stderr",
     "output_type": "stream",
     "text": [
      "<ipython-input-6-5c6a0450ba2d>:85: DeprecationWarning: np.asscalar(a) is deprecated since NumPy v1.16, use a.item() instead\n",
      "  validation_losses.append(np.asscalar(val_loss.detach().cpu().numpy()))\n"
     ]
    },
    {
     "name": "stdout",
     "output_type": "stream",
     "text": [
      "epoch: 165\n",
      "Training loss: 1051.248523944595\n",
      "Training rmse: 58.96731\n",
      "Validation loss: 20996.31640625\n",
      "Validation rmse: 18.56741586448598\n",
      "Validation mae: 13.866057\n",
      "Validation mape: 0.16817448\n",
      "Validation acc: 0.10994887351989746\n"
     ]
    },
    {
     "name": "stderr",
     "output_type": "stream",
     "text": [
      "<ipython-input-6-5c6a0450ba2d>:85: DeprecationWarning: np.asscalar(a) is deprecated since NumPy v1.16, use a.item() instead\n",
      "  validation_losses.append(np.asscalar(val_loss.detach().cpu().numpy()))\n"
     ]
    },
    {
     "name": "stdout",
     "output_type": "stream",
     "text": [
      "epoch: 166\n",
      "Training loss: 1050.1802058613\n",
      "Training rmse: 58.96048\n",
      "Validation loss: 20801.0703125\n",
      "Validation rmse: 18.48087786550432\n",
      "Validation mae: 13.81164\n",
      "Validation mape: 0.16767272\n",
      "Validation acc: 0.11854243278503418\n"
     ]
    },
    {
     "name": "stderr",
     "output_type": "stream",
     "text": [
      "<ipython-input-6-5c6a0450ba2d>:85: DeprecationWarning: np.asscalar(a) is deprecated since NumPy v1.16, use a.item() instead\n",
      "  validation_losses.append(np.asscalar(val_loss.detach().cpu().numpy()))\n"
     ]
    },
    {
     "name": "stdout",
     "output_type": "stream",
     "text": [
      "epoch: 167\n",
      "Training loss: 1047.9164616301068\n",
      "Training rmse: 58.933903\n",
      "Validation loss: 20641.63671875\n",
      "Validation rmse: 18.409911330722863\n",
      "Validation mae: 13.761057\n",
      "Validation mape: 0.16312164\n",
      "Validation acc: 0.1332225203514099\n"
     ]
    },
    {
     "name": "stderr",
     "output_type": "stream",
     "text": [
      "<ipython-input-6-5c6a0450ba2d>:85: DeprecationWarning: np.asscalar(a) is deprecated since NumPy v1.16, use a.item() instead\n",
      "  validation_losses.append(np.asscalar(val_loss.detach().cpu().numpy()))\n"
     ]
    },
    {
     "name": "stdout",
     "output_type": "stream",
     "text": [
      "epoch: 168\n",
      "Training loss: 1045.356702196128\n",
      "Training rmse: 58.907127\n",
      "Validation loss: 21003.73828125\n",
      "Validation rmse: 18.570693753974467\n",
      "Validation mae: 13.830559\n",
      "Validation mape: 0.16415519\n",
      "Validation acc: 0.11710673570632935\n"
     ]
    },
    {
     "name": "stderr",
     "output_type": "stream",
     "text": [
      "<ipython-input-6-5c6a0450ba2d>:85: DeprecationWarning: np.asscalar(a) is deprecated since NumPy v1.16, use a.item() instead\n",
      "  validation_losses.append(np.asscalar(val_loss.detach().cpu().numpy()))\n"
     ]
    },
    {
     "name": "stdout",
     "output_type": "stream",
     "text": [
      "epoch: 169\n",
      "Training loss: 1044.6059679694501\n",
      "Training rmse: 58.899815\n",
      "Validation loss: 21389.130859375\n",
      "Validation rmse: 18.740300225424953\n",
      "Validation mae: 14.162566\n",
      "Validation mape: 0.17643404\n",
      "Validation acc: 0.11905306577682495\n"
     ]
    },
    {
     "name": "stderr",
     "output_type": "stream",
     "text": [
      "<ipython-input-6-5c6a0450ba2d>:85: DeprecationWarning: np.asscalar(a) is deprecated since NumPy v1.16, use a.item() instead\n",
      "  validation_losses.append(np.asscalar(val_loss.detach().cpu().numpy()))\n"
     ]
    },
    {
     "name": "stdout",
     "output_type": "stream",
     "text": [
      "epoch: 170\n",
      "Training loss: 1043.359624500343\n",
      "Training rmse: 58.88906\n",
      "Validation loss: 21391.66796875\n",
      "Validation rmse: 18.741411607272358\n",
      "Validation mae: 14.091615\n",
      "Validation mape: 0.17394312\n",
      "Validation acc: 0.10414367914199829\n"
     ]
    },
    {
     "name": "stderr",
     "output_type": "stream",
     "text": [
      "<ipython-input-6-5c6a0450ba2d>:85: DeprecationWarning: np.asscalar(a) is deprecated since NumPy v1.16, use a.item() instead\n",
      "  validation_losses.append(np.asscalar(val_loss.detach().cpu().numpy()))\n"
     ]
    },
    {
     "name": "stdout",
     "output_type": "stream",
     "text": [
      "epoch: 171\n",
      "Training loss: 1039.4474613640898\n",
      "Training rmse: 58.842545\n",
      "Validation loss: 20687.408203125\n",
      "Validation rmse: 18.43030679332533\n",
      "Validation mae: 13.782331\n",
      "Validation mape: 0.16601884\n",
      "Validation acc: 0.12323212623596191\n"
     ]
    },
    {
     "name": "stderr",
     "output_type": "stream",
     "text": [
      "<ipython-input-6-5c6a0450ba2d>:85: DeprecationWarning: np.asscalar(a) is deprecated since NumPy v1.16, use a.item() instead\n",
      "  validation_losses.append(np.asscalar(val_loss.detach().cpu().numpy()))\n"
     ]
    },
    {
     "name": "stdout",
     "output_type": "stream",
     "text": [
      "epoch: 172\n",
      "Training loss: 1040.384295610544\n",
      "Training rmse: 58.854527\n",
      "Validation loss: 20775.720703125\n",
      "Validation rmse: 18.469600961254383\n",
      "Validation mae: 13.754663\n",
      "Validation mape: 0.16387966\n",
      "Validation acc: 0.12368959188461304\n"
     ]
    },
    {
     "name": "stderr",
     "output_type": "stream",
     "text": [
      "<ipython-input-6-5c6a0450ba2d>:85: DeprecationWarning: np.asscalar(a) is deprecated since NumPy v1.16, use a.item() instead\n",
      "  validation_losses.append(np.asscalar(val_loss.detach().cpu().numpy()))\n"
     ]
    },
    {
     "name": "stdout",
     "output_type": "stream",
     "text": [
      "epoch: 173\n",
      "Training loss: 1034.3713923628611\n",
      "Training rmse: 58.79297\n",
      "Validation loss: 20741.19921875\n",
      "Validation rmse: 18.454248715520684\n",
      "Validation mae: 13.804823\n",
      "Validation mape: 0.16686311\n",
      "Validation acc: 0.1204538345336914\n"
     ]
    },
    {
     "name": "stderr",
     "output_type": "stream",
     "text": [
      "<ipython-input-6-5c6a0450ba2d>:85: DeprecationWarning: np.asscalar(a) is deprecated since NumPy v1.16, use a.item() instead\n",
      "  validation_losses.append(np.asscalar(val_loss.detach().cpu().numpy()))\n"
     ]
    },
    {
     "name": "stdout",
     "output_type": "stream",
     "text": [
      "epoch: 174\n",
      "Training loss: 1031.5529239340067\n",
      "Training rmse: 58.762794\n",
      "Validation loss: 21728.078125\n",
      "Validation rmse: 18.88820322824292\n",
      "Validation mae: 14.230633\n",
      "Validation mape: 0.17634353\n",
      "Validation acc: 0.09575164318084717\n"
     ]
    },
    {
     "name": "stderr",
     "output_type": "stream",
     "text": [
      "<ipython-input-6-5c6a0450ba2d>:85: DeprecationWarning: np.asscalar(a) is deprecated since NumPy v1.16, use a.item() instead\n",
      "  validation_losses.append(np.asscalar(val_loss.detach().cpu().numpy()))\n"
     ]
    },
    {
     "name": "stdout",
     "output_type": "stream",
     "text": [
      "epoch: 175\n",
      "Training loss: 1033.4149080775544\n",
      "Training rmse: 58.77941\n",
      "Validation loss: 21323.748046875\n",
      "Validation rmse: 18.71162413928004\n",
      "Validation mae: 14.028194\n",
      "Validation mape: 0.17210156\n",
      "Validation acc: 0.1016693115234375\n"
     ]
    },
    {
     "name": "stderr",
     "output_type": "stream",
     "text": [
      "<ipython-input-6-5c6a0450ba2d>:85: DeprecationWarning: np.asscalar(a) is deprecated since NumPy v1.16, use a.item() instead\n",
      "  validation_losses.append(np.asscalar(val_loss.detach().cpu().numpy()))\n"
     ]
    },
    {
     "name": "stdout",
     "output_type": "stream",
     "text": [
      "epoch: 176\n",
      "Training loss: 1028.421648141731\n",
      "Training rmse: 58.725834\n",
      "Validation loss: 21443.861328125\n",
      "Validation rmse: 18.76425076931114\n",
      "Validation mae: 14.026314\n",
      "Validation mape: 0.17075096\n",
      "Validation acc: 0.0919722318649292\n"
     ]
    },
    {
     "name": "stderr",
     "output_type": "stream",
     "text": [
      "<ipython-input-6-5c6a0450ba2d>:85: DeprecationWarning: np.asscalar(a) is deprecated since NumPy v1.16, use a.item() instead\n",
      "  validation_losses.append(np.asscalar(val_loss.detach().cpu().numpy()))\n"
     ]
    },
    {
     "name": "stdout",
     "output_type": "stream",
     "text": [
      "epoch: 177\n",
      "Training loss: 1029.5587131404534\n",
      "Training rmse: 58.73922\n",
      "Validation loss: 21220.064453125\n",
      "Validation rmse: 18.666070292800818\n",
      "Validation mae: 13.95348\n",
      "Validation mape: 0.16877666\n",
      "Validation acc: 0.10012328624725342\n"
     ]
    },
    {
     "name": "stderr",
     "output_type": "stream",
     "text": [
      "<ipython-input-6-5c6a0450ba2d>:85: DeprecationWarning: np.asscalar(a) is deprecated since NumPy v1.16, use a.item() instead\n",
      "  validation_losses.append(np.asscalar(val_loss.detach().cpu().numpy()))\n"
     ]
    },
    {
     "name": "stdout",
     "output_type": "stream",
     "text": [
      "epoch: 178\n",
      "Training loss: 1024.9690250957312\n",
      "Training rmse: 58.692886\n",
      "Validation loss: 21636.130859375\n",
      "Validation rmse: 18.848186925819284\n",
      "Validation mae: 14.132511\n",
      "Validation mape: 0.17351098\n",
      "Validation acc: 0.08965486288070679\n"
     ]
    },
    {
     "name": "stderr",
     "output_type": "stream",
     "text": [
      "<ipython-input-6-5c6a0450ba2d>:85: DeprecationWarning: np.asscalar(a) is deprecated since NumPy v1.16, use a.item() instead\n",
      "  validation_losses.append(np.asscalar(val_loss.detach().cpu().numpy()))\n"
     ]
    },
    {
     "name": "stdout",
     "output_type": "stream",
     "text": [
      "epoch: 179\n",
      "Training loss: 1021.2780267859018\n",
      "Training rmse: 58.64997\n",
      "Validation loss: 21052.892578125\n",
      "Validation rmse: 18.592391789942013\n",
      "Validation mae: 13.898006\n",
      "Validation mape: 0.16795744\n",
      "Validation acc: 0.10721343755722046\n"
     ]
    },
    {
     "name": "stderr",
     "output_type": "stream",
     "text": [
      "<ipython-input-6-5c6a0450ba2d>:85: DeprecationWarning: np.asscalar(a) is deprecated since NumPy v1.16, use a.item() instead\n",
      "  validation_losses.append(np.asscalar(val_loss.detach().cpu().numpy()))\n"
     ]
    },
    {
     "name": "stdout",
     "output_type": "stream",
     "text": [
      "epoch: 180\n",
      "Training loss: 1024.260529056672\n",
      "Training rmse: 58.682533\n",
      "Validation loss: 22329.49609375\n",
      "Validation rmse: 19.147829479585848\n",
      "Validation mae: 14.260388\n",
      "Validation mape: 0.17291783\n",
      "Validation acc: 0.0533943772315979\n"
     ]
    },
    {
     "name": "stderr",
     "output_type": "stream",
     "text": [
      "<ipython-input-6-5c6a0450ba2d>:85: DeprecationWarning: np.asscalar(a) is deprecated since NumPy v1.16, use a.item() instead\n",
      "  validation_losses.append(np.asscalar(val_loss.detach().cpu().numpy()))\n"
     ]
    },
    {
     "name": "stdout",
     "output_type": "stream",
     "text": [
      "epoch: 181\n",
      "Training loss: 1016.7684556967896\n",
      "Training rmse: 58.607277\n",
      "Validation loss: 21433.13671875\n",
      "Validation rmse: 18.75954835002365\n",
      "Validation mae: 14.109036\n",
      "Validation mape: 0.17401175\n",
      "Validation acc: 0.10231965780258179\n"
     ]
    },
    {
     "name": "stderr",
     "output_type": "stream",
     "text": [
      "<ipython-input-6-5c6a0450ba2d>:85: DeprecationWarning: np.asscalar(a) is deprecated since NumPy v1.16, use a.item() instead\n",
      "  validation_losses.append(np.asscalar(val_loss.detach().cpu().numpy()))\n"
     ]
    },
    {
     "name": "stdout",
     "output_type": "stream",
     "text": [
      "epoch: 182\n",
      "Training loss: 1016.1729311925964\n",
      "Training rmse: 58.596546\n",
      "Validation loss: 21483.9765625\n",
      "Validation rmse: 18.781785395602952\n",
      "Validation mae: 14.089578\n",
      "Validation mape: 0.1724194\n",
      "Validation acc: 0.09313350915908813\n"
     ]
    },
    {
     "name": "stderr",
     "output_type": "stream",
     "text": [
      "<ipython-input-6-5c6a0450ba2d>:85: DeprecationWarning: np.asscalar(a) is deprecated since NumPy v1.16, use a.item() instead\n",
      "  validation_losses.append(np.asscalar(val_loss.detach().cpu().numpy()))\n"
     ]
    },
    {
     "name": "stdout",
     "output_type": "stream",
     "text": [
      "epoch: 183\n",
      "Training loss: 1017.653548264589\n",
      "Training rmse: 58.611855\n",
      "Validation loss: 21287.15625\n",
      "Validation rmse: 18.695548375288016\n",
      "Validation mae: 13.969968\n",
      "Validation mape: 0.16927871\n",
      "Validation acc: 0.09748446941375732\n"
     ]
    },
    {
     "name": "stderr",
     "output_type": "stream",
     "text": [
      "<ipython-input-6-5c6a0450ba2d>:85: DeprecationWarning: np.asscalar(a) is deprecated since NumPy v1.16, use a.item() instead\n",
      "  validation_losses.append(np.asscalar(val_loss.detach().cpu().numpy()))\n"
     ]
    },
    {
     "name": "stdout",
     "output_type": "stream",
     "text": [
      "epoch: 184\n",
      "Training loss: 1010.3434078531026\n",
      "Training rmse: 58.535557\n",
      "Validation loss: 21556.08984375\n",
      "Validation rmse: 18.813278638371358\n",
      "Validation mae: 13.937338\n",
      "Validation mape: 0.16408764\n",
      "Validation acc: 0.10108304023742676\n"
     ]
    },
    {
     "name": "stderr",
     "output_type": "stream",
     "text": [
      "<ipython-input-6-5c6a0450ba2d>:85: DeprecationWarning: np.asscalar(a) is deprecated since NumPy v1.16, use a.item() instead\n",
      "  validation_losses.append(np.asscalar(val_loss.detach().cpu().numpy()))\n"
     ]
    },
    {
     "name": "stdout",
     "output_type": "stream",
     "text": [
      "epoch: 185\n",
      "Training loss: 1011.529046062073\n",
      "Training rmse: 58.546497\n",
      "Validation loss: 21585.412109375\n",
      "Validation rmse: 18.82606559665639\n",
      "Validation mae: 14.044541\n",
      "Validation mape: 0.17040055\n",
      "Validation acc: 0.08496713638305664\n"
     ]
    },
    {
     "name": "stderr",
     "output_type": "stream",
     "text": [
      "<ipython-input-6-5c6a0450ba2d>:85: DeprecationWarning: np.asscalar(a) is deprecated since NumPy v1.16, use a.item() instead\n",
      "  validation_losses.append(np.asscalar(val_loss.detach().cpu().numpy()))\n"
     ]
    },
    {
     "name": "stdout",
     "output_type": "stream",
     "text": [
      "epoch: 186\n",
      "Training loss: 1010.5464666223013\n",
      "Training rmse: 58.53459\n",
      "Validation loss: 21945.15625\n",
      "Validation rmse: 18.982306825360013\n",
      "Validation mae: 14.194427\n",
      "Validation mape: 0.1738808\n",
      "Validation acc: 0.0755801796913147\n"
     ]
    },
    {
     "name": "stderr",
     "output_type": "stream",
     "text": [
      "<ipython-input-6-5c6a0450ba2d>:85: DeprecationWarning: np.asscalar(a) is deprecated since NumPy v1.16, use a.item() instead\n",
      "  validation_losses.append(np.asscalar(val_loss.detach().cpu().numpy()))\n"
     ]
    },
    {
     "name": "stdout",
     "output_type": "stream",
     "text": [
      "epoch: 187\n",
      "Training loss: 1004.5898271786269\n",
      "Training rmse: 58.468586\n",
      "Validation loss: 22707.466796875\n",
      "Validation rmse: 19.309202634922148\n",
      "Validation mae: 14.290244\n",
      "Validation mape: 0.16951293\n",
      "Validation acc: 0.04591059684753418\n"
     ]
    },
    {
     "name": "stderr",
     "output_type": "stream",
     "text": [
      "<ipython-input-6-5c6a0450ba2d>:85: DeprecationWarning: np.asscalar(a) is deprecated since NumPy v1.16, use a.item() instead\n",
      "  validation_losses.append(np.asscalar(val_loss.detach().cpu().numpy()))\n"
     ]
    },
    {
     "name": "stdout",
     "output_type": "stream",
     "text": [
      "epoch: 188\n",
      "Training loss: 1004.489508570736\n",
      "Training rmse: 58.470665\n",
      "Validation loss: 22184.728515625\n",
      "Validation rmse: 19.08564089131989\n",
      "Validation mae: 14.209159\n",
      "Validation mape: 0.17168023\n",
      "Validation acc: 0.0592116117477417\n"
     ]
    },
    {
     "name": "stderr",
     "output_type": "stream",
     "text": [
      "<ipython-input-6-5c6a0450ba2d>:85: DeprecationWarning: np.asscalar(a) is deprecated since NumPy v1.16, use a.item() instead\n",
      "  validation_losses.append(np.asscalar(val_loss.detach().cpu().numpy()))\n"
     ]
    },
    {
     "name": "stdout",
     "output_type": "stream",
     "text": [
      "epoch: 189\n",
      "Training loss: 1002.5193334326522\n",
      "Training rmse: 58.447227\n",
      "Validation loss: 21736.123046875\n",
      "Validation rmse: 18.89167180722434\n",
      "Validation mae: 14.128132\n",
      "Validation mape: 0.17271206\n",
      "Validation acc: 0.08195942640304565\n"
     ]
    },
    {
     "name": "stderr",
     "output_type": "stream",
     "text": [
      "<ipython-input-6-5c6a0450ba2d>:85: DeprecationWarning: np.asscalar(a) is deprecated since NumPy v1.16, use a.item() instead\n",
      "  validation_losses.append(np.asscalar(val_loss.detach().cpu().numpy()))\n"
     ]
    },
    {
     "name": "stdout",
     "output_type": "stream",
     "text": [
      "epoch: 190\n",
      "Training loss: 1002.1200751848119\n",
      "Training rmse: 58.445614\n",
      "Validation loss: 21681.783203125\n",
      "Validation rmse: 18.868039091806065\n",
      "Validation mae: 14.066268\n",
      "Validation mape: 0.16969937\n",
      "Validation acc: 0.08065205812454224\n"
     ]
    },
    {
     "name": "stderr",
     "output_type": "stream",
     "text": [
      "<ipython-input-6-5c6a0450ba2d>:85: DeprecationWarning: np.asscalar(a) is deprecated since NumPy v1.16, use a.item() instead\n",
      "  validation_losses.append(np.asscalar(val_loss.detach().cpu().numpy()))\n"
     ]
    },
    {
     "name": "stdout",
     "output_type": "stream",
     "text": [
      "epoch: 191\n",
      "Training loss: 998.0302376148949\n",
      "Training rmse: 58.40068\n",
      "Validation loss: 21564.314453125\n",
      "Validation rmse: 18.816852661691243\n",
      "Validation mae: 14.015511\n",
      "Validation mape: 0.16779633\n",
      "Validation acc: 0.08803761005401611\n"
     ]
    },
    {
     "name": "stderr",
     "output_type": "stream",
     "text": [
      "<ipython-input-6-5c6a0450ba2d>:85: DeprecationWarning: np.asscalar(a) is deprecated since NumPy v1.16, use a.item() instead\n",
      "  validation_losses.append(np.asscalar(val_loss.detach().cpu().numpy()))\n"
     ]
    },
    {
     "name": "stdout",
     "output_type": "stream",
     "text": [
      "epoch: 192\n",
      "Training loss: 998.9247596768068\n",
      "Training rmse: 58.408722\n",
      "Validation loss: 23030.3203125\n",
      "Validation rmse: 19.445985763254264\n",
      "Validation mae: 14.692737\n",
      "Validation mape: 0.18325704\n",
      "Validation acc: 0.05451089143753052\n"
     ]
    },
    {
     "name": "stderr",
     "output_type": "stream",
     "text": [
      "<ipython-input-6-5c6a0450ba2d>:85: DeprecationWarning: np.asscalar(a) is deprecated since NumPy v1.16, use a.item() instead\n",
      "  validation_losses.append(np.asscalar(val_loss.detach().cpu().numpy()))\n"
     ]
    },
    {
     "name": "stdout",
     "output_type": "stream",
     "text": [
      "epoch: 193\n",
      "Training loss: 993.5212825652092\n",
      "Training rmse: 58.352165\n",
      "Validation loss: 22286.82421875\n",
      "Validation rmse: 19.12950011522003\n",
      "Validation mae: 14.353657\n",
      "Validation mape: 0.17667475\n",
      "Validation acc: 0.06484490633010864\n"
     ]
    },
    {
     "name": "stderr",
     "output_type": "stream",
     "text": [
      "<ipython-input-6-5c6a0450ba2d>:85: DeprecationWarning: np.asscalar(a) is deprecated since NumPy v1.16, use a.item() instead\n",
      "  validation_losses.append(np.asscalar(val_loss.detach().cpu().numpy()))\n"
     ]
    },
    {
     "name": "stdout",
     "output_type": "stream",
     "text": [
      "epoch: 194\n",
      "Training loss: 994.7250378242958\n",
      "Training rmse: 58.36777\n",
      "Validation loss: 22591.755859375\n",
      "Validation rmse: 19.259928731340832\n",
      "Validation mae: 14.460836\n",
      "Validation mape: 0.17900081\n",
      "Validation acc: 0.060717642307281494\n"
     ]
    },
    {
     "name": "stderr",
     "output_type": "stream",
     "text": [
      "<ipython-input-6-5c6a0450ba2d>:85: DeprecationWarning: np.asscalar(a) is deprecated since NumPy v1.16, use a.item() instead\n",
      "  validation_losses.append(np.asscalar(val_loss.detach().cpu().numpy()))\n"
     ]
    },
    {
     "name": "stdout",
     "output_type": "stream",
     "text": [
      "epoch: 195\n",
      "Training loss: 990.2252931765757\n",
      "Training rmse: 58.315872\n",
      "Validation loss: 22154.267578125\n",
      "Validation rmse: 19.07251913954014\n",
      "Validation mae: 14.164053\n",
      "Validation mape: 0.16910864\n",
      "Validation acc: 0.06455224752426147\n"
     ]
    },
    {
     "name": "stderr",
     "output_type": "stream",
     "text": [
      "<ipython-input-6-5c6a0450ba2d>:85: DeprecationWarning: np.asscalar(a) is deprecated since NumPy v1.16, use a.item() instead\n",
      "  validation_losses.append(np.asscalar(val_loss.detach().cpu().numpy()))\n"
     ]
    },
    {
     "name": "stdout",
     "output_type": "stream",
     "text": [
      "epoch: 196\n",
      "Training loss: 988.1661650955036\n",
      "Training rmse: 58.29346\n",
      "Validation loss: 22170.279296875\n",
      "Validation rmse: 19.07940864462302\n",
      "Validation mae: 14.283779\n",
      "Validation mape: 0.1749371\n",
      "Validation acc: 0.06516468524932861\n"
     ]
    },
    {
     "name": "stderr",
     "output_type": "stream",
     "text": [
      "<ipython-input-6-5c6a0450ba2d>:85: DeprecationWarning: np.asscalar(a) is deprecated since NumPy v1.16, use a.item() instead\n",
      "  validation_losses.append(np.asscalar(val_loss.detach().cpu().numpy()))\n"
     ]
    },
    {
     "name": "stdout",
     "output_type": "stream",
     "text": [
      "epoch: 197\n",
      "Training loss: 989.3442928628682\n",
      "Training rmse: 58.307953\n",
      "Validation loss: 22782.240234375\n",
      "Validation rmse: 19.340951054571036\n",
      "Validation mae: 14.396026\n",
      "Validation mape: 0.17351845\n",
      "Validation acc: 0.034077227115631104\n"
     ]
    },
    {
     "name": "stderr",
     "output_type": "stream",
     "text": [
      "<ipython-input-6-5c6a0450ba2d>:85: DeprecationWarning: np.asscalar(a) is deprecated since NumPy v1.16, use a.item() instead\n",
      "  validation_losses.append(np.asscalar(val_loss.detach().cpu().numpy()))\n"
     ]
    },
    {
     "name": "stdout",
     "output_type": "stream",
     "text": [
      "epoch: 198\n",
      "Training loss: 980.902842641304\n",
      "Training rmse: 58.214417\n",
      "Validation loss: 22263.6328125\n",
      "Validation rmse: 19.119534777484045\n",
      "Validation mae: 14.264805\n",
      "Validation mape: 0.17062694\n",
      "Validation acc: 0.060377657413482666\n"
     ]
    },
    {
     "name": "stderr",
     "output_type": "stream",
     "text": [
      "<ipython-input-6-5c6a0450ba2d>:85: DeprecationWarning: np.asscalar(a) is deprecated since NumPy v1.16, use a.item() instead\n",
      "  validation_losses.append(np.asscalar(val_loss.detach().cpu().numpy()))\n"
     ]
    },
    {
     "name": "stdout",
     "output_type": "stream",
     "text": [
      "epoch: 199\n",
      "Training loss: 974.9563744110873\n",
      "Training rmse: 58.149414\n",
      "Validation loss: 21844.53125\n",
      "Validation rmse: 18.93870857839012\n",
      "Validation mae: 14.166616\n",
      "Validation mape: 0.17161831\n",
      "Validation acc: 0.07381600141525269\n"
     ]
    },
    {
     "name": "stderr",
     "output_type": "stream",
     "text": [
      "<ipython-input-6-5c6a0450ba2d>:85: DeprecationWarning: np.asscalar(a) is deprecated since NumPy v1.16, use a.item() instead\n",
      "  validation_losses.append(np.asscalar(val_loss.detach().cpu().numpy()))\n"
     ]
    },
    {
     "name": "stdout",
     "output_type": "stream",
     "text": [
      "epoch: 200\n",
      "Training loss: 980.1355630197833\n",
      "Training rmse: 58.20751\n",
      "Validation loss: 23376.45703125\n",
      "Validation rmse: 19.591567019792357\n",
      "Validation mae: 14.808167\n",
      "Validation mape: 0.1844371\n",
      "Validation acc: 0.03932124376296997\n"
     ]
    },
    {
     "name": "stderr",
     "output_type": "stream",
     "text": [
      "<ipython-input-6-5c6a0450ba2d>:85: DeprecationWarning: np.asscalar(a) is deprecated since NumPy v1.16, use a.item() instead\n",
      "  validation_losses.append(np.asscalar(val_loss.detach().cpu().numpy()))\n"
     ]
    },
    {
     "name": "stdout",
     "output_type": "stream",
     "text": [
      "epoch: 201\n",
      "Training loss: 975.2572082191385\n",
      "Training rmse: 58.151455\n",
      "Validation loss: 23269.2890625\n",
      "Validation rmse: 19.546601779165638\n",
      "Validation mae: 14.523025\n",
      "Validation mape: 0.17047283\n",
      "Validation acc: 0.040542662143707275\n"
     ]
    },
    {
     "name": "stderr",
     "output_type": "stream",
     "text": [
      "<ipython-input-6-5c6a0450ba2d>:85: DeprecationWarning: np.asscalar(a) is deprecated since NumPy v1.16, use a.item() instead\n",
      "  validation_losses.append(np.asscalar(val_loss.detach().cpu().numpy()))\n"
     ]
    },
    {
     "name": "stdout",
     "output_type": "stream",
     "text": [
      "epoch: 202\n",
      "Training loss: 975.0899785086245\n",
      "Training rmse: 58.152424\n",
      "Validation loss: 22678.62109375\n",
      "Validation rmse: 19.296905838791147\n",
      "Validation mae: 14.392632\n",
      "Validation mape: 0.17532825\n",
      "Validation acc: 0.04001057147979736\n"
     ]
    },
    {
     "name": "stderr",
     "output_type": "stream",
     "text": [
      "<ipython-input-6-5c6a0450ba2d>:85: DeprecationWarning: np.asscalar(a) is deprecated since NumPy v1.16, use a.item() instead\n",
      "  validation_losses.append(np.asscalar(val_loss.detach().cpu().numpy()))\n"
     ]
    },
    {
     "name": "stdout",
     "output_type": "stream",
     "text": [
      "epoch: 203\n",
      "Training loss: 968.919668491596\n",
      "Training rmse: 58.0818\n",
      "Validation loss: 23078.712890625\n",
      "Validation rmse: 19.466386042274898\n",
      "Validation mae: 14.507646\n",
      "Validation mape: 0.17119533\n",
      "Validation acc: 0.03996264934539795\n"
     ]
    },
    {
     "name": "stderr",
     "output_type": "stream",
     "text": [
      "<ipython-input-6-5c6a0450ba2d>:85: DeprecationWarning: np.asscalar(a) is deprecated since NumPy v1.16, use a.item() instead\n",
      "  validation_losses.append(np.asscalar(val_loss.detach().cpu().numpy()))\n"
     ]
    },
    {
     "name": "stdout",
     "output_type": "stream",
     "text": [
      "epoch: 204\n",
      "Training loss: 964.5655845177216\n",
      "Training rmse: 58.035046\n",
      "Validation loss: 22824.994140625\n",
      "Validation rmse: 19.359080216177787\n",
      "Validation mae: 14.428511\n",
      "Validation mape: 0.17542844\n",
      "Validation acc: 0.03300297260284424\n"
     ]
    },
    {
     "name": "stderr",
     "output_type": "stream",
     "text": [
      "<ipython-input-6-5c6a0450ba2d>:85: DeprecationWarning: np.asscalar(a) is deprecated since NumPy v1.16, use a.item() instead\n",
      "  validation_losses.append(np.asscalar(val_loss.detach().cpu().numpy()))\n"
     ]
    },
    {
     "name": "stdout",
     "output_type": "stream",
     "text": [
      "epoch: 205\n",
      "Training loss: 967.5112679320852\n",
      "Training rmse: 58.064457\n",
      "Validation loss: 22981.388671875\n",
      "Validation rmse: 19.425292275290705\n",
      "Validation mae: 14.481087\n",
      "Validation mape: 0.17638722\n",
      "Validation acc: 0.027194678783416748\n"
     ]
    },
    {
     "name": "stderr",
     "output_type": "stream",
     "text": [
      "<ipython-input-6-5c6a0450ba2d>:85: DeprecationWarning: np.asscalar(a) is deprecated since NumPy v1.16, use a.item() instead\n",
      "  validation_losses.append(np.asscalar(val_loss.detach().cpu().numpy()))\n"
     ]
    },
    {
     "name": "stdout",
     "output_type": "stream",
     "text": [
      "epoch: 206\n",
      "Training loss: 960.7307020618069\n",
      "Training rmse: 57.988144\n",
      "Validation loss: 24621.755859375\n",
      "Validation rmse: 20.106651518906233\n",
      "Validation mae: 15.424657\n",
      "Validation mape: 0.19577664\n",
      "Validation acc: 0.04168093204498291\n"
     ]
    },
    {
     "name": "stderr",
     "output_type": "stream",
     "text": [
      "<ipython-input-6-5c6a0450ba2d>:85: DeprecationWarning: np.asscalar(a) is deprecated since NumPy v1.16, use a.item() instead\n",
      "  validation_losses.append(np.asscalar(val_loss.detach().cpu().numpy()))\n"
     ]
    },
    {
     "name": "stdout",
     "output_type": "stream",
     "text": [
      "epoch: 207\n",
      "Training loss: 963.1696133630677\n",
      "Training rmse: 58.01952\n",
      "Validation loss: 22955.525390625\n",
      "Validation rmse: 19.41435409112007\n",
      "Validation mae: 14.440382\n",
      "Validation mape: 0.17303425\n",
      "Validation acc: 0.028572380542755127\n"
     ]
    },
    {
     "name": "stderr",
     "output_type": "stream",
     "text": [
      "<ipython-input-6-5c6a0450ba2d>:85: DeprecationWarning: np.asscalar(a) is deprecated since NumPy v1.16, use a.item() instead\n",
      "  validation_losses.append(np.asscalar(val_loss.detach().cpu().numpy()))\n"
     ]
    },
    {
     "name": "stdout",
     "output_type": "stream",
     "text": [
      "epoch: 208\n",
      "Training loss: 953.5841300718246\n",
      "Training rmse: 57.916454\n",
      "Validation loss: 24507.365234375\n",
      "Validation rmse: 20.059885015034514\n",
      "Validation mae: 14.97364\n",
      "Validation mape: 0.17306805\n",
      "Validation acc: 0.030284404754638672\n"
     ]
    },
    {
     "name": "stderr",
     "output_type": "stream",
     "text": [
      "<ipython-input-6-5c6a0450ba2d>:85: DeprecationWarning: np.asscalar(a) is deprecated since NumPy v1.16, use a.item() instead\n",
      "  validation_losses.append(np.asscalar(val_loss.detach().cpu().numpy()))\n"
     ]
    },
    {
     "name": "stdout",
     "output_type": "stream",
     "text": [
      "epoch: 209\n",
      "Training loss: 953.2081134208214\n",
      "Training rmse: 57.907024\n",
      "Validation loss: 23762.376953125\n",
      "Validation rmse: 19.752618157405504\n",
      "Validation mae: 14.7656765\n",
      "Validation mape: 0.1822578\n",
      "Validation acc: 0.007609188556671143\n"
     ]
    },
    {
     "name": "stderr",
     "output_type": "stream",
     "text": [
      "<ipython-input-6-5c6a0450ba2d>:85: DeprecationWarning: np.asscalar(a) is deprecated since NumPy v1.16, use a.item() instead\n",
      "  validation_losses.append(np.asscalar(val_loss.detach().cpu().numpy()))\n"
     ]
    },
    {
     "name": "stdout",
     "output_type": "stream",
     "text": [
      "epoch: 210\n",
      "Training loss: 951.6767241228439\n",
      "Training rmse: 57.89286\n",
      "Validation loss: 23480.767578125\n",
      "Validation rmse: 19.63521625878607\n",
      "Validation mae: 14.633789\n",
      "Validation mape: 0.1787138\n",
      "Validation acc: 0.007663726806640625\n"
     ]
    },
    {
     "name": "stderr",
     "output_type": "stream",
     "text": [
      "<ipython-input-6-5c6a0450ba2d>:85: DeprecationWarning: np.asscalar(a) is deprecated since NumPy v1.16, use a.item() instead\n",
      "  validation_losses.append(np.asscalar(val_loss.detach().cpu().numpy()))\n"
     ]
    },
    {
     "name": "stdout",
     "output_type": "stream",
     "text": [
      "epoch: 211\n",
      "Training loss: 945.5286607092854\n",
      "Training rmse: 57.82423\n",
      "Validation loss: 23951.203125\n",
      "Validation rmse: 19.830945979882838\n",
      "Validation mae: 14.924186\n",
      "Validation mape: 0.1845994\n",
      "Validation acc: 0.0018453598022460938\n"
     ]
    },
    {
     "name": "stderr",
     "output_type": "stream",
     "text": [
      "<ipython-input-6-5c6a0450ba2d>:85: DeprecationWarning: np.asscalar(a) is deprecated since NumPy v1.16, use a.item() instead\n",
      "  validation_losses.append(np.asscalar(val_loss.detach().cpu().numpy()))\n"
     ]
    },
    {
     "name": "stdout",
     "output_type": "stream",
     "text": [
      "epoch: 212\n",
      "Training loss: 941.3465248025874\n",
      "Training rmse: 57.776733\n",
      "Validation loss: 24295.92578125\n",
      "Validation rmse: 19.973153979349693\n",
      "Validation mae: 15.060239\n",
      "Validation mape: 0.18793154\n",
      "Validation acc: 0.004581034183502197\n"
     ]
    },
    {
     "name": "stderr",
     "output_type": "stream",
     "text": [
      "<ipython-input-6-5c6a0450ba2d>:85: DeprecationWarning: np.asscalar(a) is deprecated since NumPy v1.16, use a.item() instead\n",
      "  validation_losses.append(np.asscalar(val_loss.detach().cpu().numpy()))\n"
     ]
    },
    {
     "name": "stdout",
     "output_type": "stream",
     "text": [
      "epoch: 213\n",
      "Training loss: 942.7924220587618\n",
      "Training rmse: 57.790356\n",
      "Validation loss: 23813.765625\n",
      "Validation rmse: 19.773960692900523\n",
      "Validation mae: 14.728707\n",
      "Validation mape: 0.17936395\n",
      "Validation acc: -0.008126616477966309\n"
     ]
    },
    {
     "name": "stderr",
     "output_type": "stream",
     "text": [
      "<ipython-input-6-5c6a0450ba2d>:85: DeprecationWarning: np.asscalar(a) is deprecated since NumPy v1.16, use a.item() instead\n",
      "  validation_losses.append(np.asscalar(val_loss.detach().cpu().numpy()))\n"
     ]
    },
    {
     "name": "stdout",
     "output_type": "stream",
     "text": [
      "epoch: 214\n",
      "Training loss: 937.1581423632988\n",
      "Training rmse: 57.72922\n",
      "Validation loss: 24046.416015625\n",
      "Validation rmse: 19.870320087037555\n",
      "Validation mae: 14.723926\n",
      "Validation mape: 0.17673963\n",
      "Validation acc: -0.018095970153808594\n"
     ]
    },
    {
     "name": "stderr",
     "output_type": "stream",
     "text": [
      "<ipython-input-6-5c6a0450ba2d>:85: DeprecationWarning: np.asscalar(a) is deprecated since NumPy v1.16, use a.item() instead\n",
      "  validation_losses.append(np.asscalar(val_loss.detach().cpu().numpy()))\n"
     ]
    },
    {
     "name": "stdout",
     "output_type": "stream",
     "text": [
      "epoch: 215\n",
      "Training loss: 934.0464753181703\n",
      "Training rmse: 57.69891\n",
      "Validation loss: 24380.390625\n",
      "Validation rmse: 20.007839192436315\n",
      "Validation mae: 14.87497\n",
      "Validation mape: 0.17596912\n",
      "Validation acc: -0.014227628707885742\n"
     ]
    },
    {
     "name": "stderr",
     "output_type": "stream",
     "text": [
      "<ipython-input-6-5c6a0450ba2d>:85: DeprecationWarning: np.asscalar(a) is deprecated since NumPy v1.16, use a.item() instead\n",
      "  validation_losses.append(np.asscalar(val_loss.detach().cpu().numpy()))\n"
     ]
    },
    {
     "name": "stdout",
     "output_type": "stream",
     "text": [
      "epoch: 216\n",
      "Training loss: 932.6978886648745\n",
      "Training rmse: 57.686337\n",
      "Validation loss: 23997.76171875\n",
      "Validation rmse: 19.850205796565827\n",
      "Validation mae: 14.942937\n",
      "Validation mape: 0.18584518\n",
      "Validation acc: 0.0068618059158325195\n"
     ]
    },
    {
     "name": "stderr",
     "output_type": "stream",
     "text": [
      "<ipython-input-6-5c6a0450ba2d>:85: DeprecationWarning: np.asscalar(a) is deprecated since NumPy v1.16, use a.item() instead\n",
      "  validation_losses.append(np.asscalar(val_loss.detach().cpu().numpy()))\n"
     ]
    },
    {
     "name": "stdout",
     "output_type": "stream",
     "text": [
      "epoch: 217\n",
      "Training loss: 930.4363907571335\n",
      "Training rmse: 57.657\n",
      "Validation loss: 24002.900390625\n",
      "Validation rmse: 19.8523280548962\n",
      "Validation mae: 14.800098\n",
      "Validation mape: 0.1824693\n",
      "Validation acc: -0.006136178970336914\n"
     ]
    },
    {
     "name": "stderr",
     "output_type": "stream",
     "text": [
      "<ipython-input-6-5c6a0450ba2d>:85: DeprecationWarning: np.asscalar(a) is deprecated since NumPy v1.16, use a.item() instead\n",
      "  validation_losses.append(np.asscalar(val_loss.detach().cpu().numpy()))\n"
     ]
    },
    {
     "name": "stdout",
     "output_type": "stream",
     "text": [
      "epoch: 218\n",
      "Training loss: 929.2660636218218\n",
      "Training rmse: 57.642303\n",
      "Validation loss: 23585.31640625\n",
      "Validation rmse: 19.678873358010744\n",
      "Validation mae: 14.624368\n",
      "Validation mape: 0.17539608\n",
      "Validation acc: 0.00234377384185791\n"
     ]
    },
    {
     "name": "stderr",
     "output_type": "stream",
     "text": [
      "<ipython-input-6-5c6a0450ba2d>:85: DeprecationWarning: np.asscalar(a) is deprecated since NumPy v1.16, use a.item() instead\n",
      "  validation_losses.append(np.asscalar(val_loss.detach().cpu().numpy()))\n"
     ]
    },
    {
     "name": "stdout",
     "output_type": "stream",
     "text": [
      "epoch: 219\n",
      "Training loss: 920.5520652306122\n",
      "Training rmse: 57.54219\n",
      "Validation loss: 23977.630859375\n",
      "Validation rmse: 19.841872911958106\n",
      "Validation mae: 14.748816\n",
      "Validation mape: 0.1753068\n",
      "Validation acc: -0.006634950637817383\n"
     ]
    },
    {
     "name": "stderr",
     "output_type": "stream",
     "text": [
      "<ipython-input-6-5c6a0450ba2d>:85: DeprecationWarning: np.asscalar(a) is deprecated since NumPy v1.16, use a.item() instead\n",
      "  validation_losses.append(np.asscalar(val_loss.detach().cpu().numpy()))\n"
     ]
    },
    {
     "name": "stdout",
     "output_type": "stream",
     "text": [
      "epoch: 220\n",
      "Training loss: 920.5619926862819\n",
      "Training rmse: 57.54242\n",
      "Validation loss: 23459.259765625\n",
      "Validation rmse: 19.6262058932355\n",
      "Validation mae: 14.592632\n",
      "Validation mape: 0.17672674\n",
      "Validation acc: 0.005210220813751221\n"
     ]
    },
    {
     "name": "stderr",
     "output_type": "stream",
     "text": [
      "<ipython-input-6-5c6a0450ba2d>:85: DeprecationWarning: np.asscalar(a) is deprecated since NumPy v1.16, use a.item() instead\n",
      "  validation_losses.append(np.asscalar(val_loss.detach().cpu().numpy()))\n"
     ]
    },
    {
     "name": "stdout",
     "output_type": "stream",
     "text": [
      "epoch: 221\n",
      "Training loss: 915.6573423980385\n",
      "Training rmse: 57.486553\n",
      "Validation loss: 23883.30859375\n",
      "Validation rmse: 19.802802086042885\n",
      "Validation mae: 14.703266\n",
      "Validation mape: 0.17862962\n",
      "Validation acc: -0.012214183807373047\n"
     ]
    },
    {
     "name": "stderr",
     "output_type": "stream",
     "text": [
      "<ipython-input-6-5c6a0450ba2d>:85: DeprecationWarning: np.asscalar(a) is deprecated since NumPy v1.16, use a.item() instead\n",
      "  validation_losses.append(np.asscalar(val_loss.detach().cpu().numpy()))\n"
     ]
    },
    {
     "name": "stdout",
     "output_type": "stream",
     "text": [
      "epoch: 222\n",
      "Training loss: 909.7799993262068\n",
      "Training rmse: 57.422287\n",
      "Validation loss: 23949.76953125\n",
      "Validation rmse: 19.830338110337717\n",
      "Validation mae: 14.70639\n",
      "Validation mape: 0.1764341\n",
      "Validation acc: -0.012974381446838379\n"
     ]
    },
    {
     "name": "stderr",
     "output_type": "stream",
     "text": [
      "<ipython-input-6-5c6a0450ba2d>:85: DeprecationWarning: np.asscalar(a) is deprecated since NumPy v1.16, use a.item() instead\n",
      "  validation_losses.append(np.asscalar(val_loss.detach().cpu().numpy()))\n"
     ]
    },
    {
     "name": "stdout",
     "output_type": "stream",
     "text": [
      "epoch: 223\n",
      "Training loss: 910.1726593236342\n",
      "Training rmse: 57.4277\n",
      "Validation loss: 23615.076171875\n",
      "Validation rmse: 19.691276454516682\n",
      "Validation mae: 14.63039\n",
      "Validation mape: 0.17640157\n",
      "Validation acc: -0.0010294914245605469\n"
     ]
    },
    {
     "name": "stderr",
     "output_type": "stream",
     "text": [
      "<ipython-input-6-5c6a0450ba2d>:85: DeprecationWarning: np.asscalar(a) is deprecated since NumPy v1.16, use a.item() instead\n",
      "  validation_losses.append(np.asscalar(val_loss.detach().cpu().numpy()))\n"
     ]
    },
    {
     "name": "stdout",
     "output_type": "stream",
     "text": [
      "epoch: 224\n",
      "Training loss: 909.7227268560813\n",
      "Training rmse: 57.422543\n",
      "Validation loss: 24684.71484375\n",
      "Validation rmse: 20.13231606513479\n",
      "Validation mae: 15.1647\n",
      "Validation mape: 0.1892183\n",
      "Validation acc: -0.006209611892700195\n"
     ]
    },
    {
     "name": "stderr",
     "output_type": "stream",
     "text": [
      "<ipython-input-6-5c6a0450ba2d>:85: DeprecationWarning: np.asscalar(a) is deprecated since NumPy v1.16, use a.item() instead\n",
      "  validation_losses.append(np.asscalar(val_loss.detach().cpu().numpy()))\n"
     ]
    },
    {
     "name": "stdout",
     "output_type": "stream",
     "text": [
      "epoch: 225\n",
      "Training loss: 904.5335674217525\n",
      "Training rmse: 57.361095\n",
      "Validation loss: 24581.322265625\n",
      "Validation rmse: 20.09010768407707\n",
      "Validation mae: 15.032479\n",
      "Validation mape: 0.18652141\n",
      "Validation acc: -0.020117998123168945\n"
     ]
    },
    {
     "name": "stderr",
     "output_type": "stream",
     "text": [
      "<ipython-input-6-5c6a0450ba2d>:85: DeprecationWarning: np.asscalar(a) is deprecated since NumPy v1.16, use a.item() instead\n",
      "  validation_losses.append(np.asscalar(val_loss.detach().cpu().numpy()))\n"
     ]
    },
    {
     "name": "stdout",
     "output_type": "stream",
     "text": [
      "epoch: 226\n",
      "Training loss: 899.6543263534492\n",
      "Training rmse: 57.308815\n",
      "Validation loss: 23974.474609375\n",
      "Validation rmse: 19.840555537659945\n",
      "Validation mae: 14.725794\n",
      "Validation mape: 0.17713235\n",
      "Validation acc: -0.01547396183013916\n"
     ]
    },
    {
     "name": "stderr",
     "output_type": "stream",
     "text": [
      "<ipython-input-6-5c6a0450ba2d>:85: DeprecationWarning: np.asscalar(a) is deprecated since NumPy v1.16, use a.item() instead\n",
      "  validation_losses.append(np.asscalar(val_loss.detach().cpu().numpy()))\n"
     ]
    },
    {
     "name": "stdout",
     "output_type": "stream",
     "text": [
      "epoch: 227\n",
      "Training loss: 896.766586139638\n",
      "Training rmse: 57.278603\n",
      "Validation loss: 23731.89453125\n",
      "Validation rmse: 19.73991735439141\n",
      "Validation mae: 14.651836\n",
      "Validation mape: 0.17633167\n",
      "Validation acc: -0.005530953407287598\n"
     ]
    },
    {
     "name": "stderr",
     "output_type": "stream",
     "text": [
      "<ipython-input-6-5c6a0450ba2d>:85: DeprecationWarning: np.asscalar(a) is deprecated since NumPy v1.16, use a.item() instead\n",
      "  validation_losses.append(np.asscalar(val_loss.detach().cpu().numpy()))\n"
     ]
    },
    {
     "name": "stdout",
     "output_type": "stream",
     "text": [
      "epoch: 228\n",
      "Training loss: 896.2856655325941\n",
      "Training rmse: 57.267296\n",
      "Validation loss: 24035.126953125\n",
      "Validation rmse: 19.86563523109104\n",
      "Validation mae: 14.796492\n",
      "Validation mape: 0.18153954\n",
      "Validation acc: -0.012869000434875488\n"
     ]
    },
    {
     "name": "stderr",
     "output_type": "stream",
     "text": [
      "<ipython-input-6-5c6a0450ba2d>:85: DeprecationWarning: np.asscalar(a) is deprecated since NumPy v1.16, use a.item() instead\n",
      "  validation_losses.append(np.asscalar(val_loss.detach().cpu().numpy()))\n"
     ]
    },
    {
     "name": "stdout",
     "output_type": "stream",
     "text": [
      "epoch: 229\n",
      "Training loss: 890.3058063684825\n",
      "Training rmse: 57.200176\n",
      "Validation loss: 24246.376953125\n",
      "Validation rmse: 19.952751042648778\n",
      "Validation mae: 14.851733\n",
      "Validation mape: 0.18169907\n",
      "Validation acc: -0.024538516998291016\n"
     ]
    },
    {
     "name": "stderr",
     "output_type": "stream",
     "text": [
      "<ipython-input-6-5c6a0450ba2d>:85: DeprecationWarning: np.asscalar(a) is deprecated since NumPy v1.16, use a.item() instead\n",
      "  validation_losses.append(np.asscalar(val_loss.detach().cpu().numpy()))\n"
     ]
    },
    {
     "name": "stdout",
     "output_type": "stream",
     "text": [
      "epoch: 230\n",
      "Training loss: 893.466547757494\n",
      "Training rmse: 57.23908\n",
      "Validation loss: 23951.04296875\n",
      "Validation rmse: 19.83085133812772\n",
      "Validation mae: 14.754845\n",
      "Validation mape: 0.17553836\n",
      "Validation acc: -0.004867434501647949\n"
     ]
    },
    {
     "name": "stderr",
     "output_type": "stream",
     "text": [
      "<ipython-input-6-5c6a0450ba2d>:85: DeprecationWarning: np.asscalar(a) is deprecated since NumPy v1.16, use a.item() instead\n",
      "  validation_losses.append(np.asscalar(val_loss.detach().cpu().numpy()))\n"
     ]
    },
    {
     "name": "stdout",
     "output_type": "stream",
     "text": [
      "epoch: 231\n",
      "Training loss: 886.8296294947252\n",
      "Training rmse: 57.15871\n",
      "Validation loss: 23781.04296875\n",
      "Validation rmse: 19.760342364723687\n",
      "Validation mae: 14.71301\n",
      "Validation mape: 0.17999512\n",
      "Validation acc: -0.004654049873352051\n"
     ]
    },
    {
     "name": "stderr",
     "output_type": "stream",
     "text": [
      "<ipython-input-6-5c6a0450ba2d>:85: DeprecationWarning: np.asscalar(a) is deprecated since NumPy v1.16, use a.item() instead\n",
      "  validation_losses.append(np.asscalar(val_loss.detach().cpu().numpy()))\n"
     ]
    },
    {
     "name": "stdout",
     "output_type": "stream",
     "text": [
      "epoch: 232\n",
      "Training loss: 883.7494710833369\n",
      "Training rmse: 57.124958\n",
      "Validation loss: 23738.396484375\n",
      "Validation rmse: 19.742612591881677\n",
      "Validation mae: 14.688477\n",
      "Validation mape: 0.17876415\n",
      "Validation acc: -0.005873203277587891\n"
     ]
    },
    {
     "name": "stderr",
     "output_type": "stream",
     "text": [
      "<ipython-input-6-5c6a0450ba2d>:85: DeprecationWarning: np.asscalar(a) is deprecated since NumPy v1.16, use a.item() instead\n",
      "  validation_losses.append(np.asscalar(val_loss.detach().cpu().numpy()))\n"
     ]
    },
    {
     "name": "stdout",
     "output_type": "stream",
     "text": [
      "epoch: 233\n",
      "Training loss: 881.8496611126862\n",
      "Training rmse: 57.10492\n",
      "Validation loss: 24090.388671875\n",
      "Validation rmse: 19.88845389024826\n",
      "Validation mae: 14.79142\n",
      "Validation mape: 0.18071967\n",
      "Validation acc: -0.018743157386779785\n"
     ]
    },
    {
     "name": "stderr",
     "output_type": "stream",
     "text": [
      "<ipython-input-6-5c6a0450ba2d>:85: DeprecationWarning: np.asscalar(a) is deprecated since NumPy v1.16, use a.item() instead\n",
      "  validation_losses.append(np.asscalar(val_loss.detach().cpu().numpy()))\n"
     ]
    },
    {
     "name": "stdout",
     "output_type": "stream",
     "text": [
      "epoch: 234\n",
      "Training loss: 878.8760893353425\n",
      "Training rmse: 57.06727\n",
      "Validation loss: 24800.591796875\n",
      "Validation rmse: 20.17950526800219\n",
      "Validation mae: 15.184373\n",
      "Validation mape: 0.19016904\n",
      "Validation acc: -0.0066165924072265625\n"
     ]
    },
    {
     "name": "stderr",
     "output_type": "stream",
     "text": [
      "<ipython-input-6-5c6a0450ba2d>:85: DeprecationWarning: np.asscalar(a) is deprecated since NumPy v1.16, use a.item() instead\n",
      "  validation_losses.append(np.asscalar(val_loss.detach().cpu().numpy()))\n"
     ]
    },
    {
     "name": "stdout",
     "output_type": "stream",
     "text": [
      "epoch: 235\n",
      "Training loss: 874.6101630426223\n",
      "Training rmse: 57.0181\n",
      "Validation loss: 24347.859375\n",
      "Validation rmse: 19.994454187153686\n",
      "Validation mae: 14.84947\n",
      "Validation mape: 0.1775428\n",
      "Validation acc: -0.027158260345458984\n"
     ]
    },
    {
     "name": "stderr",
     "output_type": "stream",
     "text": [
      "<ipython-input-6-5c6a0450ba2d>:85: DeprecationWarning: np.asscalar(a) is deprecated since NumPy v1.16, use a.item() instead\n",
      "  validation_losses.append(np.asscalar(val_loss.detach().cpu().numpy()))\n"
     ]
    },
    {
     "name": "stdout",
     "output_type": "stream",
     "text": [
      "epoch: 236\n",
      "Training loss: 878.1200376120946\n",
      "Training rmse: 57.05789\n",
      "Validation loss: 23877.365234375\n",
      "Validation rmse: 19.800313866179465\n",
      "Validation mae: 14.74082\n",
      "Validation mape: 0.17830446\n",
      "Validation acc: -0.012543678283691406\n"
     ]
    },
    {
     "name": "stderr",
     "output_type": "stream",
     "text": [
      "<ipython-input-6-5c6a0450ba2d>:85: DeprecationWarning: np.asscalar(a) is deprecated since NumPy v1.16, use a.item() instead\n",
      "  validation_losses.append(np.asscalar(val_loss.detach().cpu().numpy()))\n"
     ]
    },
    {
     "name": "stdout",
     "output_type": "stream",
     "text": [
      "epoch: 237\n",
      "Training loss: 873.5996753870372\n",
      "Training rmse: 57.004833\n",
      "Validation loss: 24280.224609375\n",
      "Validation rmse: 19.966657693104114\n",
      "Validation mae: 14.833558\n",
      "Validation mape: 0.18129371\n",
      "Validation acc: -0.026645541191101074\n"
     ]
    },
    {
     "name": "stderr",
     "output_type": "stream",
     "text": [
      "<ipython-input-6-5c6a0450ba2d>:85: DeprecationWarning: np.asscalar(a) is deprecated since NumPy v1.16, use a.item() instead\n",
      "  validation_losses.append(np.asscalar(val_loss.detach().cpu().numpy()))\n"
     ]
    },
    {
     "name": "stdout",
     "output_type": "stream",
     "text": [
      "epoch: 238\n",
      "Training loss: 876.7094022689328\n",
      "Training rmse: 57.04158\n",
      "Validation loss: 24618.306640625\n",
      "Validation rmse: 20.105196669156676\n",
      "Validation mae: 15.01654\n",
      "Validation mape: 0.17651567\n",
      "Validation acc: -0.015419363975524902\n"
     ]
    },
    {
     "name": "stderr",
     "output_type": "stream",
     "text": [
      "<ipython-input-6-5c6a0450ba2d>:85: DeprecationWarning: np.asscalar(a) is deprecated since NumPy v1.16, use a.item() instead\n",
      "  validation_losses.append(np.asscalar(val_loss.detach().cpu().numpy()))\n"
     ]
    },
    {
     "name": "stdout",
     "output_type": "stream",
     "text": [
      "epoch: 239\n",
      "Training loss: 867.1266185801517\n",
      "Training rmse: 56.931385\n",
      "Validation loss: 24511.341796875\n",
      "Validation rmse: 20.06146636867126\n",
      "Validation mae: 14.9092045\n",
      "Validation mape: 0.18291439\n",
      "Validation acc: -0.033292293548583984\n"
     ]
    },
    {
     "name": "stderr",
     "output_type": "stream",
     "text": [
      "<ipython-input-6-5c6a0450ba2d>:85: DeprecationWarning: np.asscalar(a) is deprecated since NumPy v1.16, use a.item() instead\n",
      "  validation_losses.append(np.asscalar(val_loss.detach().cpu().numpy()))\n"
     ]
    },
    {
     "name": "stdout",
     "output_type": "stream",
     "text": [
      "epoch: 240\n",
      "Training loss: 865.4402214241711\n",
      "Training rmse: 56.911266\n",
      "Validation loss: 24126.509765625\n",
      "Validation rmse: 19.903349229385366\n",
      "Validation mae: 14.7997465\n",
      "Validation mape: 0.18055737\n",
      "Validation acc: -0.021224617958068848\n"
     ]
    },
    {
     "name": "stderr",
     "output_type": "stream",
     "text": [
      "<ipython-input-6-5c6a0450ba2d>:85: DeprecationWarning: np.asscalar(a) is deprecated since NumPy v1.16, use a.item() instead\n",
      "  validation_losses.append(np.asscalar(val_loss.detach().cpu().numpy()))\n"
     ]
    },
    {
     "name": "stdout",
     "output_type": "stream",
     "text": [
      "epoch: 241\n",
      "Training loss: 861.1716690336932\n",
      "Training rmse: 56.86471\n",
      "Validation loss: 23807.10546875\n",
      "Validation rmse: 19.771153963609063\n",
      "Validation mae: 14.728912\n",
      "Validation mape: 0.17654839\n",
      "Validation acc: -0.006023406982421875\n"
     ]
    },
    {
     "name": "stderr",
     "output_type": "stream",
     "text": [
      "<ipython-input-6-5c6a0450ba2d>:85: DeprecationWarning: np.asscalar(a) is deprecated since NumPy v1.16, use a.item() instead\n",
      "  validation_losses.append(np.asscalar(val_loss.detach().cpu().numpy()))\n"
     ]
    },
    {
     "name": "stdout",
     "output_type": "stream",
     "text": [
      "epoch: 242\n",
      "Training loss: 858.5259408164623\n",
      "Training rmse: 56.828846\n",
      "Validation loss: 25092.8203125\n",
      "Validation rmse: 20.29804097762385\n",
      "Validation mae: 15.182918\n",
      "Validation mape: 0.18870628\n",
      "Validation acc: -0.03920638561248779\n"
     ]
    },
    {
     "name": "stderr",
     "output_type": "stream",
     "text": [
      "<ipython-input-6-5c6a0450ba2d>:85: DeprecationWarning: np.asscalar(a) is deprecated since NumPy v1.16, use a.item() instead\n",
      "  validation_losses.append(np.asscalar(val_loss.detach().cpu().numpy()))\n"
     ]
    },
    {
     "name": "stdout",
     "output_type": "stream",
     "text": [
      "epoch: 243\n",
      "Training loss: 862.2326799071391\n",
      "Training rmse: 56.87134\n",
      "Validation loss: 24929.82421875\n",
      "Validation rmse: 20.232001700826974\n",
      "Validation mae: 15.128615\n",
      "Validation mape: 0.187352\n",
      "Validation acc: -0.04056191444396973\n"
     ]
    },
    {
     "name": "stderr",
     "output_type": "stream",
     "text": [
      "<ipython-input-6-5c6a0450ba2d>:85: DeprecationWarning: np.asscalar(a) is deprecated since NumPy v1.16, use a.item() instead\n",
      "  validation_losses.append(np.asscalar(val_loss.detach().cpu().numpy()))\n"
     ]
    },
    {
     "name": "stdout",
     "output_type": "stream",
     "text": [
      "epoch: 244\n",
      "Training loss: 862.2256267369862\n",
      "Training rmse: 56.874477\n",
      "Validation loss: 24814.458984375\n",
      "Validation rmse: 20.18512950478644\n",
      "Validation mae: 15.00302\n",
      "Validation mape: 0.1839406\n",
      "Validation acc: -0.04678773880004883\n"
     ]
    },
    {
     "name": "stderr",
     "output_type": "stream",
     "text": [
      "<ipython-input-6-5c6a0450ba2d>:85: DeprecationWarning: np.asscalar(a) is deprecated since NumPy v1.16, use a.item() instead\n",
      "  validation_losses.append(np.asscalar(val_loss.detach().cpu().numpy()))\n"
     ]
    },
    {
     "name": "stdout",
     "output_type": "stream",
     "text": [
      "epoch: 245\n",
      "Training loss: 856.693613524078\n",
      "Training rmse: 56.809013\n",
      "Validation loss: 24576.275390625\n",
      "Validation rmse: 20.088015104287386\n",
      "Validation mae: 14.93998\n",
      "Validation mape: 0.18337797\n",
      "Validation acc: -0.035271286964416504\n"
     ]
    },
    {
     "name": "stderr",
     "output_type": "stream",
     "text": [
      "<ipython-input-6-5c6a0450ba2d>:85: DeprecationWarning: np.asscalar(a) is deprecated since NumPy v1.16, use a.item() instead\n",
      "  validation_losses.append(np.asscalar(val_loss.detach().cpu().numpy()))\n"
     ]
    },
    {
     "name": "stdout",
     "output_type": "stream",
     "text": [
      "epoch: 246\n",
      "Training loss: 847.8088795104761\n",
      "Training rmse: 56.705605\n",
      "Validation loss: 24695.369140625\n",
      "Validation rmse: 20.136631228592535\n",
      "Validation mae: 14.925994\n",
      "Validation mape: 0.1796496\n",
      "Validation acc: -0.04639995098114014\n"
     ]
    },
    {
     "name": "stderr",
     "output_type": "stream",
     "text": [
      "<ipython-input-6-5c6a0450ba2d>:85: DeprecationWarning: np.asscalar(a) is deprecated since NumPy v1.16, use a.item() instead\n",
      "  validation_losses.append(np.asscalar(val_loss.detach().cpu().numpy()))\n"
     ]
    },
    {
     "name": "stdout",
     "output_type": "stream",
     "text": [
      "epoch: 247\n",
      "Training loss: 851.9010118053806\n",
      "Training rmse: 56.75275\n",
      "Validation loss: 25066.818359375\n",
      "Validation rmse: 20.28751167301728\n",
      "Validation mae: 15.092005\n",
      "Validation mape: 0.18558596\n",
      "Validation acc: -0.053202033042907715\n"
     ]
    },
    {
     "name": "stderr",
     "output_type": "stream",
     "text": [
      "<ipython-input-6-5c6a0450ba2d>:85: DeprecationWarning: np.asscalar(a) is deprecated since NumPy v1.16, use a.item() instead\n",
      "  validation_losses.append(np.asscalar(val_loss.detach().cpu().numpy()))\n"
     ]
    },
    {
     "name": "stdout",
     "output_type": "stream",
     "text": [
      "epoch: 248\n",
      "Training loss: 852.1599514322041\n",
      "Training rmse: 56.75539\n",
      "Validation loss: 24689.26171875\n",
      "Validation rmse: 20.13413727694134\n",
      "Validation mae: 15.021575\n",
      "Validation mape: 0.18498667\n",
      "Validation acc: -0.0363544225692749\n"
     ]
    },
    {
     "name": "stderr",
     "output_type": "stream",
     "text": [
      "<ipython-input-6-5c6a0450ba2d>:85: DeprecationWarning: np.asscalar(a) is deprecated since NumPy v1.16, use a.item() instead\n",
      "  validation_losses.append(np.asscalar(val_loss.detach().cpu().numpy()))\n"
     ]
    },
    {
     "name": "stdout",
     "output_type": "stream",
     "text": [
      "epoch: 249\n",
      "Training loss: 844.8050785406516\n",
      "Training rmse: 56.667603\n",
      "Validation loss: 24755.68359375\n",
      "Validation rmse: 20.16120185054933\n",
      "Validation mae: 15.007277\n",
      "Validation mape: 0.18279763\n",
      "Validation acc: -0.048767805099487305\n"
     ]
    },
    {
     "name": "stderr",
     "output_type": "stream",
     "text": [
      "<ipython-input-6-5c6a0450ba2d>:85: DeprecationWarning: np.asscalar(a) is deprecated since NumPy v1.16, use a.item() instead\n",
      "  validation_losses.append(np.asscalar(val_loss.detach().cpu().numpy()))\n"
     ]
    },
    {
     "name": "stdout",
     "output_type": "stream",
     "text": [
      "epoch: 250\n",
      "Training loss: 847.0561423899879\n",
      "Training rmse: 56.694035\n",
      "Validation loss: 24879.05859375\n",
      "Validation rmse: 20.211379156606544\n",
      "Validation mae: 15.042686\n",
      "Validation mape: 0.1850319\n",
      "Validation acc: -0.04692542552947998\n"
     ]
    },
    {
     "name": "stderr",
     "output_type": "stream",
     "text": [
      "<ipython-input-6-5c6a0450ba2d>:85: DeprecationWarning: np.asscalar(a) is deprecated since NumPy v1.16, use a.item() instead\n",
      "  validation_losses.append(np.asscalar(val_loss.detach().cpu().numpy()))\n"
     ]
    },
    {
     "name": "stdout",
     "output_type": "stream",
     "text": [
      "epoch: 251\n",
      "Training loss: 843.0246754307901\n",
      "Training rmse: 56.6524\n",
      "Validation loss: 24617.626953125\n",
      "Validation rmse: 20.104902954322718\n",
      "Validation mae: 14.926067\n",
      "Validation mape: 0.18179566\n",
      "Validation acc: -0.04279816150665283\n"
     ]
    },
    {
     "name": "stderr",
     "output_type": "stream",
     "text": [
      "<ipython-input-6-5c6a0450ba2d>:85: DeprecationWarning: np.asscalar(a) is deprecated since NumPy v1.16, use a.item() instead\n",
      "  validation_losses.append(np.asscalar(val_loss.detach().cpu().numpy()))\n"
     ]
    },
    {
     "name": "stdout",
     "output_type": "stream",
     "text": [
      "epoch: 252\n",
      "Training loss: 847.8151400439629\n",
      "Training rmse: 56.705868\n",
      "Validation loss: 24548.841796875\n",
      "Validation rmse: 20.076790446892588\n",
      "Validation mae: 14.988804\n",
      "Validation mape: 0.1847924\n",
      "Validation acc: -0.02988898754119873\n"
     ]
    },
    {
     "name": "stderr",
     "output_type": "stream",
     "text": [
      "<ipython-input-6-5c6a0450ba2d>:85: DeprecationWarning: np.asscalar(a) is deprecated since NumPy v1.16, use a.item() instead\n",
      "  validation_losses.append(np.asscalar(val_loss.detach().cpu().numpy()))\n"
     ]
    },
    {
     "name": "stdout",
     "output_type": "stream",
     "text": [
      "epoch: 253\n",
      "Training loss: 838.3129212300837\n",
      "Training rmse: 56.59576\n",
      "Validation loss: 26141.8671875\n",
      "Validation rmse: 20.718004676450807\n",
      "Validation mae: 15.570186\n",
      "Validation mape: 0.19445984\n",
      "Validation acc: -0.07219874858856201\n"
     ]
    },
    {
     "name": "stderr",
     "output_type": "stream",
     "text": [
      "<ipython-input-6-5c6a0450ba2d>:85: DeprecationWarning: np.asscalar(a) is deprecated since NumPy v1.16, use a.item() instead\n",
      "  validation_losses.append(np.asscalar(val_loss.detach().cpu().numpy()))\n"
     ]
    },
    {
     "name": "stdout",
     "output_type": "stream",
     "text": [
      "epoch: 254\n",
      "Training loss: 838.9087840528044\n",
      "Training rmse: 56.600807\n",
      "Validation loss: 24862.65625\n",
      "Validation rmse: 20.20471175734179\n",
      "Validation mae: 15.022048\n",
      "Validation mape: 0.18379836\n",
      "Validation acc: -0.05095946788787842\n"
     ]
    },
    {
     "name": "stderr",
     "output_type": "stream",
     "text": [
      "<ipython-input-6-5c6a0450ba2d>:85: DeprecationWarning: np.asscalar(a) is deprecated since NumPy v1.16, use a.item() instead\n",
      "  validation_losses.append(np.asscalar(val_loss.detach().cpu().numpy()))\n"
     ]
    },
    {
     "name": "stdout",
     "output_type": "stream",
     "text": [
      "epoch: 255\n",
      "Training loss: 839.8976213462037\n",
      "Training rmse: 56.61267\n",
      "Validation loss: 25558.359375\n",
      "Validation rmse: 20.485461778712956\n",
      "Validation mae: 15.324878\n",
      "Validation mape: 0.19076423\n",
      "Validation acc: -0.05419433116912842\n"
     ]
    },
    {
     "name": "stderr",
     "output_type": "stream",
     "text": [
      "<ipython-input-6-5c6a0450ba2d>:85: DeprecationWarning: np.asscalar(a) is deprecated since NumPy v1.16, use a.item() instead\n",
      "  validation_losses.append(np.asscalar(val_loss.detach().cpu().numpy()))\n"
     ]
    },
    {
     "name": "stdout",
     "output_type": "stream",
     "text": [
      "epoch: 256\n",
      "Training loss: 835.994652642144\n",
      "Training rmse: 56.569736\n",
      "Validation loss: 24722.462890625\n",
      "Validation rmse: 20.147661990697735\n",
      "Validation mae: 14.96147\n",
      "Validation mape: 0.1834388\n",
      "Validation acc: -0.042913079261779785\n"
     ]
    },
    {
     "name": "stderr",
     "output_type": "stream",
     "text": [
      "<ipython-input-6-5c6a0450ba2d>:85: DeprecationWarning: np.asscalar(a) is deprecated since NumPy v1.16, use a.item() instead\n",
      "  validation_losses.append(np.asscalar(val_loss.detach().cpu().numpy()))\n"
     ]
    },
    {
     "name": "stdout",
     "output_type": "stream",
     "text": [
      "epoch: 257\n",
      "Training loss: 835.9074840477291\n",
      "Training rmse: 56.563004\n",
      "Validation loss: 24886.13671875\n",
      "Validation rmse: 20.21424704735267\n",
      "Validation mae: 15.026816\n",
      "Validation mape: 0.18250947\n",
      "Validation acc: -0.05508768558502197\n"
     ]
    },
    {
     "name": "stderr",
     "output_type": "stream",
     "text": [
      "<ipython-input-6-5c6a0450ba2d>:85: DeprecationWarning: np.asscalar(a) is deprecated since NumPy v1.16, use a.item() instead\n",
      "  validation_losses.append(np.asscalar(val_loss.detach().cpu().numpy()))\n"
     ]
    },
    {
     "name": "stdout",
     "output_type": "stream",
     "text": [
      "epoch: 258\n",
      "Training loss: 831.3572166196761\n",
      "Training rmse: 56.511642\n",
      "Validation loss: 24893.375\n",
      "Validation rmse: 20.21718623203103\n",
      "Validation mae: 15.019663\n",
      "Validation mape: 0.18163486\n",
      "Validation acc: -0.05554080009460449\n"
     ]
    },
    {
     "name": "stderr",
     "output_type": "stream",
     "text": [
      "<ipython-input-6-5c6a0450ba2d>:85: DeprecationWarning: np.asscalar(a) is deprecated since NumPy v1.16, use a.item() instead\n",
      "  validation_losses.append(np.asscalar(val_loss.detach().cpu().numpy()))\n"
     ]
    },
    {
     "name": "stdout",
     "output_type": "stream",
     "text": [
      "epoch: 259\n",
      "Training loss: 833.5862340892942\n",
      "Training rmse: 56.53544\n",
      "Validation loss: 25433.28515625\n",
      "Validation rmse: 20.435266775205754\n",
      "Validation mae: 15.27343\n",
      "Validation mape: 0.18982457\n",
      "Validation acc: -0.052745938301086426\n"
     ]
    },
    {
     "name": "stderr",
     "output_type": "stream",
     "text": [
      "<ipython-input-6-5c6a0450ba2d>:85: DeprecationWarning: np.asscalar(a) is deprecated since NumPy v1.16, use a.item() instead\n",
      "  validation_losses.append(np.asscalar(val_loss.detach().cpu().numpy()))\n"
     ]
    },
    {
     "name": "stdout",
     "output_type": "stream",
     "text": [
      "epoch: 260\n",
      "Training loss: 828.711909195001\n",
      "Training rmse: 56.48535\n",
      "Validation loss: 25542.5546875\n",
      "Validation rmse: 20.47911831865266\n",
      "Validation mae: 15.299978\n",
      "Validation mape: 0.19047962\n",
      "Validation acc: -0.05617964267730713\n"
     ]
    },
    {
     "name": "stderr",
     "output_type": "stream",
     "text": [
      "<ipython-input-6-5c6a0450ba2d>:85: DeprecationWarning: np.asscalar(a) is deprecated since NumPy v1.16, use a.item() instead\n",
      "  validation_losses.append(np.asscalar(val_loss.detach().cpu().numpy()))\n"
     ]
    },
    {
     "name": "stdout",
     "output_type": "stream",
     "text": [
      "epoch: 261\n",
      "Training loss: 827.8882089156831\n",
      "Training rmse: 56.471615\n",
      "Validation loss: 25888.7109375\n",
      "Validation rmse: 20.617428771324153\n",
      "Validation mae: 15.378582\n",
      "Validation mape: 0.19185904\n",
      "Validation acc: -0.06269824504852295\n"
     ]
    },
    {
     "name": "stderr",
     "output_type": "stream",
     "text": [
      "<ipython-input-6-5c6a0450ba2d>:85: DeprecationWarning: np.asscalar(a) is deprecated since NumPy v1.16, use a.item() instead\n",
      "  validation_losses.append(np.asscalar(val_loss.detach().cpu().numpy()))\n"
     ]
    },
    {
     "name": "stdout",
     "output_type": "stream",
     "text": [
      "epoch: 262\n",
      "Training loss: 829.6888265302105\n",
      "Training rmse: 56.492336\n",
      "Validation loss: 24349.0234375\n",
      "Validation rmse: 19.994897573007922\n",
      "Validation mae: 14.892326\n",
      "Validation mape: 0.17951101\n",
      "Validation acc: -0.03132915496826172\n"
     ]
    },
    {
     "name": "stderr",
     "output_type": "stream",
     "text": [
      "<ipython-input-6-5c6a0450ba2d>:85: DeprecationWarning: np.asscalar(a) is deprecated since NumPy v1.16, use a.item() instead\n",
      "  validation_losses.append(np.asscalar(val_loss.detach().cpu().numpy()))\n"
     ]
    },
    {
     "name": "stdout",
     "output_type": "stream",
     "text": [
      "epoch: 263\n",
      "Training loss: 827.1346530709216\n",
      "Training rmse: 56.463425\n",
      "Validation loss: 25058.2109375\n",
      "Validation rmse: 20.28401097106336\n",
      "Validation mae: 15.033753\n",
      "Validation mape: 0.17994732\n",
      "Validation acc: -0.05841207504272461\n"
     ]
    },
    {
     "name": "stderr",
     "output_type": "stream",
     "text": [
      "<ipython-input-6-5c6a0450ba2d>:85: DeprecationWarning: np.asscalar(a) is deprecated since NumPy v1.16, use a.item() instead\n",
      "  validation_losses.append(np.asscalar(val_loss.detach().cpu().numpy()))\n"
     ]
    },
    {
     "name": "stdout",
     "output_type": "stream",
     "text": [
      "epoch: 264\n",
      "Training loss: 827.7406668167388\n",
      "Training rmse: 56.469658\n",
      "Validation loss: 25208.404296875\n",
      "Validation rmse: 20.344710788804004\n",
      "Validation mae: 15.120464\n",
      "Validation mape: 0.18589893\n",
      "Validation acc: -0.06027567386627197\n"
     ]
    },
    {
     "name": "stderr",
     "output_type": "stream",
     "text": [
      "<ipython-input-6-5c6a0450ba2d>:85: DeprecationWarning: np.asscalar(a) is deprecated since NumPy v1.16, use a.item() instead\n",
      "  validation_losses.append(np.asscalar(val_loss.detach().cpu().numpy()))\n"
     ]
    },
    {
     "name": "stdout",
     "output_type": "stream",
     "text": [
      "epoch: 265\n",
      "Training loss: 823.8583746469149\n",
      "Training rmse: 56.42535\n",
      "Validation loss: 25103.212890625\n",
      "Validation rmse: 20.302214944203133\n",
      "Validation mae: 15.072834\n",
      "Validation mape: 0.18448606\n",
      "Validation acc: -0.06067943572998047\n"
     ]
    },
    {
     "name": "stderr",
     "output_type": "stream",
     "text": [
      "<ipython-input-6-5c6a0450ba2d>:85: DeprecationWarning: np.asscalar(a) is deprecated since NumPy v1.16, use a.item() instead\n",
      "  validation_losses.append(np.asscalar(val_loss.detach().cpu().numpy()))\n"
     ]
    },
    {
     "name": "stdout",
     "output_type": "stream",
     "text": [
      "epoch: 266\n",
      "Training loss: 821.3542979797583\n",
      "Training rmse: 56.38883\n",
      "Validation loss: 26693.580078125\n",
      "Validation rmse: 20.935481187653505\n",
      "Validation mae: 15.713443\n",
      "Validation mape: 0.19723226\n",
      "Validation acc: -0.08262050151824951\n"
     ]
    },
    {
     "name": "stderr",
     "output_type": "stream",
     "text": [
      "<ipython-input-6-5c6a0450ba2d>:85: DeprecationWarning: np.asscalar(a) is deprecated since NumPy v1.16, use a.item() instead\n",
      "  validation_losses.append(np.asscalar(val_loss.detach().cpu().numpy()))\n"
     ]
    },
    {
     "name": "stdout",
     "output_type": "stream",
     "text": [
      "epoch: 267\n",
      "Training loss: 818.8690708939747\n",
      "Training rmse: 56.365845\n",
      "Validation loss: 28045.466796875\n",
      "Validation rmse: 21.459100189826955\n",
      "Validation mae: 16.356783\n",
      "Validation mape: 0.20904168\n",
      "Validation acc: -0.06778430938720703\n"
     ]
    },
    {
     "name": "stderr",
     "output_type": "stream",
     "text": [
      "<ipython-input-6-5c6a0450ba2d>:85: DeprecationWarning: np.asscalar(a) is deprecated since NumPy v1.16, use a.item() instead\n",
      "  validation_losses.append(np.asscalar(val_loss.detach().cpu().numpy()))\n"
     ]
    },
    {
     "name": "stdout",
     "output_type": "stream",
     "text": [
      "epoch: 268\n",
      "Training loss: 821.6594043034379\n",
      "Training rmse: 56.397438\n",
      "Validation loss: 25194.25\n",
      "Validation rmse: 20.33899263931307\n",
      "Validation mae: 15.105332\n",
      "Validation mape: 0.18459445\n",
      "Validation acc: -0.06619596481323242\n"
     ]
    },
    {
     "name": "stderr",
     "output_type": "stream",
     "text": [
      "<ipython-input-6-5c6a0450ba2d>:85: DeprecationWarning: np.asscalar(a) is deprecated since NumPy v1.16, use a.item() instead\n",
      "  validation_losses.append(np.asscalar(val_loss.detach().cpu().numpy()))\n"
     ]
    },
    {
     "name": "stdout",
     "output_type": "stream",
     "text": [
      "epoch: 269\n",
      "Training loss: 816.9866901247304\n",
      "Training rmse: 56.33998\n",
      "Validation loss: 24911.599609375\n",
      "Validation rmse: 20.22457532967318\n",
      "Validation mae: 15.051586\n",
      "Validation mape: 0.18476196\n",
      "Validation acc: -0.050446271896362305\n"
     ]
    },
    {
     "name": "stderr",
     "output_type": "stream",
     "text": [
      "<ipython-input-6-5c6a0450ba2d>:85: DeprecationWarning: np.asscalar(a) is deprecated since NumPy v1.16, use a.item() instead\n",
      "  validation_losses.append(np.asscalar(val_loss.detach().cpu().numpy()))\n"
     ]
    },
    {
     "name": "stdout",
     "output_type": "stream",
     "text": [
      "epoch: 270\n",
      "Training loss: 817.1742964987259\n",
      "Training rmse: 56.342663\n",
      "Validation loss: 24474.755859375\n",
      "Validation rmse: 20.046447987219505\n",
      "Validation mae: 15.006244\n",
      "Validation mape: 0.18115528\n",
      "Validation acc: -0.03715693950653076\n"
     ]
    },
    {
     "name": "stderr",
     "output_type": "stream",
     "text": [
      "<ipython-input-6-5c6a0450ba2d>:85: DeprecationWarning: np.asscalar(a) is deprecated since NumPy v1.16, use a.item() instead\n",
      "  validation_losses.append(np.asscalar(val_loss.detach().cpu().numpy()))\n"
     ]
    },
    {
     "name": "stdout",
     "output_type": "stream",
     "text": [
      "epoch: 271\n",
      "Training loss: 817.6701754224771\n",
      "Training rmse: 56.345394\n",
      "Validation loss: 25247.98046875\n",
      "Validation rmse: 20.36066629994545\n",
      "Validation mae: 15.113386\n",
      "Validation mape: 0.18290924\n",
      "Validation acc: -0.07048356533050537\n"
     ]
    },
    {
     "name": "stderr",
     "output_type": "stream",
     "text": [
      "<ipython-input-6-5c6a0450ba2d>:85: DeprecationWarning: np.asscalar(a) is deprecated since NumPy v1.16, use a.item() instead\n",
      "  validation_losses.append(np.asscalar(val_loss.detach().cpu().numpy()))\n"
     ]
    },
    {
     "name": "stdout",
     "output_type": "stream",
     "text": [
      "epoch: 272\n",
      "Training loss: 817.0038844829819\n",
      "Training rmse: 56.340424\n",
      "Validation loss: 25811.705078125\n",
      "Validation rmse: 20.586726888328055\n",
      "Validation mae: 15.309492\n",
      "Validation mape: 0.1896295\n",
      "Validation acc: -0.07893407344818115\n"
     ]
    },
    {
     "name": "stderr",
     "output_type": "stream",
     "text": [
      "<ipython-input-6-5c6a0450ba2d>:85: DeprecationWarning: np.asscalar(a) is deprecated since NumPy v1.16, use a.item() instead\n",
      "  validation_losses.append(np.asscalar(val_loss.detach().cpu().numpy()))\n"
     ]
    },
    {
     "name": "stdout",
     "output_type": "stream",
     "text": [
      "epoch: 273\n",
      "Training loss: 815.5568057371297\n",
      "Training rmse: 56.324135\n",
      "Validation loss: 25619.181640625\n",
      "Validation rmse: 20.509799754905657\n",
      "Validation mae: 15.416178\n",
      "Validation mape: 0.19201763\n",
      "Validation acc: -0.06261956691741943\n"
     ]
    },
    {
     "name": "stderr",
     "output_type": "stream",
     "text": [
      "<ipython-input-6-5c6a0450ba2d>:85: DeprecationWarning: np.asscalar(a) is deprecated since NumPy v1.16, use a.item() instead\n",
      "  validation_losses.append(np.asscalar(val_loss.detach().cpu().numpy()))\n"
     ]
    },
    {
     "name": "stdout",
     "output_type": "stream",
     "text": [
      "epoch: 274\n",
      "Training loss: 813.2497349127219\n",
      "Training rmse: 56.295387\n",
      "Validation loss: 26181.642578125\n",
      "Validation rmse: 20.733734005964244\n",
      "Validation mae: 15.389636\n",
      "Validation mape: 0.19009896\n",
      "Validation acc: -0.09599530696868896\n"
     ]
    },
    {
     "name": "stderr",
     "output_type": "stream",
     "text": [
      "<ipython-input-6-5c6a0450ba2d>:85: DeprecationWarning: np.asscalar(a) is deprecated since NumPy v1.16, use a.item() instead\n",
      "  validation_losses.append(np.asscalar(val_loss.detach().cpu().numpy()))\n"
     ]
    },
    {
     "name": "stdout",
     "output_type": "stream",
     "text": [
      "epoch: 275\n",
      "Training loss: 810.0012954110313\n",
      "Training rmse: 56.25786\n",
      "Validation loss: 25445.947265625\n",
      "Validation rmse: 20.4403324322626\n",
      "Validation mae: 15.167136\n",
      "Validation mape: 0.18480329\n",
      "Validation acc: -0.07809460163116455\n"
     ]
    },
    {
     "name": "stderr",
     "output_type": "stream",
     "text": [
      "<ipython-input-6-5c6a0450ba2d>:85: DeprecationWarning: np.asscalar(a) is deprecated since NumPy v1.16, use a.item() instead\n",
      "  validation_losses.append(np.asscalar(val_loss.detach().cpu().numpy()))\n"
     ]
    },
    {
     "name": "stdout",
     "output_type": "stream",
     "text": [
      "epoch: 276\n",
      "Training loss: 807.9770042938998\n",
      "Training rmse: 56.23229\n",
      "Validation loss: 26229.015625\n",
      "Validation rmse: 20.75248170282706\n",
      "Validation mae: 15.496762\n",
      "Validation mape: 0.19414008\n",
      "Validation acc: -0.07014882564544678\n"
     ]
    },
    {
     "name": "stderr",
     "output_type": "stream",
     "text": [
      "<ipython-input-6-5c6a0450ba2d>:85: DeprecationWarning: np.asscalar(a) is deprecated since NumPy v1.16, use a.item() instead\n",
      "  validation_losses.append(np.asscalar(val_loss.detach().cpu().numpy()))\n"
     ]
    },
    {
     "name": "stdout",
     "output_type": "stream",
     "text": [
      "epoch: 277\n",
      "Training loss: 807.1709839195333\n",
      "Training rmse: 56.22136\n",
      "Validation loss: 25896.36328125\n",
      "Validation rmse: 20.620454044467596\n",
      "Validation mae: 15.416339\n",
      "Validation mape: 0.1922673\n",
      "Validation acc: -0.06788444519042969\n"
     ]
    },
    {
     "name": "stderr",
     "output_type": "stream",
     "text": [
      "<ipython-input-6-5c6a0450ba2d>:85: DeprecationWarning: np.asscalar(a) is deprecated since NumPy v1.16, use a.item() instead\n",
      "  validation_losses.append(np.asscalar(val_loss.detach().cpu().numpy()))\n"
     ]
    },
    {
     "name": "stdout",
     "output_type": "stream",
     "text": [
      "epoch: 278\n",
      "Training loss: 803.4460495159191\n",
      "Training rmse: 56.17878\n",
      "Validation loss: 25623.044921875\n",
      "Validation rmse: 20.51134195818941\n",
      "Validation mae: 15.204092\n",
      "Validation mape: 0.18613468\n",
      "Validation acc: -0.08319449424743652\n"
     ]
    },
    {
     "name": "stderr",
     "output_type": "stream",
     "text": [
      "<ipython-input-6-5c6a0450ba2d>:85: DeprecationWarning: np.asscalar(a) is deprecated since NumPy v1.16, use a.item() instead\n",
      "  validation_losses.append(np.asscalar(val_loss.detach().cpu().numpy()))\n"
     ]
    },
    {
     "name": "stdout",
     "output_type": "stream",
     "text": [
      "epoch: 279\n",
      "Training loss: 808.8291730983283\n",
      "Training rmse: 56.24382\n",
      "Validation loss: 25248.408203125\n",
      "Validation rmse: 20.360829673904885\n",
      "Validation mae: 15.101572\n",
      "Validation mape: 0.18458986\n",
      "Validation acc: -0.06783437728881836\n"
     ]
    },
    {
     "name": "stderr",
     "output_type": "stream",
     "text": [
      "<ipython-input-6-5c6a0450ba2d>:85: DeprecationWarning: np.asscalar(a) is deprecated since NumPy v1.16, use a.item() instead\n",
      "  validation_losses.append(np.asscalar(val_loss.detach().cpu().numpy()))\n"
     ]
    },
    {
     "name": "stdout",
     "output_type": "stream",
     "text": [
      "epoch: 280\n",
      "Training loss: 804.2350559576438\n",
      "Training rmse: 56.185925\n",
      "Validation loss: 25329.33203125\n",
      "Validation rmse: 20.393434762111173\n",
      "Validation mae: 15.190142\n",
      "Validation mape: 0.18130806\n",
      "Validation acc: -0.06551384925842285\n"
     ]
    },
    {
     "name": "stderr",
     "output_type": "stream",
     "text": [
      "<ipython-input-6-5c6a0450ba2d>:85: DeprecationWarning: np.asscalar(a) is deprecated since NumPy v1.16, use a.item() instead\n",
      "  validation_losses.append(np.asscalar(val_loss.detach().cpu().numpy()))\n"
     ]
    },
    {
     "name": "stdout",
     "output_type": "stream",
     "text": [
      "epoch: 281\n",
      "Training loss: 808.3594368008303\n",
      "Training rmse: 56.23786\n",
      "Validation loss: 25394.24609375\n",
      "Validation rmse: 20.41954890037784\n",
      "Validation mae: 15.179663\n",
      "Validation mape: 0.1845765\n",
      "Validation acc: -0.07681429386138916\n"
     ]
    },
    {
     "name": "stderr",
     "output_type": "stream",
     "text": [
      "<ipython-input-6-5c6a0450ba2d>:85: DeprecationWarning: np.asscalar(a) is deprecated since NumPy v1.16, use a.item() instead\n",
      "  validation_losses.append(np.asscalar(val_loss.detach().cpu().numpy()))\n"
     ]
    },
    {
     "name": "stdout",
     "output_type": "stream",
     "text": [
      "epoch: 282\n",
      "Training loss: 799.8520695949541\n",
      "Training rmse: 56.132153\n",
      "Validation loss: 25589.990234375\n",
      "Validation rmse: 20.498101867631092\n",
      "Validation mae: 15.212974\n",
      "Validation mape: 0.18674482\n",
      "Validation acc: -0.07985246181488037\n"
     ]
    },
    {
     "name": "stderr",
     "output_type": "stream",
     "text": [
      "<ipython-input-6-5c6a0450ba2d>:85: DeprecationWarning: np.asscalar(a) is deprecated since NumPy v1.16, use a.item() instead\n",
      "  validation_losses.append(np.asscalar(val_loss.detach().cpu().numpy()))\n"
     ]
    },
    {
     "name": "stdout",
     "output_type": "stream",
     "text": [
      "epoch: 283\n",
      "Training loss: 801.1402639847075\n",
      "Training rmse: 56.151897\n",
      "Validation loss: 25400.314453125\n",
      "Validation rmse: 20.421986329315903\n",
      "Validation mae: 15.157278\n",
      "Validation mape: 0.1852346\n",
      "Validation acc: -0.07525277137756348\n"
     ]
    },
    {
     "name": "stderr",
     "output_type": "stream",
     "text": [
      "<ipython-input-6-5c6a0450ba2d>:85: DeprecationWarning: np.asscalar(a) is deprecated since NumPy v1.16, use a.item() instead\n",
      "  validation_losses.append(np.asscalar(val_loss.detach().cpu().numpy()))\n"
     ]
    },
    {
     "name": "stdout",
     "output_type": "stream",
     "text": [
      "epoch: 284\n",
      "Training loss: 802.1082923916506\n",
      "Training rmse: 56.160275\n",
      "Validation loss: 25324.025390625\n",
      "Validation rmse: 20.391291745564683\n",
      "Validation mae: 15.108796\n",
      "Validation mape: 0.18337518\n",
      "Validation acc: -0.07387328147888184\n"
     ]
    },
    {
     "name": "stderr",
     "output_type": "stream",
     "text": [
      "<ipython-input-6-5c6a0450ba2d>:85: DeprecationWarning: np.asscalar(a) is deprecated since NumPy v1.16, use a.item() instead\n",
      "  validation_losses.append(np.asscalar(val_loss.detach().cpu().numpy()))\n"
     ]
    },
    {
     "name": "stdout",
     "output_type": "stream",
     "text": [
      "epoch: 285\n",
      "Training loss: 796.0630935614254\n",
      "Training rmse: 56.088333\n",
      "Validation loss: 26103.666015625\n",
      "Validation rmse: 20.70282134211271\n",
      "Validation mae: 15.474729\n",
      "Validation mape: 0.19316876\n",
      "Validation acc: -0.07229554653167725\n"
     ]
    },
    {
     "name": "stderr",
     "output_type": "stream",
     "text": [
      "<ipython-input-6-5c6a0450ba2d>:85: DeprecationWarning: np.asscalar(a) is deprecated since NumPy v1.16, use a.item() instead\n",
      "  validation_losses.append(np.asscalar(val_loss.detach().cpu().numpy()))\n"
     ]
    },
    {
     "name": "stdout",
     "output_type": "stream",
     "text": [
      "epoch: 286\n",
      "Training loss: 795.3642272402309\n",
      "Training rmse: 56.08073\n",
      "Validation loss: 25976.953125\n",
      "Validation rmse: 20.65250592486448\n",
      "Validation mae: 15.399138\n",
      "Validation mape: 0.191852\n",
      "Validation acc: -0.07552647590637207\n"
     ]
    },
    {
     "name": "stderr",
     "output_type": "stream",
     "text": [
      "<ipython-input-6-5c6a0450ba2d>:85: DeprecationWarning: np.asscalar(a) is deprecated since NumPy v1.16, use a.item() instead\n",
      "  validation_losses.append(np.asscalar(val_loss.detach().cpu().numpy()))\n"
     ]
    },
    {
     "name": "stdout",
     "output_type": "stream",
     "text": [
      "epoch: 287\n",
      "Training loss: 796.8828537917052\n",
      "Training rmse: 56.09547\n",
      "Validation loss: 25538.490234375\n",
      "Validation rmse: 20.4774589356905\n",
      "Validation mae: 15.224866\n",
      "Validation mape: 0.18742661\n",
      "Validation acc: -0.07458078861236572\n"
     ]
    },
    {
     "name": "stderr",
     "output_type": "stream",
     "text": [
      "<ipython-input-6-5c6a0450ba2d>:85: DeprecationWarning: np.asscalar(a) is deprecated since NumPy v1.16, use a.item() instead\n",
      "  validation_losses.append(np.asscalar(val_loss.detach().cpu().numpy()))\n"
     ]
    },
    {
     "name": "stdout",
     "output_type": "stream",
     "text": [
      "epoch: 288\n",
      "Training loss: 792.7409309195789\n",
      "Training rmse: 56.049168\n",
      "Validation loss: 25172.357421875\n",
      "Validation rmse: 20.330127567579662\n",
      "Validation mae: 15.187024\n",
      "Validation mape: 0.18390217\n",
      "Validation acc: -0.06694209575653076\n"
     ]
    },
    {
     "name": "stderr",
     "output_type": "stream",
     "text": [
      "<ipython-input-6-5c6a0450ba2d>:85: DeprecationWarning: np.asscalar(a) is deprecated since NumPy v1.16, use a.item() instead\n",
      "  validation_losses.append(np.asscalar(val_loss.detach().cpu().numpy()))\n"
     ]
    },
    {
     "name": "stdout",
     "output_type": "stream",
     "text": [
      "epoch: 289\n",
      "Training loss: 792.1136062786144\n",
      "Training rmse: 56.043015\n",
      "Validation loss: 26071.779296875\n",
      "Validation rmse: 20.690166197856456\n",
      "Validation mae: 15.332955\n",
      "Validation mape: 0.18900448\n",
      "Validation acc: -0.09547793865203857\n"
     ]
    },
    {
     "name": "stderr",
     "output_type": "stream",
     "text": [
      "<ipython-input-6-5c6a0450ba2d>:85: DeprecationWarning: np.asscalar(a) is deprecated since NumPy v1.16, use a.item() instead\n",
      "  validation_losses.append(np.asscalar(val_loss.detach().cpu().numpy()))\n"
     ]
    },
    {
     "name": "stdout",
     "output_type": "stream",
     "text": [
      "epoch: 290\n",
      "Training loss: 792.281022157293\n",
      "Training rmse: 56.042107\n",
      "Validation loss: 25650.052734375\n",
      "Validation rmse: 20.522133392617224\n",
      "Validation mae: 15.262312\n",
      "Validation mape: 0.18789497\n",
      "Validation acc: -0.07797110080718994\n"
     ]
    },
    {
     "name": "stderr",
     "output_type": "stream",
     "text": [
      "<ipython-input-6-5c6a0450ba2d>:85: DeprecationWarning: np.asscalar(a) is deprecated since NumPy v1.16, use a.item() instead\n",
      "  validation_losses.append(np.asscalar(val_loss.detach().cpu().numpy()))\n"
     ]
    },
    {
     "name": "stdout",
     "output_type": "stream",
     "text": [
      "epoch: 291\n",
      "Training loss: 790.3450337618483\n",
      "Training rmse: 56.018364\n",
      "Validation loss: 25738.21875\n",
      "Validation rmse: 20.557373892058553\n",
      "Validation mae: 15.321697\n",
      "Validation mape: 0.18750854\n",
      "Validation acc: -0.08974635601043701\n"
     ]
    },
    {
     "name": "stderr",
     "output_type": "stream",
     "text": [
      "<ipython-input-6-5c6a0450ba2d>:85: DeprecationWarning: np.asscalar(a) is deprecated since NumPy v1.16, use a.item() instead\n",
      "  validation_losses.append(np.asscalar(val_loss.detach().cpu().numpy()))\n"
     ]
    },
    {
     "name": "stdout",
     "output_type": "stream",
     "text": [
      "epoch: 292\n",
      "Training loss: 793.0067530259437\n",
      "Training rmse: 56.049427\n",
      "Validation loss: 26244.169921875\n",
      "Validation rmse: 20.758456425842308\n",
      "Validation mae: 15.413972\n",
      "Validation mape: 0.18649967\n",
      "Validation acc: -0.11220049858093262\n"
     ]
    },
    {
     "name": "stderr",
     "output_type": "stream",
     "text": [
      "<ipython-input-6-5c6a0450ba2d>:85: DeprecationWarning: np.asscalar(a) is deprecated since NumPy v1.16, use a.item() instead\n",
      "  validation_losses.append(np.asscalar(val_loss.detach().cpu().numpy()))\n"
     ]
    },
    {
     "name": "stdout",
     "output_type": "stream",
     "text": [
      "epoch: 293\n",
      "Training loss: 788.175510310785\n",
      "Training rmse: 55.99283\n",
      "Validation loss: 26138.751953125\n",
      "Validation rmse: 20.716722392065833\n",
      "Validation mae: 15.333033\n",
      "Validation mape: 0.18811029\n",
      "Validation acc: -0.10424387454986572\n"
     ]
    },
    {
     "name": "stderr",
     "output_type": "stream",
     "text": [
      "<ipython-input-6-5c6a0450ba2d>:85: DeprecationWarning: np.asscalar(a) is deprecated since NumPy v1.16, use a.item() instead\n",
      "  validation_losses.append(np.asscalar(val_loss.detach().cpu().numpy()))\n"
     ]
    },
    {
     "name": "stdout",
     "output_type": "stream",
     "text": [
      "epoch: 294\n",
      "Training loss: 786.0554592447041\n",
      "Training rmse: 55.971622\n",
      "Validation loss: 26604.587890625\n",
      "Validation rmse: 20.900519756078285\n",
      "Validation mae: 15.602032\n",
      "Validation mape: 0.19584477\n",
      "Validation acc: -0.08339250087738037\n"
     ]
    },
    {
     "name": "stderr",
     "output_type": "stream",
     "text": [
      "<ipython-input-6-5c6a0450ba2d>:85: DeprecationWarning: np.asscalar(a) is deprecated since NumPy v1.16, use a.item() instead\n",
      "  validation_losses.append(np.asscalar(val_loss.detach().cpu().numpy()))\n"
     ]
    },
    {
     "name": "stdout",
     "output_type": "stream",
     "text": [
      "epoch: 295\n",
      "Training loss: 785.2826766694318\n",
      "Training rmse: 55.953426\n",
      "Validation loss: 26096.375\n",
      "Validation rmse: 20.699915730033027\n",
      "Validation mae: 15.357303\n",
      "Validation mape: 0.1887899\n",
      "Validation acc: -0.10162866115570068\n"
     ]
    },
    {
     "name": "stderr",
     "output_type": "stream",
     "text": [
      "<ipython-input-6-5c6a0450ba2d>:85: DeprecationWarning: np.asscalar(a) is deprecated since NumPy v1.16, use a.item() instead\n",
      "  validation_losses.append(np.asscalar(val_loss.detach().cpu().numpy()))\n"
     ]
    },
    {
     "name": "stdout",
     "output_type": "stream",
     "text": [
      "epoch: 296\n",
      "Training loss: 785.0971034333697\n",
      "Training rmse: 55.954033\n",
      "Validation loss: 26330.74609375\n",
      "Validation rmse: 20.79266603727141\n",
      "Validation mae: 15.494742\n",
      "Validation mape: 0.19179296\n",
      "Validation acc: -0.0986943244934082\n"
     ]
    },
    {
     "name": "stderr",
     "output_type": "stream",
     "text": [
      "<ipython-input-6-5c6a0450ba2d>:85: DeprecationWarning: np.asscalar(a) is deprecated since NumPy v1.16, use a.item() instead\n",
      "  validation_losses.append(np.asscalar(val_loss.detach().cpu().numpy()))\n"
     ]
    },
    {
     "name": "stdout",
     "output_type": "stream",
     "text": [
      "epoch: 297\n",
      "Training loss: 784.1148644997655\n",
      "Training rmse: 55.93992\n",
      "Validation loss: 26176.939453125\n",
      "Validation rmse: 20.731844761309382\n",
      "Validation mae: 15.334865\n",
      "Validation mape: 0.18830721\n",
      "Validation acc: -0.10473597049713135\n"
     ]
    },
    {
     "name": "stderr",
     "output_type": "stream",
     "text": [
      "<ipython-input-6-5c6a0450ba2d>:85: DeprecationWarning: np.asscalar(a) is deprecated since NumPy v1.16, use a.item() instead\n",
      "  validation_losses.append(np.asscalar(val_loss.detach().cpu().numpy()))\n"
     ]
    },
    {
     "name": "stdout",
     "output_type": "stream",
     "text": [
      "epoch: 298\n",
      "Training loss: 783.4041952591216\n",
      "Training rmse: 55.933033\n",
      "Validation loss: 26010.67578125\n",
      "Validation rmse: 20.66589296594943\n",
      "Validation mae: 15.309265\n",
      "Validation mape: 0.18600567\n",
      "Validation acc: -0.10302555561065674\n"
     ]
    },
    {
     "name": "stderr",
     "output_type": "stream",
     "text": [
      "<ipython-input-6-5c6a0450ba2d>:85: DeprecationWarning: np.asscalar(a) is deprecated since NumPy v1.16, use a.item() instead\n",
      "  validation_losses.append(np.asscalar(val_loss.detach().cpu().numpy()))\n"
     ]
    },
    {
     "name": "stdout",
     "output_type": "stream",
     "text": [
      "epoch: 299\n",
      "Training loss: 782.3035806088465\n",
      "Training rmse: 55.918705\n",
      "Validation loss: 26205.994140625\n",
      "Validation rmse: 20.743345365517225\n",
      "Validation mae: 15.423071\n",
      "Validation mape: 0.1919458\n",
      "Validation acc: -0.08758234977722168\n"
     ]
    },
    {
     "name": "stderr",
     "output_type": "stream",
     "text": [
      "<ipython-input-6-5c6a0450ba2d>:85: DeprecationWarning: np.asscalar(a) is deprecated since NumPy v1.16, use a.item() instead\n",
      "  validation_losses.append(np.asscalar(val_loss.detach().cpu().numpy()))\n"
     ]
    },
    {
     "name": "stdout",
     "output_type": "stream",
     "text": [
      "epoch: 300\n",
      "Training loss: 781.0096689313116\n",
      "Training rmse: 55.90778\n",
      "Validation loss: 26367.00390625\n",
      "Validation rmse: 20.8069734767859\n",
      "Validation mae: 15.558518\n",
      "Validation mape: 0.19422577\n",
      "Validation acc: -0.08466601371765137\n"
     ]
    },
    {
     "name": "stderr",
     "output_type": "stream",
     "text": [
      "<ipython-input-6-5c6a0450ba2d>:85: DeprecationWarning: np.asscalar(a) is deprecated since NumPy v1.16, use a.item() instead\n",
      "  validation_losses.append(np.asscalar(val_loss.detach().cpu().numpy()))\n"
     ]
    },
    {
     "name": "stdout",
     "output_type": "stream",
     "text": [
      "epoch: 301\n",
      "Training loss: 784.0400102403429\n",
      "Training rmse: 55.939716\n",
      "Validation loss: 25563.2265625\n",
      "Validation rmse: 20.487352889477176\n",
      "Validation mae: 15.256194\n",
      "Validation mape: 0.18617481\n",
      "Validation acc: -0.0837090015411377\n"
     ]
    },
    {
     "name": "stderr",
     "output_type": "stream",
     "text": [
      "<ipython-input-6-5c6a0450ba2d>:85: DeprecationWarning: np.asscalar(a) is deprecated since NumPy v1.16, use a.item() instead\n",
      "  validation_losses.append(np.asscalar(val_loss.detach().cpu().numpy()))\n"
     ]
    },
    {
     "name": "stdout",
     "output_type": "stream",
     "text": [
      "epoch: 302\n",
      "Training loss: 776.3478456449337\n",
      "Training rmse: 55.843494\n",
      "Validation loss: 27266.857421875\n",
      "Validation rmse: 21.159065543815966\n",
      "Validation mae: 15.801635\n",
      "Validation mape: 0.19718304\n",
      "Validation acc: -0.11899459362030029\n"
     ]
    },
    {
     "name": "stderr",
     "output_type": "stream",
     "text": [
      "<ipython-input-6-5c6a0450ba2d>:85: DeprecationWarning: np.asscalar(a) is deprecated since NumPy v1.16, use a.item() instead\n",
      "  validation_losses.append(np.asscalar(val_loss.detach().cpu().numpy()))\n"
     ]
    },
    {
     "name": "stdout",
     "output_type": "stream",
     "text": [
      "epoch: 303\n",
      "Training loss: 779.2234441285492\n",
      "Training rmse: 55.880787\n",
      "Validation loss: 25997.283203125\n",
      "Validation rmse: 20.66056651665347\n",
      "Validation mae: 15.366699\n",
      "Validation mape: 0.19027656\n",
      "Validation acc: -0.08931457996368408\n"
     ]
    },
    {
     "name": "stderr",
     "output_type": "stream",
     "text": [
      "<ipython-input-6-5c6a0450ba2d>:85: DeprecationWarning: np.asscalar(a) is deprecated since NumPy v1.16, use a.item() instead\n",
      "  validation_losses.append(np.asscalar(val_loss.detach().cpu().numpy()))\n"
     ]
    },
    {
     "name": "stdout",
     "output_type": "stream",
     "text": [
      "epoch: 304\n",
      "Training loss: 774.695547780683\n",
      "Training rmse: 55.826466\n",
      "Validation loss: 26336.6953125\n",
      "Validation rmse: 20.795005433434312\n",
      "Validation mae: 15.453982\n",
      "Validation mape: 0.19167408\n",
      "Validation acc: -0.09800291061401367\n"
     ]
    },
    {
     "name": "stderr",
     "output_type": "stream",
     "text": [
      "<ipython-input-6-5c6a0450ba2d>:85: DeprecationWarning: np.asscalar(a) is deprecated since NumPy v1.16, use a.item() instead\n",
      "  validation_losses.append(np.asscalar(val_loss.detach().cpu().numpy()))\n"
     ]
    },
    {
     "name": "stdout",
     "output_type": "stream",
     "text": [
      "epoch: 305\n",
      "Training loss: 776.7881552309973\n",
      "Training rmse: 55.852406\n",
      "Validation loss: 25643.79296875\n",
      "Validation rmse: 20.519610445663847\n",
      "Validation mae: 15.259952\n",
      "Validation mape: 0.18582481\n",
      "Validation acc: -0.08746516704559326\n"
     ]
    },
    {
     "name": "stderr",
     "output_type": "stream",
     "text": [
      "<ipython-input-6-5c6a0450ba2d>:85: DeprecationWarning: np.asscalar(a) is deprecated since NumPy v1.16, use a.item() instead\n",
      "  validation_losses.append(np.asscalar(val_loss.detach().cpu().numpy()))\n"
     ]
    },
    {
     "name": "stdout",
     "output_type": "stream",
     "text": [
      "epoch: 306\n",
      "Training loss: 776.7146504173143\n",
      "Training rmse: 55.853115\n",
      "Validation loss: 26289.5546875\n",
      "Validation rmse: 20.776381302323347\n",
      "Validation mae: 15.425689\n",
      "Validation mape: 0.19097157\n",
      "Validation acc: -0.10205185413360596\n"
     ]
    },
    {
     "name": "stderr",
     "output_type": "stream",
     "text": [
      "<ipython-input-6-5c6a0450ba2d>:85: DeprecationWarning: np.asscalar(a) is deprecated since NumPy v1.16, use a.item() instead\n",
      "  validation_losses.append(np.asscalar(val_loss.detach().cpu().numpy()))\n"
     ]
    },
    {
     "name": "stdout",
     "output_type": "stream",
     "text": [
      "epoch: 307\n",
      "Training loss: 771.2242776193926\n",
      "Training rmse: 55.786354\n",
      "Validation loss: 26800.568359375\n",
      "Validation rmse: 20.97734737242064\n",
      "Validation mae: 15.480256\n",
      "Validation mape: 0.1897657\n",
      "Validation acc: -0.13261628150939941\n"
     ]
    },
    {
     "name": "stderr",
     "output_type": "stream",
     "text": [
      "<ipython-input-6-5c6a0450ba2d>:85: DeprecationWarning: np.asscalar(a) is deprecated since NumPy v1.16, use a.item() instead\n",
      "  validation_losses.append(np.asscalar(val_loss.detach().cpu().numpy()))\n"
     ]
    },
    {
     "name": "stdout",
     "output_type": "stream",
     "text": [
      "epoch: 308\n",
      "Training loss: 771.8414137098524\n",
      "Training rmse: 55.79256\n",
      "Validation loss: 25582.259765625\n",
      "Validation rmse: 20.494970681662064\n",
      "Validation mae: 15.232401\n",
      "Validation mape: 0.184833\n",
      "Validation acc: -0.08480191230773926\n"
     ]
    },
    {
     "name": "stderr",
     "output_type": "stream",
     "text": [
      "<ipython-input-6-5c6a0450ba2d>:85: DeprecationWarning: np.asscalar(a) is deprecated since NumPy v1.16, use a.item() instead\n",
      "  validation_losses.append(np.asscalar(val_loss.detach().cpu().numpy()))\n"
     ]
    },
    {
     "name": "stdout",
     "output_type": "stream",
     "text": [
      "epoch: 309\n",
      "Training loss: 772.9100023495254\n",
      "Training rmse: 55.802536\n",
      "Validation loss: 26331.3828125\n",
      "Validation rmse: 20.792903070885373\n",
      "Validation mae: 15.392735\n",
      "Validation mape: 0.1891452\n",
      "Validation acc: -0.1106787919998169\n"
     ]
    },
    {
     "name": "stderr",
     "output_type": "stream",
     "text": [
      "<ipython-input-6-5c6a0450ba2d>:85: DeprecationWarning: np.asscalar(a) is deprecated since NumPy v1.16, use a.item() instead\n",
      "  validation_losses.append(np.asscalar(val_loss.detach().cpu().numpy()))\n"
     ]
    },
    {
     "name": "stdout",
     "output_type": "stream",
     "text": [
      "epoch: 310\n",
      "Training loss: 769.328391071716\n",
      "Training rmse: 55.761303\n",
      "Validation loss: 26615.453125\n",
      "Validation rmse: 20.904767586876638\n",
      "Validation mae: 15.484575\n",
      "Validation mape: 0.19081791\n",
      "Validation acc: -0.12139606475830078\n"
     ]
    },
    {
     "name": "stderr",
     "output_type": "stream",
     "text": [
      "<ipython-input-6-5c6a0450ba2d>:85: DeprecationWarning: np.asscalar(a) is deprecated since NumPy v1.16, use a.item() instead\n",
      "  validation_losses.append(np.asscalar(val_loss.detach().cpu().numpy()))\n"
     ]
    },
    {
     "name": "stdout",
     "output_type": "stream",
     "text": [
      "epoch: 311\n",
      "Training loss: 771.1154347081339\n",
      "Training rmse: 55.785065\n",
      "Validation loss: 26312.076171875\n",
      "Validation rmse: 20.785274809965376\n",
      "Validation mae: 15.391393\n",
      "Validation mape: 0.18920939\n",
      "Validation acc: -0.11009359359741211\n"
     ]
    },
    {
     "name": "stderr",
     "output_type": "stream",
     "text": [
      "<ipython-input-6-5c6a0450ba2d>:85: DeprecationWarning: np.asscalar(a) is deprecated since NumPy v1.16, use a.item() instead\n",
      "  validation_losses.append(np.asscalar(val_loss.detach().cpu().numpy()))\n"
     ]
    },
    {
     "name": "stdout",
     "output_type": "stream",
     "text": [
      "epoch: 312\n",
      "Training loss: 767.2031749875742\n",
      "Training rmse: 55.731316\n",
      "Validation loss: 26413.51171875\n",
      "Validation rmse: 20.82530208153316\n",
      "Validation mae: 15.395927\n",
      "Validation mape: 0.18897092\n",
      "Validation acc: -0.11520135402679443\n"
     ]
    },
    {
     "name": "stderr",
     "output_type": "stream",
     "text": [
      "<ipython-input-6-5c6a0450ba2d>:85: DeprecationWarning: np.asscalar(a) is deprecated since NumPy v1.16, use a.item() instead\n",
      "  validation_losses.append(np.asscalar(val_loss.detach().cpu().numpy()))\n"
     ]
    },
    {
     "name": "stdout",
     "output_type": "stream",
     "text": [
      "epoch: 313\n",
      "Training loss: 770.8705960618979\n",
      "Training rmse: 55.777172\n",
      "Validation loss: 26381.23828125\n",
      "Validation rmse: 20.81257331537387\n",
      "Validation mae: 15.377101\n",
      "Validation mape: 0.18908527\n",
      "Validation acc: -0.1123267412185669\n"
     ]
    },
    {
     "name": "stderr",
     "output_type": "stream",
     "text": [
      "<ipython-input-6-5c6a0450ba2d>:85: DeprecationWarning: np.asscalar(a) is deprecated since NumPy v1.16, use a.item() instead\n",
      "  validation_losses.append(np.asscalar(val_loss.detach().cpu().numpy()))\n"
     ]
    },
    {
     "name": "stdout",
     "output_type": "stream",
     "text": [
      "epoch: 314\n",
      "Training loss: 766.0352110503823\n",
      "Training rmse: 55.721817\n",
      "Validation loss: 26654.18359375\n",
      "Validation rmse: 20.91996773536776\n",
      "Validation mae: 15.505468\n",
      "Validation mape: 0.19120845\n",
      "Validation acc: -0.12189030647277832\n"
     ]
    },
    {
     "name": "stderr",
     "output_type": "stream",
     "text": [
      "<ipython-input-6-5c6a0450ba2d>:85: DeprecationWarning: np.asscalar(a) is deprecated since NumPy v1.16, use a.item() instead\n",
      "  validation_losses.append(np.asscalar(val_loss.detach().cpu().numpy()))\n"
     ]
    },
    {
     "name": "stdout",
     "output_type": "stream",
     "text": [
      "epoch: 315\n",
      "Training loss: 764.9569431427987\n",
      "Training rmse: 55.705387\n",
      "Validation loss: 27380.458984375\n",
      "Validation rmse: 21.203083980017432\n",
      "Validation mae: 15.915056\n",
      "Validation mape: 0.20050183\n",
      "Validation acc: -0.10480475425720215\n"
     ]
    },
    {
     "name": "stderr",
     "output_type": "stream",
     "text": [
      "<ipython-input-6-5c6a0450ba2d>:85: DeprecationWarning: np.asscalar(a) is deprecated since NumPy v1.16, use a.item() instead\n",
      "  validation_losses.append(np.asscalar(val_loss.detach().cpu().numpy()))\n"
     ]
    },
    {
     "name": "stdout",
     "output_type": "stream",
     "text": [
      "epoch: 316\n",
      "Training loss: 765.1880066574261\n",
      "Training rmse: 55.703857\n",
      "Validation loss: 26868.34765625\n",
      "Validation rmse: 21.003848495247915\n",
      "Validation mae: 15.672894\n",
      "Validation mape: 0.19465597\n",
      "Validation acc: -0.11412286758422852\n"
     ]
    },
    {
     "name": "stderr",
     "output_type": "stream",
     "text": [
      "<ipython-input-6-5c6a0450ba2d>:85: DeprecationWarning: np.asscalar(a) is deprecated since NumPy v1.16, use a.item() instead\n",
      "  validation_losses.append(np.asscalar(val_loss.detach().cpu().numpy()))\n"
     ]
    },
    {
     "name": "stdout",
     "output_type": "stream",
     "text": [
      "epoch: 317\n",
      "Training loss: 767.7101470509738\n",
      "Training rmse: 55.73724\n",
      "Validation loss: 27262.25\n",
      "Validation rmse: 21.157261157981466\n",
      "Validation mae: 15.710667\n",
      "Validation mape: 0.19592251\n",
      "Validation acc: -0.1277484893798828\n"
     ]
    },
    {
     "name": "stderr",
     "output_type": "stream",
     "text": [
      "<ipython-input-6-5c6a0450ba2d>:85: DeprecationWarning: np.asscalar(a) is deprecated since NumPy v1.16, use a.item() instead\n",
      "  validation_losses.append(np.asscalar(val_loss.detach().cpu().numpy()))\n"
     ]
    },
    {
     "name": "stdout",
     "output_type": "stream",
     "text": [
      "epoch: 318\n",
      "Training loss: 763.3828717850442\n",
      "Training rmse: 55.689312\n",
      "Validation loss: 26411.55859375\n",
      "Validation rmse: 20.824525400457436\n",
      "Validation mae: 15.397544\n",
      "Validation mape: 0.18878312\n",
      "Validation acc: -0.11674809455871582\n"
     ]
    },
    {
     "name": "stderr",
     "output_type": "stream",
     "text": [
      "<ipython-input-6-5c6a0450ba2d>:85: DeprecationWarning: np.asscalar(a) is deprecated since NumPy v1.16, use a.item() instead\n",
      "  validation_losses.append(np.asscalar(val_loss.detach().cpu().numpy()))\n"
     ]
    },
    {
     "name": "stdout",
     "output_type": "stream",
     "text": [
      "epoch: 319\n",
      "Training loss: 760.7449312927903\n",
      "Training rmse: 55.65133\n",
      "Validation loss: 28276.080078125\n",
      "Validation rmse: 21.547089573578074\n",
      "Validation mae: 16.017956\n",
      "Validation mape: 0.20188493\n",
      "Validation acc: -0.14025795459747314\n"
     ]
    },
    {
     "name": "stderr",
     "output_type": "stream",
     "text": [
      "<ipython-input-6-5c6a0450ba2d>:85: DeprecationWarning: np.asscalar(a) is deprecated since NumPy v1.16, use a.item() instead\n",
      "  validation_losses.append(np.asscalar(val_loss.detach().cpu().numpy()))\n"
     ]
    },
    {
     "name": "stdout",
     "output_type": "stream",
     "text": [
      "epoch: 320\n",
      "Training loss: 764.0118479301425\n",
      "Training rmse: 55.699104\n",
      "Validation loss: 27112.498046875\n",
      "Validation rmse: 21.099063277581926\n",
      "Validation mae: 15.622969\n",
      "Validation mape: 0.19443022\n",
      "Validation acc: -0.12477719783782959\n"
     ]
    },
    {
     "name": "stderr",
     "output_type": "stream",
     "text": [
      "<ipython-input-6-5c6a0450ba2d>:85: DeprecationWarning: np.asscalar(a) is deprecated since NumPy v1.16, use a.item() instead\n",
      "  validation_losses.append(np.asscalar(val_loss.detach().cpu().numpy()))\n"
     ]
    },
    {
     "name": "stdout",
     "output_type": "stream",
     "text": [
      "epoch: 321\n",
      "Training loss: 762.2465154176117\n",
      "Training rmse: 55.671196\n",
      "Validation loss: 27375.5625\n",
      "Validation rmse: 21.201182580749254\n",
      "Validation mae: 15.692971\n",
      "Validation mape: 0.1947401\n",
      "Validation acc: -0.1394597291946411\n"
     ]
    },
    {
     "name": "stderr",
     "output_type": "stream",
     "text": [
      "<ipython-input-6-5c6a0450ba2d>:85: DeprecationWarning: np.asscalar(a) is deprecated since NumPy v1.16, use a.item() instead\n",
      "  validation_losses.append(np.asscalar(val_loss.detach().cpu().numpy()))\n"
     ]
    },
    {
     "name": "stdout",
     "output_type": "stream",
     "text": [
      "epoch: 322\n",
      "Training loss: 759.582267624503\n",
      "Training rmse: 55.64167\n",
      "Validation loss: 27411.966796875\n",
      "Validation rmse: 21.215274936351875\n",
      "Validation mae: 15.741328\n",
      "Validation mape: 0.19479989\n",
      "Validation acc: -0.14668428897857666\n"
     ]
    },
    {
     "name": "stderr",
     "output_type": "stream",
     "text": [
      "<ipython-input-6-5c6a0450ba2d>:85: DeprecationWarning: np.asscalar(a) is deprecated since NumPy v1.16, use a.item() instead\n",
      "  validation_losses.append(np.asscalar(val_loss.detach().cpu().numpy()))\n"
     ]
    },
    {
     "name": "stdout",
     "output_type": "stream",
     "text": [
      "epoch: 323\n",
      "Training loss: 759.5264225894832\n",
      "Training rmse: 55.63668\n",
      "Validation loss: 27544.978515625\n",
      "Validation rmse: 21.26668476992866\n",
      "Validation mae: 15.661796\n",
      "Validation mape: 0.19298321\n",
      "Validation acc: -0.1587505340576172\n"
     ]
    },
    {
     "name": "stderr",
     "output_type": "stream",
     "text": [
      "<ipython-input-6-5c6a0450ba2d>:85: DeprecationWarning: np.asscalar(a) is deprecated since NumPy v1.16, use a.item() instead\n",
      "  validation_losses.append(np.asscalar(val_loss.detach().cpu().numpy()))\n"
     ]
    },
    {
     "name": "stdout",
     "output_type": "stream",
     "text": [
      "epoch: 324\n",
      "Training loss: 758.7688358539322\n",
      "Training rmse: 55.626583\n",
      "Validation loss: 26898.189453125\n",
      "Validation rmse: 21.01550084187302\n",
      "Validation mae: 15.545121\n",
      "Validation mape: 0.18939754\n",
      "Validation acc: -0.14038372039794922\n"
     ]
    },
    {
     "name": "stderr",
     "output_type": "stream",
     "text": [
      "<ipython-input-6-5c6a0450ba2d>:85: DeprecationWarning: np.asscalar(a) is deprecated since NumPy v1.16, use a.item() instead\n",
      "  validation_losses.append(np.asscalar(val_loss.detach().cpu().numpy()))\n"
     ]
    },
    {
     "name": "stdout",
     "output_type": "stream",
     "text": [
      "epoch: 325\n",
      "Training loss: 759.7364522735705\n",
      "Training rmse: 55.63863\n",
      "Validation loss: 26506.87109375\n",
      "Validation rmse: 20.86206384823449\n",
      "Validation mae: 15.535127\n",
      "Validation mape: 0.18998341\n",
      "Validation acc: -0.12344062328338623\n"
     ]
    },
    {
     "name": "stderr",
     "output_type": "stream",
     "text": [
      "<ipython-input-6-5c6a0450ba2d>:85: DeprecationWarning: np.asscalar(a) is deprecated since NumPy v1.16, use a.item() instead\n",
      "  validation_losses.append(np.asscalar(val_loss.detach().cpu().numpy()))\n"
     ]
    },
    {
     "name": "stdout",
     "output_type": "stream",
     "text": [
      "epoch: 326\n",
      "Training loss: 755.392807663128\n",
      "Training rmse: 55.585873\n",
      "Validation loss: 28149.724609375\n",
      "Validation rmse: 21.498884305172385\n",
      "Validation mae: 16.020676\n",
      "Validation mape: 0.20175785\n",
      "Validation acc: -0.13292241096496582\n"
     ]
    },
    {
     "name": "stderr",
     "output_type": "stream",
     "text": [
      "<ipython-input-6-5c6a0450ba2d>:85: DeprecationWarning: np.asscalar(a) is deprecated since NumPy v1.16, use a.item() instead\n",
      "  validation_losses.append(np.asscalar(val_loss.detach().cpu().numpy()))\n"
     ]
    },
    {
     "name": "stdout",
     "output_type": "stream",
     "text": [
      "epoch: 327\n",
      "Training loss: 757.8257224790511\n",
      "Training rmse: 55.61757\n",
      "Validation loss: 26792.064453125\n",
      "Validation rmse: 20.973996002211436\n",
      "Validation mae: 15.564773\n",
      "Validation mape: 0.19168226\n",
      "Validation acc: -0.12806439399719238\n"
     ]
    },
    {
     "name": "stderr",
     "output_type": "stream",
     "text": [
      "<ipython-input-6-5c6a0450ba2d>:85: DeprecationWarning: np.asscalar(a) is deprecated since NumPy v1.16, use a.item() instead\n",
      "  validation_losses.append(np.asscalar(val_loss.detach().cpu().numpy()))\n"
     ]
    },
    {
     "name": "stdout",
     "output_type": "stream",
     "text": [
      "epoch: 328\n",
      "Training loss: 759.3527698585209\n",
      "Training rmse: 55.63486\n",
      "Validation loss: 28786.138671875\n",
      "Validation rmse: 21.740563461174943\n",
      "Validation mae: 16.208563\n",
      "Validation mape: 0.20515318\n",
      "Validation acc: -0.14561593532562256\n"
     ]
    },
    {
     "name": "stderr",
     "output_type": "stream",
     "text": [
      "<ipython-input-6-5c6a0450ba2d>:85: DeprecationWarning: np.asscalar(a) is deprecated since NumPy v1.16, use a.item() instead\n",
      "  validation_losses.append(np.asscalar(val_loss.detach().cpu().numpy()))\n"
     ]
    },
    {
     "name": "stdout",
     "output_type": "stream",
     "text": [
      "epoch: 329\n",
      "Training loss: 757.3875388415483\n",
      "Training rmse: 55.616657\n",
      "Validation loss: 28325.77734375\n",
      "Validation rmse: 21.566008970598197\n",
      "Validation mae: 15.991829\n",
      "Validation mape: 0.2013115\n",
      "Validation acc: -0.14349353313446045\n"
     ]
    },
    {
     "name": "stderr",
     "output_type": "stream",
     "text": [
      "<ipython-input-6-5c6a0450ba2d>:85: DeprecationWarning: np.asscalar(a) is deprecated since NumPy v1.16, use a.item() instead\n",
      "  validation_losses.append(np.asscalar(val_loss.detach().cpu().numpy()))\n"
     ]
    },
    {
     "name": "stdout",
     "output_type": "stream",
     "text": [
      "epoch: 330\n",
      "Training loss: 759.2161688582444\n",
      "Training rmse: 55.62906\n",
      "Validation loss: 27630.181640625\n",
      "Validation rmse: 21.29954515428198\n",
      "Validation mae: 15.842033\n",
      "Validation mape: 0.19715616\n",
      "Validation acc: -0.14463400840759277\n"
     ]
    },
    {
     "name": "stderr",
     "output_type": "stream",
     "text": [
      "<ipython-input-6-5c6a0450ba2d>:85: DeprecationWarning: np.asscalar(a) is deprecated since NumPy v1.16, use a.item() instead\n",
      "  validation_losses.append(np.asscalar(val_loss.detach().cpu().numpy()))\n"
     ]
    },
    {
     "name": "stdout",
     "output_type": "stream",
     "text": [
      "epoch: 331\n",
      "Training loss: 751.1960377026629\n",
      "Training rmse: 55.535866\n",
      "Validation loss: 26487.400390625\n",
      "Validation rmse: 20.854392107323953\n",
      "Validation mae: 15.494176\n",
      "Validation mape: 0.1893515\n",
      "Validation acc: -0.12244486808776855\n"
     ]
    },
    {
     "name": "stderr",
     "output_type": "stream",
     "text": [
      "<ipython-input-6-5c6a0450ba2d>:85: DeprecationWarning: np.asscalar(a) is deprecated since NumPy v1.16, use a.item() instead\n",
      "  validation_losses.append(np.asscalar(val_loss.detach().cpu().numpy()))\n"
     ]
    },
    {
     "name": "stdout",
     "output_type": "stream",
     "text": [
      "epoch: 332\n",
      "Training loss: 750.6894205838548\n",
      "Training rmse: 55.527542\n",
      "Validation loss: 26973.0703125\n",
      "Validation rmse: 21.044724567665558\n",
      "Validation mae: 15.586196\n",
      "Validation mape: 0.19180447\n",
      "Validation acc: -0.13682174682617188\n"
     ]
    },
    {
     "name": "stderr",
     "output_type": "stream",
     "text": [
      "<ipython-input-6-5c6a0450ba2d>:85: DeprecationWarning: np.asscalar(a) is deprecated since NumPy v1.16, use a.item() instead\n",
      "  validation_losses.append(np.asscalar(val_loss.detach().cpu().numpy()))\n"
     ]
    },
    {
     "name": "stdout",
     "output_type": "stream",
     "text": [
      "epoch: 333\n",
      "Training loss: 752.4543388667499\n",
      "Training rmse: 55.54914\n",
      "Validation loss: 26741.314453125\n",
      "Validation rmse: 20.95411391915007\n",
      "Validation mae: 15.518747\n",
      "Validation mape: 0.19164337\n",
      "Validation acc: -0.12209451198577881\n"
     ]
    },
    {
     "name": "stderr",
     "output_type": "stream",
     "text": [
      "<ipython-input-6-5c6a0450ba2d>:85: DeprecationWarning: np.asscalar(a) is deprecated since NumPy v1.16, use a.item() instead\n",
      "  validation_losses.append(np.asscalar(val_loss.detach().cpu().numpy()))\n"
     ]
    },
    {
     "name": "stdout",
     "output_type": "stream",
     "text": [
      "epoch: 334\n",
      "Training loss: 751.8814755238085\n",
      "Training rmse: 55.541546\n",
      "Validation loss: 27657.51953125\n",
      "Validation rmse: 21.310077786887668\n",
      "Validation mae: 15.720137\n",
      "Validation mape: 0.1946461\n",
      "Validation acc: -0.15668880939483643\n"
     ]
    },
    {
     "name": "stderr",
     "output_type": "stream",
     "text": [
      "<ipython-input-6-5c6a0450ba2d>:85: DeprecationWarning: np.asscalar(a) is deprecated since NumPy v1.16, use a.item() instead\n",
      "  validation_losses.append(np.asscalar(val_loss.detach().cpu().numpy()))\n"
     ]
    },
    {
     "name": "stdout",
     "output_type": "stream",
     "text": [
      "epoch: 335\n",
      "Training loss: 752.5580723260039\n",
      "Training rmse: 55.551052\n",
      "Validation loss: 27493.19140625\n",
      "Validation rmse: 21.246668655464042\n",
      "Validation mae: 15.775674\n",
      "Validation mape: 0.19171475\n",
      "Validation acc: -0.16587352752685547\n"
     ]
    },
    {
     "name": "stderr",
     "output_type": "stream",
     "text": [
      "<ipython-input-6-5c6a0450ba2d>:85: DeprecationWarning: np.asscalar(a) is deprecated since NumPy v1.16, use a.item() instead\n",
      "  validation_losses.append(np.asscalar(val_loss.detach().cpu().numpy()))\n"
     ]
    },
    {
     "name": "stdout",
     "output_type": "stream",
     "text": [
      "epoch: 336\n",
      "Training loss: 749.2759814518754\n",
      "Training rmse: 55.50987\n",
      "Validation loss: 27570.884765625\n",
      "Validation rmse: 21.276671422620876\n",
      "Validation mae: 15.738547\n",
      "Validation mape: 0.19462658\n",
      "Validation acc: -0.15501844882965088\n"
     ]
    },
    {
     "name": "stderr",
     "output_type": "stream",
     "text": [
      "<ipython-input-6-5c6a0450ba2d>:85: DeprecationWarning: np.asscalar(a) is deprecated since NumPy v1.16, use a.item() instead\n",
      "  validation_losses.append(np.asscalar(val_loss.detach().cpu().numpy()))\n"
     ]
    },
    {
     "name": "stdout",
     "output_type": "stream",
     "text": [
      "epoch: 337\n",
      "Training loss: 747.7935244652533\n",
      "Training rmse: 55.489044\n",
      "Validation loss: 28446.287109375\n",
      "Validation rmse: 21.611829330072627\n",
      "Validation mae: 15.927822\n",
      "Validation mape: 0.19585985\n",
      "Validation acc: -0.19915807247161865\n"
     ]
    },
    {
     "name": "stderr",
     "output_type": "stream",
     "text": [
      "<ipython-input-6-5c6a0450ba2d>:85: DeprecationWarning: np.asscalar(a) is deprecated since NumPy v1.16, use a.item() instead\n",
      "  validation_losses.append(np.asscalar(val_loss.detach().cpu().numpy()))\n"
     ]
    },
    {
     "name": "stdout",
     "output_type": "stream",
     "text": [
      "epoch: 338\n",
      "Training loss: 745.8742347635249\n",
      "Training rmse: 55.466946\n",
      "Validation loss: 27642.70703125\n",
      "Validation rmse: 21.30436591593559\n",
      "Validation mae: 15.708596\n",
      "Validation mape: 0.1937159\n",
      "Validation acc: -0.16139066219329834\n"
     ]
    },
    {
     "name": "stderr",
     "output_type": "stream",
     "text": [
      "<ipython-input-6-5c6a0450ba2d>:85: DeprecationWarning: np.asscalar(a) is deprecated since NumPy v1.16, use a.item() instead\n",
      "  validation_losses.append(np.asscalar(val_loss.detach().cpu().numpy()))\n"
     ]
    },
    {
     "name": "stdout",
     "output_type": "stream",
     "text": [
      "epoch: 339\n",
      "Training loss: 749.6649811447307\n",
      "Training rmse: 55.515762\n",
      "Validation loss: 26981.107421875\n",
      "Validation rmse: 21.047854439673223\n",
      "Validation mae: 15.597919\n",
      "Validation mape: 0.1906617\n",
      "Validation acc: -0.1426846981048584\n"
     ]
    },
    {
     "name": "stderr",
     "output_type": "stream",
     "text": [
      "<ipython-input-6-5c6a0450ba2d>:85: DeprecationWarning: np.asscalar(a) is deprecated since NumPy v1.16, use a.item() instead\n",
      "  validation_losses.append(np.asscalar(val_loss.detach().cpu().numpy()))\n"
     ]
    },
    {
     "name": "stdout",
     "output_type": "stream",
     "text": [
      "epoch: 340\n",
      "Training loss: 746.3832764984459\n",
      "Training rmse: 55.47465\n",
      "Validation loss: 27728.26171875\n",
      "Validation rmse: 21.33730986409318\n",
      "Validation mae: 15.869441\n",
      "Validation mape: 0.19755787\n",
      "Validation acc: -0.14631617069244385\n"
     ]
    },
    {
     "name": "stderr",
     "output_type": "stream",
     "text": [
      "<ipython-input-6-5c6a0450ba2d>:85: DeprecationWarning: np.asscalar(a) is deprecated since NumPy v1.16, use a.item() instead\n",
      "  validation_losses.append(np.asscalar(val_loss.detach().cpu().numpy()))\n"
     ]
    },
    {
     "name": "stdout",
     "output_type": "stream",
     "text": [
      "epoch: 341\n",
      "Training loss: 749.8035178782692\n",
      "Training rmse: 55.517002\n",
      "Validation loss: 26998.4453125\n",
      "Validation rmse: 21.054612853531868\n",
      "Validation mae: 15.563593\n",
      "Validation mape: 0.18889984\n",
      "Validation acc: -0.1449127197265625\n"
     ]
    },
    {
     "name": "stderr",
     "output_type": "stream",
     "text": [
      "<ipython-input-6-5c6a0450ba2d>:85: DeprecationWarning: np.asscalar(a) is deprecated since NumPy v1.16, use a.item() instead\n",
      "  validation_losses.append(np.asscalar(val_loss.detach().cpu().numpy()))\n"
     ]
    },
    {
     "name": "stdout",
     "output_type": "stream",
     "text": [
      "epoch: 342\n",
      "Training loss: 744.1751068552762\n",
      "Training rmse: 55.446198\n",
      "Validation loss: 27648.80078125\n",
      "Validation rmse: 21.306709285943317\n",
      "Validation mae: 15.749778\n",
      "Validation mape: 0.19537336\n",
      "Validation acc: -0.15314412117004395\n"
     ]
    },
    {
     "name": "stderr",
     "output_type": "stream",
     "text": [
      "<ipython-input-6-5c6a0450ba2d>:85: DeprecationWarning: np.asscalar(a) is deprecated since NumPy v1.16, use a.item() instead\n",
      "  validation_losses.append(np.asscalar(val_loss.detach().cpu().numpy()))\n"
     ]
    },
    {
     "name": "stdout",
     "output_type": "stream",
     "text": [
      "epoch: 343\n",
      "Training loss: 749.9468897337555\n",
      "Training rmse: 55.51888\n",
      "Validation loss: 28439.39453125\n",
      "Validation rmse: 21.60920411853983\n",
      "Validation mae: 15.97876\n",
      "Validation mape: 0.19973624\n",
      "Validation acc: -0.16722822189331055\n"
     ]
    },
    {
     "name": "stderr",
     "output_type": "stream",
     "text": [
      "<ipython-input-6-5c6a0450ba2d>:85: DeprecationWarning: np.asscalar(a) is deprecated since NumPy v1.16, use a.item() instead\n",
      "  validation_losses.append(np.asscalar(val_loss.detach().cpu().numpy()))\n"
     ]
    },
    {
     "name": "stdout",
     "output_type": "stream",
     "text": [
      "epoch: 344\n",
      "Training loss: 743.1305764037648\n",
      "Training rmse: 55.430527\n",
      "Validation loss: 29214.71875\n",
      "Validation rmse: 21.901801382730913\n",
      "Validation mae: 16.21158\n",
      "Validation mape: 0.20387034\n",
      "Validation acc: -0.17827534675598145\n"
     ]
    },
    {
     "name": "stderr",
     "output_type": "stream",
     "text": [
      "<ipython-input-6-5c6a0450ba2d>:85: DeprecationWarning: np.asscalar(a) is deprecated since NumPy v1.16, use a.item() instead\n",
      "  validation_losses.append(np.asscalar(val_loss.detach().cpu().numpy()))\n"
     ]
    },
    {
     "name": "stdout",
     "output_type": "stream",
     "text": [
      "epoch: 345\n",
      "Training loss: 743.7511774972348\n",
      "Training rmse: 55.441574\n",
      "Validation loss: 27561.6015625\n",
      "Validation rmse: 21.273077427635794\n",
      "Validation mae: 15.691921\n",
      "Validation mape: 0.19212116\n",
      "Validation acc: -0.1662527322769165\n"
     ]
    },
    {
     "name": "stderr",
     "output_type": "stream",
     "text": [
      "<ipython-input-6-5c6a0450ba2d>:85: DeprecationWarning: np.asscalar(a) is deprecated since NumPy v1.16, use a.item() instead\n",
      "  validation_losses.append(np.asscalar(val_loss.detach().cpu().numpy()))\n"
     ]
    },
    {
     "name": "stdout",
     "output_type": "stream",
     "text": [
      "epoch: 346\n",
      "Training loss: 743.1220953062871\n",
      "Training rmse: 55.433453\n",
      "Validation loss: 28711.953125\n",
      "Validation rmse: 21.7125117502307\n",
      "Validation mae: 16.07474\n",
      "Validation mape: 0.20071644\n",
      "Validation acc: -0.1779007911682129\n"
     ]
    },
    {
     "name": "stderr",
     "output_type": "stream",
     "text": [
      "<ipython-input-6-5c6a0450ba2d>:85: DeprecationWarning: np.asscalar(a) is deprecated since NumPy v1.16, use a.item() instead\n",
      "  validation_losses.append(np.asscalar(val_loss.detach().cpu().numpy()))\n"
     ]
    },
    {
     "name": "stdout",
     "output_type": "stream",
     "text": [
      "epoch: 347\n",
      "Training loss: 744.6961318258743\n",
      "Training rmse: 55.452156\n",
      "Validation loss: 28139.763671875\n",
      "Validation rmse: 21.49505913317458\n",
      "Validation mae: 15.902047\n",
      "Validation mape: 0.19819942\n",
      "Validation acc: -0.16426920890808105\n"
     ]
    },
    {
     "name": "stderr",
     "output_type": "stream",
     "text": [
      "<ipython-input-6-5c6a0450ba2d>:85: DeprecationWarning: np.asscalar(a) is deprecated since NumPy v1.16, use a.item() instead\n",
      "  validation_losses.append(np.asscalar(val_loss.detach().cpu().numpy()))\n"
     ]
    },
    {
     "name": "stdout",
     "output_type": "stream",
     "text": [
      "epoch: 348\n",
      "Training loss: 741.4396615524018\n",
      "Training rmse: 55.41121\n",
      "Validation loss: 27057.865234375\n",
      "Validation rmse: 21.07776448681688\n",
      "Validation mae: 15.598916\n",
      "Validation mape: 0.19080812\n",
      "Validation acc: -0.1449422836303711\n"
     ]
    },
    {
     "name": "stderr",
     "output_type": "stream",
     "text": [
      "<ipython-input-6-5c6a0450ba2d>:85: DeprecationWarning: np.asscalar(a) is deprecated since NumPy v1.16, use a.item() instead\n",
      "  validation_losses.append(np.asscalar(val_loss.detach().cpu().numpy()))\n"
     ]
    },
    {
     "name": "stdout",
     "output_type": "stream",
     "text": [
      "epoch: 349\n",
      "Training loss: 741.2950809164287\n",
      "Training rmse: 55.4059\n",
      "Validation loss: 27280.009765625\n",
      "Validation rmse: 21.164116573159053\n",
      "Validation mae: 15.680107\n",
      "Validation mape: 0.19412716\n",
      "Validation acc: -0.13958394527435303\n"
     ]
    },
    {
     "name": "stderr",
     "output_type": "stream",
     "text": [
      "<ipython-input-6-5c6a0450ba2d>:85: DeprecationWarning: np.asscalar(a) is deprecated since NumPy v1.16, use a.item() instead\n",
      "  validation_losses.append(np.asscalar(val_loss.detach().cpu().numpy()))\n"
     ]
    },
    {
     "name": "stdout",
     "output_type": "stream",
     "text": [
      "epoch: 350\n",
      "Training loss: 738.9403846768068\n",
      "Training rmse: 55.377617\n",
      "Validation loss: 27758.31640625\n",
      "Validation rmse: 21.34886168543119\n",
      "Validation mae: 15.746169\n",
      "Validation mape: 0.19509064\n",
      "Validation acc: -0.1603379249572754\n"
     ]
    },
    {
     "name": "stderr",
     "output_type": "stream",
     "text": [
      "<ipython-input-6-5c6a0450ba2d>:85: DeprecationWarning: np.asscalar(a) is deprecated since NumPy v1.16, use a.item() instead\n",
      "  validation_losses.append(np.asscalar(val_loss.detach().cpu().numpy()))\n"
     ]
    },
    {
     "name": "stdout",
     "output_type": "stream",
     "text": [
      "epoch: 351\n",
      "Training loss: 741.0739586942939\n",
      "Training rmse: 55.40555\n",
      "Validation loss: 27920.537109375\n",
      "Validation rmse: 21.411154348086377\n",
      "Validation mae: 15.802093\n",
      "Validation mape: 0.19433273\n",
      "Validation acc: -0.17657709121704102\n"
     ]
    },
    {
     "name": "stderr",
     "output_type": "stream",
     "text": [
      "<ipython-input-6-5c6a0450ba2d>:85: DeprecationWarning: np.asscalar(a) is deprecated since NumPy v1.16, use a.item() instead\n",
      "  validation_losses.append(np.asscalar(val_loss.detach().cpu().numpy()))\n"
     ]
    },
    {
     "name": "stdout",
     "output_type": "stream",
     "text": [
      "epoch: 352\n",
      "Training loss: 739.8167724062465\n",
      "Training rmse: 55.39001\n",
      "Validation loss: 27244.212890625\n",
      "Validation rmse: 21.15022315951455\n",
      "Validation mae: 15.680221\n",
      "Validation mape: 0.19187759\n",
      "Validation acc: -0.15291595458984375\n"
     ]
    },
    {
     "name": "stderr",
     "output_type": "stream",
     "text": [
      "<ipython-input-6-5c6a0450ba2d>:85: DeprecationWarning: np.asscalar(a) is deprecated since NumPy v1.16, use a.item() instead\n",
      "  validation_losses.append(np.asscalar(val_loss.detach().cpu().numpy()))\n"
     ]
    },
    {
     "name": "stdout",
     "output_type": "stream",
     "text": [
      "epoch: 353\n",
      "Training loss: 739.1585302318723\n",
      "Training rmse: 55.385883\n",
      "Validation loss: 27752.84765625\n",
      "Validation rmse: 21.346755970838185\n",
      "Validation mae: 15.7714815\n",
      "Validation mape: 0.19486701\n",
      "Validation acc: -0.1611109972000122\n"
     ]
    },
    {
     "name": "stderr",
     "output_type": "stream",
     "text": [
      "<ipython-input-6-5c6a0450ba2d>:85: DeprecationWarning: np.asscalar(a) is deprecated since NumPy v1.16, use a.item() instead\n",
      "  validation_losses.append(np.asscalar(val_loss.detach().cpu().numpy()))\n"
     ]
    },
    {
     "name": "stdout",
     "output_type": "stream",
     "text": [
      "epoch: 354\n",
      "Training loss: 735.7999012171153\n",
      "Training rmse: 55.34046\n",
      "Validation loss: 28434.291015625\n",
      "Validation rmse: 21.607255833137902\n",
      "Validation mae: 15.926736\n",
      "Validation mape: 0.19705795\n",
      "Validation acc: -0.1859952211380005\n"
     ]
    },
    {
     "name": "stderr",
     "output_type": "stream",
     "text": [
      "<ipython-input-6-5c6a0450ba2d>:85: DeprecationWarning: np.asscalar(a) is deprecated since NumPy v1.16, use a.item() instead\n",
      "  validation_losses.append(np.asscalar(val_loss.detach().cpu().numpy()))\n"
     ]
    },
    {
     "name": "stdout",
     "output_type": "stream",
     "text": [
      "epoch: 355\n",
      "Training loss: 739.5125650932284\n",
      "Training rmse: 55.383812\n",
      "Validation loss: 27912.6796875\n",
      "Validation rmse: 21.408139600677806\n",
      "Validation mae: 15.80981\n",
      "Validation mape: 0.19451858\n",
      "Validation acc: -0.17637181282043457\n"
     ]
    },
    {
     "name": "stderr",
     "output_type": "stream",
     "text": [
      "<ipython-input-6-5c6a0450ba2d>:85: DeprecationWarning: np.asscalar(a) is deprecated since NumPy v1.16, use a.item() instead\n",
      "  validation_losses.append(np.asscalar(val_loss.detach().cpu().numpy()))\n"
     ]
    },
    {
     "name": "stdout",
     "output_type": "stream",
     "text": [
      "epoch: 356\n",
      "Training loss: 737.2454995869736\n",
      "Training rmse: 55.358303\n",
      "Validation loss: 27601.310546875\n",
      "Validation rmse: 21.288391617869614\n",
      "Validation mae: 15.799769\n",
      "Validation mape: 0.19687912\n",
      "Validation acc: -0.13993728160858154\n"
     ]
    },
    {
     "name": "stderr",
     "output_type": "stream",
     "text": [
      "<ipython-input-6-5c6a0450ba2d>:85: DeprecationWarning: np.asscalar(a) is deprecated since NumPy v1.16, use a.item() instead\n",
      "  validation_losses.append(np.asscalar(val_loss.detach().cpu().numpy()))\n"
     ]
    },
    {
     "name": "stdout",
     "output_type": "stream",
     "text": [
      "epoch: 357\n",
      "Training loss: 736.2405782173184\n",
      "Training rmse: 55.346466\n",
      "Validation loss: 28371.205078125\n",
      "Validation rmse: 21.583268841778448\n",
      "Validation mae: 15.923535\n",
      "Validation mape: 0.19819242\n",
      "Validation acc: -0.17332005500793457\n"
     ]
    },
    {
     "name": "stderr",
     "output_type": "stream",
     "text": [
      "<ipython-input-6-5c6a0450ba2d>:85: DeprecationWarning: np.asscalar(a) is deprecated since NumPy v1.16, use a.item() instead\n",
      "  validation_losses.append(np.asscalar(val_loss.detach().cpu().numpy()))\n"
     ]
    },
    {
     "name": "stdout",
     "output_type": "stream",
     "text": [
      "epoch: 358\n",
      "Training loss: 735.4625338756056\n",
      "Training rmse: 55.338104\n",
      "Validation loss: 28068.21484375\n",
      "Validation rmse: 21.467703759077263\n",
      "Validation mae: 15.948845\n",
      "Validation mape: 0.19973585\n",
      "Validation acc: -0.14638102054595947\n"
     ]
    },
    {
     "name": "stderr",
     "output_type": "stream",
     "text": [
      "<ipython-input-6-5c6a0450ba2d>:85: DeprecationWarning: np.asscalar(a) is deprecated since NumPy v1.16, use a.item() instead\n",
      "  validation_losses.append(np.asscalar(val_loss.detach().cpu().numpy()))\n"
     ]
    },
    {
     "name": "stdout",
     "output_type": "stream",
     "text": [
      "epoch: 359\n",
      "Training loss: 736.8429532615087\n",
      "Training rmse: 55.351612\n",
      "Validation loss: 27186.189453125\n",
      "Validation rmse: 21.127683209541324\n",
      "Validation mae: 15.662985\n",
      "Validation mape: 0.19280331\n",
      "Validation acc: -0.14566433429718018\n"
     ]
    },
    {
     "name": "stderr",
     "output_type": "stream",
     "text": [
      "<ipython-input-6-5c6a0450ba2d>:85: DeprecationWarning: np.asscalar(a) is deprecated since NumPy v1.16, use a.item() instead\n",
      "  validation_losses.append(np.asscalar(val_loss.detach().cpu().numpy()))\n"
     ]
    },
    {
     "name": "stdout",
     "output_type": "stream",
     "text": [
      "epoch: 360\n",
      "Training loss: 737.7038139425298\n",
      "Training rmse: 55.365437\n",
      "Validation loss: 28022.1015625\n",
      "Validation rmse: 21.450057108342904\n",
      "Validation mae: 15.819605\n",
      "Validation mape: 0.19451\n",
      "Validation acc: -0.1789473295211792\n"
     ]
    },
    {
     "name": "stderr",
     "output_type": "stream",
     "text": [
      "<ipython-input-6-5c6a0450ba2d>:85: DeprecationWarning: np.asscalar(a) is deprecated since NumPy v1.16, use a.item() instead\n",
      "  validation_losses.append(np.asscalar(val_loss.detach().cpu().numpy()))\n"
     ]
    },
    {
     "name": "stdout",
     "output_type": "stream",
     "text": [
      "epoch: 361\n",
      "Training loss: 736.0797913253948\n",
      "Training rmse: 55.343662\n",
      "Validation loss: 28653.771484375\n",
      "Validation rmse: 21.690485767994282\n",
      "Validation mae: 16.043652\n",
      "Validation mape: 0.19724137\n",
      "Validation acc: -0.20625066757202148\n"
     ]
    },
    {
     "name": "stderr",
     "output_type": "stream",
     "text": [
      "<ipython-input-6-5c6a0450ba2d>:85: DeprecationWarning: np.asscalar(a) is deprecated since NumPy v1.16, use a.item() instead\n",
      "  validation_losses.append(np.asscalar(val_loss.detach().cpu().numpy()))\n"
     ]
    },
    {
     "name": "stdout",
     "output_type": "stream",
     "text": [
      "epoch: 362\n",
      "Training loss: 734.0607020333676\n",
      "Training rmse: 55.317215\n",
      "Validation loss: 27184.435546875\n",
      "Validation rmse: 21.12699853596511\n",
      "Validation mae: 15.662234\n",
      "Validation mape: 0.19357443\n",
      "Validation acc: -0.13677239418029785\n"
     ]
    },
    {
     "name": "stderr",
     "output_type": "stream",
     "text": [
      "<ipython-input-6-5c6a0450ba2d>:85: DeprecationWarning: np.asscalar(a) is deprecated since NumPy v1.16, use a.item() instead\n",
      "  validation_losses.append(np.asscalar(val_loss.detach().cpu().numpy()))\n"
     ]
    },
    {
     "name": "stdout",
     "output_type": "stream",
     "text": [
      "epoch: 363\n",
      "Training loss: 738.3476858378311\n",
      "Training rmse: 55.372467\n",
      "Validation loss: 28081.53515625\n",
      "Validation rmse: 21.472791621708083\n",
      "Validation mae: 15.813\n",
      "Validation mape: 0.19449757\n",
      "Validation acc: -0.18131518363952637\n"
     ]
    },
    {
     "name": "stderr",
     "output_type": "stream",
     "text": [
      "<ipython-input-6-5c6a0450ba2d>:85: DeprecationWarning: np.asscalar(a) is deprecated since NumPy v1.16, use a.item() instead\n",
      "  validation_losses.append(np.asscalar(val_loss.detach().cpu().numpy()))\n"
     ]
    },
    {
     "name": "stdout",
     "output_type": "stream",
     "text": [
      "epoch: 364\n",
      "Training loss: 731.5350975665567\n",
      "Training rmse: 55.28773\n",
      "Validation loss: 27596.11328125\n",
      "Validation rmse: 21.28637884461343\n",
      "Validation mae: 15.734592\n",
      "Validation mape: 0.19307107\n",
      "Validation acc: -0.16526365280151367\n"
     ]
    },
    {
     "name": "stderr",
     "output_type": "stream",
     "text": [
      "<ipython-input-6-5c6a0450ba2d>:85: DeprecationWarning: np.asscalar(a) is deprecated since NumPy v1.16, use a.item() instead\n",
      "  validation_losses.append(np.asscalar(val_loss.detach().cpu().numpy()))\n"
     ]
    },
    {
     "name": "stdout",
     "output_type": "stream",
     "text": [
      "epoch: 365\n",
      "Training loss: 729.1533444312311\n",
      "Training rmse: 55.255787\n",
      "Validation loss: 27899.009765625\n",
      "Validation rmse: 21.402888079977956\n",
      "Validation mae: 15.796795\n",
      "Validation mape: 0.19489494\n",
      "Validation acc: -0.17125391960144043\n"
     ]
    },
    {
     "name": "stderr",
     "output_type": "stream",
     "text": [
      "<ipython-input-6-5c6a0450ba2d>:85: DeprecationWarning: np.asscalar(a) is deprecated since NumPy v1.16, use a.item() instead\n",
      "  validation_losses.append(np.asscalar(val_loss.detach().cpu().numpy()))\n"
     ]
    },
    {
     "name": "stdout",
     "output_type": "stream",
     "text": [
      "epoch: 366\n",
      "Training loss: 729.372808859767\n",
      "Training rmse: 55.25873\n",
      "Validation loss: 28981.57421875\n",
      "Validation rmse: 21.814208217943214\n",
      "Validation mae: 16.066666\n",
      "Validation mape: 0.19964041\n",
      "Validation acc: -0.19998741149902344\n"
     ]
    },
    {
     "name": "stderr",
     "output_type": "stream",
     "text": [
      "<ipython-input-6-5c6a0450ba2d>:85: DeprecationWarning: np.asscalar(a) is deprecated since NumPy v1.16, use a.item() instead\n",
      "  validation_losses.append(np.asscalar(val_loss.detach().cpu().numpy()))\n"
     ]
    },
    {
     "name": "stdout",
     "output_type": "stream",
     "text": [
      "epoch: 367\n",
      "Training loss: 730.1610593624868\n",
      "Training rmse: 55.268406\n",
      "Validation loss: 26870.037109375\n",
      "Validation rmse: 21.00445799965748\n",
      "Validation mae: 15.617228\n",
      "Validation mape: 0.19078241\n",
      "Validation acc: -0.13865447044372559\n"
     ]
    },
    {
     "name": "stderr",
     "output_type": "stream",
     "text": [
      "<ipython-input-6-5c6a0450ba2d>:85: DeprecationWarning: np.asscalar(a) is deprecated since NumPy v1.16, use a.item() instead\n",
      "  validation_losses.append(np.asscalar(val_loss.detach().cpu().numpy()))\n"
     ]
    },
    {
     "name": "stdout",
     "output_type": "stream",
     "text": [
      "epoch: 368\n",
      "Training loss: 730.9928601993028\n",
      "Training rmse: 55.276382\n",
      "Validation loss: 28179.08203125\n",
      "Validation rmse: 21.510052127535555\n",
      "Validation mae: 15.871169\n",
      "Validation mape: 0.1962741\n",
      "Validation acc: -0.1790311336517334\n"
     ]
    },
    {
     "name": "stderr",
     "output_type": "stream",
     "text": [
      "<ipython-input-6-5c6a0450ba2d>:85: DeprecationWarning: np.asscalar(a) is deprecated since NumPy v1.16, use a.item() instead\n",
      "  validation_losses.append(np.asscalar(val_loss.detach().cpu().numpy()))\n"
     ]
    },
    {
     "name": "stdout",
     "output_type": "stream",
     "text": [
      "epoch: 369\n",
      "Training loss: 729.7298553904325\n",
      "Training rmse: 55.264797\n",
      "Validation loss: 27307.587890625\n",
      "Validation rmse: 21.174795837499016\n",
      "Validation mae: 15.65621\n",
      "Validation mape: 0.1926569\n",
      "Validation acc: -0.14955532550811768\n"
     ]
    },
    {
     "name": "stderr",
     "output_type": "stream",
     "text": [
      "<ipython-input-6-5c6a0450ba2d>:85: DeprecationWarning: np.asscalar(a) is deprecated since NumPy v1.16, use a.item() instead\n",
      "  validation_losses.append(np.asscalar(val_loss.detach().cpu().numpy()))\n"
     ]
    },
    {
     "name": "stdout",
     "output_type": "stream",
     "text": [
      "epoch: 370\n",
      "Training loss: 728.3229305034897\n",
      "Training rmse: 55.248516\n",
      "Validation loss: 28224.5234375\n",
      "Validation rmse: 21.52738450651649\n",
      "Validation mae: 15.9147215\n",
      "Validation mape: 0.19639601\n",
      "Validation acc: -0.18281042575836182\n"
     ]
    },
    {
     "name": "stderr",
     "output_type": "stream",
     "text": [
      "<ipython-input-6-5c6a0450ba2d>:85: DeprecationWarning: np.asscalar(a) is deprecated since NumPy v1.16, use a.item() instead\n",
      "  validation_losses.append(np.asscalar(val_loss.detach().cpu().numpy()))\n"
     ]
    },
    {
     "name": "stdout",
     "output_type": "stream",
     "text": [
      "epoch: 371\n",
      "Training loss: 730.5707004232646\n",
      "Training rmse: 55.276043\n",
      "Validation loss: 28423.458984375\n",
      "Validation rmse: 21.60312494349414\n",
      "Validation mae: 15.921008\n",
      "Validation mape: 0.19749777\n",
      "Validation acc: -0.18398749828338623\n"
     ]
    },
    {
     "name": "stderr",
     "output_type": "stream",
     "text": [
      "<ipython-input-6-5c6a0450ba2d>:85: DeprecationWarning: np.asscalar(a) is deprecated since NumPy v1.16, use a.item() instead\n",
      "  validation_losses.append(np.asscalar(val_loss.detach().cpu().numpy()))\n"
     ]
    },
    {
     "name": "stdout",
     "output_type": "stream",
     "text": [
      "epoch: 372\n",
      "Training loss: 725.3867428687311\n",
      "Training rmse: 55.20965\n",
      "Validation loss: 27588.7734375\n",
      "Validation rmse: 21.283539994724357\n",
      "Validation mae: 15.734563\n",
      "Validation mape: 0.19366558\n",
      "Validation acc: -0.1598200798034668\n"
     ]
    },
    {
     "name": "stderr",
     "output_type": "stream",
     "text": [
      "<ipython-input-6-5c6a0450ba2d>:85: DeprecationWarning: np.asscalar(a) is deprecated since NumPy v1.16, use a.item() instead\n",
      "  validation_losses.append(np.asscalar(val_loss.detach().cpu().numpy()))\n"
     ]
    },
    {
     "name": "stdout",
     "output_type": "stream",
     "text": [
      "epoch: 373\n",
      "Training loss: 729.0632606971221\n",
      "Training rmse: 55.25741\n",
      "Validation loss: 28403.220703125\n",
      "Validation rmse: 21.595431713638824\n",
      "Validation mae: 15.919587\n",
      "Validation mape: 0.19747284\n",
      "Validation acc: -0.18039798736572266\n"
     ]
    },
    {
     "name": "stderr",
     "output_type": "stream",
     "text": [
      "<ipython-input-6-5c6a0450ba2d>:85: DeprecationWarning: np.asscalar(a) is deprecated since NumPy v1.16, use a.item() instead\n",
      "  validation_losses.append(np.asscalar(val_loss.detach().cpu().numpy()))\n"
     ]
    },
    {
     "name": "stdout",
     "output_type": "stream",
     "text": [
      "epoch: 374\n",
      "Training loss: 730.5814692452817\n",
      "Training rmse: 55.27248\n",
      "Validation loss: 27627.361328125\n",
      "Validation rmse: 21.29841609313171\n",
      "Validation mae: 15.757329\n",
      "Validation mape: 0.1927068\n",
      "Validation acc: -0.16766345500946045\n"
     ]
    },
    {
     "name": "stderr",
     "output_type": "stream",
     "text": [
      "<ipython-input-6-5c6a0450ba2d>:85: DeprecationWarning: np.asscalar(a) is deprecated since NumPy v1.16, use a.item() instead\n",
      "  validation_losses.append(np.asscalar(val_loss.detach().cpu().numpy()))\n"
     ]
    },
    {
     "name": "stdout",
     "output_type": "stream",
     "text": [
      "epoch: 375\n",
      "Training loss: 725.6761547348406\n",
      "Training rmse: 55.208332\n",
      "Validation loss: 29643.685546875\n",
      "Validation rmse: 22.06199303927989\n",
      "Validation mae: 16.378935\n",
      "Validation mape: 0.20613956\n",
      "Validation acc: -0.19056165218353271\n"
     ]
    },
    {
     "name": "stderr",
     "output_type": "stream",
     "text": [
      "<ipython-input-6-5c6a0450ba2d>:85: DeprecationWarning: np.asscalar(a) is deprecated since NumPy v1.16, use a.item() instead\n",
      "  validation_losses.append(np.asscalar(val_loss.detach().cpu().numpy()))\n"
     ]
    },
    {
     "name": "stdout",
     "output_type": "stream",
     "text": [
      "epoch: 376\n",
      "Training loss: 724.9033267113471\n",
      "Training rmse: 55.200764\n",
      "Validation loss: 28545.01953125\n",
      "Validation rmse: 21.649272725001282\n",
      "Validation mae: 16.00207\n",
      "Validation mape: 0.19975708\n",
      "Validation acc: -0.17218494415283203\n"
     ]
    },
    {
     "name": "stderr",
     "output_type": "stream",
     "text": [
      "<ipython-input-6-5c6a0450ba2d>:85: DeprecationWarning: np.asscalar(a) is deprecated since NumPy v1.16, use a.item() instead\n",
      "  validation_losses.append(np.asscalar(val_loss.detach().cpu().numpy()))\n"
     ]
    },
    {
     "name": "stdout",
     "output_type": "stream",
     "text": [
      "epoch: 377\n",
      "Training loss: 724.8233304040833\n",
      "Training rmse: 55.201553\n",
      "Validation loss: 27460.1484375\n",
      "Validation rmse: 21.233859765410276\n",
      "Validation mae: 15.654425\n",
      "Validation mape: 0.19077367\n",
      "Validation acc: -0.16317570209503174\n"
     ]
    },
    {
     "name": "stderr",
     "output_type": "stream",
     "text": [
      "<ipython-input-6-5c6a0450ba2d>:85: DeprecationWarning: np.asscalar(a) is deprecated since NumPy v1.16, use a.item() instead\n",
      "  validation_losses.append(np.asscalar(val_loss.detach().cpu().numpy()))\n"
     ]
    },
    {
     "name": "stdout",
     "output_type": "stream",
     "text": [
      "epoch: 378\n",
      "Training loss: 726.8614195136614\n",
      "Training rmse: 55.2264\n",
      "Validation loss: 27679.5546875\n",
      "Validation rmse: 21.31852462501803\n",
      "Validation mae: 15.778722\n",
      "Validation mape: 0.19570866\n",
      "Validation acc: -0.15410184860229492\n"
     ]
    },
    {
     "name": "stderr",
     "output_type": "stream",
     "text": [
      "<ipython-input-6-5c6a0450ba2d>:85: DeprecationWarning: np.asscalar(a) is deprecated since NumPy v1.16, use a.item() instead\n",
      "  validation_losses.append(np.asscalar(val_loss.detach().cpu().numpy()))\n"
     ]
    },
    {
     "name": "stdout",
     "output_type": "stream",
     "text": [
      "epoch: 379\n",
      "Training loss: 727.5439570163741\n",
      "Training rmse: 55.238243\n",
      "Validation loss: 27495.345703125\n",
      "Validation rmse: 21.24746150393802\n",
      "Validation mae: 15.705574\n",
      "Validation mape: 0.19350308\n",
      "Validation acc: -0.15448641777038574\n"
     ]
    },
    {
     "name": "stderr",
     "output_type": "stream",
     "text": [
      "<ipython-input-6-5c6a0450ba2d>:85: DeprecationWarning: np.asscalar(a) is deprecated since NumPy v1.16, use a.item() instead\n",
      "  validation_losses.append(np.asscalar(val_loss.detach().cpu().numpy()))\n"
     ]
    },
    {
     "name": "stdout",
     "output_type": "stream",
     "text": [
      "epoch: 380\n",
      "Training loss: 724.3928404230371\n",
      "Training rmse: 55.196873\n",
      "Validation loss: 27424.509765625\n",
      "Validation rmse: 21.22007385528684\n",
      "Validation mae: 15.758218\n",
      "Validation mape: 0.1937322\n",
      "Validation acc: -0.15366649627685547\n"
     ]
    },
    {
     "name": "stderr",
     "output_type": "stream",
     "text": [
      "<ipython-input-6-5c6a0450ba2d>:85: DeprecationWarning: np.asscalar(a) is deprecated since NumPy v1.16, use a.item() instead\n",
      "  validation_losses.append(np.asscalar(val_loss.detach().cpu().numpy()))\n"
     ]
    },
    {
     "name": "stdout",
     "output_type": "stream",
     "text": [
      "epoch: 381\n",
      "Training loss: 723.9782862509451\n",
      "Training rmse: 55.193615\n",
      "Validation loss: 28357.45703125\n",
      "Validation rmse: 21.578018221359628\n",
      "Validation mae: 15.925148\n",
      "Validation mape: 0.19726583\n",
      "Validation acc: -0.17981386184692383\n"
     ]
    },
    {
     "name": "stderr",
     "output_type": "stream",
     "text": [
      "<ipython-input-6-5c6a0450ba2d>:85: DeprecationWarning: np.asscalar(a) is deprecated since NumPy v1.16, use a.item() instead\n",
      "  validation_losses.append(np.asscalar(val_loss.detach().cpu().numpy()))\n"
     ]
    },
    {
     "name": "stdout",
     "output_type": "stream",
     "text": [
      "epoch: 382\n",
      "Training loss: 726.7866981533693\n",
      "Training rmse: 55.224438\n",
      "Validation loss: 28862.03125\n",
      "Validation rmse: 21.76915660284566\n",
      "Validation mae: 16.075022\n",
      "Validation mape: 0.19938141\n",
      "Validation acc: -0.1984771490097046\n"
     ]
    },
    {
     "name": "stderr",
     "output_type": "stream",
     "text": [
      "<ipython-input-6-5c6a0450ba2d>:85: DeprecationWarning: np.asscalar(a) is deprecated since NumPy v1.16, use a.item() instead\n",
      "  validation_losses.append(np.asscalar(val_loss.detach().cpu().numpy()))\n"
     ]
    },
    {
     "name": "stdout",
     "output_type": "stream",
     "text": [
      "epoch: 383\n",
      "Training loss: 724.6936906383884\n",
      "Training rmse: 55.19684\n",
      "Validation loss: 28179.994140625\n",
      "Validation rmse: 21.510388370769324\n",
      "Validation mae: 15.886335\n",
      "Validation mape: 0.19548044\n",
      "Validation acc: -0.18498873710632324\n"
     ]
    },
    {
     "name": "stderr",
     "output_type": "stream",
     "text": [
      "<ipython-input-6-5c6a0450ba2d>:85: DeprecationWarning: np.asscalar(a) is deprecated since NumPy v1.16, use a.item() instead\n",
      "  validation_losses.append(np.asscalar(val_loss.detach().cpu().numpy()))\n"
     ]
    },
    {
     "name": "stdout",
     "output_type": "stream",
     "text": [
      "epoch: 384\n",
      "Training loss: 721.6407978782518\n",
      "Training rmse: 55.161034\n",
      "Validation loss: 27699.65625\n",
      "Validation rmse: 21.326259075887524\n",
      "Validation mae: 15.73621\n",
      "Validation mape: 0.19264126\n",
      "Validation acc: -0.17064213752746582\n"
     ]
    },
    {
     "name": "stderr",
     "output_type": "stream",
     "text": [
      "<ipython-input-6-5c6a0450ba2d>:85: DeprecationWarning: np.asscalar(a) is deprecated since NumPy v1.16, use a.item() instead\n",
      "  validation_losses.append(np.asscalar(val_loss.detach().cpu().numpy()))\n"
     ]
    },
    {
     "name": "stdout",
     "output_type": "stream",
     "text": [
      "epoch: 385\n",
      "Training loss: 720.7212119700661\n",
      "Training rmse: 55.146812\n",
      "Validation loss: 27354.1796875\n",
      "Validation rmse: 21.19283873326598\n",
      "Validation mae: 15.704133\n",
      "Validation mape: 0.191008\n",
      "Validation acc: -0.15971505641937256\n"
     ]
    },
    {
     "name": "stderr",
     "output_type": "stream",
     "text": [
      "<ipython-input-6-5c6a0450ba2d>:85: DeprecationWarning: np.asscalar(a) is deprecated since NumPy v1.16, use a.item() instead\n",
      "  validation_losses.append(np.asscalar(val_loss.detach().cpu().numpy()))\n"
     ]
    },
    {
     "name": "stdout",
     "output_type": "stream",
     "text": [
      "epoch: 386\n",
      "Training loss: 723.5609226568625\n",
      "Training rmse: 55.185394\n",
      "Validation loss: 27917.4921875\n",
      "Validation rmse: 21.40995705241671\n",
      "Validation mae: 15.799145\n",
      "Validation mape: 0.19437736\n",
      "Validation acc: -0.17454266548156738\n"
     ]
    },
    {
     "name": "stderr",
     "output_type": "stream",
     "text": [
      "<ipython-input-6-5c6a0450ba2d>:85: DeprecationWarning: np.asscalar(a) is deprecated since NumPy v1.16, use a.item() instead\n",
      "  validation_losses.append(np.asscalar(val_loss.detach().cpu().numpy()))\n"
     ]
    },
    {
     "name": "stdout",
     "output_type": "stream",
     "text": [
      "epoch: 387\n",
      "Training loss: 721.8517540825737\n",
      "Training rmse: 55.159233\n",
      "Validation loss: 27259.4453125\n",
      "Validation rmse: 21.15610575098534\n",
      "Validation mae: 15.672319\n",
      "Validation mape: 0.19086464\n",
      "Validation acc: -0.15469741821289062\n"
     ]
    },
    {
     "name": "stderr",
     "output_type": "stream",
     "text": [
      "<ipython-input-6-5c6a0450ba2d>:85: DeprecationWarning: np.asscalar(a) is deprecated since NumPy v1.16, use a.item() instead\n",
      "  validation_losses.append(np.asscalar(val_loss.detach().cpu().numpy()))\n"
     ]
    },
    {
     "name": "stdout",
     "output_type": "stream",
     "text": [
      "epoch: 388\n",
      "Training loss: 720.163582695855\n",
      "Training rmse: 55.14412\n",
      "Validation loss: 27099.98828125\n",
      "Validation rmse: 21.09413121762003\n",
      "Validation mae: 15.676572\n",
      "Validation mape: 0.19146937\n",
      "Validation acc: -0.14730894565582275\n"
     ]
    },
    {
     "name": "stderr",
     "output_type": "stream",
     "text": [
      "<ipython-input-6-5c6a0450ba2d>:85: DeprecationWarning: np.asscalar(a) is deprecated since NumPy v1.16, use a.item() instead\n",
      "  validation_losses.append(np.asscalar(val_loss.detach().cpu().numpy()))\n"
     ]
    },
    {
     "name": "stdout",
     "output_type": "stream",
     "text": [
      "epoch: 389\n",
      "Training loss: 722.5757252136011\n",
      "Training rmse: 55.168697\n",
      "Validation loss: 27746.474609375\n",
      "Validation rmse: 21.344272590372093\n",
      "Validation mae: 15.783739\n",
      "Validation mape: 0.19352128\n",
      "Validation acc: -0.17146968841552734\n"
     ]
    },
    {
     "name": "stderr",
     "output_type": "stream",
     "text": [
      "<ipython-input-6-5c6a0450ba2d>:85: DeprecationWarning: np.asscalar(a) is deprecated since NumPy v1.16, use a.item() instead\n",
      "  validation_losses.append(np.asscalar(val_loss.detach().cpu().numpy()))\n"
     ]
    },
    {
     "name": "stdout",
     "output_type": "stream",
     "text": [
      "epoch: 390\n",
      "Training loss: 722.8227874865241\n",
      "Training rmse: 55.173187\n",
      "Validation loss: 29151.2421875\n",
      "Validation rmse: 21.877953204671165\n",
      "Validation mae: 16.163847\n",
      "Validation mape: 0.20134151\n",
      "Validation acc: -0.2008277177810669\n"
     ]
    },
    {
     "name": "stderr",
     "output_type": "stream",
     "text": [
      "<ipython-input-6-5c6a0450ba2d>:85: DeprecationWarning: np.asscalar(a) is deprecated since NumPy v1.16, use a.item() instead\n",
      "  validation_losses.append(np.asscalar(val_loss.detach().cpu().numpy()))\n"
     ]
    },
    {
     "name": "stdout",
     "output_type": "stream",
     "text": [
      "epoch: 391\n",
      "Training loss: 718.7508949635277\n",
      "Training rmse: 55.117836\n",
      "Validation loss: 28723.1796875\n",
      "Validation rmse: 21.716719498158987\n",
      "Validation mae: 16.011396\n",
      "Validation mape: 0.19934915\n",
      "Validation acc: -0.18496274948120117\n"
     ]
    },
    {
     "name": "stderr",
     "output_type": "stream",
     "text": [
      "<ipython-input-6-5c6a0450ba2d>:85: DeprecationWarning: np.asscalar(a) is deprecated since NumPy v1.16, use a.item() instead\n",
      "  validation_losses.append(np.asscalar(val_loss.detach().cpu().numpy()))\n"
     ]
    },
    {
     "name": "stdout",
     "output_type": "stream",
     "text": [
      "epoch: 392\n",
      "Training loss: 722.6513455298639\n",
      "Training rmse: 55.17201\n",
      "Validation loss: 27795.158203125\n",
      "Validation rmse: 21.36298947563139\n",
      "Validation mae: 15.843553\n",
      "Validation mape: 0.19745208\n",
      "Validation acc: -0.14356637001037598\n"
     ]
    },
    {
     "name": "stderr",
     "output_type": "stream",
     "text": [
      "<ipython-input-6-5c6a0450ba2d>:85: DeprecationWarning: np.asscalar(a) is deprecated since NumPy v1.16, use a.item() instead\n",
      "  validation_losses.append(np.asscalar(val_loss.detach().cpu().numpy()))\n"
     ]
    },
    {
     "name": "stdout",
     "output_type": "stream",
     "text": [
      "epoch: 393\n",
      "Training loss: 717.1861640082466\n",
      "Training rmse: 55.10188\n",
      "Validation loss: 28227.470703125\n",
      "Validation rmse: 21.528493762945235\n",
      "Validation mae: 15.922183\n",
      "Validation mape: 0.19800778\n",
      "Validation acc: -0.16580820083618164\n"
     ]
    },
    {
     "name": "stderr",
     "output_type": "stream",
     "text": [
      "<ipython-input-6-5c6a0450ba2d>:85: DeprecationWarning: np.asscalar(a) is deprecated since NumPy v1.16, use a.item() instead\n",
      "  validation_losses.append(np.asscalar(val_loss.detach().cpu().numpy()))\n"
     ]
    },
    {
     "name": "stdout",
     "output_type": "stream",
     "text": [
      "epoch: 394\n",
      "Training loss: 719.423336288835\n",
      "Training rmse: 55.131744\n",
      "Validation loss: 27763.970703125\n",
      "Validation rmse: 21.350997208259603\n",
      "Validation mae: 15.814871\n",
      "Validation mape: 0.19446339\n",
      "Validation acc: -0.17100536823272705\n"
     ]
    },
    {
     "name": "stderr",
     "output_type": "stream",
     "text": [
      "<ipython-input-6-5c6a0450ba2d>:85: DeprecationWarning: np.asscalar(a) is deprecated since NumPy v1.16, use a.item() instead\n",
      "  validation_losses.append(np.asscalar(val_loss.detach().cpu().numpy()))\n"
     ]
    },
    {
     "name": "stdout",
     "output_type": "stream",
     "text": [
      "epoch: 395\n",
      "Training loss: 720.9231548787873\n",
      "Training rmse: 55.151466\n",
      "Validation loss: 27460.443359375\n",
      "Validation rmse: 21.23395965147501\n",
      "Validation mae: 15.698342\n",
      "Validation mape: 0.19359928\n",
      "Validation acc: -0.15194976329803467\n"
     ]
    },
    {
     "name": "stderr",
     "output_type": "stream",
     "text": [
      "<ipython-input-6-5c6a0450ba2d>:85: DeprecationWarning: np.asscalar(a) is deprecated since NumPy v1.16, use a.item() instead\n",
      "  validation_losses.append(np.asscalar(val_loss.detach().cpu().numpy()))\n"
     ]
    },
    {
     "name": "stdout",
     "output_type": "stream",
     "text": [
      "epoch: 396\n",
      "Training loss: 717.9959203248383\n",
      "Training rmse: 55.11138\n",
      "Validation loss: 26881.58984375\n",
      "Validation rmse: 21.008949189450714\n",
      "Validation mae: 15.552016\n",
      "Validation mape: 0.1895232\n",
      "Validation acc: -0.13870859146118164\n"
     ]
    },
    {
     "name": "stderr",
     "output_type": "stream",
     "text": [
      "<ipython-input-6-5c6a0450ba2d>:85: DeprecationWarning: np.asscalar(a) is deprecated since NumPy v1.16, use a.item() instead\n",
      "  validation_losses.append(np.asscalar(val_loss.detach().cpu().numpy()))\n"
     ]
    },
    {
     "name": "stdout",
     "output_type": "stream",
     "text": [
      "epoch: 397\n",
      "Training loss: 718.1554872793109\n",
      "Training rmse: 55.11069\n",
      "Validation loss: 29167.455078125\n",
      "Validation rmse: 21.884032036037073\n",
      "Validation mae: 16.125122\n",
      "Validation mape: 0.1999345\n",
      "Validation acc: -0.2117159366607666\n"
     ]
    },
    {
     "name": "stderr",
     "output_type": "stream",
     "text": [
      "<ipython-input-6-5c6a0450ba2d>:85: DeprecationWarning: np.asscalar(a) is deprecated since NumPy v1.16, use a.item() instead\n",
      "  validation_losses.append(np.asscalar(val_loss.detach().cpu().numpy()))\n"
     ]
    },
    {
     "name": "stdout",
     "output_type": "stream",
     "text": [
      "epoch: 398\n",
      "Training loss: 716.5286672175145\n",
      "Training rmse: 55.091946\n",
      "Validation loss: 27939.927734375\n",
      "Validation rmse: 21.418550440646435\n",
      "Validation mae: 15.82289\n",
      "Validation mape: 0.19581985\n",
      "Validation acc: -0.16675221920013428\n"
     ]
    },
    {
     "name": "stderr",
     "output_type": "stream",
     "text": [
      "<ipython-input-6-5c6a0450ba2d>:85: DeprecationWarning: np.asscalar(a) is deprecated since NumPy v1.16, use a.item() instead\n",
      "  validation_losses.append(np.asscalar(val_loss.detach().cpu().numpy()))\n"
     ]
    },
    {
     "name": "stdout",
     "output_type": "stream",
     "text": [
      "epoch: 399\n",
      "Training loss: 716.3011349366984\n",
      "Training rmse: 55.088852\n",
      "Validation loss: 28077.265625\n",
      "Validation rmse: 21.47112801831581\n",
      "Validation mae: 15.842252\n",
      "Validation mape: 0.19568552\n",
      "Validation acc: -0.17379975318908691\n"
     ]
    },
    {
     "name": "stderr",
     "output_type": "stream",
     "text": [
      "<ipython-input-6-5c6a0450ba2d>:85: DeprecationWarning: np.asscalar(a) is deprecated since NumPy v1.16, use a.item() instead\n",
      "  validation_losses.append(np.asscalar(val_loss.detach().cpu().numpy()))\n"
     ]
    },
    {
     "name": "stdout",
     "output_type": "stream",
     "text": [
      "epoch: 400\n",
      "Training loss: 714.5393405490452\n",
      "Training rmse: 55.070763\n",
      "Validation loss: 28576.03515625\n",
      "Validation rmse: 21.661010395129093\n",
      "Validation mae: 16.070208\n",
      "Validation mape: 0.20178783\n",
      "Validation acc: -0.1557701826095581\n"
     ]
    },
    {
     "name": "stderr",
     "output_type": "stream",
     "text": [
      "<ipython-input-6-5c6a0450ba2d>:85: DeprecationWarning: np.asscalar(a) is deprecated since NumPy v1.16, use a.item() instead\n",
      "  validation_losses.append(np.asscalar(val_loss.detach().cpu().numpy()))\n"
     ]
    },
    {
     "name": "stdout",
     "output_type": "stream",
     "text": [
      "epoch: 401\n",
      "Training loss: 714.4193303918325\n",
      "Training rmse: 55.069477\n",
      "Validation loss: 28502.701171875\n",
      "Validation rmse: 21.633195503787185\n",
      "Validation mae: 15.980395\n",
      "Validation mape: 0.19774729\n",
      "Validation acc: -0.18802988529205322\n"
     ]
    },
    {
     "name": "stderr",
     "output_type": "stream",
     "text": [
      "<ipython-input-6-5c6a0450ba2d>:85: DeprecationWarning: np.asscalar(a) is deprecated since NumPy v1.16, use a.item() instead\n",
      "  validation_losses.append(np.asscalar(val_loss.detach().cpu().numpy()))\n"
     ]
    },
    {
     "name": "stdout",
     "output_type": "stream",
     "text": [
      "epoch: 402\n",
      "Training loss: 715.2827986850533\n",
      "Training rmse: 55.07977\n",
      "Validation loss: 28830.84375\n",
      "Validation rmse: 21.75737628602223\n",
      "Validation mae: 16.170965\n",
      "Validation mape: 0.20253426\n",
      "Validation acc: -0.16852056980133057\n"
     ]
    },
    {
     "name": "stderr",
     "output_type": "stream",
     "text": [
      "<ipython-input-6-5c6a0450ba2d>:85: DeprecationWarning: np.asscalar(a) is deprecated since NumPy v1.16, use a.item() instead\n",
      "  validation_losses.append(np.asscalar(val_loss.detach().cpu().numpy()))\n"
     ]
    },
    {
     "name": "stdout",
     "output_type": "stream",
     "text": [
      "epoch: 403\n",
      "Training loss: 716.7383129160892\n",
      "Training rmse: 55.099\n",
      "Validation loss: 28467.439453125\n",
      "Validation rmse: 21.619806801694093\n",
      "Validation mae: 15.984048\n",
      "Validation mape: 0.1969544\n",
      "Validation acc: -0.19591069221496582\n"
     ]
    },
    {
     "name": "stderr",
     "output_type": "stream",
     "text": [
      "<ipython-input-6-5c6a0450ba2d>:85: DeprecationWarning: np.asscalar(a) is deprecated since NumPy v1.16, use a.item() instead\n",
      "  validation_losses.append(np.asscalar(val_loss.detach().cpu().numpy()))\n"
     ]
    },
    {
     "name": "stdout",
     "output_type": "stream",
     "text": [
      "epoch: 404\n",
      "Training loss: 715.9885720967392\n",
      "Training rmse: 55.09104\n",
      "Validation loss: 27947.4453125\n",
      "Validation rmse: 21.42142624666729\n",
      "Validation mae: 15.912958\n",
      "Validation mape: 0.19359173\n",
      "Validation acc: -0.18508148193359375\n"
     ]
    },
    {
     "name": "stderr",
     "output_type": "stream",
     "text": [
      "<ipython-input-6-5c6a0450ba2d>:85: DeprecationWarning: np.asscalar(a) is deprecated since NumPy v1.16, use a.item() instead\n",
      "  validation_losses.append(np.asscalar(val_loss.detach().cpu().numpy()))\n"
     ]
    },
    {
     "name": "stdout",
     "output_type": "stream",
     "text": [
      "epoch: 405\n",
      "Training loss: 717.0469762330414\n",
      "Training rmse: 55.0986\n",
      "Validation loss: 28195.6484375\n",
      "Validation rmse: 21.51634553078194\n",
      "Validation mae: 15.915359\n",
      "Validation mape: 0.19804786\n",
      "Validation acc: -0.16391253471374512\n"
     ]
    },
    {
     "name": "stderr",
     "output_type": "stream",
     "text": [
      "<ipython-input-6-5c6a0450ba2d>:85: DeprecationWarning: np.asscalar(a) is deprecated since NumPy v1.16, use a.item() instead\n",
      "  validation_losses.append(np.asscalar(val_loss.detach().cpu().numpy()))\n"
     ]
    },
    {
     "name": "stdout",
     "output_type": "stream",
     "text": [
      "epoch: 406\n",
      "Training loss: 717.2261081271702\n",
      "Training rmse: 55.10142\n",
      "Validation loss: 27238.296875\n",
      "Validation rmse: 21.147881209205615\n",
      "Validation mae: 15.684087\n",
      "Validation mape: 0.191776\n",
      "Validation acc: -0.15302419662475586\n"
     ]
    },
    {
     "name": "stderr",
     "output_type": "stream",
     "text": [
      "<ipython-input-6-5c6a0450ba2d>:85: DeprecationWarning: np.asscalar(a) is deprecated since NumPy v1.16, use a.item() instead\n",
      "  validation_losses.append(np.asscalar(val_loss.detach().cpu().numpy()))\n"
     ]
    },
    {
     "name": "stdout",
     "output_type": "stream",
     "text": [
      "epoch: 407\n",
      "Training loss: 713.0571763233472\n",
      "Training rmse: 55.050297\n",
      "Validation loss: 27742.7734375\n",
      "Validation rmse: 21.342837044667572\n",
      "Validation mae: 15.818146\n",
      "Validation mape: 0.19479248\n",
      "Validation acc: -0.16701781749725342\n"
     ]
    },
    {
     "name": "stderr",
     "output_type": "stream",
     "text": [
      "<ipython-input-6-5c6a0450ba2d>:85: DeprecationWarning: np.asscalar(a) is deprecated since NumPy v1.16, use a.item() instead\n",
      "  validation_losses.append(np.asscalar(val_loss.detach().cpu().numpy()))\n"
     ]
    },
    {
     "name": "stdout",
     "output_type": "stream",
     "text": [
      "epoch: 408\n",
      "Training loss: 713.0619267836266\n",
      "Training rmse: 55.04908\n",
      "Validation loss: 28661.541015625\n",
      "Validation rmse: 21.693390939390245\n",
      "Validation mae: 16.07134\n",
      "Validation mape: 0.20023285\n",
      "Validation acc: -0.179054856300354\n"
     ]
    },
    {
     "name": "stderr",
     "output_type": "stream",
     "text": [
      "<ipython-input-6-5c6a0450ba2d>:85: DeprecationWarning: np.asscalar(a) is deprecated since NumPy v1.16, use a.item() instead\n",
      "  validation_losses.append(np.asscalar(val_loss.detach().cpu().numpy()))\n"
     ]
    },
    {
     "name": "stdout",
     "output_type": "stream",
     "text": [
      "epoch: 409\n",
      "Training loss: 713.2657015674004\n",
      "Training rmse: 55.05333\n",
      "Validation loss: 28166.396484375\n",
      "Validation rmse: 21.50517955755623\n",
      "Validation mae: 15.860086\n",
      "Validation mape: 0.19631954\n",
      "Validation acc: -0.17322993278503418\n"
     ]
    },
    {
     "name": "stderr",
     "output_type": "stream",
     "text": [
      "<ipython-input-6-5c6a0450ba2d>:85: DeprecationWarning: np.asscalar(a) is deprecated since NumPy v1.16, use a.item() instead\n",
      "  validation_losses.append(np.asscalar(val_loss.detach().cpu().numpy()))\n"
     ]
    },
    {
     "name": "stdout",
     "output_type": "stream",
     "text": [
      "epoch: 410\n",
      "Training loss: 711.5657707952683\n",
      "Training rmse: 55.028103\n",
      "Validation loss: 27917.5625\n",
      "Validation rmse: 21.409965604766057\n",
      "Validation mae: 15.830414\n",
      "Validation mape: 0.19609635\n",
      "Validation acc: -0.16361641883850098\n"
     ]
    },
    {
     "name": "stderr",
     "output_type": "stream",
     "text": [
      "<ipython-input-6-5c6a0450ba2d>:85: DeprecationWarning: np.asscalar(a) is deprecated since NumPy v1.16, use a.item() instead\n",
      "  validation_losses.append(np.asscalar(val_loss.detach().cpu().numpy()))\n"
     ]
    },
    {
     "name": "stdout",
     "output_type": "stream",
     "text": [
      "epoch: 411\n",
      "Training loss: 712.3141920848559\n",
      "Training rmse: 55.038647\n",
      "Validation loss: 29086.37109375\n",
      "Validation rmse: 21.853580473052638\n",
      "Validation mae: 16.09837\n",
      "Validation mape: 0.19991085\n",
      "Validation acc: -0.2039811611175537\n"
     ]
    },
    {
     "name": "stderr",
     "output_type": "stream",
     "text": [
      "<ipython-input-6-5c6a0450ba2d>:85: DeprecationWarning: np.asscalar(a) is deprecated since NumPy v1.16, use a.item() instead\n",
      "  validation_losses.append(np.asscalar(val_loss.detach().cpu().numpy()))\n"
     ]
    },
    {
     "name": "stdout",
     "output_type": "stream",
     "text": [
      "epoch: 412\n",
      "Training loss: 709.6622010918073\n",
      "Training rmse: 55.00807\n",
      "Validation loss: 28837.021484375\n",
      "Validation rmse: 21.75969962081027\n",
      "Validation mae: 16.112251\n",
      "Validation mape: 0.20120294\n",
      "Validation acc: -0.18089985847473145\n"
     ]
    },
    {
     "name": "stderr",
     "output_type": "stream",
     "text": [
      "<ipython-input-6-5c6a0450ba2d>:85: DeprecationWarning: np.asscalar(a) is deprecated since NumPy v1.16, use a.item() instead\n",
      "  validation_losses.append(np.asscalar(val_loss.detach().cpu().numpy()))\n"
     ]
    },
    {
     "name": "stdout",
     "output_type": "stream",
     "text": [
      "epoch: 413\n",
      "Training loss: 711.8075845369729\n",
      "Training rmse: 55.034885\n",
      "Validation loss: 28594.21484375\n",
      "Validation rmse: 21.667890934712446\n",
      "Validation mae: 15.968267\n",
      "Validation mape: 0.1982302\n",
      "Validation acc: -0.1835172176361084\n"
     ]
    },
    {
     "name": "stderr",
     "output_type": "stream",
     "text": [
      "<ipython-input-6-5c6a0450ba2d>:85: DeprecationWarning: np.asscalar(a) is deprecated since NumPy v1.16, use a.item() instead\n",
      "  validation_losses.append(np.asscalar(val_loss.detach().cpu().numpy()))\n"
     ]
    },
    {
     "name": "stdout",
     "output_type": "stream",
     "text": [
      "epoch: 414\n",
      "Training loss: 710.4388848855077\n",
      "Training rmse: 55.018246\n",
      "Validation loss: 28648.267578125\n",
      "Validation rmse: 21.68836186260279\n",
      "Validation mae: 15.986713\n",
      "Validation mape: 0.19907352\n",
      "Validation acc: -0.17937207221984863\n"
     ]
    },
    {
     "name": "stderr",
     "output_type": "stream",
     "text": [
      "<ipython-input-6-5c6a0450ba2d>:85: DeprecationWarning: np.asscalar(a) is deprecated since NumPy v1.16, use a.item() instead\n",
      "  validation_losses.append(np.asscalar(val_loss.detach().cpu().numpy()))\n"
     ]
    },
    {
     "name": "stdout",
     "output_type": "stream",
     "text": [
      "epoch: 415\n",
      "Training loss: 708.7920182751071\n",
      "Training rmse: 54.995956\n",
      "Validation loss: 27517.828125\n",
      "Validation rmse: 21.256121303546745\n",
      "Validation mae: 15.714809\n",
      "Validation mape: 0.19390966\n",
      "Validation acc: -0.1537867784500122\n"
     ]
    },
    {
     "name": "stderr",
     "output_type": "stream",
     "text": [
      "<ipython-input-6-5c6a0450ba2d>:85: DeprecationWarning: np.asscalar(a) is deprecated since NumPy v1.16, use a.item() instead\n",
      "  validation_losses.append(np.asscalar(val_loss.detach().cpu().numpy()))\n"
     ]
    },
    {
     "name": "stdout",
     "output_type": "stream",
     "text": [
      "epoch: 416\n",
      "Training loss: 712.6451980973658\n",
      "Training rmse: 55.041622\n",
      "Validation loss: 28543.873046875\n",
      "Validation rmse: 21.648807540368637\n",
      "Validation mae: 15.970969\n",
      "Validation mape: 0.19713683\n",
      "Validation acc: -0.19465911388397217\n"
     ]
    },
    {
     "name": "stderr",
     "output_type": "stream",
     "text": [
      "<ipython-input-6-5c6a0450ba2d>:85: DeprecationWarning: np.asscalar(a) is deprecated since NumPy v1.16, use a.item() instead\n",
      "  validation_losses.append(np.asscalar(val_loss.detach().cpu().numpy()))\n"
     ]
    },
    {
     "name": "stdout",
     "output_type": "stream",
     "text": [
      "epoch: 417\n",
      "Training loss: 711.2702951738911\n",
      "Training rmse: 55.022972\n",
      "Validation loss: 28006.61328125\n",
      "Validation rmse: 21.44408366811775\n",
      "Validation mae: 15.83456\n",
      "Validation mape: 0.19538355\n",
      "Validation acc: -0.17436063289642334\n"
     ]
    },
    {
     "name": "stderr",
     "output_type": "stream",
     "text": [
      "<ipython-input-6-5c6a0450ba2d>:85: DeprecationWarning: np.asscalar(a) is deprecated since NumPy v1.16, use a.item() instead\n",
      "  validation_losses.append(np.asscalar(val_loss.detach().cpu().numpy()))\n"
     ]
    },
    {
     "name": "stdout",
     "output_type": "stream",
     "text": [
      "epoch: 418\n",
      "Training loss: 708.2991391527182\n",
      "Training rmse: 54.98986\n",
      "Validation loss: 27845.12890625\n",
      "Validation rmse: 21.382167395274298\n",
      "Validation mae: 15.837338\n",
      "Validation mape: 0.19306126\n",
      "Validation acc: -0.17950820922851562\n"
     ]
    },
    {
     "name": "stderr",
     "output_type": "stream",
     "text": [
      "<ipython-input-6-5c6a0450ba2d>:85: DeprecationWarning: np.asscalar(a) is deprecated since NumPy v1.16, use a.item() instead\n",
      "  validation_losses.append(np.asscalar(val_loss.detach().cpu().numpy()))\n"
     ]
    },
    {
     "name": "stdout",
     "output_type": "stream",
     "text": [
      "epoch: 419\n",
      "Training loss: 707.9355213343028\n",
      "Training rmse: 54.982517\n",
      "Validation loss: 28458.197265625\n",
      "Validation rmse: 21.61628609319581\n",
      "Validation mae: 16.134975\n",
      "Validation mape: 0.19617587\n",
      "Validation acc: -0.20680737495422363\n"
     ]
    },
    {
     "name": "stderr",
     "output_type": "stream",
     "text": [
      "<ipython-input-6-5c6a0450ba2d>:85: DeprecationWarning: np.asscalar(a) is deprecated since NumPy v1.16, use a.item() instead\n",
      "  validation_losses.append(np.asscalar(val_loss.detach().cpu().numpy()))\n"
     ]
    },
    {
     "name": "stdout",
     "output_type": "stream",
     "text": [
      "epoch: 420\n",
      "Training loss: 712.2442989554456\n",
      "Training rmse: 55.040894\n",
      "Validation loss: 28699.388671875\n",
      "Validation rmse: 21.707702197994077\n",
      "Validation mae: 16.095234\n",
      "Validation mape: 0.19857082\n",
      "Validation acc: -0.20487093925476074\n"
     ]
    },
    {
     "name": "stderr",
     "output_type": "stream",
     "text": [
      "<ipython-input-6-5c6a0450ba2d>:85: DeprecationWarning: np.asscalar(a) is deprecated since NumPy v1.16, use a.item() instead\n",
      "  validation_losses.append(np.asscalar(val_loss.detach().cpu().numpy()))\n"
     ]
    },
    {
     "name": "stdout",
     "output_type": "stream",
     "text": [
      "epoch: 421\n",
      "Training loss: 712.5496583343834\n",
      "Training rmse: 55.04014\n",
      "Validation loss: 28975.146484375\n",
      "Validation rmse: 21.81174797794793\n",
      "Validation mae: 16.158598\n",
      "Validation mape: 0.20160389\n",
      "Validation acc: -0.185677170753479\n"
     ]
    },
    {
     "name": "stderr",
     "output_type": "stream",
     "text": [
      "<ipython-input-6-5c6a0450ba2d>:85: DeprecationWarning: np.asscalar(a) is deprecated since NumPy v1.16, use a.item() instead\n",
      "  validation_losses.append(np.asscalar(val_loss.detach().cpu().numpy()))\n"
     ]
    },
    {
     "name": "stdout",
     "output_type": "stream",
     "text": [
      "epoch: 422\n",
      "Training loss: 707.0528330375644\n",
      "Training rmse: 54.970337\n",
      "Validation loss: 28259.630859375\n",
      "Validation rmse: 21.540735732524027\n",
      "Validation mae: 15.91241\n",
      "Validation mape: 0.19793159\n",
      "Validation acc: -0.16653752326965332\n"
     ]
    },
    {
     "name": "stderr",
     "output_type": "stream",
     "text": [
      "<ipython-input-6-5c6a0450ba2d>:85: DeprecationWarning: np.asscalar(a) is deprecated since NumPy v1.16, use a.item() instead\n",
      "  validation_losses.append(np.asscalar(val_loss.detach().cpu().numpy()))\n"
     ]
    },
    {
     "name": "stdout",
     "output_type": "stream",
     "text": [
      "epoch: 423\n",
      "Training loss: 708.3293790646352\n",
      "Training rmse: 54.988377\n",
      "Validation loss: 28503.2265625\n",
      "Validation rmse: 21.633378891781806\n",
      "Validation mae: 16.052204\n",
      "Validation mape: 0.20082916\n",
      "Validation acc: -0.16466116905212402\n"
     ]
    },
    {
     "name": "stderr",
     "output_type": "stream",
     "text": [
      "<ipython-input-6-5c6a0450ba2d>:85: DeprecationWarning: np.asscalar(a) is deprecated since NumPy v1.16, use a.item() instead\n",
      "  validation_losses.append(np.asscalar(val_loss.detach().cpu().numpy()))\n"
     ]
    },
    {
     "name": "stdout",
     "output_type": "stream",
     "text": [
      "epoch: 424\n",
      "Training loss: 709.4316035991928\n",
      "Training rmse: 55.00392\n",
      "Validation loss: 27757.7734375\n",
      "Validation rmse: 21.348592228451945\n",
      "Validation mae: 15.783535\n",
      "Validation mape: 0.19420147\n",
      "Validation acc: -0.16780221462249756\n"
     ]
    },
    {
     "name": "stderr",
     "output_type": "stream",
     "text": [
      "<ipython-input-6-5c6a0450ba2d>:85: DeprecationWarning: np.asscalar(a) is deprecated since NumPy v1.16, use a.item() instead\n",
      "  validation_losses.append(np.asscalar(val_loss.detach().cpu().numpy()))\n"
     ]
    },
    {
     "name": "stdout",
     "output_type": "stream",
     "text": [
      "epoch: 425\n",
      "Training loss: 708.16430363262\n",
      "Training rmse: 54.986855\n",
      "Validation loss: 28024.21875\n",
      "Validation rmse: 21.450817542513093\n",
      "Validation mae: 15.897453\n",
      "Validation mape: 0.19838879\n",
      "Validation acc: -0.1500241756439209\n"
     ]
    },
    {
     "name": "stderr",
     "output_type": "stream",
     "text": [
      "<ipython-input-6-5c6a0450ba2d>:85: DeprecationWarning: np.asscalar(a) is deprecated since NumPy v1.16, use a.item() instead\n",
      "  validation_losses.append(np.asscalar(val_loss.detach().cpu().numpy()))\n"
     ]
    },
    {
     "name": "stdout",
     "output_type": "stream",
     "text": [
      "epoch: 426\n",
      "Training loss: 705.5323879009507\n",
      "Training rmse: 54.95182\n",
      "Validation loss: 28315.390625\n",
      "Validation rmse: 21.56197349900688\n",
      "Validation mae: 15.907707\n",
      "Validation mape: 0.19642727\n",
      "Validation acc: -0.18452465534210205\n"
     ]
    },
    {
     "name": "stderr",
     "output_type": "stream",
     "text": [
      "<ipython-input-6-5c6a0450ba2d>:85: DeprecationWarning: np.asscalar(a) is deprecated since NumPy v1.16, use a.item() instead\n",
      "  validation_losses.append(np.asscalar(val_loss.detach().cpu().numpy()))\n"
     ]
    },
    {
     "name": "stdout",
     "output_type": "stream",
     "text": [
      "epoch: 427\n",
      "Training loss: 706.354507993199\n",
      "Training rmse: 54.96753\n",
      "Validation loss: 28281.04296875\n",
      "Validation rmse: 21.54889034945811\n",
      "Validation mae: 15.904906\n",
      "Validation mape: 0.19697672\n",
      "Validation acc: -0.17848682403564453\n"
     ]
    },
    {
     "name": "stderr",
     "output_type": "stream",
     "text": [
      "<ipython-input-6-5c6a0450ba2d>:85: DeprecationWarning: np.asscalar(a) is deprecated since NumPy v1.16, use a.item() instead\n",
      "  validation_losses.append(np.asscalar(val_loss.detach().cpu().numpy()))\n"
     ]
    },
    {
     "name": "stdout",
     "output_type": "stream",
     "text": [
      "epoch: 428\n",
      "Training loss: 707.2977158741285\n",
      "Training rmse: 54.979633\n",
      "Validation loss: 28296.84765625\n",
      "Validation rmse: 21.554910490646108\n",
      "Validation mae: 15.906742\n",
      "Validation mape: 0.19600266\n",
      "Validation acc: -0.18733954429626465\n"
     ]
    },
    {
     "name": "stderr",
     "output_type": "stream",
     "text": [
      "<ipython-input-6-5c6a0450ba2d>:85: DeprecationWarning: np.asscalar(a) is deprecated since NumPy v1.16, use a.item() instead\n",
      "  validation_losses.append(np.asscalar(val_loss.detach().cpu().numpy()))\n"
     ]
    },
    {
     "name": "stdout",
     "output_type": "stream",
     "text": [
      "epoch: 429\n",
      "Training loss: 706.2808462710364\n",
      "Training rmse: 54.96148\n",
      "Validation loss: 27783.19921875\n",
      "Validation rmse: 21.358366980831907\n",
      "Validation mae: 15.81979\n",
      "Validation mape: 0.19451733\n",
      "Validation acc: -0.16772794723510742\n"
     ]
    },
    {
     "name": "stderr",
     "output_type": "stream",
     "text": [
      "<ipython-input-6-5c6a0450ba2d>:85: DeprecationWarning: np.asscalar(a) is deprecated since NumPy v1.16, use a.item() instead\n",
      "  validation_losses.append(np.asscalar(val_loss.detach().cpu().numpy()))\n"
     ]
    },
    {
     "name": "stdout",
     "output_type": "stream",
     "text": [
      "epoch: 430\n",
      "Training loss: 705.8444690225799\n",
      "Training rmse: 54.95639\n",
      "Validation loss: 28043.625\n",
      "Validation rmse: 21.458239785394795\n",
      "Validation mae: 15.861895\n",
      "Validation mape: 0.19541782\n",
      "Validation acc: -0.17725801467895508\n"
     ]
    },
    {
     "name": "stderr",
     "output_type": "stream",
     "text": [
      "<ipython-input-6-5c6a0450ba2d>:85: DeprecationWarning: np.asscalar(a) is deprecated since NumPy v1.16, use a.item() instead\n",
      "  validation_losses.append(np.asscalar(val_loss.detach().cpu().numpy()))\n"
     ]
    },
    {
     "name": "stdout",
     "output_type": "stream",
     "text": [
      "epoch: 431\n",
      "Training loss: 709.9177057956709\n",
      "Training rmse: 55.00667\n",
      "Validation loss: 28409.28125\n",
      "Validation rmse: 21.597690515323695\n",
      "Validation mae: 15.965462\n",
      "Validation mape: 0.19488929\n",
      "Validation acc: -0.20271873474121094\n"
     ]
    },
    {
     "name": "stderr",
     "output_type": "stream",
     "text": [
      "<ipython-input-6-5c6a0450ba2d>:85: DeprecationWarning: np.asscalar(a) is deprecated since NumPy v1.16, use a.item() instead\n",
      "  validation_losses.append(np.asscalar(val_loss.detach().cpu().numpy()))\n"
     ]
    },
    {
     "name": "stdout",
     "output_type": "stream",
     "text": [
      "epoch: 432\n",
      "Training loss: 707.8124628648109\n",
      "Training rmse: 54.979153\n",
      "Validation loss: 29115.9765625\n",
      "Validation rmse: 21.864687161670858\n",
      "Validation mae: 16.156836\n",
      "Validation mape: 0.20264082\n",
      "Validation acc: -0.17902982234954834\n"
     ]
    },
    {
     "name": "stderr",
     "output_type": "stream",
     "text": [
      "<ipython-input-6-5c6a0450ba2d>:85: DeprecationWarning: np.asscalar(a) is deprecated since NumPy v1.16, use a.item() instead\n",
      "  validation_losses.append(np.asscalar(val_loss.detach().cpu().numpy()))\n"
     ]
    },
    {
     "name": "stdout",
     "output_type": "stream",
     "text": [
      "epoch: 433\n",
      "Training loss: 703.5912234398627\n",
      "Training rmse: 54.927246\n",
      "Validation loss: 28408.30078125\n",
      "Validation rmse: 21.5973167730826\n",
      "Validation mae: 15.932111\n",
      "Validation mape: 0.19758973\n",
      "Validation acc: -0.1807091236114502\n"
     ]
    },
    {
     "name": "stderr",
     "output_type": "stream",
     "text": [
      "<ipython-input-6-5c6a0450ba2d>:85: DeprecationWarning: np.asscalar(a) is deprecated since NumPy v1.16, use a.item() instead\n",
      "  validation_losses.append(np.asscalar(val_loss.detach().cpu().numpy()))\n"
     ]
    },
    {
     "name": "stdout",
     "output_type": "stream",
     "text": [
      "epoch: 434\n",
      "Training loss: 702.9322047079763\n",
      "Training rmse: 54.921715\n",
      "Validation loss: 27378.14453125\n",
      "Validation rmse: 21.202085802647165\n",
      "Validation mae: 15.6628275\n",
      "Validation mape: 0.19263065\n",
      "Validation acc: -0.15182769298553467\n"
     ]
    },
    {
     "name": "stderr",
     "output_type": "stream",
     "text": [
      "<ipython-input-6-5c6a0450ba2d>:85: DeprecationWarning: np.asscalar(a) is deprecated since NumPy v1.16, use a.item() instead\n",
      "  validation_losses.append(np.asscalar(val_loss.detach().cpu().numpy()))\n"
     ]
    },
    {
     "name": "stdout",
     "output_type": "stream",
     "text": [
      "epoch: 435\n",
      "Training loss: 705.5300959652043\n",
      "Training rmse: 54.951065\n",
      "Validation loss: 29233.3046875\n",
      "Validation rmse: 21.908697538467027\n",
      "Validation mae: 16.197575\n",
      "Validation mape: 0.20063911\n",
      "Validation acc: -0.2148059606552124\n"
     ]
    },
    {
     "name": "stderr",
     "output_type": "stream",
     "text": [
      "<ipython-input-6-5c6a0450ba2d>:85: DeprecationWarning: np.asscalar(a) is deprecated since NumPy v1.16, use a.item() instead\n",
      "  validation_losses.append(np.asscalar(val_loss.detach().cpu().numpy()))\n"
     ]
    },
    {
     "name": "stdout",
     "output_type": "stream",
     "text": [
      "epoch: 436\n",
      "Training loss: 703.5190175921259\n",
      "Training rmse: 54.921066\n",
      "Validation loss: 28392.234375\n",
      "Validation rmse: 21.59120739598428\n",
      "Validation mae: 15.93887\n",
      "Validation mape: 0.19761778\n",
      "Validation acc: -0.17938482761383057\n"
     ]
    },
    {
     "name": "stderr",
     "output_type": "stream",
     "text": [
      "<ipython-input-6-5c6a0450ba2d>:85: DeprecationWarning: np.asscalar(a) is deprecated since NumPy v1.16, use a.item() instead\n",
      "  validation_losses.append(np.asscalar(val_loss.detach().cpu().numpy()))\n"
     ]
    },
    {
     "name": "stdout",
     "output_type": "stream",
     "text": [
      "epoch: 437\n",
      "Training loss: 704.7791537486524\n",
      "Training rmse: 54.94014\n",
      "Validation loss: 27428.6796875\n",
      "Validation rmse: 21.221645691359786\n",
      "Validation mae: 15.672973\n",
      "Validation mape: 0.19349174\n",
      "Validation acc: -0.14716887474060059\n"
     ]
    },
    {
     "name": "stderr",
     "output_type": "stream",
     "text": [
      "<ipython-input-6-5c6a0450ba2d>:85: DeprecationWarning: np.asscalar(a) is deprecated since NumPy v1.16, use a.item() instead\n",
      "  validation_losses.append(np.asscalar(val_loss.detach().cpu().numpy()))\n"
     ]
    },
    {
     "name": "stdout",
     "output_type": "stream",
     "text": [
      "epoch: 438\n",
      "Training loss: 702.1796693972789\n",
      "Training rmse: 54.90823\n",
      "Validation loss: 28476.720703125\n",
      "Validation rmse: 21.62330929536024\n",
      "Validation mae: 15.950031\n",
      "Validation mape: 0.19791985\n",
      "Validation acc: -0.18180620670318604\n"
     ]
    },
    {
     "name": "stderr",
     "output_type": "stream",
     "text": [
      "<ipython-input-6-5c6a0450ba2d>:85: DeprecationWarning: np.asscalar(a) is deprecated since NumPy v1.16, use a.item() instead\n",
      "  validation_losses.append(np.asscalar(val_loss.detach().cpu().numpy()))\n"
     ]
    },
    {
     "name": "stdout",
     "output_type": "stream",
     "text": [
      "epoch: 439\n",
      "Training loss: 703.2130471506426\n",
      "Training rmse: 54.91838\n",
      "Validation loss: 27129.109375\n",
      "Validation rmse: 21.105427178725485\n",
      "Validation mae: 15.672839\n",
      "Validation mape: 0.19061169\n",
      "Validation acc: -0.150171160697937\n"
     ]
    },
    {
     "name": "stderr",
     "output_type": "stream",
     "text": [
      "<ipython-input-6-5c6a0450ba2d>:85: DeprecationWarning: np.asscalar(a) is deprecated since NumPy v1.16, use a.item() instead\n",
      "  validation_losses.append(np.asscalar(val_loss.detach().cpu().numpy()))\n"
     ]
    },
    {
     "name": "stdout",
     "output_type": "stream",
     "text": [
      "epoch: 440\n",
      "Training loss: 704.5378214518229\n",
      "Training rmse: 54.939545\n",
      "Validation loss: 28213.388671875\n",
      "Validation rmse: 21.52309082638233\n",
      "Validation mae: 15.906595\n",
      "Validation mape: 0.19584702\n",
      "Validation acc: -0.18387258052825928\n"
     ]
    },
    {
     "name": "stderr",
     "output_type": "stream",
     "text": [
      "<ipython-input-6-5c6a0450ba2d>:85: DeprecationWarning: np.asscalar(a) is deprecated since NumPy v1.16, use a.item() instead\n",
      "  validation_losses.append(np.asscalar(val_loss.detach().cpu().numpy()))\n"
     ]
    },
    {
     "name": "stdout",
     "output_type": "stream",
     "text": [
      "epoch: 441\n",
      "Training loss: 700.3161156767158\n",
      "Training rmse: 54.882393\n",
      "Validation loss: 28612.984375\n",
      "Validation rmse: 21.674984005544847\n",
      "Validation mae: 16.005259\n",
      "Validation mape: 0.19942984\n",
      "Validation acc: -0.17853188514709473\n"
     ]
    },
    {
     "name": "stderr",
     "output_type": "stream",
     "text": [
      "<ipython-input-6-5c6a0450ba2d>:85: DeprecationWarning: np.asscalar(a) is deprecated since NumPy v1.16, use a.item() instead\n",
      "  validation_losses.append(np.asscalar(val_loss.detach().cpu().numpy()))\n"
     ]
    },
    {
     "name": "stdout",
     "output_type": "stream",
     "text": [
      "epoch: 442\n",
      "Training loss: 702.3119147516067\n",
      "Training rmse: 54.914036\n",
      "Validation loss: 28294.611328125\n",
      "Validation rmse: 21.55404824736201\n",
      "Validation mae: 15.947535\n",
      "Validation mape: 0.19747129\n",
      "Validation acc: -0.17627596855163574\n"
     ]
    },
    {
     "name": "stderr",
     "output_type": "stream",
     "text": [
      "<ipython-input-6-5c6a0450ba2d>:85: DeprecationWarning: np.asscalar(a) is deprecated since NumPy v1.16, use a.item() instead\n",
      "  validation_losses.append(np.asscalar(val_loss.detach().cpu().numpy()))\n"
     ]
    },
    {
     "name": "stdout",
     "output_type": "stream",
     "text": [
      "epoch: 443\n",
      "Training loss: 700.687988390632\n",
      "Training rmse: 54.887714\n",
      "Validation loss: 28395.3671875\n",
      "Validation rmse: 21.592393934672415\n",
      "Validation mae: 15.974948\n",
      "Validation mape: 0.19879359\n",
      "Validation acc: -0.16978144645690918\n"
     ]
    },
    {
     "name": "stderr",
     "output_type": "stream",
     "text": [
      "<ipython-input-6-5c6a0450ba2d>:85: DeprecationWarning: np.asscalar(a) is deprecated since NumPy v1.16, use a.item() instead\n",
      "  validation_losses.append(np.asscalar(val_loss.detach().cpu().numpy()))\n"
     ]
    },
    {
     "name": "stdout",
     "output_type": "stream",
     "text": [
      "epoch: 444\n",
      "Training loss: 701.7642791638665\n",
      "Training rmse: 54.90505\n",
      "Validation loss: 26728.9375\n",
      "Validation rmse: 20.949173955177727\n",
      "Validation mae: 15.5019\n",
      "Validation mape: 0.19075207\n",
      "Validation acc: -0.12418687343597412\n"
     ]
    },
    {
     "name": "stderr",
     "output_type": "stream",
     "text": [
      "<ipython-input-6-5c6a0450ba2d>:85: DeprecationWarning: np.asscalar(a) is deprecated since NumPy v1.16, use a.item() instead\n",
      "  validation_losses.append(np.asscalar(val_loss.detach().cpu().numpy()))\n"
     ]
    },
    {
     "name": "stdout",
     "output_type": "stream",
     "text": [
      "epoch: 445\n",
      "Training loss: 702.7258954885613\n",
      "Training rmse: 54.91191\n",
      "Validation loss: 28254.314453125\n",
      "Validation rmse: 21.538693407927582\n",
      "Validation mae: 15.98268\n",
      "Validation mape: 0.19830811\n",
      "Validation acc: -0.17436206340789795\n"
     ]
    },
    {
     "name": "stderr",
     "output_type": "stream",
     "text": [
      "<ipython-input-6-5c6a0450ba2d>:85: DeprecationWarning: np.asscalar(a) is deprecated since NumPy v1.16, use a.item() instead\n",
      "  validation_losses.append(np.asscalar(val_loss.detach().cpu().numpy()))\n"
     ]
    },
    {
     "name": "stdout",
     "output_type": "stream",
     "text": [
      "epoch: 446\n",
      "Training loss: 700.1743241176811\n",
      "Training rmse: 54.883266\n",
      "Validation loss: 28466.576171875\n",
      "Validation rmse: 21.619451792327695\n",
      "Validation mae: 15.984951\n",
      "Validation mape: 0.19849652\n",
      "Validation acc: -0.1820317506790161\n"
     ]
    },
    {
     "name": "stderr",
     "output_type": "stream",
     "text": [
      "<ipython-input-6-5c6a0450ba2d>:85: DeprecationWarning: np.asscalar(a) is deprecated since NumPy v1.16, use a.item() instead\n",
      "  validation_losses.append(np.asscalar(val_loss.detach().cpu().numpy()))\n"
     ]
    },
    {
     "name": "stdout",
     "output_type": "stream",
     "text": [
      "epoch: 447\n",
      "Training loss: 703.1495251399215\n",
      "Training rmse: 54.92094\n",
      "Validation loss: 26610.29296875\n",
      "Validation rmse: 20.902622974564625\n",
      "Validation mae: 15.493861\n",
      "Validation mape: 0.19086266\n",
      "Validation acc: -0.1165778636932373\n"
     ]
    },
    {
     "name": "stderr",
     "output_type": "stream",
     "text": [
      "<ipython-input-6-5c6a0450ba2d>:85: DeprecationWarning: np.asscalar(a) is deprecated since NumPy v1.16, use a.item() instead\n",
      "  validation_losses.append(np.asscalar(val_loss.detach().cpu().numpy()))\n"
     ]
    },
    {
     "name": "stdout",
     "output_type": "stream",
     "text": [
      "epoch: 448\n",
      "Training loss: 700.0384612271436\n",
      "Training rmse: 54.87941\n",
      "Validation loss: 28086.21875\n",
      "Validation rmse: 21.474519756662705\n",
      "Validation mae: 15.889074\n",
      "Validation mape: 0.19691037\n",
      "Validation acc: -0.16659116744995117\n"
     ]
    },
    {
     "name": "stderr",
     "output_type": "stream",
     "text": [
      "<ipython-input-6-5c6a0450ba2d>:85: DeprecationWarning: np.asscalar(a) is deprecated since NumPy v1.16, use a.item() instead\n",
      "  validation_losses.append(np.asscalar(val_loss.detach().cpu().numpy()))\n"
     ]
    },
    {
     "name": "stdout",
     "output_type": "stream",
     "text": [
      "epoch: 449\n",
      "Training loss: 700.0330186522563\n",
      "Training rmse: 54.882748\n",
      "Validation loss: 28566.458984375\n",
      "Validation rmse: 21.65734772425328\n",
      "Validation mae: 16.040455\n",
      "Validation mape: 0.19513047\n",
      "Validation acc: -0.21110248565673828\n"
     ]
    },
    {
     "name": "stderr",
     "output_type": "stream",
     "text": [
      "<ipython-input-6-5c6a0450ba2d>:85: DeprecationWarning: np.asscalar(a) is deprecated since NumPy v1.16, use a.item() instead\n",
      "  validation_losses.append(np.asscalar(val_loss.detach().cpu().numpy()))\n"
     ]
    },
    {
     "name": "stdout",
     "output_type": "stream",
     "text": [
      "epoch: 450\n",
      "Training loss: 701.5753005926754\n",
      "Training rmse: 54.897503\n",
      "Validation loss: 27936.2265625\n",
      "Validation rmse: 21.41709493760548\n",
      "Validation mae: 15.827906\n",
      "Validation mape: 0.19540459\n",
      "Validation acc: -0.1697404384613037\n"
     ]
    },
    {
     "name": "stderr",
     "output_type": "stream",
     "text": [
      "<ipython-input-6-5c6a0450ba2d>:85: DeprecationWarning: np.asscalar(a) is deprecated since NumPy v1.16, use a.item() instead\n",
      "  validation_losses.append(np.asscalar(val_loss.detach().cpu().numpy()))\n"
     ]
    },
    {
     "name": "stdout",
     "output_type": "stream",
     "text": [
      "epoch: 451\n",
      "Training loss: 699.0269550063704\n",
      "Training rmse: 54.870678\n",
      "Validation loss: 28308.47265625\n",
      "Validation rmse: 21.5593238149849\n",
      "Validation mae: 15.943386\n",
      "Validation mape: 0.1976077\n",
      "Validation acc: -0.17771470546722412\n"
     ]
    },
    {
     "name": "stderr",
     "output_type": "stream",
     "text": [
      "<ipython-input-6-5c6a0450ba2d>:85: DeprecationWarning: np.asscalar(a) is deprecated since NumPy v1.16, use a.item() instead\n",
      "  validation_losses.append(np.asscalar(val_loss.detach().cpu().numpy()))\n"
     ]
    },
    {
     "name": "stdout",
     "output_type": "stream",
     "text": [
      "epoch: 452\n",
      "Training loss: 698.8784567446692\n",
      "Training rmse: 54.865635\n",
      "Validation loss: 29112.93359375\n",
      "Validation rmse: 21.863530754450007\n",
      "Validation mae: 16.120049\n",
      "Validation mape: 0.19971035\n",
      "Validation acc: -0.20784056186676025\n"
     ]
    },
    {
     "name": "stderr",
     "output_type": "stream",
     "text": [
      "<ipython-input-6-5c6a0450ba2d>:85: DeprecationWarning: np.asscalar(a) is deprecated since NumPy v1.16, use a.item() instead\n",
      "  validation_losses.append(np.asscalar(val_loss.detach().cpu().numpy()))\n"
     ]
    },
    {
     "name": "stdout",
     "output_type": "stream",
     "text": [
      "epoch: 453\n",
      "Training loss: 699.8469795582542\n",
      "Training rmse: 54.879803\n",
      "Validation loss: 28191.017578125\n",
      "Validation rmse: 21.514544158581714\n",
      "Validation mae: 15.929019\n",
      "Validation mape: 0.1960785\n",
      "Validation acc: -0.1856292486190796\n"
     ]
    },
    {
     "name": "stderr",
     "output_type": "stream",
     "text": [
      "<ipython-input-6-5c6a0450ba2d>:85: DeprecationWarning: np.asscalar(a) is deprecated since NumPy v1.16, use a.item() instead\n",
      "  validation_losses.append(np.asscalar(val_loss.detach().cpu().numpy()))\n"
     ]
    },
    {
     "name": "stdout",
     "output_type": "stream",
     "text": [
      "epoch: 454\n",
      "Training loss: 696.854741961298\n",
      "Training rmse: 54.83809\n",
      "Validation loss: 28122.08203125\n",
      "Validation rmse: 21.48822053652121\n",
      "Validation mae: 15.950781\n",
      "Validation mape: 0.198664\n",
      "Validation acc: -0.15686285495758057\n"
     ]
    },
    {
     "name": "stderr",
     "output_type": "stream",
     "text": [
      "<ipython-input-6-5c6a0450ba2d>:85: DeprecationWarning: np.asscalar(a) is deprecated since NumPy v1.16, use a.item() instead\n",
      "  validation_losses.append(np.asscalar(val_loss.detach().cpu().numpy()))\n"
     ]
    },
    {
     "name": "stdout",
     "output_type": "stream",
     "text": [
      "epoch: 455\n",
      "Training loss: 697.2883657366572\n",
      "Training rmse: 54.848946\n",
      "Validation loss: 29208.599609375\n",
      "Validation rmse: 21.899424143845227\n",
      "Validation mae: 16.140066\n",
      "Validation mape: 0.2007787\n",
      "Validation acc: -0.20337259769439697\n"
     ]
    },
    {
     "name": "stderr",
     "output_type": "stream",
     "text": [
      "<ipython-input-6-5c6a0450ba2d>:85: DeprecationWarning: np.asscalar(a) is deprecated since NumPy v1.16, use a.item() instead\n",
      "  validation_losses.append(np.asscalar(val_loss.detach().cpu().numpy()))\n"
     ]
    },
    {
     "name": "stdout",
     "output_type": "stream",
     "text": [
      "epoch: 456\n",
      "Training loss: 698.8376974563872\n",
      "Training rmse: 54.866364\n",
      "Validation loss: 28242.72265625\n",
      "Validation rmse: 21.534268061109817\n",
      "Validation mae: 15.972698\n",
      "Validation mape: 0.1994902\n",
      "Validation acc: -0.1558295488357544\n"
     ]
    },
    {
     "name": "stderr",
     "output_type": "stream",
     "text": [
      "<ipython-input-6-5c6a0450ba2d>:85: DeprecationWarning: np.asscalar(a) is deprecated since NumPy v1.16, use a.item() instead\n",
      "  validation_losses.append(np.asscalar(val_loss.detach().cpu().numpy()))\n"
     ]
    },
    {
     "name": "stdout",
     "output_type": "stream",
     "text": [
      "epoch: 457\n",
      "Training loss: 698.9310227260795\n",
      "Training rmse: 54.86462\n",
      "Validation loss: 28162.244140625\n",
      "Validation rmse: 21.503558906708836\n",
      "Validation mae: 15.904552\n",
      "Validation mape: 0.19761185\n",
      "Validation acc: -0.16526341438293457\n"
     ]
    },
    {
     "name": "stderr",
     "output_type": "stream",
     "text": [
      "<ipython-input-6-5c6a0450ba2d>:85: DeprecationWarning: np.asscalar(a) is deprecated since NumPy v1.16, use a.item() instead\n",
      "  validation_losses.append(np.asscalar(val_loss.detach().cpu().numpy()))\n"
     ]
    },
    {
     "name": "stdout",
     "output_type": "stream",
     "text": [
      "epoch: 458\n",
      "Training loss: 697.3404033483143\n",
      "Training rmse: 54.846493\n",
      "Validation loss: 28010.626953125\n",
      "Validation rmse: 21.445592837420875\n",
      "Validation mae: 15.869701\n",
      "Validation mape: 0.1949164\n",
      "Validation acc: -0.1812974214553833\n"
     ]
    },
    {
     "name": "stderr",
     "output_type": "stream",
     "text": [
      "<ipython-input-6-5c6a0450ba2d>:85: DeprecationWarning: np.asscalar(a) is deprecated since NumPy v1.16, use a.item() instead\n",
      "  validation_losses.append(np.asscalar(val_loss.detach().cpu().numpy()))\n"
     ]
    },
    {
     "name": "stdout",
     "output_type": "stream",
     "text": [
      "epoch: 459\n",
      "Training loss: 694.9711623653288\n",
      "Training rmse: 54.81464\n",
      "Validation loss: 27943.96484375\n",
      "Validation rmse: 21.420057847116755\n",
      "Validation mae: 15.872175\n",
      "Validation mape: 0.19667242\n",
      "Validation acc: -0.16163885593414307\n"
     ]
    },
    {
     "name": "stderr",
     "output_type": "stream",
     "text": [
      "<ipython-input-6-5c6a0450ba2d>:85: DeprecationWarning: np.asscalar(a) is deprecated since NumPy v1.16, use a.item() instead\n",
      "  validation_losses.append(np.asscalar(val_loss.detach().cpu().numpy()))\n"
     ]
    },
    {
     "name": "stdout",
     "output_type": "stream",
     "text": [
      "epoch: 460\n",
      "Training loss: 699.10351781264\n",
      "Training rmse: 54.87204\n",
      "Validation loss: 28316.779296875\n",
      "Validation rmse: 21.562480185679302\n",
      "Validation mae: 15.912527\n",
      "Validation mape: 0.19569004\n",
      "Validation acc: -0.19073176383972168\n"
     ]
    },
    {
     "name": "stderr",
     "output_type": "stream",
     "text": [
      "<ipython-input-6-5c6a0450ba2d>:85: DeprecationWarning: np.asscalar(a) is deprecated since NumPy v1.16, use a.item() instead\n",
      "  validation_losses.append(np.asscalar(val_loss.detach().cpu().numpy()))\n"
     ]
    },
    {
     "name": "stdout",
     "output_type": "stream",
     "text": [
      "epoch: 461\n",
      "Training loss: 694.9224108624202\n",
      "Training rmse: 54.813572\n",
      "Validation loss: 28589.96484375\n",
      "Validation rmse: 21.66624865006414\n",
      "Validation mae: 16.032465\n",
      "Validation mape: 0.19788797\n",
      "Validation acc: -0.19568729400634766\n"
     ]
    },
    {
     "name": "stderr",
     "output_type": "stream",
     "text": [
      "<ipython-input-6-5c6a0450ba2d>:85: DeprecationWarning: np.asscalar(a) is deprecated since NumPy v1.16, use a.item() instead\n",
      "  validation_losses.append(np.asscalar(val_loss.detach().cpu().numpy()))\n"
     ]
    },
    {
     "name": "stdout",
     "output_type": "stream",
     "text": [
      "epoch: 462\n",
      "Training loss: 697.9578093388602\n",
      "Training rmse: 54.85529\n",
      "Validation loss: 28131.708984375\n",
      "Validation rmse: 21.49189357078181\n",
      "Validation mae: 15.869389\n",
      "Validation mape: 0.1960473\n",
      "Validation acc: -0.1751192808151245\n"
     ]
    },
    {
     "name": "stderr",
     "output_type": "stream",
     "text": [
      "<ipython-input-6-5c6a0450ba2d>:85: DeprecationWarning: np.asscalar(a) is deprecated since NumPy v1.16, use a.item() instead\n",
      "  validation_losses.append(np.asscalar(val_loss.detach().cpu().numpy()))\n"
     ]
    },
    {
     "name": "stdout",
     "output_type": "stream",
     "text": [
      "epoch: 463\n",
      "Training loss: 696.1198566395749\n",
      "Training rmse: 54.827972\n",
      "Validation loss: 28387.56640625\n",
      "Validation rmse: 21.589412270091298\n",
      "Validation mae: 15.950942\n",
      "Validation mape: 0.19727989\n",
      "Validation acc: -0.18589580059051514\n"
     ]
    },
    {
     "name": "stderr",
     "output_type": "stream",
     "text": [
      "<ipython-input-6-5c6a0450ba2d>:85: DeprecationWarning: np.asscalar(a) is deprecated since NumPy v1.16, use a.item() instead\n",
      "  validation_losses.append(np.asscalar(val_loss.detach().cpu().numpy()))\n"
     ]
    },
    {
     "name": "stdout",
     "output_type": "stream",
     "text": [
      "epoch: 464\n",
      "Training loss: 694.9777327780228\n",
      "Training rmse: 54.82155\n",
      "Validation loss: 28243.642578125\n",
      "Validation rmse: 21.534610303369057\n",
      "Validation mae: 16.014778\n",
      "Validation mape: 0.19671506\n",
      "Validation acc: -0.19194579124450684\n"
     ]
    },
    {
     "name": "stderr",
     "output_type": "stream",
     "text": [
      "<ipython-input-6-5c6a0450ba2d>:85: DeprecationWarning: np.asscalar(a) is deprecated since NumPy v1.16, use a.item() instead\n",
      "  validation_losses.append(np.asscalar(val_loss.detach().cpu().numpy()))\n"
     ]
    },
    {
     "name": "stdout",
     "output_type": "stream",
     "text": [
      "epoch: 465\n",
      "Training loss: 697.9316570323001\n",
      "Training rmse: 54.852535\n",
      "Validation loss: 27772.4453125\n",
      "Validation rmse: 21.35420795219586\n",
      "Validation mae: 15.7816305\n",
      "Validation mape: 0.1950622\n",
      "Validation acc: -0.16055727005004883\n"
     ]
    },
    {
     "name": "stderr",
     "output_type": "stream",
     "text": [
      "<ipython-input-6-5c6a0450ba2d>:85: DeprecationWarning: np.asscalar(a) is deprecated since NumPy v1.16, use a.item() instead\n",
      "  validation_losses.append(np.asscalar(val_loss.detach().cpu().numpy()))\n"
     ]
    },
    {
     "name": "stdout",
     "output_type": "stream",
     "text": [
      "epoch: 466\n",
      "Training loss: 693.4416281313879\n",
      "Training rmse: 54.795456\n",
      "Validation loss: 27389.125\n",
      "Validation rmse: 21.206317838318032\n",
      "Validation mae: 15.724529\n",
      "Validation mape: 0.19291916\n",
      "Validation acc: -0.154729962348938\n"
     ]
    },
    {
     "name": "stderr",
     "output_type": "stream",
     "text": [
      "<ipython-input-6-5c6a0450ba2d>:85: DeprecationWarning: np.asscalar(a) is deprecated since NumPy v1.16, use a.item() instead\n",
      "  validation_losses.append(np.asscalar(val_loss.detach().cpu().numpy()))\n"
     ]
    },
    {
     "name": "stdout",
     "output_type": "stream",
     "text": [
      "epoch: 467\n",
      "Training loss: 693.4369218614366\n",
      "Training rmse: 54.793232\n",
      "Validation loss: 29333.990234375\n",
      "Validation rmse: 21.946374907533848\n",
      "Validation mae: 16.18746\n",
      "Validation mape: 0.20171724\n",
      "Validation acc: -0.2046806812286377\n"
     ]
    },
    {
     "name": "stderr",
     "output_type": "stream",
     "text": [
      "<ipython-input-6-5c6a0450ba2d>:85: DeprecationWarning: np.asscalar(a) is deprecated since NumPy v1.16, use a.item() instead\n",
      "  validation_losses.append(np.asscalar(val_loss.detach().cpu().numpy()))\n"
     ]
    },
    {
     "name": "stdout",
     "output_type": "stream",
     "text": [
      "epoch: 468\n",
      "Training loss: 695.8753807587435\n",
      "Training rmse: 54.82381\n",
      "Validation loss: 28289.396484375\n",
      "Validation rmse: 21.55204400018563\n",
      "Validation mae: 15.887577\n",
      "Validation mape: 0.1955695\n",
      "Validation acc: -0.18749535083770752\n"
     ]
    },
    {
     "name": "stderr",
     "output_type": "stream",
     "text": [
      "<ipython-input-6-5c6a0450ba2d>:85: DeprecationWarning: np.asscalar(a) is deprecated since NumPy v1.16, use a.item() instead\n",
      "  validation_losses.append(np.asscalar(val_loss.detach().cpu().numpy()))\n"
     ]
    },
    {
     "name": "stdout",
     "output_type": "stream",
     "text": [
      "epoch: 469\n",
      "Training loss: 693.3270450715096\n",
      "Training rmse: 54.793167\n",
      "Validation loss: 28380.25390625\n",
      "Validation rmse: 21.586628116214314\n",
      "Validation mae: 15.92094\n",
      "Validation mape: 0.19566345\n",
      "Validation acc: -0.19460880756378174\n"
     ]
    },
    {
     "name": "stderr",
     "output_type": "stream",
     "text": [
      "<ipython-input-6-5c6a0450ba2d>:85: DeprecationWarning: np.asscalar(a) is deprecated since NumPy v1.16, use a.item() instead\n",
      "  validation_losses.append(np.asscalar(val_loss.detach().cpu().numpy()))\n"
     ]
    },
    {
     "name": "stdout",
     "output_type": "stream",
     "text": [
      "epoch: 470\n",
      "Training loss: 694.4791151477444\n",
      "Training rmse: 54.8068\n",
      "Validation loss: 27876.58203125\n",
      "Validation rmse: 21.394203527593124\n",
      "Validation mae: 15.755083\n",
      "Validation mape: 0.1931743\n",
      "Validation acc: -0.17539072036743164\n"
     ]
    },
    {
     "name": "stderr",
     "output_type": "stream",
     "text": [
      "<ipython-input-6-5c6a0450ba2d>:85: DeprecationWarning: np.asscalar(a) is deprecated since NumPy v1.16, use a.item() instead\n",
      "  validation_losses.append(np.asscalar(val_loss.detach().cpu().numpy()))\n"
     ]
    },
    {
     "name": "stdout",
     "output_type": "stream",
     "text": [
      "epoch: 471\n",
      "Training loss: 693.0828639204784\n",
      "Training rmse: 54.79196\n",
      "Validation loss: 27728.337890625\n",
      "Validation rmse: 21.337239781979108\n",
      "Validation mae: 15.76135\n",
      "Validation mape: 0.19361587\n",
      "Validation acc: -0.16750800609588623\n"
     ]
    },
    {
     "name": "stderr",
     "output_type": "stream",
     "text": [
      "<ipython-input-6-5c6a0450ba2d>:85: DeprecationWarning: np.asscalar(a) is deprecated since NumPy v1.16, use a.item() instead\n",
      "  validation_losses.append(np.asscalar(val_loss.detach().cpu().numpy()))\n"
     ]
    },
    {
     "name": "stdout",
     "output_type": "stream",
     "text": [
      "epoch: 472\n",
      "Training loss: 694.783690968722\n",
      "Training rmse: 54.811413\n",
      "Validation loss: 29450.55859375\n",
      "Validation rmse: 21.98993938331871\n",
      "Validation mae: 16.294083\n",
      "Validation mape: 0.20150936\n",
      "Validation acc: -0.2319185733795166\n"
     ]
    },
    {
     "name": "stderr",
     "output_type": "stream",
     "text": [
      "<ipython-input-6-5c6a0450ba2d>:85: DeprecationWarning: np.asscalar(a) is deprecated since NumPy v1.16, use a.item() instead\n",
      "  validation_losses.append(np.asscalar(val_loss.detach().cpu().numpy()))\n"
     ]
    },
    {
     "name": "stdout",
     "output_type": "stream",
     "text": [
      "epoch: 473\n",
      "Training loss: 694.6012244002366\n",
      "Training rmse: 54.8181\n",
      "Validation loss: 28480.787109375\n",
      "Validation rmse: 21.62483135885291\n",
      "Validation mae: 15.973462\n",
      "Validation mape: 0.19718918\n",
      "Validation acc: -0.1924833059310913\n"
     ]
    },
    {
     "name": "stderr",
     "output_type": "stream",
     "text": [
      "<ipython-input-6-5c6a0450ba2d>:85: DeprecationWarning: np.asscalar(a) is deprecated since NumPy v1.16, use a.item() instead\n",
      "  validation_losses.append(np.asscalar(val_loss.detach().cpu().numpy()))\n"
     ]
    },
    {
     "name": "stdout",
     "output_type": "stream",
     "text": [
      "epoch: 474\n",
      "Training loss: 692.5988921572231\n",
      "Training rmse: 54.78799\n",
      "Validation loss: 28386.39453125\n",
      "Validation rmse: 21.588961344935633\n",
      "Validation mae: 15.938567\n",
      "Validation mape: 0.19769779\n",
      "Validation acc: -0.17887020111083984\n"
     ]
    },
    {
     "name": "stderr",
     "output_type": "stream",
     "text": [
      "<ipython-input-6-5c6a0450ba2d>:85: DeprecationWarning: np.asscalar(a) is deprecated since NumPy v1.16, use a.item() instead\n",
      "  validation_losses.append(np.asscalar(val_loss.detach().cpu().numpy()))\n"
     ]
    },
    {
     "name": "stdout",
     "output_type": "stream",
     "text": [
      "epoch: 475\n",
      "Training loss: 692.069093546987\n",
      "Training rmse: 54.78351\n",
      "Validation loss: 29380.818359375\n",
      "Validation rmse: 21.963881928634564\n",
      "Validation mae: 16.256119\n",
      "Validation mape: 0.2038058\n",
      "Validation acc: -0.18953478336334229\n"
     ]
    },
    {
     "name": "stderr",
     "output_type": "stream",
     "text": [
      "<ipython-input-6-5c6a0450ba2d>:85: DeprecationWarning: np.asscalar(a) is deprecated since NumPy v1.16, use a.item() instead\n",
      "  validation_losses.append(np.asscalar(val_loss.detach().cpu().numpy()))\n"
     ]
    },
    {
     "name": "stdout",
     "output_type": "stream",
     "text": [
      "epoch: 476\n",
      "Training loss: 695.2621694585329\n",
      "Training rmse: 54.82008\n",
      "Validation loss: 29829.0078125\n",
      "Validation rmse: 22.130782066898995\n",
      "Validation mae: 16.438854\n",
      "Validation mape: 0.20567104\n",
      "Validation acc: -0.2132422924041748\n"
     ]
    },
    {
     "name": "stderr",
     "output_type": "stream",
     "text": [
      "<ipython-input-6-5c6a0450ba2d>:85: DeprecationWarning: np.asscalar(a) is deprecated since NumPy v1.16, use a.item() instead\n",
      "  validation_losses.append(np.asscalar(val_loss.detach().cpu().numpy()))\n"
     ]
    },
    {
     "name": "stdout",
     "output_type": "stream",
     "text": [
      "epoch: 477\n",
      "Training loss: 696.3673473071027\n",
      "Training rmse: 54.834297\n",
      "Validation loss: 29566.298828125\n",
      "Validation rmse: 22.033103313005242\n",
      "Validation mae: 16.365517\n",
      "Validation mape: 0.200663\n",
      "Validation acc: -0.24890899658203125\n"
     ]
    },
    {
     "name": "stderr",
     "output_type": "stream",
     "text": [
      "<ipython-input-6-5c6a0450ba2d>:85: DeprecationWarning: np.asscalar(a) is deprecated since NumPy v1.16, use a.item() instead\n",
      "  validation_losses.append(np.asscalar(val_loss.detach().cpu().numpy()))\n"
     ]
    },
    {
     "name": "stdout",
     "output_type": "stream",
     "text": [
      "epoch: 478\n",
      "Training loss: 691.9942850639316\n",
      "Training rmse: 54.776733\n",
      "Validation loss: 28926.859375\n",
      "Validation rmse: 21.793527128646048\n",
      "Validation mae: 16.071854\n",
      "Validation mape: 0.19971862\n",
      "Validation acc: -0.197739839553833\n"
     ]
    },
    {
     "name": "stderr",
     "output_type": "stream",
     "text": [
      "<ipython-input-6-5c6a0450ba2d>:85: DeprecationWarning: np.asscalar(a) is deprecated since NumPy v1.16, use a.item() instead\n",
      "  validation_losses.append(np.asscalar(val_loss.detach().cpu().numpy()))\n"
     ]
    },
    {
     "name": "stdout",
     "output_type": "stream",
     "text": [
      "epoch: 479\n",
      "Training loss: 688.8667481671952\n",
      "Training rmse: 54.7327\n",
      "Validation loss: 29028.724609375\n",
      "Validation rmse: 21.83186805214992\n",
      "Validation mae: 16.07143\n",
      "Validation mape: 0.19825035\n",
      "Validation acc: -0.21386432647705078\n"
     ]
    },
    {
     "name": "stderr",
     "output_type": "stream",
     "text": [
      "<ipython-input-6-5c6a0450ba2d>:85: DeprecationWarning: np.asscalar(a) is deprecated since NumPy v1.16, use a.item() instead\n",
      "  validation_losses.append(np.asscalar(val_loss.detach().cpu().numpy()))\n"
     ]
    },
    {
     "name": "stdout",
     "output_type": "stream",
     "text": [
      "epoch: 480\n",
      "Training loss: 693.5619481131167\n",
      "Training rmse: 54.796597\n",
      "Validation loss: 28397.953125\n",
      "Validation rmse: 21.593352163710378\n",
      "Validation mae: 15.909798\n",
      "Validation mape: 0.19561808\n",
      "Validation acc: -0.19414830207824707\n"
     ]
    },
    {
     "name": "stderr",
     "output_type": "stream",
     "text": [
      "<ipython-input-6-5c6a0450ba2d>:85: DeprecationWarning: np.asscalar(a) is deprecated since NumPy v1.16, use a.item() instead\n",
      "  validation_losses.append(np.asscalar(val_loss.detach().cpu().numpy()))\n"
     ]
    },
    {
     "name": "stdout",
     "output_type": "stream",
     "text": [
      "epoch: 481\n",
      "Training loss: 689.922598780697\n",
      "Training rmse: 54.747177\n",
      "Validation loss: 28644.228515625\n",
      "Validation rmse: 21.686788673718283\n",
      "Validation mae: 15.9799185\n",
      "Validation mape: 0.19748183\n",
      "Validation acc: -0.1964813470840454\n"
     ]
    },
    {
     "name": "stderr",
     "output_type": "stream",
     "text": [
      "<ipython-input-6-5c6a0450ba2d>:85: DeprecationWarning: np.asscalar(a) is deprecated since NumPy v1.16, use a.item() instead\n",
      "  validation_losses.append(np.asscalar(val_loss.detach().cpu().numpy()))\n"
     ]
    },
    {
     "name": "stdout",
     "output_type": "stream",
     "text": [
      "epoch: 482\n",
      "Training loss: 688.1714521291863\n",
      "Training rmse: 54.725388\n",
      "Validation loss: 28387.806640625\n",
      "Validation rmse: 21.58949284193297\n",
      "Validation mae: 15.940906\n",
      "Validation mape: 0.19631399\n",
      "Validation acc: -0.19152700901031494\n"
     ]
    },
    {
     "name": "stderr",
     "output_type": "stream",
     "text": [
      "<ipython-input-6-5c6a0450ba2d>:85: DeprecationWarning: np.asscalar(a) is deprecated since NumPy v1.16, use a.item() instead\n",
      "  validation_losses.append(np.asscalar(val_loss.detach().cpu().numpy()))\n"
     ]
    },
    {
     "name": "stdout",
     "output_type": "stream",
     "text": [
      "epoch: 483\n",
      "Training loss: 689.5076512709313\n",
      "Training rmse: 54.74523\n",
      "Validation loss: 28677.984375\n",
      "Validation rmse: 21.69956366456298\n",
      "Validation mae: 16.065994\n",
      "Validation mape: 0.19702868\n",
      "Validation acc: -0.21050548553466797\n"
     ]
    },
    {
     "name": "stderr",
     "output_type": "stream",
     "text": [
      "<ipython-input-6-5c6a0450ba2d>:85: DeprecationWarning: np.asscalar(a) is deprecated since NumPy v1.16, use a.item() instead\n",
      "  validation_losses.append(np.asscalar(val_loss.detach().cpu().numpy()))\n"
     ]
    },
    {
     "name": "stdout",
     "output_type": "stream",
     "text": [
      "epoch: 484\n",
      "Training loss: 696.0365598398297\n",
      "Training rmse: 54.829872\n",
      "Validation loss: 27048.203125\n",
      "Validation rmse: 21.073899079480032\n",
      "Validation mae: 15.624795\n",
      "Validation mape: 0.19417472\n",
      "Validation acc: -0.12195992469787598\n"
     ]
    },
    {
     "name": "stderr",
     "output_type": "stream",
     "text": [
      "<ipython-input-6-5c6a0450ba2d>:85: DeprecationWarning: np.asscalar(a) is deprecated since NumPy v1.16, use a.item() instead\n",
      "  validation_losses.append(np.asscalar(val_loss.detach().cpu().numpy()))\n"
     ]
    },
    {
     "name": "stdout",
     "output_type": "stream",
     "text": [
      "epoch: 485\n",
      "Training loss: 689.3014081729356\n",
      "Training rmse: 54.741516\n",
      "Validation loss: 28150.125\n",
      "Validation rmse: 21.498910565830496\n",
      "Validation mae: 15.901131\n",
      "Validation mape: 0.19795391\n",
      "Validation acc: -0.16051852703094482\n"
     ]
    },
    {
     "name": "stderr",
     "output_type": "stream",
     "text": [
      "<ipython-input-6-5c6a0450ba2d>:85: DeprecationWarning: np.asscalar(a) is deprecated since NumPy v1.16, use a.item() instead\n",
      "  validation_losses.append(np.asscalar(val_loss.detach().cpu().numpy()))\n"
     ]
    },
    {
     "name": "stdout",
     "output_type": "stream",
     "text": [
      "epoch: 486\n",
      "Training loss: 691.2648491534708\n",
      "Training rmse: 54.765907\n",
      "Validation loss: 28070.1328125\n",
      "Validation rmse: 21.468343450481047\n",
      "Validation mae: 15.832761\n",
      "Validation mape: 0.19455108\n",
      "Validation acc: -0.17981970310211182\n"
     ]
    },
    {
     "name": "stderr",
     "output_type": "stream",
     "text": [
      "<ipython-input-6-5c6a0450ba2d>:85: DeprecationWarning: np.asscalar(a) is deprecated since NumPy v1.16, use a.item() instead\n",
      "  validation_losses.append(np.asscalar(val_loss.detach().cpu().numpy()))\n"
     ]
    },
    {
     "name": "stdout",
     "output_type": "stream",
     "text": [
      "epoch: 487\n",
      "Training loss: 690.9037036964115\n",
      "Training rmse: 54.761433\n",
      "Validation loss: 28845.3984375\n",
      "Validation rmse: 21.762811504941393\n",
      "Validation mae: 16.048529\n",
      "Validation mape: 0.19837624\n",
      "Validation acc: -0.20330548286437988\n"
     ]
    },
    {
     "name": "stderr",
     "output_type": "stream",
     "text": [
      "<ipython-input-6-5c6a0450ba2d>:85: DeprecationWarning: np.asscalar(a) is deprecated since NumPy v1.16, use a.item() instead\n",
      "  validation_losses.append(np.asscalar(val_loss.detach().cpu().numpy()))\n"
     ]
    },
    {
     "name": "stdout",
     "output_type": "stream",
     "text": [
      "epoch: 488\n",
      "Training loss: 689.6322380804246\n",
      "Training rmse: 54.750626\n",
      "Validation loss: 28432.99609375\n",
      "Validation rmse: 21.606668276568506\n",
      "Validation mae: 15.950527\n",
      "Validation mape: 0.19413313\n",
      "Validation acc: -0.20469295978546143\n"
     ]
    },
    {
     "name": "stderr",
     "output_type": "stream",
     "text": [
      "<ipython-input-6-5c6a0450ba2d>:85: DeprecationWarning: np.asscalar(a) is deprecated since NumPy v1.16, use a.item() instead\n",
      "  validation_losses.append(np.asscalar(val_loss.detach().cpu().numpy()))\n"
     ]
    },
    {
     "name": "stdout",
     "output_type": "stream",
     "text": [
      "epoch: 489\n",
      "Training loss: 690.4433939944031\n",
      "Training rmse: 54.75606\n",
      "Validation loss: 28040.365234375\n",
      "Validation rmse: 21.45695195859644\n",
      "Validation mae: 15.920349\n",
      "Validation mape: 0.198083\n",
      "Validation acc: -0.1569206714630127\n"
     ]
    },
    {
     "name": "stderr",
     "output_type": "stream",
     "text": [
      "<ipython-input-6-5c6a0450ba2d>:85: DeprecationWarning: np.asscalar(a) is deprecated since NumPy v1.16, use a.item() instead\n",
      "  validation_losses.append(np.asscalar(val_loss.detach().cpu().numpy()))\n"
     ]
    },
    {
     "name": "stdout",
     "output_type": "stream",
     "text": [
      "epoch: 490\n",
      "Training loss: 687.2780640851639\n",
      "Training rmse: 54.717575\n",
      "Validation loss: 29692.724609375\n",
      "Validation rmse: 22.08015405573521\n",
      "Validation mae: 16.260548\n",
      "Validation mape: 0.200596\n",
      "Validation acc: -0.24177515506744385\n"
     ]
    },
    {
     "name": "stderr",
     "output_type": "stream",
     "text": [
      "<ipython-input-6-5c6a0450ba2d>:85: DeprecationWarning: np.asscalar(a) is deprecated since NumPy v1.16, use a.item() instead\n",
      "  validation_losses.append(np.asscalar(val_loss.detach().cpu().numpy()))\n"
     ]
    },
    {
     "name": "stdout",
     "output_type": "stream",
     "text": [
      "epoch: 491\n",
      "Training loss: 686.1117331665477\n",
      "Training rmse: 54.701202\n",
      "Validation loss: 29062.150390625\n",
      "Validation rmse: 21.8444240831703\n",
      "Validation mae: 16.074816\n",
      "Validation mape: 0.19962911\n",
      "Validation acc: -0.20162415504455566\n"
     ]
    },
    {
     "name": "stderr",
     "output_type": "stream",
     "text": [
      "<ipython-input-6-5c6a0450ba2d>:85: DeprecationWarning: np.asscalar(a) is deprecated since NumPy v1.16, use a.item() instead\n",
      "  validation_losses.append(np.asscalar(val_loss.detach().cpu().numpy()))\n"
     ]
    },
    {
     "name": "stdout",
     "output_type": "stream",
     "text": [
      "epoch: 492\n",
      "Training loss: 692.5921295056634\n",
      "Training rmse: 54.78285\n",
      "Validation loss: 29068.6640625\n",
      "Validation rmse: 21.846870865219177\n",
      "Validation mae: 16.099295\n",
      "Validation mape: 0.19985752\n",
      "Validation acc: -0.20156610012054443\n"
     ]
    },
    {
     "name": "stderr",
     "output_type": "stream",
     "text": [
      "<ipython-input-6-5c6a0450ba2d>:85: DeprecationWarning: np.asscalar(a) is deprecated since NumPy v1.16, use a.item() instead\n",
      "  validation_losses.append(np.asscalar(val_loss.detach().cpu().numpy()))\n"
     ]
    },
    {
     "name": "stdout",
     "output_type": "stream",
     "text": [
      "epoch: 493\n",
      "Training loss: 684.9842169430093\n",
      "Training rmse: 54.686726\n",
      "Validation loss: 30061.634765625\n",
      "Validation rmse: 22.21690461855742\n",
      "Validation mae: 16.441256\n",
      "Validation mape: 0.20585428\n",
      "Validation acc: -0.21741950511932373\n"
     ]
    },
    {
     "name": "stderr",
     "output_type": "stream",
     "text": [
      "<ipython-input-6-5c6a0450ba2d>:85: DeprecationWarning: np.asscalar(a) is deprecated since NumPy v1.16, use a.item() instead\n",
      "  validation_losses.append(np.asscalar(val_loss.detach().cpu().numpy()))\n"
     ]
    },
    {
     "name": "stdout",
     "output_type": "stream",
     "text": [
      "epoch: 494\n",
      "Training loss: 690.8970759128584\n",
      "Training rmse: 54.760925\n",
      "Validation loss: 27951.283203125\n",
      "Validation rmse: 21.422835158095612\n",
      "Validation mae: 15.813739\n",
      "Validation mape: 0.19464809\n",
      "Validation acc: -0.17362236976623535\n"
     ]
    },
    {
     "name": "stderr",
     "output_type": "stream",
     "text": [
      "<ipython-input-6-5c6a0450ba2d>:85: DeprecationWarning: np.asscalar(a) is deprecated since NumPy v1.16, use a.item() instead\n",
      "  validation_losses.append(np.asscalar(val_loss.detach().cpu().numpy()))\n"
     ]
    },
    {
     "name": "stdout",
     "output_type": "stream",
     "text": [
      "epoch: 495\n",
      "Training loss: 686.6907530206934\n",
      "Training rmse: 54.707417\n",
      "Validation loss: 28219.23828125\n",
      "Validation rmse: 21.525284913909967\n",
      "Validation mae: 15.923352\n",
      "Validation mape: 0.19805546\n",
      "Validation acc: -0.16714417934417725\n"
     ]
    },
    {
     "name": "stderr",
     "output_type": "stream",
     "text": [
      "<ipython-input-6-5c6a0450ba2d>:85: DeprecationWarning: np.asscalar(a) is deprecated since NumPy v1.16, use a.item() instead\n",
      "  validation_losses.append(np.asscalar(val_loss.detach().cpu().numpy()))\n"
     ]
    },
    {
     "name": "stdout",
     "output_type": "stream",
     "text": [
      "epoch: 496\n",
      "Training loss: 685.7153543451781\n",
      "Training rmse: 54.6955\n",
      "Validation loss: 29304.328125\n",
      "Validation rmse: 21.93525601726519\n",
      "Validation mae: 16.204685\n",
      "Validation mape: 0.20171624\n",
      "Validation acc: -0.20567750930786133\n"
     ]
    },
    {
     "name": "stderr",
     "output_type": "stream",
     "text": [
      "<ipython-input-6-5c6a0450ba2d>:85: DeprecationWarning: np.asscalar(a) is deprecated since NumPy v1.16, use a.item() instead\n",
      "  validation_losses.append(np.asscalar(val_loss.detach().cpu().numpy()))\n"
     ]
    },
    {
     "name": "stdout",
     "output_type": "stream",
     "text": [
      "epoch: 497\n",
      "Training loss: 686.87084769519\n",
      "Training rmse: 54.70668\n",
      "Validation loss: 28874.576171875\n",
      "Validation rmse: 21.77380681759802\n",
      "Validation mae: 16.023653\n",
      "Validation mape: 0.19781712\n",
      "Validation acc: -0.20738625526428223\n"
     ]
    },
    {
     "name": "stderr",
     "output_type": "stream",
     "text": [
      "<ipython-input-6-5c6a0450ba2d>:85: DeprecationWarning: np.asscalar(a) is deprecated since NumPy v1.16, use a.item() instead\n",
      "  validation_losses.append(np.asscalar(val_loss.detach().cpu().numpy()))\n"
     ]
    },
    {
     "name": "stdout",
     "output_type": "stream",
     "text": [
      "epoch: 498\n",
      "Training loss: 687.4099980836273\n",
      "Training rmse: 54.71283\n",
      "Validation loss: 29938.25390625\n",
      "Validation rmse: 22.171259048218328\n",
      "Validation mae: 16.31144\n",
      "Validation mape: 0.2029226\n",
      "Validation acc: -0.2319035530090332\n"
     ]
    },
    {
     "name": "stderr",
     "output_type": "stream",
     "text": [
      "<ipython-input-6-5c6a0450ba2d>:85: DeprecationWarning: np.asscalar(a) is deprecated since NumPy v1.16, use a.item() instead\n",
      "  validation_losses.append(np.asscalar(val_loss.detach().cpu().numpy()))\n"
     ]
    },
    {
     "name": "stdout",
     "output_type": "stream",
     "text": [
      "epoch: 499\n",
      "Training loss: 686.1876747377457\n",
      "Training rmse: 54.701706\n",
      "Validation loss: 29534.619140625\n",
      "Validation rmse: 22.021284038029975\n",
      "Validation mae: 16.23079\n",
      "Validation mape: 0.20126541\n",
      "Validation acc: -0.22005856037139893\n",
      "(3168, 400)\n",
      "(3168, 400)\n"
     ]
    },
    {
     "data": {
      "image/png": "[encoded data removed]",
      "text/plain": [
       "<Figure size 432x288 with 1 Axes>"
      ]
     },
     "metadata": {
      "needs_background": "light"
     },
     "output_type": "display_data"
    }
   ],
   "source": [
    "if __name__ == '__main__':\n",
    "    torch.manual_seed(3)\n",
    "    src_adj = pd.read_csv('./src_data/'+src_city+'_adj.csv').values\n",
    "    src_adj = src_adj[:400, :400]\n",
    "    src_adj = normalized_adj(src_adj)\n",
    "    src_adj = src_adj.to(device)\n",
    "    \n",
    "    net = TGCN(src_adj.shape[0], 1, gru_units, seq_len, pre_len).to(device=device)\n",
    "#     net = net.double()\n",
    "    net.train()\n",
    "    optimizer = torch.optim.Adam(net.parameters(),lr=lr)\n",
    "    loss_criterion = nn.MSELoss()\n",
    "    \n",
    "    training_losses = []\n",
    "    training_rmses = []\n",
    "    validation_losses = []\n",
    "    validation_maes = []\n",
    "    validation_mapes = []\n",
    "    validation_pred = []\n",
    "    validation_acc = []\n",
    "    validation_r2 = []\n",
    "    validation_var = []\n",
    "    validation_rmses = []\n",
    "    viz.line([0.],[0.],env=environ,win='train_loss',opts=dict(title='train loss'))\n",
    "    viz.line([0.],[0.],env=environ,win='val_loss',opts=dict(title='val loss'))\n",
    "    viz.line([0.],[0.],env=environ,win='rmses',opts=dict(title='rmses'))\n",
    "    viz.line([0.],[0.],env=environ,win='maes',opts=dict(title='maes'))\n",
    "    viz.line([0.],[0.],env=environ,win='mapes',opts=dict(title='mapes'))\n",
    "    \n",
    "    \n",
    "    for epoch in range(epochs):\n",
    "        epoch_training_loss = []\n",
    "        epoch_training_rmses = []\n",
    "        \n",
    "        \n",
    "        for i, (seq_speed, pre_speed) in enumerate(train_loader):\n",
    "            \n",
    "            # [32,12,400], [32,3,400]\n",
    "            optimizer.zero_grad()\n",
    "            X_batch = seq_speed\n",
    "            y_batch = pre_speed\n",
    "            \n",
    "            X_batch = X_batch.to(device)\n",
    "            y_batch = y_batch.to(device)\n",
    "            \n",
    "            X_batch = X_batch.permute(1,0,2)\n",
    "            h0 = torch.zeros(X_batch.size(1),num_nodes,gru_units).to(device=device)\n",
    "            \n",
    "            out = net(src_adj, X_batch, h0)\n",
    "            loss = tgcn_loss(out, y_batch)\n",
    "            \n",
    "            loss.backward()\n",
    "            optimizer.step()\n",
    "            \n",
    "            batch_rmse = mean_squared_error(out.detach().cpu().numpy().reshape(-1, num_nodes),\n",
    "                                            y_batch.detach().cpu().numpy().reshape(-1, num_nodes))\n",
    "            batch_rmse = math.sqrt(batch_rmse)\n",
    "            epoch_training_rmses.append(batch_rmse)\n",
    "            epoch_training_loss.append(loss.detach().cpu().numpy())\n",
    "            \n",
    "        loss = sum(epoch_training_loss) / len(epoch_training_loss)\n",
    "        rmse = sum(epoch_training_rmses) / len(epoch_training_rmses)\n",
    "        \n",
    "        training_losses.append(loss)\n",
    "        rmse = Normalize(rmse, train_mean, train_std, train_max, train_min, inv_if_norm)\n",
    "        training_rmses.append(rmse)\n",
    "        viz.line([training_losses[-1]],[epoch],env=environ,win='train_loss', update='append')\n",
    "        \n",
    "        with torch.no_grad():\n",
    "            net.eval().to(device)\n",
    "            tgt_adj = pd.read_csv('./src_data/'+tgt_city+'_adj.csv').values\n",
    "            tgt_adj = tgt_adj[:400, :400]\n",
    "            tgt_adj = normalized_adj(tgt_adj)\n",
    "            tgt_adj = tgt_adj.to(device)\n",
    "            for i, (val_seq, val_pre) in enumerate(val_loader):\n",
    "                val_input = val_seq.to(device=device)\n",
    "                val_target = val_pre.to(device=device)\n",
    "                \n",
    "                val_input = val_input.permute(1,0,2)\n",
    "                h0 = torch.zeros(val_input.size(1),num_nodes,gru_units).to(device=device)\n",
    "                \n",
    "                pred = net(tgt_adj, val_input, h0)\n",
    "                val_loss = tgcn_loss(pred, val_target)\n",
    "                \n",
    "                validation_losses.append(np.asscalar(val_loss.detach().cpu().numpy()))\n",
    "                \n",
    "                pred_cpu = pred.detach().cpu().numpy().reshape(-1, num_nodes)\n",
    "                target_cpu = val_target.detach().cpu().numpy().reshape(-1, num_nodes)\n",
    "                \n",
    "                pred_cpu = Normalize(pred_cpu, val_mean, val_std, val_max, val_min, inv_if_norm)\n",
    "                target_cpu = Normalize(target_cpu, val_mean, val_std, val_max, val_min, inv_if_norm)\n",
    "                \n",
    "                rmse, mae, mape, acc, r2_score, var_score = evaluation(target_cpu, pred_cpu)\n",
    "                \n",
    "                validation_rmses.append(rmse)\n",
    "                validation_maes.append(mae)\n",
    "                validation_mapes.append(mape)\n",
    "                validation_acc.append(var_score)\n",
    "                validation_r2.append(r2_score)\n",
    "                validation_var.append(var_score)\n",
    "                \n",
    "                \n",
    "                viz.line([validation_losses[-1]],[epoch],env=environ,win='val_loss', update='append')\n",
    "                viz.line([rmse],[epoch],env=environ,win='rmses', update='append')\n",
    "                viz.line([mae],[epoch],env=environ,win='maes', update='append')\n",
    "                viz.line([mape],[epoch],env=environ,win='mapes', update='append')\n",
    "#                 fig, axes = plt.subplots()\n",
    "#                 axes.plot(np.arange(epoch+1), validation_rmses)\n",
    "#                 axes.plot(np.arange(epoch+1), validation_maes)\n",
    "#                 axes.legend(['rmses', 'maes','mapes'])\n",
    "#                 plt.show()\n",
    "                \n",
    "                plt.plot(np.arange(epoch+1), validation_mapes)\n",
    "            \n",
    "                validation_label = target_cpu\n",
    "                \n",
    "                validation_pred.append(pred_cpu)\n",
    "                \n",
    "                out = None\n",
    "                val_input = val_input\n",
    "                val_target = val_target\n",
    "                \n",
    "        print('epoch: '+str(epoch))\n",
    "        print(\"Training loss: \"+str(training_losses[-1]))\n",
    "        print(\"Training rmse: \"+str(training_rmses[-1]))\n",
    "        print(\"Validation loss: \"+str(validation_losses[-1]))\n",
    "        print(\"Validation rmse: \"+str(validation_rmses[-1]))\n",
    "        print(\"Validation mae: \"+str(validation_maes[-1]))\n",
    "        print(\"Validation mape: \"+str(validation_mapes[-1]))\n",
    "        print(\"Validation acc: \"+str(validation_acc[-1]))\n",
    "        if (epoch%1000==0):\n",
    "            if os.path.exists('./epoch')==False:\n",
    "                os.makedirs('./epoch')\n",
    "            torch.save(net, './epoch/model_epoch'+str(epoch)+'.pk1')\n",
    "    \n",
    "    index = validation_rmses.index(np.min(validation_rmses))\n",
    "    test_result = validation_pred[index]\n",
    "    var = pd.DataFrame(test_result)\n",
    "    var.to_csv('./epoch/test_epoch'+str(index)+'.csv',index=False, header=False)\n",
    "    np.savez('sh_L_loss', Train_loss=training_losses, Train_rmse=training_rmses, Val_loss=validation_losses, Val_rmse=validation_rmses, Val_mae=validation_maes, Val_acc=validation_acc)\n",
    "    print(validation_label.shape)\n",
    "    print(test_result.shape)\n",
    "    "
   ]
  },
  {
   "cell_type": "code",
   "execution_count": null,
   "id": "exceptional-contract",
   "metadata": {},
   "outputs": [],
   "source": []
  }
 ],
 "metadata": {
  "kernelspec": {
   "display_name": "Python 3",
   "language": "python",
   "name": "python3"
  },
  "language_info": {
   "codemirror_mode": {
    "name": "ipython",
    "version": 3
   },
   "file_extension": ".py",
   "mimetype": "text/x-python",
   "name": "python",
   "nbconvert_exporter": "python",
   "pygments_lexer": "ipython3",
   "version": "3.8.3"
  }
 },
 "nbformat": 4,
 "nbformat_minor": 5
}
