{
 "cells": [
  {
   "cell_type": "code",
   "execution_count": null,
   "id": "democratic-sheriff",
   "metadata": {},
   "outputs": [],
   "source": [
    "import os\n",
    "os.environ[\"MKL_NUM_THREADS\"] = \"1\"\n",
    "os.environ[\"OPENBLAS_NUM_THREADS\"] = \"4\"\n",
    "import math\n",
    "import torch\n",
    "import torch.nn as nn\n",
    "import torch.nn.functional as F\n",
    "from torch.utils.data import DataLoader\n",
    "from tqdm import tqdm\n",
    "import numpy as np\n",
    "import numpy.linalg as la\n",
    "import pandas as pd\n",
    "from utils import *\n",
    "from gen_data_1 import *\n",
    "from networks import GetFeature, D, TGCN\n",
    "from graph_part.metis_1 import graph_part, get_part_data\n",
    "from sklearn.metrics import mean_squared_error, mean_absolute_error, mean_absolute_percentage_error"
   ]
  },
  {
   "cell_type": "code",
   "execution_count": null,
   "id": "horizontal-michael",
   "metadata": {},
   "outputs": [],
   "source": [
    "def evaluation(a,b):\n",
    "    rmse = math.sqrt(mean_squared_error(a,b))\n",
    "    mae = mean_absolute_error(a,b)\n",
    "    mape = mean_absolute_percentage_error(a,b)\n",
    "    F_norm = 1-mae/a.mean()\n",
    "    r2 = 1 - ((a-b)**2).sum()/((a-a.mean())**2).sum()\n",
    "    var = 1-(np.var(a-b))/np.var(a)\n",
    "    return rmse, mae, mape, F_norm, r2, var\n",
    "\n",
    "def tgcn_loss(y_pred, y_true):\n",
    "    lambda_loss = 0.0015\n",
    "    Lreg = 0 # 正则化项\n",
    "    for para in net.parameters():\n",
    "        Lreg += torch.sum(para ** 2) / 2\n",
    "    Lreg = lambda_loss * Lreg\n",
    "\n",
    "    regress_loss = torch.sum((y_pred-y_true) ** 2) / 2\n",
    "    return regress_loss + Lreg"
   ]
  },
  {
   "cell_type": "code",
   "execution_count": 1,
   "id": "acoustic-phone",
   "metadata": {
    "scrolled": true
   },
   "outputs": [
    {
     "name": "stderr",
     "output_type": "stream",
     "text": [
      "\r",
      "  0%|          | 0/9 [00:00<?, ?it/s]"
     ]
    },
    {
     "name": "stdout",
     "output_type": "stream",
     "text": [
      "==========EPOCH 000===========\n"
     ]
    },
    {
     "name": "stderr",
     "output_type": "stream",
     "text": [
      "                                             \r"
     ]
    },
    {
     "name": "stdout",
     "output_type": "stream",
     "text": [
      "Trainning loss=174.0907\n"
     ]
    },
    {
     "name": "stderr",
     "output_type": "stream",
     "text": [
      " 11%|█         | 1/9 [00:00<00:01,  6.76it/s]"
     ]
    },
    {
     "name": "stdout",
     "output_type": "stream",
     "text": [
      "VAL: rmse=11.8423, mae=9.0530, mape=0.3195, acc=0.7405, r2_score=-0.1248, var_score=-0.0031\n",
      "VAL loss=9.9131\n",
      "==========EPOCH 001===========\n"
     ]
    },
    {
     "name": "stderr",
     "output_type": "stream",
     "text": [
      "                                             \r"
     ]
    },
    {
     "name": "stdout",
     "output_type": "stream",
     "text": [
      "Trainning loss=13.0638\n"
     ]
    },
    {
     "name": "stderr",
     "output_type": "stream",
     "text": [
      " 11%|█         | 1/9 [00:00<00:01,  7.12it/s]"
     ]
    },
    {
     "name": "stdout",
     "output_type": "stream",
     "text": [
      "VAL: rmse=15.7428, mae=11.4630, mape=0.3896, acc=0.6714, r2_score=-0.9877, var_score=-0.7889\n",
      "VAL loss=16.8679\n",
      "==========EPOCH 002===========\n"
     ]
    },
    {
     "name": "stderr",
     "output_type": "stream",
     "text": [
      "                                             \r"
     ]
    },
    {
     "name": "stdout",
     "output_type": "stream",
     "text": [
      "Trainning loss=12.5071\n"
     ]
    },
    {
     "name": "stderr",
     "output_type": "stream",
     "text": [
      " 11%|█         | 1/9 [00:00<00:01,  6.66it/s]"
     ]
    },
    {
     "name": "stdout",
     "output_type": "stream",
     "text": [
      "VAL: rmse=15.1087, mae=9.9849, mape=0.3389, acc=0.7138, r2_score=-0.8308, var_score=-0.8067\n",
      "VAL loss=15.5517\n",
      "==========EPOCH 003===========\n"
     ]
    },
    {
     "name": "stderr",
     "output_type": "stream",
     "text": [
      "                                             \r"
     ]
    },
    {
     "name": "stdout",
     "output_type": "stream",
     "text": [
      "Trainning loss=9.7829\n"
     ]
    },
    {
     "name": "stderr",
     "output_type": "stream",
     "text": [
      " 11%|█         | 1/9 [00:00<00:01,  6.67it/s]"
     ]
    },
    {
     "name": "stdout",
     "output_type": "stream",
     "text": [
      "VAL: rmse=12.8046, mae=8.9641, mape=0.2970, acc=0.7430, r2_score=-0.3150, var_score=-0.3124\n",
      "VAL loss=11.1714\n",
      "==========EPOCH 004===========\n"
     ]
    },
    {
     "name": "stderr",
     "output_type": "stream",
     "text": [
      "                                             \r"
     ]
    },
    {
     "name": "stdout",
     "output_type": "stream",
     "text": [
      "Trainning loss=6.4752\n"
     ]
    },
    {
     "name": "stderr",
     "output_type": "stream",
     "text": [
      " 11%|█         | 1/9 [00:00<00:01,  7.02it/s]"
     ]
    },
    {
     "name": "stdout",
     "output_type": "stream",
     "text": [
      "VAL: rmse=10.4306, mae=7.4656, mape=0.2369, acc=0.7860, r2_score=0.1274, var_score=0.1340\n",
      "VAL loss=7.4130\n",
      "==========EPOCH 005===========\n"
     ]
    },
    {
     "name": "stderr",
     "output_type": "stream",
     "text": [
      "                                             \r"
     ]
    },
    {
     "name": "stdout",
     "output_type": "stream",
     "text": [
      "Trainning loss=4.5195\n"
     ]
    },
    {
     "name": "stderr",
     "output_type": "stream",
     "text": [
      " 11%|█         | 1/9 [00:00<00:01,  6.54it/s]"
     ]
    },
    {
     "name": "stdout",
     "output_type": "stream",
     "text": [
      "VAL: rmse=8.6677, mae=6.2329, mape=0.2006, acc=0.8213, r2_score=0.3974, var_score=0.3996\n",
      "VAL loss=5.1195\n",
      "==========EPOCH 006===========\n"
     ]
    },
    {
     "name": "stderr",
     "output_type": "stream",
     "text": [
      "                                             \r"
     ]
    },
    {
     "name": "stdout",
     "output_type": "stream",
     "text": [
      "Trainning loss=3.3934\n"
     ]
    },
    {
     "name": "stderr",
     "output_type": "stream",
     "text": [
      " 11%|█         | 1/9 [00:00<00:01,  6.58it/s]"
     ]
    },
    {
     "name": "stdout",
     "output_type": "stream",
     "text": [
      "VAL: rmse=7.5724, mae=5.4153, mape=0.1728, acc=0.8448, r2_score=0.5401, var_score=0.5404\n",
      "VAL loss=3.9076\n",
      "==========EPOCH 007===========\n"
     ]
    },
    {
     "name": "stderr",
     "output_type": "stream",
     "text": [
      "                                             \r"
     ]
    },
    {
     "name": "stdout",
     "output_type": "stream",
     "text": [
      "Trainning loss=2.8543\n"
     ]
    },
    {
     "name": "stderr",
     "output_type": "stream",
     "text": [
      " 11%|█         | 1/9 [00:00<00:01,  6.66it/s]"
     ]
    },
    {
     "name": "stdout",
     "output_type": "stream",
     "text": [
      "VAL: rmse=6.9471, mae=5.0016, mape=0.1590, acc=0.8566, r2_score=0.6129, var_score=0.6131\n",
      "VAL loss=3.2892\n",
      "==========EPOCH 008===========\n"
     ]
    },
    {
     "name": "stderr",
     "output_type": "stream",
     "text": [
      "                                             \r"
     ]
    },
    {
     "name": "stdout",
     "output_type": "stream",
     "text": [
      "Trainning loss=2.5964\n"
     ]
    },
    {
     "name": "stderr",
     "output_type": "stream",
     "text": [
      " 11%|█         | 1/9 [00:00<00:01,  7.01it/s]"
     ]
    },
    {
     "name": "stdout",
     "output_type": "stream",
     "text": [
      "VAL: rmse=6.5883, mae=4.7191, mape=0.1501, acc=0.8647, r2_score=0.6519, var_score=0.6538\n",
      "VAL loss=2.9588\n",
      "==========EPOCH 009===========\n"
     ]
    },
    {
     "name": "stderr",
     "output_type": "stream",
     "text": [
      "                                             \r"
     ]
    },
    {
     "name": "stdout",
     "output_type": "stream",
     "text": [
      "Trainning loss=2.4860\n"
     ]
    },
    {
     "name": "stderr",
     "output_type": "stream",
     "text": [
      " 11%|█         | 1/9 [00:00<00:01,  6.99it/s]"
     ]
    },
    {
     "name": "stdout",
     "output_type": "stream",
     "text": [
      "VAL: rmse=6.5107, mae=4.6473, mape=0.1498, acc=0.8668, r2_score=0.6600, var_score=0.6601\n",
      "VAL loss=2.8894\n",
      "==========EPOCH 010===========\n"
     ]
    },
    {
     "name": "stderr",
     "output_type": "stream",
     "text": [
      "                                             \r"
     ]
    },
    {
     "name": "stdout",
     "output_type": "stream",
     "text": [
      "Trainning loss=2.4554\n"
     ]
    },
    {
     "name": "stderr",
     "output_type": "stream",
     "text": [
      " 11%|█         | 1/9 [00:00<00:01,  6.58it/s]"
     ]
    },
    {
     "name": "stdout",
     "output_type": "stream",
     "text": [
      "VAL: rmse=6.5214, mae=4.6672, mape=0.1499, acc=0.8662, r2_score=0.6589, var_score=0.6603\n",
      "VAL loss=2.8988\n",
      "==========EPOCH 011===========\n"
     ]
    },
    {
     "name": "stderr",
     "output_type": "stream",
     "text": [
      "                                             \r"
     ]
    },
    {
     "name": "stdout",
     "output_type": "stream",
     "text": [
      "Trainning loss=2.4194\n"
     ]
    },
    {
     "name": "stderr",
     "output_type": "stream",
     "text": [
      " 11%|█         | 1/9 [00:00<00:01,  6.59it/s]"
     ]
    },
    {
     "name": "stdout",
     "output_type": "stream",
     "text": [
      "VAL: rmse=6.5070, mae=4.6580, mape=0.1513, acc=0.8665, r2_score=0.6604, var_score=0.6605\n",
      "VAL loss=2.8860\n",
      "==========EPOCH 012===========\n"
     ]
    },
    {
     "name": "stderr",
     "output_type": "stream",
     "text": [
      "                                             \r"
     ]
    },
    {
     "name": "stdout",
     "output_type": "stream",
     "text": [
      "Trainning loss=2.4870\n"
     ]
    },
    {
     "name": "stderr",
     "output_type": "stream",
     "text": [
      " 11%|█         | 1/9 [00:00<00:01,  6.25it/s]"
     ]
    },
    {
     "name": "stdout",
     "output_type": "stream",
     "text": [
      "VAL: rmse=6.5702, mae=4.7268, mape=0.1541, acc=0.8645, r2_score=0.6538, var_score=0.6548\n",
      "VAL loss=2.9427\n",
      "==========EPOCH 013===========\n"
     ]
    },
    {
     "name": "stderr",
     "output_type": "stream",
     "text": [
      "                                             \r"
     ]
    },
    {
     "name": "stdout",
     "output_type": "stream",
     "text": [
      "Trainning loss=2.5530\n"
     ]
    },
    {
     "name": "stderr",
     "output_type": "stream",
     "text": [
      " 11%|█         | 1/9 [00:00<00:01,  6.32it/s]"
     ]
    },
    {
     "name": "stdout",
     "output_type": "stream",
     "text": [
      "VAL: rmse=6.5026, mae=4.6550, mape=0.1510, acc=0.8666, r2_score=0.6609, var_score=0.6611\n",
      "VAL loss=2.8823\n",
      "==========EPOCH 014===========\n"
     ]
    },
    {
     "name": "stderr",
     "output_type": "stream",
     "text": [
      "                                             \r"
     ]
    },
    {
     "name": "stdout",
     "output_type": "stream",
     "text": [
      "Trainning loss=2.3612\n"
     ]
    },
    {
     "name": "stderr",
     "output_type": "stream",
     "text": [
      " 11%|█         | 1/9 [00:00<00:01,  7.16it/s]"
     ]
    },
    {
     "name": "stdout",
     "output_type": "stream",
     "text": [
      "VAL: rmse=6.4625, mae=4.6132, mape=0.1494, acc=0.8678, r2_score=0.6650, var_score=0.6651\n",
      "VAL loss=2.8464\n",
      "==========EPOCH 015===========\n"
     ]
    },
    {
     "name": "stderr",
     "output_type": "stream",
     "text": [
      "                                             \r"
     ]
    },
    {
     "name": "stdout",
     "output_type": "stream",
     "text": [
      "Trainning loss=2.7644\n"
     ]
    },
    {
     "name": "stderr",
     "output_type": "stream",
     "text": [
      " 11%|█         | 1/9 [00:00<00:01,  6.72it/s]"
     ]
    },
    {
     "name": "stdout",
     "output_type": "stream",
     "text": [
      "VAL: rmse=7.3629, mae=5.5268, mape=0.1799, acc=0.8416, r2_score=0.5652, var_score=0.5700\n",
      "VAL loss=3.6975\n",
      "==========EPOCH 016===========\n"
     ]
    },
    {
     "name": "stderr",
     "output_type": "stream",
     "text": [
      "                                             \r"
     ]
    },
    {
     "name": "stdout",
     "output_type": "stream",
     "text": [
      "Trainning loss=3.1399\n"
     ]
    },
    {
     "name": "stderr",
     "output_type": "stream",
     "text": [
      " 11%|█         | 1/9 [00:00<00:01,  6.79it/s]"
     ]
    },
    {
     "name": "stdout",
     "output_type": "stream",
     "text": [
      "VAL: rmse=6.8009, mae=4.9805, mape=0.1621, acc=0.8572, r2_score=0.6290, var_score=0.6298\n",
      "VAL loss=3.1546\n",
      "==========EPOCH 017===========\n"
     ]
    },
    {
     "name": "stderr",
     "output_type": "stream",
     "text": [
      "                                             \r"
     ]
    },
    {
     "name": "stdout",
     "output_type": "stream",
     "text": [
      "Trainning loss=2.6241\n"
     ]
    },
    {
     "name": "stderr",
     "output_type": "stream",
     "text": [
      " 11%|█         | 1/9 [00:00<00:01,  6.56it/s]"
     ]
    },
    {
     "name": "stdout",
     "output_type": "stream",
     "text": [
      "VAL: rmse=6.4194, mae=4.5724, mape=0.1475, acc=0.8689, r2_score=0.6695, var_score=0.6696\n",
      "VAL loss=2.8093\n",
      "==========EPOCH 018===========\n"
     ]
    },
    {
     "name": "stderr",
     "output_type": "stream",
     "text": [
      "                                             \r"
     ]
    },
    {
     "name": "stdout",
     "output_type": "stream",
     "text": [
      "Trainning loss=2.3889\n"
     ]
    },
    {
     "name": "stderr",
     "output_type": "stream",
     "text": [
      " 11%|█         | 1/9 [00:00<00:01,  6.33it/s]"
     ]
    },
    {
     "name": "stdout",
     "output_type": "stream",
     "text": [
      "VAL: rmse=6.4226, mae=4.5753, mape=0.1464, acc=0.8688, r2_score=0.6692, var_score=0.6705\n",
      "VAL loss=2.8113\n",
      "==========EPOCH 019===========\n"
     ]
    },
    {
     "name": "stderr",
     "output_type": "stream",
     "text": [
      "                                             \r"
     ]
    },
    {
     "name": "stdout",
     "output_type": "stream",
     "text": [
      "Trainning loss=2.3658\n"
     ]
    },
    {
     "name": "stderr",
     "output_type": "stream",
     "text": [
      " 11%|█         | 1/9 [00:00<00:01,  6.79it/s]"
     ]
    },
    {
     "name": "stdout",
     "output_type": "stream",
     "text": [
      "VAL: rmse=6.4195, mae=4.5714, mape=0.1458, acc=0.8690, r2_score=0.6695, var_score=0.6720\n",
      "VAL loss=2.8086\n",
      "==========EPOCH 020===========\n"
     ]
    },
    {
     "name": "stderr",
     "output_type": "stream",
     "text": [
      "                                             \r"
     ]
    },
    {
     "name": "stdout",
     "output_type": "stream",
     "text": [
      "Trainning loss=2.2704\n"
     ]
    },
    {
     "name": "stderr",
     "output_type": "stream",
     "text": [
      " 11%|█         | 1/9 [00:00<00:01,  6.58it/s]"
     ]
    },
    {
     "name": "stdout",
     "output_type": "stream",
     "text": [
      "VAL: rmse=6.4343, mae=4.5904, mape=0.1490, acc=0.8684, r2_score=0.6680, var_score=0.6682\n",
      "VAL loss=2.8216\n",
      "==========EPOCH 021===========\n"
     ]
    },
    {
     "name": "stderr",
     "output_type": "stream",
     "text": [
      "                                             \r"
     ]
    },
    {
     "name": "stdout",
     "output_type": "stream",
     "text": [
      "Trainning loss=2.3209\n"
     ]
    },
    {
     "name": "stderr",
     "output_type": "stream",
     "text": [
      " 11%|█         | 1/9 [00:00<00:01,  6.69it/s]"
     ]
    },
    {
     "name": "stdout",
     "output_type": "stream",
     "text": [
      "VAL: rmse=6.5583, mae=4.7299, mape=0.1543, acc=0.8644, r2_score=0.6550, var_score=0.6563\n",
      "VAL loss=2.9315\n",
      "==========EPOCH 022===========\n"
     ]
    },
    {
     "name": "stderr",
     "output_type": "stream",
     "text": [
      "                                             \r"
     ]
    },
    {
     "name": "stdout",
     "output_type": "stream",
     "text": [
      "Trainning loss=3.7588\n"
     ]
    },
    {
     "name": "stderr",
     "output_type": "stream",
     "text": [
      " 11%|█         | 1/9 [00:00<00:01,  7.10it/s]"
     ]
    },
    {
     "name": "stdout",
     "output_type": "stream",
     "text": [
      "VAL: rmse=8.0805, mae=6.3788, mape=0.2086, acc=0.8171, r2_score=0.4763, var_score=0.4820\n",
      "VAL loss=4.4578\n",
      "==========EPOCH 023===========\n"
     ]
    },
    {
     "name": "stderr",
     "output_type": "stream",
     "text": [
      "                                             \r"
     ]
    },
    {
     "name": "stdout",
     "output_type": "stream",
     "text": [
      "Trainning loss=3.5014\n"
     ]
    },
    {
     "name": "stderr",
     "output_type": "stream",
     "text": [
      " 11%|█         | 1/9 [00:00<00:01,  6.78it/s]"
     ]
    },
    {
     "name": "stdout",
     "output_type": "stream",
     "text": [
      "VAL: rmse=6.8135, mae=5.0041, mape=0.1572, acc=0.8566, r2_score=0.6277, var_score=0.6405\n",
      "VAL loss=3.1677\n",
      "==========EPOCH 024===========\n"
     ]
    },
    {
     "name": "stderr",
     "output_type": "stream",
     "text": [
      "                                             \r"
     ]
    },
    {
     "name": "stdout",
     "output_type": "stream",
     "text": [
      "Trainning loss=2.6275\n"
     ]
    },
    {
     "name": "stderr",
     "output_type": "stream",
     "text": [
      " 11%|█         | 1/9 [00:00<00:01,  7.08it/s]"
     ]
    },
    {
     "name": "stdout",
     "output_type": "stream",
     "text": [
      "VAL: rmse=6.4895, mae=4.6742, mape=0.1562, acc=0.8660, r2_score=0.6622, var_score=0.6779\n",
      "VAL loss=2.8714\n",
      "==========EPOCH 025===========\n"
     ]
    },
    {
     "name": "stderr",
     "output_type": "stream",
     "text": [
      "                                             \r"
     ]
    },
    {
     "name": "stdout",
     "output_type": "stream",
     "text": [
      "Trainning loss=2.3449\n"
     ]
    },
    {
     "name": "stderr",
     "output_type": "stream",
     "text": [
      " 11%|█         | 1/9 [00:00<00:01,  6.65it/s]"
     ]
    },
    {
     "name": "stdout",
     "output_type": "stream",
     "text": [
      "VAL: rmse=6.3680, mae=4.5184, mape=0.1440, acc=0.8705, r2_score=0.6748, var_score=0.6776\n",
      "VAL loss=2.7639\n",
      "==========EPOCH 026===========\n"
     ]
    },
    {
     "name": "stderr",
     "output_type": "stream",
     "text": [
      "                                             \r"
     ]
    },
    {
     "name": "stdout",
     "output_type": "stream",
     "text": [
      "Trainning loss=2.3066\n"
     ]
    },
    {
     "name": "stderr",
     "output_type": "stream",
     "text": [
      " 11%|█         | 1/9 [00:00<00:01,  6.57it/s]"
     ]
    },
    {
     "name": "stdout",
     "output_type": "stream",
     "text": [
      "VAL: rmse=6.3758, mae=4.5446, mape=0.1500, acc=0.8697, r2_score=0.6740, var_score=0.6791\n",
      "VAL loss=2.7708\n",
      "==========EPOCH 027===========\n"
     ]
    },
    {
     "name": "stderr",
     "output_type": "stream",
     "text": [
      "                                             \r"
     ]
    },
    {
     "name": "stdout",
     "output_type": "stream",
     "text": [
      "Trainning loss=2.1354\n"
     ]
    },
    {
     "name": "stderr",
     "output_type": "stream",
     "text": [
      " 11%|█         | 1/9 [00:00<00:01,  6.47it/s]"
     ]
    },
    {
     "name": "stdout",
     "output_type": "stream",
     "text": [
      "VAL: rmse=6.3377, mae=4.4906, mape=0.1442, acc=0.8713, r2_score=0.6779, var_score=0.6785\n",
      "VAL loss=2.7372\n",
      "==========EPOCH 028===========\n"
     ]
    },
    {
     "name": "stderr",
     "output_type": "stream",
     "text": [
      "                                             \r"
     ]
    },
    {
     "name": "stdout",
     "output_type": "stream",
     "text": [
      "Trainning loss=2.1955\n"
     ]
    },
    {
     "name": "stderr",
     "output_type": "stream",
     "text": [
      " 11%|█         | 1/9 [00:00<00:01,  6.50it/s]"
     ]
    },
    {
     "name": "stdout",
     "output_type": "stream",
     "text": [
      "VAL: rmse=6.4026, mae=4.5724, mape=0.1511, acc=0.8689, r2_score=0.6712, var_score=0.6774\n",
      "VAL loss=2.7938\n",
      "==========EPOCH 029===========\n"
     ]
    },
    {
     "name": "stderr",
     "output_type": "stream",
     "text": [
      "                                             \r"
     ]
    },
    {
     "name": "stdout",
     "output_type": "stream",
     "text": [
      "Trainning loss=2.3688\n"
     ]
    },
    {
     "name": "stderr",
     "output_type": "stream",
     "text": [
      " 11%|█         | 1/9 [00:00<00:01,  6.34it/s]"
     ]
    },
    {
     "name": "stdout",
     "output_type": "stream",
     "text": [
      "VAL: rmse=6.6198, mae=4.8396, mape=0.1637, acc=0.8613, r2_score=0.6485, var_score=0.6794\n",
      "VAL loss=2.9869\n",
      "==========EPOCH 030===========\n"
     ]
    },
    {
     "name": "stderr",
     "output_type": "stream",
     "text": [
      "                                             \r"
     ]
    },
    {
     "name": "stdout",
     "output_type": "stream",
     "text": [
      "Trainning loss=4.5611\n"
     ]
    },
    {
     "name": "stderr",
     "output_type": "stream",
     "text": [
      " 11%|█         | 1/9 [00:00<00:01,  6.46it/s]"
     ]
    },
    {
     "name": "stdout",
     "output_type": "stream",
     "text": [
      "VAL: rmse=8.5893, mae=6.9936, mape=0.2324, acc=0.7995, r2_score=0.4083, var_score=0.4540\n",
      "VAL loss=5.0394\n",
      "==========EPOCH 031===========\n"
     ]
    },
    {
     "name": "stderr",
     "output_type": "stream",
     "text": [
      "                                             \r"
     ]
    },
    {
     "name": "stdout",
     "output_type": "stream",
     "text": [
      "Trainning loss=4.2672\n"
     ]
    },
    {
     "name": "stderr",
     "output_type": "stream",
     "text": [
      " 11%|█         | 1/9 [00:00<00:01,  6.56it/s]"
     ]
    },
    {
     "name": "stdout",
     "output_type": "stream",
     "text": [
      "VAL: rmse=7.0086, mae=5.1779, mape=0.1711, acc=0.8516, r2_score=0.6060, var_score=0.6180\n",
      "VAL loss=3.3497\n",
      "==========EPOCH 032===========\n"
     ]
    },
    {
     "name": "stderr",
     "output_type": "stream",
     "text": [
      "                                             \r"
     ]
    },
    {
     "name": "stdout",
     "output_type": "stream",
     "text": [
      "Trainning loss=3.0225\n"
     ]
    },
    {
     "name": "stderr",
     "output_type": "stream",
     "text": [
      " 11%|█         | 1/9 [00:00<00:01,  6.45it/s]"
     ]
    },
    {
     "name": "stdout",
     "output_type": "stream",
     "text": [
      "VAL: rmse=6.6069, mae=4.7598, mape=0.1474, acc=0.8636, r2_score=0.6499, var_score=0.6743\n",
      "VAL loss=2.9771\n",
      "==========EPOCH 033===========\n"
     ]
    },
    {
     "name": "stderr",
     "output_type": "stream",
     "text": [
      "                                             \r"
     ]
    },
    {
     "name": "stdout",
     "output_type": "stream",
     "text": [
      "Trainning loss=2.4365\n"
     ]
    },
    {
     "name": "stderr",
     "output_type": "stream",
     "text": [
      " 11%|█         | 1/9 [00:00<00:01,  6.41it/s]"
     ]
    },
    {
     "name": "stdout",
     "output_type": "stream",
     "text": [
      "VAL: rmse=6.4093, mae=4.5647, mape=0.1468, acc=0.8691, r2_score=0.6705, var_score=0.6711\n",
      "VAL loss=2.7989\n",
      "==========EPOCH 034===========\n"
     ]
    },
    {
     "name": "stderr",
     "output_type": "stream",
     "text": [
      "                                             \r"
     ]
    },
    {
     "name": "stdout",
     "output_type": "stream",
     "text": [
      "Trainning loss=2.2389\n"
     ]
    },
    {
     "name": "stderr",
     "output_type": "stream",
     "text": [
      " 11%|█         | 1/9 [00:00<00:01,  6.50it/s]"
     ]
    },
    {
     "name": "stdout",
     "output_type": "stream",
     "text": [
      "VAL: rmse=6.3848, mae=4.5508, mape=0.1498, acc=0.8695, r2_score=0.6730, var_score=0.6771\n",
      "VAL loss=2.7785\n",
      "==========EPOCH 035===========\n"
     ]
    },
    {
     "name": "stderr",
     "output_type": "stream",
     "text": [
      "                                             \r"
     ]
    },
    {
     "name": "stdout",
     "output_type": "stream",
     "text": [
      "Trainning loss=2.0964\n"
     ]
    },
    {
     "name": "stderr",
     "output_type": "stream",
     "text": [
      " 11%|█         | 1/9 [00:00<00:01,  6.60it/s]"
     ]
    },
    {
     "name": "stdout",
     "output_type": "stream",
     "text": [
      "VAL: rmse=6.2883, mae=4.4445, mape=0.1453, acc=0.8726, r2_score=0.6829, var_score=0.6838\n",
      "VAL loss=2.6945\n",
      "==========EPOCH 036===========\n"
     ]
    },
    {
     "name": "stderr",
     "output_type": "stream",
     "text": [
      "                                             \r"
     ]
    },
    {
     "name": "stdout",
     "output_type": "stream",
     "text": [
      "Trainning loss=2.0892\n"
     ]
    },
    {
     "name": "stderr",
     "output_type": "stream",
     "text": [
      " 11%|█         | 1/9 [00:00<00:01,  6.45it/s]"
     ]
    },
    {
     "name": "stdout",
     "output_type": "stream",
     "text": [
      "VAL: rmse=6.2673, mae=4.4128, mape=0.1426, acc=0.8735, r2_score=0.6850, var_score=0.6850\n",
      "VAL loss=2.6764\n",
      "==========EPOCH 037===========\n"
     ]
    },
    {
     "name": "stderr",
     "output_type": "stream",
     "text": [
      "                                             \r"
     ]
    },
    {
     "name": "stdout",
     "output_type": "stream",
     "text": [
      "Trainning loss=2.0280\n"
     ]
    },
    {
     "name": "stderr",
     "output_type": "stream",
     "text": [
      " 11%|█         | 1/9 [00:00<00:01,  5.20it/s]"
     ]
    },
    {
     "name": "stdout",
     "output_type": "stream",
     "text": [
      "VAL: rmse=6.2947, mae=4.4579, mape=0.1469, acc=0.8722, r2_score=0.6822, var_score=0.6857\n",
      "VAL loss=2.6999\n",
      "==========EPOCH 038===========\n"
     ]
    },
    {
     "name": "stderr",
     "output_type": "stream",
     "text": [
      "                                             \r"
     ]
    },
    {
     "name": "stdout",
     "output_type": "stream",
     "text": [
      "Trainning loss=2.1319\n"
     ]
    },
    {
     "name": "stderr",
     "output_type": "stream",
     "text": [
      " 11%|█         | 1/9 [00:00<00:01,  6.52it/s]"
     ]
    },
    {
     "name": "stdout",
     "output_type": "stream",
     "text": [
      "VAL: rmse=6.4222, mae=4.6135, mape=0.1535, acc=0.8678, r2_score=0.6692, var_score=0.6786\n",
      "VAL loss=2.8107\n",
      "==========EPOCH 039===========\n"
     ]
    },
    {
     "name": "stderr",
     "output_type": "stream",
     "text": [
      "                                             \r"
     ]
    },
    {
     "name": "stdout",
     "output_type": "stream",
     "text": [
      "Trainning loss=3.0688\n"
     ]
    },
    {
     "name": "stderr",
     "output_type": "stream",
     "text": [
      " 11%|█         | 1/9 [00:00<00:01,  6.51it/s]"
     ]
    },
    {
     "name": "stdout",
     "output_type": "stream",
     "text": [
      "VAL: rmse=7.9158, mae=6.2510, mape=0.2108, acc=0.8208, r2_score=0.4974, var_score=0.5657\n",
      "VAL loss=4.2742\n",
      "==========EPOCH 040===========\n"
     ]
    },
    {
     "name": "stderr",
     "output_type": "stream",
     "text": [
      "                                             \r"
     ]
    },
    {
     "name": "stdout",
     "output_type": "stream",
     "text": [
      "Trainning loss=3.9340\n"
     ]
    },
    {
     "name": "stderr",
     "output_type": "stream",
     "text": [
      " 11%|█         | 1/9 [00:00<00:01,  6.53it/s]"
     ]
    },
    {
     "name": "stdout",
     "output_type": "stream",
     "text": [
      "VAL: rmse=6.5603, mae=4.7163, mape=0.1466, acc=0.8648, r2_score=0.6548, var_score=0.6748\n",
      "VAL loss=2.9324\n",
      "==========EPOCH 041===========\n"
     ]
    },
    {
     "name": "stderr",
     "output_type": "stream",
     "text": [
      "                                             \r"
     ]
    },
    {
     "name": "stdout",
     "output_type": "stream",
     "text": [
      "Trainning loss=2.7200\n"
     ]
    },
    {
     "name": "stderr",
     "output_type": "stream",
     "text": [
      " 11%|█         | 1/9 [00:00<00:01,  5.80it/s]"
     ]
    },
    {
     "name": "stdout",
     "output_type": "stream",
     "text": [
      "VAL: rmse=6.6783, mae=4.9271, mape=0.1680, acc=0.8588, r2_score=0.6423, var_score=0.6840\n",
      "VAL loss=3.0401\n",
      "==========EPOCH 042===========\n"
     ]
    },
    {
     "name": "stderr",
     "output_type": "stream",
     "text": [
      "                                             \r"
     ]
    },
    {
     "name": "stdout",
     "output_type": "stream",
     "text": [
      "Trainning loss=2.3411\n"
     ]
    },
    {
     "name": "stderr",
     "output_type": "stream",
     "text": [
      " 11%|█         | 1/9 [00:00<00:01,  6.28it/s]"
     ]
    },
    {
     "name": "stdout",
     "output_type": "stream",
     "text": [
      "VAL: rmse=6.3731, mae=4.5084, mape=0.1415, acc=0.8708, r2_score=0.6742, var_score=0.6846\n",
      "VAL loss=2.7677\n",
      "==========EPOCH 043===========\n"
     ]
    },
    {
     "name": "stderr",
     "output_type": "stream",
     "text": [
      "                                             \r"
     ]
    },
    {
     "name": "stdout",
     "output_type": "stream",
     "text": [
      "Trainning loss=2.1012\n"
     ]
    },
    {
     "name": "stderr",
     "output_type": "stream",
     "text": [
      " 11%|█         | 1/9 [00:00<00:01,  6.61it/s]"
     ]
    },
    {
     "name": "stdout",
     "output_type": "stream",
     "text": [
      "VAL: rmse=6.3953, mae=4.5886, mape=0.1538, acc=0.8685, r2_score=0.6720, var_score=0.6864\n",
      "VAL loss=2.7869\n",
      "==========EPOCH 044===========\n"
     ]
    },
    {
     "name": "stderr",
     "output_type": "stream",
     "text": [
      "                                             \r"
     ]
    },
    {
     "name": "stdout",
     "output_type": "stream",
     "text": [
      "Trainning loss=2.3734\n"
     ]
    },
    {
     "name": "stderr",
     "output_type": "stream",
     "text": [
      " 11%|█         | 1/9 [00:00<00:01,  6.52it/s]"
     ]
    },
    {
     "name": "stdout",
     "output_type": "stream",
     "text": [
      "VAL: rmse=6.4878, mae=4.6587, mape=0.1540, acc=0.8665, r2_score=0.6624, var_score=0.6688\n",
      "VAL loss=2.8690\n",
      "==========EPOCH 045===========\n"
     ]
    },
    {
     "name": "stderr",
     "output_type": "stream",
     "text": [
      "                                             \r"
     ]
    },
    {
     "name": "stdout",
     "output_type": "stream",
     "text": [
      "Trainning loss=2.4403\n"
     ]
    },
    {
     "name": "stderr",
     "output_type": "stream",
     "text": [
      " 11%|█         | 1/9 [00:00<00:01,  6.55it/s]"
     ]
    },
    {
     "name": "stdout",
     "output_type": "stream",
     "text": [
      "VAL: rmse=6.4663, mae=4.6274, mape=0.1507, acc=0.8674, r2_score=0.6646, var_score=0.6654\n",
      "VAL loss=2.8501\n",
      "==========EPOCH 046===========\n"
     ]
    },
    {
     "name": "stderr",
     "output_type": "stream",
     "text": [
      "                                             \r"
     ]
    },
    {
     "name": "stdout",
     "output_type": "stream",
     "text": [
      "Trainning loss=2.2192\n"
     ]
    },
    {
     "name": "stderr",
     "output_type": "stream",
     "text": [
      " 11%|█         | 1/9 [00:00<00:01,  6.68it/s]"
     ]
    },
    {
     "name": "stdout",
     "output_type": "stream",
     "text": [
      "VAL: rmse=6.3251, mae=4.4920, mape=0.1488, acc=0.8712, r2_score=0.6791, var_score=0.6852\n",
      "VAL loss=2.7263\n",
      "==========EPOCH 047===========\n"
     ]
    },
    {
     "name": "stderr",
     "output_type": "stream",
     "text": [
      "                                             \r"
     ]
    },
    {
     "name": "stdout",
     "output_type": "stream",
     "text": [
      "Trainning loss=2.2171\n"
     ]
    },
    {
     "name": "stderr",
     "output_type": "stream",
     "text": [
      " 11%|█         | 1/9 [00:00<00:01,  6.61it/s]"
     ]
    },
    {
     "name": "stdout",
     "output_type": "stream",
     "text": [
      "VAL: rmse=6.6203, mae=4.8655, mape=0.1655, acc=0.8605, r2_score=0.6485, var_score=0.6842\n",
      "VAL loss=2.9870\n",
      "==========EPOCH 048===========\n"
     ]
    },
    {
     "name": "stderr",
     "output_type": "stream",
     "text": [
      "                                             \r"
     ]
    },
    {
     "name": "stdout",
     "output_type": "stream",
     "text": [
      "Trainning loss=3.4654\n"
     ]
    },
    {
     "name": "stderr",
     "output_type": "stream",
     "text": [
      " 11%|█         | 1/9 [00:00<00:01,  6.99it/s]"
     ]
    },
    {
     "name": "stdout",
     "output_type": "stream",
     "text": [
      "VAL: rmse=7.5128, mae=5.8189, mape=0.1990, acc=0.8332, r2_score=0.5473, var_score=0.6331\n",
      "VAL loss=3.8513\n",
      "==========EPOCH 049===========\n"
     ]
    },
    {
     "name": "stderr",
     "output_type": "stream",
     "text": [
      "                                             \r"
     ]
    },
    {
     "name": "stdout",
     "output_type": "stream",
     "text": [
      "Trainning loss=3.4962\n"
     ]
    },
    {
     "name": "stderr",
     "output_type": "stream",
     "text": [
      " 11%|█         | 1/9 [00:00<00:01,  6.78it/s]"
     ]
    },
    {
     "name": "stdout",
     "output_type": "stream",
     "text": [
      "VAL: rmse=7.1709, mae=5.2899, mape=0.1622, acc=0.8484, r2_score=0.5876, var_score=0.6328\n",
      "VAL loss=3.5075\n",
      "==========EPOCH 050===========\n"
     ]
    },
    {
     "name": "stderr",
     "output_type": "stream",
     "text": [
      "                                             \r"
     ]
    },
    {
     "name": "stdout",
     "output_type": "stream",
     "text": [
      "Trainning loss=2.6312\n"
     ]
    },
    {
     "name": "stderr",
     "output_type": "stream",
     "text": [
      " 11%|█         | 1/9 [00:00<00:01,  6.95it/s]"
     ]
    },
    {
     "name": "stdout",
     "output_type": "stream",
     "text": [
      "VAL: rmse=6.7335, mae=4.9693, mape=0.1691, acc=0.8576, r2_score=0.6364, var_score=0.6742\n",
      "VAL loss=3.0903\n",
      "==========EPOCH 051===========\n"
     ]
    },
    {
     "name": "stderr",
     "output_type": "stream",
     "text": [
      "                                             \r"
     ]
    },
    {
     "name": "stdout",
     "output_type": "stream",
     "text": [
      "Trainning loss=2.3790\n"
     ]
    },
    {
     "name": "stderr",
     "output_type": "stream",
     "text": [
      " 11%|█         | 1/9 [00:00<00:01,  6.91it/s]"
     ]
    },
    {
     "name": "stdout",
     "output_type": "stream",
     "text": [
      "VAL: rmse=6.3678, mae=4.4924, mape=0.1407, acc=0.8712, r2_score=0.6748, var_score=0.6857\n",
      "VAL loss=2.7631\n",
      "==========EPOCH 052===========\n"
     ]
    },
    {
     "name": "stderr",
     "output_type": "stream",
     "text": [
      "                                             \r"
     ]
    },
    {
     "name": "stdout",
     "output_type": "stream",
     "text": [
      "Trainning loss=2.0633\n"
     ]
    },
    {
     "name": "stderr",
     "output_type": "stream",
     "text": [
      " 11%|█         | 1/9 [00:00<00:01,  6.79it/s]"
     ]
    },
    {
     "name": "stdout",
     "output_type": "stream",
     "text": [
      "VAL: rmse=6.3767, mae=4.5674, mape=0.1531, acc=0.8691, r2_score=0.6739, var_score=0.6875\n",
      "VAL loss=2.7706\n",
      "==========EPOCH 053===========\n"
     ]
    },
    {
     "name": "stderr",
     "output_type": "stream",
     "text": [
      "                                             \r"
     ]
    },
    {
     "name": "stdout",
     "output_type": "stream",
     "text": [
      "Trainning loss=2.1949\n"
     ]
    },
    {
     "name": "stderr",
     "output_type": "stream",
     "text": [
      " 11%|█         | 1/9 [00:00<00:01,  6.56it/s]"
     ]
    },
    {
     "name": "stdout",
     "output_type": "stream",
     "text": [
      "VAL: rmse=6.3690, mae=4.5411, mape=0.1500, acc=0.8698, r2_score=0.6747, var_score=0.6792\n",
      "VAL loss=2.7642\n",
      "==========EPOCH 054===========\n"
     ]
    },
    {
     "name": "stderr",
     "output_type": "stream",
     "text": [
      "                                             \r"
     ]
    },
    {
     "name": "stdout",
     "output_type": "stream",
     "text": [
      "Trainning loss=2.5662\n"
     ]
    },
    {
     "name": "stderr",
     "output_type": "stream",
     "text": [
      " 11%|█         | 1/9 [00:00<00:01,  6.48it/s]"
     ]
    },
    {
     "name": "stdout",
     "output_type": "stream",
     "text": [
      "VAL: rmse=7.3063, mae=5.6066, mape=0.1862, acc=0.8393, r2_score=0.5719, var_score=0.5905\n",
      "VAL loss=3.6396\n",
      "==========EPOCH 055===========\n"
     ]
    },
    {
     "name": "stderr",
     "output_type": "stream",
     "text": [
      "                                             \r"
     ]
    },
    {
     "name": "stdout",
     "output_type": "stream",
     "text": [
      "Trainning loss=4.6376\n"
     ]
    },
    {
     "name": "stderr",
     "output_type": "stream",
     "text": [
      " 11%|█         | 1/9 [00:00<00:01,  6.46it/s]"
     ]
    },
    {
     "name": "stdout",
     "output_type": "stream",
     "text": [
      "VAL: rmse=6.5321, mae=4.7312, mape=0.1569, acc=0.8644, r2_score=0.6578, var_score=0.6663\n",
      "VAL loss=2.9120\n",
      "==========EPOCH 056===========\n"
     ]
    },
    {
     "name": "stderr",
     "output_type": "stream",
     "text": [
      "                                             \r"
     ]
    },
    {
     "name": "stdout",
     "output_type": "stream",
     "text": [
      "Trainning loss=2.6206\n"
     ]
    },
    {
     "name": "stderr",
     "output_type": "stream",
     "text": [
      " 11%|█         | 1/9 [00:00<00:01,  6.59it/s]"
     ]
    },
    {
     "name": "stdout",
     "output_type": "stream",
     "text": [
      "VAL: rmse=6.4585, mae=4.6080, mape=0.1492, acc=0.8679, r2_score=0.6655, var_score=0.6655\n",
      "VAL loss=2.8446\n",
      "==========EPOCH 057===========\n"
     ]
    },
    {
     "name": "stderr",
     "output_type": "stream",
     "text": [
      "                                             \r"
     ]
    },
    {
     "name": "stdout",
     "output_type": "stream",
     "text": [
      "Trainning loss=2.3165\n"
     ]
    },
    {
     "name": "stderr",
     "output_type": "stream",
     "text": [
      " 11%|█         | 1/9 [00:00<00:01,  6.27it/s]"
     ]
    },
    {
     "name": "stdout",
     "output_type": "stream",
     "text": [
      "VAL: rmse=6.3701, mae=4.5432, mape=0.1503, acc=0.8698, r2_score=0.6745, var_score=0.6797\n",
      "VAL loss=2.7660\n",
      "==========EPOCH 058===========\n"
     ]
    },
    {
     "name": "stderr",
     "output_type": "stream",
     "text": [
      "                                             \r"
     ]
    },
    {
     "name": "stdout",
     "output_type": "stream",
     "text": [
      "Trainning loss=2.0690\n"
     ]
    },
    {
     "name": "stderr",
     "output_type": "stream",
     "text": [
      " 11%|█         | 1/9 [00:00<00:01,  6.44it/s]"
     ]
    },
    {
     "name": "stdout",
     "output_type": "stream",
     "text": [
      "VAL: rmse=6.3198, mae=4.4547, mape=0.1444, acc=0.8723, r2_score=0.6797, var_score=0.6797\n",
      "VAL loss=2.7218\n",
      "==========EPOCH 059===========\n"
     ]
    },
    {
     "name": "stderr",
     "output_type": "stream",
     "text": [
      "                                             \r"
     ]
    },
    {
     "name": "stdout",
     "output_type": "stream",
     "text": [
      "Trainning loss=2.1260\n"
     ]
    },
    {
     "name": "stderr",
     "output_type": "stream",
     "text": [
      " 11%|█         | 1/9 [00:00<00:01,  6.56it/s]"
     ]
    },
    {
     "name": "stdout",
     "output_type": "stream",
     "text": [
      "VAL: rmse=6.4708, mae=4.6852, mape=0.1583, acc=0.8657, r2_score=0.6642, var_score=0.6867\n",
      "VAL loss=2.8535\n",
      "==========EPOCH 060===========\n"
     ]
    },
    {
     "name": "stderr",
     "output_type": "stream",
     "text": [
      "                                             \r"
     ]
    },
    {
     "name": "stdout",
     "output_type": "stream",
     "text": [
      "Trainning loss=2.2688\n"
     ]
    },
    {
     "name": "stderr",
     "output_type": "stream",
     "text": [
      " 11%|█         | 1/9 [00:00<00:01,  6.43it/s]"
     ]
    },
    {
     "name": "stdout",
     "output_type": "stream",
     "text": [
      "VAL: rmse=6.4634, mae=4.6365, mape=0.1546, acc=0.8671, r2_score=0.6649, var_score=0.6757\n",
      "VAL loss=2.8470\n",
      "==========EPOCH 061===========\n"
     ]
    },
    {
     "name": "stderr",
     "output_type": "stream",
     "text": [
      "                                             \r"
     ]
    },
    {
     "name": "stdout",
     "output_type": "stream",
     "text": [
      "Trainning loss=2.3811\n"
     ]
    },
    {
     "name": "stderr",
     "output_type": "stream",
     "text": [
      " 11%|█         | 1/9 [00:00<00:01,  6.66it/s]"
     ]
    },
    {
     "name": "stdout",
     "output_type": "stream",
     "text": [
      "VAL: rmse=6.5208, mae=4.7140, mape=0.1584, acc=0.8649, r2_score=0.6590, var_score=0.6772\n",
      "VAL loss=2.8982\n",
      "==========EPOCH 062===========\n"
     ]
    },
    {
     "name": "stderr",
     "output_type": "stream",
     "text": [
      "                                             \r"
     ]
    },
    {
     "name": "stdout",
     "output_type": "stream",
     "text": [
      "Trainning loss=2.3637\n"
     ]
    },
    {
     "name": "stderr",
     "output_type": "stream",
     "text": [
      " 11%|█         | 1/9 [00:00<00:01,  6.50it/s]"
     ]
    },
    {
     "name": "stdout",
     "output_type": "stream",
     "text": [
      "VAL: rmse=6.5090, mae=4.7316, mape=0.1603, acc=0.8644, r2_score=0.6602, var_score=0.6862\n",
      "VAL loss=2.8874\n",
      "==========EPOCH 063===========\n"
     ]
    },
    {
     "name": "stderr",
     "output_type": "stream",
     "text": [
      "                                             \r"
     ]
    },
    {
     "name": "stdout",
     "output_type": "stream",
     "text": [
      "Trainning loss=2.4068\n"
     ]
    },
    {
     "name": "stderr",
     "output_type": "stream",
     "text": [
      " 11%|█         | 1/9 [00:00<00:01,  6.54it/s]"
     ]
    },
    {
     "name": "stdout",
     "output_type": "stream",
     "text": [
      "VAL: rmse=6.5757, mae=4.8074, mape=0.1628, acc=0.8622, r2_score=0.6532, var_score=0.6811\n",
      "VAL loss=2.9472\n",
      "==========EPOCH 064===========\n"
     ]
    },
    {
     "name": "stderr",
     "output_type": "stream",
     "text": [
      "                                             \r"
     ]
    },
    {
     "name": "stdout",
     "output_type": "stream",
     "text": [
      "Trainning loss=2.4470\n"
     ]
    },
    {
     "name": "stderr",
     "output_type": "stream",
     "text": [
      " 11%|█         | 1/9 [00:00<00:01,  6.42it/s]"
     ]
    },
    {
     "name": "stdout",
     "output_type": "stream",
     "text": [
      "VAL: rmse=6.5164, mae=4.7356, mape=0.1599, acc=0.8643, r2_score=0.6594, var_score=0.6827\n",
      "VAL loss=2.8942\n",
      "==========EPOCH 065===========\n"
     ]
    },
    {
     "name": "stderr",
     "output_type": "stream",
     "text": [
      "                                             \r"
     ]
    },
    {
     "name": "stdout",
     "output_type": "stream",
     "text": [
      "Trainning loss=2.2669\n"
     ]
    },
    {
     "name": "stderr",
     "output_type": "stream",
     "text": [
      " 11%|█         | 1/9 [00:00<00:01,  6.57it/s]"
     ]
    },
    {
     "name": "stdout",
     "output_type": "stream",
     "text": [
      "VAL: rmse=6.4082, mae=4.6030, mape=0.1548, acc=0.8681, r2_score=0.6706, var_score=0.6872\n",
      "VAL loss=2.7984\n",
      "==========EPOCH 066===========\n"
     ]
    },
    {
     "name": "stderr",
     "output_type": "stream",
     "text": [
      "                                             \r"
     ]
    },
    {
     "name": "stdout",
     "output_type": "stream",
     "text": [
      "Trainning loss=2.3254\n"
     ]
    },
    {
     "name": "stderr",
     "output_type": "stream",
     "text": [
      " 11%|█         | 1/9 [00:00<00:01,  6.40it/s]"
     ]
    },
    {
     "name": "stdout",
     "output_type": "stream",
     "text": [
      "VAL: rmse=6.8170, mae=5.0342, mape=0.1706, acc=0.8557, r2_score=0.6273, var_score=0.6622\n",
      "VAL loss=3.1675\n",
      "==========EPOCH 067===========\n"
     ]
    },
    {
     "name": "stderr",
     "output_type": "stream",
     "text": [
      "                                             \r"
     ]
    },
    {
     "name": "stdout",
     "output_type": "stream",
     "text": [
      "Trainning loss=4.3102\n"
     ]
    },
    {
     "name": "stderr",
     "output_type": "stream",
     "text": [
      " 11%|█         | 1/9 [00:00<00:01,  6.32it/s]"
     ]
    },
    {
     "name": "stdout",
     "output_type": "stream",
     "text": [
      "VAL: rmse=7.5617, mae=5.7496, mape=0.1846, acc=0.8352, r2_score=0.5414, var_score=0.5414\n",
      "VAL loss=3.9041\n",
      "==========EPOCH 068===========\n"
     ]
    },
    {
     "name": "stderr",
     "output_type": "stream",
     "text": [
      "                                             \r"
     ]
    },
    {
     "name": "stdout",
     "output_type": "stream",
     "text": [
      "Trainning loss=3.8967\n"
     ]
    },
    {
     "name": "stderr",
     "output_type": "stream",
     "text": [
      " 11%|█         | 1/9 [00:00<00:01,  6.58it/s]"
     ]
    },
    {
     "name": "stdout",
     "output_type": "stream",
     "text": [
      "VAL: rmse=6.4796, mae=4.5884, mape=0.1418, acc=0.8685, r2_score=0.6633, var_score=0.6838\n",
      "VAL loss=2.8651\n",
      "==========EPOCH 069===========\n"
     ]
    },
    {
     "name": "stderr",
     "output_type": "stream",
     "text": [
      "                                             \r"
     ]
    },
    {
     "name": "stdout",
     "output_type": "stream",
     "text": [
      "Trainning loss=2.5533\n"
     ]
    },
    {
     "name": "stderr",
     "output_type": "stream",
     "text": [
      " 11%|█         | 1/9 [00:00<00:01,  6.54it/s]"
     ]
    },
    {
     "name": "stdout",
     "output_type": "stream",
     "text": [
      "VAL: rmse=6.5798, mae=4.7893, mape=0.1596, acc=0.8627, r2_score=0.6528, var_score=0.6639\n",
      "VAL loss=2.9513\n",
      "==========EPOCH 070===========\n"
     ]
    },
    {
     "name": "stderr",
     "output_type": "stream",
     "text": [
      "                                             \r"
     ]
    },
    {
     "name": "stdout",
     "output_type": "stream",
     "text": [
      "Trainning loss=2.2245\n"
     ]
    },
    {
     "name": "stderr",
     "output_type": "stream",
     "text": [
      " 11%|█         | 1/9 [00:00<00:01,  6.47it/s]"
     ]
    },
    {
     "name": "stdout",
     "output_type": "stream",
     "text": [
      "VAL: rmse=6.3837, mae=4.5243, mape=0.1483, acc=0.8703, r2_score=0.6732, var_score=0.6749\n",
      "VAL loss=2.7764\n",
      "==========EPOCH 071===========\n"
     ]
    },
    {
     "name": "stderr",
     "output_type": "stream",
     "text": [
      "                                             \r"
     ]
    },
    {
     "name": "stdout",
     "output_type": "stream",
     "text": [
      "Trainning loss=2.0839\n"
     ]
    },
    {
     "name": "stderr",
     "output_type": "stream",
     "text": [
      " 11%|█         | 1/9 [00:00<00:01,  5.86it/s]"
     ]
    },
    {
     "name": "stdout",
     "output_type": "stream",
     "text": [
      "VAL: rmse=6.2846, mae=4.3908, mape=0.1404, acc=0.8741, r2_score=0.6832, var_score=0.6845\n",
      "VAL loss=2.6911\n",
      "==========EPOCH 072===========\n"
     ]
    },
    {
     "name": "stderr",
     "output_type": "stream",
     "text": [
      "                                             \r"
     ]
    },
    {
     "name": "stdout",
     "output_type": "stream",
     "text": [
      "Trainning loss=2.0214\n"
     ]
    },
    {
     "name": "stderr",
     "output_type": "stream",
     "text": [
      " 11%|█         | 1/9 [00:00<00:01,  5.07it/s]"
     ]
    },
    {
     "name": "stdout",
     "output_type": "stream",
     "text": [
      "VAL: rmse=6.4145, mae=4.6084, mape=0.1549, acc=0.8679, r2_score=0.6700, var_score=0.6858\n",
      "VAL loss=2.8037\n",
      "==========EPOCH 073===========\n"
     ]
    },
    {
     "name": "stderr",
     "output_type": "stream",
     "text": [
      "                                             \r"
     ]
    },
    {
     "name": "stdout",
     "output_type": "stream",
     "text": [
      "Trainning loss=2.2041\n"
     ]
    },
    {
     "name": "stderr",
     "output_type": "stream",
     "text": [
      " 11%|█         | 1/9 [00:00<00:01,  6.12it/s]"
     ]
    },
    {
     "name": "stdout",
     "output_type": "stream",
     "text": [
      "VAL: rmse=6.4880, mae=4.6761, mape=0.1554, acc=0.8660, r2_score=0.6624, var_score=0.6712\n",
      "VAL loss=2.8687\n",
      "==========EPOCH 074===========\n"
     ]
    },
    {
     "name": "stderr",
     "output_type": "stream",
     "text": [
      "                                             \r"
     ]
    },
    {
     "name": "stdout",
     "output_type": "stream",
     "text": [
      "Trainning loss=2.4433\n"
     ]
    },
    {
     "name": "stderr",
     "output_type": "stream",
     "text": [
      "\r",
      "  0%|          | 0/9 [00:00<?, ?it/s]"
     ]
    },
    {
     "name": "stdout",
     "output_type": "stream",
     "text": [
      "VAL: rmse=6.7016, mae=4.9445, mape=0.1672, acc=0.8583, r2_score=0.6398, var_score=0.6695\n",
      "VAL loss=3.0613\n",
      "==========EPOCH 075===========\n"
     ]
    },
    {
     "name": "stderr",
     "output_type": "stream",
     "text": [
      "                                             \r"
     ]
    },
    {
     "name": "stdout",
     "output_type": "stream",
     "text": [
      "Trainning loss=2.6898\n"
     ]
    },
    {
     "name": "stderr",
     "output_type": "stream",
     "text": [
      "\r",
      "  0%|          | 0/9 [00:00<?, ?it/s]"
     ]
    },
    {
     "name": "stdout",
     "output_type": "stream",
     "text": [
      "VAL: rmse=6.6322, mae=4.8480, mape=0.1619, acc=0.8610, r2_score=0.6472, var_score=0.6617\n",
      "VAL loss=2.9985\n",
      "==========EPOCH 076===========\n"
     ]
    },
    {
     "name": "stderr",
     "output_type": "stream",
     "text": [
      "                                             \r"
     ]
    },
    {
     "name": "stdout",
     "output_type": "stream",
     "text": [
      "Trainning loss=2.2539\n"
     ]
    },
    {
     "name": "stderr",
     "output_type": "stream",
     "text": [
      "\r",
      "  0%|          | 0/9 [00:00<?, ?it/s]"
     ]
    },
    {
     "name": "stdout",
     "output_type": "stream",
     "text": [
      "VAL: rmse=6.2972, mae=4.4438, mape=0.1471, acc=0.8726, r2_score=0.6820, var_score=0.6867\n",
      "VAL loss=2.7019\n",
      "==========EPOCH 077===========\n"
     ]
    },
    {
     "name": "stderr",
     "output_type": "stream",
     "text": [
      "                                             \r"
     ]
    },
    {
     "name": "stdout",
     "output_type": "stream",
     "text": [
      "Trainning loss=1.9504\n"
     ]
    },
    {
     "name": "stderr",
     "output_type": "stream",
     "text": [
      " 11%|█         | 1/9 [00:00<00:01,  5.33it/s]"
     ]
    },
    {
     "name": "stdout",
     "output_type": "stream",
     "text": [
      "VAL: rmse=6.2707, mae=4.3974, mape=0.1443, acc=0.8739, r2_score=0.6846, var_score=0.6863\n",
      "VAL loss=2.6791\n",
      "==========EPOCH 078===========\n"
     ]
    },
    {
     "name": "stderr",
     "output_type": "stream",
     "text": [
      "                                             \r"
     ]
    },
    {
     "name": "stdout",
     "output_type": "stream",
     "text": [
      "Trainning loss=1.9476\n"
     ]
    },
    {
     "name": "stderr",
     "output_type": "stream",
     "text": [
      " 11%|█         | 1/9 [00:00<00:01,  5.90it/s]"
     ]
    },
    {
     "name": "stdout",
     "output_type": "stream",
     "text": [
      "VAL: rmse=6.2871, mae=4.4224, mape=0.1459, acc=0.8732, r2_score=0.6830, var_score=0.6862\n",
      "VAL loss=2.6931\n",
      "==========EPOCH 079===========\n"
     ]
    },
    {
     "name": "stderr",
     "output_type": "stream",
     "text": [
      "                                             \r"
     ]
    },
    {
     "name": "stdout",
     "output_type": "stream",
     "text": [
      "Trainning loss=2.0251\n"
     ]
    },
    {
     "name": "stderr",
     "output_type": "stream",
     "text": [
      " 11%|█         | 1/9 [00:00<00:01,  6.29it/s]"
     ]
    },
    {
     "name": "stdout",
     "output_type": "stream",
     "text": [
      "VAL: rmse=6.4238, mae=4.6159, mape=0.1554, acc=0.8677, r2_score=0.6690, var_score=0.6864\n",
      "VAL loss=2.8117\n",
      "==========EPOCH 080===========\n"
     ]
    },
    {
     "name": "stderr",
     "output_type": "stream",
     "text": [
      "                                             \r"
     ]
    },
    {
     "name": "stdout",
     "output_type": "stream",
     "text": [
      "Trainning loss=2.8492\n"
     ]
    },
    {
     "name": "stderr",
     "output_type": "stream",
     "text": [
      "\r",
      "  0%|          | 0/9 [00:00<?, ?it/s]"
     ]
    },
    {
     "name": "stdout",
     "output_type": "stream",
     "text": [
      "VAL: rmse=7.9080, mae=6.2352, mape=0.2146, acc=0.8213, r2_score=0.4984, var_score=0.6262\n",
      "VAL loss=4.2644\n",
      "==========EPOCH 081===========\n"
     ]
    },
    {
     "name": "stderr",
     "output_type": "stream",
     "text": [
      "                                             \r"
     ]
    },
    {
     "name": "stdout",
     "output_type": "stream",
     "text": [
      "Trainning loss=6.8779\n"
     ]
    },
    {
     "name": "stderr",
     "output_type": "stream",
     "text": [
      "\r",
      "  0%|          | 0/9 [00:00<?, ?it/s]"
     ]
    },
    {
     "name": "stdout",
     "output_type": "stream",
     "text": [
      "VAL: rmse=7.6881, mae=5.7352, mape=0.1776, acc=0.8356, r2_score=0.5259, var_score=0.5621\n",
      "VAL loss=4.0371\n",
      "==========EPOCH 082===========\n"
     ]
    },
    {
     "name": "stderr",
     "output_type": "stream",
     "text": [
      "                                             \r"
     ]
    },
    {
     "name": "stdout",
     "output_type": "stream",
     "text": [
      "Trainning loss=3.6986\n"
     ]
    },
    {
     "name": "stderr",
     "output_type": "stream",
     "text": [
      " 11%|█         | 1/9 [00:00<00:01,  5.38it/s]"
     ]
    },
    {
     "name": "stdout",
     "output_type": "stream",
     "text": [
      "VAL: rmse=7.2259, mae=5.5365, mape=0.1912, acc=0.8413, r2_score=0.5812, var_score=0.6647\n",
      "VAL loss=3.5607\n",
      "==========EPOCH 083===========\n"
     ]
    },
    {
     "name": "stderr",
     "output_type": "stream",
     "text": [
      "                                             \r"
     ]
    },
    {
     "name": "stdout",
     "output_type": "stream",
     "text": [
      "Trainning loss=2.7764\n"
     ]
    },
    {
     "name": "stderr",
     "output_type": "stream",
     "text": [
      "\r",
      "  0%|          | 0/9 [00:00<?, ?it/s]"
     ]
    },
    {
     "name": "stdout",
     "output_type": "stream",
     "text": [
      "VAL: rmse=6.4467, mae=4.5434, mape=0.1410, acc=0.8698, r2_score=0.6667, var_score=0.6830\n",
      "VAL loss=2.8339\n",
      "==========EPOCH 084===========\n"
     ]
    },
    {
     "name": "stderr",
     "output_type": "stream",
     "text": [
      "                                             \r"
     ]
    },
    {
     "name": "stdout",
     "output_type": "stream",
     "text": [
      "Trainning loss=2.2274\n"
     ]
    },
    {
     "name": "stderr",
     "output_type": "stream",
     "text": [
      "\r",
      "  0%|          | 0/9 [00:00<?, ?it/s]"
     ]
    },
    {
     "name": "stdout",
     "output_type": "stream",
     "text": [
      "VAL: rmse=6.2797, mae=4.3834, mape=0.1412, acc=0.8743, r2_score=0.6837, var_score=0.6839\n",
      "VAL loss=2.6867\n",
      "==========EPOCH 085===========\n"
     ]
    },
    {
     "name": "stderr",
     "output_type": "stream",
     "text": [
      "                                             \r"
     ]
    },
    {
     "name": "stdout",
     "output_type": "stream",
     "text": [
      "Trainning loss=2.0118\n"
     ]
    },
    {
     "name": "stderr",
     "output_type": "stream",
     "text": [
      " 11%|█         | 1/9 [00:00<00:01,  5.79it/s]"
     ]
    },
    {
     "name": "stdout",
     "output_type": "stream",
     "text": [
      "VAL: rmse=6.3756, mae=4.5403, mape=0.1517, acc=0.8698, r2_score=0.6740, var_score=0.6846\n",
      "VAL loss=2.7694\n",
      "==========EPOCH 086===========\n"
     ]
    },
    {
     "name": "stderr",
     "output_type": "stream",
     "text": [
      "                                             \r"
     ]
    },
    {
     "name": "stdout",
     "output_type": "stream",
     "text": [
      "Trainning loss=1.9819\n"
     ]
    },
    {
     "name": "stderr",
     "output_type": "stream",
     "text": [
      " 11%|█         | 1/9 [00:00<00:01,  5.46it/s]"
     ]
    },
    {
     "name": "stdout",
     "output_type": "stream",
     "text": [
      "VAL: rmse=6.2739, mae=4.3697, mape=0.1400, acc=0.8747, r2_score=0.6843, var_score=0.6852\n",
      "VAL loss=2.6818\n",
      "==========EPOCH 087===========\n"
     ]
    },
    {
     "name": "stderr",
     "output_type": "stream",
     "text": [
      "                                             \r"
     ]
    },
    {
     "name": "stdout",
     "output_type": "stream",
     "text": [
      "Trainning loss=1.9380\n"
     ]
    },
    {
     "name": "stderr",
     "output_type": "stream",
     "text": [
      "\r",
      "  0%|          | 0/9 [00:00<?, ?it/s]"
     ]
    },
    {
     "name": "stdout",
     "output_type": "stream",
     "text": [
      "VAL: rmse=6.2662, mae=4.3880, mape=0.1440, acc=0.8742, r2_score=0.6851, var_score=0.6867\n",
      "VAL loss=2.6752\n",
      "==========EPOCH 088===========\n"
     ]
    },
    {
     "name": "stderr",
     "output_type": "stream",
     "text": [
      "                                             \r"
     ]
    },
    {
     "name": "stdout",
     "output_type": "stream",
     "text": [
      "Trainning loss=1.8980\n"
     ]
    },
    {
     "name": "stderr",
     "output_type": "stream",
     "text": [
      "\r",
      "  0%|          | 0/9 [00:00<?, ?it/s]"
     ]
    },
    {
     "name": "stdout",
     "output_type": "stream",
     "text": [
      "VAL: rmse=6.2548, mae=4.3678, mape=0.1426, acc=0.8748, r2_score=0.6862, var_score=0.6868\n",
      "VAL loss=2.6653\n",
      "==========EPOCH 089===========\n"
     ]
    },
    {
     "name": "stderr",
     "output_type": "stream",
     "text": [
      "                                             \r"
     ]
    },
    {
     "name": "stdout",
     "output_type": "stream",
     "text": [
      "Trainning loss=1.9164\n"
     ]
    },
    {
     "name": "stderr",
     "output_type": "stream",
     "text": [
      "\r",
      "  0%|          | 0/9 [00:00<?, ?it/s]"
     ]
    },
    {
     "name": "stdout",
     "output_type": "stream",
     "text": [
      "VAL: rmse=6.2575, mae=4.3713, mape=0.1428, acc=0.8747, r2_score=0.6859, var_score=0.6867\n",
      "VAL loss=2.6677\n",
      "==========EPOCH 090===========\n"
     ]
    },
    {
     "name": "stderr",
     "output_type": "stream",
     "text": [
      "                                             \r"
     ]
    },
    {
     "name": "stdout",
     "output_type": "stream",
     "text": [
      "Trainning loss=1.8947\n"
     ]
    },
    {
     "name": "stderr",
     "output_type": "stream",
     "text": [
      "\r",
      "  0%|          | 0/9 [00:00<?, ?it/s]"
     ]
    },
    {
     "name": "stdout",
     "output_type": "stream",
     "text": [
      "VAL: rmse=6.2580, mae=4.3732, mape=0.1431, acc=0.8746, r2_score=0.6859, var_score=0.6868\n",
      "VAL loss=2.6681\n",
      "==========EPOCH 091===========\n"
     ]
    },
    {
     "name": "stderr",
     "output_type": "stream",
     "text": [
      "                                             \r"
     ]
    },
    {
     "name": "stdout",
     "output_type": "stream",
     "text": [
      "Trainning loss=1.9145\n"
     ]
    },
    {
     "name": "stderr",
     "output_type": "stream",
     "text": [
      " 11%|█         | 1/9 [00:00<00:01,  5.77it/s]"
     ]
    },
    {
     "name": "stdout",
     "output_type": "stream",
     "text": [
      "VAL: rmse=6.2713, mae=4.3956, mape=0.1446, acc=0.8740, r2_score=0.6846, var_score=0.6868\n",
      "VAL loss=2.6794\n",
      "==========EPOCH 092===========\n"
     ]
    },
    {
     "name": "stderr",
     "output_type": "stream",
     "text": [
      "                                             \r"
     ]
    },
    {
     "name": "stdout",
     "output_type": "stream",
     "text": [
      "Trainning loss=1.9158\n"
     ]
    },
    {
     "name": "stderr",
     "output_type": "stream",
     "text": [
      " 11%|█         | 1/9 [00:00<00:01,  5.48it/s]"
     ]
    },
    {
     "name": "stdout",
     "output_type": "stream",
     "text": [
      "VAL: rmse=6.2709, mae=4.3922, mape=0.1443, acc=0.8741, r2_score=0.6846, var_score=0.6865\n",
      "VAL loss=2.6791\n",
      "==========EPOCH 093===========\n"
     ]
    },
    {
     "name": "stderr",
     "output_type": "stream",
     "text": [
      "                                             \r"
     ]
    },
    {
     "name": "stdout",
     "output_type": "stream",
     "text": [
      "Trainning loss=1.9402\n"
     ]
    },
    {
     "name": "stderr",
     "output_type": "stream",
     "text": [
      "\r",
      "  0%|          | 0/9 [00:00<?, ?it/s]"
     ]
    },
    {
     "name": "stdout",
     "output_type": "stream",
     "text": [
      "VAL: rmse=6.3119, mae=4.4509, mape=0.1474, acc=0.8724, r2_score=0.6805, var_score=0.6854\n",
      "VAL loss=2.7143\n",
      "==========EPOCH 094===========\n"
     ]
    },
    {
     "name": "stderr",
     "output_type": "stream",
     "text": [
      "                                             \r"
     ]
    },
    {
     "name": "stdout",
     "output_type": "stream",
     "text": [
      "Trainning loss=2.0597\n"
     ]
    },
    {
     "name": "stderr",
     "output_type": "stream",
     "text": [
      "\r",
      "  0%|          | 0/9 [00:00<?, ?it/s]"
     ]
    },
    {
     "name": "stdout",
     "output_type": "stream",
     "text": [
      "VAL: rmse=6.4440, mae=4.6127, mape=0.1543, acc=0.8678, r2_score=0.6670, var_score=0.6789\n",
      "VAL loss=2.8295\n",
      "==========EPOCH 095===========\n"
     ]
    },
    {
     "name": "stderr",
     "output_type": "stream",
     "text": [
      "                                             \r"
     ]
    },
    {
     "name": "stdout",
     "output_type": "stream",
     "text": [
      "Trainning loss=2.4709\n"
     ]
    },
    {
     "name": "stderr",
     "output_type": "stream",
     "text": [
      " 11%|█         | 1/9 [00:00<00:01,  6.51it/s]"
     ]
    },
    {
     "name": "stdout",
     "output_type": "stream",
     "text": [
      "VAL: rmse=6.8557, mae=5.0306, mape=0.1678, acc=0.8558, r2_score=0.6230, var_score=0.6391\n",
      "VAL loss=3.2040\n",
      "==========EPOCH 096===========\n"
     ]
    },
    {
     "name": "stderr",
     "output_type": "stream",
     "text": [
      "                                             \r"
     ]
    },
    {
     "name": "stdout",
     "output_type": "stream",
     "text": [
      "Trainning loss=3.3281\n"
     ]
    },
    {
     "name": "stderr",
     "output_type": "stream",
     "text": [
      "\r",
      "  0%|          | 0/9 [00:00<?, ?it/s]"
     ]
    },
    {
     "name": "stdout",
     "output_type": "stream",
     "text": [
      "VAL: rmse=7.3207, mae=5.5261, mape=0.1726, acc=0.8416, r2_score=0.5702, var_score=0.5859\n",
      "VAL loss=3.6552\n",
      "==========EPOCH 097===========\n"
     ]
    },
    {
     "name": "stderr",
     "output_type": "stream",
     "text": [
      "                                             \r"
     ]
    },
    {
     "name": "stdout",
     "output_type": "stream",
     "text": [
      "Trainning loss=4.4900\n"
     ]
    },
    {
     "name": "stderr",
     "output_type": "stream",
     "text": [
      "\r",
      "  0%|          | 0/9 [00:00<?, ?it/s]"
     ]
    },
    {
     "name": "stdout",
     "output_type": "stream",
     "text": [
      "VAL: rmse=6.9322, mae=5.0470, mape=0.1524, acc=0.8553, r2_score=0.6146, var_score=0.6679\n",
      "VAL loss=3.2806\n",
      "==========EPOCH 098===========\n"
     ]
    },
    {
     "name": "stderr",
     "output_type": "stream",
     "text": [
      "                                             \r"
     ]
    },
    {
     "name": "stdout",
     "output_type": "stream",
     "text": [
      "Trainning loss=2.6187\n"
     ]
    },
    {
     "name": "stderr",
     "output_type": "stream",
     "text": [
      "\r",
      "  0%|          | 0/9 [00:00<?, ?it/s]"
     ]
    },
    {
     "name": "stdout",
     "output_type": "stream",
     "text": [
      "VAL: rmse=6.8930, mae=5.1762, mape=0.1776, acc=0.8516, r2_score=0.6189, var_score=0.6731\n",
      "VAL loss=3.2406\n",
      "==========EPOCH 099===========\n"
     ]
    },
    {
     "name": "stderr",
     "output_type": "stream",
     "text": [
      "                                             \r"
     ]
    },
    {
     "name": "stdout",
     "output_type": "stream",
     "text": [
      "Trainning loss=2.2599\n"
     ]
    },
    {
     "name": "stderr",
     "output_type": "stream",
     "text": [
      "\r",
      "  0%|          | 0/9 [00:00<?, ?it/s]"
     ]
    },
    {
     "name": "stdout",
     "output_type": "stream",
     "text": [
      "VAL: rmse=6.4585, mae=4.5575, mape=0.1423, acc=0.8694, r2_score=0.6655, var_score=0.6777\n",
      "VAL loss=2.8429\n",
      "==========EPOCH 100===========\n"
     ]
    },
    {
     "name": "stderr",
     "output_type": "stream",
     "text": [
      "                                             \r"
     ]
    },
    {
     "name": "stdout",
     "output_type": "stream",
     "text": [
      "Trainning loss=2.0616\n"
     ]
    },
    {
     "name": "stderr",
     "output_type": "stream",
     "text": [
      "\r",
      "  0%|          | 0/9 [00:00<?, ?it/s]"
     ]
    },
    {
     "name": "stdout",
     "output_type": "stream",
     "text": [
      "VAL: rmse=6.4315, mae=4.6210, mape=0.1555, acc=0.8675, r2_score=0.6682, var_score=0.6852\n",
      "VAL loss=2.8186\n",
      "==========EPOCH 101===========\n"
     ]
    },
    {
     "name": "stderr",
     "output_type": "stream",
     "text": [
      "                                             \r"
     ]
    },
    {
     "name": "stdout",
     "output_type": "stream",
     "text": [
      "Trainning loss=1.9864\n"
     ]
    },
    {
     "name": "stderr",
     "output_type": "stream",
     "text": [
      "\r",
      "  0%|          | 0/9 [00:00<?, ?it/s]"
     ]
    },
    {
     "name": "stdout",
     "output_type": "stream",
     "text": [
      "VAL: rmse=6.2743, mae=4.3627, mape=0.1396, acc=0.8749, r2_score=0.6843, var_score=0.6854\n",
      "VAL loss=2.6820\n",
      "==========EPOCH 102===========\n"
     ]
    },
    {
     "name": "stderr",
     "output_type": "stream",
     "text": [
      "                                             \r"
     ]
    },
    {
     "name": "stdout",
     "output_type": "stream",
     "text": [
      "Trainning loss=1.9161\n"
     ]
    },
    {
     "name": "stderr",
     "output_type": "stream",
     "text": [
      " 11%|█         | 1/9 [00:00<00:01,  5.08it/s]"
     ]
    },
    {
     "name": "stdout",
     "output_type": "stream",
     "text": [
      "VAL: rmse=6.3148, mae=4.4554, mape=0.1478, acc=0.8723, r2_score=0.6802, var_score=0.6856\n",
      "VAL loss=2.7167\n",
      "==========EPOCH 103===========\n"
     ]
    },
    {
     "name": "stderr",
     "output_type": "stream",
     "text": [
      "                                             \r"
     ]
    },
    {
     "name": "stdout",
     "output_type": "stream",
     "text": [
      "Trainning loss=2.0263\n"
     ]
    },
    {
     "name": "stderr",
     "output_type": "stream",
     "text": [
      "\r",
      "  0%|          | 0/9 [00:00<?, ?it/s]"
     ]
    },
    {
     "name": "stdout",
     "output_type": "stream",
     "text": [
      "VAL: rmse=6.3316, mae=4.4694, mape=0.1480, acc=0.8719, r2_score=0.6785, var_score=0.6834\n",
      "VAL loss=2.7315\n",
      "==========EPOCH 104===========\n"
     ]
    },
    {
     "name": "stderr",
     "output_type": "stream",
     "text": [
      "                                             \r"
     ]
    },
    {
     "name": "stdout",
     "output_type": "stream",
     "text": [
      "Trainning loss=2.0278\n"
     ]
    },
    {
     "name": "stderr",
     "output_type": "stream",
     "text": [
      " 11%|█         | 1/9 [00:00<00:01,  5.08it/s]"
     ]
    },
    {
     "name": "stdout",
     "output_type": "stream",
     "text": [
      "VAL: rmse=6.3921, mae=4.5208, mape=0.1486, acc=0.8704, r2_score=0.6723, var_score=0.6748\n",
      "VAL loss=2.7840\n",
      "==========EPOCH 105===========\n"
     ]
    },
    {
     "name": "stderr",
     "output_type": "stream",
     "text": [
      "                                             \r"
     ]
    },
    {
     "name": "stdout",
     "output_type": "stream",
     "text": [
      "Trainning loss=2.3472\n"
     ]
    },
    {
     "name": "stderr",
     "output_type": "stream",
     "text": [
      " 11%|█         | 1/9 [00:00<00:01,  6.42it/s]"
     ]
    },
    {
     "name": "stdout",
     "output_type": "stream",
     "text": [
      "VAL: rmse=6.7650, mae=4.9219, mape=0.1629, acc=0.8589, r2_score=0.6329, var_score=0.6417\n",
      "VAL loss=3.1195\n",
      "==========EPOCH 106===========\n"
     ]
    },
    {
     "name": "stderr",
     "output_type": "stream",
     "text": [
      "                                             \r"
     ]
    },
    {
     "name": "stdout",
     "output_type": "stream",
     "text": [
      "Trainning loss=2.9053\n"
     ]
    },
    {
     "name": "stderr",
     "output_type": "stream",
     "text": [
      " 11%|█         | 1/9 [00:00<00:01,  6.39it/s]"
     ]
    },
    {
     "name": "stdout",
     "output_type": "stream",
     "text": [
      "VAL: rmse=6.6229, mae=4.7570, mape=0.1546, acc=0.8636, r2_score=0.6482, var_score=0.6488\n",
      "VAL loss=2.9906\n",
      "==========EPOCH 107===========\n"
     ]
    },
    {
     "name": "stderr",
     "output_type": "stream",
     "text": [
      "                                             \r"
     ]
    },
    {
     "name": "stdout",
     "output_type": "stream",
     "text": [
      "Trainning loss=2.1473\n"
     ]
    },
    {
     "name": "stderr",
     "output_type": "stream",
     "text": [
      "\r",
      "  0%|          | 0/9 [00:00<?, ?it/s]"
     ]
    },
    {
     "name": "stdout",
     "output_type": "stream",
     "text": [
      "VAL: rmse=6.3360, mae=4.4187, mape=0.1395, acc=0.8733, r2_score=0.6780, var_score=0.6834\n",
      "VAL loss=2.7353\n",
      "==========EPOCH 108===========\n"
     ]
    },
    {
     "name": "stderr",
     "output_type": "stream",
     "text": [
      "                                             \r"
     ]
    },
    {
     "name": "stdout",
     "output_type": "stream",
     "text": [
      "Trainning loss=1.9446\n"
     ]
    },
    {
     "name": "stderr",
     "output_type": "stream",
     "text": [
      " 11%|█         | 1/9 [00:00<00:01,  5.66it/s]"
     ]
    },
    {
     "name": "stdout",
     "output_type": "stream",
     "text": [
      "VAL: rmse=6.2768, mae=4.3987, mape=0.1448, acc=0.8739, r2_score=0.6840, var_score=0.6863\n",
      "VAL loss=2.6840\n",
      "==========EPOCH 109===========\n"
     ]
    },
    {
     "name": "stderr",
     "output_type": "stream",
     "text": [
      "                                             \r"
     ]
    },
    {
     "name": "stdout",
     "output_type": "stream",
     "text": [
      "Trainning loss=2.2507\n"
     ]
    },
    {
     "name": "stderr",
     "output_type": "stream",
     "text": [
      " 11%|█         | 1/9 [00:00<00:01,  5.12it/s]"
     ]
    },
    {
     "name": "stdout",
     "output_type": "stream",
     "text": [
      "VAL: rmse=7.0030, mae=5.2996, mape=0.1824, acc=0.8481, r2_score=0.6067, var_score=0.6742\n",
      "VAL loss=3.3427\n",
      "==========EPOCH 110===========\n"
     ]
    },
    {
     "name": "stderr",
     "output_type": "stream",
     "text": [
      "                                             \r"
     ]
    },
    {
     "name": "stdout",
     "output_type": "stream",
     "text": [
      "Trainning loss=5.1237\n"
     ]
    },
    {
     "name": "stderr",
     "output_type": "stream",
     "text": [
      "\r",
      "  0%|          | 0/9 [00:00<?, ?it/s]"
     ]
    },
    {
     "name": "stdout",
     "output_type": "stream",
     "text": [
      "VAL: rmse=8.1691, mae=6.5279, mape=0.2210, acc=0.8129, r2_score=0.4648, var_score=0.5580\n",
      "VAL loss=4.5586\n",
      "==========EPOCH 111===========\n"
     ]
    },
    {
     "name": "stderr",
     "output_type": "stream",
     "text": [
      "                                             \r"
     ]
    },
    {
     "name": "stdout",
     "output_type": "stream",
     "text": [
      "Trainning loss=3.4192\n"
     ]
    },
    {
     "name": "stderr",
     "output_type": "stream",
     "text": [
      "\r",
      "  0%|          | 0/9 [00:00<?, ?it/s]"
     ]
    },
    {
     "name": "stdout",
     "output_type": "stream",
     "text": [
      "VAL: rmse=6.7550, mae=4.8718, mape=0.1496, acc=0.8603, r2_score=0.6340, var_score=0.6635\n",
      "VAL loss=3.1123\n",
      "==========EPOCH 112===========\n"
     ]
    },
    {
     "name": "stderr",
     "output_type": "stream",
     "text": [
      "                                             \r"
     ]
    },
    {
     "name": "stdout",
     "output_type": "stream",
     "text": [
      "Trainning loss=2.5907\n"
     ]
    },
    {
     "name": "stderr",
     "output_type": "stream",
     "text": [
      " 11%|█         | 1/9 [00:00<00:01,  5.13it/s]"
     ]
    },
    {
     "name": "stdout",
     "output_type": "stream",
     "text": [
      "VAL: rmse=6.4663, mae=4.6637, mape=0.1575, acc=0.8663, r2_score=0.6646, var_score=0.6846\n",
      "VAL loss=2.8509\n",
      "==========EPOCH 113===========\n"
     ]
    },
    {
     "name": "stderr",
     "output_type": "stream",
     "text": [
      "                                             \r"
     ]
    },
    {
     "name": "stdout",
     "output_type": "stream",
     "text": [
      "Trainning loss=2.0719\n"
     ]
    },
    {
     "name": "stderr",
     "output_type": "stream",
     "text": [
      " 11%|█         | 1/9 [00:00<00:01,  5.30it/s]"
     ]
    },
    {
     "name": "stdout",
     "output_type": "stream",
     "text": [
      "VAL: rmse=6.2843, mae=4.3702, mape=0.1400, acc=0.8747, r2_score=0.6833, var_score=0.6841\n",
      "VAL loss=2.6911\n",
      "==========EPOCH 114===========\n"
     ]
    },
    {
     "name": "stderr",
     "output_type": "stream",
     "text": [
      "                                             \r"
     ]
    },
    {
     "name": "stdout",
     "output_type": "stream",
     "text": [
      "Trainning loss=2.0174\n"
     ]
    },
    {
     "name": "stderr",
     "output_type": "stream",
     "text": [
      " 11%|█         | 1/9 [00:00<00:01,  5.50it/s]"
     ]
    },
    {
     "name": "stdout",
     "output_type": "stream",
     "text": [
      "VAL: rmse=6.3004, mae=4.4174, mape=0.1449, acc=0.8734, r2_score=0.6816, var_score=0.6833\n",
      "VAL loss=2.7046\n",
      "==========EPOCH 115===========\n"
     ]
    },
    {
     "name": "stderr",
     "output_type": "stream",
     "text": [
      "                                             \r"
     ]
    },
    {
     "name": "stdout",
     "output_type": "stream",
     "text": [
      "Trainning loss=1.9407\n"
     ]
    },
    {
     "name": "stderr",
     "output_type": "stream",
     "text": [
      " 11%|█         | 1/9 [00:00<00:01,  5.31it/s]"
     ]
    },
    {
     "name": "stdout",
     "output_type": "stream",
     "text": [
      "VAL: rmse=6.2638, mae=4.3728, mape=0.1431, acc=0.8747, r2_score=0.6853, var_score=0.6863\n",
      "VAL loss=2.6729\n",
      "==========EPOCH 116===========\n"
     ]
    },
    {
     "name": "stderr",
     "output_type": "stream",
     "text": [
      "                                             \r"
     ]
    },
    {
     "name": "stdout",
     "output_type": "stream",
     "text": [
      "Trainning loss=1.9257\n"
     ]
    },
    {
     "name": "stderr",
     "output_type": "stream",
     "text": [
      " 11%|█         | 1/9 [00:00<00:01,  5.30it/s]"
     ]
    },
    {
     "name": "stdout",
     "output_type": "stream",
     "text": [
      "VAL: rmse=6.2627, mae=4.3713, mape=0.1430, acc=0.8747, r2_score=0.6854, var_score=0.6863\n",
      "VAL loss=2.6720\n",
      "==========EPOCH 117===========\n"
     ]
    },
    {
     "name": "stderr",
     "output_type": "stream",
     "text": [
      "                                             \r"
     ]
    },
    {
     "name": "stdout",
     "output_type": "stream",
     "text": [
      "Trainning loss=1.8932\n"
     ]
    },
    {
     "name": "stderr",
     "output_type": "stream",
     "text": [
      " 11%|█         | 1/9 [00:00<00:01,  5.34it/s]"
     ]
    },
    {
     "name": "stdout",
     "output_type": "stream",
     "text": [
      "VAL: rmse=6.2855, mae=4.3969, mape=0.1439, acc=0.8740, r2_score=0.6831, var_score=0.6842\n",
      "VAL loss=2.6915\n",
      "==========EPOCH 118===========\n"
     ]
    },
    {
     "name": "stderr",
     "output_type": "stream",
     "text": [
      "                                             \r"
     ]
    },
    {
     "name": "stdout",
     "output_type": "stream",
     "text": [
      "Trainning loss=2.0180\n"
     ]
    },
    {
     "name": "stderr",
     "output_type": "stream",
     "text": [
      " 11%|█         | 1/9 [00:00<00:01,  5.36it/s]"
     ]
    },
    {
     "name": "stdout",
     "output_type": "stream",
     "text": [
      "VAL: rmse=6.4247, mae=4.5687, mape=0.1515, acc=0.8690, r2_score=0.6689, var_score=0.6754\n",
      "VAL loss=2.8125\n",
      "==========EPOCH 119===========\n"
     ]
    },
    {
     "name": "stderr",
     "output_type": "stream",
     "text": [
      "                                             \r"
     ]
    },
    {
     "name": "stdout",
     "output_type": "stream",
     "text": [
      "Trainning loss=2.3899\n"
     ]
    },
    {
     "name": "stderr",
     "output_type": "stream",
     "text": [
      " 11%|█         | 1/9 [00:00<00:01,  5.23it/s]"
     ]
    },
    {
     "name": "stdout",
     "output_type": "stream",
     "text": [
      "VAL: rmse=6.7725, mae=4.9198, mape=0.1618, acc=0.8590, r2_score=0.6321, var_score=0.6371\n",
      "VAL loss=3.1265\n",
      "==========EPOCH 120===========\n"
     ]
    },
    {
     "name": "stderr",
     "output_type": "stream",
     "text": [
      "                                             \r"
     ]
    },
    {
     "name": "stdout",
     "output_type": "stream",
     "text": [
      "Trainning loss=2.8441\n"
     ]
    },
    {
     "name": "stderr",
     "output_type": "stream",
     "text": [
      "\r",
      "  0%|          | 0/9 [00:00<?, ?it/s]"
     ]
    },
    {
     "name": "stdout",
     "output_type": "stream",
     "text": [
      "VAL: rmse=6.5577, mae=4.6866, mape=0.1526, acc=0.8657, r2_score=0.6551, var_score=0.6559\n",
      "VAL loss=2.9317\n",
      "==========EPOCH 121===========\n"
     ]
    },
    {
     "name": "stderr",
     "output_type": "stream",
     "text": [
      "                                             \r"
     ]
    },
    {
     "name": "stdout",
     "output_type": "stream",
     "text": [
      "Trainning loss=2.0269\n"
     ]
    },
    {
     "name": "stderr",
     "output_type": "stream",
     "text": [
      "\r",
      "  0%|          | 0/9 [00:00<?, ?it/s]"
     ]
    },
    {
     "name": "stdout",
     "output_type": "stream",
     "text": [
      "VAL: rmse=6.3213, mae=4.4332, mape=0.1445, acc=0.8729, r2_score=0.6795, var_score=0.6799\n",
      "VAL loss=2.7223\n",
      "==========EPOCH 122===========\n"
     ]
    },
    {
     "name": "stderr",
     "output_type": "stream",
     "text": [
      "                                             \r"
     ]
    },
    {
     "name": "stdout",
     "output_type": "stream",
     "text": [
      "Trainning loss=2.1059\n"
     ]
    },
    {
     "name": "stderr",
     "output_type": "stream",
     "text": [
      "\r",
      "  0%|          | 0/9 [00:00<?, ?it/s]"
     ]
    },
    {
     "name": "stdout",
     "output_type": "stream",
     "text": [
      "VAL: rmse=6.4754, mae=4.6658, mape=0.1565, acc=0.8663, r2_score=0.6637, var_score=0.6785\n",
      "VAL loss=2.8573\n",
      "==========EPOCH 123===========\n"
     ]
    },
    {
     "name": "stderr",
     "output_type": "stream",
     "text": [
      "                                             \r"
     ]
    },
    {
     "name": "stdout",
     "output_type": "stream",
     "text": [
      "Trainning loss=2.2920\n"
     ]
    },
    {
     "name": "stderr",
     "output_type": "stream",
     "text": [
      "\r",
      "  0%|          | 0/9 [00:00<?, ?it/s]"
     ]
    },
    {
     "name": "stdout",
     "output_type": "stream",
     "text": [
      "VAL: rmse=6.4876, mae=4.6901, mape=0.1584, acc=0.8656, r2_score=0.6624, var_score=0.6835\n",
      "VAL loss=2.8683\n",
      "==========EPOCH 124===========\n"
     ]
    },
    {
     "name": "stderr",
     "output_type": "stream",
     "text": [
      "                                             \r"
     ]
    },
    {
     "name": "stdout",
     "output_type": "stream",
     "text": [
      "Trainning loss=2.1398\n"
     ]
    },
    {
     "name": "stderr",
     "output_type": "stream",
     "text": [
      "\r",
      "  0%|          | 0/9 [00:00<?, ?it/s]"
     ]
    },
    {
     "name": "stdout",
     "output_type": "stream",
     "text": [
      "VAL: rmse=6.3368, mae=4.4869, mape=0.1493, acc=0.8714, r2_score=0.6779, var_score=0.6855\n",
      "VAL loss=2.7360\n",
      "==========EPOCH 125===========\n"
     ]
    },
    {
     "name": "stderr",
     "output_type": "stream",
     "text": [
      "                                             \r"
     ]
    },
    {
     "name": "stdout",
     "output_type": "stream",
     "text": [
      "Trainning loss=1.9862\n"
     ]
    },
    {
     "name": "stderr",
     "output_type": "stream",
     "text": [
      " 11%|█         | 1/9 [00:00<00:01,  5.41it/s]"
     ]
    },
    {
     "name": "stdout",
     "output_type": "stream",
     "text": [
      "VAL: rmse=6.3430, mae=4.4951, mape=0.1497, acc=0.8711, r2_score=0.6773, var_score=0.6850\n",
      "VAL loss=2.7412\n",
      "==========EPOCH 126===========\n"
     ]
    },
    {
     "name": "stderr",
     "output_type": "stream",
     "text": [
      "                                             \r"
     ]
    },
    {
     "name": "stdout",
     "output_type": "stream",
     "text": [
      "Trainning loss=2.1625\n"
     ]
    },
    {
     "name": "stderr",
     "output_type": "stream",
     "text": [
      " 11%|█         | 1/9 [00:00<00:01,  6.16it/s]"
     ]
    },
    {
     "name": "stdout",
     "output_type": "stream",
     "text": [
      "VAL: rmse=6.6276, mae=4.8613, mape=0.1651, acc=0.8606, r2_score=0.6477, var_score=0.6783\n",
      "VAL loss=2.9934\n",
      "==========EPOCH 127===========\n"
     ]
    },
    {
     "name": "stderr",
     "output_type": "stream",
     "text": [
      "                                             \r"
     ]
    },
    {
     "name": "stdout",
     "output_type": "stream",
     "text": [
      "Trainning loss=3.0370\n"
     ]
    },
    {
     "name": "stderr",
     "output_type": "stream",
     "text": [
      " 11%|█         | 1/9 [00:00<00:01,  5.22it/s]"
     ]
    },
    {
     "name": "stdout",
     "output_type": "stream",
     "text": [
      "VAL: rmse=7.2346, mae=5.5366, mape=0.1888, acc=0.8413, r2_score=0.5802, var_score=0.6415\n",
      "VAL loss=3.5696\n",
      "==========EPOCH 128===========\n"
     ]
    },
    {
     "name": "stderr",
     "output_type": "stream",
     "text": [
      "                                             \r"
     ]
    },
    {
     "name": "stdout",
     "output_type": "stream",
     "text": [
      "Trainning loss=3.3178\n"
     ]
    },
    {
     "name": "stderr",
     "output_type": "stream",
     "text": [
      "\r",
      "  0%|          | 0/9 [00:00<?, ?it/s]"
     ]
    },
    {
     "name": "stdout",
     "output_type": "stream",
     "text": [
      "VAL: rmse=6.9874, mae=5.0907, mape=0.1607, acc=0.8541, r2_score=0.6084, var_score=0.6152\n",
      "VAL loss=3.3288\n",
      "==========EPOCH 129===========\n"
     ]
    },
    {
     "name": "stderr",
     "output_type": "stream",
     "text": [
      "                                             \r"
     ]
    },
    {
     "name": "stdout",
     "output_type": "stream",
     "text": [
      "Trainning loss=3.1887\n"
     ]
    },
    {
     "name": "stderr",
     "output_type": "stream",
     "text": [
      " 11%|█         | 1/9 [00:00<00:01,  5.19it/s]"
     ]
    },
    {
     "name": "stdout",
     "output_type": "stream",
     "text": [
      "VAL: rmse=6.4183, mae=4.5070, mape=0.1428, acc=0.8708, r2_score=0.6696, var_score=0.6732\n",
      "VAL loss=2.8085\n",
      "==========EPOCH 130===========\n"
     ]
    },
    {
     "name": "stderr",
     "output_type": "stream",
     "text": [
      "                                             \r"
     ]
    },
    {
     "name": "stdout",
     "output_type": "stream",
     "text": [
      "Trainning loss=2.2246\n"
     ]
    },
    {
     "name": "stderr",
     "output_type": "stream",
     "text": [
      " 11%|█         | 1/9 [00:00<00:01,  5.19it/s]"
     ]
    },
    {
     "name": "stdout",
     "output_type": "stream",
     "text": [
      "VAL: rmse=6.6352, mae=4.8408, mape=0.1629, acc=0.8612, r2_score=0.6469, var_score=0.6661\n",
      "VAL loss=3.0011\n",
      "==========EPOCH 131===========\n"
     ]
    },
    {
     "name": "stderr",
     "output_type": "stream",
     "text": [
      "                                             \r"
     ]
    },
    {
     "name": "stdout",
     "output_type": "stream",
     "text": [
      "Trainning loss=2.0876\n"
     ]
    },
    {
     "name": "stderr",
     "output_type": "stream",
     "text": [
      "\r",
      "  0%|          | 0/9 [00:00<?, ?it/s]"
     ]
    },
    {
     "name": "stdout",
     "output_type": "stream",
     "text": [
      "VAL: rmse=6.3259, mae=4.4148, mape=0.1411, acc=0.8734, r2_score=0.6791, var_score=0.6804\n",
      "VAL loss=2.7263\n",
      "==========EPOCH 132===========\n"
     ]
    },
    {
     "name": "stderr",
     "output_type": "stream",
     "text": [
      "                                             \r"
     ]
    },
    {
     "name": "stdout",
     "output_type": "stream",
     "text": [
      "Trainning loss=1.9492\n"
     ]
    },
    {
     "name": "stderr",
     "output_type": "stream",
     "text": [
      "\r",
      "  0%|          | 0/9 [00:00<?, ?it/s]"
     ]
    },
    {
     "name": "stdout",
     "output_type": "stream",
     "text": [
      "VAL: rmse=6.3059, mae=4.4418, mape=0.1471, acc=0.8727, r2_score=0.6811, var_score=0.6858\n",
      "VAL loss=2.7090\n",
      "==========EPOCH 133===========\n"
     ]
    },
    {
     "name": "stderr",
     "output_type": "stream",
     "text": [
      "                                             \r"
     ]
    },
    {
     "name": "stdout",
     "output_type": "stream",
     "text": [
      "Trainning loss=2.0341\n"
     ]
    },
    {
     "name": "stderr",
     "output_type": "stream",
     "text": [
      " 11%|█         | 1/9 [00:00<00:01,  5.48it/s]"
     ]
    },
    {
     "name": "stdout",
     "output_type": "stream",
     "text": [
      "VAL: rmse=6.3310, mae=4.4789, mape=0.1491, acc=0.8716, r2_score=0.6785, var_score=0.6858\n",
      "VAL loss=2.7310\n",
      "==========EPOCH 134===========\n"
     ]
    },
    {
     "name": "stderr",
     "output_type": "stream",
     "text": [
      "                                             \r"
     ]
    },
    {
     "name": "stdout",
     "output_type": "stream",
     "text": [
      "Trainning loss=1.9448\n"
     ]
    },
    {
     "name": "stderr",
     "output_type": "stream",
     "text": [
      " 11%|█         | 1/9 [00:00<00:01,  5.56it/s]"
     ]
    },
    {
     "name": "stdout",
     "output_type": "stream",
     "text": [
      "VAL: rmse=6.2998, mae=4.4226, mape=0.1455, acc=0.8732, r2_score=0.6817, var_score=0.6841\n",
      "VAL loss=2.7039\n",
      "==========EPOCH 135===========\n"
     ]
    },
    {
     "name": "stderr",
     "output_type": "stream",
     "text": [
      "                                             \r"
     ]
    },
    {
     "name": "stdout",
     "output_type": "stream",
     "text": [
      "Trainning loss=2.0167\n"
     ]
    },
    {
     "name": "stderr",
     "output_type": "stream",
     "text": [
      " 11%|█         | 1/9 [00:00<00:01,  6.64it/s]"
     ]
    },
    {
     "name": "stdout",
     "output_type": "stream",
     "text": [
      "VAL: rmse=6.4575, mae=4.6421, mape=0.1556, acc=0.8669, r2_score=0.6656, var_score=0.6793\n",
      "VAL loss=2.8413\n",
      "==========EPOCH 136===========\n"
     ]
    },
    {
     "name": "stderr",
     "output_type": "stream",
     "text": [
      "                                             \r"
     ]
    },
    {
     "name": "stdout",
     "output_type": "stream",
     "text": [
      "Trainning loss=2.6349\n"
     ]
    },
    {
     "name": "stderr",
     "output_type": "stream",
     "text": [
      "\r",
      "  0%|          | 0/9 [00:00<?, ?it/s]"
     ]
    },
    {
     "name": "stdout",
     "output_type": "stream",
     "text": [
      "VAL: rmse=7.1142, mae=5.4047, mape=0.1839, acc=0.8451, r2_score=0.5941, var_score=0.6455\n",
      "VAL loss=3.4507\n",
      "==========EPOCH 137===========\n"
     ]
    },
    {
     "name": "stderr",
     "output_type": "stream",
     "text": [
      "                                             \r"
     ]
    },
    {
     "name": "stdout",
     "output_type": "stream",
     "text": [
      "Trainning loss=3.4765\n"
     ]
    },
    {
     "name": "stderr",
     "output_type": "stream",
     "text": [
      "\r",
      "  0%|          | 0/9 [00:00<?, ?it/s]"
     ]
    },
    {
     "name": "stdout",
     "output_type": "stream",
     "text": [
      "VAL: rmse=6.7083, mae=4.9041, mape=0.1619, acc=0.8594, r2_score=0.6391, var_score=0.6457\n",
      "VAL loss=3.0689\n",
      "==========EPOCH 138===========\n"
     ]
    },
    {
     "name": "stderr",
     "output_type": "stream",
     "text": [
      "                                             \r"
     ]
    },
    {
     "name": "stdout",
     "output_type": "stream",
     "text": [
      "Trainning loss=2.2181\n"
     ]
    },
    {
     "name": "stderr",
     "output_type": "stream",
     "text": [
      " 11%|█         | 1/9 [00:00<00:01,  6.11it/s]"
     ]
    },
    {
     "name": "stdout",
     "output_type": "stream",
     "text": [
      "VAL: rmse=6.3883, mae=4.4718, mape=0.1404, acc=0.8718, r2_score=0.6727, var_score=0.6807\n",
      "VAL loss=2.7809\n",
      "==========EPOCH 139===========\n"
     ]
    },
    {
     "name": "stderr",
     "output_type": "stream",
     "text": [
      "                                             \r"
     ]
    },
    {
     "name": "stdout",
     "output_type": "stream",
     "text": [
      "Trainning loss=2.0304\n"
     ]
    },
    {
     "name": "stderr",
     "output_type": "stream",
     "text": [
      "\r",
      "  0%|          | 0/9 [00:00<?, ?it/s]"
     ]
    },
    {
     "name": "stdout",
     "output_type": "stream",
     "text": [
      "VAL: rmse=6.4803, mae=4.6589, mape=0.1568, acc=0.8664, r2_score=0.6632, var_score=0.6792\n",
      "VAL loss=2.8613\n",
      "==========EPOCH 140===========\n"
     ]
    },
    {
     "name": "stderr",
     "output_type": "stream",
     "text": [
      "                                             \r"
     ]
    },
    {
     "name": "stdout",
     "output_type": "stream",
     "text": [
      "Trainning loss=2.5595\n"
     ]
    },
    {
     "name": "stderr",
     "output_type": "stream",
     "text": [
      " 11%|█         | 1/9 [00:00<00:01,  5.83it/s]"
     ]
    },
    {
     "name": "stdout",
     "output_type": "stream",
     "text": [
      "VAL: rmse=6.6885, mae=4.8869, mape=0.1644, acc=0.8599, r2_score=0.6412, var_score=0.6621\n",
      "VAL loss=3.0497\n",
      "==========EPOCH 141===========\n"
     ]
    },
    {
     "name": "stderr",
     "output_type": "stream",
     "text": [
      "                                             \r"
     ]
    },
    {
     "name": "stdout",
     "output_type": "stream",
     "text": [
      "Trainning loss=2.3054\n"
     ]
    },
    {
     "name": "stderr",
     "output_type": "stream",
     "text": [
      " 11%|█         | 1/9 [00:00<00:01,  5.43it/s]"
     ]
    },
    {
     "name": "stdout",
     "output_type": "stream",
     "text": [
      "VAL: rmse=6.3135, mae=4.4105, mape=0.1425, acc=0.8736, r2_score=0.6803, var_score=0.6803\n",
      "VAL loss=2.7159\n",
      "==========EPOCH 142===========\n"
     ]
    },
    {
     "name": "stderr",
     "output_type": "stream",
     "text": [
      "                                             \r"
     ]
    },
    {
     "name": "stdout",
     "output_type": "stream",
     "text": [
      "Trainning loss=1.9036\n"
     ]
    },
    {
     "name": "stderr",
     "output_type": "stream",
     "text": [
      " 11%|█         | 1/9 [00:00<00:01,  5.61it/s]"
     ]
    },
    {
     "name": "stdout",
     "output_type": "stream",
     "text": [
      "VAL: rmse=6.2750, mae=4.3823, mape=0.1433, acc=0.8744, r2_score=0.6842, var_score=0.6851\n",
      "VAL loss=2.6825\n",
      "==========EPOCH 143===========\n"
     ]
    },
    {
     "name": "stderr",
     "output_type": "stream",
     "text": [
      "                                             \r"
     ]
    },
    {
     "name": "stdout",
     "output_type": "stream",
     "text": [
      "Trainning loss=1.9982\n"
     ]
    },
    {
     "name": "stderr",
     "output_type": "stream",
     "text": [
      " 11%|█         | 1/9 [00:00<00:01,  6.56it/s]"
     ]
    },
    {
     "name": "stdout",
     "output_type": "stream",
     "text": [
      "VAL: rmse=6.4318, mae=4.6146, mape=0.1551, acc=0.8677, r2_score=0.6682, var_score=0.6829\n",
      "VAL loss=2.8187\n",
      "==========EPOCH 144===========\n"
     ]
    },
    {
     "name": "stderr",
     "output_type": "stream",
     "text": [
      "                                             \r"
     ]
    },
    {
     "name": "stdout",
     "output_type": "stream",
     "text": [
      "Trainning loss=2.2979\n"
     ]
    },
    {
     "name": "stderr",
     "output_type": "stream",
     "text": [
      " 11%|█         | 1/9 [00:00<00:01,  5.97it/s]"
     ]
    },
    {
     "name": "stdout",
     "output_type": "stream",
     "text": [
      "VAL: rmse=6.5859, mae=4.8071, mape=0.1627, acc=0.8622, r2_score=0.6521, var_score=0.6778\n",
      "VAL loss=2.9561\n",
      "==========EPOCH 145===========\n"
     ]
    },
    {
     "name": "stderr",
     "output_type": "stream",
     "text": [
      "                                             \r"
     ]
    },
    {
     "name": "stdout",
     "output_type": "stream",
     "text": [
      "Trainning loss=2.4144\n"
     ]
    },
    {
     "name": "stderr",
     "output_type": "stream",
     "text": [
      " 11%|█         | 1/9 [00:00<00:01,  6.52it/s]"
     ]
    },
    {
     "name": "stdout",
     "output_type": "stream",
     "text": [
      "VAL: rmse=6.5077, mae=4.7069, mape=0.1584, acc=0.8651, r2_score=0.6603, var_score=0.6787\n",
      "VAL loss=2.8863\n",
      "==========EPOCH 146===========\n"
     ]
    },
    {
     "name": "stderr",
     "output_type": "stream",
     "text": [
      "                                             \r"
     ]
    },
    {
     "name": "stdout",
     "output_type": "stream",
     "text": [
      "Trainning loss=2.1771\n"
     ]
    },
    {
     "name": "stderr",
     "output_type": "stream",
     "text": [
      " 11%|█         | 1/9 [00:00<00:01,  6.56it/s]"
     ]
    },
    {
     "name": "stdout",
     "output_type": "stream",
     "text": [
      "VAL: rmse=6.3838, mae=4.5247, mape=0.1496, acc=0.8703, r2_score=0.6732, var_score=0.6777\n",
      "VAL loss=2.7768\n",
      "==========EPOCH 147===========\n"
     ]
    },
    {
     "name": "stderr",
     "output_type": "stream",
     "text": [
      "                                             \r"
     ]
    },
    {
     "name": "stdout",
     "output_type": "stream",
     "text": [
      "Trainning loss=2.1456\n"
     ]
    },
    {
     "name": "stderr",
     "output_type": "stream",
     "text": [
      " 11%|█         | 1/9 [00:00<00:01,  5.15it/s]"
     ]
    },
    {
     "name": "stdout",
     "output_type": "stream",
     "text": [
      "VAL: rmse=6.5557, mae=4.6952, mape=0.1532, acc=0.8654, r2_score=0.6553, var_score=0.6564\n",
      "VAL loss=2.9287\n",
      "==========EPOCH 148===========\n"
     ]
    },
    {
     "name": "stderr",
     "output_type": "stream",
     "text": [
      "                                             \r"
     ]
    },
    {
     "name": "stdout",
     "output_type": "stream",
     "text": [
      "Trainning loss=3.0448\n"
     ]
    },
    {
     "name": "stderr",
     "output_type": "stream",
     "text": [
      "\r",
      "  0%|          | 0/9 [00:00<?, ?it/s]"
     ]
    },
    {
     "name": "stdout",
     "output_type": "stream",
     "text": [
      "VAL: rmse=7.5640, mae=5.7323, mape=0.1840, acc=0.8357, r2_score=0.5411, var_score=0.5417\n",
      "VAL loss=3.9024\n",
      "==========EPOCH 149===========\n"
     ]
    },
    {
     "name": "stderr",
     "output_type": "stream",
     "text": [
      "                                             \r"
     ]
    },
    {
     "name": "stdout",
     "output_type": "stream",
     "text": [
      "Trainning loss=3.4749\n"
     ]
    },
    {
     "name": "stderr",
     "output_type": "stream",
     "text": [
      " 11%|█         | 1/9 [00:00<00:01,  5.48it/s]"
     ]
    },
    {
     "name": "stdout",
     "output_type": "stream",
     "text": [
      "VAL: rmse=6.2733, mae=4.3831, mape=0.1437, acc=0.8744, r2_score=0.6844, var_score=0.6856\n",
      "VAL loss=2.6813\n",
      "==========EPOCH 150===========\n"
     ]
    },
    {
     "name": "stderr",
     "output_type": "stream",
     "text": [
      "                                             \r"
     ]
    },
    {
     "name": "stdout",
     "output_type": "stream",
     "text": [
      "Trainning loss=2.3801\n"
     ]
    },
    {
     "name": "stderr",
     "output_type": "stream",
     "text": [
      " 11%|█         | 1/9 [00:00<00:01,  5.16it/s]"
     ]
    },
    {
     "name": "stdout",
     "output_type": "stream",
     "text": [
      "VAL: rmse=6.3471, mae=4.4920, mape=0.1488, acc=0.8712, r2_score=0.6769, var_score=0.6821\n",
      "VAL loss=2.7454\n",
      "==========EPOCH 151===========\n"
     ]
    },
    {
     "name": "stderr",
     "output_type": "stream",
     "text": [
      "                                             \r"
     ]
    },
    {
     "name": "stdout",
     "output_type": "stream",
     "text": [
      "Trainning loss=2.3302\n"
     ]
    },
    {
     "name": "stderr",
     "output_type": "stream",
     "text": [
      " 11%|█         | 1/9 [00:00<00:01,  5.21it/s]"
     ]
    },
    {
     "name": "stdout",
     "output_type": "stream",
     "text": [
      "VAL: rmse=6.7107, mae=4.9427, mape=0.1674, acc=0.8583, r2_score=0.6388, var_score=0.6685\n",
      "VAL loss=3.0695\n",
      "==========EPOCH 152===========\n"
     ]
    },
    {
     "name": "stderr",
     "output_type": "stream",
     "text": [
      "                                             \r"
     ]
    },
    {
     "name": "stdout",
     "output_type": "stream",
     "text": [
      "Trainning loss=3.0130\n"
     ]
    },
    {
     "name": "stderr",
     "output_type": "stream",
     "text": [
      " 11%|█         | 1/9 [00:00<00:01,  5.93it/s]"
     ]
    },
    {
     "name": "stdout",
     "output_type": "stream",
     "text": [
      "VAL: rmse=6.7894, mae=5.0036, mape=0.1680, acc=0.8566, r2_score=0.6303, var_score=0.6532\n",
      "VAL loss=3.1433\n",
      "==========EPOCH 153===========\n"
     ]
    },
    {
     "name": "stderr",
     "output_type": "stream",
     "text": [
      "                                             \r"
     ]
    },
    {
     "name": "stdout",
     "output_type": "stream",
     "text": [
      "Trainning loss=2.2150\n"
     ]
    },
    {
     "name": "stderr",
     "output_type": "stream",
     "text": [
      " 11%|█         | 1/9 [00:00<00:01,  6.59it/s]"
     ]
    },
    {
     "name": "stdout",
     "output_type": "stream",
     "text": [
      "VAL: rmse=6.3033, mae=4.4038, mape=0.1424, acc=0.8738, r2_score=0.6813, var_score=0.6813\n",
      "VAL loss=2.7067\n",
      "==========EPOCH 154===========\n"
     ]
    },
    {
     "name": "stderr",
     "output_type": "stream",
     "text": [
      "                                             \r"
     ]
    },
    {
     "name": "stdout",
     "output_type": "stream",
     "text": [
      "Trainning loss=2.0301\n"
     ]
    },
    {
     "name": "stderr",
     "output_type": "stream",
     "text": [
      " 11%|█         | 1/9 [00:00<00:01,  6.53it/s]"
     ]
    },
    {
     "name": "stdout",
     "output_type": "stream",
     "text": [
      "VAL: rmse=6.2733, mae=4.3726, mape=0.1422, acc=0.8747, r2_score=0.6844, var_score=0.6845\n",
      "VAL loss=2.6812\n",
      "==========EPOCH 155===========\n"
     ]
    },
    {
     "name": "stderr",
     "output_type": "stream",
     "text": [
      "                                             \r"
     ]
    },
    {
     "name": "stdout",
     "output_type": "stream",
     "text": [
      "Trainning loss=1.9365\n"
     ]
    },
    {
     "name": "stderr",
     "output_type": "stream",
     "text": [
      " 11%|█         | 1/9 [00:00<00:01,  6.73it/s]"
     ]
    },
    {
     "name": "stdout",
     "output_type": "stream",
     "text": [
      "VAL: rmse=6.3685, mae=4.5293, mape=0.1510, acc=0.8702, r2_score=0.6747, var_score=0.6832\n",
      "VAL loss=2.7633\n",
      "==========EPOCH 156===========\n"
     ]
    },
    {
     "name": "stderr",
     "output_type": "stream",
     "text": [
      "                                             \r"
     ]
    },
    {
     "name": "stdout",
     "output_type": "stream",
     "text": [
      "Trainning loss=2.0844\n"
     ]
    },
    {
     "name": "stderr",
     "output_type": "stream",
     "text": [
      " 11%|█         | 1/9 [00:00<00:01,  6.49it/s]"
     ]
    },
    {
     "name": "stdout",
     "output_type": "stream",
     "text": [
      "VAL: rmse=6.3626, mae=4.5222, mape=0.1513, acc=0.8704, r2_score=0.6753, var_score=0.6861\n",
      "VAL loss=2.7583\n",
      "==========EPOCH 157===========\n"
     ]
    },
    {
     "name": "stderr",
     "output_type": "stream",
     "text": [
      "                                             \r"
     ]
    },
    {
     "name": "stdout",
     "output_type": "stream",
     "text": [
      "Trainning loss=2.0358\n"
     ]
    },
    {
     "name": "stderr",
     "output_type": "stream",
     "text": [
      " 11%|█         | 1/9 [00:00<00:01,  6.72it/s]"
     ]
    },
    {
     "name": "stdout",
     "output_type": "stream",
     "text": [
      "VAL: rmse=6.3612, mae=4.5083, mape=0.1502, acc=0.8708, r2_score=0.6755, var_score=0.6838\n",
      "VAL loss=2.7571\n",
      "==========EPOCH 158===========\n"
     ]
    },
    {
     "name": "stderr",
     "output_type": "stream",
     "text": [
      "                                             \r"
     ]
    },
    {
     "name": "stdout",
     "output_type": "stream",
     "text": [
      "Trainning loss=2.1001\n"
     ]
    },
    {
     "name": "stderr",
     "output_type": "stream",
     "text": [
      " 11%|█         | 1/9 [00:00<00:01,  6.61it/s]"
     ]
    },
    {
     "name": "stdout",
     "output_type": "stream",
     "text": [
      "VAL: rmse=6.4404, mae=4.6197, mape=0.1557, acc=0.8676, r2_score=0.6673, var_score=0.6848\n",
      "VAL loss=2.8264\n",
      "==========EPOCH 159===========\n"
     ]
    },
    {
     "name": "stderr",
     "output_type": "stream",
     "text": [
      "                                             \r"
     ]
    },
    {
     "name": "stdout",
     "output_type": "stream",
     "text": [
      "Trainning loss=2.2953\n"
     ]
    },
    {
     "name": "stderr",
     "output_type": "stream",
     "text": [
      " 11%|█         | 1/9 [00:00<00:01,  6.65it/s]"
     ]
    },
    {
     "name": "stdout",
     "output_type": "stream",
     "text": [
      "VAL: rmse=6.6113, mae=4.8435, mape=0.1647, acc=0.8612, r2_score=0.6494, var_score=0.6808\n",
      "VAL loss=2.9789\n",
      "==========EPOCH 160===========\n"
     ]
    },
    {
     "name": "stderr",
     "output_type": "stream",
     "text": [
      "                                             \r"
     ]
    },
    {
     "name": "stdout",
     "output_type": "stream",
     "text": [
      "Trainning loss=2.6637\n"
     ]
    },
    {
     "name": "stderr",
     "output_type": "stream",
     "text": [
      " 11%|█         | 1/9 [00:00<00:01,  6.65it/s]"
     ]
    },
    {
     "name": "stdout",
     "output_type": "stream",
     "text": [
      "VAL: rmse=6.7815, mae=5.0233, mape=0.1708, acc=0.8560, r2_score=0.6312, var_score=0.6682\n",
      "VAL loss=3.1352\n",
      "==========EPOCH 161===========\n"
     ]
    },
    {
     "name": "stderr",
     "output_type": "stream",
     "text": [
      "                                             \r"
     ]
    },
    {
     "name": "stdout",
     "output_type": "stream",
     "text": [
      "Trainning loss=2.4842\n"
     ]
    },
    {
     "name": "stderr",
     "output_type": "stream",
     "text": [
      " 11%|█         | 1/9 [00:00<00:01,  6.54it/s]"
     ]
    },
    {
     "name": "stdout",
     "output_type": "stream",
     "text": [
      "VAL: rmse=6.3453, mae=4.4860, mape=0.1481, acc=0.8714, r2_score=0.6771, var_score=0.6810\n",
      "VAL loss=2.7436\n",
      "==========EPOCH 162===========\n"
     ]
    },
    {
     "name": "stderr",
     "output_type": "stream",
     "text": [
      "                                             \r"
     ]
    },
    {
     "name": "stdout",
     "output_type": "stream",
     "text": [
      "Trainning loss=1.9448\n"
     ]
    },
    {
     "name": "stderr",
     "output_type": "stream",
     "text": [
      " 11%|█         | 1/9 [00:00<00:01,  6.87it/s]"
     ]
    },
    {
     "name": "stdout",
     "output_type": "stream",
     "text": [
      "VAL: rmse=6.3120, mae=4.4121, mape=0.1430, acc=0.8735, r2_score=0.6805, var_score=0.6805\n",
      "VAL loss=2.7144\n",
      "==========EPOCH 163===========\n"
     ]
    },
    {
     "name": "stderr",
     "output_type": "stream",
     "text": [
      "                                             \r"
     ]
    },
    {
     "name": "stdout",
     "output_type": "stream",
     "text": [
      "Trainning loss=2.0121\n"
     ]
    },
    {
     "name": "stderr",
     "output_type": "stream",
     "text": [
      " 11%|█         | 1/9 [00:00<00:01,  6.50it/s]"
     ]
    },
    {
     "name": "stdout",
     "output_type": "stream",
     "text": [
      "VAL: rmse=6.4131, mae=4.5650, mape=0.1527, acc=0.8691, r2_score=0.6701, var_score=0.6809\n",
      "VAL loss=2.8023\n",
      "==========EPOCH 164===========\n"
     ]
    },
    {
     "name": "stderr",
     "output_type": "stream",
     "text": [
      "                                             \r"
     ]
    },
    {
     "name": "stdout",
     "output_type": "stream",
     "text": [
      "Trainning loss=2.4051\n"
     ]
    },
    {
     "name": "stderr",
     "output_type": "stream",
     "text": [
      " 11%|█         | 1/9 [00:00<00:01,  6.54it/s]"
     ]
    },
    {
     "name": "stdout",
     "output_type": "stream",
     "text": [
      "VAL: rmse=6.7783, mae=4.9783, mape=0.1694, acc=0.8573, r2_score=0.6315, var_score=0.6686\n",
      "VAL loss=3.1319\n",
      "==========EPOCH 165===========\n"
     ]
    },
    {
     "name": "stderr",
     "output_type": "stream",
     "text": [
      "                                             \r"
     ]
    },
    {
     "name": "stdout",
     "output_type": "stream",
     "text": [
      "Trainning loss=2.7716\n"
     ]
    },
    {
     "name": "stderr",
     "output_type": "stream",
     "text": [
      " 11%|█         | 1/9 [00:00<00:01,  6.56it/s]"
     ]
    },
    {
     "name": "stdout",
     "output_type": "stream",
     "text": [
      "VAL: rmse=6.5513, mae=4.7121, mape=0.1555, acc=0.8649, r2_score=0.6558, var_score=0.6610\n",
      "VAL loss=2.9256\n",
      "==========EPOCH 166===========\n"
     ]
    },
    {
     "name": "stderr",
     "output_type": "stream",
     "text": [
      "                                             \r"
     ]
    },
    {
     "name": "stdout",
     "output_type": "stream",
     "text": [
      "Trainning loss=2.2009\n"
     ]
    },
    {
     "name": "stderr",
     "output_type": "stream",
     "text": [
      " 11%|█         | 1/9 [00:00<00:01,  6.58it/s]"
     ]
    },
    {
     "name": "stdout",
     "output_type": "stream",
     "text": [
      "VAL: rmse=6.3865, mae=4.5105, mape=0.1462, acc=0.8707, r2_score=0.6729, var_score=0.6729\n",
      "VAL loss=2.7793\n",
      "==========EPOCH 167===========\n"
     ]
    },
    {
     "name": "stderr",
     "output_type": "stream",
     "text": [
      "                                             \r"
     ]
    },
    {
     "name": "stdout",
     "output_type": "stream",
     "text": [
      "Trainning loss=2.2389\n"
     ]
    },
    {
     "name": "stderr",
     "output_type": "stream",
     "text": [
      " 11%|█         | 1/9 [00:00<00:01,  6.63it/s]"
     ]
    },
    {
     "name": "stdout",
     "output_type": "stream",
     "text": [
      "VAL: rmse=6.8347, mae=5.0987, mape=0.1746, acc=0.8538, r2_score=0.6253, var_score=0.6730\n",
      "VAL loss=3.1839\n",
      "==========EPOCH 168===========\n"
     ]
    },
    {
     "name": "stderr",
     "output_type": "stream",
     "text": [
      "                                             \r"
     ]
    },
    {
     "name": "stdout",
     "output_type": "stream",
     "text": [
      "Trainning loss=3.4253\n"
     ]
    },
    {
     "name": "stderr",
     "output_type": "stream",
     "text": [
      " 11%|█         | 1/9 [00:00<00:01,  6.60it/s]"
     ]
    },
    {
     "name": "stdout",
     "output_type": "stream",
     "text": [
      "VAL: rmse=6.9964, mae=5.2559, mape=0.1771, acc=0.8493, r2_score=0.6074, var_score=0.6390\n",
      "VAL loss=3.3391\n",
      "==========EPOCH 169===========\n"
     ]
    },
    {
     "name": "stderr",
     "output_type": "stream",
     "text": [
      "                                             \r"
     ]
    },
    {
     "name": "stdout",
     "output_type": "stream",
     "text": [
      "Trainning loss=2.3182\n"
     ]
    },
    {
     "name": "stderr",
     "output_type": "stream",
     "text": [
      " 11%|█         | 1/9 [00:00<00:01,  6.62it/s]"
     ]
    },
    {
     "name": "stdout",
     "output_type": "stream",
     "text": [
      "VAL: rmse=6.3672, mae=4.4501, mape=0.1409, acc=0.8724, r2_score=0.6748, var_score=0.6787\n",
      "VAL loss=2.7621\n",
      "==========EPOCH 170===========\n"
     ]
    },
    {
     "name": "stderr",
     "output_type": "stream",
     "text": [
      "                                             \r"
     ]
    },
    {
     "name": "stdout",
     "output_type": "stream",
     "text": [
      "Trainning loss=2.1052\n"
     ]
    },
    {
     "name": "stderr",
     "output_type": "stream",
     "text": [
      " 11%|█         | 1/9 [00:00<00:01,  6.70it/s]"
     ]
    },
    {
     "name": "stdout",
     "output_type": "stream",
     "text": [
      "VAL: rmse=6.3617, mae=4.5041, mape=0.1501, acc=0.8709, r2_score=0.6754, var_score=0.6834\n",
      "VAL loss=2.7577\n",
      "==========EPOCH 171===========\n"
     ]
    },
    {
     "name": "stderr",
     "output_type": "stream",
     "text": [
      "                                             \r"
     ]
    },
    {
     "name": "stdout",
     "output_type": "stream",
     "text": [
      "Trainning loss=2.0260\n"
     ]
    },
    {
     "name": "stderr",
     "output_type": "stream",
     "text": [
      " 11%|█         | 1/9 [00:00<00:01,  6.68it/s]"
     ]
    },
    {
     "name": "stdout",
     "output_type": "stream",
     "text": [
      "VAL: rmse=6.3301, mae=4.4641, mape=0.1469, acc=0.8720, r2_score=0.6786, var_score=0.6811\n",
      "VAL loss=2.7301\n",
      "==========EPOCH 172===========\n"
     ]
    },
    {
     "name": "stderr",
     "output_type": "stream",
     "text": [
      "                                             \r"
     ]
    },
    {
     "name": "stdout",
     "output_type": "stream",
     "text": [
      "Trainning loss=1.9299\n"
     ]
    },
    {
     "name": "stderr",
     "output_type": "stream",
     "text": [
      " 11%|█         | 1/9 [00:00<00:01,  6.62it/s]"
     ]
    },
    {
     "name": "stdout",
     "output_type": "stream",
     "text": [
      "VAL: rmse=6.2847, mae=4.3989, mape=0.1444, acc=0.8739, r2_score=0.6832, var_score=0.6850\n",
      "VAL loss=2.6909\n",
      "==========EPOCH 173===========\n"
     ]
    },
    {
     "name": "stderr",
     "output_type": "stream",
     "text": [
      "                                             \r"
     ]
    },
    {
     "name": "stdout",
     "output_type": "stream",
     "text": [
      "Trainning loss=2.0094\n"
     ]
    },
    {
     "name": "stderr",
     "output_type": "stream",
     "text": [
      " 11%|█         | 1/9 [00:00<00:01,  6.60it/s]"
     ]
    },
    {
     "name": "stdout",
     "output_type": "stream",
     "text": [
      "VAL: rmse=6.4218, mae=4.5810, mape=0.1532, acc=0.8687, r2_score=0.6693, var_score=0.6803\n",
      "VAL loss=2.8099\n",
      "==========EPOCH 174===========\n"
     ]
    },
    {
     "name": "stderr",
     "output_type": "stream",
     "text": [
      "                                             \r"
     ]
    },
    {
     "name": "stdout",
     "output_type": "stream",
     "text": [
      "Trainning loss=2.3451\n"
     ]
    },
    {
     "name": "stderr",
     "output_type": "stream",
     "text": [
      " 11%|█         | 1/9 [00:00<00:01,  6.65it/s]"
     ]
    },
    {
     "name": "stdout",
     "output_type": "stream",
     "text": [
      "VAL: rmse=6.7939, mae=5.0301, mape=0.1684, acc=0.8558, r2_score=0.6298, var_score=0.6485\n",
      "VAL loss=3.1460\n",
      "==========EPOCH 175===========\n"
     ]
    },
    {
     "name": "stderr",
     "output_type": "stream",
     "text": [
      "                                             \r"
     ]
    },
    {
     "name": "stdout",
     "output_type": "stream",
     "text": [
      "Trainning loss=3.6049\n"
     ]
    },
    {
     "name": "stderr",
     "output_type": "stream",
     "text": [
      " 11%|█         | 1/9 [00:00<00:01,  6.65it/s]"
     ]
    },
    {
     "name": "stdout",
     "output_type": "stream",
     "text": [
      "VAL: rmse=7.5680, mae=5.8761, mape=0.1935, acc=0.8316, r2_score=0.5406, var_score=0.5526\n",
      "VAL loss=3.9080\n",
      "==========EPOCH 176===========\n"
     ]
    },
    {
     "name": "stderr",
     "output_type": "stream",
     "text": [
      "                                             \r"
     ]
    },
    {
     "name": "stdout",
     "output_type": "stream",
     "text": [
      "Trainning loss=2.9312\n"
     ]
    },
    {
     "name": "stderr",
     "output_type": "stream",
     "text": [
      " 11%|█         | 1/9 [00:00<00:01,  6.62it/s]"
     ]
    },
    {
     "name": "stdout",
     "output_type": "stream",
     "text": [
      "VAL: rmse=6.3526, mae=4.4560, mape=0.1437, acc=0.8723, r2_score=0.6763, var_score=0.6765\n",
      "VAL loss=2.7491\n",
      "==========EPOCH 177===========\n"
     ]
    },
    {
     "name": "stderr",
     "output_type": "stream",
     "text": [
      "                                             \r"
     ]
    },
    {
     "name": "stdout",
     "output_type": "stream",
     "text": [
      "Trainning loss=2.2795\n"
     ]
    },
    {
     "name": "stderr",
     "output_type": "stream",
     "text": [
      " 11%|█         | 1/9 [00:00<00:01,  6.57it/s]"
     ]
    },
    {
     "name": "stdout",
     "output_type": "stream",
     "text": [
      "VAL: rmse=6.2943, mae=4.4090, mape=0.1450, acc=0.8736, r2_score=0.6822, var_score=0.6844\n",
      "VAL loss=2.6996\n",
      "==========EPOCH 178===========\n"
     ]
    },
    {
     "name": "stderr",
     "output_type": "stream",
     "text": [
      "                                             \r"
     ]
    },
    {
     "name": "stdout",
     "output_type": "stream",
     "text": [
      "Trainning loss=2.0400\n"
     ]
    },
    {
     "name": "stderr",
     "output_type": "stream",
     "text": [
      " 11%|█         | 1/9 [00:00<00:01,  6.65it/s]"
     ]
    },
    {
     "name": "stdout",
     "output_type": "stream",
     "text": [
      "VAL: rmse=6.3394, mae=4.4793, mape=0.1481, acc=0.8716, r2_score=0.6777, var_score=0.6819\n",
      "VAL loss=2.7384\n",
      "==========EPOCH 179===========\n"
     ]
    },
    {
     "name": "stderr",
     "output_type": "stream",
     "text": [
      "                                             \r"
     ]
    },
    {
     "name": "stdout",
     "output_type": "stream",
     "text": [
      "Trainning loss=1.9564\n"
     ]
    },
    {
     "name": "stderr",
     "output_type": "stream",
     "text": [
      " 11%|█         | 1/9 [00:00<00:01,  6.58it/s]"
     ]
    },
    {
     "name": "stdout",
     "output_type": "stream",
     "text": [
      "VAL: rmse=6.3102, mae=4.4196, mape=0.1446, acc=0.8733, r2_score=0.6806, var_score=0.6817\n",
      "VAL loss=2.7129\n",
      "==========EPOCH 180===========\n"
     ]
    },
    {
     "name": "stderr",
     "output_type": "stream",
     "text": [
      "                                             \r"
     ]
    },
    {
     "name": "stdout",
     "output_type": "stream",
     "text": [
      "Trainning loss=1.9027\n"
     ]
    },
    {
     "name": "stderr",
     "output_type": "stream",
     "text": [
      " 11%|█         | 1/9 [00:00<00:01,  6.48it/s]"
     ]
    },
    {
     "name": "stdout",
     "output_type": "stream",
     "text": [
      "VAL: rmse=6.2873, mae=4.4067, mape=0.1449, acc=0.8737, r2_score=0.6830, var_score=0.6851\n",
      "VAL loss=2.6930\n",
      "==========EPOCH 181===========\n"
     ]
    },
    {
     "name": "stderr",
     "output_type": "stream",
     "text": [
      "                                             \r"
     ]
    },
    {
     "name": "stdout",
     "output_type": "stream",
     "text": [
      "Trainning loss=1.9688\n"
     ]
    },
    {
     "name": "stderr",
     "output_type": "stream",
     "text": [
      " 11%|█         | 1/9 [00:00<00:01,  6.53it/s]"
     ]
    },
    {
     "name": "stdout",
     "output_type": "stream",
     "text": [
      "VAL: rmse=6.3613, mae=4.5200, mape=0.1514, acc=0.8704, r2_score=0.6754, var_score=0.6867\n",
      "VAL loss=2.7571\n",
      "==========EPOCH 182===========\n"
     ]
    },
    {
     "name": "stderr",
     "output_type": "stream",
     "text": [
      "                                             \r"
     ]
    },
    {
     "name": "stdout",
     "output_type": "stream",
     "text": [
      "Trainning loss=2.0999\n"
     ]
    },
    {
     "name": "stderr",
     "output_type": "stream",
     "text": [
      " 11%|█         | 1/9 [00:00<00:01,  6.60it/s]"
     ]
    },
    {
     "name": "stdout",
     "output_type": "stream",
     "text": [
      "VAL: rmse=6.4162, mae=4.5915, mape=0.1544, acc=0.8684, r2_score=0.6698, var_score=0.6851\n",
      "VAL loss=2.8052\n",
      "==========EPOCH 183===========\n"
     ]
    },
    {
     "name": "stderr",
     "output_type": "stream",
     "text": [
      "                                             \r"
     ]
    },
    {
     "name": "stdout",
     "output_type": "stream",
     "text": [
      "Trainning loss=2.1991\n"
     ]
    },
    {
     "name": "stderr",
     "output_type": "stream",
     "text": [
      " 11%|█         | 1/9 [00:00<00:01,  6.57it/s]"
     ]
    },
    {
     "name": "stdout",
     "output_type": "stream",
     "text": [
      "VAL: rmse=6.5217, mae=4.7188, mape=0.1586, acc=0.8647, r2_score=0.6589, var_score=0.6756\n",
      "VAL loss=2.8985\n",
      "==========EPOCH 184===========\n"
     ]
    },
    {
     "name": "stderr",
     "output_type": "stream",
     "text": [
      "                                             \r"
     ]
    },
    {
     "name": "stdout",
     "output_type": "stream",
     "text": [
      "Trainning loss=2.4968\n"
     ]
    },
    {
     "name": "stderr",
     "output_type": "stream",
     "text": [
      " 11%|█         | 1/9 [00:00<00:01,  6.51it/s]"
     ]
    },
    {
     "name": "stdout",
     "output_type": "stream",
     "text": [
      "VAL: rmse=6.7516, mae=4.9758, mape=0.1660, acc=0.8574, r2_score=0.6344, var_score=0.6482\n",
      "VAL loss=3.1073\n",
      "==========EPOCH 185===========\n"
     ]
    },
    {
     "name": "stderr",
     "output_type": "stream",
     "text": [
      "                                             \r"
     ]
    },
    {
     "name": "stdout",
     "output_type": "stream",
     "text": [
      "Trainning loss=2.8315\n"
     ]
    },
    {
     "name": "stderr",
     "output_type": "stream",
     "text": [
      " 11%|█         | 1/9 [00:00<00:01,  6.48it/s]"
     ]
    },
    {
     "name": "stdout",
     "output_type": "stream",
     "text": [
      "VAL: rmse=6.8212, mae=4.9729, mape=0.1599, acc=0.8574, r2_score=0.6268, var_score=0.6273\n",
      "VAL loss=3.1723\n",
      "==========EPOCH 186===========\n"
     ]
    },
    {
     "name": "stderr",
     "output_type": "stream",
     "text": [
      "                                             \r"
     ]
    },
    {
     "name": "stdout",
     "output_type": "stream",
     "text": [
      "Trainning loss=2.5264\n"
     ]
    },
    {
     "name": "stderr",
     "output_type": "stream",
     "text": [
      " 11%|█         | 1/9 [00:00<00:01,  6.63it/s]"
     ]
    },
    {
     "name": "stdout",
     "output_type": "stream",
     "text": [
      "VAL: rmse=6.3429, mae=4.4258, mape=0.1407, acc=0.8731, r2_score=0.6773, var_score=0.6799\n",
      "VAL loss=2.7416\n",
      "==========EPOCH 187===========\n"
     ]
    },
    {
     "name": "stderr",
     "output_type": "stream",
     "text": [
      "                                             \r"
     ]
    },
    {
     "name": "stdout",
     "output_type": "stream",
     "text": [
      "Trainning loss=2.0269\n"
     ]
    },
    {
     "name": "stderr",
     "output_type": "stream",
     "text": [
      " 11%|█         | 1/9 [00:00<00:01,  6.59it/s]"
     ]
    },
    {
     "name": "stdout",
     "output_type": "stream",
     "text": [
      "VAL: rmse=6.4476, mae=4.6032, mape=0.1540, acc=0.8680, r2_score=0.6666, var_score=0.6781\n",
      "VAL loss=2.8327\n",
      "==========EPOCH 188===========\n"
     ]
    },
    {
     "name": "stderr",
     "output_type": "stream",
     "text": [
      "                                             \r"
     ]
    },
    {
     "name": "stdout",
     "output_type": "stream",
     "text": [
      "Trainning loss=2.2187\n"
     ]
    },
    {
     "name": "stderr",
     "output_type": "stream",
     "text": [
      " 11%|█         | 1/9 [00:00<00:01,  6.49it/s]"
     ]
    },
    {
     "name": "stdout",
     "output_type": "stream",
     "text": [
      "VAL: rmse=6.4692, mae=4.6618, mape=0.1570, acc=0.8664, r2_score=0.6643, var_score=0.6820\n",
      "VAL loss=2.8519\n",
      "==========EPOCH 189===========\n"
     ]
    },
    {
     "name": "stderr",
     "output_type": "stream",
     "text": [
      "                                             \r"
     ]
    },
    {
     "name": "stdout",
     "output_type": "stream",
     "text": [
      "Trainning loss=2.1996\n"
     ]
    },
    {
     "name": "stderr",
     "output_type": "stream",
     "text": [
      " 11%|█         | 1/9 [00:00<00:01,  6.57it/s]"
     ]
    },
    {
     "name": "stdout",
     "output_type": "stream",
     "text": [
      "VAL: rmse=6.3773, mae=4.5380, mape=0.1516, acc=0.8699, r2_score=0.6738, var_score=0.6836\n",
      "VAL loss=2.7713\n",
      "==========EPOCH 190===========\n"
     ]
    },
    {
     "name": "stderr",
     "output_type": "stream",
     "text": [
      "                                             \r"
     ]
    },
    {
     "name": "stdout",
     "output_type": "stream",
     "text": [
      "Trainning loss=2.0189\n"
     ]
    },
    {
     "name": "stderr",
     "output_type": "stream",
     "text": [
      " 11%|█         | 1/9 [00:00<00:01,  6.56it/s]"
     ]
    },
    {
     "name": "stdout",
     "output_type": "stream",
     "text": [
      "VAL: rmse=6.3426, mae=4.4818, mape=0.1494, acc=0.8715, r2_score=0.6773, var_score=0.6853\n",
      "VAL loss=2.7409\n",
      "==========EPOCH 191===========\n"
     ]
    },
    {
     "name": "stderr",
     "output_type": "stream",
     "text": [
      "                                             \r"
     ]
    },
    {
     "name": "stdout",
     "output_type": "stream",
     "text": [
      "Trainning loss=2.0450\n"
     ]
    },
    {
     "name": "stderr",
     "output_type": "stream",
     "text": [
      " 11%|█         | 1/9 [00:00<00:01,  6.61it/s]"
     ]
    },
    {
     "name": "stdout",
     "output_type": "stream",
     "text": [
      "VAL: rmse=6.3742, mae=4.5250, mape=0.1516, acc=0.8703, r2_score=0.6741, var_score=0.6854\n",
      "VAL loss=2.7684\n",
      "==========EPOCH 192===========\n"
     ]
    },
    {
     "name": "stderr",
     "output_type": "stream",
     "text": [
      "                                             \r"
     ]
    },
    {
     "name": "stdout",
     "output_type": "stream",
     "text": [
      "Trainning loss=2.1272\n"
     ]
    },
    {
     "name": "stderr",
     "output_type": "stream",
     "text": [
      " 11%|█         | 1/9 [00:00<00:01,  6.58it/s]"
     ]
    },
    {
     "name": "stdout",
     "output_type": "stream",
     "text": [
      "VAL: rmse=6.4675, mae=4.6571, mape=0.1575, acc=0.8665, r2_score=0.6645, var_score=0.6851\n",
      "VAL loss=2.8503\n",
      "==========EPOCH 193===========\n"
     ]
    },
    {
     "name": "stderr",
     "output_type": "stream",
     "text": [
      "                                             \r"
     ]
    },
    {
     "name": "stdout",
     "output_type": "stream",
     "text": [
      "Trainning loss=2.3928\n"
     ]
    },
    {
     "name": "stderr",
     "output_type": "stream",
     "text": [
      " 11%|█         | 1/9 [00:00<00:01,  6.61it/s]"
     ]
    },
    {
     "name": "stdout",
     "output_type": "stream",
     "text": [
      "VAL: rmse=6.7013, mae=4.9473, mape=0.1688, acc=0.8582, r2_score=0.6398, var_score=0.6782\n",
      "VAL loss=3.0609\n",
      "==========EPOCH 194===========\n"
     ]
    },
    {
     "name": "stderr",
     "output_type": "stream",
     "text": [
      "                                             \r"
     ]
    },
    {
     "name": "stdout",
     "output_type": "stream",
     "text": [
      "Trainning loss=2.8756\n"
     ]
    },
    {
     "name": "stderr",
     "output_type": "stream",
     "text": [
      " 11%|█         | 1/9 [00:00<00:01,  6.58it/s]"
     ]
    },
    {
     "name": "stdout",
     "output_type": "stream",
     "text": [
      "VAL: rmse=6.9408, mae=5.2035, mape=0.1756, acc=0.8508, r2_score=0.6136, var_score=0.6456\n",
      "VAL loss=3.2847\n",
      "==========EPOCH 195===========\n"
     ]
    },
    {
     "name": "stderr",
     "output_type": "stream",
     "text": [
      "                                             \r"
     ]
    },
    {
     "name": "stdout",
     "output_type": "stream",
     "text": [
      "Trainning loss=3.0370\n"
     ]
    },
    {
     "name": "stderr",
     "output_type": "stream",
     "text": [
      " 11%|█         | 1/9 [00:00<00:01,  6.64it/s]"
     ]
    },
    {
     "name": "stdout",
     "output_type": "stream",
     "text": [
      "VAL: rmse=6.7943, mae=4.9381, mape=0.1598, acc=0.8584, r2_score=0.6298, var_score=0.6300\n",
      "VAL loss=3.1475\n",
      "==========EPOCH 196===========\n"
     ]
    },
    {
     "name": "stderr",
     "output_type": "stream",
     "text": [
      "                                             \r"
     ]
    },
    {
     "name": "stdout",
     "output_type": "stream",
     "text": [
      "Trainning loss=2.2692\n"
     ]
    },
    {
     "name": "stderr",
     "output_type": "stream",
     "text": [
      " 11%|█         | 1/9 [00:00<00:01,  6.26it/s]"
     ]
    },
    {
     "name": "stdout",
     "output_type": "stream",
     "text": [
      "VAL: rmse=6.3003, mae=4.4007, mape=0.1431, acc=0.8739, r2_score=0.6816, var_score=0.6818\n",
      "VAL loss=2.7042\n",
      "==========EPOCH 197===========\n"
     ]
    },
    {
     "name": "stderr",
     "output_type": "stream",
     "text": [
      "                                             \r"
     ]
    },
    {
     "name": "stdout",
     "output_type": "stream",
     "text": [
      "Trainning loss=2.1670\n"
     ]
    },
    {
     "name": "stderr",
     "output_type": "stream",
     "text": [
      " 11%|█         | 1/9 [00:00<00:01,  5.92it/s]"
     ]
    },
    {
     "name": "stdout",
     "output_type": "stream",
     "text": [
      "VAL: rmse=6.4478, mae=4.5923, mape=0.1531, acc=0.8684, r2_score=0.6666, var_score=0.6759\n",
      "VAL loss=2.8333\n",
      "==========EPOCH 198===========\n"
     ]
    },
    {
     "name": "stderr",
     "output_type": "stream",
     "text": [
      "                                             \r"
     ]
    },
    {
     "name": "stdout",
     "output_type": "stream",
     "text": [
      "Trainning loss=2.0124\n"
     ]
    },
    {
     "name": "stderr",
     "output_type": "stream",
     "text": [
      " 11%|█         | 1/9 [00:00<00:01,  5.99it/s]"
     ]
    },
    {
     "name": "stdout",
     "output_type": "stream",
     "text": [
      "VAL: rmse=6.3072, mae=4.4204, mape=0.1449, acc=0.8733, r2_score=0.6809, var_score=0.6824\n",
      "VAL loss=2.7102\n",
      "==========EPOCH 199===========\n"
     ]
    },
    {
     "name": "stderr",
     "output_type": "stream",
     "text": [
      "                                             \r"
     ]
    },
    {
     "name": "stdout",
     "output_type": "stream",
     "text": [
      "Trainning loss=1.9490\n"
     ]
    },
    {
     "name": "stderr",
     "output_type": "stream",
     "text": [
      " 11%|█         | 1/9 [00:00<00:01,  6.10it/s]"
     ]
    },
    {
     "name": "stdout",
     "output_type": "stream",
     "text": [
      "VAL: rmse=6.2968, mae=4.4195, mape=0.1461, acc=0.8733, r2_score=0.6820, var_score=0.6858\n",
      "VAL loss=2.7013\n",
      "==========EPOCH 200===========\n"
     ]
    },
    {
     "name": "stderr",
     "output_type": "stream",
     "text": [
      "                                             \r"
     ]
    },
    {
     "name": "stdout",
     "output_type": "stream",
     "text": [
      "Trainning loss=1.9836\n"
     ]
    },
    {
     "name": "stderr",
     "output_type": "stream",
     "text": [
      " 11%|█         | 1/9 [00:00<00:01,  5.92it/s]"
     ]
    },
    {
     "name": "stdout",
     "output_type": "stream",
     "text": [
      "VAL: rmse=6.3564, mae=4.5038, mape=0.1506, acc=0.8709, r2_score=0.6759, var_score=0.6859\n",
      "VAL loss=2.7529\n",
      "==========EPOCH 201===========\n"
     ]
    },
    {
     "name": "stderr",
     "output_type": "stream",
     "text": [
      "                                             \r"
     ]
    },
    {
     "name": "stdout",
     "output_type": "stream",
     "text": [
      "Trainning loss=2.0354\n"
     ]
    },
    {
     "name": "stderr",
     "output_type": "stream",
     "text": [
      " 11%|█         | 1/9 [00:00<00:01,  5.92it/s]"
     ]
    },
    {
     "name": "stdout",
     "output_type": "stream",
     "text": [
      "VAL: rmse=6.3490, mae=4.5006, mape=0.1506, acc=0.8710, r2_score=0.6767, var_score=0.6870\n",
      "VAL loss=2.7465\n",
      "==========EPOCH 202===========\n"
     ]
    },
    {
     "name": "stderr",
     "output_type": "stream",
     "text": [
      "                                             \r"
     ]
    },
    {
     "name": "stdout",
     "output_type": "stream",
     "text": [
      "Trainning loss=2.0921\n"
     ]
    },
    {
     "name": "stderr",
     "output_type": "stream",
     "text": [
      " 11%|█         | 1/9 [00:00<00:01,  5.82it/s]"
     ]
    },
    {
     "name": "stdout",
     "output_type": "stream",
     "text": [
      "VAL: rmse=6.4897, mae=4.6876, mape=0.1582, acc=0.8656, r2_score=0.6622, var_score=0.6819\n",
      "VAL loss=2.8699\n",
      "==========EPOCH 203===========\n"
     ]
    },
    {
     "name": "stderr",
     "output_type": "stream",
     "text": [
      "                                             \r"
     ]
    },
    {
     "name": "stdout",
     "output_type": "stream",
     "text": [
      "Trainning loss=2.6556\n"
     ]
    },
    {
     "name": "stderr",
     "output_type": "stream",
     "text": [
      " 11%|█         | 1/9 [00:00<00:01,  6.07it/s]"
     ]
    },
    {
     "name": "stdout",
     "output_type": "stream",
     "text": [
      "VAL: rmse=7.0908, mae=5.3409, mape=0.1816, acc=0.8469, r2_score=0.5967, var_score=0.6446\n",
      "VAL loss=3.4281\n",
      "==========EPOCH 204===========\n"
     ]
    },
    {
     "name": "stderr",
     "output_type": "stream",
     "text": [
      "                                             \r"
     ]
    },
    {
     "name": "stdout",
     "output_type": "stream",
     "text": [
      "Trainning loss=3.4840\n"
     ]
    },
    {
     "name": "stderr",
     "output_type": "stream",
     "text": [
      " 11%|█         | 1/9 [00:00<00:01,  5.95it/s]"
     ]
    },
    {
     "name": "stdout",
     "output_type": "stream",
     "text": [
      "VAL: rmse=6.7309, mae=4.9066, mape=0.1590, acc=0.8593, r2_score=0.6366, var_score=0.6372\n",
      "VAL loss=3.0896\n",
      "==========EPOCH 205===========\n"
     ]
    },
    {
     "name": "stderr",
     "output_type": "stream",
     "text": [
      "                                             \r"
     ]
    },
    {
     "name": "stdout",
     "output_type": "stream",
     "text": [
      "Trainning loss=2.3071\n"
     ]
    },
    {
     "name": "stderr",
     "output_type": "stream",
     "text": [
      " 11%|█         | 1/9 [00:00<00:01,  6.36it/s]"
     ]
    },
    {
     "name": "stdout",
     "output_type": "stream",
     "text": [
      "VAL: rmse=6.4378, mae=4.5242, mape=0.1422, acc=0.8703, r2_score=0.6676, var_score=0.6749\n",
      "VAL loss=2.8245\n",
      "==========EPOCH 206===========\n"
     ]
    },
    {
     "name": "stderr",
     "output_type": "stream",
     "text": [
      "                                             \r"
     ]
    },
    {
     "name": "stdout",
     "output_type": "stream",
     "text": [
      "Trainning loss=2.2350\n"
     ]
    },
    {
     "name": "stderr",
     "output_type": "stream",
     "text": [
      " 11%|█         | 1/9 [00:00<00:01,  5.98it/s]"
     ]
    },
    {
     "name": "stdout",
     "output_type": "stream",
     "text": [
      "VAL: rmse=6.6862, mae=4.9016, mape=0.1677, acc=0.8595, r2_score=0.6414, var_score=0.6800\n",
      "VAL loss=3.0471\n",
      "==========EPOCH 207===========\n"
     ]
    },
    {
     "name": "stderr",
     "output_type": "stream",
     "text": [
      "                                             \r"
     ]
    },
    {
     "name": "stdout",
     "output_type": "stream",
     "text": [
      "Trainning loss=2.3279\n"
     ]
    },
    {
     "name": "stderr",
     "output_type": "stream",
     "text": [
      " 11%|█         | 1/9 [00:00<00:01,  6.13it/s]"
     ]
    },
    {
     "name": "stdout",
     "output_type": "stream",
     "text": [
      "VAL: rmse=6.2739, mae=4.3677, mape=0.1417, acc=0.8748, r2_score=0.6843, var_score=0.6844\n",
      "VAL loss=2.6817\n",
      "==========EPOCH 208===========\n"
     ]
    },
    {
     "name": "stderr",
     "output_type": "stream",
     "text": [
      "                                             \r"
     ]
    },
    {
     "name": "stdout",
     "output_type": "stream",
     "text": [
      "Trainning loss=1.8839\n"
     ]
    },
    {
     "name": "stderr",
     "output_type": "stream",
     "text": [
      " 11%|█         | 1/9 [00:00<00:01,  6.03it/s]"
     ]
    },
    {
     "name": "stdout",
     "output_type": "stream",
     "text": [
      "VAL: rmse=6.2702, mae=4.3662, mape=0.1420, acc=0.8748, r2_score=0.6847, var_score=0.6848\n",
      "VAL loss=2.6784\n",
      "==========EPOCH 209===========\n"
     ]
    },
    {
     "name": "stderr",
     "output_type": "stream",
     "text": [
      "                                             \r"
     ]
    },
    {
     "name": "stdout",
     "output_type": "stream",
     "text": [
      "Trainning loss=1.9713\n"
     ]
    },
    {
     "name": "stderr",
     "output_type": "stream",
     "text": [
      " 11%|█         | 1/9 [00:00<00:01,  6.22it/s]"
     ]
    },
    {
     "name": "stdout",
     "output_type": "stream",
     "text": [
      "VAL: rmse=6.3952, mae=4.5500, mape=0.1525, acc=0.8696, r2_score=0.6720, var_score=0.6838\n",
      "VAL loss=2.7867\n",
      "==========EPOCH 210===========\n"
     ]
    },
    {
     "name": "stderr",
     "output_type": "stream",
     "text": [
      "                                             \r"
     ]
    },
    {
     "name": "stdout",
     "output_type": "stream",
     "text": [
      "Trainning loss=2.2269\n"
     ]
    },
    {
     "name": "stderr",
     "output_type": "stream",
     "text": [
      " 11%|█         | 1/9 [00:00<00:01,  6.18it/s]"
     ]
    },
    {
     "name": "stdout",
     "output_type": "stream",
     "text": [
      "VAL: rmse=6.5979, mae=4.7424, mape=0.1564, acc=0.8641, r2_score=0.6509, var_score=0.6564\n",
      "VAL loss=2.9668\n",
      "==========EPOCH 211===========\n"
     ]
    },
    {
     "name": "stderr",
     "output_type": "stream",
     "text": [
      "                                             \r"
     ]
    },
    {
     "name": "stdout",
     "output_type": "stream",
     "text": [
      "Trainning loss=2.6819\n"
     ]
    },
    {
     "name": "stderr",
     "output_type": "stream",
     "text": [
      " 11%|█         | 1/9 [00:00<00:01,  5.87it/s]"
     ]
    },
    {
     "name": "stdout",
     "output_type": "stream",
     "text": [
      "VAL: rmse=6.7574, mae=4.8952, mape=0.1585, acc=0.8597, r2_score=0.6338, var_score=0.6341\n",
      "VAL loss=3.1131\n",
      "==========EPOCH 212===========\n"
     ]
    },
    {
     "name": "stderr",
     "output_type": "stream",
     "text": [
      "                                             \r"
     ]
    },
    {
     "name": "stdout",
     "output_type": "stream",
     "text": [
      "Trainning loss=2.3250\n"
     ]
    },
    {
     "name": "stderr",
     "output_type": "stream",
     "text": [
      " 11%|█         | 1/9 [00:00<00:01,  6.00it/s]"
     ]
    },
    {
     "name": "stdout",
     "output_type": "stream",
     "text": [
      "VAL: rmse=6.3007, mae=4.4000, mape=0.1425, acc=0.8739, r2_score=0.6816, var_score=0.6816\n",
      "VAL loss=2.7048\n",
      "==========EPOCH 213===========\n"
     ]
    },
    {
     "name": "stderr",
     "output_type": "stream",
     "text": [
      "                                             \r"
     ]
    },
    {
     "name": "stdout",
     "output_type": "stream",
     "text": [
      "Trainning loss=2.0443\n"
     ]
    },
    {
     "name": "stderr",
     "output_type": "stream",
     "text": [
      " 11%|█         | 1/9 [00:00<00:01,  7.14it/s]"
     ]
    },
    {
     "name": "stdout",
     "output_type": "stream",
     "text": [
      "VAL: rmse=6.5035, mae=4.6733, mape=0.1568, acc=0.8660, r2_score=0.6608, var_score=0.6753\n",
      "VAL loss=2.8823\n",
      "==========EPOCH 214===========\n"
     ]
    },
    {
     "name": "stderr",
     "output_type": "stream",
     "text": [
      "                                             \r"
     ]
    },
    {
     "name": "stdout",
     "output_type": "stream",
     "text": [
      "Trainning loss=2.2206\n"
     ]
    },
    {
     "name": "stderr",
     "output_type": "stream",
     "text": [
      " 11%|█         | 1/9 [00:00<00:01,  6.77it/s]"
     ]
    },
    {
     "name": "stdout",
     "output_type": "stream",
     "text": [
      "VAL: rmse=6.3189, mae=4.4519, mape=0.1475, acc=0.8724, r2_score=0.6798, var_score=0.6849\n",
      "VAL loss=2.7206\n",
      "==========EPOCH 215===========\n"
     ]
    },
    {
     "name": "stderr",
     "output_type": "stream",
     "text": [
      "                                             \r"
     ]
    },
    {
     "name": "stdout",
     "output_type": "stream",
     "text": [
      "Trainning loss=1.9266\n"
     ]
    },
    {
     "name": "stderr",
     "output_type": "stream",
     "text": [
      " 11%|█         | 1/9 [00:00<00:01,  7.11it/s]"
     ]
    },
    {
     "name": "stdout",
     "output_type": "stream",
     "text": [
      "VAL: rmse=6.3128, mae=4.4344, mape=0.1456, acc=0.8729, r2_score=0.6804, var_score=0.6822\n",
      "VAL loss=2.7150\n",
      "==========EPOCH 216===========\n"
     ]
    },
    {
     "name": "stderr",
     "output_type": "stream",
     "text": [
      "                                             \r"
     ]
    },
    {
     "name": "stdout",
     "output_type": "stream",
     "text": [
      "Trainning loss=2.0359\n"
     ]
    },
    {
     "name": "stderr",
     "output_type": "stream",
     "text": [
      " 11%|█         | 1/9 [00:00<00:01,  6.60it/s]"
     ]
    },
    {
     "name": "stdout",
     "output_type": "stream",
     "text": [
      "VAL: rmse=6.4552, mae=4.6431, mape=0.1562, acc=0.8669, r2_score=0.6658, var_score=0.6819\n",
      "VAL loss=2.8393\n",
      "==========EPOCH 217===========\n"
     ]
    },
    {
     "name": "stderr",
     "output_type": "stream",
     "text": [
      "                                             \r"
     ]
    },
    {
     "name": "stdout",
     "output_type": "stream",
     "text": [
      "Trainning loss=2.4312\n"
     ]
    },
    {
     "name": "stderr",
     "output_type": "stream",
     "text": [
      " 11%|█         | 1/9 [00:00<00:01,  6.44it/s]"
     ]
    },
    {
     "name": "stdout",
     "output_type": "stream",
     "text": [
      "VAL: rmse=6.7550, mae=4.9745, mape=0.1679, acc=0.8574, r2_score=0.6340, var_score=0.6611\n",
      "VAL loss=3.1104\n",
      "==========EPOCH 218===========\n"
     ]
    },
    {
     "name": "stderr",
     "output_type": "stream",
     "text": [
      "                                             \r"
     ]
    },
    {
     "name": "stdout",
     "output_type": "stream",
     "text": [
      "Trainning loss=2.6703\n"
     ]
    },
    {
     "name": "stderr",
     "output_type": "stream",
     "text": [
      " 11%|█         | 1/9 [00:00<00:01,  6.63it/s]"
     ]
    },
    {
     "name": "stdout",
     "output_type": "stream",
     "text": [
      "VAL: rmse=6.4642, mae=4.6300, mape=0.1533, acc=0.8673, r2_score=0.6649, var_score=0.6712\n",
      "VAL loss=2.8481\n",
      "==========EPOCH 219===========\n"
     ]
    },
    {
     "name": "stderr",
     "output_type": "stream",
     "text": [
      "                                             \r"
     ]
    },
    {
     "name": "stdout",
     "output_type": "stream",
     "text": [
      "Trainning loss=1.9692\n"
     ]
    },
    {
     "name": "stderr",
     "output_type": "stream",
     "text": [
      " 11%|█         | 1/9 [00:00<00:01,  6.88it/s]"
     ]
    },
    {
     "name": "stdout",
     "output_type": "stream",
     "text": [
      "VAL: rmse=6.3223, mae=4.4261, mape=0.1437, acc=0.8731, r2_score=0.6794, var_score=0.6795\n",
      "VAL loss=2.7231\n",
      "==========EPOCH 220===========\n"
     ]
    },
    {
     "name": "stderr",
     "output_type": "stream",
     "text": [
      "                                             \r"
     ]
    },
    {
     "name": "stdout",
     "output_type": "stream",
     "text": [
      "Trainning loss=2.0987\n"
     ]
    },
    {
     "name": "stderr",
     "output_type": "stream",
     "text": [
      " 11%|█         | 1/9 [00:00<00:01,  6.71it/s]"
     ]
    },
    {
     "name": "stdout",
     "output_type": "stream",
     "text": [
      "VAL: rmse=6.4679, mae=4.6276, mape=0.1550, acc=0.8673, r2_score=0.6645, var_score=0.6771\n",
      "VAL loss=2.8507\n",
      "==========EPOCH 221===========\n"
     ]
    },
    {
     "name": "stderr",
     "output_type": "stream",
     "text": [
      "                                             \r"
     ]
    },
    {
     "name": "stdout",
     "output_type": "stream",
     "text": [
      "Trainning loss=2.2514\n"
     ]
    },
    {
     "name": "stderr",
     "output_type": "stream",
     "text": [
      " 11%|█         | 1/9 [00:00<00:01,  6.69it/s]"
     ]
    },
    {
     "name": "stdout",
     "output_type": "stream",
     "text": [
      "VAL: rmse=6.4254, mae=4.5968, mape=0.1550, acc=0.8682, r2_score=0.6689, var_score=0.6862\n",
      "VAL loss=2.8134\n",
      "==========EPOCH 222===========\n"
     ]
    },
    {
     "name": "stderr",
     "output_type": "stream",
     "text": [
      "                                             \r"
     ]
    },
    {
     "name": "stdout",
     "output_type": "stream",
     "text": [
      "Trainning loss=2.0822\n"
     ]
    },
    {
     "name": "stderr",
     "output_type": "stream",
     "text": [
      " 11%|█         | 1/9 [00:00<00:01,  6.69it/s]"
     ]
    },
    {
     "name": "stdout",
     "output_type": "stream",
     "text": [
      "VAL: rmse=6.3684, mae=4.4996, mape=0.1483, acc=0.8710, r2_score=0.6747, var_score=0.6778\n",
      "VAL loss=2.7634\n",
      "==========EPOCH 223===========\n"
     ]
    },
    {
     "name": "stderr",
     "output_type": "stream",
     "text": [
      "                                             \r"
     ]
    },
    {
     "name": "stdout",
     "output_type": "stream",
     "text": [
      "Trainning loss=2.2436\n"
     ]
    },
    {
     "name": "stderr",
     "output_type": "stream",
     "text": [
      " 11%|█         | 1/9 [00:00<00:01,  6.73it/s]"
     ]
    },
    {
     "name": "stdout",
     "output_type": "stream",
     "text": [
      "VAL: rmse=6.7565, mae=4.9002, mape=0.1597, acc=0.8595, r2_score=0.6339, var_score=0.6350\n",
      "VAL loss=3.1114\n",
      "==========EPOCH 224===========\n"
     ]
    },
    {
     "name": "stderr",
     "output_type": "stream",
     "text": [
      "                                             \r"
     ]
    },
    {
     "name": "stdout",
     "output_type": "stream",
     "text": [
      "Trainning loss=3.3816\n"
     ]
    },
    {
     "name": "stderr",
     "output_type": "stream",
     "text": [
      " 11%|█         | 1/9 [00:00<00:01,  7.11it/s]"
     ]
    },
    {
     "name": "stdout",
     "output_type": "stream",
     "text": [
      "VAL: rmse=7.1324, mae=5.2869, mape=0.1675, acc=0.8484, r2_score=0.5920, var_score=0.5955\n",
      "VAL loss=3.4705\n",
      "==========EPOCH 225===========\n"
     ]
    },
    {
     "name": "stderr",
     "output_type": "stream",
     "text": [
      "                                             \r"
     ]
    },
    {
     "name": "stdout",
     "output_type": "stream",
     "text": [
      "Trainning loss=2.5221\n"
     ]
    },
    {
     "name": "stderr",
     "output_type": "stream",
     "text": [
      " 11%|█         | 1/9 [00:00<00:01,  6.61it/s]"
     ]
    },
    {
     "name": "stdout",
     "output_type": "stream",
     "text": [
      "VAL: rmse=6.5034, mae=4.6140, mape=0.1473, acc=0.8677, r2_score=0.6608, var_score=0.6622\n",
      "VAL loss=2.8820\n",
      "==========EPOCH 226===========\n"
     ]
    },
    {
     "name": "stderr",
     "output_type": "stream",
     "text": [
      "                                             \r"
     ]
    },
    {
     "name": "stdout",
     "output_type": "stream",
     "text": [
      "Trainning loss=2.2052\n"
     ]
    },
    {
     "name": "stderr",
     "output_type": "stream",
     "text": [
      " 11%|█         | 1/9 [00:00<00:01,  6.80it/s]"
     ]
    },
    {
     "name": "stdout",
     "output_type": "stream",
     "text": [
      "VAL: rmse=6.3464, mae=4.4900, mape=0.1499, acc=0.8713, r2_score=0.6770, var_score=0.6856\n",
      "VAL loss=2.7443\n",
      "==========EPOCH 227===========\n"
     ]
    },
    {
     "name": "stderr",
     "output_type": "stream",
     "text": [
      "                                             \r"
     ]
    },
    {
     "name": "stdout",
     "output_type": "stream",
     "text": [
      "Trainning loss=2.0825\n"
     ]
    },
    {
     "name": "stderr",
     "output_type": "stream",
     "text": [
      " 11%|█         | 1/9 [00:00<00:01,  6.99it/s]"
     ]
    },
    {
     "name": "stdout",
     "output_type": "stream",
     "text": [
      "VAL: rmse=6.4644, mae=4.6214, mape=0.1519, acc=0.8675, r2_score=0.6648, var_score=0.6678\n",
      "VAL loss=2.8475\n",
      "==========EPOCH 228===========\n"
     ]
    },
    {
     "name": "stderr",
     "output_type": "stream",
     "text": [
      "                                             \r"
     ]
    },
    {
     "name": "stdout",
     "output_type": "stream",
     "text": [
      "Trainning loss=2.3940\n"
     ]
    },
    {
     "name": "stderr",
     "output_type": "stream",
     "text": [
      " 11%|█         | 1/9 [00:00<00:01,  6.78it/s]"
     ]
    },
    {
     "name": "stdout",
     "output_type": "stream",
     "text": [
      "VAL: rmse=6.6685, mae=4.9019, mape=0.1666, acc=0.8595, r2_score=0.6433, var_score=0.6748\n",
      "VAL loss=3.0311\n",
      "==========EPOCH 229===========\n"
     ]
    },
    {
     "name": "stderr",
     "output_type": "stream",
     "text": [
      "                                             \r"
     ]
    },
    {
     "name": "stdout",
     "output_type": "stream",
     "text": [
      "Trainning loss=2.3579\n"
     ]
    },
    {
     "name": "stderr",
     "output_type": "stream",
     "text": [
      " 11%|█         | 1/9 [00:00<00:01,  6.90it/s]"
     ]
    },
    {
     "name": "stdout",
     "output_type": "stream",
     "text": [
      "VAL: rmse=6.3354, mae=4.4667, mape=0.1468, acc=0.8720, r2_score=0.6781, var_score=0.6805\n",
      "VAL loss=2.7349\n",
      "==========EPOCH 230===========\n"
     ]
    },
    {
     "name": "stderr",
     "output_type": "stream",
     "text": [
      "                                             \r"
     ]
    },
    {
     "name": "stdout",
     "output_type": "stream",
     "text": [
      "Trainning loss=1.8968\n"
     ]
    },
    {
     "name": "stderr",
     "output_type": "stream",
     "text": [
      " 11%|█         | 1/9 [00:00<00:01,  6.72it/s]"
     ]
    },
    {
     "name": "stdout",
     "output_type": "stream",
     "text": [
      "VAL: rmse=6.2764, mae=4.3752, mape=0.1426, acc=0.8746, r2_score=0.6840, var_score=0.6844\n",
      "VAL loss=2.6837\n",
      "==========EPOCH 231===========\n"
     ]
    },
    {
     "name": "stderr",
     "output_type": "stream",
     "text": [
      "                                             \r"
     ]
    },
    {
     "name": "stdout",
     "output_type": "stream",
     "text": [
      "Trainning loss=1.9191\n"
     ]
    },
    {
     "name": "stderr",
     "output_type": "stream",
     "text": [
      " 11%|█         | 1/9 [00:00<00:01,  6.92it/s]"
     ]
    },
    {
     "name": "stdout",
     "output_type": "stream",
     "text": [
      "VAL: rmse=6.2811, mae=4.3901, mape=0.1442, acc=0.8742, r2_score=0.6836, var_score=0.6854\n",
      "VAL loss=2.6878\n",
      "==========EPOCH 232===========\n"
     ]
    },
    {
     "name": "stderr",
     "output_type": "stream",
     "text": [
      "                                             \r"
     ]
    },
    {
     "name": "stdout",
     "output_type": "stream",
     "text": [
      "Trainning loss=1.9061\n"
     ]
    },
    {
     "name": "stderr",
     "output_type": "stream",
     "text": [
      " 11%|█         | 1/9 [00:00<00:01,  7.01it/s]"
     ]
    },
    {
     "name": "stdout",
     "output_type": "stream",
     "text": [
      "VAL: rmse=6.3117, mae=4.4452, mape=0.1472, acc=0.8726, r2_score=0.6805, var_score=0.6851\n",
      "VAL loss=2.7141\n",
      "==========EPOCH 233===========\n"
     ]
    },
    {
     "name": "stderr",
     "output_type": "stream",
     "text": [
      "                                             \r"
     ]
    },
    {
     "name": "stdout",
     "output_type": "stream",
     "text": [
      "Trainning loss=2.0820\n"
     ]
    },
    {
     "name": "stderr",
     "output_type": "stream",
     "text": [
      " 11%|█         | 1/9 [00:00<00:01,  6.76it/s]"
     ]
    },
    {
     "name": "stdout",
     "output_type": "stream",
     "text": [
      "VAL: rmse=6.5177, mae=4.7167, mape=0.1589, acc=0.8648, r2_score=0.6593, var_score=0.6779\n",
      "VAL loss=2.8948\n",
      "==========EPOCH 234===========\n"
     ]
    },
    {
     "name": "stderr",
     "output_type": "stream",
     "text": [
      "                                             \r"
     ]
    },
    {
     "name": "stdout",
     "output_type": "stream",
     "text": [
      "Trainning loss=2.5671\n"
     ]
    },
    {
     "name": "stderr",
     "output_type": "stream",
     "text": [
      " 11%|█         | 1/9 [00:00<00:01,  7.10it/s]"
     ]
    },
    {
     "name": "stdout",
     "output_type": "stream",
     "text": [
      "VAL: rmse=6.7712, mae=5.0034, mape=0.1694, acc=0.8566, r2_score=0.6323, var_score=0.6632\n",
      "VAL loss=3.1257\n",
      "==========EPOCH 235===========\n"
     ]
    },
    {
     "name": "stderr",
     "output_type": "stream",
     "text": [
      "                                             \r"
     ]
    },
    {
     "name": "stdout",
     "output_type": "stream",
     "text": [
      "Trainning loss=2.4674\n"
     ]
    },
    {
     "name": "stderr",
     "output_type": "stream",
     "text": [
      " 11%|█         | 1/9 [00:00<00:01,  6.81it/s]"
     ]
    },
    {
     "name": "stdout",
     "output_type": "stream",
     "text": [
      "VAL: rmse=6.3259, mae=4.4577, mape=0.1473, acc=0.8722, r2_score=0.6791, var_score=0.6832\n",
      "VAL loss=2.7267\n",
      "==========EPOCH 236===========\n"
     ]
    },
    {
     "name": "stderr",
     "output_type": "stream",
     "text": [
      "                                             \r"
     ]
    },
    {
     "name": "stdout",
     "output_type": "stream",
     "text": [
      "Trainning loss=1.9525\n"
     ]
    },
    {
     "name": "stderr",
     "output_type": "stream",
     "text": [
      " 11%|█         | 1/9 [00:00<00:01,  6.96it/s]"
     ]
    },
    {
     "name": "stdout",
     "output_type": "stream",
     "text": [
      "VAL: rmse=6.3748, mae=4.4963, mape=0.1470, acc=0.8711, r2_score=0.6741, var_score=0.6751\n",
      "VAL loss=2.7689\n",
      "==========EPOCH 237===========\n"
     ]
    },
    {
     "name": "stderr",
     "output_type": "stream",
     "text": [
      "                                             \r"
     ]
    },
    {
     "name": "stdout",
     "output_type": "stream",
     "text": [
      "Trainning loss=2.1823\n"
     ]
    },
    {
     "name": "stderr",
     "output_type": "stream",
     "text": [
      " 11%|█         | 1/9 [00:00<00:01,  6.59it/s]"
     ]
    },
    {
     "name": "stdout",
     "output_type": "stream",
     "text": [
      "VAL: rmse=6.4967, mae=4.6621, mape=0.1568, acc=0.8664, r2_score=0.6615, var_score=0.6775\n",
      "VAL loss=2.8764\n",
      "==========EPOCH 238===========\n"
     ]
    },
    {
     "name": "stderr",
     "output_type": "stream",
     "text": [
      "                                             \r"
     ]
    },
    {
     "name": "stdout",
     "output_type": "stream",
     "text": [
      "Trainning loss=2.2062\n"
     ]
    },
    {
     "name": "stderr",
     "output_type": "stream",
     "text": [
      " 11%|█         | 1/9 [00:00<00:01,  6.63it/s]"
     ]
    },
    {
     "name": "stdout",
     "output_type": "stream",
     "text": [
      "VAL: rmse=6.3522, mae=4.5030, mape=0.1507, acc=0.8709, r2_score=0.6764, var_score=0.6868\n",
      "VAL loss=2.7494\n",
      "==========EPOCH 239===========\n"
     ]
    },
    {
     "name": "stderr",
     "output_type": "stream",
     "text": [
      "                                             \r"
     ]
    },
    {
     "name": "stdout",
     "output_type": "stream",
     "text": [
      "Trainning loss=1.9898\n"
     ]
    },
    {
     "name": "stderr",
     "output_type": "stream",
     "text": [
      " 11%|█         | 1/9 [00:00<00:01,  6.68it/s]"
     ]
    },
    {
     "name": "stdout",
     "output_type": "stream",
     "text": [
      "VAL: rmse=6.3346, mae=4.4683, mape=0.1476, acc=0.8719, r2_score=0.6782, var_score=0.6820\n",
      "VAL loss=2.7339\n",
      "==========EPOCH 240===========\n"
     ]
    },
    {
     "name": "stderr",
     "output_type": "stream",
     "text": [
      "                                             \r"
     ]
    },
    {
     "name": "stdout",
     "output_type": "stream",
     "text": [
      "Trainning loss=2.0454\n"
     ]
    },
    {
     "name": "stderr",
     "output_type": "stream",
     "text": [
      " 11%|█         | 1/9 [00:00<00:01,  6.61it/s]"
     ]
    },
    {
     "name": "stdout",
     "output_type": "stream",
     "text": [
      "VAL: rmse=6.4315, mae=4.6033, mape=0.1546, acc=0.8680, r2_score=0.6682, var_score=0.6820\n",
      "VAL loss=2.8185\n",
      "==========EPOCH 241===========\n"
     ]
    },
    {
     "name": "stderr",
     "output_type": "stream",
     "text": [
      "                                             \r"
     ]
    },
    {
     "name": "stdout",
     "output_type": "stream",
     "text": [
      "Trainning loss=2.3075\n"
     ]
    },
    {
     "name": "stderr",
     "output_type": "stream",
     "text": [
      " 11%|█         | 1/9 [00:00<00:01,  6.92it/s]"
     ]
    },
    {
     "name": "stdout",
     "output_type": "stream",
     "text": [
      "VAL: rmse=6.5828, mae=4.7830, mape=0.1618, acc=0.8629, r2_score=0.6525, var_score=0.6764\n",
      "VAL loss=2.9534\n",
      "==========EPOCH 242===========\n"
     ]
    },
    {
     "name": "stderr",
     "output_type": "stream",
     "text": [
      "                                             \r"
     ]
    },
    {
     "name": "stdout",
     "output_type": "stream",
     "text": [
      "Trainning loss=2.3459\n"
     ]
    },
    {
     "name": "stderr",
     "output_type": "stream",
     "text": [
      " 11%|█         | 1/9 [00:00<00:01,  6.68it/s]"
     ]
    },
    {
     "name": "stdout",
     "output_type": "stream",
     "text": [
      "VAL: rmse=6.4203, mae=4.5762, mape=0.1519, acc=0.8688, r2_score=0.6694, var_score=0.6761\n",
      "VAL loss=2.8090\n",
      "==========EPOCH 243===========\n"
     ]
    },
    {
     "name": "stderr",
     "output_type": "stream",
     "text": [
      "                                             \r"
     ]
    },
    {
     "name": "stdout",
     "output_type": "stream",
     "text": [
      "Trainning loss=2.0611\n"
     ]
    },
    {
     "name": "stderr",
     "output_type": "stream",
     "text": [
      " 11%|█         | 1/9 [00:00<00:01,  6.62it/s]"
     ]
    },
    {
     "name": "stdout",
     "output_type": "stream",
     "text": [
      "VAL: rmse=6.3747, mae=4.5071, mape=0.1476, acc=0.8708, r2_score=0.6741, var_score=0.6755\n",
      "VAL loss=2.7688\n",
      "==========EPOCH 244===========\n"
     ]
    },
    {
     "name": "stderr",
     "output_type": "stream",
     "text": [
      "                                             \r"
     ]
    },
    {
     "name": "stdout",
     "output_type": "stream",
     "text": [
      "Trainning loss=2.1737\n"
     ]
    },
    {
     "name": "stderr",
     "output_type": "stream",
     "text": [
      " 11%|█         | 1/9 [00:00<00:01,  6.78it/s]"
     ]
    },
    {
     "name": "stdout",
     "output_type": "stream",
     "text": [
      "VAL: rmse=6.6160, mae=4.8224, mape=0.1621, acc=0.8618, r2_score=0.6489, var_score=0.6677\n",
      "VAL loss=2.9830\n",
      "==========EPOCH 245===========\n"
     ]
    },
    {
     "name": "stderr",
     "output_type": "stream",
     "text": [
      "                                             \r"
     ]
    },
    {
     "name": "stdout",
     "output_type": "stream",
     "text": [
      "Trainning loss=3.0430\n"
     ]
    },
    {
     "name": "stderr",
     "output_type": "stream",
     "text": [
      " 11%|█         | 1/9 [00:00<00:01,  6.40it/s]"
     ]
    },
    {
     "name": "stdout",
     "output_type": "stream",
     "text": [
      "VAL: rmse=7.3203, mae=5.5946, mape=0.1895, acc=0.8396, r2_score=0.5702, var_score=0.6188\n",
      "VAL loss=3.6547\n",
      "==========EPOCH 246===========\n"
     ]
    },
    {
     "name": "stderr",
     "output_type": "stream",
     "text": [
      "                                             \r"
     ]
    },
    {
     "name": "stdout",
     "output_type": "stream",
     "text": [
      "Trainning loss=3.5533\n"
     ]
    },
    {
     "name": "stderr",
     "output_type": "stream",
     "text": [
      " 11%|█         | 1/9 [00:00<00:01,  6.57it/s]"
     ]
    },
    {
     "name": "stdout",
     "output_type": "stream",
     "text": [
      "VAL: rmse=6.6379, mae=4.7535, mape=0.1490, acc=0.8637, r2_score=0.6466, var_score=0.6554\n",
      "VAL loss=3.0042\n",
      "==========EPOCH 247===========\n"
     ]
    },
    {
     "name": "stderr",
     "output_type": "stream",
     "text": [
      "                                             \r"
     ]
    },
    {
     "name": "stdout",
     "output_type": "stream",
     "text": [
      "Trainning loss=2.2761\n"
     ]
    },
    {
     "name": "stderr",
     "output_type": "stream",
     "text": [
      " 11%|█         | 1/9 [00:00<00:01,  6.68it/s]"
     ]
    },
    {
     "name": "stdout",
     "output_type": "stream",
     "text": [
      "VAL: rmse=6.4037, mae=4.5509, mape=0.1517, acc=0.8695, r2_score=0.6711, var_score=0.6789\n",
      "VAL loss=2.7940\n",
      "==========EPOCH 248===========\n"
     ]
    },
    {
     "name": "stderr",
     "output_type": "stream",
     "text": [
      "                                             \r"
     ]
    },
    {
     "name": "stdout",
     "output_type": "stream",
     "text": [
      "Trainning loss=2.2661\n"
     ]
    },
    {
     "name": "stderr",
     "output_type": "stream",
     "text": [
      " 11%|█         | 1/9 [00:00<00:01,  6.77it/s]"
     ]
    },
    {
     "name": "stdout",
     "output_type": "stream",
     "text": [
      "VAL: rmse=6.2872, mae=4.4006, mape=0.1443, acc=0.8739, r2_score=0.6830, var_score=0.6845\n",
      "VAL loss=2.6933\n",
      "==========EPOCH 249===========\n"
     ]
    },
    {
     "name": "stderr",
     "output_type": "stream",
     "text": [
      "                                             \r"
     ]
    },
    {
     "name": "stdout",
     "output_type": "stream",
     "text": [
      "Trainning loss=1.8994\n"
     ]
    },
    {
     "name": "stderr",
     "output_type": "stream",
     "text": [
      " 11%|█         | 1/9 [00:00<00:01,  6.98it/s]"
     ]
    },
    {
     "name": "stdout",
     "output_type": "stream",
     "text": [
      "VAL: rmse=6.2898, mae=4.3808, mape=0.1417, acc=0.8744, r2_score=0.6827, var_score=0.6827\n",
      "VAL loss=2.6953\n",
      "==========EPOCH 250===========\n"
     ]
    },
    {
     "name": "stderr",
     "output_type": "stream",
     "text": [
      "                                             \r"
     ]
    },
    {
     "name": "stdout",
     "output_type": "stream",
     "text": [
      "Trainning loss=1.9192\n"
     ]
    },
    {
     "name": "stderr",
     "output_type": "stream",
     "text": [
      " 11%|█         | 1/9 [00:00<00:01,  6.64it/s]"
     ]
    },
    {
     "name": "stdout",
     "output_type": "stream",
     "text": [
      "VAL: rmse=6.3015, mae=4.4163, mape=0.1452, acc=0.8734, r2_score=0.6815, var_score=0.6835\n",
      "VAL loss=2.7053\n",
      "==========EPOCH 251===========\n"
     ]
    },
    {
     "name": "stderr",
     "output_type": "stream",
     "text": [
      "                                             \r"
     ]
    },
    {
     "name": "stdout",
     "output_type": "stream",
     "text": [
      "Trainning loss=1.9595\n"
     ]
    },
    {
     "name": "stderr",
     "output_type": "stream",
     "text": [
      " 11%|█         | 1/9 [00:00<00:01,  7.04it/s]"
     ]
    },
    {
     "name": "stdout",
     "output_type": "stream",
     "text": [
      "VAL: rmse=6.3060, mae=4.4323, mape=0.1468, acc=0.8729, r2_score=0.6811, var_score=0.6857\n",
      "VAL loss=2.7093\n",
      "==========EPOCH 252===========\n"
     ]
    },
    {
     "name": "stderr",
     "output_type": "stream",
     "text": [
      "                                             \r"
     ]
    },
    {
     "name": "stdout",
     "output_type": "stream",
     "text": [
      "Trainning loss=1.9226\n"
     ]
    },
    {
     "name": "stderr",
     "output_type": "stream",
     "text": [
      " 11%|█         | 1/9 [00:00<00:01,  6.68it/s]"
     ]
    },
    {
     "name": "stdout",
     "output_type": "stream",
     "text": [
      "VAL: rmse=6.2714, mae=4.3733, mape=0.1430, acc=0.8746, r2_score=0.6846, var_score=0.6854\n",
      "VAL loss=2.6795\n",
      "==========EPOCH 253===========\n"
     ]
    },
    {
     "name": "stderr",
     "output_type": "stream",
     "text": [
      "                                             \r"
     ]
    },
    {
     "name": "stdout",
     "output_type": "stream",
     "text": [
      "Trainning loss=1.8956\n"
     ]
    },
    {
     "name": "stderr",
     "output_type": "stream",
     "text": [
      " 11%|█         | 1/9 [00:00<00:01,  6.99it/s]"
     ]
    },
    {
     "name": "stdout",
     "output_type": "stream",
     "text": [
      "VAL: rmse=6.2980, mae=4.4141, mape=0.1455, acc=0.8735, r2_score=0.6819, var_score=0.6847\n",
      "VAL loss=2.7023\n",
      "==========EPOCH 254===========\n"
     ]
    },
    {
     "name": "stderr",
     "output_type": "stream",
     "text": [
      "                                             \r"
     ]
    },
    {
     "name": "stdout",
     "output_type": "stream",
     "text": [
      "Trainning loss=1.9955\n"
     ]
    },
    {
     "name": "stderr",
     "output_type": "stream",
     "text": [
      " 11%|█         | 1/9 [00:00<00:01,  6.68it/s]"
     ]
    },
    {
     "name": "stdout",
     "output_type": "stream",
     "text": [
      "VAL: rmse=6.3864, mae=4.5262, mape=0.1506, acc=0.8703, r2_score=0.6729, var_score=0.6803\n",
      "VAL loss=2.7790\n",
      "==========EPOCH 255===========\n"
     ]
    },
    {
     "name": "stderr",
     "output_type": "stream",
     "text": [
      "                                             \r"
     ]
    },
    {
     "name": "stdout",
     "output_type": "stream",
     "text": [
      "Trainning loss=2.1714\n"
     ]
    },
    {
     "name": "stderr",
     "output_type": "stream",
     "text": [
      " 11%|█         | 1/9 [00:00<00:01,  6.63it/s]"
     ]
    },
    {
     "name": "stdout",
     "output_type": "stream",
     "text": [
      "VAL: rmse=6.4698, mae=4.6214, mape=0.1543, acc=0.8675, r2_score=0.6643, var_score=0.6748\n",
      "VAL loss=2.8525\n",
      "==========EPOCH 256===========\n"
     ]
    },
    {
     "name": "stderr",
     "output_type": "stream",
     "text": [
      "                                             \r"
     ]
    },
    {
     "name": "stdout",
     "output_type": "stream",
     "text": [
      "Trainning loss=2.1512\n"
     ]
    },
    {
     "name": "stderr",
     "output_type": "stream",
     "text": [
      " 11%|█         | 1/9 [00:00<00:01,  6.56it/s]"
     ]
    },
    {
     "name": "stdout",
     "output_type": "stream",
     "text": [
      "VAL: rmse=6.3391, mae=4.4789, mape=0.1489, acc=0.8716, r2_score=0.6777, var_score=0.6844\n",
      "VAL loss=2.7380\n",
      "==========EPOCH 257===========\n"
     ]
    },
    {
     "name": "stderr",
     "output_type": "stream",
     "text": [
      "                                             \r"
     ]
    },
    {
     "name": "stdout",
     "output_type": "stream",
     "text": [
      "Trainning loss=2.0708\n"
     ]
    },
    {
     "name": "stderr",
     "output_type": "stream",
     "text": [
      " 11%|█         | 1/9 [00:00<00:01,  6.55it/s]"
     ]
    },
    {
     "name": "stdout",
     "output_type": "stream",
     "text": [
      "VAL: rmse=6.6131, mae=4.8007, mape=0.1597, acc=0.8624, r2_score=0.6492, var_score=0.6597\n",
      "VAL loss=2.9801\n",
      "==========EPOCH 258===========\n"
     ]
    },
    {
     "name": "stderr",
     "output_type": "stream",
     "text": [
      "                                             \r"
     ]
    },
    {
     "name": "stdout",
     "output_type": "stream",
     "text": [
      "Trainning loss=3.7600\n"
     ]
    },
    {
     "name": "stderr",
     "output_type": "stream",
     "text": [
      " 11%|█         | 1/9 [00:00<00:01,  6.65it/s]"
     ]
    },
    {
     "name": "stdout",
     "output_type": "stream",
     "text": [
      "VAL: rmse=7.9559, mae=6.0608, mape=0.2012, acc=0.8263, r2_score=0.4923, var_score=0.5304\n",
      "VAL loss=4.3204\n",
      "==========EPOCH 259===========\n"
     ]
    },
    {
     "name": "stderr",
     "output_type": "stream",
     "text": [
      "                                             \r"
     ]
    },
    {
     "name": "stdout",
     "output_type": "stream",
     "text": [
      "Trainning loss=3.1947\n"
     ]
    },
    {
     "name": "stderr",
     "output_type": "stream",
     "text": [
      " 11%|█         | 1/9 [00:00<00:01,  6.78it/s]"
     ]
    },
    {
     "name": "stdout",
     "output_type": "stream",
     "text": [
      "VAL: rmse=6.8308, mae=4.9856, mape=0.1586, acc=0.8571, r2_score=0.6258, var_score=0.6297\n",
      "VAL loss=3.1804\n",
      "==========EPOCH 260===========\n"
     ]
    },
    {
     "name": "stderr",
     "output_type": "stream",
     "text": [
      "                                             \r"
     ]
    },
    {
     "name": "stdout",
     "output_type": "stream",
     "text": [
      "Trainning loss=2.3648\n"
     ]
    },
    {
     "name": "stderr",
     "output_type": "stream",
     "text": [
      " 11%|█         | 1/9 [00:00<00:01,  6.66it/s]"
     ]
    },
    {
     "name": "stdout",
     "output_type": "stream",
     "text": [
      "VAL: rmse=6.5355, mae=4.7240, mape=0.1576, acc=0.8646, r2_score=0.6574, var_score=0.6682\n",
      "VAL loss=2.9110\n",
      "==========EPOCH 261===========\n"
     ]
    },
    {
     "name": "stderr",
     "output_type": "stream",
     "text": [
      "                                             \r"
     ]
    },
    {
     "name": "stdout",
     "output_type": "stream",
     "text": [
      "Trainning loss=2.0412\n"
     ]
    },
    {
     "name": "stderr",
     "output_type": "stream",
     "text": [
      " 11%|█         | 1/9 [00:00<00:01,  6.76it/s]"
     ]
    },
    {
     "name": "stdout",
     "output_type": "stream",
     "text": [
      "VAL: rmse=6.3203, mae=4.4074, mape=0.1411, acc=0.8737, r2_score=0.6796, var_score=0.6806\n",
      "VAL loss=2.7219\n",
      "==========EPOCH 262===========\n"
     ]
    },
    {
     "name": "stderr",
     "output_type": "stream",
     "text": [
      "                                             \r"
     ]
    },
    {
     "name": "stdout",
     "output_type": "stream",
     "text": [
      "Trainning loss=1.9656\n"
     ]
    },
    {
     "name": "stderr",
     "output_type": "stream",
     "text": [
      " 11%|█         | 1/9 [00:00<00:01,  6.55it/s]"
     ]
    },
    {
     "name": "stdout",
     "output_type": "stream",
     "text": [
      "VAL: rmse=6.3115, mae=4.4436, mape=0.1475, acc=0.8726, r2_score=0.6805, var_score=0.6864\n",
      "VAL loss=2.7141\n",
      "==========EPOCH 263===========\n"
     ]
    },
    {
     "name": "stderr",
     "output_type": "stream",
     "text": [
      "                                             \r"
     ]
    },
    {
     "name": "stdout",
     "output_type": "stream",
     "text": [
      "Trainning loss=1.9281\n"
     ]
    },
    {
     "name": "stderr",
     "output_type": "stream",
     "text": [
      " 11%|█         | 1/9 [00:00<00:01,  7.13it/s]"
     ]
    },
    {
     "name": "stdout",
     "output_type": "stream",
     "text": [
      "VAL: rmse=6.2660, mae=4.3673, mape=0.1429, acc=0.8748, r2_score=0.6851, var_score=0.6860\n",
      "VAL loss=2.6749\n",
      "==========EPOCH 264===========\n"
     ]
    },
    {
     "name": "stderr",
     "output_type": "stream",
     "text": [
      "                                             \r"
     ]
    },
    {
     "name": "stdout",
     "output_type": "stream",
     "text": [
      "Trainning loss=1.8934\n"
     ]
    },
    {
     "name": "stderr",
     "output_type": "stream",
     "text": [
      " 11%|█         | 1/9 [00:00<00:01,  6.73it/s]"
     ]
    },
    {
     "name": "stdout",
     "output_type": "stream",
     "text": [
      "VAL: rmse=6.2742, mae=4.3816, mape=0.1439, acc=0.8744, r2_score=0.6843, var_score=0.6860\n",
      "VAL loss=2.6818\n",
      "==========EPOCH 265===========\n"
     ]
    },
    {
     "name": "stderr",
     "output_type": "stream",
     "text": [
      "                                             \r"
     ]
    },
    {
     "name": "stdout",
     "output_type": "stream",
     "text": [
      "Trainning loss=1.9185\n"
     ]
    },
    {
     "name": "stderr",
     "output_type": "stream",
     "text": [
      " 11%|█         | 1/9 [00:00<00:01,  6.64it/s]"
     ]
    },
    {
     "name": "stdout",
     "output_type": "stream",
     "text": [
      "VAL: rmse=6.3012, mae=4.4251, mape=0.1466, acc=0.8732, r2_score=0.6816, var_score=0.6862\n",
      "VAL loss=2.7051\n",
      "==========EPOCH 266===========\n"
     ]
    },
    {
     "name": "stderr",
     "output_type": "stream",
     "text": [
      "                                             \r"
     ]
    },
    {
     "name": "stdout",
     "output_type": "stream",
     "text": [
      "Trainning loss=1.9592\n"
     ]
    },
    {
     "name": "stderr",
     "output_type": "stream",
     "text": [
      " 11%|█         | 1/9 [00:00<00:01,  6.93it/s]"
     ]
    },
    {
     "name": "stdout",
     "output_type": "stream",
     "text": [
      "VAL: rmse=6.3197, mae=4.4470, mape=0.1475, acc=0.8725, r2_score=0.6797, var_score=0.6849\n",
      "VAL loss=2.7210\n",
      "==========EPOCH 267===========\n"
     ]
    },
    {
     "name": "stderr",
     "output_type": "stream",
     "text": [
      "                                             \r"
     ]
    },
    {
     "name": "stdout",
     "output_type": "stream",
     "text": [
      "Trainning loss=2.0263\n"
     ]
    },
    {
     "name": "stderr",
     "output_type": "stream",
     "text": [
      " 11%|█         | 1/9 [00:00<00:01,  6.63it/s]"
     ]
    },
    {
     "name": "stdout",
     "output_type": "stream",
     "text": [
      "VAL: rmse=6.4183, mae=4.5664, mape=0.1524, acc=0.8691, r2_score=0.6696, var_score=0.6791\n",
      "VAL loss=2.8069\n",
      "==========EPOCH 268===========\n"
     ]
    },
    {
     "name": "stderr",
     "output_type": "stream",
     "text": [
      "                                             \r"
     ]
    },
    {
     "name": "stdout",
     "output_type": "stream",
     "text": [
      "Trainning loss=2.3707\n"
     ]
    },
    {
     "name": "stderr",
     "output_type": "stream",
     "text": [
      " 11%|█         | 1/9 [00:00<00:01,  6.82it/s]"
     ]
    },
    {
     "name": "stdout",
     "output_type": "stream",
     "text": [
      "VAL: rmse=6.7613, mae=4.9286, mape=0.1635, acc=0.8587, r2_score=0.6334, var_score=0.6439\n",
      "VAL loss=3.1161\n",
      "==========EPOCH 269===========\n"
     ]
    },
    {
     "name": "stderr",
     "output_type": "stream",
     "text": [
      "                                             \r"
     ]
    },
    {
     "name": "stdout",
     "output_type": "stream",
     "text": [
      "Trainning loss=2.9069\n"
     ]
    },
    {
     "name": "stderr",
     "output_type": "stream",
     "text": [
      " 11%|█         | 1/9 [00:00<00:01,  6.44it/s]"
     ]
    },
    {
     "name": "stdout",
     "output_type": "stream",
     "text": [
      "VAL: rmse=6.8040, mae=4.9167, mape=0.1568, acc=0.8591, r2_score=0.6287, var_score=0.6304\n",
      "VAL loss=3.1565\n",
      "==========EPOCH 270===========\n"
     ]
    },
    {
     "name": "stderr",
     "output_type": "stream",
     "text": [
      "                                             \r"
     ]
    },
    {
     "name": "stdout",
     "output_type": "stream",
     "text": [
      "Trainning loss=2.2812\n"
     ]
    },
    {
     "name": "stderr",
     "output_type": "stream",
     "text": [
      " 11%|█         | 1/9 [00:00<00:01,  6.94it/s]"
     ]
    },
    {
     "name": "stdout",
     "output_type": "stream",
     "text": [
      "VAL: rmse=6.2809, mae=4.3729, mape=0.1420, acc=0.8746, r2_score=0.6836, var_score=0.6836\n",
      "VAL loss=2.6876\n",
      "==========EPOCH 271===========\n"
     ]
    },
    {
     "name": "stderr",
     "output_type": "stream",
     "text": [
      "                                             \r"
     ]
    },
    {
     "name": "stdout",
     "output_type": "stream",
     "text": [
      "Trainning loss=2.1271\n"
     ]
    },
    {
     "name": "stderr",
     "output_type": "stream",
     "text": [
      " 11%|█         | 1/9 [00:00<00:01,  6.65it/s]"
     ]
    },
    {
     "name": "stdout",
     "output_type": "stream",
     "text": [
      "VAL: rmse=6.3625, mae=4.5015, mape=0.1501, acc=0.8710, r2_score=0.6753, var_score=0.6837\n",
      "VAL loss=2.7586\n",
      "==========EPOCH 272===========\n"
     ]
    },
    {
     "name": "stderr",
     "output_type": "stream",
     "text": [
      "                                             \r"
     ]
    },
    {
     "name": "stdout",
     "output_type": "stream",
     "text": [
      "Trainning loss=1.9359\n"
     ]
    },
    {
     "name": "stderr",
     "output_type": "stream",
     "text": [
      " 11%|█         | 1/9 [00:00<00:01,  6.97it/s]"
     ]
    },
    {
     "name": "stdout",
     "output_type": "stream",
     "text": [
      "VAL: rmse=6.2944, mae=4.3868, mape=0.1420, acc=0.8743, r2_score=0.6822, var_score=0.6822\n",
      "VAL loss=2.6992\n",
      "==========EPOCH 273===========\n"
     ]
    },
    {
     "name": "stderr",
     "output_type": "stream",
     "text": [
      "                                             \r"
     ]
    },
    {
     "name": "stdout",
     "output_type": "stream",
     "text": [
      "Trainning loss=1.8995\n"
     ]
    },
    {
     "name": "stderr",
     "output_type": "stream",
     "text": [
      " 11%|█         | 1/9 [00:00<00:01,  6.58it/s]"
     ]
    },
    {
     "name": "stdout",
     "output_type": "stream",
     "text": [
      "VAL: rmse=6.3016, mae=4.4210, mape=0.1462, acc=0.8733, r2_score=0.6815, var_score=0.6853\n",
      "VAL loss=2.7054\n",
      "==========EPOCH 274===========\n"
     ]
    },
    {
     "name": "stderr",
     "output_type": "stream",
     "text": [
      "                                             \r"
     ]
    },
    {
     "name": "stdout",
     "output_type": "stream",
     "text": [
      "Trainning loss=1.9255\n"
     ]
    },
    {
     "name": "stderr",
     "output_type": "stream",
     "text": [
      " 11%|█         | 1/9 [00:00<00:01,  6.38it/s]"
     ]
    },
    {
     "name": "stdout",
     "output_type": "stream",
     "text": [
      "VAL: rmse=6.2812, mae=4.3960, mape=0.1446, acc=0.8740, r2_score=0.6836, var_score=0.6857\n",
      "VAL loss=2.6879\n",
      "==========EPOCH 275===========\n"
     ]
    },
    {
     "name": "stderr",
     "output_type": "stream",
     "text": [
      "                                             \r"
     ]
    },
    {
     "name": "stdout",
     "output_type": "stream",
     "text": [
      "Trainning loss=1.9136\n"
     ]
    },
    {
     "name": "stderr",
     "output_type": "stream",
     "text": [
      " 11%|█         | 1/9 [00:00<00:01,  6.12it/s]"
     ]
    },
    {
     "name": "stdout",
     "output_type": "stream",
     "text": [
      "VAL: rmse=6.3073, mae=4.4361, mape=0.1471, acc=0.8728, r2_score=0.6809, var_score=0.6860\n",
      "VAL loss=2.7103\n",
      "==========EPOCH 276===========\n"
     ]
    },
    {
     "name": "stderr",
     "output_type": "stream",
     "text": [
      "                                             \r"
     ]
    },
    {
     "name": "stdout",
     "output_type": "stream",
     "text": [
      "Trainning loss=1.9873\n"
     ]
    },
    {
     "name": "stderr",
     "output_type": "stream",
     "text": [
      " 11%|█         | 1/9 [00:00<00:01,  6.47it/s]"
     ]
    },
    {
     "name": "stdout",
     "output_type": "stream",
     "text": [
      "VAL: rmse=6.3507, mae=4.5019, mape=0.1506, acc=0.8709, r2_score=0.6765, var_score=0.6864\n",
      "VAL loss=2.7479\n",
      "==========EPOCH 277===========\n"
     ]
    },
    {
     "name": "stderr",
     "output_type": "stream",
     "text": [
      "                                             \r"
     ]
    },
    {
     "name": "stdout",
     "output_type": "stream",
     "text": [
      "Trainning loss=2.0671\n"
     ]
    },
    {
     "name": "stderr",
     "output_type": "stream",
     "text": [
      " 11%|█         | 1/9 [00:00<00:01,  6.57it/s]"
     ]
    },
    {
     "name": "stdout",
     "output_type": "stream",
     "text": [
      "VAL: rmse=6.4143, mae=4.5894, mape=0.1542, acc=0.8684, r2_score=0.6700, var_score=0.6842\n",
      "VAL loss=2.8035\n",
      "==========EPOCH 278===========\n"
     ]
    },
    {
     "name": "stderr",
     "output_type": "stream",
     "text": [
      "                                             \r"
     ]
    },
    {
     "name": "stdout",
     "output_type": "stream",
     "text": [
      "Trainning loss=2.2118\n"
     ]
    },
    {
     "name": "stderr",
     "output_type": "stream",
     "text": [
      " 11%|█         | 1/9 [00:00<00:01,  6.68it/s]"
     ]
    },
    {
     "name": "stdout",
     "output_type": "stream",
     "text": [
      "VAL: rmse=6.5032, mae=4.7049, mape=0.1592, acc=0.8651, r2_score=0.6608, var_score=0.6827\n",
      "VAL loss=2.8821\n",
      "==========EPOCH 279===========\n"
     ]
    },
    {
     "name": "stderr",
     "output_type": "stream",
     "text": [
      "                                             \r"
     ]
    },
    {
     "name": "stdout",
     "output_type": "stream",
     "text": [
      "Trainning loss=2.2883\n"
     ]
    },
    {
     "name": "stderr",
     "output_type": "stream",
     "text": [
      " 11%|█         | 1/9 [00:00<00:01,  6.41it/s]"
     ]
    },
    {
     "name": "stdout",
     "output_type": "stream",
     "text": [
      "VAL: rmse=6.4503, mae=4.6348, mape=0.1562, acc=0.8671, r2_score=0.6663, var_score=0.6836\n",
      "VAL loss=2.8354\n",
      "==========EPOCH 280===========\n"
     ]
    },
    {
     "name": "stderr",
     "output_type": "stream",
     "text": [
      "                                             \r"
     ]
    },
    {
     "name": "stdout",
     "output_type": "stream",
     "text": [
      "Trainning loss=2.0840\n"
     ]
    },
    {
     "name": "stderr",
     "output_type": "stream",
     "text": [
      " 11%|█         | 1/9 [00:00<00:01,  7.09it/s]"
     ]
    },
    {
     "name": "stdout",
     "output_type": "stream",
     "text": [
      "VAL: rmse=6.3120, mae=4.4438, mape=0.1476, acc=0.8726, r2_score=0.6805, var_score=0.6862\n",
      "VAL loss=2.7145\n",
      "==========EPOCH 281===========\n"
     ]
    },
    {
     "name": "stderr",
     "output_type": "stream",
     "text": [
      "                                             \r"
     ]
    },
    {
     "name": "stdout",
     "output_type": "stream",
     "text": [
      "Trainning loss=1.9368\n"
     ]
    },
    {
     "name": "stderr",
     "output_type": "stream",
     "text": [
      " 11%|█         | 1/9 [00:00<00:01,  6.58it/s]"
     ]
    },
    {
     "name": "stdout",
     "output_type": "stream",
     "text": [
      "VAL: rmse=6.3114, mae=4.4381, mape=0.1473, acc=0.8728, r2_score=0.6805, var_score=0.6859\n",
      "VAL loss=2.7138\n",
      "==========EPOCH 282===========\n"
     ]
    },
    {
     "name": "stderr",
     "output_type": "stream",
     "text": [
      "                                             \r"
     ]
    },
    {
     "name": "stdout",
     "output_type": "stream",
     "text": [
      "Trainning loss=2.0611\n"
     ]
    },
    {
     "name": "stderr",
     "output_type": "stream",
     "text": [
      " 11%|█         | 1/9 [00:00<00:01,  7.14it/s]"
     ]
    },
    {
     "name": "stdout",
     "output_type": "stream",
     "text": [
      "VAL: rmse=6.4792, mae=4.6422, mape=0.1560, acc=0.8669, r2_score=0.6633, var_score=0.6783\n",
      "VAL loss=2.8606\n",
      "==========EPOCH 283===========\n"
     ]
    },
    {
     "name": "stderr",
     "output_type": "stream",
     "text": [
      "                                             \r"
     ]
    },
    {
     "name": "stdout",
     "output_type": "stream",
     "text": [
      "Trainning loss=2.4340\n"
     ]
    },
    {
     "name": "stderr",
     "output_type": "stream",
     "text": [
      " 11%|█         | 1/9 [00:00<00:01,  6.66it/s]"
     ]
    },
    {
     "name": "stdout",
     "output_type": "stream",
     "text": [
      "VAL: rmse=6.6294, mae=4.8153, mape=0.1611, acc=0.8620, r2_score=0.6475, var_score=0.6616\n",
      "VAL loss=2.9957\n",
      "==========EPOCH 284===========\n"
     ]
    },
    {
     "name": "stderr",
     "output_type": "stream",
     "text": [
      "                                             \r"
     ]
    },
    {
     "name": "stdout",
     "output_type": "stream",
     "text": [
      "Trainning loss=2.3924\n"
     ]
    },
    {
     "name": "stderr",
     "output_type": "stream",
     "text": [
      " 11%|█         | 1/9 [00:00<00:01,  6.77it/s]"
     ]
    },
    {
     "name": "stdout",
     "output_type": "stream",
     "text": [
      "VAL: rmse=6.5137, mae=4.6533, mape=0.1505, acc=0.8666, r2_score=0.6597, var_score=0.6597\n",
      "VAL loss=2.8915\n",
      "==========EPOCH 285===========\n"
     ]
    },
    {
     "name": "stderr",
     "output_type": "stream",
     "text": [
      "                                             \r"
     ]
    },
    {
     "name": "stdout",
     "output_type": "stream",
     "text": [
      "Trainning loss=2.1952\n"
     ]
    },
    {
     "name": "stderr",
     "output_type": "stream",
     "text": [
      " 11%|█         | 1/9 [00:00<00:01,  6.27it/s]"
     ]
    },
    {
     "name": "stdout",
     "output_type": "stream",
     "text": [
      "VAL: rmse=6.3888, mae=4.5427, mape=0.1508, acc=0.8698, r2_score=0.6726, var_score=0.6789\n",
      "VAL loss=2.7812\n",
      "==========EPOCH 286===========\n"
     ]
    },
    {
     "name": "stderr",
     "output_type": "stream",
     "text": [
      "                                             \r"
     ]
    },
    {
     "name": "stdout",
     "output_type": "stream",
     "text": [
      "Trainning loss=2.2861\n"
     ]
    },
    {
     "name": "stderr",
     "output_type": "stream",
     "text": [
      " 11%|█         | 1/9 [00:00<00:01,  6.55it/s]"
     ]
    },
    {
     "name": "stdout",
     "output_type": "stream",
     "text": [
      "VAL: rmse=6.7399, mae=4.9703, mape=0.1688, acc=0.8575, r2_score=0.6357, var_score=0.6687\n",
      "VAL loss=3.0962\n",
      "==========EPOCH 287===========\n"
     ]
    },
    {
     "name": "stderr",
     "output_type": "stream",
     "text": [
      "                                             \r"
     ]
    },
    {
     "name": "stdout",
     "output_type": "stream",
     "text": [
      "Trainning loss=2.9600\n"
     ]
    },
    {
     "name": "stderr",
     "output_type": "stream",
     "text": [
      " 11%|█         | 1/9 [00:00<00:01,  6.49it/s]"
     ]
    },
    {
     "name": "stdout",
     "output_type": "stream",
     "text": [
      "VAL: rmse=6.7206, mae=4.9375, mape=0.1649, acc=0.8585, r2_score=0.6377, var_score=0.6529\n",
      "VAL loss=3.0797\n",
      "==========EPOCH 288===========\n"
     ]
    },
    {
     "name": "stderr",
     "output_type": "stream",
     "text": [
      "                                             \r"
     ]
    },
    {
     "name": "stdout",
     "output_type": "stream",
     "text": [
      "Trainning loss=2.2091\n"
     ]
    },
    {
     "name": "stderr",
     "output_type": "stream",
     "text": [
      " 11%|█         | 1/9 [00:00<00:01,  7.05it/s]"
     ]
    },
    {
     "name": "stdout",
     "output_type": "stream",
     "text": [
      "VAL: rmse=6.3549, mae=4.4637, mape=0.1450, acc=0.8720, r2_score=0.6761, var_score=0.6762\n",
      "VAL loss=2.7516\n",
      "==========EPOCH 289===========\n"
     ]
    },
    {
     "name": "stderr",
     "output_type": "stream",
     "text": [
      "                                             \r"
     ]
    },
    {
     "name": "stdout",
     "output_type": "stream",
     "text": [
      "Trainning loss=2.0062\n"
     ]
    },
    {
     "name": "stderr",
     "output_type": "stream",
     "text": [
      " 11%|█         | 1/9 [00:00<00:01,  7.03it/s]"
     ]
    },
    {
     "name": "stdout",
     "output_type": "stream",
     "text": [
      "VAL: rmse=6.3263, mae=4.4441, mape=0.1464, acc=0.8726, r2_score=0.6790, var_score=0.6817\n",
      "VAL loss=2.7268\n",
      "==========EPOCH 290===========\n"
     ]
    },
    {
     "name": "stderr",
     "output_type": "stream",
     "text": [
      "                                             \r"
     ]
    },
    {
     "name": "stdout",
     "output_type": "stream",
     "text": [
      "Trainning loss=1.9264\n"
     ]
    },
    {
     "name": "stderr",
     "output_type": "stream",
     "text": [
      " 11%|█         | 1/9 [00:00<00:01,  6.64it/s]"
     ]
    },
    {
     "name": "stdout",
     "output_type": "stream",
     "text": [
      "VAL: rmse=6.2620, mae=4.3535, mape=0.1415, acc=0.8752, r2_score=0.6855, var_score=0.6856\n",
      "VAL loss=2.6714\n",
      "==========EPOCH 291===========\n"
     ]
    },
    {
     "name": "stderr",
     "output_type": "stream",
     "text": [
      "                                             \r"
     ]
    },
    {
     "name": "stdout",
     "output_type": "stream",
     "text": [
      "Trainning loss=1.8923\n"
     ]
    },
    {
     "name": "stderr",
     "output_type": "stream",
     "text": [
      " 11%|█         | 1/9 [00:00<00:01,  6.72it/s]"
     ]
    },
    {
     "name": "stdout",
     "output_type": "stream",
     "text": [
      "VAL: rmse=6.3263, mae=4.4629, mape=0.1480, acc=0.8721, r2_score=0.6790, var_score=0.6842\n",
      "VAL loss=2.7267\n",
      "==========EPOCH 292===========\n"
     ]
    },
    {
     "name": "stderr",
     "output_type": "stream",
     "text": [
      "                                             \r"
     ]
    },
    {
     "name": "stdout",
     "output_type": "stream",
     "text": [
      "Trainning loss=2.0687\n"
     ]
    },
    {
     "name": "stderr",
     "output_type": "stream",
     "text": [
      " 11%|█         | 1/9 [00:00<00:01,  6.99it/s]"
     ]
    },
    {
     "name": "stdout",
     "output_type": "stream",
     "text": [
      "VAL: rmse=6.4177, mae=4.5900, mape=0.1539, acc=0.8684, r2_score=0.6697, var_score=0.6822\n",
      "VAL loss=2.8065\n",
      "==========EPOCH 293===========\n"
     ]
    },
    {
     "name": "stderr",
     "output_type": "stream",
     "text": [
      "                                             \r"
     ]
    },
    {
     "name": "stdout",
     "output_type": "stream",
     "text": [
      "Trainning loss=2.1650\n"
     ]
    },
    {
     "name": "stderr",
     "output_type": "stream",
     "text": [
      " 11%|█         | 1/9 [00:00<00:01,  6.39it/s]"
     ]
    },
    {
     "name": "stdout",
     "output_type": "stream",
     "text": [
      "VAL: rmse=6.4463, mae=4.6151, mape=0.1537, acc=0.8677, r2_score=0.6667, var_score=0.6757\n",
      "VAL loss=2.8316\n",
      "==========EPOCH 294===========\n"
     ]
    },
    {
     "name": "stderr",
     "output_type": "stream",
     "text": [
      "                                             \r"
     ]
    },
    {
     "name": "stdout",
     "output_type": "stream",
     "text": [
      "Trainning loss=2.1714\n"
     ]
    },
    {
     "name": "stderr",
     "output_type": "stream",
     "text": [
      " 11%|█         | 1/9 [00:00<00:01,  6.96it/s]"
     ]
    },
    {
     "name": "stdout",
     "output_type": "stream",
     "text": [
      "VAL: rmse=6.4024, mae=4.5621, mape=0.1518, acc=0.8692, r2_score=0.6712, var_score=0.6789\n",
      "VAL loss=2.7932\n",
      "==========EPOCH 295===========\n"
     ]
    },
    {
     "name": "stderr",
     "output_type": "stream",
     "text": [
      "                                             \r"
     ]
    },
    {
     "name": "stdout",
     "output_type": "stream",
     "text": [
      "Trainning loss=2.0328\n"
     ]
    },
    {
     "name": "stderr",
     "output_type": "stream",
     "text": [
      " 11%|█         | 1/9 [00:00<00:01,  6.61it/s]"
     ]
    },
    {
     "name": "stdout",
     "output_type": "stream",
     "text": [
      "VAL: rmse=6.3085, mae=4.4407, mape=0.1474, acc=0.8727, r2_score=0.6808, var_score=0.6863\n",
      "VAL loss=2.7114\n",
      "==========EPOCH 296===========\n"
     ]
    },
    {
     "name": "stderr",
     "output_type": "stream",
     "text": [
      "                                             \r"
     ]
    },
    {
     "name": "stdout",
     "output_type": "stream",
     "text": [
      "Trainning loss=1.9553\n"
     ]
    },
    {
     "name": "stderr",
     "output_type": "stream",
     "text": [
      " 11%|█         | 1/9 [00:00<00:01,  6.62it/s]"
     ]
    },
    {
     "name": "stdout",
     "output_type": "stream",
     "text": [
      "VAL: rmse=6.3371, mae=4.4671, mape=0.1485, acc=0.8719, r2_score=0.6779, var_score=0.6843\n",
      "VAL loss=2.7361\n",
      "==========EPOCH 297===========\n"
     ]
    },
    {
     "name": "stderr",
     "output_type": "stream",
     "text": [
      "                                             \r"
     ]
    },
    {
     "name": "stdout",
     "output_type": "stream",
     "text": [
      "Trainning loss=2.1264\n"
     ]
    },
    {
     "name": "stderr",
     "output_type": "stream",
     "text": [
      " 11%|█         | 1/9 [00:00<00:01,  6.42it/s]"
     ]
    },
    {
     "name": "stdout",
     "output_type": "stream",
     "text": [
      "VAL: rmse=6.5081, mae=4.6540, mape=0.1553, acc=0.8666, r2_score=0.6603, var_score=0.6708\n",
      "VAL loss=2.8864\n",
      "==========EPOCH 298===========\n"
     ]
    },
    {
     "name": "stderr",
     "output_type": "stream",
     "text": [
      "                                             \r"
     ]
    },
    {
     "name": "stdout",
     "output_type": "stream",
     "text": [
      "Trainning loss=2.3414\n"
     ]
    },
    {
     "name": "stderr",
     "output_type": "stream",
     "text": [
      " 11%|█         | 1/9 [00:00<00:01,  6.68it/s]"
     ]
    },
    {
     "name": "stdout",
     "output_type": "stream",
     "text": [
      "VAL: rmse=6.4436, mae=4.5603, mape=0.1488, acc=0.8693, r2_score=0.6670, var_score=0.6679\n",
      "VAL loss=2.8296\n",
      "==========EPOCH 299===========\n"
     ]
    },
    {
     "name": "stderr",
     "output_type": "stream",
     "text": [
      "                                             \r"
     ]
    },
    {
     "name": "stdout",
     "output_type": "stream",
     "text": [
      "Trainning loss=2.0577\n"
     ]
    },
    {
     "name": "stderr",
     "output_type": "stream",
     "text": [
      " 11%|█         | 1/9 [00:00<00:01,  7.09it/s]"
     ]
    },
    {
     "name": "stdout",
     "output_type": "stream",
     "text": [
      "VAL: rmse=6.3478, mae=4.4188, mape=0.1398, acc=0.8733, r2_score=0.6768, var_score=0.6810\n",
      "VAL loss=2.7455\n",
      "==========EPOCH 300===========\n"
     ]
    },
    {
     "name": "stderr",
     "output_type": "stream",
     "text": [
      "                                             \r"
     ]
    },
    {
     "name": "stdout",
     "output_type": "stream",
     "text": [
      "Trainning loss=1.9689\n"
     ]
    },
    {
     "name": "stderr",
     "output_type": "stream",
     "text": [
      " 11%|█         | 1/9 [00:00<00:01,  7.02it/s]"
     ]
    },
    {
     "name": "stdout",
     "output_type": "stream",
     "text": [
      "VAL: rmse=6.3230, mae=4.4278, mape=0.1444, acc=0.8731, r2_score=0.6793, var_score=0.6798\n",
      "VAL loss=2.7239\n",
      "==========EPOCH 301===========\n"
     ]
    },
    {
     "name": "stderr",
     "output_type": "stream",
     "text": [
      "                                             \r"
     ]
    },
    {
     "name": "stdout",
     "output_type": "stream",
     "text": [
      "Trainning loss=2.0363\n"
     ]
    },
    {
     "name": "stderr",
     "output_type": "stream",
     "text": [
      " 11%|█         | 1/9 [00:00<00:01,  6.54it/s]"
     ]
    },
    {
     "name": "stdout",
     "output_type": "stream",
     "text": [
      "VAL: rmse=6.4830, mae=4.6606, mape=0.1555, acc=0.8664, r2_score=0.6629, var_score=0.6733\n",
      "VAL loss=2.8638\n",
      "==========EPOCH 302===========\n"
     ]
    },
    {
     "name": "stderr",
     "output_type": "stream",
     "text": [
      "                                             \r"
     ]
    },
    {
     "name": "stdout",
     "output_type": "stream",
     "text": [
      "Trainning loss=3.2552\n"
     ]
    },
    {
     "name": "stderr",
     "output_type": "stream",
     "text": [
      " 11%|█         | 1/9 [00:00<00:01,  6.57it/s]"
     ]
    },
    {
     "name": "stdout",
     "output_type": "stream",
     "text": [
      "VAL: rmse=7.9258, mae=6.0272, mape=0.2034, acc=0.8272, r2_score=0.4962, var_score=0.5640\n",
      "VAL loss=4.2860\n",
      "==========EPOCH 303===========\n"
     ]
    },
    {
     "name": "stderr",
     "output_type": "stream",
     "text": [
      "                                             \r"
     ]
    },
    {
     "name": "stdout",
     "output_type": "stream",
     "text": [
      "Trainning loss=3.5823\n"
     ]
    },
    {
     "name": "stderr",
     "output_type": "stream",
     "text": [
      " 11%|█         | 1/9 [00:00<00:01,  6.67it/s]"
     ]
    },
    {
     "name": "stdout",
     "output_type": "stream",
     "text": [
      "VAL: rmse=6.8615, mae=5.0371, mape=0.1616, acc=0.8556, r2_score=0.6224, var_score=0.6230\n",
      "VAL loss=3.2080\n",
      "==========EPOCH 304===========\n"
     ]
    },
    {
     "name": "stderr",
     "output_type": "stream",
     "text": [
      "                                             \r"
     ]
    },
    {
     "name": "stdout",
     "output_type": "stream",
     "text": [
      "Trainning loss=2.7864\n"
     ]
    },
    {
     "name": "stderr",
     "output_type": "stream",
     "text": [
      " 11%|█         | 1/9 [00:00<00:01,  6.58it/s]"
     ]
    },
    {
     "name": "stdout",
     "output_type": "stream",
     "text": [
      "VAL: rmse=6.6667, mae=4.8949, mape=0.1656, acc=0.8597, r2_score=0.6435, var_score=0.6682\n",
      "VAL loss=3.0292\n",
      "==========EPOCH 305===========\n"
     ]
    },
    {
     "name": "stderr",
     "output_type": "stream",
     "text": [
      "                                             \r"
     ]
    },
    {
     "name": "stdout",
     "output_type": "stream",
     "text": [
      "Trainning loss=2.1466\n"
     ]
    },
    {
     "name": "stderr",
     "output_type": "stream",
     "text": [
      " 11%|█         | 1/9 [00:00<00:01,  6.60it/s]"
     ]
    },
    {
     "name": "stdout",
     "output_type": "stream",
     "text": [
      "VAL: rmse=6.3777, mae=4.4659, mape=0.1415, acc=0.8720, r2_score=0.6738, var_score=0.6775\n",
      "VAL loss=2.7716\n",
      "==========EPOCH 306===========\n"
     ]
    },
    {
     "name": "stderr",
     "output_type": "stream",
     "text": [
      "                                             \r"
     ]
    },
    {
     "name": "stdout",
     "output_type": "stream",
     "text": [
      "Trainning loss=1.9979\n"
     ]
    },
    {
     "name": "stderr",
     "output_type": "stream",
     "text": [
      " 11%|█         | 1/9 [00:00<00:01,  6.67it/s]"
     ]
    },
    {
     "name": "stdout",
     "output_type": "stream",
     "text": [
      "VAL: rmse=6.2967, mae=4.4182, mape=0.1460, acc=0.8733, r2_score=0.6820, var_score=0.6858\n",
      "VAL loss=2.7015\n",
      "==========EPOCH 307===========\n"
     ]
    },
    {
     "name": "stderr",
     "output_type": "stream",
     "text": [
      "                                             \r"
     ]
    },
    {
     "name": "stdout",
     "output_type": "stream",
     "text": [
      "Trainning loss=1.9120\n"
     ]
    },
    {
     "name": "stderr",
     "output_type": "stream",
     "text": [
      " 11%|█         | 1/9 [00:00<00:01,  6.83it/s]"
     ]
    },
    {
     "name": "stdout",
     "output_type": "stream",
     "text": [
      "VAL: rmse=6.2722, mae=4.3761, mape=0.1434, acc=0.8746, r2_score=0.6845, var_score=0.6855\n",
      "VAL loss=2.6801\n",
      "==========EPOCH 308===========\n"
     ]
    },
    {
     "name": "stderr",
     "output_type": "stream",
     "text": [
      "                                             \r"
     ]
    },
    {
     "name": "stdout",
     "output_type": "stream",
     "text": [
      "Trainning loss=1.8975\n"
     ]
    },
    {
     "name": "stderr",
     "output_type": "stream",
     "text": [
      " 11%|█         | 1/9 [00:00<00:01,  6.62it/s]"
     ]
    },
    {
     "name": "stdout",
     "output_type": "stream",
     "text": [
      "VAL: rmse=6.2724, mae=4.3730, mape=0.1428, acc=0.8746, r2_score=0.6845, var_score=0.6851\n",
      "VAL loss=2.6803\n",
      "==========EPOCH 309===========\n"
     ]
    },
    {
     "name": "stderr",
     "output_type": "stream",
     "text": [
      "                                             \r"
     ]
    },
    {
     "name": "stdout",
     "output_type": "stream",
     "text": [
      "Trainning loss=1.8995\n"
     ]
    },
    {
     "name": "stderr",
     "output_type": "stream",
     "text": [
      " 11%|█         | 1/9 [00:00<00:01,  7.06it/s]"
     ]
    },
    {
     "name": "stdout",
     "output_type": "stream",
     "text": [
      "VAL: rmse=6.2843, mae=4.4014, mape=0.1453, acc=0.8738, r2_score=0.6833, var_score=0.6865\n",
      "VAL loss=2.6905\n",
      "==========EPOCH 310===========\n"
     ]
    },
    {
     "name": "stderr",
     "output_type": "stream",
     "text": [
      "                                             \r"
     ]
    },
    {
     "name": "stdout",
     "output_type": "stream",
     "text": [
      "Trainning loss=1.9094\n"
     ]
    },
    {
     "name": "stderr",
     "output_type": "stream",
     "text": [
      " 11%|█         | 1/9 [00:00<00:01,  6.73it/s]"
     ]
    },
    {
     "name": "stdout",
     "output_type": "stream",
     "text": [
      "VAL: rmse=6.2832, mae=4.3895, mape=0.1441, acc=0.8742, r2_score=0.6834, var_score=0.6849\n",
      "VAL loss=2.6897\n",
      "==========EPOCH 311===========\n"
     ]
    },
    {
     "name": "stderr",
     "output_type": "stream",
     "text": [
      "                                             \r"
     ]
    },
    {
     "name": "stdout",
     "output_type": "stream",
     "text": [
      "Trainning loss=1.9211\n"
     ]
    },
    {
     "name": "stderr",
     "output_type": "stream",
     "text": [
      " 11%|█         | 1/9 [00:00<00:01,  6.76it/s]"
     ]
    },
    {
     "name": "stdout",
     "output_type": "stream",
     "text": [
      "VAL: rmse=6.3003, mae=4.4193, mape=0.1461, acc=0.8733, r2_score=0.6816, var_score=0.6854\n",
      "VAL loss=2.7043\n",
      "==========EPOCH 312===========\n"
     ]
    },
    {
     "name": "stderr",
     "output_type": "stream",
     "text": [
      "                                             \r"
     ]
    },
    {
     "name": "stdout",
     "output_type": "stream",
     "text": [
      "Trainning loss=1.9593\n"
     ]
    },
    {
     "name": "stderr",
     "output_type": "stream",
     "text": [
      " 11%|█         | 1/9 [00:00<00:01,  6.94it/s]"
     ]
    },
    {
     "name": "stdout",
     "output_type": "stream",
     "text": [
      "VAL: rmse=6.3213, mae=4.4419, mape=0.1469, acc=0.8727, r2_score=0.6795, var_score=0.6836\n",
      "VAL loss=2.7225\n",
      "==========EPOCH 313===========\n"
     ]
    },
    {
     "name": "stderr",
     "output_type": "stream",
     "text": [
      "                                             \r"
     ]
    },
    {
     "name": "stdout",
     "output_type": "stream",
     "text": [
      "Trainning loss=1.9904\n"
     ]
    },
    {
     "name": "stderr",
     "output_type": "stream",
     "text": [
      " 11%|█         | 1/9 [00:00<00:01,  6.55it/s]"
     ]
    },
    {
     "name": "stdout",
     "output_type": "stream",
     "text": [
      "VAL: rmse=6.3317, mae=4.4543, mape=0.1474, acc=0.8723, r2_score=0.6785, var_score=0.6827\n",
      "VAL loss=2.7315\n",
      "==========EPOCH 314===========\n"
     ]
    },
    {
     "name": "stderr",
     "output_type": "stream",
     "text": [
      "                                             \r"
     ]
    },
    {
     "name": "stdout",
     "output_type": "stream",
     "text": [
      "Trainning loss=2.0017\n"
     ]
    },
    {
     "name": "stderr",
     "output_type": "stream",
     "text": [
      " 11%|█         | 1/9 [00:00<00:01,  6.64it/s]"
     ]
    },
    {
     "name": "stdout",
     "output_type": "stream",
     "text": [
      "VAL: rmse=6.3487, mae=4.4615, mape=0.1463, acc=0.8721, r2_score=0.6767, var_score=0.6783\n",
      "VAL loss=2.7462\n",
      "==========EPOCH 315===========\n"
     ]
    },
    {
     "name": "stderr",
     "output_type": "stream",
     "text": [
      "                                             \r"
     ]
    },
    {
     "name": "stdout",
     "output_type": "stream",
     "text": [
      "Trainning loss=2.1631\n"
     ]
    },
    {
     "name": "stderr",
     "output_type": "stream",
     "text": [
      " 11%|█         | 1/9 [00:00<00:01,  6.59it/s]"
     ]
    },
    {
     "name": "stdout",
     "output_type": "stream",
     "text": [
      "VAL: rmse=6.6887, mae=4.8101, mape=0.1541, acc=0.8621, r2_score=0.6412, var_score=0.6421\n",
      "VAL loss=3.0490\n",
      "==========EPOCH 316===========\n"
     ]
    },
    {
     "name": "stderr",
     "output_type": "stream",
     "text": [
      "                                             \r"
     ]
    },
    {
     "name": "stdout",
     "output_type": "stream",
     "text": [
      "Trainning loss=3.7127\n"
     ]
    },
    {
     "name": "stderr",
     "output_type": "stream",
     "text": [
      " 11%|█         | 1/9 [00:00<00:01,  6.65it/s]"
     ]
    },
    {
     "name": "stdout",
     "output_type": "stream",
     "text": [
      "VAL: rmse=7.4688, mae=5.5586, mape=0.1733, acc=0.8407, r2_score=0.5526, var_score=0.5730\n",
      "VAL loss=3.8078\n",
      "==========EPOCH 317===========\n"
     ]
    },
    {
     "name": "stderr",
     "output_type": "stream",
     "text": [
      "                                             \r"
     ]
    },
    {
     "name": "stdout",
     "output_type": "stream",
     "text": [
      "Trainning loss=2.6672\n"
     ]
    },
    {
     "name": "stderr",
     "output_type": "stream",
     "text": [
      " 11%|█         | 1/9 [00:00<00:01,  7.05it/s]"
     ]
    },
    {
     "name": "stdout",
     "output_type": "stream",
     "text": [
      "VAL: rmse=6.6917, mae=4.8622, mape=0.1623, acc=0.8606, r2_score=0.6409, var_score=0.6537\n",
      "VAL loss=3.0529\n",
      "==========EPOCH 318===========\n"
     ]
    },
    {
     "name": "stderr",
     "output_type": "stream",
     "text": [
      "                                             \r"
     ]
    },
    {
     "name": "stdout",
     "output_type": "stream",
     "text": [
      "Trainning loss=2.1979\n"
     ]
    },
    {
     "name": "stderr",
     "output_type": "stream",
     "text": [
      " 11%|█         | 1/9 [00:00<00:01,  6.63it/s]"
     ]
    },
    {
     "name": "stdout",
     "output_type": "stream",
     "text": [
      "VAL: rmse=6.3112, mae=4.4113, mape=0.1435, acc=0.8735, r2_score=0.6805, var_score=0.6808\n",
      "VAL loss=2.7143\n",
      "==========EPOCH 319===========\n"
     ]
    },
    {
     "name": "stderr",
     "output_type": "stream",
     "text": [
      "                                             \r"
     ]
    },
    {
     "name": "stdout",
     "output_type": "stream",
     "text": [
      "Trainning loss=1.9748\n"
     ]
    },
    {
     "name": "stderr",
     "output_type": "stream",
     "text": [
      " 11%|█         | 1/9 [00:00<00:01,  6.69it/s]"
     ]
    },
    {
     "name": "stdout",
     "output_type": "stream",
     "text": [
      "VAL: rmse=6.2756, mae=4.3591, mape=0.1403, acc=0.8750, r2_score=0.6841, var_score=0.6844\n",
      "VAL loss=2.6830\n",
      "==========EPOCH 320===========\n"
     ]
    },
    {
     "name": "stderr",
     "output_type": "stream",
     "text": [
      "                                             \r"
     ]
    },
    {
     "name": "stdout",
     "output_type": "stream",
     "text": [
      "Trainning loss=1.9132\n"
     ]
    },
    {
     "name": "stderr",
     "output_type": "stream",
     "text": [
      " 11%|█         | 1/9 [00:00<00:01,  6.76it/s]"
     ]
    },
    {
     "name": "stdout",
     "output_type": "stream",
     "text": [
      "VAL: rmse=6.3115, mae=4.4413, mape=0.1476, acc=0.8727, r2_score=0.6805, var_score=0.6862\n",
      "VAL loss=2.7140\n",
      "==========EPOCH 321===========\n"
     ]
    },
    {
     "name": "stderr",
     "output_type": "stream",
     "text": [
      "                                             \r"
     ]
    },
    {
     "name": "stdout",
     "output_type": "stream",
     "text": [
      "Trainning loss=1.9102\n"
     ]
    },
    {
     "name": "stderr",
     "output_type": "stream",
     "text": [
      " 11%|█         | 1/9 [00:00<00:01,  7.07it/s]"
     ]
    },
    {
     "name": "stdout",
     "output_type": "stream",
     "text": [
      "VAL: rmse=6.2603, mae=4.3542, mape=0.1417, acc=0.8752, r2_score=0.6857, var_score=0.6859\n",
      "VAL loss=2.6700\n",
      "==========EPOCH 322===========\n"
     ]
    },
    {
     "name": "stderr",
     "output_type": "stream",
     "text": [
      "                                             \r"
     ]
    },
    {
     "name": "stdout",
     "output_type": "stream",
     "text": [
      "Trainning loss=1.8736\n"
     ]
    },
    {
     "name": "stderr",
     "output_type": "stream",
     "text": [
      " 11%|█         | 1/9 [00:00<00:01,  6.58it/s]"
     ]
    },
    {
     "name": "stdout",
     "output_type": "stream",
     "text": [
      "VAL: rmse=6.2679, mae=4.3721, mape=0.1432, acc=0.8747, r2_score=0.6849, var_score=0.6860\n",
      "VAL loss=2.6765\n",
      "==========EPOCH 323===========\n"
     ]
    },
    {
     "name": "stderr",
     "output_type": "stream",
     "text": [
      "                                             \r"
     ]
    },
    {
     "name": "stdout",
     "output_type": "stream",
     "text": [
      "Trainning loss=1.9022\n"
     ]
    },
    {
     "name": "stderr",
     "output_type": "stream",
     "text": [
      " 11%|█         | 1/9 [00:00<00:01,  6.97it/s]"
     ]
    },
    {
     "name": "stdout",
     "output_type": "stream",
     "text": [
      "VAL: rmse=6.2940, mae=4.4181, mape=0.1463, acc=0.8734, r2_score=0.6823, var_score=0.6866\n",
      "VAL loss=2.6989\n",
      "==========EPOCH 324===========\n"
     ]
    },
    {
     "name": "stderr",
     "output_type": "stream",
     "text": [
      "                                             \r"
     ]
    },
    {
     "name": "stdout",
     "output_type": "stream",
     "text": [
      "Trainning loss=1.9272\n"
     ]
    },
    {
     "name": "stderr",
     "output_type": "stream",
     "text": [
      " 11%|█         | 1/9 [00:00<00:01,  6.98it/s]"
     ]
    },
    {
     "name": "stdout",
     "output_type": "stream",
     "text": [
      "VAL: rmse=6.2955, mae=4.4177, mape=0.1458, acc=0.8734, r2_score=0.6821, var_score=0.6854\n",
      "VAL loss=2.7002\n",
      "==========EPOCH 325===========\n"
     ]
    },
    {
     "name": "stderr",
     "output_type": "stream",
     "text": [
      "                                             \r"
     ]
    },
    {
     "name": "stdout",
     "output_type": "stream",
     "text": [
      "Trainning loss=1.9486\n"
     ]
    },
    {
     "name": "stderr",
     "output_type": "stream",
     "text": [
      " 11%|█         | 1/9 [00:00<00:01,  6.81it/s]"
     ]
    },
    {
     "name": "stdout",
     "output_type": "stream",
     "text": [
      "VAL: rmse=6.3248, mae=4.4638, mape=0.1485, acc=0.8720, r2_score=0.6792, var_score=0.6857\n",
      "VAL loss=2.7255\n",
      "==========EPOCH 326===========\n"
     ]
    },
    {
     "name": "stderr",
     "output_type": "stream",
     "text": [
      "                                             \r"
     ]
    },
    {
     "name": "stdout",
     "output_type": "stream",
     "text": [
      "Trainning loss=2.0256\n"
     ]
    },
    {
     "name": "stderr",
     "output_type": "stream",
     "text": [
      " 11%|█         | 1/9 [00:00<00:01,  7.09it/s]"
     ]
    },
    {
     "name": "stdout",
     "output_type": "stream",
     "text": [
      "VAL: rmse=6.3873, mae=4.5503, mape=0.1524, acc=0.8696, r2_score=0.6728, var_score=0.6840\n",
      "VAL loss=2.7798\n",
      "==========EPOCH 327===========\n"
     ]
    },
    {
     "name": "stderr",
     "output_type": "stream",
     "text": [
      "                                             \r"
     ]
    },
    {
     "name": "stdout",
     "output_type": "stream",
     "text": [
      "Trainning loss=2.1499\n"
     ]
    },
    {
     "name": "stderr",
     "output_type": "stream",
     "text": [
      " 11%|█         | 1/9 [00:00<00:01,  6.68it/s]"
     ]
    },
    {
     "name": "stdout",
     "output_type": "stream",
     "text": [
      "VAL: rmse=6.4505, mae=4.6330, mape=0.1558, acc=0.8672, r2_score=0.6663, var_score=0.6817\n",
      "VAL loss=2.8355\n",
      "==========EPOCH 328===========\n"
     ]
    },
    {
     "name": "stderr",
     "output_type": "stream",
     "text": [
      "                                             \r"
     ]
    },
    {
     "name": "stdout",
     "output_type": "stream",
     "text": [
      "Trainning loss=2.1870\n"
     ]
    },
    {
     "name": "stderr",
     "output_type": "stream",
     "text": [
      " 11%|█         | 1/9 [00:00<00:01,  6.79it/s]"
     ]
    },
    {
     "name": "stdout",
     "output_type": "stream",
     "text": [
      "VAL: rmse=6.3984, mae=4.5651, mape=0.1529, acc=0.8691, r2_score=0.6717, var_score=0.6831\n",
      "VAL loss=2.7897\n",
      "==========EPOCH 329===========\n"
     ]
    },
    {
     "name": "stderr",
     "output_type": "stream",
     "text": [
      "                                             \r"
     ]
    },
    {
     "name": "stdout",
     "output_type": "stream",
     "text": [
      "Trainning loss=2.0254\n"
     ]
    },
    {
     "name": "stderr",
     "output_type": "stream",
     "text": [
      " 11%|█         | 1/9 [00:00<00:01,  6.62it/s]"
     ]
    },
    {
     "name": "stdout",
     "output_type": "stream",
     "text": [
      "VAL: rmse=6.2997, mae=4.4263, mape=0.1466, acc=0.8731, r2_score=0.6817, var_score=0.6862\n",
      "VAL loss=2.7039\n",
      "==========EPOCH 330===========\n"
     ]
    },
    {
     "name": "stderr",
     "output_type": "stream",
     "text": [
      "                                             \r"
     ]
    },
    {
     "name": "stdout",
     "output_type": "stream",
     "text": [
      "Trainning loss=1.9293\n"
     ]
    },
    {
     "name": "stderr",
     "output_type": "stream",
     "text": [
      " 11%|█         | 1/9 [00:00<00:01,  6.98it/s]"
     ]
    },
    {
     "name": "stdout",
     "output_type": "stream",
     "text": [
      "VAL: rmse=6.3021, mae=4.4232, mape=0.1464, acc=0.8732, r2_score=0.6815, var_score=0.6856\n",
      "VAL loss=2.7059\n",
      "==========EPOCH 331===========\n"
     ]
    },
    {
     "name": "stderr",
     "output_type": "stream",
     "text": [
      "                                             \r"
     ]
    },
    {
     "name": "stdout",
     "output_type": "stream",
     "text": [
      "Trainning loss=1.9807\n"
     ]
    },
    {
     "name": "stderr",
     "output_type": "stream",
     "text": [
      " 11%|█         | 1/9 [00:00<00:01,  6.52it/s]"
     ]
    },
    {
     "name": "stdout",
     "output_type": "stream",
     "text": [
      "VAL: rmse=6.3486, mae=4.4879, mape=0.1497, acc=0.8714, r2_score=0.6767, var_score=0.6848\n",
      "VAL loss=2.7462\n",
      "==========EPOCH 332===========\n"
     ]
    },
    {
     "name": "stderr",
     "output_type": "stream",
     "text": [
      "                                             \r"
     ]
    },
    {
     "name": "stdout",
     "output_type": "stream",
     "text": [
      "Trainning loss=2.0549\n"
     ]
    },
    {
     "name": "stderr",
     "output_type": "stream",
     "text": [
      " 11%|█         | 1/9 [00:00<00:01,  6.61it/s]"
     ]
    },
    {
     "name": "stdout",
     "output_type": "stream",
     "text": [
      "VAL: rmse=6.3778, mae=4.5371, mape=0.1521, acc=0.8699, r2_score=0.6738, var_score=0.6854\n",
      "VAL loss=2.7716\n",
      "==========EPOCH 333===========\n"
     ]
    },
    {
     "name": "stderr",
     "output_type": "stream",
     "text": [
      "                                             \r"
     ]
    },
    {
     "name": "stdout",
     "output_type": "stream",
     "text": [
      "Trainning loss=2.1381\n"
     ]
    },
    {
     "name": "stderr",
     "output_type": "stream",
     "text": [
      " 11%|█         | 1/9 [00:00<00:01,  6.57it/s]"
     ]
    },
    {
     "name": "stdout",
     "output_type": "stream",
     "text": [
      "VAL: rmse=6.5020, mae=4.6920, mape=0.1576, acc=0.8655, r2_score=0.6609, var_score=0.6767\n",
      "VAL loss=2.8809\n",
      "==========EPOCH 334===========\n"
     ]
    },
    {
     "name": "stderr",
     "output_type": "stream",
     "text": [
      "                                             \r"
     ]
    },
    {
     "name": "stdout",
     "output_type": "stream",
     "text": [
      "Trainning loss=2.5290\n"
     ]
    },
    {
     "name": "stderr",
     "output_type": "stream",
     "text": [
      " 11%|█         | 1/9 [00:00<00:01,  6.72it/s]"
     ]
    },
    {
     "name": "stdout",
     "output_type": "stream",
     "text": [
      "VAL: rmse=6.7573, mae=4.9673, mape=0.1665, acc=0.8576, r2_score=0.6338, var_score=0.6531\n",
      "VAL loss=3.1128\n",
      "==========EPOCH 335===========\n"
     ]
    },
    {
     "name": "stderr",
     "output_type": "stream",
     "text": [
      "                                             \r"
     ]
    },
    {
     "name": "stdout",
     "output_type": "stream",
     "text": [
      "Trainning loss=2.4179\n"
     ]
    },
    {
     "name": "stderr",
     "output_type": "stream",
     "text": [
      " 11%|█         | 1/9 [00:00<00:01,  6.91it/s]"
     ]
    },
    {
     "name": "stdout",
     "output_type": "stream",
     "text": [
      "VAL: rmse=6.2936, mae=4.3988, mape=0.1436, acc=0.8739, r2_score=0.6823, var_score=0.6829\n",
      "VAL loss=2.6988\n",
      "==========EPOCH 336===========\n"
     ]
    },
    {
     "name": "stderr",
     "output_type": "stream",
     "text": [
      "                                             \r"
     ]
    },
    {
     "name": "stdout",
     "output_type": "stream",
     "text": [
      "Trainning loss=1.9109\n"
     ]
    },
    {
     "name": "stderr",
     "output_type": "stream",
     "text": [
      " 11%|█         | 1/9 [00:00<00:01,  6.15it/s]"
     ]
    },
    {
     "name": "stdout",
     "output_type": "stream",
     "text": [
      "VAL: rmse=6.3452, mae=4.4534, mape=0.1452, acc=0.8723, r2_score=0.6771, var_score=0.6776\n",
      "VAL loss=2.7431\n",
      "==========EPOCH 337===========\n"
     ]
    },
    {
     "name": "stderr",
     "output_type": "stream",
     "text": [
      "                                             \r"
     ]
    },
    {
     "name": "stdout",
     "output_type": "stream",
     "text": [
      "Trainning loss=2.1527\n"
     ]
    },
    {
     "name": "stderr",
     "output_type": "stream",
     "text": [
      " 11%|█         | 1/9 [00:00<00:01,  6.22it/s]"
     ]
    },
    {
     "name": "stdout",
     "output_type": "stream",
     "text": [
      "VAL: rmse=6.4841, mae=4.6403, mape=0.1559, acc=0.8670, r2_score=0.6628, var_score=0.6777\n",
      "VAL loss=2.8652\n",
      "==========EPOCH 338===========\n"
     ]
    },
    {
     "name": "stderr",
     "output_type": "stream",
     "text": [
      "                                             \r"
     ]
    },
    {
     "name": "stdout",
     "output_type": "stream",
     "text": [
      "Trainning loss=2.0983\n"
     ]
    },
    {
     "name": "stderr",
     "output_type": "stream",
     "text": [
      " 11%|█         | 1/9 [00:00<00:01,  6.76it/s]"
     ]
    },
    {
     "name": "stdout",
     "output_type": "stream",
     "text": [
      "VAL: rmse=6.2697, mae=4.3778, mape=0.1438, acc=0.8745, r2_score=0.6847, var_score=0.6865\n",
      "VAL loss=2.6781\n",
      "==========EPOCH 339===========\n"
     ]
    },
    {
     "name": "stderr",
     "output_type": "stream",
     "text": [
      "                                             \r"
     ]
    },
    {
     "name": "stdout",
     "output_type": "stream",
     "text": [
      "Trainning loss=1.8853\n"
     ]
    },
    {
     "name": "stderr",
     "output_type": "stream",
     "text": [
      " 11%|█         | 1/9 [00:00<00:01,  6.57it/s]"
     ]
    },
    {
     "name": "stdout",
     "output_type": "stream",
     "text": [
      "VAL: rmse=6.2771, mae=4.3836, mape=0.1437, acc=0.8743, r2_score=0.6840, var_score=0.6852\n",
      "VAL loss=2.6843\n",
      "==========EPOCH 340===========\n"
     ]
    },
    {
     "name": "stderr",
     "output_type": "stream",
     "text": [
      "                                             \r"
     ]
    },
    {
     "name": "stdout",
     "output_type": "stream",
     "text": [
      "Trainning loss=1.9408\n"
     ]
    },
    {
     "name": "stderr",
     "output_type": "stream",
     "text": [
      " 11%|█         | 1/9 [00:00<00:01,  6.69it/s]"
     ]
    },
    {
     "name": "stdout",
     "output_type": "stream",
     "text": [
      "VAL: rmse=6.3375, mae=4.4827, mape=0.1499, acc=0.8715, r2_score=0.6779, var_score=0.6872\n",
      "VAL loss=2.7365\n",
      "==========EPOCH 341===========\n"
     ]
    },
    {
     "name": "stderr",
     "output_type": "stream",
     "text": [
      "                                             \r"
     ]
    },
    {
     "name": "stdout",
     "output_type": "stream",
     "text": [
      "Trainning loss=2.0077\n"
     ]
    },
    {
     "name": "stderr",
     "output_type": "stream",
     "text": [
      " 11%|█         | 1/9 [00:00<00:01,  6.66it/s]"
     ]
    },
    {
     "name": "stdout",
     "output_type": "stream",
     "text": [
      "VAL: rmse=6.3322, mae=4.4744, mape=0.1490, acc=0.8717, r2_score=0.6784, var_score=0.6858\n",
      "VAL loss=2.7319\n",
      "==========EPOCH 342===========\n"
     ]
    },
    {
     "name": "stderr",
     "output_type": "stream",
     "text": [
      "                                             \r"
     ]
    },
    {
     "name": "stdout",
     "output_type": "stream",
     "text": [
      "Trainning loss=2.0311\n"
     ]
    },
    {
     "name": "stderr",
     "output_type": "stream",
     "text": [
      " 11%|█         | 1/9 [00:00<00:01,  6.67it/s]"
     ]
    },
    {
     "name": "stdout",
     "output_type": "stream",
     "text": [
      "VAL: rmse=6.3975, mae=4.5609, mape=0.1526, acc=0.8693, r2_score=0.6717, var_score=0.6824\n",
      "VAL loss=2.7888\n",
      "==========EPOCH 343===========\n"
     ]
    },
    {
     "name": "stderr",
     "output_type": "stream",
     "text": [
      "                                             \r"
     ]
    },
    {
     "name": "stdout",
     "output_type": "stream",
     "text": [
      "Trainning loss=2.2003\n"
     ]
    },
    {
     "name": "stderr",
     "output_type": "stream",
     "text": [
      " 11%|█         | 1/9 [00:00<00:01,  7.12it/s]"
     ]
    },
    {
     "name": "stdout",
     "output_type": "stream",
     "text": [
      "VAL: rmse=6.5061, mae=4.7047, mape=0.1588, acc=0.8651, r2_score=0.6605, var_score=0.6803\n",
      "VAL loss=2.8847\n",
      "==========EPOCH 344===========\n"
     ]
    },
    {
     "name": "stderr",
     "output_type": "stream",
     "text": [
      "                                             \r"
     ]
    },
    {
     "name": "stdout",
     "output_type": "stream",
     "text": [
      "Trainning loss=2.2761\n"
     ]
    },
    {
     "name": "stderr",
     "output_type": "stream",
     "text": [
      " 11%|█         | 1/9 [00:00<00:01,  6.64it/s]"
     ]
    },
    {
     "name": "stdout",
     "output_type": "stream",
     "text": [
      "VAL: rmse=6.4183, mae=4.5891, mape=0.1536, acc=0.8685, r2_score=0.6696, var_score=0.6813\n",
      "VAL loss=2.8072\n",
      "==========EPOCH 345===========\n"
     ]
    },
    {
     "name": "stderr",
     "output_type": "stream",
     "text": [
      "                                             \r"
     ]
    },
    {
     "name": "stdout",
     "output_type": "stream",
     "text": [
      "Trainning loss=2.0109\n"
     ]
    },
    {
     "name": "stderr",
     "output_type": "stream",
     "text": [
      " 11%|█         | 1/9 [00:00<00:01,  7.08it/s]"
     ]
    },
    {
     "name": "stdout",
     "output_type": "stream",
     "text": [
      "VAL: rmse=6.2768, mae=4.3906, mape=0.1446, acc=0.8741, r2_score=0.6840, var_score=0.6864\n",
      "VAL loss=2.6842\n",
      "==========EPOCH 346===========\n"
     ]
    },
    {
     "name": "stderr",
     "output_type": "stream",
     "text": [
      "                                             \r"
     ]
    },
    {
     "name": "stdout",
     "output_type": "stream",
     "text": [
      "Trainning loss=1.9200\n"
     ]
    },
    {
     "name": "stderr",
     "output_type": "stream",
     "text": [
      " 11%|█         | 1/9 [00:00<00:01,  6.94it/s]"
     ]
    },
    {
     "name": "stdout",
     "output_type": "stream",
     "text": [
      "VAL: rmse=6.3484, mae=4.4757, mape=0.1485, acc=0.8717, r2_score=0.6768, var_score=0.6822\n",
      "VAL loss=2.7459\n",
      "==========EPOCH 347===========\n"
     ]
    },
    {
     "name": "stderr",
     "output_type": "stream",
     "text": [
      "                                             \r"
     ]
    },
    {
     "name": "stdout",
     "output_type": "stream",
     "text": [
      "Trainning loss=2.2269\n"
     ]
    },
    {
     "name": "stderr",
     "output_type": "stream",
     "text": [
      " 11%|█         | 1/9 [00:00<00:01,  6.55it/s]"
     ]
    },
    {
     "name": "stdout",
     "output_type": "stream",
     "text": [
      "VAL: rmse=6.5793, mae=4.7336, mape=0.1584, acc=0.8643, r2_score=0.6528, var_score=0.6661\n",
      "VAL loss=2.9503\n",
      "==========EPOCH 348===========\n"
     ]
    },
    {
     "name": "stderr",
     "output_type": "stream",
     "text": [
      "                                             \r"
     ]
    },
    {
     "name": "stdout",
     "output_type": "stream",
     "text": [
      "Trainning loss=2.2381\n"
     ]
    },
    {
     "name": "stderr",
     "output_type": "stream",
     "text": [
      " 11%|█         | 1/9 [00:00<00:01,  6.68it/s]"
     ]
    },
    {
     "name": "stdout",
     "output_type": "stream",
     "text": [
      "VAL: rmse=6.2803, mae=4.3700, mape=0.1413, acc=0.8747, r2_score=0.6837, var_score=0.6837\n",
      "VAL loss=2.6873\n",
      "==========EPOCH 349===========\n"
     ]
    },
    {
     "name": "stderr",
     "output_type": "stream",
     "text": [
      "                                             \r"
     ]
    },
    {
     "name": "stdout",
     "output_type": "stream",
     "text": [
      "Trainning loss=1.8847\n"
     ]
    },
    {
     "name": "stderr",
     "output_type": "stream",
     "text": [
      " 11%|█         | 1/9 [00:00<00:01,  6.74it/s]"
     ]
    },
    {
     "name": "stdout",
     "output_type": "stream",
     "text": [
      "VAL: rmse=6.2800, mae=4.3780, mape=0.1428, acc=0.8745, r2_score=0.6837, var_score=0.6841\n",
      "VAL loss=2.6869\n",
      "==========EPOCH 350===========\n"
     ]
    },
    {
     "name": "stderr",
     "output_type": "stream",
     "text": [
      "                                             \r"
     ]
    },
    {
     "name": "stdout",
     "output_type": "stream",
     "text": [
      "Trainning loss=2.0761\n"
     ]
    },
    {
     "name": "stderr",
     "output_type": "stream",
     "text": [
      " 11%|█         | 1/9 [00:00<00:01,  6.71it/s]"
     ]
    },
    {
     "name": "stdout",
     "output_type": "stream",
     "text": [
      "VAL: rmse=6.5869, mae=4.7928, mape=0.1627, acc=0.8626, r2_score=0.6520, var_score=0.6790\n",
      "VAL loss=2.9568\n",
      "==========EPOCH 351===========\n"
     ]
    },
    {
     "name": "stderr",
     "output_type": "stream",
     "text": [
      "                                             \r"
     ]
    },
    {
     "name": "stdout",
     "output_type": "stream",
     "text": [
      "Trainning loss=2.9328\n"
     ]
    },
    {
     "name": "stderr",
     "output_type": "stream",
     "text": [
      " 11%|█         | 1/9 [00:00<00:01,  6.70it/s]"
     ]
    },
    {
     "name": "stdout",
     "output_type": "stream",
     "text": [
      "VAL: rmse=7.1064, mae=5.3822, mape=0.1820, acc=0.8457, r2_score=0.5950, var_score=0.6348\n",
      "VAL loss=3.4441\n",
      "==========EPOCH 352===========\n"
     ]
    },
    {
     "name": "stderr",
     "output_type": "stream",
     "text": [
      "                                             \r"
     ]
    },
    {
     "name": "stdout",
     "output_type": "stream",
     "text": [
      "Trainning loss=3.0104\n"
     ]
    },
    {
     "name": "stderr",
     "output_type": "stream",
     "text": [
      " 11%|█         | 1/9 [00:00<00:01,  6.68it/s]"
     ]
    },
    {
     "name": "stdout",
     "output_type": "stream",
     "text": [
      "VAL: rmse=6.6007, mae=4.7707, mape=0.1560, acc=0.8632, r2_score=0.6506, var_score=0.6521\n",
      "VAL loss=2.9700\n",
      "==========EPOCH 353===========\n"
     ]
    },
    {
     "name": "stderr",
     "output_type": "stream",
     "text": [
      "                                             \r"
     ]
    },
    {
     "name": "stdout",
     "output_type": "stream",
     "text": [
      "Trainning loss=2.1982\n"
     ]
    },
    {
     "name": "stderr",
     "output_type": "stream",
     "text": [
      " 11%|█         | 1/9 [00:00<00:01,  6.63it/s]"
     ]
    },
    {
     "name": "stdout",
     "output_type": "stream",
     "text": [
      "VAL: rmse=6.3355, mae=4.4457, mape=0.1449, acc=0.8726, r2_score=0.6781, var_score=0.6784\n",
      "VAL loss=2.7348\n",
      "==========EPOCH 354===========\n"
     ]
    },
    {
     "name": "stderr",
     "output_type": "stream",
     "text": [
      "                                             \r"
     ]
    },
    {
     "name": "stdout",
     "output_type": "stream",
     "text": [
      "Trainning loss=2.0020\n"
     ]
    },
    {
     "name": "stderr",
     "output_type": "stream",
     "text": [
      " 11%|█         | 1/9 [00:00<00:01,  6.69it/s]"
     ]
    },
    {
     "name": "stdout",
     "output_type": "stream",
     "text": [
      "VAL: rmse=6.2760, mae=4.3720, mape=0.1421, acc=0.8747, r2_score=0.6841, var_score=0.6842\n",
      "VAL loss=2.6835\n",
      "==========EPOCH 355===========\n"
     ]
    },
    {
     "name": "stderr",
     "output_type": "stream",
     "text": [
      "                                             \r"
     ]
    },
    {
     "name": "stdout",
     "output_type": "stream",
     "text": [
      "Trainning loss=1.9247\n"
     ]
    },
    {
     "name": "stderr",
     "output_type": "stream",
     "text": [
      " 11%|█         | 1/9 [00:00<00:01,  6.97it/s]"
     ]
    },
    {
     "name": "stdout",
     "output_type": "stream",
     "text": [
      "VAL: rmse=6.3137, mae=4.4322, mape=0.1461, acc=0.8729, r2_score=0.6803, var_score=0.6830\n",
      "VAL loss=2.7160\n",
      "==========EPOCH 356===========\n"
     ]
    },
    {
     "name": "stderr",
     "output_type": "stream",
     "text": [
      "                                             \r"
     ]
    },
    {
     "name": "stdout",
     "output_type": "stream",
     "text": [
      "Trainning loss=1.9128\n"
     ]
    },
    {
     "name": "stderr",
     "output_type": "stream",
     "text": [
      " 11%|█         | 1/9 [00:00<00:01,  7.00it/s]"
     ]
    },
    {
     "name": "stdout",
     "output_type": "stream",
     "text": [
      "VAL: rmse=6.2642, mae=4.3611, mape=0.1422, acc=0.8750, r2_score=0.6853, var_score=0.6857\n",
      "VAL loss=2.6733\n",
      "==========EPOCH 357===========\n"
     ]
    },
    {
     "name": "stderr",
     "output_type": "stream",
     "text": [
      "                                             \r"
     ]
    },
    {
     "name": "stdout",
     "output_type": "stream",
     "text": [
      "Trainning loss=1.8614\n"
     ]
    },
    {
     "name": "stderr",
     "output_type": "stream",
     "text": [
      " 11%|█         | 1/9 [00:00<00:01,  6.49it/s]"
     ]
    },
    {
     "name": "stdout",
     "output_type": "stream",
     "text": [
      "VAL: rmse=6.2617, mae=4.3619, mape=0.1427, acc=0.8750, r2_score=0.6855, var_score=0.6863\n",
      "VAL loss=2.6711\n",
      "==========EPOCH 358===========\n"
     ]
    },
    {
     "name": "stderr",
     "output_type": "stream",
     "text": [
      "                                             \r"
     ]
    },
    {
     "name": "stdout",
     "output_type": "stream",
     "text": [
      "Trainning loss=1.9025\n"
     ]
    },
    {
     "name": "stderr",
     "output_type": "stream",
     "text": [
      " 11%|█         | 1/9 [00:00<00:01,  6.55it/s]"
     ]
    },
    {
     "name": "stdout",
     "output_type": "stream",
     "text": [
      "VAL: rmse=6.2898, mae=4.4096, mape=0.1457, acc=0.8736, r2_score=0.6827, var_score=0.6860\n",
      "VAL loss=2.6954\n",
      "==========EPOCH 359===========\n"
     ]
    },
    {
     "name": "stderr",
     "output_type": "stream",
     "text": [
      "                                             \r"
     ]
    },
    {
     "name": "stdout",
     "output_type": "stream",
     "text": [
      "Trainning loss=1.9171\n"
     ]
    },
    {
     "name": "stderr",
     "output_type": "stream",
     "text": [
      " 11%|█         | 1/9 [00:00<00:01,  6.63it/s]"
     ]
    },
    {
     "name": "stdout",
     "output_type": "stream",
     "text": [
      "VAL: rmse=6.2866, mae=4.4052, mape=0.1452, acc=0.8737, r2_score=0.6830, var_score=0.6857\n",
      "VAL loss=2.6926\n",
      "==========EPOCH 360===========\n"
     ]
    },
    {
     "name": "stderr",
     "output_type": "stream",
     "text": [
      "                                             \r"
     ]
    },
    {
     "name": "stdout",
     "output_type": "stream",
     "text": [
      "Trainning loss=1.9280\n"
     ]
    },
    {
     "name": "stderr",
     "output_type": "stream",
     "text": [
      " 11%|█         | 1/9 [00:00<00:01,  6.61it/s]"
     ]
    },
    {
     "name": "stdout",
     "output_type": "stream",
     "text": [
      "VAL: rmse=6.3093, mae=4.4402, mape=0.1472, acc=0.8727, r2_score=0.6807, var_score=0.6855\n",
      "VAL loss=2.7121\n",
      "==========EPOCH 361===========\n"
     ]
    },
    {
     "name": "stderr",
     "output_type": "stream",
     "text": [
      "                                             \r"
     ]
    },
    {
     "name": "stdout",
     "output_type": "stream",
     "text": [
      "Trainning loss=1.9928\n"
     ]
    },
    {
     "name": "stderr",
     "output_type": "stream",
     "text": [
      " 11%|█         | 1/9 [00:00<00:01,  6.63it/s]"
     ]
    },
    {
     "name": "stdout",
     "output_type": "stream",
     "text": [
      "VAL: rmse=6.3618, mae=4.5117, mape=0.1503, acc=0.8707, r2_score=0.6754, var_score=0.6830\n",
      "VAL loss=2.7576\n",
      "==========EPOCH 362===========\n"
     ]
    },
    {
     "name": "stderr",
     "output_type": "stream",
     "text": [
      "                                             \r"
     ]
    },
    {
     "name": "stdout",
     "output_type": "stream",
     "text": [
      "Trainning loss=2.1162\n"
     ]
    },
    {
     "name": "stderr",
     "output_type": "stream",
     "text": [
      " 11%|█         | 1/9 [00:00<00:01,  6.66it/s]"
     ]
    },
    {
     "name": "stdout",
     "output_type": "stream",
     "text": [
      "VAL: rmse=6.4594, mae=4.6329, mape=0.1546, acc=0.8672, r2_score=0.6654, var_score=0.6753\n",
      "VAL loss=2.8432\n",
      "==========EPOCH 363===========\n"
     ]
    },
    {
     "name": "stderr",
     "output_type": "stream",
     "text": [
      "                                             \r"
     ]
    },
    {
     "name": "stdout",
     "output_type": "stream",
     "text": [
      "Trainning loss=2.2742\n"
     ]
    },
    {
     "name": "stderr",
     "output_type": "stream",
     "text": [
      " 11%|█         | 1/9 [00:00<00:01,  6.74it/s]"
     ]
    },
    {
     "name": "stdout",
     "output_type": "stream",
     "text": [
      "VAL: rmse=6.4886, mae=4.6615, mape=0.1548, acc=0.8664, r2_score=0.6623, var_score=0.6700\n",
      "VAL loss=2.8693\n",
      "==========EPOCH 364===========\n"
     ]
    },
    {
     "name": "stderr",
     "output_type": "stream",
     "text": [
      "                                             \r"
     ]
    },
    {
     "name": "stdout",
     "output_type": "stream",
     "text": [
      "Trainning loss=2.1236\n"
     ]
    },
    {
     "name": "stderr",
     "output_type": "stream",
     "text": [
      " 11%|█         | 1/9 [00:00<00:01,  6.42it/s]"
     ]
    },
    {
     "name": "stdout",
     "output_type": "stream",
     "text": [
      "VAL: rmse=6.3002, mae=4.4155, mape=0.1449, acc=0.8734, r2_score=0.6816, var_score=0.6832\n",
      "VAL loss=2.7045\n",
      "==========EPOCH 365===========\n"
     ]
    },
    {
     "name": "stderr",
     "output_type": "stream",
     "text": [
      "                                             \r"
     ]
    },
    {
     "name": "stdout",
     "output_type": "stream",
     "text": [
      "Trainning loss=1.9086\n"
     ]
    },
    {
     "name": "stderr",
     "output_type": "stream",
     "text": [
      " 11%|█         | 1/9 [00:00<00:01,  6.78it/s]"
     ]
    },
    {
     "name": "stdout",
     "output_type": "stream",
     "text": [
      "VAL: rmse=6.3023, mae=4.4151, mape=0.1453, acc=0.8734, r2_score=0.6814, var_score=0.6836\n",
      "VAL loss=2.7060\n",
      "==========EPOCH 366===========\n"
     ]
    },
    {
     "name": "stderr",
     "output_type": "stream",
     "text": [
      "                                             \r"
     ]
    },
    {
     "name": "stdout",
     "output_type": "stream",
     "text": [
      "Trainning loss=2.0402\n"
     ]
    },
    {
     "name": "stderr",
     "output_type": "stream",
     "text": [
      " 11%|█         | 1/9 [00:00<00:01,  6.56it/s]"
     ]
    },
    {
     "name": "stdout",
     "output_type": "stream",
     "text": [
      "VAL: rmse=6.4349, mae=4.5860, mape=0.1533, acc=0.8685, r2_score=0.6679, var_score=0.6783\n",
      "VAL loss=2.8216\n",
      "==========EPOCH 367===========\n"
     ]
    },
    {
     "name": "stderr",
     "output_type": "stream",
     "text": [
      "                                             \r"
     ]
    },
    {
     "name": "stdout",
     "output_type": "stream",
     "text": [
      "Trainning loss=2.2999\n"
     ]
    },
    {
     "name": "stderr",
     "output_type": "stream",
     "text": [
      " 11%|█         | 1/9 [00:00<00:01,  6.86it/s]"
     ]
    },
    {
     "name": "stdout",
     "output_type": "stream",
     "text": [
      "VAL: rmse=6.5594, mae=4.7145, mape=0.1574, acc=0.8649, r2_score=0.6549, var_score=0.6667\n",
      "VAL loss=2.9324\n",
      "==========EPOCH 368===========\n"
     ]
    },
    {
     "name": "stderr",
     "output_type": "stream",
     "text": [
      "                                             \r"
     ]
    },
    {
     "name": "stdout",
     "output_type": "stream",
     "text": [
      "Trainning loss=2.3043\n"
     ]
    },
    {
     "name": "stderr",
     "output_type": "stream",
     "text": [
      " 11%|█         | 1/9 [00:00<00:01,  6.97it/s]"
     ]
    },
    {
     "name": "stdout",
     "output_type": "stream",
     "text": [
      "VAL: rmse=6.4359, mae=4.5752, mape=0.1499, acc=0.8688, r2_score=0.6678, var_score=0.6695\n",
      "VAL loss=2.8226\n",
      "==========EPOCH 369===========\n"
     ]
    },
    {
     "name": "stderr",
     "output_type": "stream",
     "text": [
      "                                             \r"
     ]
    },
    {
     "name": "stdout",
     "output_type": "stream",
     "text": [
      "Trainning loss=2.1783\n"
     ]
    },
    {
     "name": "stderr",
     "output_type": "stream",
     "text": [
      " 11%|█         | 1/9 [00:00<00:01,  6.59it/s]"
     ]
    },
    {
     "name": "stdout",
     "output_type": "stream",
     "text": [
      "VAL: rmse=6.5019, mae=4.6837, mape=0.1565, acc=0.8657, r2_score=0.6609, var_score=0.6726\n",
      "VAL loss=2.8809\n",
      "==========EPOCH 370===========\n"
     ]
    },
    {
     "name": "stderr",
     "output_type": "stream",
     "text": [
      "                                             \r"
     ]
    },
    {
     "name": "stdout",
     "output_type": "stream",
     "text": [
      "Trainning loss=2.3390\n"
     ]
    },
    {
     "name": "stderr",
     "output_type": "stream",
     "text": [
      " 11%|█         | 1/9 [00:00<00:01,  6.69it/s]"
     ]
    },
    {
     "name": "stdout",
     "output_type": "stream",
     "text": [
      "VAL: rmse=6.4343, mae=4.6078, mape=0.1549, acc=0.8679, r2_score=0.6680, var_score=0.6828\n",
      "VAL loss=2.8215\n",
      "==========EPOCH 371===========\n"
     ]
    },
    {
     "name": "stderr",
     "output_type": "stream",
     "text": [
      "                                             \r"
     ]
    },
    {
     "name": "stdout",
     "output_type": "stream",
     "text": [
      "Trainning loss=1.9797\n"
     ]
    },
    {
     "name": "stderr",
     "output_type": "stream",
     "text": [
      " 11%|█         | 1/9 [00:00<00:01,  6.64it/s]"
     ]
    },
    {
     "name": "stdout",
     "output_type": "stream",
     "text": [
      "VAL: rmse=6.2612, mae=4.3480, mape=0.1407, acc=0.8754, r2_score=0.6856, var_score=0.6856\n",
      "VAL loss=2.6708\n",
      "==========EPOCH 372===========\n"
     ]
    },
    {
     "name": "stderr",
     "output_type": "stream",
     "text": [
      "                                             \r"
     ]
    },
    {
     "name": "stdout",
     "output_type": "stream",
     "text": [
      "Trainning loss=1.8729\n"
     ]
    },
    {
     "name": "stderr",
     "output_type": "stream",
     "text": [
      " 11%|█         | 1/9 [00:00<00:01,  7.01it/s]"
     ]
    },
    {
     "name": "stdout",
     "output_type": "stream",
     "text": [
      "VAL: rmse=6.2717, mae=4.3758, mape=0.1435, acc=0.8746, r2_score=0.6845, var_score=0.6857\n",
      "VAL loss=2.6798\n",
      "==========EPOCH 373===========\n"
     ]
    },
    {
     "name": "stderr",
     "output_type": "stream",
     "text": [
      "                                             \r"
     ]
    },
    {
     "name": "stdout",
     "output_type": "stream",
     "text": [
      "Trainning loss=1.9197\n"
     ]
    },
    {
     "name": "stderr",
     "output_type": "stream",
     "text": [
      " 11%|█         | 1/9 [00:00<00:01,  6.95it/s]"
     ]
    },
    {
     "name": "stdout",
     "output_type": "stream",
     "text": [
      "VAL: rmse=6.3075, mae=4.4398, mape=0.1475, acc=0.8727, r2_score=0.6809, var_score=0.6866\n",
      "VAL loss=2.7106\n",
      "==========EPOCH 374===========\n"
     ]
    },
    {
     "name": "stderr",
     "output_type": "stream",
     "text": [
      "                                             \r"
     ]
    },
    {
     "name": "stdout",
     "output_type": "stream",
     "text": [
      "Trainning loss=1.9839\n"
     ]
    },
    {
     "name": "stderr",
     "output_type": "stream",
     "text": [
      " 11%|█         | 1/9 [00:00<00:01,  6.49it/s]"
     ]
    },
    {
     "name": "stdout",
     "output_type": "stream",
     "text": [
      "VAL: rmse=6.3457, mae=4.4918, mape=0.1494, acc=0.8712, r2_score=0.6770, var_score=0.6836\n",
      "VAL loss=2.7436\n",
      "==========EPOCH 375===========\n"
     ]
    },
    {
     "name": "stderr",
     "output_type": "stream",
     "text": [
      "                                             \r"
     ]
    },
    {
     "name": "stdout",
     "output_type": "stream",
     "text": [
      "Trainning loss=2.0611\n"
     ]
    },
    {
     "name": "stderr",
     "output_type": "stream",
     "text": [
      " 11%|█         | 1/9 [00:00<00:01,  5.90it/s]"
     ]
    },
    {
     "name": "stdout",
     "output_type": "stream",
     "text": [
      "VAL: rmse=6.4043, mae=4.5715, mape=0.1529, acc=0.8690, r2_score=0.6710, var_score=0.6816\n",
      "VAL loss=2.7948\n",
      "==========EPOCH 376===========\n"
     ]
    },
    {
     "name": "stderr",
     "output_type": "stream",
     "text": [
      "                                             \r"
     ]
    },
    {
     "name": "stdout",
     "output_type": "stream",
     "text": [
      "Trainning loss=2.1703\n"
     ]
    },
    {
     "name": "stderr",
     "output_type": "stream",
     "text": [
      " 11%|█         | 1/9 [00:00<00:01,  6.02it/s]"
     ]
    },
    {
     "name": "stdout",
     "output_type": "stream",
     "text": [
      "VAL: rmse=6.4605, mae=4.6396, mape=0.1553, acc=0.8670, r2_score=0.6652, var_score=0.6775\n",
      "VAL loss=2.8443\n",
      "==========EPOCH 377===========\n"
     ]
    },
    {
     "name": "stderr",
     "output_type": "stream",
     "text": [
      "                                             \r"
     ]
    },
    {
     "name": "stdout",
     "output_type": "stream",
     "text": [
      "Trainning loss=2.2469\n"
     ]
    },
    {
     "name": "stderr",
     "output_type": "stream",
     "text": [
      " 11%|█         | 1/9 [00:00<00:01,  5.97it/s]"
     ]
    },
    {
     "name": "stdout",
     "output_type": "stream",
     "text": [
      "VAL: rmse=6.5078, mae=4.6713, mape=0.1548, acc=0.8661, r2_score=0.6603, var_score=0.6667\n",
      "VAL loss=2.8862\n",
      "==========EPOCH 378===========\n"
     ]
    },
    {
     "name": "stderr",
     "output_type": "stream",
     "text": [
      "                                             \r"
     ]
    },
    {
     "name": "stdout",
     "output_type": "stream",
     "text": [
      "Trainning loss=2.3297\n"
     ]
    },
    {
     "name": "stderr",
     "output_type": "stream",
     "text": [
      " 11%|█         | 1/9 [00:00<00:01,  6.26it/s]"
     ]
    },
    {
     "name": "stdout",
     "output_type": "stream",
     "text": [
      "VAL: rmse=6.5106, mae=4.6375, mape=0.1511, acc=0.8671, r2_score=0.6600, var_score=0.6608\n",
      "VAL loss=2.8889\n",
      "==========EPOCH 379===========\n"
     ]
    },
    {
     "name": "stderr",
     "output_type": "stream",
     "text": [
      "                                             \r"
     ]
    },
    {
     "name": "stdout",
     "output_type": "stream",
     "text": [
      "Trainning loss=2.0830\n"
     ]
    },
    {
     "name": "stderr",
     "output_type": "stream",
     "text": [
      " 11%|█         | 1/9 [00:00<00:01,  6.04it/s]"
     ]
    },
    {
     "name": "stdout",
     "output_type": "stream",
     "text": [
      "VAL: rmse=6.2612, mae=4.3551, mape=0.1418, acc=0.8752, r2_score=0.6856, var_score=0.6858\n",
      "VAL loss=2.6709\n",
      "==========EPOCH 380===========\n"
     ]
    },
    {
     "name": "stderr",
     "output_type": "stream",
     "text": [
      "                                             \r"
     ]
    },
    {
     "name": "stdout",
     "output_type": "stream",
     "text": [
      "Trainning loss=1.9375\n"
     ]
    },
    {
     "name": "stderr",
     "output_type": "stream",
     "text": [
      " 11%|█         | 1/9 [00:00<00:01,  6.18it/s]"
     ]
    },
    {
     "name": "stdout",
     "output_type": "stream",
     "text": [
      "VAL: rmse=6.4001, mae=4.5398, mape=0.1511, acc=0.8699, r2_score=0.6715, var_score=0.6790\n",
      "VAL loss=2.7909\n",
      "==========EPOCH 381===========\n"
     ]
    },
    {
     "name": "stderr",
     "output_type": "stream",
     "text": [
      "                                             \r"
     ]
    },
    {
     "name": "stdout",
     "output_type": "stream",
     "text": [
      "Trainning loss=2.1594\n"
     ]
    },
    {
     "name": "stderr",
     "output_type": "stream",
     "text": [
      " 11%|█         | 1/9 [00:00<00:01,  5.93it/s]"
     ]
    },
    {
     "name": "stdout",
     "output_type": "stream",
     "text": [
      "VAL: rmse=6.3485, mae=4.4887, mape=0.1497, acc=0.8713, r2_score=0.6768, var_score=0.6847\n",
      "VAL loss=2.7464\n",
      "==========EPOCH 382===========\n"
     ]
    },
    {
     "name": "stderr",
     "output_type": "stream",
     "text": [
      "                                             \r"
     ]
    },
    {
     "name": "stdout",
     "output_type": "stream",
     "text": [
      "Trainning loss=1.9455\n"
     ]
    },
    {
     "name": "stderr",
     "output_type": "stream",
     "text": [
      " 11%|█         | 1/9 [00:00<00:01,  5.13it/s]"
     ]
    },
    {
     "name": "stdout",
     "output_type": "stream",
     "text": [
      "VAL: rmse=6.3142, mae=4.4347, mape=0.1455, acc=0.8729, r2_score=0.6802, var_score=0.6819\n",
      "VAL loss=2.7163\n",
      "==========EPOCH 383===========\n"
     ]
    },
    {
     "name": "stderr",
     "output_type": "stream",
     "text": [
      "                                             \r"
     ]
    },
    {
     "name": "stdout",
     "output_type": "stream",
     "text": [
      "Trainning loss=2.0601\n"
     ]
    },
    {
     "name": "stderr",
     "output_type": "stream",
     "text": [
      " 11%|█         | 1/9 [00:00<00:01,  5.90it/s]"
     ]
    },
    {
     "name": "stdout",
     "output_type": "stream",
     "text": [
      "VAL: rmse=6.5015, mae=4.6870, mape=0.1570, acc=0.8656, r2_score=0.6610, var_score=0.6745\n",
      "VAL loss=2.8804\n",
      "==========EPOCH 384===========\n"
     ]
    },
    {
     "name": "stderr",
     "output_type": "stream",
     "text": [
      "                                             \r"
     ]
    },
    {
     "name": "stdout",
     "output_type": "stream",
     "text": [
      "Trainning loss=2.5630\n"
     ]
    },
    {
     "name": "stderr",
     "output_type": "stream",
     "text": [
      " 11%|█         | 1/9 [00:00<00:01,  6.02it/s]"
     ]
    },
    {
     "name": "stdout",
     "output_type": "stream",
     "text": [
      "VAL: rmse=6.7438, mae=4.9389, mape=0.1643, acc=0.8584, r2_score=0.6352, var_score=0.6483\n",
      "VAL loss=3.1005\n",
      "==========EPOCH 385===========\n"
     ]
    },
    {
     "name": "stderr",
     "output_type": "stream",
     "text": [
      "                                             \r"
     ]
    },
    {
     "name": "stdout",
     "output_type": "stream",
     "text": [
      "Trainning loss=2.3191\n"
     ]
    },
    {
     "name": "stderr",
     "output_type": "stream",
     "text": [
      " 11%|█         | 1/9 [00:00<00:01,  5.99it/s]"
     ]
    },
    {
     "name": "stdout",
     "output_type": "stream",
     "text": [
      "VAL: rmse=6.2735, mae=4.3520, mape=0.1396, acc=0.8752, r2_score=0.6843, var_score=0.6850\n",
      "VAL loss=2.6815\n",
      "==========EPOCH 386===========\n"
     ]
    },
    {
     "name": "stderr",
     "output_type": "stream",
     "text": [
      "                                             \r"
     ]
    },
    {
     "name": "stdout",
     "output_type": "stream",
     "text": [
      "Trainning loss=1.9500\n"
     ]
    },
    {
     "name": "stderr",
     "output_type": "stream",
     "text": [
      " 11%|█         | 1/9 [00:00<00:01,  5.98it/s]"
     ]
    },
    {
     "name": "stdout",
     "output_type": "stream",
     "text": [
      "VAL: rmse=6.3673, mae=4.4960, mape=0.1485, acc=0.8711, r2_score=0.6748, var_score=0.6783\n",
      "VAL loss=2.7624\n",
      "==========EPOCH 387===========\n"
     ]
    },
    {
     "name": "stderr",
     "output_type": "stream",
     "text": [
      "                                             \r"
     ]
    },
    {
     "name": "stdout",
     "output_type": "stream",
     "text": [
      "Trainning loss=2.1063\n"
     ]
    },
    {
     "name": "stderr",
     "output_type": "stream",
     "text": [
      " 11%|█         | 1/9 [00:00<00:01,  5.94it/s]"
     ]
    },
    {
     "name": "stdout",
     "output_type": "stream",
     "text": [
      "VAL: rmse=6.3921, mae=4.5454, mape=0.1521, acc=0.8697, r2_score=0.6723, var_score=0.6833\n",
      "VAL loss=2.7842\n",
      "==========EPOCH 388===========\n"
     ]
    },
    {
     "name": "stderr",
     "output_type": "stream",
     "text": [
      "                                             \r"
     ]
    },
    {
     "name": "stdout",
     "output_type": "stream",
     "text": [
      "Trainning loss=2.0691\n"
     ]
    },
    {
     "name": "stderr",
     "output_type": "stream",
     "text": [
      " 11%|█         | 1/9 [00:00<00:01,  5.99it/s]"
     ]
    },
    {
     "name": "stdout",
     "output_type": "stream",
     "text": [
      "VAL: rmse=6.3403, mae=4.4533, mape=0.1458, acc=0.8723, r2_score=0.6776, var_score=0.6789\n",
      "VAL loss=2.7390\n",
      "==========EPOCH 389===========\n"
     ]
    },
    {
     "name": "stderr",
     "output_type": "stream",
     "text": [
      "                                             \r"
     ]
    },
    {
     "name": "stdout",
     "output_type": "stream",
     "text": [
      "Trainning loss=1.9439\n"
     ]
    },
    {
     "name": "stderr",
     "output_type": "stream",
     "text": [
      " 11%|█         | 1/9 [00:00<00:01,  6.05it/s]"
     ]
    },
    {
     "name": "stdout",
     "output_type": "stream",
     "text": [
      "VAL: rmse=6.2807, mae=4.3946, mape=0.1450, acc=0.8740, r2_score=0.6836, var_score=0.6864\n",
      "VAL loss=2.6875\n",
      "==========EPOCH 390===========\n"
     ]
    },
    {
     "name": "stderr",
     "output_type": "stream",
     "text": [
      "                                             \r"
     ]
    },
    {
     "name": "stdout",
     "output_type": "stream",
     "text": [
      "Trainning loss=1.9299\n"
     ]
    },
    {
     "name": "stderr",
     "output_type": "stream",
     "text": [
      " 11%|█         | 1/9 [00:00<00:01,  6.02it/s]"
     ]
    },
    {
     "name": "stdout",
     "output_type": "stream",
     "text": [
      "VAL: rmse=6.3005, mae=4.4202, mape=0.1461, acc=0.8733, r2_score=0.6816, var_score=0.6852\n",
      "VAL loss=2.7046\n",
      "==========EPOCH 391===========\n"
     ]
    },
    {
     "name": "stderr",
     "output_type": "stream",
     "text": [
      "                                             \r"
     ]
    },
    {
     "name": "stdout",
     "output_type": "stream",
     "text": [
      "Trainning loss=1.9369\n"
     ]
    },
    {
     "name": "stderr",
     "output_type": "stream",
     "text": [
      " 11%|█         | 1/9 [00:00<00:01,  6.02it/s]"
     ]
    },
    {
     "name": "stdout",
     "output_type": "stream",
     "text": [
      "VAL: rmse=6.2854, mae=4.3999, mape=0.1451, acc=0.8739, r2_score=0.6831, var_score=0.6858\n",
      "VAL loss=2.6916\n",
      "==========EPOCH 392===========\n"
     ]
    },
    {
     "name": "stderr",
     "output_type": "stream",
     "text": [
      "                                             \r"
     ]
    },
    {
     "name": "stdout",
     "output_type": "stream",
     "text": [
      "Trainning loss=1.9138\n"
     ]
    },
    {
     "name": "stderr",
     "output_type": "stream",
     "text": [
      " 11%|█         | 1/9 [00:00<00:01,  5.89it/s]"
     ]
    },
    {
     "name": "stdout",
     "output_type": "stream",
     "text": [
      "VAL: rmse=6.2883, mae=4.4109, mape=0.1461, acc=0.8736, r2_score=0.6829, var_score=0.6871\n",
      "VAL loss=2.6940\n",
      "==========EPOCH 393===========\n"
     ]
    },
    {
     "name": "stderr",
     "output_type": "stream",
     "text": [
      "                                             \r"
     ]
    },
    {
     "name": "stdout",
     "output_type": "stream",
     "text": [
      "Trainning loss=1.9568\n"
     ]
    },
    {
     "name": "stderr",
     "output_type": "stream",
     "text": [
      " 11%|█         | 1/9 [00:00<00:01,  6.11it/s]"
     ]
    },
    {
     "name": "stdout",
     "output_type": "stream",
     "text": [
      "VAL: rmse=6.3438, mae=4.4908, mape=0.1501, acc=0.8713, r2_score=0.6772, var_score=0.6864\n",
      "VAL loss=2.7419\n",
      "==========EPOCH 394===========\n"
     ]
    },
    {
     "name": "stderr",
     "output_type": "stream",
     "text": [
      "                                             \r"
     ]
    },
    {
     "name": "stdout",
     "output_type": "stream",
     "text": [
      "Trainning loss=2.1254\n"
     ]
    },
    {
     "name": "stderr",
     "output_type": "stream",
     "text": [
      " 11%|█         | 1/9 [00:00<00:01,  6.07it/s]"
     ]
    },
    {
     "name": "stdout",
     "output_type": "stream",
     "text": [
      "VAL: rmse=6.5050, mae=4.6898, mape=0.1579, acc=0.8656, r2_score=0.6606, var_score=0.6775\n",
      "VAL loss=2.8836\n",
      "==========EPOCH 395===========\n"
     ]
    },
    {
     "name": "stderr",
     "output_type": "stream",
     "text": [
      "                                             \r"
     ]
    },
    {
     "name": "stdout",
     "output_type": "stream",
     "text": [
      "Trainning loss=2.4319\n"
     ]
    },
    {
     "name": "stderr",
     "output_type": "stream",
     "text": [
      " 11%|█         | 1/9 [00:00<00:01,  6.68it/s]"
     ]
    },
    {
     "name": "stdout",
     "output_type": "stream",
     "text": [
      "VAL: rmse=6.5992, mae=4.7943, mape=0.1599, acc=0.8626, r2_score=0.6507, var_score=0.6626\n",
      "VAL loss=2.9684\n",
      "==========EPOCH 396===========\n"
     ]
    },
    {
     "name": "stderr",
     "output_type": "stream",
     "text": [
      "                                             \r"
     ]
    },
    {
     "name": "stdout",
     "output_type": "stream",
     "text": [
      "Trainning loss=2.2985\n"
     ]
    },
    {
     "name": "stderr",
     "output_type": "stream",
     "text": [
      " 11%|█         | 1/9 [00:00<00:01,  6.73it/s]"
     ]
    },
    {
     "name": "stdout",
     "output_type": "stream",
     "text": [
      "VAL: rmse=6.4204, mae=4.5560, mape=0.1485, acc=0.8694, r2_score=0.6694, var_score=0.6701\n",
      "VAL loss=2.8090\n",
      "==========EPOCH 397===========\n"
     ]
    },
    {
     "name": "stderr",
     "output_type": "stream",
     "text": [
      "                                             \r"
     ]
    },
    {
     "name": "stdout",
     "output_type": "stream",
     "text": [
      "Trainning loss=2.1126\n"
     ]
    },
    {
     "name": "stderr",
     "output_type": "stream",
     "text": [
      " 11%|█         | 1/9 [00:00<00:01,  6.72it/s]"
     ]
    },
    {
     "name": "stdout",
     "output_type": "stream",
     "text": [
      "VAL: rmse=6.4319, mae=4.5930, mape=0.1532, acc=0.8683, r2_score=0.6682, var_score=0.6770\n",
      "VAL loss=2.8190\n",
      "==========EPOCH 398===========\n"
     ]
    },
    {
     "name": "stderr",
     "output_type": "stream",
     "text": [
      "                                             \r"
     ]
    },
    {
     "name": "stdout",
     "output_type": "stream",
     "text": [
      "Trainning loss=2.2552\n"
     ]
    },
    {
     "name": "stderr",
     "output_type": "stream",
     "text": [
      " 11%|█         | 1/9 [00:00<00:01,  6.67it/s]"
     ]
    },
    {
     "name": "stdout",
     "output_type": "stream",
     "text": [
      "VAL: rmse=6.4196, mae=4.5616, mape=0.1521, acc=0.8692, r2_score=0.6695, var_score=0.6784\n",
      "VAL loss=2.8086\n",
      "==========EPOCH 399===========\n"
     ]
    },
    {
     "name": "stderr",
     "output_type": "stream",
     "text": [
      "                                             \r"
     ]
    },
    {
     "name": "stdout",
     "output_type": "stream",
     "text": [
      "Trainning loss=1.9577\n"
     ]
    },
    {
     "name": "stderr",
     "output_type": "stream",
     "text": [
      " 11%|█         | 1/9 [00:00<00:01,  6.54it/s]"
     ]
    },
    {
     "name": "stdout",
     "output_type": "stream",
     "text": [
      "VAL: rmse=6.2602, mae=4.3451, mape=0.1404, acc=0.8754, r2_score=0.6857, var_score=0.6857\n",
      "VAL loss=2.6699\n",
      "==========EPOCH 400===========\n"
     ]
    },
    {
     "name": "stderr",
     "output_type": "stream",
     "text": [
      "                                             \r"
     ]
    },
    {
     "name": "stdout",
     "output_type": "stream",
     "text": [
      "Trainning loss=1.8850\n"
     ]
    },
    {
     "name": "stderr",
     "output_type": "stream",
     "text": [
      " 11%|█         | 1/9 [00:00<00:01,  6.88it/s]"
     ]
    },
    {
     "name": "stdout",
     "output_type": "stream",
     "text": [
      "VAL: rmse=6.2953, mae=4.4187, mape=0.1464, acc=0.8733, r2_score=0.6822, var_score=0.6864\n",
      "VAL loss=2.7000\n",
      "==========EPOCH 401===========\n"
     ]
    },
    {
     "name": "stderr",
     "output_type": "stream",
     "text": [
      "                                             \r"
     ]
    },
    {
     "name": "stdout",
     "output_type": "stream",
     "text": [
      "Trainning loss=1.9503\n"
     ]
    },
    {
     "name": "stderr",
     "output_type": "stream",
     "text": [
      " 11%|█         | 1/9 [00:00<00:01,  6.65it/s]"
     ]
    },
    {
     "name": "stdout",
     "output_type": "stream",
     "text": [
      "VAL: rmse=6.2882, mae=4.4126, mape=0.1460, acc=0.8735, r2_score=0.6829, var_score=0.6868\n",
      "VAL loss=2.6940\n",
      "==========EPOCH 402===========\n"
     ]
    },
    {
     "name": "stderr",
     "output_type": "stream",
     "text": [
      "                                             \r"
     ]
    },
    {
     "name": "stdout",
     "output_type": "stream",
     "text": [
      "Trainning loss=1.9343\n"
     ]
    },
    {
     "name": "stderr",
     "output_type": "stream",
     "text": [
      " 11%|█         | 1/9 [00:00<00:01,  7.06it/s]"
     ]
    },
    {
     "name": "stdout",
     "output_type": "stream",
     "text": [
      "VAL: rmse=6.3395, mae=4.4768, mape=0.1479, acc=0.8717, r2_score=0.6777, var_score=0.6813\n",
      "VAL loss=2.7382\n",
      "==========EPOCH 403===========\n"
     ]
    },
    {
     "name": "stderr",
     "output_type": "stream",
     "text": [
      "                                             \r"
     ]
    },
    {
     "name": "stdout",
     "output_type": "stream",
     "text": [
      "Trainning loss=2.1884\n"
     ]
    },
    {
     "name": "stderr",
     "output_type": "stream",
     "text": [
      " 11%|█         | 1/9 [00:00<00:01,  6.71it/s]"
     ]
    },
    {
     "name": "stdout",
     "output_type": "stream",
     "text": [
      "VAL: rmse=6.6294, mae=4.8254, mape=0.1614, acc=0.8617, r2_score=0.6475, var_score=0.6622\n",
      "VAL loss=2.9953\n",
      "==========EPOCH 404===========\n"
     ]
    },
    {
     "name": "stderr",
     "output_type": "stream",
     "text": [
      "                                             \r"
     ]
    },
    {
     "name": "stdout",
     "output_type": "stream",
     "text": [
      "Trainning loss=2.6238\n"
     ]
    },
    {
     "name": "stderr",
     "output_type": "stream",
     "text": [
      " 11%|█         | 1/9 [00:00<00:01,  6.98it/s]"
     ]
    },
    {
     "name": "stdout",
     "output_type": "stream",
     "text": [
      "VAL: rmse=6.5227, mae=4.6895, mape=0.1544, acc=0.8656, r2_score=0.6588, var_score=0.6629\n",
      "VAL loss=2.9002\n",
      "==========EPOCH 405===========\n"
     ]
    },
    {
     "name": "stderr",
     "output_type": "stream",
     "text": [
      "                                             \r"
     ]
    },
    {
     "name": "stdout",
     "output_type": "stream",
     "text": [
      "Trainning loss=2.0175\n"
     ]
    },
    {
     "name": "stderr",
     "output_type": "stream",
     "text": [
      " 11%|█         | 1/9 [00:00<00:01,  6.93it/s]"
     ]
    },
    {
     "name": "stdout",
     "output_type": "stream",
     "text": [
      "VAL: rmse=6.3269, mae=4.4211, mape=0.1422, acc=0.8733, r2_score=0.6790, var_score=0.6794\n",
      "VAL loss=2.7272\n",
      "==========EPOCH 406===========\n"
     ]
    },
    {
     "name": "stderr",
     "output_type": "stream",
     "text": [
      "                                             \r"
     ]
    },
    {
     "name": "stdout",
     "output_type": "stream",
     "text": [
      "Trainning loss=2.0108\n"
     ]
    },
    {
     "name": "stderr",
     "output_type": "stream",
     "text": [
      " 11%|█         | 1/9 [00:00<00:01,  6.77it/s]"
     ]
    },
    {
     "name": "stdout",
     "output_type": "stream",
     "text": [
      "VAL: rmse=6.3428, mae=4.4814, mape=0.1496, acc=0.8715, r2_score=0.6773, var_score=0.6856\n",
      "VAL loss=2.7411\n",
      "==========EPOCH 407===========\n"
     ]
    },
    {
     "name": "stderr",
     "output_type": "stream",
     "text": [
      "                                             \r"
     ]
    },
    {
     "name": "stdout",
     "output_type": "stream",
     "text": [
      "Trainning loss=2.0493\n"
     ]
    },
    {
     "name": "stderr",
     "output_type": "stream",
     "text": [
      " 11%|█         | 1/9 [00:00<00:01,  7.03it/s]"
     ]
    },
    {
     "name": "stdout",
     "output_type": "stream",
     "text": [
      "VAL: rmse=6.3869, mae=4.5272, mape=0.1502, acc=0.8702, r2_score=0.6728, var_score=0.6790\n",
      "VAL loss=2.7795\n",
      "==========EPOCH 408===========\n"
     ]
    },
    {
     "name": "stderr",
     "output_type": "stream",
     "text": [
      "                                             \r"
     ]
    },
    {
     "name": "stdout",
     "output_type": "stream",
     "text": [
      "Trainning loss=2.2170\n"
     ]
    },
    {
     "name": "stderr",
     "output_type": "stream",
     "text": [
      " 11%|█         | 1/9 [00:00<00:01,  6.47it/s]"
     ]
    },
    {
     "name": "stdout",
     "output_type": "stream",
     "text": [
      "VAL: rmse=6.5294, mae=4.6679, mape=0.1540, acc=0.8662, r2_score=0.6581, var_score=0.6626\n",
      "VAL loss=2.9056\n",
      "==========EPOCH 409===========\n"
     ]
    },
    {
     "name": "stderr",
     "output_type": "stream",
     "text": [
      "                                             \r"
     ]
    },
    {
     "name": "stdout",
     "output_type": "stream",
     "text": [
      "Trainning loss=2.1439\n"
     ]
    },
    {
     "name": "stderr",
     "output_type": "stream",
     "text": [
      " 11%|█         | 1/9 [00:00<00:01,  6.55it/s]"
     ]
    },
    {
     "name": "stdout",
     "output_type": "stream",
     "text": [
      "VAL: rmse=6.2640, mae=4.3708, mape=0.1434, acc=0.8747, r2_score=0.6853, var_score=0.6867\n",
      "VAL loss=2.6733\n",
      "==========EPOCH 410===========\n"
     ]
    },
    {
     "name": "stderr",
     "output_type": "stream",
     "text": [
      "                                             \r"
     ]
    },
    {
     "name": "stdout",
     "output_type": "stream",
     "text": [
      "Trainning loss=1.9278\n"
     ]
    },
    {
     "name": "stderr",
     "output_type": "stream",
     "text": [
      " 11%|█         | 1/9 [00:00<00:01,  6.71it/s]"
     ]
    },
    {
     "name": "stdout",
     "output_type": "stream",
     "text": [
      "VAL: rmse=6.3339, mae=4.4536, mape=0.1466, acc=0.8723, r2_score=0.6782, var_score=0.6806\n",
      "VAL loss=2.7334\n",
      "==========EPOCH 411===========\n"
     ]
    },
    {
     "name": "stderr",
     "output_type": "stream",
     "text": [
      "                                             \r"
     ]
    },
    {
     "name": "stdout",
     "output_type": "stream",
     "text": [
      "Trainning loss=2.0076\n"
     ]
    },
    {
     "name": "stderr",
     "output_type": "stream",
     "text": [
      " 11%|█         | 1/9 [00:00<00:01,  6.65it/s]"
     ]
    },
    {
     "name": "stdout",
     "output_type": "stream",
     "text": [
      "VAL: rmse=6.3098, mae=4.4342, mape=0.1471, acc=0.8729, r2_score=0.6807, var_score=0.6856\n",
      "VAL loss=2.7127\n",
      "==========EPOCH 412===========\n"
     ]
    },
    {
     "name": "stderr",
     "output_type": "stream",
     "text": [
      "                                             \r"
     ]
    },
    {
     "name": "stdout",
     "output_type": "stream",
     "text": [
      "Trainning loss=1.9030\n"
     ]
    },
    {
     "name": "stderr",
     "output_type": "stream",
     "text": [
      " 11%|█         | 1/9 [00:00<00:01,  6.66it/s]"
     ]
    },
    {
     "name": "stdout",
     "output_type": "stream",
     "text": [
      "VAL: rmse=6.2569, mae=4.3570, mape=0.1424, acc=0.8751, r2_score=0.6860, var_score=0.6867\n",
      "VAL loss=2.6671\n",
      "==========EPOCH 413===========\n"
     ]
    },
    {
     "name": "stderr",
     "output_type": "stream",
     "text": [
      "                                             \r"
     ]
    },
    {
     "name": "stdout",
     "output_type": "stream",
     "text": [
      "Trainning loss=1.8857\n"
     ]
    },
    {
     "name": "stderr",
     "output_type": "stream",
     "text": [
      " 11%|█         | 1/9 [00:00<00:01,  6.64it/s]"
     ]
    },
    {
     "name": "stdout",
     "output_type": "stream",
     "text": [
      "VAL: rmse=6.3005, mae=4.4313, mape=0.1469, acc=0.8730, r2_score=0.6816, var_score=0.6863\n",
      "VAL loss=2.7045\n",
      "==========EPOCH 414===========\n"
     ]
    },
    {
     "name": "stderr",
     "output_type": "stream",
     "text": [
      "                                             \r"
     ]
    },
    {
     "name": "stdout",
     "output_type": "stream",
     "text": [
      "Trainning loss=2.0166\n"
     ]
    },
    {
     "name": "stderr",
     "output_type": "stream",
     "text": [
      " 11%|█         | 1/9 [00:00<00:01,  6.58it/s]"
     ]
    },
    {
     "name": "stdout",
     "output_type": "stream",
     "text": [
      "VAL: rmse=6.3912, mae=4.5575, mape=0.1526, acc=0.8694, r2_score=0.6724, var_score=0.6837\n",
      "VAL loss=2.7833\n",
      "==========EPOCH 415===========\n"
     ]
    },
    {
     "name": "stderr",
     "output_type": "stream",
     "text": [
      "                                             \r"
     ]
    },
    {
     "name": "stdout",
     "output_type": "stream",
     "text": [
      "Trainning loss=2.1648\n"
     ]
    },
    {
     "name": "stderr",
     "output_type": "stream",
     "text": [
      " 11%|█         | 1/9 [00:00<00:01,  6.70it/s]"
     ]
    },
    {
     "name": "stdout",
     "output_type": "stream",
     "text": [
      "VAL: rmse=6.4581, mae=4.6338, mape=0.1549, acc=0.8672, r2_score=0.6655, var_score=0.6766\n",
      "VAL loss=2.8422\n",
      "==========EPOCH 416===========\n"
     ]
    },
    {
     "name": "stderr",
     "output_type": "stream",
     "text": [
      "                                             \r"
     ]
    },
    {
     "name": "stdout",
     "output_type": "stream",
     "text": [
      "Trainning loss=2.1723\n"
     ]
    },
    {
     "name": "stderr",
     "output_type": "stream",
     "text": [
      " 11%|█         | 1/9 [00:00<00:01,  6.45it/s]"
     ]
    },
    {
     "name": "stdout",
     "output_type": "stream",
     "text": [
      "VAL: rmse=6.3631, mae=4.5115, mape=0.1497, acc=0.8707, r2_score=0.6753, var_score=0.6812\n",
      "VAL loss=2.7590\n",
      "==========EPOCH 417===========\n"
     ]
    },
    {
     "name": "stderr",
     "output_type": "stream",
     "text": [
      "                                             \r"
     ]
    },
    {
     "name": "stdout",
     "output_type": "stream",
     "text": [
      "Trainning loss=1.9706\n"
     ]
    },
    {
     "name": "stderr",
     "output_type": "stream",
     "text": [
      " 11%|█         | 1/9 [00:00<00:01,  6.65it/s]"
     ]
    },
    {
     "name": "stdout",
     "output_type": "stream",
     "text": [
      "VAL: rmse=6.2993, mae=4.4159, mape=0.1456, acc=0.8734, r2_score=0.6817, var_score=0.6845\n",
      "VAL loss=2.7035\n",
      "==========EPOCH 418===========\n"
     ]
    },
    {
     "name": "stderr",
     "output_type": "stream",
     "text": [
      "                                             \r"
     ]
    },
    {
     "name": "stdout",
     "output_type": "stream",
     "text": [
      "Trainning loss=1.9836\n"
     ]
    },
    {
     "name": "stderr",
     "output_type": "stream",
     "text": [
      " 11%|█         | 1/9 [00:00<00:01,  6.53it/s]"
     ]
    },
    {
     "name": "stdout",
     "output_type": "stream",
     "text": [
      "VAL: rmse=6.3505, mae=4.4829, mape=0.1489, acc=0.8715, r2_score=0.6765, var_score=0.6822\n",
      "VAL loss=2.7479\n",
      "==========EPOCH 419===========\n"
     ]
    },
    {
     "name": "stderr",
     "output_type": "stream",
     "text": [
      "                                             \r"
     ]
    },
    {
     "name": "stdout",
     "output_type": "stream",
     "text": [
      "Trainning loss=2.0424\n"
     ]
    },
    {
     "name": "stderr",
     "output_type": "stream",
     "text": [
      " 11%|█         | 1/9 [00:00<00:01,  6.66it/s]"
     ]
    },
    {
     "name": "stdout",
     "output_type": "stream",
     "text": [
      "VAL: rmse=6.3543, mae=4.4887, mape=0.1495, acc=0.8713, r2_score=0.6762, var_score=0.6835\n",
      "VAL loss=2.7512\n",
      "==========EPOCH 420===========\n"
     ]
    },
    {
     "name": "stderr",
     "output_type": "stream",
     "text": [
      "                                             \r"
     ]
    },
    {
     "name": "stdout",
     "output_type": "stream",
     "text": [
      "Trainning loss=2.1270\n"
     ]
    },
    {
     "name": "stderr",
     "output_type": "stream",
     "text": [
      " 11%|█         | 1/9 [00:00<00:01,  6.68it/s]"
     ]
    },
    {
     "name": "stdout",
     "output_type": "stream",
     "text": [
      "VAL: rmse=6.4878, mae=4.6230, mape=0.1526, acc=0.8675, r2_score=0.6624, var_score=0.6666\n",
      "VAL loss=2.8684\n",
      "==========EPOCH 421===========\n"
     ]
    },
    {
     "name": "stderr",
     "output_type": "stream",
     "text": [
      "                                             \r"
     ]
    },
    {
     "name": "stdout",
     "output_type": "stream",
     "text": [
      "Trainning loss=2.2654\n"
     ]
    },
    {
     "name": "stderr",
     "output_type": "stream",
     "text": [
      " 11%|█         | 1/9 [00:00<00:01,  6.68it/s]"
     ]
    },
    {
     "name": "stdout",
     "output_type": "stream",
     "text": [
      "VAL: rmse=6.3775, mae=4.4813, mape=0.1450, acc=0.8715, r2_score=0.6738, var_score=0.6738\n",
      "VAL loss=2.7717\n",
      "==========EPOCH 422===========\n"
     ]
    },
    {
     "name": "stderr",
     "output_type": "stream",
     "text": [
      "                                             \r"
     ]
    },
    {
     "name": "stdout",
     "output_type": "stream",
     "text": [
      "Trainning loss=1.9335\n"
     ]
    },
    {
     "name": "stderr",
     "output_type": "stream",
     "text": [
      " 11%|█         | 1/9 [00:00<00:01,  6.69it/s]"
     ]
    },
    {
     "name": "stdout",
     "output_type": "stream",
     "text": [
      "VAL: rmse=6.2957, mae=4.4159, mape=0.1455, acc=0.8734, r2_score=0.6821, var_score=0.6845\n",
      "VAL loss=2.7003\n",
      "==========EPOCH 423===========\n"
     ]
    },
    {
     "name": "stderr",
     "output_type": "stream",
     "text": [
      "                                             \r"
     ]
    },
    {
     "name": "stdout",
     "output_type": "stream",
     "text": [
      "Trainning loss=2.1681\n"
     ]
    },
    {
     "name": "stderr",
     "output_type": "stream",
     "text": [
      " 11%|█         | 1/9 [00:00<00:01,  6.83it/s]"
     ]
    },
    {
     "name": "stdout",
     "output_type": "stream",
     "text": [
      "VAL: rmse=6.6358, mae=4.8607, mape=0.1647, acc=0.8607, r2_score=0.6468, var_score=0.6735\n",
      "VAL loss=3.0011\n",
      "==========EPOCH 424===========\n"
     ]
    },
    {
     "name": "stderr",
     "output_type": "stream",
     "text": [
      "                                             \r"
     ]
    },
    {
     "name": "stdout",
     "output_type": "stream",
     "text": [
      "Trainning loss=2.8281\n"
     ]
    },
    {
     "name": "stderr",
     "output_type": "stream",
     "text": [
      " 11%|█         | 1/9 [00:00<00:01,  7.05it/s]"
     ]
    },
    {
     "name": "stdout",
     "output_type": "stream",
     "text": [
      "VAL: rmse=6.8165, mae=5.0131, mape=0.1669, acc=0.8563, r2_score=0.6273, var_score=0.6425\n",
      "VAL loss=3.1683\n",
      "==========EPOCH 425===========\n"
     ]
    },
    {
     "name": "stderr",
     "output_type": "stream",
     "text": [
      "                                             \r"
     ]
    },
    {
     "name": "stdout",
     "output_type": "stream",
     "text": [
      "Trainning loss=2.2490\n"
     ]
    },
    {
     "name": "stderr",
     "output_type": "stream",
     "text": [
      " 11%|█         | 1/9 [00:00<00:01,  6.68it/s]"
     ]
    },
    {
     "name": "stdout",
     "output_type": "stream",
     "text": [
      "VAL: rmse=6.3275, mae=4.4216, mape=0.1419, acc=0.8733, r2_score=0.6789, var_score=0.6796\n",
      "VAL loss=2.7277\n",
      "==========EPOCH 426===========\n"
     ]
    },
    {
     "name": "stderr",
     "output_type": "stream",
     "text": [
      "                                             \r"
     ]
    },
    {
     "name": "stdout",
     "output_type": "stream",
     "text": [
      "Trainning loss=2.0016\n"
     ]
    },
    {
     "name": "stderr",
     "output_type": "stream",
     "text": [
      " 11%|█         | 1/9 [00:00<00:01,  7.06it/s]"
     ]
    },
    {
     "name": "stdout",
     "output_type": "stream",
     "text": [
      "VAL: rmse=6.2854, mae=4.4025, mape=0.1453, acc=0.8738, r2_score=0.6831, var_score=0.6859\n",
      "VAL loss=2.6916\n",
      "==========EPOCH 427===========\n"
     ]
    },
    {
     "name": "stderr",
     "output_type": "stream",
     "text": [
      "                                             \r"
     ]
    },
    {
     "name": "stdout",
     "output_type": "stream",
     "text": [
      "Trainning loss=1.9536\n"
     ]
    },
    {
     "name": "stderr",
     "output_type": "stream",
     "text": [
      " 11%|█         | 1/9 [00:00<00:01,  6.70it/s]"
     ]
    },
    {
     "name": "stdout",
     "output_type": "stream",
     "text": [
      "VAL: rmse=6.2627, mae=4.3685, mape=0.1431, acc=0.8748, r2_score=0.6854, var_score=0.6865\n",
      "VAL loss=2.6722\n",
      "==========EPOCH 428===========\n"
     ]
    },
    {
     "name": "stderr",
     "output_type": "stream",
     "text": [
      "                                             \r"
     ]
    },
    {
     "name": "stdout",
     "output_type": "stream",
     "text": [
      "Trainning loss=1.8777\n"
     ]
    },
    {
     "name": "stderr",
     "output_type": "stream",
     "text": [
      " 11%|█         | 1/9 [00:00<00:01,  7.08it/s]"
     ]
    },
    {
     "name": "stdout",
     "output_type": "stream",
     "text": [
      "VAL: rmse=6.2709, mae=4.3708, mape=0.1427, acc=0.8747, r2_score=0.6846, var_score=0.6851\n",
      "VAL loss=2.6792\n",
      "==========EPOCH 429===========\n"
     ]
    },
    {
     "name": "stderr",
     "output_type": "stream",
     "text": [
      "                                             \r"
     ]
    },
    {
     "name": "stdout",
     "output_type": "stream",
     "text": [
      "Trainning loss=1.8884\n"
     ]
    },
    {
     "name": "stderr",
     "output_type": "stream",
     "text": [
      " 11%|█         | 1/9 [00:00<00:01,  6.49it/s]"
     ]
    },
    {
     "name": "stdout",
     "output_type": "stream",
     "text": [
      "VAL: rmse=6.2733, mae=4.3893, mape=0.1447, acc=0.8742, r2_score=0.6844, var_score=0.6869\n",
      "VAL loss=2.6811\n",
      "==========EPOCH 430===========\n"
     ]
    },
    {
     "name": "stderr",
     "output_type": "stream",
     "text": [
      "                                             \r"
     ]
    },
    {
     "name": "stdout",
     "output_type": "stream",
     "text": [
      "Trainning loss=1.8957\n"
     ]
    },
    {
     "name": "stderr",
     "output_type": "stream",
     "text": [
      " 11%|█         | 1/9 [00:00<00:01,  6.74it/s]"
     ]
    },
    {
     "name": "stdout",
     "output_type": "stream",
     "text": [
      "VAL: rmse=6.2762, mae=4.3859, mape=0.1442, acc=0.8743, r2_score=0.6841, var_score=0.6859\n",
      "VAL loss=2.6836\n",
      "==========EPOCH 431===========\n"
     ]
    },
    {
     "name": "stderr",
     "output_type": "stream",
     "text": [
      "                                             \r"
     ]
    },
    {
     "name": "stdout",
     "output_type": "stream",
     "text": [
      "Trainning loss=1.9251\n"
     ]
    },
    {
     "name": "stderr",
     "output_type": "stream",
     "text": [
      " 11%|█         | 1/9 [00:00<00:01,  6.86it/s]"
     ]
    },
    {
     "name": "stdout",
     "output_type": "stream",
     "text": [
      "VAL: rmse=6.3037, mae=4.4253, mape=0.1464, acc=0.8731, r2_score=0.6813, var_score=0.6850\n",
      "VAL loss=2.7073\n",
      "==========EPOCH 432===========\n"
     ]
    },
    {
     "name": "stderr",
     "output_type": "stream",
     "text": [
      "                                             \r"
     ]
    },
    {
     "name": "stdout",
     "output_type": "stream",
     "text": [
      "Trainning loss=1.9640\n"
     ]
    },
    {
     "name": "stderr",
     "output_type": "stream",
     "text": [
      " 11%|█         | 1/9 [00:00<00:01,  6.66it/s]"
     ]
    },
    {
     "name": "stdout",
     "output_type": "stream",
     "text": [
      "VAL: rmse=6.3154, mae=4.4426, mape=0.1472, acc=0.8726, r2_score=0.6801, var_score=0.6848\n",
      "VAL loss=2.7175\n",
      "==========EPOCH 433===========\n"
     ]
    },
    {
     "name": "stderr",
     "output_type": "stream",
     "text": [
      "                                             \r"
     ]
    },
    {
     "name": "stdout",
     "output_type": "stream",
     "text": [
      "Trainning loss=1.9678\n"
     ]
    },
    {
     "name": "stderr",
     "output_type": "stream",
     "text": [
      " 11%|█         | 1/9 [00:00<00:01,  6.63it/s]"
     ]
    },
    {
     "name": "stdout",
     "output_type": "stream",
     "text": [
      "VAL: rmse=6.3070, mae=4.4307, mape=0.1466, acc=0.8730, r2_score=0.6810, var_score=0.6849\n",
      "VAL loss=2.7102\n",
      "==========EPOCH 434===========\n"
     ]
    },
    {
     "name": "stderr",
     "output_type": "stream",
     "text": [
      "                                             \r"
     ]
    },
    {
     "name": "stdout",
     "output_type": "stream",
     "text": [
      "Trainning loss=1.9429\n"
     ]
    },
    {
     "name": "stderr",
     "output_type": "stream",
     "text": [
      " 11%|█         | 1/9 [00:00<00:01,  6.68it/s]"
     ]
    },
    {
     "name": "stdout",
     "output_type": "stream",
     "text": [
      "VAL: rmse=6.2908, mae=4.4135, mape=0.1461, acc=0.8735, r2_score=0.6826, var_score=0.6867\n",
      "VAL loss=2.6962\n",
      "==========EPOCH 435===========\n"
     ]
    },
    {
     "name": "stderr",
     "output_type": "stream",
     "text": [
      "                                             \r"
     ]
    },
    {
     "name": "stdout",
     "output_type": "stream",
     "text": [
      "Trainning loss=1.9376\n"
     ]
    },
    {
     "name": "stderr",
     "output_type": "stream",
     "text": [
      " 11%|█         | 1/9 [00:00<00:01,  6.67it/s]"
     ]
    },
    {
     "name": "stdout",
     "output_type": "stream",
     "text": [
      "VAL: rmse=6.3153, mae=4.4507, mape=0.1482, acc=0.8724, r2_score=0.6801, var_score=0.6868\n",
      "VAL loss=2.7174\n",
      "==========EPOCH 436===========\n"
     ]
    },
    {
     "name": "stderr",
     "output_type": "stream",
     "text": [
      "                                             \r"
     ]
    },
    {
     "name": "stdout",
     "output_type": "stream",
     "text": [
      "Trainning loss=2.0941\n"
     ]
    },
    {
     "name": "stderr",
     "output_type": "stream",
     "text": [
      " 11%|█         | 1/9 [00:00<00:01,  6.70it/s]"
     ]
    },
    {
     "name": "stdout",
     "output_type": "stream",
     "text": [
      "VAL: rmse=6.5175, mae=4.6916, mape=0.1573, acc=0.8655, r2_score=0.6593, var_score=0.6726\n",
      "VAL loss=2.8947\n",
      "==========EPOCH 437===========\n"
     ]
    },
    {
     "name": "stderr",
     "output_type": "stream",
     "text": [
      "                                             \r"
     ]
    },
    {
     "name": "stdout",
     "output_type": "stream",
     "text": [
      "Trainning loss=2.5266\n"
     ]
    },
    {
     "name": "stderr",
     "output_type": "stream",
     "text": [
      " 11%|█         | 1/9 [00:00<00:01,  7.05it/s]"
     ]
    },
    {
     "name": "stdout",
     "output_type": "stream",
     "text": [
      "VAL: rmse=6.6280, mae=4.8075, mape=0.1582, acc=0.8622, r2_score=0.6477, var_score=0.6513\n",
      "VAL loss=2.9947\n",
      "==========EPOCH 438===========\n"
     ]
    },
    {
     "name": "stderr",
     "output_type": "stream",
     "text": [
      "                                             \r"
     ]
    },
    {
     "name": "stdout",
     "output_type": "stream",
     "text": [
      "Trainning loss=2.2466\n"
     ]
    },
    {
     "name": "stderr",
     "output_type": "stream",
     "text": [
      " 11%|█         | 1/9 [00:00<00:01,  7.10it/s]"
     ]
    },
    {
     "name": "stdout",
     "output_type": "stream",
     "text": [
      "VAL: rmse=6.3157, mae=4.4247, mape=0.1438, acc=0.8732, r2_score=0.6801, var_score=0.6802\n",
      "VAL loss=2.7179\n",
      "==========EPOCH 439===========\n"
     ]
    },
    {
     "name": "stderr",
     "output_type": "stream",
     "text": [
      "                                             \r"
     ]
    },
    {
     "name": "stdout",
     "output_type": "stream",
     "text": [
      "Trainning loss=2.0368\n"
     ]
    },
    {
     "name": "stderr",
     "output_type": "stream",
     "text": [
      " 11%|█         | 1/9 [00:00<00:01,  7.11it/s]"
     ]
    },
    {
     "name": "stdout",
     "output_type": "stream",
     "text": [
      "VAL: rmse=6.4221, mae=4.5827, mape=0.1538, acc=0.8686, r2_score=0.6692, var_score=0.6822\n",
      "VAL loss=2.8105\n",
      "==========EPOCH 440===========\n"
     ]
    },
    {
     "name": "stderr",
     "output_type": "stream",
     "text": [
      "                                             \r"
     ]
    },
    {
     "name": "stdout",
     "output_type": "stream",
     "text": [
      "Trainning loss=2.0281\n"
     ]
    },
    {
     "name": "stderr",
     "output_type": "stream",
     "text": [
      " 11%|█         | 1/9 [00:00<00:01,  7.09it/s]"
     ]
    },
    {
     "name": "stdout",
     "output_type": "stream",
     "text": [
      "VAL: rmse=6.2967, mae=4.4121, mape=0.1444, acc=0.8735, r2_score=0.6820, var_score=0.6829\n",
      "VAL loss=2.7013\n",
      "==========EPOCH 441===========\n"
     ]
    },
    {
     "name": "stderr",
     "output_type": "stream",
     "text": [
      "                                             \r"
     ]
    },
    {
     "name": "stdout",
     "output_type": "stream",
     "text": [
      "Trainning loss=1.9593\n"
     ]
    },
    {
     "name": "stderr",
     "output_type": "stream",
     "text": [
      " 11%|█         | 1/9 [00:00<00:01,  6.83it/s]"
     ]
    },
    {
     "name": "stdout",
     "output_type": "stream",
     "text": [
      "VAL: rmse=6.3224, mae=4.4618, mape=0.1481, acc=0.8721, r2_score=0.6794, var_score=0.6847\n",
      "VAL loss=2.7235\n",
      "==========EPOCH 442===========\n"
     ]
    },
    {
     "name": "stderr",
     "output_type": "stream",
     "text": [
      "                                             \r"
     ]
    },
    {
     "name": "stdout",
     "output_type": "stream",
     "text": [
      "Trainning loss=2.0000\n"
     ]
    },
    {
     "name": "stderr",
     "output_type": "stream",
     "text": [
      " 11%|█         | 1/9 [00:00<00:01,  6.68it/s]"
     ]
    },
    {
     "name": "stdout",
     "output_type": "stream",
     "text": [
      "VAL: rmse=6.3468, mae=4.4892, mape=0.1488, acc=0.8713, r2_score=0.6769, var_score=0.6821\n",
      "VAL loss=2.7447\n",
      "==========EPOCH 443===========\n"
     ]
    },
    {
     "name": "stderr",
     "output_type": "stream",
     "text": [
      "                                             \r"
     ]
    },
    {
     "name": "stdout",
     "output_type": "stream",
     "text": [
      "Trainning loss=2.0304\n"
     ]
    },
    {
     "name": "stderr",
     "output_type": "stream",
     "text": [
      " 11%|█         | 1/9 [00:00<00:01,  6.79it/s]"
     ]
    },
    {
     "name": "stdout",
     "output_type": "stream",
     "text": [
      "VAL: rmse=6.3544, mae=4.5038, mape=0.1497, acc=0.8709, r2_score=0.6761, var_score=0.6825\n",
      "VAL loss=2.7513\n",
      "==========EPOCH 444===========\n"
     ]
    },
    {
     "name": "stderr",
     "output_type": "stream",
     "text": [
      "                                             \r"
     ]
    },
    {
     "name": "stdout",
     "output_type": "stream",
     "text": [
      "Trainning loss=2.0309\n"
     ]
    },
    {
     "name": "stderr",
     "output_type": "stream",
     "text": [
      " 11%|█         | 1/9 [00:00<00:01,  6.67it/s]"
     ]
    },
    {
     "name": "stdout",
     "output_type": "stream",
     "text": [
      "VAL: rmse=6.3321, mae=4.4726, mape=0.1482, acc=0.8718, r2_score=0.6784, var_score=0.6833\n",
      "VAL loss=2.7319\n",
      "==========EPOCH 445===========\n"
     ]
    },
    {
     "name": "stderr",
     "output_type": "stream",
     "text": [
      "                                             \r"
     ]
    },
    {
     "name": "stdout",
     "output_type": "stream",
     "text": [
      "Trainning loss=1.9682\n"
     ]
    },
    {
     "name": "stderr",
     "output_type": "stream",
     "text": [
      " 11%|█         | 1/9 [00:00<00:01,  7.06it/s]"
     ]
    },
    {
     "name": "stdout",
     "output_type": "stream",
     "text": [
      "VAL: rmse=6.2972, mae=4.4239, mape=0.1463, acc=0.8732, r2_score=0.6820, var_score=0.6856\n",
      "VAL loss=2.7018\n",
      "==========EPOCH 446===========\n"
     ]
    },
    {
     "name": "stderr",
     "output_type": "stream",
     "text": [
      "                                             \r"
     ]
    },
    {
     "name": "stdout",
     "output_type": "stream",
     "text": [
      "Trainning loss=1.9323\n"
     ]
    },
    {
     "name": "stderr",
     "output_type": "stream",
     "text": [
      " 11%|█         | 1/9 [00:00<00:01,  6.55it/s]"
     ]
    },
    {
     "name": "stdout",
     "output_type": "stream",
     "text": [
      "VAL: rmse=6.2896, mae=4.4144, mape=0.1461, acc=0.8735, r2_score=0.6827, var_score=0.6867\n",
      "VAL loss=2.6952\n",
      "==========EPOCH 447===========\n"
     ]
    },
    {
     "name": "stderr",
     "output_type": "stream",
     "text": [
      "                                             \r"
     ]
    },
    {
     "name": "stdout",
     "output_type": "stream",
     "text": [
      "Trainning loss=1.9294\n"
     ]
    },
    {
     "name": "stderr",
     "output_type": "stream",
     "text": [
      " 11%|█         | 1/9 [00:00<00:01,  6.67it/s]"
     ]
    },
    {
     "name": "stdout",
     "output_type": "stream",
     "text": [
      "VAL: rmse=6.2948, mae=4.4232, mape=0.1466, acc=0.8732, r2_score=0.6822, var_score=0.6867\n",
      "VAL loss=2.6997\n",
      "==========EPOCH 448===========\n"
     ]
    },
    {
     "name": "stderr",
     "output_type": "stream",
     "text": [
      "                                             \r"
     ]
    },
    {
     "name": "stdout",
     "output_type": "stream",
     "text": [
      "Trainning loss=1.9606\n"
     ]
    },
    {
     "name": "stderr",
     "output_type": "stream",
     "text": [
      " 11%|█         | 1/9 [00:00<00:01,  6.69it/s]"
     ]
    },
    {
     "name": "stdout",
     "output_type": "stream",
     "text": [
      "VAL: rmse=6.3357, mae=4.4815, mape=0.1492, acc=0.8715, r2_score=0.6781, var_score=0.6851\n",
      "VAL loss=2.7350\n",
      "==========EPOCH 449===========\n"
     ]
    },
    {
     "name": "stderr",
     "output_type": "stream",
     "text": [
      "                                             \r"
     ]
    },
    {
     "name": "stdout",
     "output_type": "stream",
     "text": [
      "Trainning loss=2.0795\n"
     ]
    },
    {
     "name": "stderr",
     "output_type": "stream",
     "text": [
      " 11%|█         | 1/9 [00:00<00:01,  6.60it/s]"
     ]
    },
    {
     "name": "stdout",
     "output_type": "stream",
     "text": [
      "VAL: rmse=6.4452, mae=4.6206, mape=0.1545, acc=0.8675, r2_score=0.6668, var_score=0.6780\n",
      "VAL loss=2.8307\n",
      "==========EPOCH 450===========\n"
     ]
    },
    {
     "name": "stderr",
     "output_type": "stream",
     "text": [
      "                                             \r"
     ]
    },
    {
     "name": "stdout",
     "output_type": "stream",
     "text": [
      "Trainning loss=2.2883\n"
     ]
    },
    {
     "name": "stderr",
     "output_type": "stream",
     "text": [
      " 11%|█         | 1/9 [00:00<00:01,  6.62it/s]"
     ]
    },
    {
     "name": "stdout",
     "output_type": "stream",
     "text": [
      "VAL: rmse=6.5289, mae=4.7085, mape=0.1563, acc=0.8650, r2_score=0.6581, var_score=0.6662\n",
      "VAL loss=2.9052\n",
      "==========EPOCH 451===========\n"
     ]
    },
    {
     "name": "stderr",
     "output_type": "stream",
     "text": [
      "                                             \r"
     ]
    },
    {
     "name": "stdout",
     "output_type": "stream",
     "text": [
      "Trainning loss=2.2140\n"
     ]
    },
    {
     "name": "stderr",
     "output_type": "stream",
     "text": [
      " 11%|█         | 1/9 [00:00<00:01,  7.07it/s]"
     ]
    },
    {
     "name": "stdout",
     "output_type": "stream",
     "text": [
      "VAL: rmse=6.3510, mae=4.4635, mape=0.1454, acc=0.8721, r2_score=0.6765, var_score=0.6769\n",
      "VAL loss=2.7485\n",
      "==========EPOCH 452===========\n"
     ]
    },
    {
     "name": "stderr",
     "output_type": "stream",
     "text": [
      "                                             \r"
     ]
    },
    {
     "name": "stdout",
     "output_type": "stream",
     "text": [
      "Trainning loss=1.9625\n"
     ]
    },
    {
     "name": "stderr",
     "output_type": "stream",
     "text": [
      " 11%|█         | 1/9 [00:00<00:01,  6.62it/s]"
     ]
    },
    {
     "name": "stdout",
     "output_type": "stream",
     "text": [
      "VAL: rmse=6.3277, mae=4.4459, mape=0.1461, acc=0.8726, r2_score=0.6789, var_score=0.6807\n",
      "VAL loss=2.7281\n",
      "==========EPOCH 453===========\n"
     ]
    },
    {
     "name": "stderr",
     "output_type": "stream",
     "text": [
      "                                             \r"
     ]
    },
    {
     "name": "stdout",
     "output_type": "stream",
     "text": [
      "Trainning loss=2.0900\n"
     ]
    },
    {
     "name": "stderr",
     "output_type": "stream",
     "text": [
      " 11%|█         | 1/9 [00:00<00:01,  7.09it/s]"
     ]
    },
    {
     "name": "stdout",
     "output_type": "stream",
     "text": [
      "VAL: rmse=6.4113, mae=4.5578, mape=0.1521, acc=0.8693, r2_score=0.6703, var_score=0.6790\n",
      "VAL loss=2.8011\n",
      "==========EPOCH 454===========\n"
     ]
    },
    {
     "name": "stderr",
     "output_type": "stream",
     "text": [
      "                                             \r"
     ]
    },
    {
     "name": "stdout",
     "output_type": "stream",
     "text": [
      "Trainning loss=2.0485\n"
     ]
    },
    {
     "name": "stderr",
     "output_type": "stream",
     "text": [
      " 11%|█         | 1/9 [00:00<00:01,  7.05it/s]"
     ]
    },
    {
     "name": "stdout",
     "output_type": "stream",
     "text": [
      "VAL: rmse=6.2873, mae=4.3955, mape=0.1441, acc=0.8740, r2_score=0.6830, var_score=0.6842\n",
      "VAL loss=2.6933\n",
      "==========EPOCH 455===========\n"
     ]
    },
    {
     "name": "stderr",
     "output_type": "stream",
     "text": [
      "                                             \r"
     ]
    },
    {
     "name": "stdout",
     "output_type": "stream",
     "text": [
      "Trainning loss=1.9240\n"
     ]
    },
    {
     "name": "stderr",
     "output_type": "stream",
     "text": [
      " 11%|█         | 1/9 [00:00<00:01,  7.04it/s]"
     ]
    },
    {
     "name": "stdout",
     "output_type": "stream",
     "text": [
      "VAL: rmse=6.3032, mae=4.4246, mape=0.1454, acc=0.8732, r2_score=0.6813, var_score=0.6832\n",
      "VAL loss=2.7069\n",
      "==========EPOCH 456===========\n"
     ]
    },
    {
     "name": "stderr",
     "output_type": "stream",
     "text": [
      "                                             \r"
     ]
    },
    {
     "name": "stdout",
     "output_type": "stream",
     "text": [
      "Trainning loss=1.9830\n"
     ]
    },
    {
     "name": "stderr",
     "output_type": "stream",
     "text": [
      " 11%|█         | 1/9 [00:00<00:01,  7.04it/s]"
     ]
    },
    {
     "name": "stdout",
     "output_type": "stream",
     "text": [
      "VAL: rmse=6.3382, mae=4.4872, mape=0.1497, acc=0.8714, r2_score=0.6778, var_score=0.6858\n",
      "VAL loss=2.7372\n",
      "==========EPOCH 457===========\n"
     ]
    },
    {
     "name": "stderr",
     "output_type": "stream",
     "text": [
      "                                             \r"
     ]
    },
    {
     "name": "stdout",
     "output_type": "stream",
     "text": [
      "Trainning loss=1.9935\n"
     ]
    },
    {
     "name": "stderr",
     "output_type": "stream",
     "text": [
      " 11%|█         | 1/9 [00:00<00:01,  6.67it/s]"
     ]
    },
    {
     "name": "stdout",
     "output_type": "stream",
     "text": [
      "VAL: rmse=6.3032, mae=4.4355, mape=0.1470, acc=0.8729, r2_score=0.6813, var_score=0.6859\n",
      "VAL loss=2.7070\n",
      "==========EPOCH 458===========\n"
     ]
    },
    {
     "name": "stderr",
     "output_type": "stream",
     "text": [
      "                                             \r"
     ]
    },
    {
     "name": "stdout",
     "output_type": "stream",
     "text": [
      "Trainning loss=1.9362\n"
     ]
    },
    {
     "name": "stderr",
     "output_type": "stream",
     "text": [
      " 11%|█         | 1/9 [00:00<00:01,  6.43it/s]"
     ]
    },
    {
     "name": "stdout",
     "output_type": "stream",
     "text": [
      "VAL: rmse=6.2938, mae=4.4212, mape=0.1465, acc=0.8733, r2_score=0.6823, var_score=0.6866\n",
      "VAL loss=2.6988\n",
      "==========EPOCH 459===========\n"
     ]
    },
    {
     "name": "stderr",
     "output_type": "stream",
     "text": [
      "                                             \r"
     ]
    },
    {
     "name": "stdout",
     "output_type": "stream",
     "text": [
      "Trainning loss=1.9590\n"
     ]
    },
    {
     "name": "stderr",
     "output_type": "stream",
     "text": [
      " 11%|█         | 1/9 [00:00<00:01,  6.72it/s]"
     ]
    },
    {
     "name": "stdout",
     "output_type": "stream",
     "text": [
      "VAL: rmse=6.3275, mae=4.4677, mape=0.1489, acc=0.8719, r2_score=0.6789, var_score=0.6862\n",
      "VAL loss=2.7279\n",
      "==========EPOCH 460===========\n"
     ]
    },
    {
     "name": "stderr",
     "output_type": "stream",
     "text": [
      "                                             \r"
     ]
    },
    {
     "name": "stdout",
     "output_type": "stream",
     "text": [
      "Trainning loss=2.0303\n"
     ]
    },
    {
     "name": "stderr",
     "output_type": "stream",
     "text": [
      " 11%|█         | 1/9 [00:00<00:01,  6.70it/s]"
     ]
    },
    {
     "name": "stdout",
     "output_type": "stream",
     "text": [
      "VAL: rmse=6.3706, mae=4.5171, mape=0.1506, acc=0.8705, r2_score=0.6745, var_score=0.6825\n",
      "VAL loss=2.7653\n",
      "==========EPOCH 461===========\n"
     ]
    },
    {
     "name": "stderr",
     "output_type": "stream",
     "text": [
      "                                             \r"
     ]
    },
    {
     "name": "stdout",
     "output_type": "stream",
     "text": [
      "Trainning loss=2.0806\n"
     ]
    },
    {
     "name": "stderr",
     "output_type": "stream",
     "text": [
      " 11%|█         | 1/9 [00:00<00:01,  6.90it/s]"
     ]
    },
    {
     "name": "stdout",
     "output_type": "stream",
     "text": [
      "VAL: rmse=6.3717, mae=4.5104, mape=0.1493, acc=0.8707, r2_score=0.6744, var_score=0.6791\n",
      "VAL loss=2.7664\n",
      "==========EPOCH 462===========\n"
     ]
    },
    {
     "name": "stderr",
     "output_type": "stream",
     "text": [
      "                                             \r"
     ]
    },
    {
     "name": "stdout",
     "output_type": "stream",
     "text": [
      "Trainning loss=2.0283\n"
     ]
    },
    {
     "name": "stderr",
     "output_type": "stream",
     "text": [
      " 11%|█         | 1/9 [00:00<00:01,  7.07it/s]"
     ]
    },
    {
     "name": "stdout",
     "output_type": "stream",
     "text": [
      "VAL: rmse=6.3418, mae=4.4749, mape=0.1474, acc=0.8717, r2_score=0.6774, var_score=0.6801\n",
      "VAL loss=2.7403\n",
      "==========EPOCH 463===========\n"
     ]
    },
    {
     "name": "stderr",
     "output_type": "stream",
     "text": [
      "                                             \r"
     ]
    },
    {
     "name": "stdout",
     "output_type": "stream",
     "text": [
      "Trainning loss=2.1525\n"
     ]
    },
    {
     "name": "stderr",
     "output_type": "stream",
     "text": [
      " 11%|█         | 1/9 [00:00<00:01,  7.11it/s]"
     ]
    },
    {
     "name": "stdout",
     "output_type": "stream",
     "text": [
      "VAL: rmse=6.6424, mae=4.8398, mape=0.1617, acc=0.8613, r2_score=0.6461, var_score=0.6598\n",
      "VAL loss=3.0070\n",
      "==========EPOCH 464===========\n"
     ]
    },
    {
     "name": "stderr",
     "output_type": "stream",
     "text": [
      "                                             \r"
     ]
    },
    {
     "name": "stdout",
     "output_type": "stream",
     "text": [
      "Trainning loss=2.9297\n"
     ]
    },
    {
     "name": "stderr",
     "output_type": "stream",
     "text": [
      " 11%|█         | 1/9 [00:00<00:01,  6.69it/s]"
     ]
    },
    {
     "name": "stdout",
     "output_type": "stream",
     "text": [
      "VAL: rmse=6.7675, mae=4.9924, mape=0.1669, acc=0.8569, r2_score=0.6327, var_score=0.6488\n",
      "VAL loss=3.1232\n",
      "==========EPOCH 465===========\n"
     ]
    },
    {
     "name": "stderr",
     "output_type": "stream",
     "text": [
      "                                             \r"
     ]
    },
    {
     "name": "stdout",
     "output_type": "stream",
     "text": [
      "Trainning loss=2.4451\n"
     ]
    },
    {
     "name": "stderr",
     "output_type": "stream",
     "text": [
      " 11%|█         | 1/9 [00:00<00:01,  7.02it/s]"
     ]
    },
    {
     "name": "stdout",
     "output_type": "stream",
     "text": [
      "VAL: rmse=6.5086, mae=4.6401, mape=0.1494, acc=0.8670, r2_score=0.6602, var_score=0.6605\n",
      "VAL loss=2.8874\n",
      "==========EPOCH 466===========\n"
     ]
    },
    {
     "name": "stderr",
     "output_type": "stream",
     "text": [
      "                                             \r"
     ]
    },
    {
     "name": "stdout",
     "output_type": "stream",
     "text": [
      "Trainning loss=2.0432\n"
     ]
    },
    {
     "name": "stderr",
     "output_type": "stream",
     "text": [
      " 11%|█         | 1/9 [00:00<00:01,  6.78it/s]"
     ]
    },
    {
     "name": "stdout",
     "output_type": "stream",
     "text": [
      "VAL: rmse=6.3813, mae=4.5283, mape=0.1496, acc=0.8702, r2_score=0.6734, var_score=0.6774\n",
      "VAL loss=2.7747\n",
      "==========EPOCH 467===========\n"
     ]
    },
    {
     "name": "stderr",
     "output_type": "stream",
     "text": [
      "                                             \r"
     ]
    },
    {
     "name": "stdout",
     "output_type": "stream",
     "text": [
      "Trainning loss=1.9525\n"
     ]
    },
    {
     "name": "stderr",
     "output_type": "stream",
     "text": [
      " 11%|█         | 1/9 [00:00<00:01,  6.77it/s]"
     ]
    },
    {
     "name": "stdout",
     "output_type": "stream",
     "text": [
      "VAL: rmse=6.2826, mae=4.3802, mape=0.1420, acc=0.8744, r2_score=0.6834, var_score=0.6834\n",
      "VAL loss=2.6891\n",
      "==========EPOCH 468===========\n"
     ]
    },
    {
     "name": "stderr",
     "output_type": "stream",
     "text": [
      "                                             \r"
     ]
    },
    {
     "name": "stdout",
     "output_type": "stream",
     "text": [
      "Trainning loss=1.8928\n"
     ]
    },
    {
     "name": "stderr",
     "output_type": "stream",
     "text": [
      " 11%|█         | 1/9 [00:00<00:01,  7.10it/s]"
     ]
    },
    {
     "name": "stdout",
     "output_type": "stream",
     "text": [
      "VAL: rmse=6.2621, mae=4.3707, mape=0.1433, acc=0.8747, r2_score=0.6855, var_score=0.6866\n",
      "VAL loss=2.6715\n",
      "==========EPOCH 469===========\n"
     ]
    },
    {
     "name": "stderr",
     "output_type": "stream",
     "text": [
      "                                             \r"
     ]
    },
    {
     "name": "stdout",
     "output_type": "stream",
     "text": [
      "Trainning loss=1.8892\n"
     ]
    },
    {
     "name": "stderr",
     "output_type": "stream",
     "text": [
      " 11%|█         | 1/9 [00:00<00:01,  7.13it/s]"
     ]
    },
    {
     "name": "stdout",
     "output_type": "stream",
     "text": [
      "VAL: rmse=6.2646, mae=4.3706, mape=0.1433, acc=0.8747, r2_score=0.6852, var_score=0.6864\n",
      "VAL loss=2.6738\n",
      "==========EPOCH 470===========\n"
     ]
    },
    {
     "name": "stderr",
     "output_type": "stream",
     "text": [
      "                                             \r"
     ]
    },
    {
     "name": "stdout",
     "output_type": "stream",
     "text": [
      "Trainning loss=1.8894\n"
     ]
    },
    {
     "name": "stderr",
     "output_type": "stream",
     "text": [
      " 11%|█         | 1/9 [00:00<00:01,  7.15it/s]"
     ]
    },
    {
     "name": "stdout",
     "output_type": "stream",
     "text": [
      "VAL: rmse=6.2592, mae=4.3653, mape=0.1432, acc=0.8749, r2_score=0.6858, var_score=0.6870\n",
      "VAL loss=2.6691\n",
      "==========EPOCH 471===========\n"
     ]
    },
    {
     "name": "stderr",
     "output_type": "stream",
     "text": [
      "                                             \r"
     ]
    },
    {
     "name": "stdout",
     "output_type": "stream",
     "text": [
      "Trainning loss=1.8771\n"
     ]
    },
    {
     "name": "stderr",
     "output_type": "stream",
     "text": [
      " 11%|█         | 1/9 [00:00<00:01,  6.69it/s]"
     ]
    },
    {
     "name": "stdout",
     "output_type": "stream",
     "text": [
      "VAL: rmse=6.2615, mae=4.3701, mape=0.1435, acc=0.8747, r2_score=0.6856, var_score=0.6871\n",
      "VAL loss=2.6710\n",
      "==========EPOCH 472===========\n"
     ]
    },
    {
     "name": "stderr",
     "output_type": "stream",
     "text": [
      "                                             \r"
     ]
    },
    {
     "name": "stdout",
     "output_type": "stream",
     "text": [
      "Trainning loss=1.8914\n"
     ]
    },
    {
     "name": "stderr",
     "output_type": "stream",
     "text": [
      " 11%|█         | 1/9 [00:00<00:01,  7.07it/s]"
     ]
    },
    {
     "name": "stdout",
     "output_type": "stream",
     "text": [
      "VAL: rmse=6.2786, mae=4.3926, mape=0.1447, acc=0.8741, r2_score=0.6838, var_score=0.6861\n",
      "VAL loss=2.6857\n",
      "==========EPOCH 473===========\n"
     ]
    },
    {
     "name": "stderr",
     "output_type": "stream",
     "text": [
      "                                             \r"
     ]
    },
    {
     "name": "stdout",
     "output_type": "stream",
     "text": [
      "Trainning loss=1.9276\n"
     ]
    },
    {
     "name": "stderr",
     "output_type": "stream",
     "text": [
      " 11%|█         | 1/9 [00:00<00:01,  6.60it/s]"
     ]
    },
    {
     "name": "stdout",
     "output_type": "stream",
     "text": [
      "VAL: rmse=6.3000, mae=4.4229, mape=0.1463, acc=0.8732, r2_score=0.6817, var_score=0.6853\n",
      "VAL loss=2.7042\n",
      "==========EPOCH 474===========\n"
     ]
    },
    {
     "name": "stderr",
     "output_type": "stream",
     "text": [
      "                                             \r"
     ]
    },
    {
     "name": "stdout",
     "output_type": "stream",
     "text": [
      "Trainning loss=1.9599\n"
     ]
    },
    {
     "name": "stderr",
     "output_type": "stream",
     "text": [
      " 11%|█         | 1/9 [00:00<00:01,  6.68it/s]"
     ]
    },
    {
     "name": "stdout",
     "output_type": "stream",
     "text": [
      "VAL: rmse=6.3096, mae=4.4359, mape=0.1469, acc=0.8728, r2_score=0.6807, var_score=0.6849\n",
      "VAL loss=2.7125\n",
      "==========EPOCH 475===========\n"
     ]
    },
    {
     "name": "stderr",
     "output_type": "stream",
     "text": [
      "                                             \r"
     ]
    },
    {
     "name": "stdout",
     "output_type": "stream",
     "text": [
      "Trainning loss=1.9522\n"
     ]
    },
    {
     "name": "stderr",
     "output_type": "stream",
     "text": [
      " 11%|█         | 1/9 [00:00<00:01,  6.71it/s]"
     ]
    },
    {
     "name": "stdout",
     "output_type": "stream",
     "text": [
      "VAL: rmse=6.2883, mae=4.4095, mape=0.1458, acc=0.8736, r2_score=0.6829, var_score=0.6864\n",
      "VAL loss=2.6941\n",
      "==========EPOCH 476===========\n"
     ]
    },
    {
     "name": "stderr",
     "output_type": "stream",
     "text": [
      "                                             \r"
     ]
    },
    {
     "name": "stdout",
     "output_type": "stream",
     "text": [
      "Trainning loss=1.9133\n"
     ]
    },
    {
     "name": "stderr",
     "output_type": "stream",
     "text": [
      " 11%|█         | 1/9 [00:00<00:01,  6.55it/s]"
     ]
    },
    {
     "name": "stdout",
     "output_type": "stream",
     "text": [
      "VAL: rmse=6.2746, mae=4.3936, mape=0.1452, acc=0.8741, r2_score=0.6842, var_score=0.6875\n",
      "VAL loss=2.6823\n",
      "==========EPOCH 477===========\n"
     ]
    },
    {
     "name": "stderr",
     "output_type": "stream",
     "text": [
      "                                             \r"
     ]
    },
    {
     "name": "stdout",
     "output_type": "stream",
     "text": [
      "Trainning loss=1.9166\n"
     ]
    },
    {
     "name": "stderr",
     "output_type": "stream",
     "text": [
      " 11%|█         | 1/9 [00:00<00:01,  6.86it/s]"
     ]
    },
    {
     "name": "stdout",
     "output_type": "stream",
     "text": [
      "VAL: rmse=6.2930, mae=4.4210, mape=0.1467, acc=0.8733, r2_score=0.6824, var_score=0.6873\n",
      "VAL loss=2.6981\n",
      "==========EPOCH 478===========\n"
     ]
    },
    {
     "name": "stderr",
     "output_type": "stream",
     "text": [
      "                                             \r"
     ]
    },
    {
     "name": "stdout",
     "output_type": "stream",
     "text": [
      "Trainning loss=1.9615\n"
     ]
    },
    {
     "name": "stderr",
     "output_type": "stream",
     "text": [
      " 11%|█         | 1/9 [00:00<00:01,  6.98it/s]"
     ]
    },
    {
     "name": "stdout",
     "output_type": "stream",
     "text": [
      "VAL: rmse=6.3193, mae=4.4587, mape=0.1486, acc=0.8722, r2_score=0.6797, var_score=0.6867\n",
      "VAL loss=2.7209\n",
      "==========EPOCH 479===========\n"
     ]
    },
    {
     "name": "stderr",
     "output_type": "stream",
     "text": [
      "                                             \r"
     ]
    },
    {
     "name": "stdout",
     "output_type": "stream",
     "text": [
      "Trainning loss=1.9988\n"
     ]
    },
    {
     "name": "stderr",
     "output_type": "stream",
     "text": [
      " 11%|█         | 1/9 [00:00<00:01,  6.81it/s]"
     ]
    },
    {
     "name": "stdout",
     "output_type": "stream",
     "text": [
      "VAL: rmse=6.3346, mae=4.4816, mape=0.1494, acc=0.8715, r2_score=0.6782, var_score=0.6858\n",
      "VAL loss=2.7341\n",
      "==========EPOCH 480===========\n"
     ]
    },
    {
     "name": "stderr",
     "output_type": "stream",
     "text": [
      "                                             \r"
     ]
    },
    {
     "name": "stdout",
     "output_type": "stream",
     "text": [
      "Trainning loss=2.0378\n"
     ]
    },
    {
     "name": "stderr",
     "output_type": "stream",
     "text": [
      " 11%|█         | 1/9 [00:00<00:01,  6.72it/s]"
     ]
    },
    {
     "name": "stdout",
     "output_type": "stream",
     "text": [
      "VAL: rmse=6.3856, mae=4.5483, mape=0.1519, acc=0.8696, r2_score=0.6730, var_score=0.6821\n",
      "VAL loss=2.7785\n",
      "==========EPOCH 481===========\n"
     ]
    },
    {
     "name": "stderr",
     "output_type": "stream",
     "text": [
      "                                             \r"
     ]
    },
    {
     "name": "stdout",
     "output_type": "stream",
     "text": [
      "Trainning loss=2.1905\n"
     ]
    },
    {
     "name": "stderr",
     "output_type": "stream",
     "text": [
      " 11%|█         | 1/9 [00:00<00:01,  7.10it/s]"
     ]
    },
    {
     "name": "stdout",
     "output_type": "stream",
     "text": [
      "VAL: rmse=6.5216, mae=4.7126, mape=0.1578, acc=0.8649, r2_score=0.6589, var_score=0.6721\n",
      "VAL loss=2.8985\n",
      "==========EPOCH 482===========\n"
     ]
    },
    {
     "name": "stderr",
     "output_type": "stream",
     "text": [
      "                                             \r"
     ]
    },
    {
     "name": "stdout",
     "output_type": "stream",
     "text": [
      "Trainning loss=2.4529\n"
     ]
    },
    {
     "name": "stderr",
     "output_type": "stream",
     "text": [
      " 11%|█         | 1/9 [00:00<00:01,  6.75it/s]"
     ]
    },
    {
     "name": "stdout",
     "output_type": "stream",
     "text": [
      "VAL: rmse=6.6467, mae=4.8078, mape=0.1591, acc=0.8622, r2_score=0.6457, var_score=0.6527\n",
      "VAL loss=3.0114\n",
      "==========EPOCH 483===========\n"
     ]
    },
    {
     "name": "stderr",
     "output_type": "stream",
     "text": [
      "                                             \r"
     ]
    },
    {
     "name": "stdout",
     "output_type": "stream",
     "text": [
      "Trainning loss=2.2829\n"
     ]
    },
    {
     "name": "stderr",
     "output_type": "stream",
     "text": [
      " 11%|█         | 1/9 [00:00<00:01,  7.10it/s]"
     ]
    },
    {
     "name": "stdout",
     "output_type": "stream",
     "text": [
      "VAL: rmse=6.2912, mae=4.3806, mape=0.1408, acc=0.8744, r2_score=0.6826, var_score=0.6831\n",
      "VAL loss=2.6967\n",
      "==========EPOCH 484===========\n"
     ]
    },
    {
     "name": "stderr",
     "output_type": "stream",
     "text": [
      "                                             \r"
     ]
    },
    {
     "name": "stdout",
     "output_type": "stream",
     "text": [
      "Trainning loss=1.9948\n"
     ]
    },
    {
     "name": "stderr",
     "output_type": "stream",
     "text": [
      " 11%|█         | 1/9 [00:00<00:01,  6.84it/s]"
     ]
    },
    {
     "name": "stdout",
     "output_type": "stream",
     "text": [
      "VAL: rmse=6.3677, mae=4.4991, mape=0.1494, acc=0.8710, r2_score=0.6748, var_score=0.6804\n",
      "VAL loss=2.7629\n",
      "==========EPOCH 485===========\n"
     ]
    },
    {
     "name": "stderr",
     "output_type": "stream",
     "text": [
      "                                             \r"
     ]
    },
    {
     "name": "stdout",
     "output_type": "stream",
     "text": [
      "Trainning loss=2.0047\n"
     ]
    },
    {
     "name": "stderr",
     "output_type": "stream",
     "text": [
      " 11%|█         | 1/9 [00:00<00:01,  7.14it/s]"
     ]
    },
    {
     "name": "stdout",
     "output_type": "stream",
     "text": [
      "VAL: rmse=6.2704, mae=4.3807, mape=0.1435, acc=0.8744, r2_score=0.6847, var_score=0.6858\n",
      "VAL loss=2.6787\n",
      "==========EPOCH 486===========\n"
     ]
    },
    {
     "name": "stderr",
     "output_type": "stream",
     "text": [
      "                                             \r"
     ]
    },
    {
     "name": "stdout",
     "output_type": "stream",
     "text": [
      "Trainning loss=1.8805\n"
     ]
    },
    {
     "name": "stderr",
     "output_type": "stream",
     "text": [
      " 11%|█         | 1/9 [00:00<00:01,  6.75it/s]"
     ]
    },
    {
     "name": "stdout",
     "output_type": "stream",
     "text": [
      "VAL: rmse=6.2598, mae=4.3656, mape=0.1430, acc=0.8749, r2_score=0.6857, var_score=0.6866\n",
      "VAL loss=2.6696\n",
      "==========EPOCH 487===========\n"
     ]
    },
    {
     "name": "stderr",
     "output_type": "stream",
     "text": [
      "                                             \r"
     ]
    },
    {
     "name": "stdout",
     "output_type": "stream",
     "text": [
      "Trainning loss=1.9091\n"
     ]
    },
    {
     "name": "stderr",
     "output_type": "stream",
     "text": [
      " 11%|█         | 1/9 [00:00<00:01,  6.78it/s]"
     ]
    },
    {
     "name": "stdout",
     "output_type": "stream",
     "text": [
      "VAL: rmse=6.2735, mae=4.3921, mape=0.1450, acc=0.8741, r2_score=0.6843, var_score=0.6874\n",
      "VAL loss=2.6815\n",
      "==========EPOCH 488===========\n"
     ]
    },
    {
     "name": "stderr",
     "output_type": "stream",
     "text": [
      "                                             \r"
     ]
    },
    {
     "name": "stdout",
     "output_type": "stream",
     "text": [
      "Trainning loss=1.8849\n"
     ]
    },
    {
     "name": "stderr",
     "output_type": "stream",
     "text": [
      " 11%|█         | 1/9 [00:00<00:01,  6.73it/s]"
     ]
    },
    {
     "name": "stdout",
     "output_type": "stream",
     "text": [
      "VAL: rmse=6.2670, mae=4.3764, mape=0.1434, acc=0.8745, r2_score=0.6850, var_score=0.6860\n",
      "VAL loss=2.6758\n",
      "==========EPOCH 489===========\n"
     ]
    },
    {
     "name": "stderr",
     "output_type": "stream",
     "text": [
      "                                             \r"
     ]
    },
    {
     "name": "stdout",
     "output_type": "stream",
     "text": [
      "Trainning loss=1.9294\n"
     ]
    },
    {
     "name": "stderr",
     "output_type": "stream",
     "text": [
      " 11%|█         | 1/9 [00:00<00:01,  6.68it/s]"
     ]
    },
    {
     "name": "stdout",
     "output_type": "stream",
     "text": [
      "VAL: rmse=6.3364, mae=4.4818, mape=0.1489, acc=0.8715, r2_score=0.6780, var_score=0.6839\n",
      "VAL loss=2.7356\n",
      "==========EPOCH 490===========\n"
     ]
    },
    {
     "name": "stderr",
     "output_type": "stream",
     "text": [
      "                                             \r"
     ]
    },
    {
     "name": "stdout",
     "output_type": "stream",
     "text": [
      "Trainning loss=2.1114\n"
     ]
    },
    {
     "name": "stderr",
     "output_type": "stream",
     "text": [
      " 11%|█         | 1/9 [00:00<00:01,  7.13it/s]"
     ]
    },
    {
     "name": "stdout",
     "output_type": "stream",
     "text": [
      "VAL: rmse=6.4773, mae=4.6493, mape=0.1545, acc=0.8667, r2_score=0.6635, var_score=0.6713\n",
      "VAL loss=2.8592\n",
      "==========EPOCH 491===========\n"
     ]
    },
    {
     "name": "stderr",
     "output_type": "stream",
     "text": [
      "                                             \r"
     ]
    },
    {
     "name": "stdout",
     "output_type": "stream",
     "text": [
      "Trainning loss=2.2802\n"
     ]
    },
    {
     "name": "stderr",
     "output_type": "stream",
     "text": [
      " 11%|█         | 1/9 [00:00<00:01,  6.81it/s]"
     ]
    },
    {
     "name": "stdout",
     "output_type": "stream",
     "text": [
      "VAL: rmse=6.4079, mae=4.5599, mape=0.1505, acc=0.8693, r2_score=0.6707, var_score=0.6746\n",
      "VAL loss=2.7984\n",
      "==========EPOCH 492===========\n"
     ]
    },
    {
     "name": "stderr",
     "output_type": "stream",
     "text": [
      "                                             \r"
     ]
    },
    {
     "name": "stdout",
     "output_type": "stream",
     "text": [
      "Trainning loss=1.9502\n"
     ]
    },
    {
     "name": "stderr",
     "output_type": "stream",
     "text": [
      " 11%|█         | 1/9 [00:00<00:01,  6.66it/s]"
     ]
    },
    {
     "name": "stdout",
     "output_type": "stream",
     "text": [
      "VAL: rmse=6.2702, mae=4.3737, mape=0.1429, acc=0.8746, r2_score=0.6847, var_score=0.6852\n",
      "VAL loss=2.6785\n",
      "==========EPOCH 493===========\n"
     ]
    },
    {
     "name": "stderr",
     "output_type": "stream",
     "text": [
      "                                             \r"
     ]
    },
    {
     "name": "stdout",
     "output_type": "stream",
     "text": [
      "Trainning loss=1.9705\n"
     ]
    },
    {
     "name": "stderr",
     "output_type": "stream",
     "text": [
      " 11%|█         | 1/9 [00:00<00:01,  6.66it/s]"
     ]
    },
    {
     "name": "stdout",
     "output_type": "stream",
     "text": [
      "VAL: rmse=6.3273, mae=4.4525, mape=0.1472, acc=0.8724, r2_score=0.6789, var_score=0.6825\n",
      "VAL loss=2.7279\n",
      "==========EPOCH 494===========\n"
     ]
    },
    {
     "name": "stderr",
     "output_type": "stream",
     "text": [
      "                                             \r"
     ]
    },
    {
     "name": "stdout",
     "output_type": "stream",
     "text": [
      "Trainning loss=1.9537\n"
     ]
    },
    {
     "name": "stderr",
     "output_type": "stream",
     "text": [
      " 11%|█         | 1/9 [00:00<00:01,  6.67it/s]"
     ]
    },
    {
     "name": "stdout",
     "output_type": "stream",
     "text": [
      "VAL: rmse=6.2683, mae=4.3842, mape=0.1445, acc=0.8743, r2_score=0.6849, var_score=0.6874\n",
      "VAL loss=2.6770\n",
      "==========EPOCH 495===========\n"
     ]
    },
    {
     "name": "stderr",
     "output_type": "stream",
     "text": [
      "                                             \r"
     ]
    },
    {
     "name": "stdout",
     "output_type": "stream",
     "text": [
      "Trainning loss=1.8849\n"
     ]
    },
    {
     "name": "stderr",
     "output_type": "stream",
     "text": [
      " 11%|█         | 1/9 [00:00<00:01,  6.97it/s]"
     ]
    },
    {
     "name": "stdout",
     "output_type": "stream",
     "text": [
      "VAL: rmse=6.2607, mae=4.3712, mape=0.1436, acc=0.8747, r2_score=0.6856, var_score=0.6872\n",
      "VAL loss=2.6704\n",
      "==========EPOCH 496===========\n"
     ]
    },
    {
     "name": "stderr",
     "output_type": "stream",
     "text": [
      "                                             \r"
     ]
    },
    {
     "name": "stdout",
     "output_type": "stream",
     "text": [
      "Trainning loss=1.8961\n"
     ]
    },
    {
     "name": "stderr",
     "output_type": "stream",
     "text": [
      " 11%|█         | 1/9 [00:00<00:01,  6.72it/s]"
     ]
    },
    {
     "name": "stdout",
     "output_type": "stream",
     "text": [
      "VAL: rmse=6.2858, mae=4.4094, mape=0.1461, acc=0.8736, r2_score=0.6831, var_score=0.6874\n",
      "VAL loss=2.6920\n",
      "==========EPOCH 497===========\n"
     ]
    },
    {
     "name": "stderr",
     "output_type": "stream",
     "text": [
      "                                             \r"
     ]
    },
    {
     "name": "stdout",
     "output_type": "stream",
     "text": [
      "Trainning loss=1.9477\n"
     ]
    },
    {
     "name": "stderr",
     "output_type": "stream",
     "text": [
      " 11%|█         | 1/9 [00:00<00:01,  6.99it/s]"
     ]
    },
    {
     "name": "stdout",
     "output_type": "stream",
     "text": [
      "VAL: rmse=6.3032, mae=4.4310, mape=0.1471, acc=0.8730, r2_score=0.6814, var_score=0.6864\n",
      "VAL loss=2.7069\n",
      "==========EPOCH 498===========\n"
     ]
    },
    {
     "name": "stderr",
     "output_type": "stream",
     "text": [
      "                                             \r"
     ]
    },
    {
     "name": "stdout",
     "output_type": "stream",
     "text": [
      "Trainning loss=1.9600\n"
     ]
    },
    {
     "name": "stderr",
     "output_type": "stream",
     "text": [
      " 11%|█         | 1/9 [00:00<00:01,  6.99it/s]"
     ]
    },
    {
     "name": "stdout",
     "output_type": "stream",
     "text": [
      "VAL: rmse=6.3075, mae=4.4360, mape=0.1471, acc=0.8728, r2_score=0.6809, var_score=0.6856\n",
      "VAL loss=2.7107\n",
      "==========EPOCH 499===========\n"
     ]
    },
    {
     "name": "stderr",
     "output_type": "stream",
     "text": [
      "                                             \r"
     ]
    },
    {
     "name": "stdout",
     "output_type": "stream",
     "text": [
      "Trainning loss=1.9706\n",
      "VAL: rmse=6.3206, mae=4.4597, mape=0.1483, acc=0.8722, r2_score=0.6796, var_score=0.6857\n",
      "VAL loss=2.7220\n"
     ]
    }
   ],
   "source": [
    "# os.environ['CUDA_VISIBLE_DEVICES']='5'\n",
    "device = torch.device('cuda:2')\n",
    "cwd = os.getcwd()\n",
    "\n",
    "# device = torch.device('cuda' if torch.cuda.is_available() else 'cpu')\n",
    "# torch.cuda.set_device(1)\n",
    "#===== para set: =====#\n",
    "epochs = 500\n",
    "load_batch_size = 32\n",
    "seq_len = 12\n",
    "pre_len = 3\n",
    "gru_units = 64\n",
    "src_city = 'bj'\n",
    "tgt_city = 'sh'\n",
    "dt_similar_lambda = 1\n",
    "sub_graph_num = 4\n",
    "min_mape = 100\n",
    "if_norm = 'meanvalue'\n",
    "inv_if_norm = 'inv_'+if_norm\n",
    "\n",
    "#===== data load: =====# \n",
    "src_speed = CityDataset(city=src_city, typo='speed', seq_len=seq_len, pre_len=pre_len, if_norm=if_norm)\n",
    "src_loader = DataLoader(src_speed, batch_size=load_batch_size, pin_memory=True, num_workers=0, shuffle=True)\n",
    "tgt_speed = CityDataset(city=tgt_city, typo='speed', seq_len=seq_len, pre_len=pre_len, if_norm=if_norm)\n",
    "tgt_loader = DataLoader(tgt_speed, batch_size=load_batch_size, pin_memory=True, num_workers=0, shuffle=True)\n",
    "src_num_nodes, tgt_num_nodes = src_speed.data.shape[2], tgt_speed.data.shape[2]\n",
    "src_adj = pd.read_csv('./src_data/'+src_city+'_adj.csv', header=None).values\n",
    "tgt_adj = pd.read_csv('./src_data/'+tgt_city+'_adj.csv', header=None).values\n",
    "tgt_adj = tgt_adj[:400, :400]\n",
    "tgt_nodes_part, tgt_min_num = graph_part('sh',tgt_adj, sub_graph_num)\n",
    "src_nodes_part, src_min_num = graph_part('bj',src_adj, (src_num_nodes//tgt_min_num)-1)\n",
    "\n",
    "#===== model init: =====#\n",
    "# TranFeatureNet = GetFeature(tgt_num_nodes, src_num_nodes).to(device)  # 1159, 1335\n",
    "# TranFeatureNet = TranFeatureNet.double()\n",
    "# TranFeatureNet.train()\n",
    "# set_requires_grad(TranFeatureNet, requires_grad=True)\n",
    "\n",
    "# discriminator = D(input_size=src_num_nodes, seq_len=seq_len, gru_units=gru_units).to(device)\n",
    "# discriminator = discriminator.double()\n",
    "# discriminator.train()\n",
    "# set_requires_grad(discriminator, requires_grad=True)\n",
    "\n",
    "net = TGCN(tgt_min_num, 1, gru_units, seq_len, pre_len).to(device=device)\n",
    "# net = net.double()\n",
    "net.train()\n",
    "set_requires_grad(net, requires_grad=True)\n",
    "\n",
    "# if os.path.exists(cwd+'/pkl/NETS_params.pkl'):\n",
    "#     checkpoint = torch.load(cwd+'/pkl/NETS_params.pkl')\n",
    "#     TranFeatureNet.load_state_dict(checkpoint['TF_model'])\n",
    "#     discriminator.load_state_dict(checkpoint['D'])\n",
    "#     net.load_state_dict(checkpoint['net'])\n",
    "#     min_mape = checkpoint['min_mape']\n",
    "#     print('加载模型成功')\n",
    "\n",
    "#===== optim: =====# \n",
    "# optim = torch.optim.Adam(list(TranFeatureNet.parameters())+list(discriminator.parameters()), lr=1e-6)\n",
    "# optimizer = torch.optim.Adam(list(TranFeatureNet.parameters())+list(discriminator.parameters())+list(net.parameters()))\n",
    "optimizer = torch.optim.Adam(net.parameters(),lr=0.001)\n",
    "\n",
    "# mean_domain_loss = []\n",
    "# mean_similar_loss = []\n",
    "# mean_total_batch_loss = []\n",
    "Train_loss = []\n",
    "Val_loss = []\n",
    "\n",
    "validation_maes = []\n",
    "validation_pred = []\n",
    "validation_mape = []\n",
    "validation_acc = []\n",
    "validation_r2 = []\n",
    "validation_var = []\n",
    "validation_rmse = []\n",
    "\n",
    "for epoch in range(epochs):\n",
    "    torch.manual_seed(3)\n",
    "    batches = zip(src_loader, src_loader, src_loader, tgt_loader)\n",
    "    total_batch_loss = 0\n",
    "    n_batches = min(len(src_loader), len(tgt_loader))\n",
    "    total_domain_loss = total_label_accuracy = 0\n",
    "    total_similar_loss = 0\n",
    "    tgcn_tlt_loss = []\n",
    "    print('==========EPOCH %03d==========='%(epoch))\n",
    "    # print('==========EPOCH {0:0>3}==========='.format(epoch))\n",
    "\n",
    "##########################\n",
    "# mix_data混合数据，输出tgt_data_gen。\n",
    "##########################\n",
    "    for (src_data1,src_pre1), (src_data2,src_pre2),(src_data3,src_pre3), (tgt_data,tgt_pre) in tqdm(batches, leave=False, total=n_batches):\n",
    "        # ===== 数据转移到GPU\n",
    "        src_data1, src_data2, src_data3, tgt_data = src_data1.to(device), src_data2.to(device), src_data3.to(device), tgt_data.to(device)\n",
    "        if tgt_data.shape[0] != load_batch_size:\n",
    "            continue\n",
    "        '''\n",
    "        # ===== 目标域数据转成源域数据大小\n",
    "        tgt_data2src_data = TranFeatureNet(tgt_data, 'tgt2src') # 目标域维度变源域维度\n",
    "        # ===== 正负样本结对\n",
    "        pos_smp, neg_smp = torch.cat((src_data1, src_data2),1), torch.cat((src_data3, tgt_data2src_data),1)\n",
    "        pos_smp, neg_smp = pos_smp.to(device), neg_smp.to(device)\n",
    "        domainX = torch.cat((pos_smp, neg_smp),0)               # domainX: [64, 24, 1159]\n",
    "        domain_lbl = torch.cat((torch.ones(pos_smp.shape[0]), torch.zeros(neg_smp.shape[0]))).to(device)\n",
    "\n",
    "        # ===== 预测域标签+计算domain_loss\n",
    "        h0 = torch.ones((domainX.shape[0], 1, gru_units),dtype=torch.float32).to(device)\n",
    "        domain_preds = discriminator(domainX, h0)\n",
    "        domain_loss = F.binary_cross_entropy_with_logits(domain_preds, domain_lbl.unsqueeze(1))\n",
    "        domain_loss = torch.abs(domain_loss - 0.5)\n",
    "        \n",
    "        # ===== 处理过的目标域数据经过逆变换生成与目标域数据形状一致的目标域生成数据tgt_data_gen\n",
    "        tgt_data_gen = TranFeatureNet(tgt_data2src_data, 'src2tgt')\n",
    "        # TODO: tgtdt_loss (36) 与 domain_loss (0.7) 的值相差过大怎么办？ ---> 加lambda，在量级上变得一致\n",
    "        # TODO: similarloss 需要重新更改。\n",
    "        # ===== 计算生成的目标域数据与真正的目标与数据差值loss\n",
    "        similar_loss = torch.abs(tgt_data_gen - tgt_data).sum().item() / tgt_data.numel()\n",
    "        batch_loss = domain_loss + dt_similar_lambda * similar_loss\n",
    "'''\n",
    "\n",
    "        src_data = torch.cat((src_data1, src_data2, src_data3),0)\n",
    "        src_pre = torch.cat((src_pre1, src_pre2, src_pre3), 0)\n",
    "\n",
    "\n",
    "    ### Training\n",
    "        optimizer.zero_grad()\n",
    "        tgcnloss = 0\n",
    "                \n",
    "        train_out_item = torch.zeros(src_data.size(0), pre_len, 0)\n",
    "        train_y_item = torch.zeros(src_data.size(0), pre_len, 0)\n",
    "        for i in range((src_num_nodes//tgt_min_num)-1):\n",
    "            adj, speed, pre = get_part_data(i, src_nodes_part, src_adj, src_data, src_pre)\n",
    "            adj = normalized_adj(adj)\n",
    "            adj = adj[:tgt_min_num, :tgt_min_num]\n",
    "            adj = adj.to(device=device,dtype=torch.float32)\n",
    "\n",
    "            X_batch = speed[:,:,:tgt_min_num].permute(1,0,2)\n",
    "            y_batch = pre[:,:,:tgt_min_num]\n",
    "            X_batch = X_batch.to(device=device)\n",
    "            y_batch = y_batch.to(device=device)\n",
    "\n",
    "            h0 = torch.zeros(X_batch.size(1), tgt_min_num, gru_units, dtype=torch.float32).to(device=device)\n",
    "            out = net(adj, X_batch, h0)\n",
    "\n",
    "\n",
    "            train_out_item = torch.cat((train_out_item,out.detach().cpu()),2)\n",
    "            train_y_item = torch.cat((train_y_item,y_batch.detach().cpu()),2)\n",
    "\n",
    "            loss = tgcn_loss(out, y_batch)\n",
    "            tgcnloss = tgcnloss + loss\n",
    "\n",
    "        tgcnloss = tgcnloss / (load_batch_size*3)\n",
    "        tgcn_tlt_loss.append(tgcnloss.item())\n",
    "\n",
    "                \n",
    "        train_out_cpu = train_out_item.detach().cpu().numpy().reshape(-1,train_out_item.size(2))\n",
    "        train_y_cpu = train_y_item.detach().cpu().numpy().reshape(-1,train_out_item.size(2))\n",
    "\n",
    "        train_out_cpu = Normalize(train_out_cpu, src_speed.mean, src_speed.std, src_speed.max, src_speed.min, inv_if_norm)\n",
    "        train_y_cpu = Normalize(train_y_cpu, src_speed.mean, src_speed.std, src_speed.max, src_speed.min, inv_if_norm)\n",
    "\n",
    "        train_rmse, train_mae, train_mape, train_acc, train_r2_score, train_var_score = evaluation(train_y_cpu,train_out_cpu)\n",
    "        \n",
    "        # tqdm.write('TRAIN: rmse={0:.4f}, mae={1:.4f}, acc={2:.4f}, r2={3:.4f}, var={4:.4f}'.format(train_rmse, train_mae, train_acc, train_r2_score, train_var_score))\n",
    "        tgcnloss.backward()\n",
    "        optimizer.step()\n",
    "        \n",
    "        # total_batch_loss += batch_loss.item()\n",
    "        # total_domain_loss += domain_loss.item()\n",
    "        # total_similar_loss += similar_loss\n",
    "\n",
    "    Train_loss.append(sum(tgcn_tlt_loss) / n_batches)\n",
    "    # mean_domain_loss.append(total_domain_loss / n_batches)\n",
    "    # mean_similar_loss.append(total_similar_loss / n_batches)\n",
    "    # mean_total_batch_loss.append(total_batch_loss / n_batches)\n",
    "    print('Trainning loss={0:.4f}'.format(Train_loss[-1]))\n",
    "\n",
    "    with torch.no_grad():\n",
    "        net.eval()\n",
    "        tgt_val_speed = CityDataset(city=tgt_city, typo='speed', seq_len=seq_len, pre_len=pre_len, if_norm=if_norm)\n",
    "        tgt_val_loader = DataLoader(tgt_val_speed, batch_size=tgt_speed.__len__(), pin_memory=True, num_workers=0, shuffle=True)\n",
    "        for i ,(speed, pre) in enumerate(tgt_val_loader):\n",
    "            tgt_dt = speed.to(device)\n",
    "            tgt_pre = pre.to(device)\n",
    "        \n",
    "        out_item = torch.zeros(tgt_dt.size(0), pre_len, 0)\n",
    "        y_item = torch.zeros(tgt_dt.size(0), pre_len, 0)\n",
    "        \n",
    "        for i in range(sub_graph_num):\n",
    "            adj, speed, pre = get_part_data(i, tgt_nodes_part, tgt_adj, tgt_dt, tgt_pre)\n",
    "            adj = normalized_adj(adj)\n",
    "            adj = adj[:tgt_min_num, :tgt_min_num]\n",
    "            adj = adj.to(device=device,dtype=torch.float32)\n",
    "\n",
    "            X_batch = speed[:,:,:tgt_min_num].permute(1,0,2)\n",
    "            y_batch = pre[:,:,:tgt_min_num]\n",
    "            X_batch = X_batch.to(device=device)\n",
    "            y_batch = y_batch.to(device=device)        \n",
    "\n",
    "            h0 = torch.zeros(X_batch.size(1), tgt_min_num, gru_units, dtype=torch.float32).to(device=device)\n",
    "            out = net(adj, X_batch, h0)\n",
    "\n",
    "            out_item = torch.cat((out_item,out.detach().cpu()),2)\n",
    "            y_item = torch.cat((y_item,y_batch.detach().cpu()),2)\n",
    "\n",
    "            loss = tgcn_loss(out, y_batch)\n",
    "            tgcnloss = tgcnloss + loss\n",
    "            # optimizer.step()\n",
    "\n",
    "        tgcnloss = tgcnloss / (tgt_dt.size(0))\n",
    "        Val_loss.append(tgcnloss)\n",
    "        out_cpu = out_item.detach().cpu().numpy().reshape(-1,out_item.size(2))\n",
    "        y_cpu = y_item.detach().cpu().numpy().reshape(-1,out_item.size(2))\n",
    "\n",
    "        out_cpu = Normalize(out_cpu, tgt_speed.mean, tgt_speed.std, tgt_speed.max, tgt_speed.min, inv_if_norm)\n",
    "        y_cpu = Normalize(y_cpu, tgt_speed.mean, tgt_speed.std, tgt_speed.max, tgt_speed.min, inv_if_norm)\n",
    "\n",
    "        rmse, mae, mape, acc, r2_score, var_score = evaluation(y_cpu,out_cpu)\n",
    "\n",
    "        \n",
    "        # validation_pred = []\n",
    "        validation_maes.append(mae)\n",
    "        validation_acc.append(acc)\n",
    "        validation_mape.append(mape)\n",
    "        validation_r2.append(r2_score)\n",
    "        validation_var.append(var_score)\n",
    "        validation_rmse.append(rmse)\n",
    "\n",
    "        print('VAL: rmse={0:.4f}, mae={1:.4f}, mape={2:.4f}, acc={3:.4f}, r2_score={4:.4f}, var_score={5:.4f}'.format(rmse, mae, mape, acc, r2_score, var_score))\n",
    "        print('VAL loss={0:.4f}'.format(Val_loss[-1]))\n",
    "\n",
    "\n",
    "#     if not os.path.exists(cwd+'/pkl'):\n",
    "#         os.makedirs(cwd+'/pkl')\n",
    "#     if validation_mape[-1] < min_mape:\n",
    "#         state = {'TF_model':TranFeatureNet.state_dict(),'D':discriminator.state_dict(), 'net':net.state_dict(), 'min_mape':validation_mape[-1]}\n",
    "#         torch.save(state, cwd+'/pkl/NETS_params.pkl')\n",
    "#         min_mape = validation_mape[-1]\n",
    "\n",
    "    # tqdm.write(f'EPOCH {epoch:03d}: mean_tgcn_tlt_loss={mean_tgcn_tlt_loss[-1]:.4f}, '\n",
    "            #    f'domain_loss={mean_domain_loss[-1]:.4f}, similar_loss={mean_similar_loss[-1]:.4f}, '\n",
    "            #    f'mean_total_batch_loss={mean_total_batch_loss[-1]:.4f}')   \n",
    "\n",
    "    # tqdm.write(f'EPOCH {epoch:03d}: mean_tgcn_tlt_loss={mean_tgcn_tlt_loss[-1]:.4f}, '\n",
    "            #    f'rmse={rmse:.4f}, mae={mae:.4f}, acc={acc:.4f}, r2={r2_score:.4f}, var={var_score:.4f}')\n",
    "\n",
    "np.savez('losses_400',Train_loss=Train_loss, Val_loss=Val_loss, Val_maes=validation_maes, Val_mape=validation_mape, Val_acc=validation_acc, \\\n",
    "                Val_rmse=validation_rmse, Val_r2=validation_r2, Val_var=validation_var)"
   ]
  },
  {
   "cell_type": "code",
   "execution_count": 2,
   "id": "silver-segment",
   "metadata": {},
   "outputs": [
    {
     "data": {
      "text/plain": [
       "4.679330512046814"
      ]
     },
     "execution_count": 2,
     "metadata": {},
     "output_type": "execute_result"
    }
   ],
   "source": [
    "sum(validation_maes) / len(validation_maes)"
   ]
  },
  {
   "cell_type": "code",
   "execution_count": 4,
   "id": "architectural-dialogue",
   "metadata": {},
   "outputs": [
    {
     "data": {
      "text/plain": [
       "6.550581749198373"
      ]
     },
     "execution_count": 4,
     "metadata": {},
     "output_type": "execute_result"
    }
   ],
   "source": [
    "sum(validation_rmse) / len(validation_rmse)"
   ]
  },
  {
   "cell_type": "code",
   "execution_count": null,
   "id": "utility-nirvana",
   "metadata": {},
   "outputs": [],
   "source": [
    "import matplotlib.pyplot as plt\n",
    "plt.plot(np.arange(457), validation_mape)"
   ]
  },
  {
   "cell_type": "code",
   "execution_count": null,
   "id": "technical-arrow",
   "metadata": {},
   "outputs": [],
   "source": [
    "plt.plot(np.arange(457), validation_rmse)"
   ]
  },
  {
   "cell_type": "code",
   "execution_count": null,
   "id": "lasting-statistics",
   "metadata": {},
   "outputs": [],
   "source": []
  }
 ],
 "metadata": {
  "kernelspec": {
   "display_name": "Python 3",
   "language": "python",
   "name": "python3"
  },
  "language_info": {
   "codemirror_mode": {
    "name": "ipython",
    "version": 3
   },
   "file_extension": ".py",
   "mimetype": "text/x-python",
   "name": "python",
   "nbconvert_exporter": "python",
   "pygments_lexer": "ipython3",
   "version": "3.8.3"
  }
 },
 "nbformat": 4,
 "nbformat_minor": 5
}
